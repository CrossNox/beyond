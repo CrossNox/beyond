{
 "cells": [
  {
   "cell_type": "code",
   "execution_count": 1,
   "metadata": {},
   "outputs": [
    {
     "name": "stderr",
     "output_type": "stream",
     "text": [
      "/home/nox/repos/beyond/venv/lib/python3.10/site-packages/tqdm/auto.py:21: TqdmWarning: IProgress not found. Please update jupyter and ipywidgets. See https://ipywidgets.readthedocs.io/en/stable/user_install.html\n",
      "  from .autonotebook import tqdm as notebook_tqdm\n"
     ]
    },
    {
     "data": {
      "text/plain": [
       "'\\nCode For \\nYiping Lu, Aoxiao Zhong, Quanzheng Li, Bin Dong. \"Beyond Finite Layer Neural Network:Bridging Deep Architects and Numerical Differential Equations\" \\nThirty-fifth International Conference on Machine Learning (ICML), 2018\\n\\n@2prime @Aoxiao Zhong\\n\\nAcknowledgement:\\n@pppppass(Zhihan Li)\\n'"
      ]
     },
     "execution_count": 1,
     "metadata": {},
     "output_type": "execute_result"
    }
   ],
   "source": [
    "import os\n",
    "\n",
    "import torch\n",
    "\n",
    "from MResNet import *\n",
    "from MResNetC import *\n",
    "from train import *\n",
    "\n",
    "import seaborn as sns\n",
    "\n",
    "sns.set()\n",
    "\n",
    "\n",
    "\"\"\"\n",
    "Code For \n",
    "Yiping Lu, Aoxiao Zhong, Quanzheng Li, Bin Dong. \"Beyond Finite Layer Neural Network:Bridging Deep Architects and Numerical Differential Equations\" \n",
    "Thirty-fifth International Conference on Machine Learning (ICML), 2018\n",
    "\n",
    "@2prime @Aoxiao Zhong\n",
    "\n",
    "Acknowledgement:\n",
    "@pppppass(Zhihan Li)\n",
    "\"\"\"\n",
    "# %load_ext autoreload\n",
    "# %autoreload 2\n",
    "# os.environ[\"CUDA_VISIBLE_DEVICES\"] = \"0\""
   ]
  },
  {
   "cell_type": "code",
   "execution_count": 2,
   "metadata": {},
   "outputs": [
    {
     "data": {
      "image/png": "[encoded data removed]",
      "text/plain": [
       "<Figure size 640x480 with 1 Axes>"
      ]
     },
     "metadata": {},
     "output_type": "display_data"
    }
   ],
   "source": [
    "xs = [*range(1,161)]\n",
    "ys = [lr_control({80: 0.1, 120: 0.01, 160: 0.001},x) for x in xs]\n",
    "\n",
    "plt.figure()\n",
    "plt.plot(xs, ys)\n",
    "plt.title(\"Curva de learning rate\")\n",
    "plt.ylabel(\"lr\")\n",
    "plt.xlabel(\"Epoch\")\n",
    "plt.show()"
   ]
  },
  {
   "cell_type": "markdown",
   "metadata": {},
   "source": [
    "# Experiments"
   ]
  },
  {
   "cell_type": "markdown",
   "metadata": {},
   "source": [
    "## LMResNet-164"
   ]
  },
  {
   "cell_type": "code",
   "execution_count": 3,
   "metadata": {},
   "outputs": [
    {
     "name": "stdout",
     "output_type": "stream",
     "text": [
      "Files already downloaded and verified\n",
      "Files already downloaded and verified\n"
     ]
    }
   ],
   "source": [
    "batch_size = 128\n",
    "trainloader, testloader = get_cifar10(batch_size)"
   ]
  },
  {
   "cell_type": "code",
   "execution_count": 4,
   "metadata": {
    "scrolled": true
   },
   "outputs": [],
   "source": [
    "from torchinfo import summary\n",
    "from blocks import BasicBlock, Bottleneck\n",
    "from MResNet import MResNet"
   ]
  },
  {
   "cell_type": "code",
   "execution_count": 5,
   "metadata": {
    "scrolled": true
   },
   "outputs": [
    {
     "data": {
      "text/plain": [
       "=====================================================================================================================================================================\n",
       "Layer (type:depth-idx)                   Input Shape               Output Shape              Param #                   Kernel Shape              Mult-Adds\n",
       "=====================================================================================================================================================================\n",
       "MResNet                                  [128, 3, 32, 32]          [128, 10]                 86                        --                        --\n",
       "├─Conv2d: 1-1                            [128, 3, 32, 32]          [128, 16, 32, 32]         432                       [3, 3]                    56,623,104\n",
       "├─Downsample: 1-2                        [128, 16, 32, 32]         [128, 64, 32, 32]         --                        --                        --\n",
       "│    └─Sequential: 2-1                   [128, 16, 32, 32]         [128, 64, 32, 32]         --                        --                        --\n",
       "│    │    └─BatchNorm2d: 3-1             [128, 16, 32, 32]         [128, 16, 32, 32]         32                        --                        4,096\n",
       "│    │    └─ReLU: 3-2                    [128, 16, 32, 32]         [128, 16, 32, 32]         --                        --                        --\n",
       "│    │    └─Conv2d: 3-3                  [128, 16, 32, 32]         [128, 64, 32, 32]         1,024                     [1, 1]                    134,217,728\n",
       "├─ModuleList: 1-7                        --                        --                        (recursive)               --                        --\n",
       "│    └─Bottleneck: 2-2                   [128, 16, 32, 32]         [128, 64, 32, 32]         --                        --                        --\n",
       "│    │    └─BatchNorm2d: 3-4             [128, 16, 32, 32]         [128, 16, 32, 32]         32                        --                        4,096\n",
       "│    │    └─ReLU: 3-5                    [128, 16, 32, 32]         [128, 16, 32, 32]         --                        --                        --\n",
       "│    │    └─Conv2d: 3-6                  [128, 16, 32, 32]         [128, 16, 32, 32]         256                       [1, 1]                    33,554,432\n",
       "│    │    └─BatchNorm2d: 3-7             [128, 16, 32, 32]         [128, 16, 32, 32]         32                        --                        4,096\n",
       "│    │    └─ReLU: 3-8                    [128, 16, 32, 32]         [128, 16, 32, 32]         --                        --                        --\n",
       "│    │    └─Conv2d: 3-9                  [128, 16, 32, 32]         [128, 16, 32, 32]         2,304                     [3, 3]                    301,989,888\n",
       "│    │    └─BatchNorm2d: 3-10            [128, 16, 32, 32]         [128, 16, 32, 32]         32                        --                        4,096\n",
       "│    │    └─ReLU: 3-11                   [128, 16, 32, 32]         [128, 16, 32, 32]         --                        --                        --\n",
       "│    │    └─Conv2d: 3-12                 [128, 16, 32, 32]         [128, 64, 32, 32]         1,024                     [1, 1]                    134,217,728\n",
       "│    └─Bottleneck: 2-3                   [128, 64, 32, 32]         [128, 64, 32, 32]         --                        --                        --\n",
       "│    │    └─BatchNorm2d: 3-13            [128, 64, 32, 32]         [128, 64, 32, 32]         128                       --                        16,384\n",
       "│    │    └─ReLU: 3-14                   [128, 64, 32, 32]         [128, 64, 32, 32]         --                        --                        --\n",
       "│    │    └─Conv2d: 3-15                 [128, 64, 32, 32]         [128, 16, 32, 32]         1,024                     [1, 1]                    134,217,728\n",
       "│    │    └─BatchNorm2d: 3-16            [128, 16, 32, 32]         [128, 16, 32, 32]         32                        --                        4,096\n",
       "│    │    └─ReLU: 3-17                   [128, 16, 32, 32]         [128, 16, 32, 32]         --                        --                        --\n",
       "│    │    └─Conv2d: 3-18                 [128, 16, 32, 32]         [128, 16, 32, 32]         2,304                     [3, 3]                    301,989,888\n",
       "│    │    └─BatchNorm2d: 3-19            [128, 16, 32, 32]         [128, 16, 32, 32]         32                        --                        4,096\n",
       "│    │    └─ReLU: 3-20                   [128, 16, 32, 32]         [128, 16, 32, 32]         --                        --                        --\n",
       "│    │    └─Conv2d: 3-21                 [128, 16, 32, 32]         [128, 64, 32, 32]         1,024                     [1, 1]                    134,217,728\n",
       "│    └─Bottleneck: 2-4                   [128, 64, 32, 32]         [128, 64, 32, 32]         --                        --                        --\n",
       "│    │    └─BatchNorm2d: 3-22            [128, 64, 32, 32]         [128, 64, 32, 32]         128                       --                        16,384\n",
       "│    │    └─ReLU: 3-23                   [128, 64, 32, 32]         [128, 64, 32, 32]         --                        --                        --\n",
       "│    │    └─Conv2d: 3-24                 [128, 64, 32, 32]         [128, 16, 32, 32]         1,024                     [1, 1]                    134,217,728\n",
       "│    │    └─BatchNorm2d: 3-25            [128, 16, 32, 32]         [128, 16, 32, 32]         32                        --                        4,096\n",
       "│    │    └─ReLU: 3-26                   [128, 16, 32, 32]         [128, 16, 32, 32]         --                        --                        --\n",
       "│    │    └─Conv2d: 3-27                 [128, 16, 32, 32]         [128, 16, 32, 32]         2,304                     [3, 3]                    301,989,888\n",
       "│    │    └─BatchNorm2d: 3-28            [128, 16, 32, 32]         [128, 16, 32, 32]         32                        --                        4,096\n",
       "│    │    └─ReLU: 3-29                   [128, 16, 32, 32]         [128, 16, 32, 32]         --                        --                        --\n",
       "│    │    └─Conv2d: 3-30                 [128, 16, 32, 32]         [128, 64, 32, 32]         1,024                     [1, 1]                    134,217,728\n",
       "│    └─Bottleneck: 2-5                   [128, 64, 32, 32]         [128, 64, 32, 32]         --                        --                        --\n",
       "│    │    └─BatchNorm2d: 3-31            [128, 64, 32, 32]         [128, 64, 32, 32]         128                       --                        16,384\n",
       "│    │    └─ReLU: 3-32                   [128, 64, 32, 32]         [128, 64, 32, 32]         --                        --                        --\n",
       "│    │    └─Conv2d: 3-33                 [128, 64, 32, 32]         [128, 16, 32, 32]         1,024                     [1, 1]                    134,217,728\n",
       "│    │    └─BatchNorm2d: 3-34            [128, 16, 32, 32]         [128, 16, 32, 32]         32                        --                        4,096\n",
       "│    │    └─ReLU: 3-35                   [128, 16, 32, 32]         [128, 16, 32, 32]         --                        --                        --\n",
       "│    │    └─Conv2d: 3-36                 [128, 16, 32, 32]         [128, 16, 32, 32]         2,304                     [3, 3]                    301,989,888\n",
       "│    │    └─BatchNorm2d: 3-37            [128, 16, 32, 32]         [128, 16, 32, 32]         32                        --                        4,096\n",
       "│    │    └─ReLU: 3-38                   [128, 16, 32, 32]         [128, 16, 32, 32]         --                        --                        --\n",
       "│    │    └─Conv2d: 3-39                 [128, 16, 32, 32]         [128, 64, 32, 32]         1,024                     [1, 1]                    134,217,728\n",
       "│    └─Bottleneck: 2-6                   [128, 64, 32, 32]         [128, 64, 32, 32]         --                        --                        --\n",
       "│    │    └─BatchNorm2d: 3-40            [128, 64, 32, 32]         [128, 64, 32, 32]         128                       --                        16,384\n",
       "│    │    └─ReLU: 3-41                   [128, 64, 32, 32]         [128, 64, 32, 32]         --                        --                        --\n",
       "│    │    └─Conv2d: 3-42                 [128, 64, 32, 32]         [128, 16, 32, 32]         1,024                     [1, 1]                    134,217,728\n",
       "│    │    └─BatchNorm2d: 3-43            [128, 16, 32, 32]         [128, 16, 32, 32]         32                        --                        4,096\n",
       "│    │    └─ReLU: 3-44                   [128, 16, 32, 32]         [128, 16, 32, 32]         --                        --                        --\n",
       "│    │    └─Conv2d: 3-45                 [128, 16, 32, 32]         [128, 16, 32, 32]         2,304                     [3, 3]                    301,989,888\n",
       "│    │    └─BatchNorm2d: 3-46            [128, 16, 32, 32]         [128, 16, 32, 32]         32                        --                        4,096\n",
       "│    │    └─ReLU: 3-47                   [128, 16, 32, 32]         [128, 16, 32, 32]         --                        --                        --\n",
       "│    │    └─Conv2d: 3-48                 [128, 16, 32, 32]         [128, 64, 32, 32]         1,024                     [1, 1]                    134,217,728\n",
       "│    └─Bottleneck: 2-7                   [128, 64, 32, 32]         [128, 64, 32, 32]         --                        --                        --\n",
       "│    │    └─BatchNorm2d: 3-49            [128, 64, 32, 32]         [128, 64, 32, 32]         128                       --                        16,384\n",
       "│    │    └─ReLU: 3-50                   [128, 64, 32, 32]         [128, 64, 32, 32]         --                        --                        --\n",
       "│    │    └─Conv2d: 3-51                 [128, 64, 32, 32]         [128, 16, 32, 32]         1,024                     [1, 1]                    134,217,728\n",
       "│    │    └─BatchNorm2d: 3-52            [128, 16, 32, 32]         [128, 16, 32, 32]         32                        --                        4,096\n",
       "│    │    └─ReLU: 3-53                   [128, 16, 32, 32]         [128, 16, 32, 32]         --                        --                        --\n",
       "│    │    └─Conv2d: 3-54                 [128, 16, 32, 32]         [128, 16, 32, 32]         2,304                     [3, 3]                    301,989,888\n",
       "│    │    └─BatchNorm2d: 3-55            [128, 16, 32, 32]         [128, 16, 32, 32]         32                        --                        4,096\n",
       "│    │    └─ReLU: 3-56                   [128, 16, 32, 32]         [128, 16, 32, 32]         --                        --                        --\n",
       "│    │    └─Conv2d: 3-57                 [128, 16, 32, 32]         [128, 64, 32, 32]         1,024                     [1, 1]                    134,217,728\n",
       "│    └─Bottleneck: 2-8                   [128, 64, 32, 32]         [128, 64, 32, 32]         --                        --                        --\n",
       "│    │    └─BatchNorm2d: 3-58            [128, 64, 32, 32]         [128, 64, 32, 32]         128                       --                        16,384\n",
       "│    │    └─ReLU: 3-59                   [128, 64, 32, 32]         [128, 64, 32, 32]         --                        --                        --\n",
       "│    │    └─Conv2d: 3-60                 [128, 64, 32, 32]         [128, 16, 32, 32]         1,024                     [1, 1]                    134,217,728\n",
       "│    │    └─BatchNorm2d: 3-61            [128, 16, 32, 32]         [128, 16, 32, 32]         32                        --                        4,096\n",
       "│    │    └─ReLU: 3-62                   [128, 16, 32, 32]         [128, 16, 32, 32]         --                        --                        --\n",
       "│    │    └─Conv2d: 3-63                 [128, 16, 32, 32]         [128, 16, 32, 32]         2,304                     [3, 3]                    301,989,888\n",
       "│    │    └─BatchNorm2d: 3-64            [128, 16, 32, 32]         [128, 16, 32, 32]         32                        --                        4,096\n",
       "│    │    └─ReLU: 3-65                   [128, 16, 32, 32]         [128, 16, 32, 32]         --                        --                        --\n",
       "│    │    └─Conv2d: 3-66                 [128, 16, 32, 32]         [128, 64, 32, 32]         1,024                     [1, 1]                    134,217,728\n",
       "│    └─Bottleneck: 2-9                   [128, 64, 32, 32]         [128, 64, 32, 32]         --                        --                        --\n",
       "│    │    └─BatchNorm2d: 3-67            [128, 64, 32, 32]         [128, 64, 32, 32]         128                       --                        16,384\n",
       "│    │    └─ReLU: 3-68                   [128, 64, 32, 32]         [128, 64, 32, 32]         --                        --                        --\n",
       "│    │    └─Conv2d: 3-69                 [128, 64, 32, 32]         [128, 16, 32, 32]         1,024                     [1, 1]                    134,217,728\n",
       "│    │    └─BatchNorm2d: 3-70            [128, 16, 32, 32]         [128, 16, 32, 32]         32                        --                        4,096\n",
       "│    │    └─ReLU: 3-71                   [128, 16, 32, 32]         [128, 16, 32, 32]         --                        --                        --\n",
       "│    │    └─Conv2d: 3-72                 [128, 16, 32, 32]         [128, 16, 32, 32]         2,304                     [3, 3]                    301,989,888\n",
       "│    │    └─BatchNorm2d: 3-73            [128, 16, 32, 32]         [128, 16, 32, 32]         32                        --                        4,096\n",
       "│    │    └─ReLU: 3-74                   [128, 16, 32, 32]         [128, 16, 32, 32]         --                        --                        --\n",
       "│    │    └─Conv2d: 3-75                 [128, 16, 32, 32]         [128, 64, 32, 32]         1,024                     [1, 1]                    134,217,728\n",
       "│    └─Bottleneck: 2-10                  [128, 64, 32, 32]         [128, 64, 32, 32]         --                        --                        --\n",
       "│    │    └─BatchNorm2d: 3-76            [128, 64, 32, 32]         [128, 64, 32, 32]         128                       --                        16,384\n",
       "│    │    └─ReLU: 3-77                   [128, 64, 32, 32]         [128, 64, 32, 32]         --                        --                        --\n",
       "│    │    └─Conv2d: 3-78                 [128, 64, 32, 32]         [128, 16, 32, 32]         1,024                     [1, 1]                    134,217,728\n",
       "│    │    └─BatchNorm2d: 3-79            [128, 16, 32, 32]         [128, 16, 32, 32]         32                        --                        4,096\n",
       "│    │    └─ReLU: 3-80                   [128, 16, 32, 32]         [128, 16, 32, 32]         --                        --                        --\n",
       "│    │    └─Conv2d: 3-81                 [128, 16, 32, 32]         [128, 16, 32, 32]         2,304                     [3, 3]                    301,989,888\n",
       "│    │    └─BatchNorm2d: 3-82            [128, 16, 32, 32]         [128, 16, 32, 32]         32                        --                        4,096\n",
       "│    │    └─ReLU: 3-83                   [128, 16, 32, 32]         [128, 16, 32, 32]         --                        --                        --\n",
       "│    │    └─Conv2d: 3-84                 [128, 16, 32, 32]         [128, 64, 32, 32]         1,024                     [1, 1]                    134,217,728\n",
       "│    └─Bottleneck: 2-11                  [128, 64, 32, 32]         [128, 64, 32, 32]         --                        --                        --\n",
       "│    │    └─BatchNorm2d: 3-85            [128, 64, 32, 32]         [128, 64, 32, 32]         128                       --                        16,384\n",
       "│    │    └─ReLU: 3-86                   [128, 64, 32, 32]         [128, 64, 32, 32]         --                        --                        --\n",
       "│    │    └─Conv2d: 3-87                 [128, 64, 32, 32]         [128, 16, 32, 32]         1,024                     [1, 1]                    134,217,728\n",
       "│    │    └─BatchNorm2d: 3-88            [128, 16, 32, 32]         [128, 16, 32, 32]         32                        --                        4,096\n",
       "│    │    └─ReLU: 3-89                   [128, 16, 32, 32]         [128, 16, 32, 32]         --                        --                        --\n",
       "│    │    └─Conv2d: 3-90                 [128, 16, 32, 32]         [128, 16, 32, 32]         2,304                     [3, 3]                    301,989,888\n",
       "│    │    └─BatchNorm2d: 3-91            [128, 16, 32, 32]         [128, 16, 32, 32]         32                        --                        4,096\n",
       "│    │    └─ReLU: 3-92                   [128, 16, 32, 32]         [128, 16, 32, 32]         --                        --                        --\n",
       "│    │    └─Conv2d: 3-93                 [128, 16, 32, 32]         [128, 64, 32, 32]         1,024                     [1, 1]                    134,217,728\n",
       "│    └─Bottleneck: 2-12                  [128, 64, 32, 32]         [128, 64, 32, 32]         --                        --                        --\n",
       "│    │    └─BatchNorm2d: 3-94            [128, 64, 32, 32]         [128, 64, 32, 32]         128                       --                        16,384\n",
       "│    │    └─ReLU: 3-95                   [128, 64, 32, 32]         [128, 64, 32, 32]         --                        --                        --\n",
       "│    │    └─Conv2d: 3-96                 [128, 64, 32, 32]         [128, 16, 32, 32]         1,024                     [1, 1]                    134,217,728\n",
       "│    │    └─BatchNorm2d: 3-97            [128, 16, 32, 32]         [128, 16, 32, 32]         32                        --                        4,096\n",
       "│    │    └─ReLU: 3-98                   [128, 16, 32, 32]         [128, 16, 32, 32]         --                        --                        --\n",
       "│    │    └─Conv2d: 3-99                 [128, 16, 32, 32]         [128, 16, 32, 32]         2,304                     [3, 3]                    301,989,888\n",
       "│    │    └─BatchNorm2d: 3-100           [128, 16, 32, 32]         [128, 16, 32, 32]         32                        --                        4,096\n",
       "│    │    └─ReLU: 3-101                  [128, 16, 32, 32]         [128, 16, 32, 32]         --                        --                        --\n",
       "│    │    └─Conv2d: 3-102                [128, 16, 32, 32]         [128, 64, 32, 32]         1,024                     [1, 1]                    134,217,728\n",
       "│    └─Bottleneck: 2-13                  [128, 64, 32, 32]         [128, 64, 32, 32]         --                        --                        --\n",
       "│    │    └─BatchNorm2d: 3-103           [128, 64, 32, 32]         [128, 64, 32, 32]         128                       --                        16,384\n",
       "│    │    └─ReLU: 3-104                  [128, 64, 32, 32]         [128, 64, 32, 32]         --                        --                        --\n",
       "│    │    └─Conv2d: 3-105                [128, 64, 32, 32]         [128, 16, 32, 32]         1,024                     [1, 1]                    134,217,728\n",
       "│    │    └─BatchNorm2d: 3-106           [128, 16, 32, 32]         [128, 16, 32, 32]         32                        --                        4,096\n",
       "│    │    └─ReLU: 3-107                  [128, 16, 32, 32]         [128, 16, 32, 32]         --                        --                        --\n",
       "│    │    └─Conv2d: 3-108                [128, 16, 32, 32]         [128, 16, 32, 32]         2,304                     [3, 3]                    301,989,888\n",
       "│    │    └─BatchNorm2d: 3-109           [128, 16, 32, 32]         [128, 16, 32, 32]         32                        --                        4,096\n",
       "│    │    └─ReLU: 3-110                  [128, 16, 32, 32]         [128, 16, 32, 32]         --                        --                        --\n",
       "│    │    └─Conv2d: 3-111                [128, 16, 32, 32]         [128, 64, 32, 32]         1,024                     [1, 1]                    134,217,728\n",
       "│    └─Bottleneck: 2-14                  [128, 64, 32, 32]         [128, 64, 32, 32]         --                        --                        --\n",
       "│    │    └─BatchNorm2d: 3-112           [128, 64, 32, 32]         [128, 64, 32, 32]         128                       --                        16,384\n",
       "│    │    └─ReLU: 3-113                  [128, 64, 32, 32]         [128, 64, 32, 32]         --                        --                        --\n",
       "│    │    └─Conv2d: 3-114                [128, 64, 32, 32]         [128, 16, 32, 32]         1,024                     [1, 1]                    134,217,728\n",
       "│    │    └─BatchNorm2d: 3-115           [128, 16, 32, 32]         [128, 16, 32, 32]         32                        --                        4,096\n",
       "│    │    └─ReLU: 3-116                  [128, 16, 32, 32]         [128, 16, 32, 32]         --                        --                        --\n",
       "│    │    └─Conv2d: 3-117                [128, 16, 32, 32]         [128, 16, 32, 32]         2,304                     [3, 3]                    301,989,888\n",
       "│    │    └─BatchNorm2d: 3-118           [128, 16, 32, 32]         [128, 16, 32, 32]         32                        --                        4,096\n",
       "│    │    └─ReLU: 3-119                  [128, 16, 32, 32]         [128, 16, 32, 32]         --                        --                        --\n",
       "│    │    └─Conv2d: 3-120                [128, 16, 32, 32]         [128, 64, 32, 32]         1,024                     [1, 1]                    134,217,728\n",
       "│    └─Bottleneck: 2-15                  [128, 64, 32, 32]         [128, 64, 32, 32]         --                        --                        --\n",
       "│    │    └─BatchNorm2d: 3-121           [128, 64, 32, 32]         [128, 64, 32, 32]         128                       --                        16,384\n",
       "│    │    └─ReLU: 3-122                  [128, 64, 32, 32]         [128, 64, 32, 32]         --                        --                        --\n",
       "│    │    └─Conv2d: 3-123                [128, 64, 32, 32]         [128, 16, 32, 32]         1,024                     [1, 1]                    134,217,728\n",
       "│    │    └─BatchNorm2d: 3-124           [128, 16, 32, 32]         [128, 16, 32, 32]         32                        --                        4,096\n",
       "│    │    └─ReLU: 3-125                  [128, 16, 32, 32]         [128, 16, 32, 32]         --                        --                        --\n",
       "│    │    └─Conv2d: 3-126                [128, 16, 32, 32]         [128, 16, 32, 32]         2,304                     [3, 3]                    301,989,888\n",
       "│    │    └─BatchNorm2d: 3-127           [128, 16, 32, 32]         [128, 16, 32, 32]         32                        --                        4,096\n",
       "│    │    └─ReLU: 3-128                  [128, 16, 32, 32]         [128, 16, 32, 32]         --                        --                        --\n",
       "│    │    └─Conv2d: 3-129                [128, 16, 32, 32]         [128, 64, 32, 32]         1,024                     [1, 1]                    134,217,728\n",
       "│    └─Bottleneck: 2-16                  [128, 64, 32, 32]         [128, 64, 32, 32]         --                        --                        --\n",
       "│    │    └─BatchNorm2d: 3-130           [128, 64, 32, 32]         [128, 64, 32, 32]         128                       --                        16,384\n",
       "│    │    └─ReLU: 3-131                  [128, 64, 32, 32]         [128, 64, 32, 32]         --                        --                        --\n",
       "│    │    └─Conv2d: 3-132                [128, 64, 32, 32]         [128, 16, 32, 32]         1,024                     [1, 1]                    134,217,728\n",
       "│    │    └─BatchNorm2d: 3-133           [128, 16, 32, 32]         [128, 16, 32, 32]         32                        --                        4,096\n",
       "│    │    └─ReLU: 3-134                  [128, 16, 32, 32]         [128, 16, 32, 32]         --                        --                        --\n",
       "│    │    └─Conv2d: 3-135                [128, 16, 32, 32]         [128, 16, 32, 32]         2,304                     [3, 3]                    301,989,888\n",
       "│    │    └─BatchNorm2d: 3-136           [128, 16, 32, 32]         [128, 16, 32, 32]         32                        --                        4,096\n",
       "│    │    └─ReLU: 3-137                  [128, 16, 32, 32]         [128, 16, 32, 32]         --                        --                        --\n",
       "│    │    └─Conv2d: 3-138                [128, 16, 32, 32]         [128, 64, 32, 32]         1,024                     [1, 1]                    134,217,728\n",
       "│    └─Bottleneck: 2-17                  [128, 64, 32, 32]         [128, 64, 32, 32]         --                        --                        --\n",
       "│    │    └─BatchNorm2d: 3-139           [128, 64, 32, 32]         [128, 64, 32, 32]         128                       --                        16,384\n",
       "│    │    └─ReLU: 3-140                  [128, 64, 32, 32]         [128, 64, 32, 32]         --                        --                        --\n",
       "│    │    └─Conv2d: 3-141                [128, 64, 32, 32]         [128, 16, 32, 32]         1,024                     [1, 1]                    134,217,728\n",
       "│    │    └─BatchNorm2d: 3-142           [128, 16, 32, 32]         [128, 16, 32, 32]         32                        --                        4,096\n",
       "│    │    └─ReLU: 3-143                  [128, 16, 32, 32]         [128, 16, 32, 32]         --                        --                        --\n",
       "│    │    └─Conv2d: 3-144                [128, 16, 32, 32]         [128, 16, 32, 32]         2,304                     [3, 3]                    301,989,888\n",
       "│    │    └─BatchNorm2d: 3-145           [128, 16, 32, 32]         [128, 16, 32, 32]         32                        --                        4,096\n",
       "│    │    └─ReLU: 3-146                  [128, 16, 32, 32]         [128, 16, 32, 32]         --                        --                        --\n",
       "│    │    └─Conv2d: 3-147                [128, 16, 32, 32]         [128, 64, 32, 32]         1,024                     [1, 1]                    134,217,728\n",
       "│    └─Bottleneck: 2-18                  [128, 64, 32, 32]         [128, 64, 32, 32]         --                        --                        --\n",
       "│    │    └─BatchNorm2d: 3-148           [128, 64, 32, 32]         [128, 64, 32, 32]         128                       --                        16,384\n",
       "│    │    └─ReLU: 3-149                  [128, 64, 32, 32]         [128, 64, 32, 32]         --                        --                        --\n",
       "│    │    └─Conv2d: 3-150                [128, 64, 32, 32]         [128, 16, 32, 32]         1,024                     [1, 1]                    134,217,728\n",
       "│    │    └─BatchNorm2d: 3-151           [128, 16, 32, 32]         [128, 16, 32, 32]         32                        --                        4,096\n",
       "│    │    └─ReLU: 3-152                  [128, 16, 32, 32]         [128, 16, 32, 32]         --                        --                        --\n",
       "│    │    └─Conv2d: 3-153                [128, 16, 32, 32]         [128, 16, 32, 32]         2,304                     [3, 3]                    301,989,888\n",
       "│    │    └─BatchNorm2d: 3-154           [128, 16, 32, 32]         [128, 16, 32, 32]         32                        --                        4,096\n",
       "│    │    └─ReLU: 3-155                  [128, 16, 32, 32]         [128, 16, 32, 32]         --                        --                        --\n",
       "│    │    └─Conv2d: 3-156                [128, 16, 32, 32]         [128, 64, 32, 32]         1,024                     [1, 1]                    134,217,728\n",
       "│    └─Bottleneck: 2-19                  [128, 64, 32, 32]         [128, 64, 32, 32]         --                        --                        --\n",
       "│    │    └─BatchNorm2d: 3-157           [128, 64, 32, 32]         [128, 64, 32, 32]         128                       --                        16,384\n",
       "│    │    └─ReLU: 3-158                  [128, 64, 32, 32]         [128, 64, 32, 32]         --                        --                        --\n",
       "│    │    └─Conv2d: 3-159                [128, 64, 32, 32]         [128, 16, 32, 32]         1,024                     [1, 1]                    134,217,728\n",
       "│    │    └─BatchNorm2d: 3-160           [128, 16, 32, 32]         [128, 16, 32, 32]         32                        --                        4,096\n",
       "│    │    └─ReLU: 3-161                  [128, 16, 32, 32]         [128, 16, 32, 32]         --                        --                        --\n",
       "│    │    └─Conv2d: 3-162                [128, 16, 32, 32]         [128, 16, 32, 32]         2,304                     [3, 3]                    301,989,888\n",
       "│    │    └─BatchNorm2d: 3-163           [128, 16, 32, 32]         [128, 16, 32, 32]         32                        --                        4,096\n",
       "│    │    └─ReLU: 3-164                  [128, 16, 32, 32]         [128, 16, 32, 32]         --                        --                        --\n",
       "│    │    └─Conv2d: 3-165                [128, 16, 32, 32]         [128, 64, 32, 32]         1,024                     [1, 1]                    134,217,728\n",
       "├─Downsample: 1-4                        [128, 64, 32, 32]         [128, 128, 16, 16]        --                        --                        --\n",
       "│    └─Sequential: 2-20                  [128, 64, 32, 32]         [128, 128, 16, 16]        --                        --                        --\n",
       "│    │    └─BatchNorm2d: 3-166           [128, 64, 32, 32]         [128, 64, 32, 32]         128                       --                        16,384\n",
       "│    │    └─ReLU: 3-167                  [128, 64, 32, 32]         [128, 64, 32, 32]         --                        --                        --\n",
       "│    │    └─Conv2d: 3-168                [128, 64, 32, 32]         [128, 128, 16, 16]        8,192                     [1, 1]                    268,435,456\n",
       "├─ModuleList: 1-7                        --                        --                        (recursive)               --                        --\n",
       "│    └─Bottleneck: 2-21                  [128, 64, 32, 32]         [128, 128, 16, 16]        --                        --                        --\n",
       "│    │    └─BatchNorm2d: 3-169           [128, 64, 32, 32]         [128, 64, 32, 32]         128                       --                        16,384\n",
       "│    │    └─ReLU: 3-170                  [128, 64, 32, 32]         [128, 64, 32, 32]         --                        --                        --\n",
       "│    │    └─Conv2d: 3-171                [128, 64, 32, 32]         [128, 32, 32, 32]         2,048                     [1, 1]                    268,435,456\n",
       "│    │    └─BatchNorm2d: 3-172           [128, 32, 32, 32]         [128, 32, 32, 32]         64                        --                        8,192\n",
       "│    │    └─ReLU: 3-173                  [128, 32, 32, 32]         [128, 32, 32, 32]         --                        --                        --\n",
       "│    │    └─Conv2d: 3-174                [128, 32, 32, 32]         [128, 32, 16, 16]         9,216                     [3, 3]                    301,989,888\n",
       "│    │    └─BatchNorm2d: 3-175           [128, 32, 16, 16]         [128, 32, 16, 16]         64                        --                        8,192\n",
       "│    │    └─ReLU: 3-176                  [128, 32, 16, 16]         [128, 32, 16, 16]         --                        --                        --\n",
       "│    │    └─Conv2d: 3-177                [128, 32, 16, 16]         [128, 128, 16, 16]        4,096                     [1, 1]                    134,217,728\n",
       "│    └─Bottleneck: 2-22                  [128, 128, 16, 16]        [128, 128, 16, 16]        --                        --                        --\n",
       "│    │    └─BatchNorm2d: 3-178           [128, 128, 16, 16]        [128, 128, 16, 16]        256                       --                        32,768\n",
       "│    │    └─ReLU: 3-179                  [128, 128, 16, 16]        [128, 128, 16, 16]        --                        --                        --\n",
       "│    │    └─Conv2d: 3-180                [128, 128, 16, 16]        [128, 32, 16, 16]         4,096                     [1, 1]                    134,217,728\n",
       "│    │    └─BatchNorm2d: 3-181           [128, 32, 16, 16]         [128, 32, 16, 16]         64                        --                        8,192\n",
       "│    │    └─ReLU: 3-182                  [128, 32, 16, 16]         [128, 32, 16, 16]         --                        --                        --\n",
       "│    │    └─Conv2d: 3-183                [128, 32, 16, 16]         [128, 32, 16, 16]         9,216                     [3, 3]                    301,989,888\n",
       "│    │    └─BatchNorm2d: 3-184           [128, 32, 16, 16]         [128, 32, 16, 16]         64                        --                        8,192\n",
       "│    │    └─ReLU: 3-185                  [128, 32, 16, 16]         [128, 32, 16, 16]         --                        --                        --\n",
       "│    │    └─Conv2d: 3-186                [128, 32, 16, 16]         [128, 128, 16, 16]        4,096                     [1, 1]                    134,217,728\n",
       "│    └─Bottleneck: 2-23                  [128, 128, 16, 16]        [128, 128, 16, 16]        --                        --                        --\n",
       "│    │    └─BatchNorm2d: 3-187           [128, 128, 16, 16]        [128, 128, 16, 16]        256                       --                        32,768\n",
       "│    │    └─ReLU: 3-188                  [128, 128, 16, 16]        [128, 128, 16, 16]        --                        --                        --\n",
       "│    │    └─Conv2d: 3-189                [128, 128, 16, 16]        [128, 32, 16, 16]         4,096                     [1, 1]                    134,217,728\n",
       "│    │    └─BatchNorm2d: 3-190           [128, 32, 16, 16]         [128, 32, 16, 16]         64                        --                        8,192\n",
       "│    │    └─ReLU: 3-191                  [128, 32, 16, 16]         [128, 32, 16, 16]         --                        --                        --\n",
       "│    │    └─Conv2d: 3-192                [128, 32, 16, 16]         [128, 32, 16, 16]         9,216                     [3, 3]                    301,989,888\n",
       "│    │    └─BatchNorm2d: 3-193           [128, 32, 16, 16]         [128, 32, 16, 16]         64                        --                        8,192\n",
       "│    │    └─ReLU: 3-194                  [128, 32, 16, 16]         [128, 32, 16, 16]         --                        --                        --\n",
       "│    │    └─Conv2d: 3-195                [128, 32, 16, 16]         [128, 128, 16, 16]        4,096                     [1, 1]                    134,217,728\n",
       "│    └─Bottleneck: 2-24                  [128, 128, 16, 16]        [128, 128, 16, 16]        --                        --                        --\n",
       "│    │    └─BatchNorm2d: 3-196           [128, 128, 16, 16]        [128, 128, 16, 16]        256                       --                        32,768\n",
       "│    │    └─ReLU: 3-197                  [128, 128, 16, 16]        [128, 128, 16, 16]        --                        --                        --\n",
       "│    │    └─Conv2d: 3-198                [128, 128, 16, 16]        [128, 32, 16, 16]         4,096                     [1, 1]                    134,217,728\n",
       "│    │    └─BatchNorm2d: 3-199           [128, 32, 16, 16]         [128, 32, 16, 16]         64                        --                        8,192\n",
       "│    │    └─ReLU: 3-200                  [128, 32, 16, 16]         [128, 32, 16, 16]         --                        --                        --\n",
       "│    │    └─Conv2d: 3-201                [128, 32, 16, 16]         [128, 32, 16, 16]         9,216                     [3, 3]                    301,989,888\n",
       "│    │    └─BatchNorm2d: 3-202           [128, 32, 16, 16]         [128, 32, 16, 16]         64                        --                        8,192\n",
       "│    │    └─ReLU: 3-203                  [128, 32, 16, 16]         [128, 32, 16, 16]         --                        --                        --\n",
       "│    │    └─Conv2d: 3-204                [128, 32, 16, 16]         [128, 128, 16, 16]        4,096                     [1, 1]                    134,217,728\n",
       "│    └─Bottleneck: 2-25                  [128, 128, 16, 16]        [128, 128, 16, 16]        --                        --                        --\n",
       "│    │    └─BatchNorm2d: 3-205           [128, 128, 16, 16]        [128, 128, 16, 16]        256                       --                        32,768\n",
       "│    │    └─ReLU: 3-206                  [128, 128, 16, 16]        [128, 128, 16, 16]        --                        --                        --\n",
       "│    │    └─Conv2d: 3-207                [128, 128, 16, 16]        [128, 32, 16, 16]         4,096                     [1, 1]                    134,217,728\n",
       "│    │    └─BatchNorm2d: 3-208           [128, 32, 16, 16]         [128, 32, 16, 16]         64                        --                        8,192\n",
       "│    │    └─ReLU: 3-209                  [128, 32, 16, 16]         [128, 32, 16, 16]         --                        --                        --\n",
       "│    │    └─Conv2d: 3-210                [128, 32, 16, 16]         [128, 32, 16, 16]         9,216                     [3, 3]                    301,989,888\n",
       "│    │    └─BatchNorm2d: 3-211           [128, 32, 16, 16]         [128, 32, 16, 16]         64                        --                        8,192\n",
       "│    │    └─ReLU: 3-212                  [128, 32, 16, 16]         [128, 32, 16, 16]         --                        --                        --\n",
       "│    │    └─Conv2d: 3-213                [128, 32, 16, 16]         [128, 128, 16, 16]        4,096                     [1, 1]                    134,217,728\n",
       "│    └─Bottleneck: 2-26                  [128, 128, 16, 16]        [128, 128, 16, 16]        --                        --                        --\n",
       "│    │    └─BatchNorm2d: 3-214           [128, 128, 16, 16]        [128, 128, 16, 16]        256                       --                        32,768\n",
       "│    │    └─ReLU: 3-215                  [128, 128, 16, 16]        [128, 128, 16, 16]        --                        --                        --\n",
       "│    │    └─Conv2d: 3-216                [128, 128, 16, 16]        [128, 32, 16, 16]         4,096                     [1, 1]                    134,217,728\n",
       "│    │    └─BatchNorm2d: 3-217           [128, 32, 16, 16]         [128, 32, 16, 16]         64                        --                        8,192\n",
       "│    │    └─ReLU: 3-218                  [128, 32, 16, 16]         [128, 32, 16, 16]         --                        --                        --\n",
       "│    │    └─Conv2d: 3-219                [128, 32, 16, 16]         [128, 32, 16, 16]         9,216                     [3, 3]                    301,989,888\n",
       "│    │    └─BatchNorm2d: 3-220           [128, 32, 16, 16]         [128, 32, 16, 16]         64                        --                        8,192\n",
       "│    │    └─ReLU: 3-221                  [128, 32, 16, 16]         [128, 32, 16, 16]         --                        --                        --\n",
       "│    │    └─Conv2d: 3-222                [128, 32, 16, 16]         [128, 128, 16, 16]        4,096                     [1, 1]                    134,217,728\n",
       "│    └─Bottleneck: 2-27                  [128, 128, 16, 16]        [128, 128, 16, 16]        --                        --                        --\n",
       "│    │    └─BatchNorm2d: 3-223           [128, 128, 16, 16]        [128, 128, 16, 16]        256                       --                        32,768\n",
       "│    │    └─ReLU: 3-224                  [128, 128, 16, 16]        [128, 128, 16, 16]        --                        --                        --\n",
       "│    │    └─Conv2d: 3-225                [128, 128, 16, 16]        [128, 32, 16, 16]         4,096                     [1, 1]                    134,217,728\n",
       "│    │    └─BatchNorm2d: 3-226           [128, 32, 16, 16]         [128, 32, 16, 16]         64                        --                        8,192\n",
       "│    │    └─ReLU: 3-227                  [128, 32, 16, 16]         [128, 32, 16, 16]         --                        --                        --\n",
       "│    │    └─Conv2d: 3-228                [128, 32, 16, 16]         [128, 32, 16, 16]         9,216                     [3, 3]                    301,989,888\n",
       "│    │    └─BatchNorm2d: 3-229           [128, 32, 16, 16]         [128, 32, 16, 16]         64                        --                        8,192\n",
       "│    │    └─ReLU: 3-230                  [128, 32, 16, 16]         [128, 32, 16, 16]         --                        --                        --\n",
       "│    │    └─Conv2d: 3-231                [128, 32, 16, 16]         [128, 128, 16, 16]        4,096                     [1, 1]                    134,217,728\n",
       "│    └─Bottleneck: 2-28                  [128, 128, 16, 16]        [128, 128, 16, 16]        --                        --                        --\n",
       "│    │    └─BatchNorm2d: 3-232           [128, 128, 16, 16]        [128, 128, 16, 16]        256                       --                        32,768\n",
       "│    │    └─ReLU: 3-233                  [128, 128, 16, 16]        [128, 128, 16, 16]        --                        --                        --\n",
       "│    │    └─Conv2d: 3-234                [128, 128, 16, 16]        [128, 32, 16, 16]         4,096                     [1, 1]                    134,217,728\n",
       "│    │    └─BatchNorm2d: 3-235           [128, 32, 16, 16]         [128, 32, 16, 16]         64                        --                        8,192\n",
       "│    │    └─ReLU: 3-236                  [128, 32, 16, 16]         [128, 32, 16, 16]         --                        --                        --\n",
       "│    │    └─Conv2d: 3-237                [128, 32, 16, 16]         [128, 32, 16, 16]         9,216                     [3, 3]                    301,989,888\n",
       "│    │    └─BatchNorm2d: 3-238           [128, 32, 16, 16]         [128, 32, 16, 16]         64                        --                        8,192\n",
       "│    │    └─ReLU: 3-239                  [128, 32, 16, 16]         [128, 32, 16, 16]         --                        --                        --\n",
       "│    │    └─Conv2d: 3-240                [128, 32, 16, 16]         [128, 128, 16, 16]        4,096                     [1, 1]                    134,217,728\n",
       "│    └─Bottleneck: 2-29                  [128, 128, 16, 16]        [128, 128, 16, 16]        --                        --                        --\n",
       "│    │    └─BatchNorm2d: 3-241           [128, 128, 16, 16]        [128, 128, 16, 16]        256                       --                        32,768\n",
       "│    │    └─ReLU: 3-242                  [128, 128, 16, 16]        [128, 128, 16, 16]        --                        --                        --\n",
       "│    │    └─Conv2d: 3-243                [128, 128, 16, 16]        [128, 32, 16, 16]         4,096                     [1, 1]                    134,217,728\n",
       "│    │    └─BatchNorm2d: 3-244           [128, 32, 16, 16]         [128, 32, 16, 16]         64                        --                        8,192\n",
       "│    │    └─ReLU: 3-245                  [128, 32, 16, 16]         [128, 32, 16, 16]         --                        --                        --\n",
       "│    │    └─Conv2d: 3-246                [128, 32, 16, 16]         [128, 32, 16, 16]         9,216                     [3, 3]                    301,989,888\n",
       "│    │    └─BatchNorm2d: 3-247           [128, 32, 16, 16]         [128, 32, 16, 16]         64                        --                        8,192\n",
       "│    │    └─ReLU: 3-248                  [128, 32, 16, 16]         [128, 32, 16, 16]         --                        --                        --\n",
       "│    │    └─Conv2d: 3-249                [128, 32, 16, 16]         [128, 128, 16, 16]        4,096                     [1, 1]                    134,217,728\n",
       "│    └─Bottleneck: 2-30                  [128, 128, 16, 16]        [128, 128, 16, 16]        --                        --                        --\n",
       "│    │    └─BatchNorm2d: 3-250           [128, 128, 16, 16]        [128, 128, 16, 16]        256                       --                        32,768\n",
       "│    │    └─ReLU: 3-251                  [128, 128, 16, 16]        [128, 128, 16, 16]        --                        --                        --\n",
       "│    │    └─Conv2d: 3-252                [128, 128, 16, 16]        [128, 32, 16, 16]         4,096                     [1, 1]                    134,217,728\n",
       "│    │    └─BatchNorm2d: 3-253           [128, 32, 16, 16]         [128, 32, 16, 16]         64                        --                        8,192\n",
       "│    │    └─ReLU: 3-254                  [128, 32, 16, 16]         [128, 32, 16, 16]         --                        --                        --\n",
       "│    │    └─Conv2d: 3-255                [128, 32, 16, 16]         [128, 32, 16, 16]         9,216                     [3, 3]                    301,989,888\n",
       "│    │    └─BatchNorm2d: 3-256           [128, 32, 16, 16]         [128, 32, 16, 16]         64                        --                        8,192\n",
       "│    │    └─ReLU: 3-257                  [128, 32, 16, 16]         [128, 32, 16, 16]         --                        --                        --\n",
       "│    │    └─Conv2d: 3-258                [128, 32, 16, 16]         [128, 128, 16, 16]        4,096                     [1, 1]                    134,217,728\n",
       "│    └─Bottleneck: 2-31                  [128, 128, 16, 16]        [128, 128, 16, 16]        --                        --                        --\n",
       "│    │    └─BatchNorm2d: 3-259           [128, 128, 16, 16]        [128, 128, 16, 16]        256                       --                        32,768\n",
       "│    │    └─ReLU: 3-260                  [128, 128, 16, 16]        [128, 128, 16, 16]        --                        --                        --\n",
       "│    │    └─Conv2d: 3-261                [128, 128, 16, 16]        [128, 32, 16, 16]         4,096                     [1, 1]                    134,217,728\n",
       "│    │    └─BatchNorm2d: 3-262           [128, 32, 16, 16]         [128, 32, 16, 16]         64                        --                        8,192\n",
       "│    │    └─ReLU: 3-263                  [128, 32, 16, 16]         [128, 32, 16, 16]         --                        --                        --\n",
       "│    │    └─Conv2d: 3-264                [128, 32, 16, 16]         [128, 32, 16, 16]         9,216                     [3, 3]                    301,989,888\n",
       "│    │    └─BatchNorm2d: 3-265           [128, 32, 16, 16]         [128, 32, 16, 16]         64                        --                        8,192\n",
       "│    │    └─ReLU: 3-266                  [128, 32, 16, 16]         [128, 32, 16, 16]         --                        --                        --\n",
       "│    │    └─Conv2d: 3-267                [128, 32, 16, 16]         [128, 128, 16, 16]        4,096                     [1, 1]                    134,217,728\n",
       "│    └─Bottleneck: 2-32                  [128, 128, 16, 16]        [128, 128, 16, 16]        --                        --                        --\n",
       "│    │    └─BatchNorm2d: 3-268           [128, 128, 16, 16]        [128, 128, 16, 16]        256                       --                        32,768\n",
       "│    │    └─ReLU: 3-269                  [128, 128, 16, 16]        [128, 128, 16, 16]        --                        --                        --\n",
       "│    │    └─Conv2d: 3-270                [128, 128, 16, 16]        [128, 32, 16, 16]         4,096                     [1, 1]                    134,217,728\n",
       "│    │    └─BatchNorm2d: 3-271           [128, 32, 16, 16]         [128, 32, 16, 16]         64                        --                        8,192\n",
       "│    │    └─ReLU: 3-272                  [128, 32, 16, 16]         [128, 32, 16, 16]         --                        --                        --\n",
       "│    │    └─Conv2d: 3-273                [128, 32, 16, 16]         [128, 32, 16, 16]         9,216                     [3, 3]                    301,989,888\n",
       "│    │    └─BatchNorm2d: 3-274           [128, 32, 16, 16]         [128, 32, 16, 16]         64                        --                        8,192\n",
       "│    │    └─ReLU: 3-275                  [128, 32, 16, 16]         [128, 32, 16, 16]         --                        --                        --\n",
       "│    │    └─Conv2d: 3-276                [128, 32, 16, 16]         [128, 128, 16, 16]        4,096                     [1, 1]                    134,217,728\n",
       "│    └─Bottleneck: 2-33                  [128, 128, 16, 16]        [128, 128, 16, 16]        --                        --                        --\n",
       "│    │    └─BatchNorm2d: 3-277           [128, 128, 16, 16]        [128, 128, 16, 16]        256                       --                        32,768\n",
       "│    │    └─ReLU: 3-278                  [128, 128, 16, 16]        [128, 128, 16, 16]        --                        --                        --\n",
       "│    │    └─Conv2d: 3-279                [128, 128, 16, 16]        [128, 32, 16, 16]         4,096                     [1, 1]                    134,217,728\n",
       "│    │    └─BatchNorm2d: 3-280           [128, 32, 16, 16]         [128, 32, 16, 16]         64                        --                        8,192\n",
       "│    │    └─ReLU: 3-281                  [128, 32, 16, 16]         [128, 32, 16, 16]         --                        --                        --\n",
       "│    │    └─Conv2d: 3-282                [128, 32, 16, 16]         [128, 32, 16, 16]         9,216                     [3, 3]                    301,989,888\n",
       "│    │    └─BatchNorm2d: 3-283           [128, 32, 16, 16]         [128, 32, 16, 16]         64                        --                        8,192\n",
       "│    │    └─ReLU: 3-284                  [128, 32, 16, 16]         [128, 32, 16, 16]         --                        --                        --\n",
       "│    │    └─Conv2d: 3-285                [128, 32, 16, 16]         [128, 128, 16, 16]        4,096                     [1, 1]                    134,217,728\n",
       "│    └─Bottleneck: 2-34                  [128, 128, 16, 16]        [128, 128, 16, 16]        --                        --                        --\n",
       "│    │    └─BatchNorm2d: 3-286           [128, 128, 16, 16]        [128, 128, 16, 16]        256                       --                        32,768\n",
       "│    │    └─ReLU: 3-287                  [128, 128, 16, 16]        [128, 128, 16, 16]        --                        --                        --\n",
       "│    │    └─Conv2d: 3-288                [128, 128, 16, 16]        [128, 32, 16, 16]         4,096                     [1, 1]                    134,217,728\n",
       "│    │    └─BatchNorm2d: 3-289           [128, 32, 16, 16]         [128, 32, 16, 16]         64                        --                        8,192\n",
       "│    │    └─ReLU: 3-290                  [128, 32, 16, 16]         [128, 32, 16, 16]         --                        --                        --\n",
       "│    │    └─Conv2d: 3-291                [128, 32, 16, 16]         [128, 32, 16, 16]         9,216                     [3, 3]                    301,989,888\n",
       "│    │    └─BatchNorm2d: 3-292           [128, 32, 16, 16]         [128, 32, 16, 16]         64                        --                        8,192\n",
       "│    │    └─ReLU: 3-293                  [128, 32, 16, 16]         [128, 32, 16, 16]         --                        --                        --\n",
       "│    │    └─Conv2d: 3-294                [128, 32, 16, 16]         [128, 128, 16, 16]        4,096                     [1, 1]                    134,217,728\n",
       "│    └─Bottleneck: 2-35                  [128, 128, 16, 16]        [128, 128, 16, 16]        --                        --                        --\n",
       "│    │    └─BatchNorm2d: 3-295           [128, 128, 16, 16]        [128, 128, 16, 16]        256                       --                        32,768\n",
       "│    │    └─ReLU: 3-296                  [128, 128, 16, 16]        [128, 128, 16, 16]        --                        --                        --\n",
       "│    │    └─Conv2d: 3-297                [128, 128, 16, 16]        [128, 32, 16, 16]         4,096                     [1, 1]                    134,217,728\n",
       "│    │    └─BatchNorm2d: 3-298           [128, 32, 16, 16]         [128, 32, 16, 16]         64                        --                        8,192\n",
       "│    │    └─ReLU: 3-299                  [128, 32, 16, 16]         [128, 32, 16, 16]         --                        --                        --\n",
       "│    │    └─Conv2d: 3-300                [128, 32, 16, 16]         [128, 32, 16, 16]         9,216                     [3, 3]                    301,989,888\n",
       "│    │    └─BatchNorm2d: 3-301           [128, 32, 16, 16]         [128, 32, 16, 16]         64                        --                        8,192\n",
       "│    │    └─ReLU: 3-302                  [128, 32, 16, 16]         [128, 32, 16, 16]         --                        --                        --\n",
       "│    │    └─Conv2d: 3-303                [128, 32, 16, 16]         [128, 128, 16, 16]        4,096                     [1, 1]                    134,217,728\n",
       "│    └─Bottleneck: 2-36                  [128, 128, 16, 16]        [128, 128, 16, 16]        --                        --                        --\n",
       "│    │    └─BatchNorm2d: 3-304           [128, 128, 16, 16]        [128, 128, 16, 16]        256                       --                        32,768\n",
       "│    │    └─ReLU: 3-305                  [128, 128, 16, 16]        [128, 128, 16, 16]        --                        --                        --\n",
       "│    │    └─Conv2d: 3-306                [128, 128, 16, 16]        [128, 32, 16, 16]         4,096                     [1, 1]                    134,217,728\n",
       "│    │    └─BatchNorm2d: 3-307           [128, 32, 16, 16]         [128, 32, 16, 16]         64                        --                        8,192\n",
       "│    │    └─ReLU: 3-308                  [128, 32, 16, 16]         [128, 32, 16, 16]         --                        --                        --\n",
       "│    │    └─Conv2d: 3-309                [128, 32, 16, 16]         [128, 32, 16, 16]         9,216                     [3, 3]                    301,989,888\n",
       "│    │    └─BatchNorm2d: 3-310           [128, 32, 16, 16]         [128, 32, 16, 16]         64                        --                        8,192\n",
       "│    │    └─ReLU: 3-311                  [128, 32, 16, 16]         [128, 32, 16, 16]         --                        --                        --\n",
       "│    │    └─Conv2d: 3-312                [128, 32, 16, 16]         [128, 128, 16, 16]        4,096                     [1, 1]                    134,217,728\n",
       "│    └─Bottleneck: 2-37                  [128, 128, 16, 16]        [128, 128, 16, 16]        --                        --                        --\n",
       "│    │    └─BatchNorm2d: 3-313           [128, 128, 16, 16]        [128, 128, 16, 16]        256                       --                        32,768\n",
       "│    │    └─ReLU: 3-314                  [128, 128, 16, 16]        [128, 128, 16, 16]        --                        --                        --\n",
       "│    │    └─Conv2d: 3-315                [128, 128, 16, 16]        [128, 32, 16, 16]         4,096                     [1, 1]                    134,217,728\n",
       "│    │    └─BatchNorm2d: 3-316           [128, 32, 16, 16]         [128, 32, 16, 16]         64                        --                        8,192\n",
       "│    │    └─ReLU: 3-317                  [128, 32, 16, 16]         [128, 32, 16, 16]         --                        --                        --\n",
       "│    │    └─Conv2d: 3-318                [128, 32, 16, 16]         [128, 32, 16, 16]         9,216                     [3, 3]                    301,989,888\n",
       "│    │    └─BatchNorm2d: 3-319           [128, 32, 16, 16]         [128, 32, 16, 16]         64                        --                        8,192\n",
       "│    │    └─ReLU: 3-320                  [128, 32, 16, 16]         [128, 32, 16, 16]         --                        --                        --\n",
       "│    │    └─Conv2d: 3-321                [128, 32, 16, 16]         [128, 128, 16, 16]        4,096                     [1, 1]                    134,217,728\n",
       "│    └─Bottleneck: 2-38                  [128, 128, 16, 16]        [128, 128, 16, 16]        --                        --                        --\n",
       "│    │    └─BatchNorm2d: 3-322           [128, 128, 16, 16]        [128, 128, 16, 16]        256                       --                        32,768\n",
       "│    │    └─ReLU: 3-323                  [128, 128, 16, 16]        [128, 128, 16, 16]        --                        --                        --\n",
       "│    │    └─Conv2d: 3-324                [128, 128, 16, 16]        [128, 32, 16, 16]         4,096                     [1, 1]                    134,217,728\n",
       "│    │    └─BatchNorm2d: 3-325           [128, 32, 16, 16]         [128, 32, 16, 16]         64                        --                        8,192\n",
       "│    │    └─ReLU: 3-326                  [128, 32, 16, 16]         [128, 32, 16, 16]         --                        --                        --\n",
       "│    │    └─Conv2d: 3-327                [128, 32, 16, 16]         [128, 32, 16, 16]         9,216                     [3, 3]                    301,989,888\n",
       "│    │    └─BatchNorm2d: 3-328           [128, 32, 16, 16]         [128, 32, 16, 16]         64                        --                        8,192\n",
       "│    │    └─ReLU: 3-329                  [128, 32, 16, 16]         [128, 32, 16, 16]         --                        --                        --\n",
       "│    │    └─Conv2d: 3-330                [128, 32, 16, 16]         [128, 128, 16, 16]        4,096                     [1, 1]                    134,217,728\n",
       "├─Downsample: 1-6                        [128, 128, 16, 16]        [128, 256, 8, 8]          --                        --                        --\n",
       "│    └─Sequential: 2-39                  [128, 128, 16, 16]        [128, 256, 8, 8]          --                        --                        --\n",
       "│    │    └─BatchNorm2d: 3-331           [128, 128, 16, 16]        [128, 128, 16, 16]        256                       --                        32,768\n",
       "│    │    └─ReLU: 3-332                  [128, 128, 16, 16]        [128, 128, 16, 16]        --                        --                        --\n",
       "│    │    └─Conv2d: 3-333                [128, 128, 16, 16]        [128, 256, 8, 8]          32,768                    [1, 1]                    268,435,456\n",
       "├─ModuleList: 1-7                        --                        --                        (recursive)               --                        --\n",
       "│    └─Bottleneck: 2-40                  [128, 128, 16, 16]        [128, 256, 8, 8]          --                        --                        --\n",
       "│    │    └─BatchNorm2d: 3-334           [128, 128, 16, 16]        [128, 128, 16, 16]        256                       --                        32,768\n",
       "│    │    └─ReLU: 3-335                  [128, 128, 16, 16]        [128, 128, 16, 16]        --                        --                        --\n",
       "│    │    └─Conv2d: 3-336                [128, 128, 16, 16]        [128, 64, 16, 16]         8,192                     [1, 1]                    268,435,456\n",
       "│    │    └─BatchNorm2d: 3-337           [128, 64, 16, 16]         [128, 64, 16, 16]         128                       --                        16,384\n",
       "│    │    └─ReLU: 3-338                  [128, 64, 16, 16]         [128, 64, 16, 16]         --                        --                        --\n",
       "│    │    └─Conv2d: 3-339                [128, 64, 16, 16]         [128, 64, 8, 8]           36,864                    [3, 3]                    301,989,888\n",
       "│    │    └─BatchNorm2d: 3-340           [128, 64, 8, 8]           [128, 64, 8, 8]           128                       --                        16,384\n",
       "│    │    └─ReLU: 3-341                  [128, 64, 8, 8]           [128, 64, 8, 8]           --                        --                        --\n",
       "│    │    └─Conv2d: 3-342                [128, 64, 8, 8]           [128, 256, 8, 8]          16,384                    [1, 1]                    134,217,728\n",
       "│    └─Bottleneck: 2-41                  [128, 256, 8, 8]          [128, 256, 8, 8]          --                        --                        --\n",
       "│    │    └─BatchNorm2d: 3-343           [128, 256, 8, 8]          [128, 256, 8, 8]          512                       --                        65,536\n",
       "│    │    └─ReLU: 3-344                  [128, 256, 8, 8]          [128, 256, 8, 8]          --                        --                        --\n",
       "│    │    └─Conv2d: 3-345                [128, 256, 8, 8]          [128, 64, 8, 8]           16,384                    [1, 1]                    134,217,728\n",
       "│    │    └─BatchNorm2d: 3-346           [128, 64, 8, 8]           [128, 64, 8, 8]           128                       --                        16,384\n",
       "│    │    └─ReLU: 3-347                  [128, 64, 8, 8]           [128, 64, 8, 8]           --                        --                        --\n",
       "│    │    └─Conv2d: 3-348                [128, 64, 8, 8]           [128, 64, 8, 8]           36,864                    [3, 3]                    301,989,888\n",
       "│    │    └─BatchNorm2d: 3-349           [128, 64, 8, 8]           [128, 64, 8, 8]           128                       --                        16,384\n",
       "│    │    └─ReLU: 3-350                  [128, 64, 8, 8]           [128, 64, 8, 8]           --                        --                        --\n",
       "│    │    └─Conv2d: 3-351                [128, 64, 8, 8]           [128, 256, 8, 8]          16,384                    [1, 1]                    134,217,728\n",
       "│    └─Bottleneck: 2-42                  [128, 256, 8, 8]          [128, 256, 8, 8]          --                        --                        --\n",
       "│    │    └─BatchNorm2d: 3-352           [128, 256, 8, 8]          [128, 256, 8, 8]          512                       --                        65,536\n",
       "│    │    └─ReLU: 3-353                  [128, 256, 8, 8]          [128, 256, 8, 8]          --                        --                        --\n",
       "│    │    └─Conv2d: 3-354                [128, 256, 8, 8]          [128, 64, 8, 8]           16,384                    [1, 1]                    134,217,728\n",
       "│    │    └─BatchNorm2d: 3-355           [128, 64, 8, 8]           [128, 64, 8, 8]           128                       --                        16,384\n",
       "│    │    └─ReLU: 3-356                  [128, 64, 8, 8]           [128, 64, 8, 8]           --                        --                        --\n",
       "│    │    └─Conv2d: 3-357                [128, 64, 8, 8]           [128, 64, 8, 8]           36,864                    [3, 3]                    301,989,888\n",
       "│    │    └─BatchNorm2d: 3-358           [128, 64, 8, 8]           [128, 64, 8, 8]           128                       --                        16,384\n",
       "│    │    └─ReLU: 3-359                  [128, 64, 8, 8]           [128, 64, 8, 8]           --                        --                        --\n",
       "│    │    └─Conv2d: 3-360                [128, 64, 8, 8]           [128, 256, 8, 8]          16,384                    [1, 1]                    134,217,728\n",
       "│    └─Bottleneck: 2-43                  [128, 256, 8, 8]          [128, 256, 8, 8]          --                        --                        --\n",
       "│    │    └─BatchNorm2d: 3-361           [128, 256, 8, 8]          [128, 256, 8, 8]          512                       --                        65,536\n",
       "│    │    └─ReLU: 3-362                  [128, 256, 8, 8]          [128, 256, 8, 8]          --                        --                        --\n",
       "│    │    └─Conv2d: 3-363                [128, 256, 8, 8]          [128, 64, 8, 8]           16,384                    [1, 1]                    134,217,728\n",
       "│    │    └─BatchNorm2d: 3-364           [128, 64, 8, 8]           [128, 64, 8, 8]           128                       --                        16,384\n",
       "│    │    └─ReLU: 3-365                  [128, 64, 8, 8]           [128, 64, 8, 8]           --                        --                        --\n",
       "│    │    └─Conv2d: 3-366                [128, 64, 8, 8]           [128, 64, 8, 8]           36,864                    [3, 3]                    301,989,888\n",
       "│    │    └─BatchNorm2d: 3-367           [128, 64, 8, 8]           [128, 64, 8, 8]           128                       --                        16,384\n",
       "│    │    └─ReLU: 3-368                  [128, 64, 8, 8]           [128, 64, 8, 8]           --                        --                        --\n",
       "│    │    └─Conv2d: 3-369                [128, 64, 8, 8]           [128, 256, 8, 8]          16,384                    [1, 1]                    134,217,728\n",
       "│    └─Bottleneck: 2-44                  [128, 256, 8, 8]          [128, 256, 8, 8]          --                        --                        --\n",
       "│    │    └─BatchNorm2d: 3-370           [128, 256, 8, 8]          [128, 256, 8, 8]          512                       --                        65,536\n",
       "│    │    └─ReLU: 3-371                  [128, 256, 8, 8]          [128, 256, 8, 8]          --                        --                        --\n",
       "│    │    └─Conv2d: 3-372                [128, 256, 8, 8]          [128, 64, 8, 8]           16,384                    [1, 1]                    134,217,728\n",
       "│    │    └─BatchNorm2d: 3-373           [128, 64, 8, 8]           [128, 64, 8, 8]           128                       --                        16,384\n",
       "│    │    └─ReLU: 3-374                  [128, 64, 8, 8]           [128, 64, 8, 8]           --                        --                        --\n",
       "│    │    └─Conv2d: 3-375                [128, 64, 8, 8]           [128, 64, 8, 8]           36,864                    [3, 3]                    301,989,888\n",
       "│    │    └─BatchNorm2d: 3-376           [128, 64, 8, 8]           [128, 64, 8, 8]           128                       --                        16,384\n",
       "│    │    └─ReLU: 3-377                  [128, 64, 8, 8]           [128, 64, 8, 8]           --                        --                        --\n",
       "│    │    └─Conv2d: 3-378                [128, 64, 8, 8]           [128, 256, 8, 8]          16,384                    [1, 1]                    134,217,728\n",
       "│    └─Bottleneck: 2-45                  [128, 256, 8, 8]          [128, 256, 8, 8]          --                        --                        --\n",
       "│    │    └─BatchNorm2d: 3-379           [128, 256, 8, 8]          [128, 256, 8, 8]          512                       --                        65,536\n",
       "│    │    └─ReLU: 3-380                  [128, 256, 8, 8]          [128, 256, 8, 8]          --                        --                        --\n",
       "│    │    └─Conv2d: 3-381                [128, 256, 8, 8]          [128, 64, 8, 8]           16,384                    [1, 1]                    134,217,728\n",
       "│    │    └─BatchNorm2d: 3-382           [128, 64, 8, 8]           [128, 64, 8, 8]           128                       --                        16,384\n",
       "│    │    └─ReLU: 3-383                  [128, 64, 8, 8]           [128, 64, 8, 8]           --                        --                        --\n",
       "│    │    └─Conv2d: 3-384                [128, 64, 8, 8]           [128, 64, 8, 8]           36,864                    [3, 3]                    301,989,888\n",
       "│    │    └─BatchNorm2d: 3-385           [128, 64, 8, 8]           [128, 64, 8, 8]           128                       --                        16,384\n",
       "│    │    └─ReLU: 3-386                  [128, 64, 8, 8]           [128, 64, 8, 8]           --                        --                        --\n",
       "│    │    └─Conv2d: 3-387                [128, 64, 8, 8]           [128, 256, 8, 8]          16,384                    [1, 1]                    134,217,728\n",
       "│    └─Bottleneck: 2-46                  [128, 256, 8, 8]          [128, 256, 8, 8]          --                        --                        --\n",
       "│    │    └─BatchNorm2d: 3-388           [128, 256, 8, 8]          [128, 256, 8, 8]          512                       --                        65,536\n",
       "│    │    └─ReLU: 3-389                  [128, 256, 8, 8]          [128, 256, 8, 8]          --                        --                        --\n",
       "│    │    └─Conv2d: 3-390                [128, 256, 8, 8]          [128, 64, 8, 8]           16,384                    [1, 1]                    134,217,728\n",
       "│    │    └─BatchNorm2d: 3-391           [128, 64, 8, 8]           [128, 64, 8, 8]           128                       --                        16,384\n",
       "│    │    └─ReLU: 3-392                  [128, 64, 8, 8]           [128, 64, 8, 8]           --                        --                        --\n",
       "│    │    └─Conv2d: 3-393                [128, 64, 8, 8]           [128, 64, 8, 8]           36,864                    [3, 3]                    301,989,888\n",
       "│    │    └─BatchNorm2d: 3-394           [128, 64, 8, 8]           [128, 64, 8, 8]           128                       --                        16,384\n",
       "│    │    └─ReLU: 3-395                  [128, 64, 8, 8]           [128, 64, 8, 8]           --                        --                        --\n",
       "│    │    └─Conv2d: 3-396                [128, 64, 8, 8]           [128, 256, 8, 8]          16,384                    [1, 1]                    134,217,728\n",
       "│    └─Bottleneck: 2-47                  [128, 256, 8, 8]          [128, 256, 8, 8]          --                        --                        --\n",
       "│    │    └─BatchNorm2d: 3-397           [128, 256, 8, 8]          [128, 256, 8, 8]          512                       --                        65,536\n",
       "│    │    └─ReLU: 3-398                  [128, 256, 8, 8]          [128, 256, 8, 8]          --                        --                        --\n",
       "│    │    └─Conv2d: 3-399                [128, 256, 8, 8]          [128, 64, 8, 8]           16,384                    [1, 1]                    134,217,728\n",
       "│    │    └─BatchNorm2d: 3-400           [128, 64, 8, 8]           [128, 64, 8, 8]           128                       --                        16,384\n",
       "│    │    └─ReLU: 3-401                  [128, 64, 8, 8]           [128, 64, 8, 8]           --                        --                        --\n",
       "│    │    └─Conv2d: 3-402                [128, 64, 8, 8]           [128, 64, 8, 8]           36,864                    [3, 3]                    301,989,888\n",
       "│    │    └─BatchNorm2d: 3-403           [128, 64, 8, 8]           [128, 64, 8, 8]           128                       --                        16,384\n",
       "│    │    └─ReLU: 3-404                  [128, 64, 8, 8]           [128, 64, 8, 8]           --                        --                        --\n",
       "│    │    └─Conv2d: 3-405                [128, 64, 8, 8]           [128, 256, 8, 8]          16,384                    [1, 1]                    134,217,728\n",
       "│    └─Bottleneck: 2-48                  [128, 256, 8, 8]          [128, 256, 8, 8]          --                        --                        --\n",
       "│    │    └─BatchNorm2d: 3-406           [128, 256, 8, 8]          [128, 256, 8, 8]          512                       --                        65,536\n",
       "│    │    └─ReLU: 3-407                  [128, 256, 8, 8]          [128, 256, 8, 8]          --                        --                        --\n",
       "│    │    └─Conv2d: 3-408                [128, 256, 8, 8]          [128, 64, 8, 8]           16,384                    [1, 1]                    134,217,728\n",
       "│    │    └─BatchNorm2d: 3-409           [128, 64, 8, 8]           [128, 64, 8, 8]           128                       --                        16,384\n",
       "│    │    └─ReLU: 3-410                  [128, 64, 8, 8]           [128, 64, 8, 8]           --                        --                        --\n",
       "│    │    └─Conv2d: 3-411                [128, 64, 8, 8]           [128, 64, 8, 8]           36,864                    [3, 3]                    301,989,888\n",
       "│    │    └─BatchNorm2d: 3-412           [128, 64, 8, 8]           [128, 64, 8, 8]           128                       --                        16,384\n",
       "│    │    └─ReLU: 3-413                  [128, 64, 8, 8]           [128, 64, 8, 8]           --                        --                        --\n",
       "│    │    └─Conv2d: 3-414                [128, 64, 8, 8]           [128, 256, 8, 8]          16,384                    [1, 1]                    134,217,728\n",
       "│    └─Bottleneck: 2-49                  [128, 256, 8, 8]          [128, 256, 8, 8]          --                        --                        --\n",
       "│    │    └─BatchNorm2d: 3-415           [128, 256, 8, 8]          [128, 256, 8, 8]          512                       --                        65,536\n",
       "│    │    └─ReLU: 3-416                  [128, 256, 8, 8]          [128, 256, 8, 8]          --                        --                        --\n",
       "│    │    └─Conv2d: 3-417                [128, 256, 8, 8]          [128, 64, 8, 8]           16,384                    [1, 1]                    134,217,728\n",
       "│    │    └─BatchNorm2d: 3-418           [128, 64, 8, 8]           [128, 64, 8, 8]           128                       --                        16,384\n",
       "│    │    └─ReLU: 3-419                  [128, 64, 8, 8]           [128, 64, 8, 8]           --                        --                        --\n",
       "│    │    └─Conv2d: 3-420                [128, 64, 8, 8]           [128, 64, 8, 8]           36,864                    [3, 3]                    301,989,888\n",
       "│    │    └─BatchNorm2d: 3-421           [128, 64, 8, 8]           [128, 64, 8, 8]           128                       --                        16,384\n",
       "│    │    └─ReLU: 3-422                  [128, 64, 8, 8]           [128, 64, 8, 8]           --                        --                        --\n",
       "│    │    └─Conv2d: 3-423                [128, 64, 8, 8]           [128, 256, 8, 8]          16,384                    [1, 1]                    134,217,728\n",
       "│    └─Bottleneck: 2-50                  [128, 256, 8, 8]          [128, 256, 8, 8]          --                        --                        --\n",
       "│    │    └─BatchNorm2d: 3-424           [128, 256, 8, 8]          [128, 256, 8, 8]          512                       --                        65,536\n",
       "│    │    └─ReLU: 3-425                  [128, 256, 8, 8]          [128, 256, 8, 8]          --                        --                        --\n",
       "│    │    └─Conv2d: 3-426                [128, 256, 8, 8]          [128, 64, 8, 8]           16,384                    [1, 1]                    134,217,728\n",
       "│    │    └─BatchNorm2d: 3-427           [128, 64, 8, 8]           [128, 64, 8, 8]           128                       --                        16,384\n",
       "│    │    └─ReLU: 3-428                  [128, 64, 8, 8]           [128, 64, 8, 8]           --                        --                        --\n",
       "│    │    └─Conv2d: 3-429                [128, 64, 8, 8]           [128, 64, 8, 8]           36,864                    [3, 3]                    301,989,888\n",
       "│    │    └─BatchNorm2d: 3-430           [128, 64, 8, 8]           [128, 64, 8, 8]           128                       --                        16,384\n",
       "│    │    └─ReLU: 3-431                  [128, 64, 8, 8]           [128, 64, 8, 8]           --                        --                        --\n",
       "│    │    └─Conv2d: 3-432                [128, 64, 8, 8]           [128, 256, 8, 8]          16,384                    [1, 1]                    134,217,728\n",
       "│    └─Bottleneck: 2-51                  [128, 256, 8, 8]          [128, 256, 8, 8]          --                        --                        --\n",
       "│    │    └─BatchNorm2d: 3-433           [128, 256, 8, 8]          [128, 256, 8, 8]          512                       --                        65,536\n",
       "│    │    └─ReLU: 3-434                  [128, 256, 8, 8]          [128, 256, 8, 8]          --                        --                        --\n",
       "│    │    └─Conv2d: 3-435                [128, 256, 8, 8]          [128, 64, 8, 8]           16,384                    [1, 1]                    134,217,728\n",
       "│    │    └─BatchNorm2d: 3-436           [128, 64, 8, 8]           [128, 64, 8, 8]           128                       --                        16,384\n",
       "│    │    └─ReLU: 3-437                  [128, 64, 8, 8]           [128, 64, 8, 8]           --                        --                        --\n",
       "│    │    └─Conv2d: 3-438                [128, 64, 8, 8]           [128, 64, 8, 8]           36,864                    [3, 3]                    301,989,888\n",
       "│    │    └─BatchNorm2d: 3-439           [128, 64, 8, 8]           [128, 64, 8, 8]           128                       --                        16,384\n",
       "│    │    └─ReLU: 3-440                  [128, 64, 8, 8]           [128, 64, 8, 8]           --                        --                        --\n",
       "│    │    └─Conv2d: 3-441                [128, 64, 8, 8]           [128, 256, 8, 8]          16,384                    [1, 1]                    134,217,728\n",
       "│    └─Bottleneck: 2-52                  [128, 256, 8, 8]          [128, 256, 8, 8]          --                        --                        --\n",
       "│    │    └─BatchNorm2d: 3-442           [128, 256, 8, 8]          [128, 256, 8, 8]          512                       --                        65,536\n",
       "│    │    └─ReLU: 3-443                  [128, 256, 8, 8]          [128, 256, 8, 8]          --                        --                        --\n",
       "│    │    └─Conv2d: 3-444                [128, 256, 8, 8]          [128, 64, 8, 8]           16,384                    [1, 1]                    134,217,728\n",
       "│    │    └─BatchNorm2d: 3-445           [128, 64, 8, 8]           [128, 64, 8, 8]           128                       --                        16,384\n",
       "│    │    └─ReLU: 3-446                  [128, 64, 8, 8]           [128, 64, 8, 8]           --                        --                        --\n",
       "│    │    └─Conv2d: 3-447                [128, 64, 8, 8]           [128, 64, 8, 8]           36,864                    [3, 3]                    301,989,888\n",
       "│    │    └─BatchNorm2d: 3-448           [128, 64, 8, 8]           [128, 64, 8, 8]           128                       --                        16,384\n",
       "│    │    └─ReLU: 3-449                  [128, 64, 8, 8]           [128, 64, 8, 8]           --                        --                        --\n",
       "│    │    └─Conv2d: 3-450                [128, 64, 8, 8]           [128, 256, 8, 8]          16,384                    [1, 1]                    134,217,728\n",
       "│    └─Bottleneck: 2-53                  [128, 256, 8, 8]          [128, 256, 8, 8]          --                        --                        --\n",
       "│    │    └─BatchNorm2d: 3-451           [128, 256, 8, 8]          [128, 256, 8, 8]          512                       --                        65,536\n",
       "│    │    └─ReLU: 3-452                  [128, 256, 8, 8]          [128, 256, 8, 8]          --                        --                        --\n",
       "│    │    └─Conv2d: 3-453                [128, 256, 8, 8]          [128, 64, 8, 8]           16,384                    [1, 1]                    134,217,728\n",
       "│    │    └─BatchNorm2d: 3-454           [128, 64, 8, 8]           [128, 64, 8, 8]           128                       --                        16,384\n",
       "│    │    └─ReLU: 3-455                  [128, 64, 8, 8]           [128, 64, 8, 8]           --                        --                        --\n",
       "│    │    └─Conv2d: 3-456                [128, 64, 8, 8]           [128, 64, 8, 8]           36,864                    [3, 3]                    301,989,888\n",
       "│    │    └─BatchNorm2d: 3-457           [128, 64, 8, 8]           [128, 64, 8, 8]           128                       --                        16,384\n",
       "│    │    └─ReLU: 3-458                  [128, 64, 8, 8]           [128, 64, 8, 8]           --                        --                        --\n",
       "│    │    └─Conv2d: 3-459                [128, 64, 8, 8]           [128, 256, 8, 8]          16,384                    [1, 1]                    134,217,728\n",
       "│    └─Bottleneck: 2-54                  [128, 256, 8, 8]          [128, 256, 8, 8]          --                        --                        --\n",
       "│    │    └─BatchNorm2d: 3-460           [128, 256, 8, 8]          [128, 256, 8, 8]          512                       --                        65,536\n",
       "│    │    └─ReLU: 3-461                  [128, 256, 8, 8]          [128, 256, 8, 8]          --                        --                        --\n",
       "│    │    └─Conv2d: 3-462                [128, 256, 8, 8]          [128, 64, 8, 8]           16,384                    [1, 1]                    134,217,728\n",
       "│    │    └─BatchNorm2d: 3-463           [128, 64, 8, 8]           [128, 64, 8, 8]           128                       --                        16,384\n",
       "│    │    └─ReLU: 3-464                  [128, 64, 8, 8]           [128, 64, 8, 8]           --                        --                        --\n",
       "│    │    └─Conv2d: 3-465                [128, 64, 8, 8]           [128, 64, 8, 8]           36,864                    [3, 3]                    301,989,888\n",
       "│    │    └─BatchNorm2d: 3-466           [128, 64, 8, 8]           [128, 64, 8, 8]           128                       --                        16,384\n",
       "│    │    └─ReLU: 3-467                  [128, 64, 8, 8]           [128, 64, 8, 8]           --                        --                        --\n",
       "│    │    └─Conv2d: 3-468                [128, 64, 8, 8]           [128, 256, 8, 8]          16,384                    [1, 1]                    134,217,728\n",
       "│    └─Bottleneck: 2-55                  [128, 256, 8, 8]          [128, 256, 8, 8]          --                        --                        --\n",
       "│    │    └─BatchNorm2d: 3-469           [128, 256, 8, 8]          [128, 256, 8, 8]          512                       --                        65,536\n",
       "│    │    └─ReLU: 3-470                  [128, 256, 8, 8]          [128, 256, 8, 8]          --                        --                        --\n",
       "│    │    └─Conv2d: 3-471                [128, 256, 8, 8]          [128, 64, 8, 8]           16,384                    [1, 1]                    134,217,728\n",
       "│    │    └─BatchNorm2d: 3-472           [128, 64, 8, 8]           [128, 64, 8, 8]           128                       --                        16,384\n",
       "│    │    └─ReLU: 3-473                  [128, 64, 8, 8]           [128, 64, 8, 8]           --                        --                        --\n",
       "│    │    └─Conv2d: 3-474                [128, 64, 8, 8]           [128, 64, 8, 8]           36,864                    [3, 3]                    301,989,888\n",
       "│    │    └─BatchNorm2d: 3-475           [128, 64, 8, 8]           [128, 64, 8, 8]           128                       --                        16,384\n",
       "│    │    └─ReLU: 3-476                  [128, 64, 8, 8]           [128, 64, 8, 8]           --                        --                        --\n",
       "│    │    └─Conv2d: 3-477                [128, 64, 8, 8]           [128, 256, 8, 8]          16,384                    [1, 1]                    134,217,728\n",
       "│    └─Bottleneck: 2-56                  [128, 256, 8, 8]          [128, 256, 8, 8]          --                        --                        --\n",
       "│    │    └─BatchNorm2d: 3-478           [128, 256, 8, 8]          [128, 256, 8, 8]          512                       --                        65,536\n",
       "│    │    └─ReLU: 3-479                  [128, 256, 8, 8]          [128, 256, 8, 8]          --                        --                        --\n",
       "│    │    └─Conv2d: 3-480                [128, 256, 8, 8]          [128, 64, 8, 8]           16,384                    [1, 1]                    134,217,728\n",
       "│    │    └─BatchNorm2d: 3-481           [128, 64, 8, 8]           [128, 64, 8, 8]           128                       --                        16,384\n",
       "│    │    └─ReLU: 3-482                  [128, 64, 8, 8]           [128, 64, 8, 8]           --                        --                        --\n",
       "│    │    └─Conv2d: 3-483                [128, 64, 8, 8]           [128, 64, 8, 8]           36,864                    [3, 3]                    301,989,888\n",
       "│    │    └─BatchNorm2d: 3-484           [128, 64, 8, 8]           [128, 64, 8, 8]           128                       --                        16,384\n",
       "│    │    └─ReLU: 3-485                  [128, 64, 8, 8]           [128, 64, 8, 8]           --                        --                        --\n",
       "│    │    └─Conv2d: 3-486                [128, 64, 8, 8]           [128, 256, 8, 8]          16,384                    [1, 1]                    134,217,728\n",
       "│    └─Bottleneck: 2-57                  [128, 256, 8, 8]          [128, 256, 8, 8]          --                        --                        --\n",
       "│    │    └─BatchNorm2d: 3-487           [128, 256, 8, 8]          [128, 256, 8, 8]          512                       --                        65,536\n",
       "│    │    └─ReLU: 3-488                  [128, 256, 8, 8]          [128, 256, 8, 8]          --                        --                        --\n",
       "│    │    └─Conv2d: 3-489                [128, 256, 8, 8]          [128, 64, 8, 8]           16,384                    [1, 1]                    134,217,728\n",
       "│    │    └─BatchNorm2d: 3-490           [128, 64, 8, 8]           [128, 64, 8, 8]           128                       --                        16,384\n",
       "│    │    └─ReLU: 3-491                  [128, 64, 8, 8]           [128, 64, 8, 8]           --                        --                        --\n",
       "│    │    └─Conv2d: 3-492                [128, 64, 8, 8]           [128, 64, 8, 8]           36,864                    [3, 3]                    301,989,888\n",
       "│    │    └─BatchNorm2d: 3-493           [128, 64, 8, 8]           [128, 64, 8, 8]           128                       --                        16,384\n",
       "│    │    └─ReLU: 3-494                  [128, 64, 8, 8]           [128, 64, 8, 8]           --                        --                        --\n",
       "│    │    └─Conv2d: 3-495                [128, 64, 8, 8]           [128, 256, 8, 8]          16,384                    [1, 1]                    134,217,728\n",
       "├─BatchNorm2d: 1-8                       [128, 256, 8, 8]          [128, 256, 8, 8]          512                       --                        65,536\n",
       "├─ReLU: 1-9                              [128, 256, 8, 8]          [128, 256, 8, 8]          --                        --                        --\n",
       "├─AvgPool2d: 1-10                        [128, 256, 8, 8]          [128, 256, 1, 1]          --                        8                         --\n",
       "├─Linear: 1-11                           [128, 256]                [128, 10]                 2,570                     --                        328,960\n",
       "=====================================================================================================================================================================\n",
       "Total params: 1,703,760\n",
       "Trainable params: 1,703,760\n",
       "Non-trainable params: 0\n",
       "Total mult-adds (G): 31.70\n",
       "=====================================================================================================================================================================\n",
       "Input size (MB): 1.57\n",
       "Forward/backward pass size (MB): 6685.73\n",
       "Params size (MB): 6.81\n",
       "Estimated Total Size (MB): 6694.12\n",
       "====================================================================================================================================================================="
      ]
     },
     "execution_count": 5,
     "metadata": {},
     "output_type": "execute_result"
    }
   ],
   "source": [
    "net = MResNet(Bottleneck, [18,18,18], num_classes=10, pretrain=False)#, stochastic_depth=False)\n",
    "net.cuda()\n",
    "model_name = \"MResNet164\"\n",
    "\n",
    "from pathlib import Path\n",
    "\n",
    "p = Path(f\"{model_name}.txt\")\n",
    "if p.exists():\n",
    "    p.unlink()\n",
    "\n",
    "summary(\n",
    "    net,\n",
    "    input_size=(batch_size, 3, 32, 32),\n",
    "    depth=5,\n",
    "    col_names=[\n",
    "        \"input_size\",\n",
    "        \"output_size\",\n",
    "        \"num_params\",\n",
    "        \"kernel_size\",\n",
    "        \"mult_adds\",\n",
    "    ],\n",
    ")"
   ]
  },
  {
   "cell_type": "code",
   "execution_count": 6,
   "metadata": {},
   "outputs": [
    {
     "name": "stderr",
     "output_type": "stream",
     "text": [
      "391it [01:47,  3.64it/s]"
     ]
    },
    {
     "name": "stdout",
     "output_type": "stream",
     "text": [
      "Epoch 1 finished, average loss: 0.0133438113\n",
      "Starting testing\n"
     ]
    },
    {
     "name": "stderr",
     "output_type": "stream",
     "text": [
      "\n"
     ]
    },
    {
     "name": "stdout",
     "output_type": "stream",
     "text": [
      "Correct: 4554, total: 10000, accuracy: 0.4553999901, average loss: 0.0116552045\n"
     ]
    },
    {
     "name": "stderr",
     "output_type": "stream",
     "text": [
      "391it [01:42,  3.83it/s]"
     ]
    },
    {
     "name": "stdout",
     "output_type": "stream",
     "text": [
      "Epoch 2 finished, average loss: 0.0095007543\n",
      "Starting testing\n"
     ]
    },
    {
     "name": "stderr",
     "output_type": "stream",
     "text": [
      "\n"
     ]
    },
    {
     "name": "stdout",
     "output_type": "stream",
     "text": [
      "Correct: 6152, total: 10000, accuracy: 0.6151999831, average loss: 0.0085521058\n"
     ]
    },
    {
     "name": "stderr",
     "output_type": "stream",
     "text": [
      "391it [01:39,  3.92it/s]"
     ]
    },
    {
     "name": "stdout",
     "output_type": "stream",
     "text": [
      "Epoch 3 finished, average loss: 0.0071967085\n",
      "Starting testing\n"
     ]
    },
    {
     "name": "stderr",
     "output_type": "stream",
     "text": [
      "\n"
     ]
    },
    {
     "name": "stdout",
     "output_type": "stream",
     "text": [
      "Correct: 7109, total: 10000, accuracy: 0.7109000087, average loss: 0.0065622241\n"
     ]
    },
    {
     "name": "stderr",
     "output_type": "stream",
     "text": [
      "391it [01:42,  3.83it/s]"
     ]
    },
    {
     "name": "stdout",
     "output_type": "stream",
     "text": [
      "Epoch 4 finished, average loss: 0.0057106712\n",
      "Starting testing\n"
     ]
    },
    {
     "name": "stderr",
     "output_type": "stream",
     "text": [
      "\n"
     ]
    },
    {
     "name": "stdout",
     "output_type": "stream",
     "text": [
      "Correct: 7569, total: 10000, accuracy: 0.7568999529, average loss: 0.0055185930\n"
     ]
    },
    {
     "name": "stderr",
     "output_type": "stream",
     "text": [
      "391it [01:39,  3.93it/s]"
     ]
    },
    {
     "name": "stdout",
     "output_type": "stream",
     "text": [
      "Epoch 5 finished, average loss: 0.0048612278\n",
      "Starting testing\n"
     ]
    },
    {
     "name": "stderr",
     "output_type": "stream",
     "text": [
      "\n"
     ]
    },
    {
     "name": "stdout",
     "output_type": "stream",
     "text": [
      "Correct: 7617, total: 10000, accuracy: 0.7616999745, average loss: 0.0053620182\n"
     ]
    },
    {
     "name": "stderr",
     "output_type": "stream",
     "text": [
      "391it [01:41,  3.84it/s]"
     ]
    },
    {
     "name": "stdout",
     "output_type": "stream",
     "text": [
      "Epoch 6 finished, average loss: 0.0042909840\n",
      "Starting testing\n"
     ]
    },
    {
     "name": "stderr",
     "output_type": "stream",
     "text": [
      "\n"
     ]
    },
    {
     "name": "stdout",
     "output_type": "stream",
     "text": [
      "Correct: 7791, total: 10000, accuracy: 0.7791000009, average loss: 0.0050330218\n"
     ]
    },
    {
     "name": "stderr",
     "output_type": "stream",
     "text": [
      "391it [01:42,  3.82it/s]"
     ]
    },
    {
     "name": "stdout",
     "output_type": "stream",
     "text": [
      "Epoch 7 finished, average loss: 0.0038370953\n",
      "Starting testing\n"
     ]
    },
    {
     "name": "stderr",
     "output_type": "stream",
     "text": [
      "\n"
     ]
    },
    {
     "name": "stdout",
     "output_type": "stream",
     "text": [
      "Correct: 8070, total: 10000, accuracy: 0.8069999814, average loss: 0.0044454381\n"
     ]
    },
    {
     "name": "stderr",
     "output_type": "stream",
     "text": [
      "391it [01:42,  3.82it/s]"
     ]
    },
    {
     "name": "stdout",
     "output_type": "stream",
     "text": [
      "Epoch 8 finished, average loss: 0.0034656878\n",
      "Starting testing\n"
     ]
    },
    {
     "name": "stderr",
     "output_type": "stream",
     "text": [
      "\n"
     ]
    },
    {
     "name": "stdout",
     "output_type": "stream",
     "text": [
      "Correct: 8134, total: 10000, accuracy: 0.8133999705, average loss: 0.0042733465\n"
     ]
    },
    {
     "name": "stderr",
     "output_type": "stream",
     "text": [
      "391it [01:41,  3.87it/s]"
     ]
    },
    {
     "name": "stdout",
     "output_type": "stream",
     "text": [
      "Epoch 9 finished, average loss: 0.0032237110\n",
      "Starting testing\n"
     ]
    },
    {
     "name": "stderr",
     "output_type": "stream",
     "text": [
      "\n"
     ]
    },
    {
     "name": "stdout",
     "output_type": "stream",
     "text": [
      "Correct: 8283, total: 10000, accuracy: 0.8282999992, average loss: 0.0040336824\n"
     ]
    },
    {
     "name": "stderr",
     "output_type": "stream",
     "text": [
      "391it [01:46,  3.66it/s]"
     ]
    },
    {
     "name": "stdout",
     "output_type": "stream",
     "text": [
      "Epoch 10 finished, average loss: 0.0030167077\n",
      "Starting testing\n"
     ]
    },
    {
     "name": "stderr",
     "output_type": "stream",
     "text": [
      "\n"
     ]
    },
    {
     "name": "stdout",
     "output_type": "stream",
     "text": [
      "Correct: 7896, total: 10000, accuracy: 0.7895999551, average loss: 0.0048824947\n"
     ]
    },
    {
     "name": "stderr",
     "output_type": "stream",
     "text": [
      "391it [01:55,  3.38it/s]"
     ]
    },
    {
     "name": "stdout",
     "output_type": "stream",
     "text": [
      "Epoch 11 finished, average loss: 0.0028540293\n",
      "Starting testing\n"
     ]
    },
    {
     "name": "stderr",
     "output_type": "stream",
     "text": [
      "\n"
     ]
    },
    {
     "name": "stdout",
     "output_type": "stream",
     "text": [
      "Correct: 8376, total: 10000, accuracy: 0.8375999928, average loss: 0.0037216344\n"
     ]
    },
    {
     "name": "stderr",
     "output_type": "stream",
     "text": [
      "391it [01:43,  3.78it/s]"
     ]
    },
    {
     "name": "stdout",
     "output_type": "stream",
     "text": [
      "Epoch 12 finished, average loss: 0.0027165918\n",
      "Starting testing\n"
     ]
    },
    {
     "name": "stderr",
     "output_type": "stream",
     "text": [
      "\n"
     ]
    },
    {
     "name": "stdout",
     "output_type": "stream",
     "text": [
      "Correct: 8612, total: 10000, accuracy: 0.8611999750, average loss: 0.0032098240\n"
     ]
    },
    {
     "name": "stderr",
     "output_type": "stream",
     "text": [
      "391it [01:52,  3.47it/s]"
     ]
    },
    {
     "name": "stdout",
     "output_type": "stream",
     "text": [
      "Epoch 13 finished, average loss: 0.0026304637\n",
      "Starting testing\n"
     ]
    },
    {
     "name": "stderr",
     "output_type": "stream",
     "text": [
      "\n"
     ]
    },
    {
     "name": "stdout",
     "output_type": "stream",
     "text": [
      "Correct: 8331, total: 10000, accuracy: 0.8330999613, average loss: 0.0038849602\n"
     ]
    },
    {
     "name": "stderr",
     "output_type": "stream",
     "text": [
      "391it [01:44,  3.72it/s]"
     ]
    },
    {
     "name": "stdout",
     "output_type": "stream",
     "text": [
      "Epoch 14 finished, average loss: 0.0024693022\n",
      "Starting testing\n"
     ]
    },
    {
     "name": "stderr",
     "output_type": "stream",
     "text": [
      "\n"
     ]
    },
    {
     "name": "stdout",
     "output_type": "stream",
     "text": [
      "Correct: 8188, total: 10000, accuracy: 0.8187999725, average loss: 0.0043765096\n"
     ]
    },
    {
     "name": "stderr",
     "output_type": "stream",
     "text": [
      "391it [01:40,  3.88it/s]"
     ]
    },
    {
     "name": "stdout",
     "output_type": "stream",
     "text": [
      "Epoch 15 finished, average loss: 0.0024232280\n",
      "Starting testing\n"
     ]
    },
    {
     "name": "stderr",
     "output_type": "stream",
     "text": [
      "\n"
     ]
    },
    {
     "name": "stdout",
     "output_type": "stream",
     "text": [
      "Correct: 8623, total: 10000, accuracy: 0.8622999787, average loss: 0.0031267164\n"
     ]
    },
    {
     "name": "stderr",
     "output_type": "stream",
     "text": [
      "391it [01:39,  3.94it/s]"
     ]
    },
    {
     "name": "stdout",
     "output_type": "stream",
     "text": [
      "Epoch 16 finished, average loss: 0.0023142402\n",
      "Starting testing\n"
     ]
    },
    {
     "name": "stderr",
     "output_type": "stream",
     "text": [
      "\n"
     ]
    },
    {
     "name": "stdout",
     "output_type": "stream",
     "text": [
      "Correct: 8489, total: 10000, accuracy: 0.8488999605, average loss: 0.0037101373\n"
     ]
    },
    {
     "name": "stderr",
     "output_type": "stream",
     "text": [
      "391it [01:39,  3.95it/s]"
     ]
    },
    {
     "name": "stdout",
     "output_type": "stream",
     "text": [
      "Epoch 17 finished, average loss: 0.0021639042\n",
      "Starting testing\n"
     ]
    },
    {
     "name": "stderr",
     "output_type": "stream",
     "text": [
      "\n"
     ]
    },
    {
     "name": "stdout",
     "output_type": "stream",
     "text": [
      "Correct: 8524, total: 10000, accuracy: 0.8524000049, average loss: 0.0035764705\n"
     ]
    },
    {
     "name": "stderr",
     "output_type": "stream",
     "text": [
      "391it [01:39,  3.92it/s]"
     ]
    },
    {
     "name": "stdout",
     "output_type": "stream",
     "text": [
      "Epoch 18 finished, average loss: 0.0021560744\n",
      "Starting testing\n"
     ]
    },
    {
     "name": "stderr",
     "output_type": "stream",
     "text": [
      "\n"
     ]
    },
    {
     "name": "stdout",
     "output_type": "stream",
     "text": [
      "Correct: 8430, total: 10000, accuracy: 0.8429999948, average loss: 0.0039488423\n"
     ]
    },
    {
     "name": "stderr",
     "output_type": "stream",
     "text": [
      "391it [01:40,  3.90it/s]"
     ]
    },
    {
     "name": "stdout",
     "output_type": "stream",
     "text": [
      "Epoch 19 finished, average loss: 0.0020625771\n",
      "Starting testing\n"
     ]
    },
    {
     "name": "stderr",
     "output_type": "stream",
     "text": [
      "\n"
     ]
    },
    {
     "name": "stdout",
     "output_type": "stream",
     "text": [
      "Correct: 8602, total: 10000, accuracy: 0.8601999879, average loss: 0.0033174914\n"
     ]
    },
    {
     "name": "stderr",
     "output_type": "stream",
     "text": [
      "391it [01:40,  3.90it/s]"
     ]
    },
    {
     "name": "stdout",
     "output_type": "stream",
     "text": [
      "Epoch 20 finished, average loss: 0.0020347313\n",
      "Starting testing\n"
     ]
    },
    {
     "name": "stderr",
     "output_type": "stream",
     "text": [
      "\n"
     ]
    },
    {
     "name": "stdout",
     "output_type": "stream",
     "text": [
      "Correct: 8609, total: 10000, accuracy: 0.8608999848, average loss: 0.0032604721\n"
     ]
    },
    {
     "name": "stderr",
     "output_type": "stream",
     "text": [
      "391it [01:37,  4.00it/s]"
     ]
    },
    {
     "name": "stdout",
     "output_type": "stream",
     "text": [
      "Epoch 21 finished, average loss: 0.0019526414\n",
      "Starting testing\n"
     ]
    },
    {
     "name": "stderr",
     "output_type": "stream",
     "text": [
      "\n"
     ]
    },
    {
     "name": "stdout",
     "output_type": "stream",
     "text": [
      "Correct: 8693, total: 10000, accuracy: 0.8693000078, average loss: 0.0031845082\n"
     ]
    },
    {
     "name": "stderr",
     "output_type": "stream",
     "text": [
      "391it [01:36,  4.07it/s]"
     ]
    },
    {
     "name": "stdout",
     "output_type": "stream",
     "text": [
      "Epoch 22 finished, average loss: 0.0018958221\n",
      "Starting testing\n"
     ]
    },
    {
     "name": "stderr",
     "output_type": "stream",
     "text": [
      "\n"
     ]
    },
    {
     "name": "stdout",
     "output_type": "stream",
     "text": [
      "Correct: 8524, total: 10000, accuracy: 0.8524000049, average loss: 0.0036401326\n"
     ]
    },
    {
     "name": "stderr",
     "output_type": "stream",
     "text": [
      "391it [01:36,  4.07it/s]"
     ]
    },
    {
     "name": "stdout",
     "output_type": "stream",
     "text": [
      "Epoch 23 finished, average loss: 0.0019044388\n",
      "Starting testing\n"
     ]
    },
    {
     "name": "stderr",
     "output_type": "stream",
     "text": [
      "\n"
     ]
    },
    {
     "name": "stdout",
     "output_type": "stream",
     "text": [
      "Correct: 8555, total: 10000, accuracy: 0.8554999828, average loss: 0.0036446181\n"
     ]
    },
    {
     "name": "stderr",
     "output_type": "stream",
     "text": [
      "391it [01:35,  4.08it/s]"
     ]
    },
    {
     "name": "stdout",
     "output_type": "stream",
     "text": [
      "Epoch 24 finished, average loss: 0.0018552215\n",
      "Starting testing\n"
     ]
    },
    {
     "name": "stderr",
     "output_type": "stream",
     "text": [
      "\n"
     ]
    },
    {
     "name": "stdout",
     "output_type": "stream",
     "text": [
      "Correct: 8698, total: 10000, accuracy: 0.8697999716, average loss: 0.0030779799\n"
     ]
    },
    {
     "name": "stderr",
     "output_type": "stream",
     "text": [
      "391it [01:35,  4.09it/s]"
     ]
    },
    {
     "name": "stdout",
     "output_type": "stream",
     "text": [
      "Epoch 25 finished, average loss: 0.0017942114\n",
      "Starting testing\n"
     ]
    },
    {
     "name": "stderr",
     "output_type": "stream",
     "text": [
      "\n"
     ]
    },
    {
     "name": "stdout",
     "output_type": "stream",
     "text": [
      "Correct: 8494, total: 10000, accuracy: 0.8493999839, average loss: 0.0036670593\n"
     ]
    },
    {
     "name": "stderr",
     "output_type": "stream",
     "text": [
      "391it [01:36,  4.07it/s]"
     ]
    },
    {
     "name": "stdout",
     "output_type": "stream",
     "text": [
      "Epoch 26 finished, average loss: 0.0017716724\n",
      "Starting testing\n"
     ]
    },
    {
     "name": "stderr",
     "output_type": "stream",
     "text": [
      "\n"
     ]
    },
    {
     "name": "stdout",
     "output_type": "stream",
     "text": [
      "Correct: 8630, total: 10000, accuracy: 0.8629999757, average loss: 0.0033531793\n"
     ]
    },
    {
     "name": "stderr",
     "output_type": "stream",
     "text": [
      "391it [01:36,  4.07it/s]"
     ]
    },
    {
     "name": "stdout",
     "output_type": "stream",
     "text": [
      "Epoch 27 finished, average loss: 0.0017329222\n",
      "Starting testing\n"
     ]
    },
    {
     "name": "stderr",
     "output_type": "stream",
     "text": [
      "\n"
     ]
    },
    {
     "name": "stdout",
     "output_type": "stream",
     "text": [
      "Correct: 8680, total: 10000, accuracy: 0.8679999709, average loss: 0.0032178081\n"
     ]
    },
    {
     "name": "stderr",
     "output_type": "stream",
     "text": [
      "391it [01:49,  3.56it/s]"
     ]
    },
    {
     "name": "stdout",
     "output_type": "stream",
     "text": [
      "Epoch 28 finished, average loss: 0.0017227530\n",
      "Starting testing\n"
     ]
    },
    {
     "name": "stderr",
     "output_type": "stream",
     "text": [
      "\n"
     ]
    },
    {
     "name": "stdout",
     "output_type": "stream",
     "text": [
      "Correct: 8521, total: 10000, accuracy: 0.8520999551, average loss: 0.0035045997\n"
     ]
    },
    {
     "name": "stderr",
     "output_type": "stream",
     "text": [
      "391it [01:54,  3.41it/s]"
     ]
    },
    {
     "name": "stdout",
     "output_type": "stream",
     "text": [
      "Epoch 29 finished, average loss: 0.0016927815\n",
      "Starting testing\n"
     ]
    },
    {
     "name": "stderr",
     "output_type": "stream",
     "text": [
      "\n"
     ]
    },
    {
     "name": "stdout",
     "output_type": "stream",
     "text": [
      "Correct: 8735, total: 10000, accuracy: 0.8734999895, average loss: 0.0030151300\n"
     ]
    },
    {
     "name": "stderr",
     "output_type": "stream",
     "text": [
      "391it [01:54,  3.41it/s]"
     ]
    },
    {
     "name": "stdout",
     "output_type": "stream",
     "text": [
      "Epoch 30 finished, average loss: 0.0016474769\n",
      "Starting testing\n"
     ]
    },
    {
     "name": "stderr",
     "output_type": "stream",
     "text": [
      "\n"
     ]
    },
    {
     "name": "stdout",
     "output_type": "stream",
     "text": [
      "Correct: 8755, total: 10000, accuracy: 0.8754999638, average loss: 0.0030503630\n"
     ]
    },
    {
     "name": "stderr",
     "output_type": "stream",
     "text": [
      "391it [01:49,  3.58it/s]"
     ]
    },
    {
     "name": "stdout",
     "output_type": "stream",
     "text": [
      "Epoch 31 finished, average loss: 0.0016771522\n",
      "Starting testing\n"
     ]
    },
    {
     "name": "stderr",
     "output_type": "stream",
     "text": [
      "\n"
     ]
    },
    {
     "name": "stdout",
     "output_type": "stream",
     "text": [
      "Correct: 8773, total: 10000, accuracy: 0.8772999644, average loss: 0.0030301407\n"
     ]
    },
    {
     "name": "stderr",
     "output_type": "stream",
     "text": [
      "391it [01:54,  3.41it/s]"
     ]
    },
    {
     "name": "stdout",
     "output_type": "stream",
     "text": [
      "Epoch 32 finished, average loss: 0.0016180413\n",
      "Starting testing\n"
     ]
    },
    {
     "name": "stderr",
     "output_type": "stream",
     "text": [
      "\n"
     ]
    },
    {
     "name": "stdout",
     "output_type": "stream",
     "text": [
      "Correct: 8790, total: 10000, accuracy: 0.8789999485, average loss: 0.0028879912\n"
     ]
    },
    {
     "name": "stderr",
     "output_type": "stream",
     "text": [
      "391it [01:50,  3.53it/s]"
     ]
    },
    {
     "name": "stdout",
     "output_type": "stream",
     "text": [
      "Epoch 33 finished, average loss: 0.0015600158\n",
      "Starting testing\n"
     ]
    },
    {
     "name": "stderr",
     "output_type": "stream",
     "text": [
      "\n"
     ]
    },
    {
     "name": "stdout",
     "output_type": "stream",
     "text": [
      "Correct: 8715, total: 10000, accuracy: 0.8714999557, average loss: 0.0031049607\n"
     ]
    },
    {
     "name": "stderr",
     "output_type": "stream",
     "text": [
      "391it [01:43,  3.78it/s]"
     ]
    },
    {
     "name": "stdout",
     "output_type": "stream",
     "text": [
      "Epoch 34 finished, average loss: 0.0015798860\n",
      "Starting testing\n"
     ]
    },
    {
     "name": "stderr",
     "output_type": "stream",
     "text": [
      "\n"
     ]
    },
    {
     "name": "stdout",
     "output_type": "stream",
     "text": [
      "Correct: 8872, total: 10000, accuracy: 0.8871999979, average loss: 0.0027960187\n"
     ]
    },
    {
     "name": "stderr",
     "output_type": "stream",
     "text": [
      "391it [01:55,  3.38it/s]"
     ]
    },
    {
     "name": "stdout",
     "output_type": "stream",
     "text": [
      "Epoch 35 finished, average loss: 0.0015533073\n",
      "Starting testing\n"
     ]
    },
    {
     "name": "stderr",
     "output_type": "stream",
     "text": [
      "\n"
     ]
    },
    {
     "name": "stdout",
     "output_type": "stream",
     "text": [
      "Correct: 8605, total: 10000, accuracy: 0.8604999781, average loss: 0.0035794053\n"
     ]
    },
    {
     "name": "stderr",
     "output_type": "stream",
     "text": [
      "391it [01:55,  3.39it/s]"
     ]
    },
    {
     "name": "stdout",
     "output_type": "stream",
     "text": [
      "Epoch 36 finished, average loss: 0.0015224692\n",
      "Starting testing\n"
     ]
    },
    {
     "name": "stderr",
     "output_type": "stream",
     "text": [
      "\n"
     ]
    },
    {
     "name": "stdout",
     "output_type": "stream",
     "text": [
      "Correct: 8923, total: 10000, accuracy: 0.8922999501, average loss: 0.0026112573\n"
     ]
    },
    {
     "name": "stderr",
     "output_type": "stream",
     "text": [
      "391it [01:55,  3.38it/s]"
     ]
    },
    {
     "name": "stdout",
     "output_type": "stream",
     "text": [
      "Epoch 37 finished, average loss: 0.0015455892\n",
      "Starting testing\n"
     ]
    },
    {
     "name": "stderr",
     "output_type": "stream",
     "text": [
      "\n"
     ]
    },
    {
     "name": "stdout",
     "output_type": "stream",
     "text": [
      "Correct: 8794, total: 10000, accuracy: 0.8793999553, average loss: 0.0028906429\n"
     ]
    },
    {
     "name": "stderr",
     "output_type": "stream",
     "text": [
      "391it [01:55,  3.39it/s]"
     ]
    },
    {
     "name": "stdout",
     "output_type": "stream",
     "text": [
      "Epoch 38 finished, average loss: 0.0014757915\n",
      "Starting testing\n"
     ]
    },
    {
     "name": "stderr",
     "output_type": "stream",
     "text": [
      "\n"
     ]
    },
    {
     "name": "stdout",
     "output_type": "stream",
     "text": [
      "Correct: 8873, total: 10000, accuracy: 0.8872999549, average loss: 0.0027683050\n"
     ]
    },
    {
     "name": "stderr",
     "output_type": "stream",
     "text": [
      "391it [01:55,  3.39it/s]"
     ]
    },
    {
     "name": "stdout",
     "output_type": "stream",
     "text": [
      "Epoch 39 finished, average loss: 0.0015034760\n",
      "Starting testing\n"
     ]
    },
    {
     "name": "stderr",
     "output_type": "stream",
     "text": [
      "\n"
     ]
    },
    {
     "name": "stdout",
     "output_type": "stream",
     "text": [
      "Correct: 8756, total: 10000, accuracy: 0.8755999804, average loss: 0.0032003288\n"
     ]
    },
    {
     "name": "stderr",
     "output_type": "stream",
     "text": [
      "391it [01:55,  3.38it/s]"
     ]
    },
    {
     "name": "stdout",
     "output_type": "stream",
     "text": [
      "Epoch 40 finished, average loss: 0.0014612660\n",
      "Starting testing\n"
     ]
    },
    {
     "name": "stderr",
     "output_type": "stream",
     "text": [
      "\n"
     ]
    },
    {
     "name": "stdout",
     "output_type": "stream",
     "text": [
      "Correct: 8888, total: 10000, accuracy: 0.8887999654, average loss: 0.0026526650\n"
     ]
    },
    {
     "name": "stderr",
     "output_type": "stream",
     "text": [
      "391it [01:49,  3.58it/s]"
     ]
    },
    {
     "name": "stdout",
     "output_type": "stream",
     "text": [
      "Epoch 41 finished, average loss: 0.0014809245\n",
      "Starting testing\n"
     ]
    },
    {
     "name": "stderr",
     "output_type": "stream",
     "text": [
      "\n"
     ]
    },
    {
     "name": "stdout",
     "output_type": "stream",
     "text": [
      "Correct: 8913, total: 10000, accuracy: 0.8912999630, average loss: 0.0025851122\n"
     ]
    },
    {
     "name": "stderr",
     "output_type": "stream",
     "text": [
      "391it [01:39,  3.91it/s]"
     ]
    },
    {
     "name": "stdout",
     "output_type": "stream",
     "text": [
      "Epoch 42 finished, average loss: 0.0014073305\n",
      "Starting testing\n"
     ]
    },
    {
     "name": "stderr",
     "output_type": "stream",
     "text": [
      "\n"
     ]
    },
    {
     "name": "stdout",
     "output_type": "stream",
     "text": [
      "Correct: 8893, total: 10000, accuracy: 0.8892999887, average loss: 0.0027057910\n"
     ]
    },
    {
     "name": "stderr",
     "output_type": "stream",
     "text": [
      "391it [01:40,  3.90it/s]"
     ]
    },
    {
     "name": "stdout",
     "output_type": "stream",
     "text": [
      "Epoch 43 finished, average loss: 0.0014109382\n",
      "Starting testing\n"
     ]
    },
    {
     "name": "stderr",
     "output_type": "stream",
     "text": [
      "\n"
     ]
    },
    {
     "name": "stdout",
     "output_type": "stream",
     "text": [
      "Correct: 8834, total: 10000, accuracy: 0.8833999634, average loss: 0.0029703176\n"
     ]
    },
    {
     "name": "stderr",
     "output_type": "stream",
     "text": [
      "391it [01:49,  3.56it/s]"
     ]
    },
    {
     "name": "stdout",
     "output_type": "stream",
     "text": [
      "Epoch 44 finished, average loss: 0.0014093878\n",
      "Starting testing\n"
     ]
    },
    {
     "name": "stderr",
     "output_type": "stream",
     "text": [
      "\n"
     ]
    },
    {
     "name": "stdout",
     "output_type": "stream",
     "text": [
      "Correct: 8630, total: 10000, accuracy: 0.8629999757, average loss: 0.0035708188\n"
     ]
    },
    {
     "name": "stderr",
     "output_type": "stream",
     "text": [
      "391it [01:43,  3.79it/s]"
     ]
    },
    {
     "name": "stdout",
     "output_type": "stream",
     "text": [
      "Epoch 45 finished, average loss: 0.0013936755\n",
      "Starting testing\n"
     ]
    },
    {
     "name": "stderr",
     "output_type": "stream",
     "text": [
      "\n"
     ]
    },
    {
     "name": "stdout",
     "output_type": "stream",
     "text": [
      "Correct: 8832, total: 10000, accuracy: 0.8831999898, average loss: 0.0029945733\n"
     ]
    },
    {
     "name": "stderr",
     "output_type": "stream",
     "text": [
      "391it [01:47,  3.65it/s]"
     ]
    },
    {
     "name": "stdout",
     "output_type": "stream",
     "text": [
      "Epoch 46 finished, average loss: 0.0014332408\n",
      "Starting testing\n"
     ]
    },
    {
     "name": "stderr",
     "output_type": "stream",
     "text": [
      "\n"
     ]
    },
    {
     "name": "stdout",
     "output_type": "stream",
     "text": [
      "Correct: 8749, total: 10000, accuracy: 0.8748999834, average loss: 0.0032486527\n"
     ]
    },
    {
     "name": "stderr",
     "output_type": "stream",
     "text": [
      "391it [01:54,  3.40it/s]"
     ]
    },
    {
     "name": "stdout",
     "output_type": "stream",
     "text": [
      "Epoch 47 finished, average loss: 0.0013456835\n",
      "Starting testing\n"
     ]
    },
    {
     "name": "stderr",
     "output_type": "stream",
     "text": [
      "\n"
     ]
    },
    {
     "name": "stdout",
     "output_type": "stream",
     "text": [
      "Correct: 8793, total: 10000, accuracy: 0.8792999983, average loss: 0.0029240365\n"
     ]
    },
    {
     "name": "stderr",
     "output_type": "stream",
     "text": [
      "391it [01:48,  3.60it/s]"
     ]
    },
    {
     "name": "stdout",
     "output_type": "stream",
     "text": [
      "Epoch 48 finished, average loss: 0.0013773385\n",
      "Starting testing\n"
     ]
    },
    {
     "name": "stderr",
     "output_type": "stream",
     "text": [
      "\n"
     ]
    },
    {
     "name": "stdout",
     "output_type": "stream",
     "text": [
      "Correct: 8925, total: 10000, accuracy: 0.8924999833, average loss: 0.0027067158\n"
     ]
    },
    {
     "name": "stderr",
     "output_type": "stream",
     "text": [
      "391it [01:44,  3.73it/s]"
     ]
    },
    {
     "name": "stdout",
     "output_type": "stream",
     "text": [
      "Epoch 49 finished, average loss: 0.0013591993\n",
      "Starting testing\n"
     ]
    },
    {
     "name": "stderr",
     "output_type": "stream",
     "text": [
      "\n"
     ]
    },
    {
     "name": "stdout",
     "output_type": "stream",
     "text": [
      "Correct: 8856, total: 10000, accuracy: 0.8855999708, average loss: 0.0029362552\n"
     ]
    },
    {
     "name": "stderr",
     "output_type": "stream",
     "text": [
      "391it [01:42,  3.82it/s]"
     ]
    },
    {
     "name": "stdout",
     "output_type": "stream",
     "text": [
      "Epoch 50 finished, average loss: 0.0013448861\n",
      "Starting testing\n"
     ]
    },
    {
     "name": "stderr",
     "output_type": "stream",
     "text": [
      "\n"
     ]
    },
    {
     "name": "stdout",
     "output_type": "stream",
     "text": [
      "Correct: 9008, total: 10000, accuracy: 0.9007999897, average loss: 0.0025340244\n"
     ]
    },
    {
     "name": "stderr",
     "output_type": "stream",
     "text": [
      "391it [01:54,  3.41it/s]"
     ]
    },
    {
     "name": "stdout",
     "output_type": "stream",
     "text": [
      "Epoch 51 finished, average loss: 0.0013284186\n",
      "Starting testing\n"
     ]
    },
    {
     "name": "stderr",
     "output_type": "stream",
     "text": [
      "\n"
     ]
    },
    {
     "name": "stdout",
     "output_type": "stream",
     "text": [
      "Correct: 8838, total: 10000, accuracy: 0.8837999701, average loss: 0.0029071629\n"
     ]
    },
    {
     "name": "stderr",
     "output_type": "stream",
     "text": [
      "391it [01:55,  3.38it/s]"
     ]
    },
    {
     "name": "stdout",
     "output_type": "stream",
     "text": [
      "Epoch 52 finished, average loss: 0.0013111519\n",
      "Starting testing\n"
     ]
    },
    {
     "name": "stderr",
     "output_type": "stream",
     "text": [
      "\n"
     ]
    },
    {
     "name": "stdout",
     "output_type": "stream",
     "text": [
      "Correct: 8889, total: 10000, accuracy: 0.8888999820, average loss: 0.0027949632\n"
     ]
    },
    {
     "name": "stderr",
     "output_type": "stream",
     "text": [
      "391it [01:55,  3.37it/s]"
     ]
    },
    {
     "name": "stdout",
     "output_type": "stream",
     "text": [
      "Epoch 53 finished, average loss: 0.0013036933\n",
      "Starting testing\n"
     ]
    },
    {
     "name": "stderr",
     "output_type": "stream",
     "text": [
      "\n"
     ]
    },
    {
     "name": "stdout",
     "output_type": "stream",
     "text": [
      "Correct: 8687, total: 10000, accuracy: 0.8686999679, average loss: 0.0033566078\n"
     ]
    },
    {
     "name": "stderr",
     "output_type": "stream",
     "text": [
      "391it [01:55,  3.38it/s]"
     ]
    },
    {
     "name": "stdout",
     "output_type": "stream",
     "text": [
      "Epoch 54 finished, average loss: 0.0012876691\n",
      "Starting testing\n"
     ]
    },
    {
     "name": "stderr",
     "output_type": "stream",
     "text": [
      "\n"
     ]
    },
    {
     "name": "stdout",
     "output_type": "stream",
     "text": [
      "Correct: 8628, total: 10000, accuracy: 0.8628000021, average loss: 0.0036991415\n"
     ]
    },
    {
     "name": "stderr",
     "output_type": "stream",
     "text": [
      "391it [01:47,  3.63it/s]"
     ]
    },
    {
     "name": "stdout",
     "output_type": "stream",
     "text": [
      "Epoch 55 finished, average loss: 0.0012803775\n",
      "Starting testing\n"
     ]
    },
    {
     "name": "stderr",
     "output_type": "stream",
     "text": [
      "\n"
     ]
    },
    {
     "name": "stdout",
     "output_type": "stream",
     "text": [
      "Correct: 8906, total: 10000, accuracy: 0.8905999660, average loss: 0.0026186180\n"
     ]
    },
    {
     "name": "stderr",
     "output_type": "stream",
     "text": [
      "391it [01:52,  3.48it/s]"
     ]
    },
    {
     "name": "stdout",
     "output_type": "stream",
     "text": [
      "Epoch 56 finished, average loss: 0.0012983602\n",
      "Starting testing\n"
     ]
    },
    {
     "name": "stderr",
     "output_type": "stream",
     "text": [
      "\n"
     ]
    },
    {
     "name": "stdout",
     "output_type": "stream",
     "text": [
      "Correct: 9013, total: 10000, accuracy: 0.9012999535, average loss: 0.0025725892\n"
     ]
    },
    {
     "name": "stderr",
     "output_type": "stream",
     "text": [
      "391it [01:46,  3.65it/s]"
     ]
    },
    {
     "name": "stdout",
     "output_type": "stream",
     "text": [
      "Epoch 57 finished, average loss: 0.0012349015\n",
      "Starting testing\n"
     ]
    },
    {
     "name": "stderr",
     "output_type": "stream",
     "text": [
      "\n"
     ]
    },
    {
     "name": "stdout",
     "output_type": "stream",
     "text": [
      "Correct: 8949, total: 10000, accuracy: 0.8948999643, average loss: 0.0025861242\n"
     ]
    },
    {
     "name": "stderr",
     "output_type": "stream",
     "text": [
      "391it [01:53,  3.46it/s]"
     ]
    },
    {
     "name": "stdout",
     "output_type": "stream",
     "text": [
      "Epoch 58 finished, average loss: 0.0012990817\n",
      "Starting testing\n"
     ]
    },
    {
     "name": "stderr",
     "output_type": "stream",
     "text": [
      "\n"
     ]
    },
    {
     "name": "stdout",
     "output_type": "stream",
     "text": [
      "Correct: 9025, total: 10000, accuracy: 0.9024999738, average loss: 0.0023764648\n"
     ]
    },
    {
     "name": "stderr",
     "output_type": "stream",
     "text": [
      "391it [01:51,  3.51it/s]"
     ]
    },
    {
     "name": "stdout",
     "output_type": "stream",
     "text": [
      "Epoch 59 finished, average loss: 0.0012592797\n",
      "Starting testing\n"
     ]
    },
    {
     "name": "stderr",
     "output_type": "stream",
     "text": [
      "\n"
     ]
    },
    {
     "name": "stdout",
     "output_type": "stream",
     "text": [
      "Correct: 8988, total: 10000, accuracy: 0.8987999558, average loss: 0.0025337226\n"
     ]
    },
    {
     "name": "stderr",
     "output_type": "stream",
     "text": [
      "391it [01:46,  3.67it/s]"
     ]
    },
    {
     "name": "stdout",
     "output_type": "stream",
     "text": [
      "Epoch 60 finished, average loss: 0.0011877649\n",
      "Starting testing\n"
     ]
    },
    {
     "name": "stderr",
     "output_type": "stream",
     "text": [
      "\n"
     ]
    },
    {
     "name": "stdout",
     "output_type": "stream",
     "text": [
      "Correct: 8759, total: 10000, accuracy: 0.8758999705, average loss: 0.0032074679\n"
     ]
    },
    {
     "name": "stderr",
     "output_type": "stream",
     "text": [
      "391it [01:56,  3.36it/s]"
     ]
    },
    {
     "name": "stdout",
     "output_type": "stream",
     "text": [
      "Epoch 61 finished, average loss: 0.0012531433\n",
      "Starting testing\n"
     ]
    },
    {
     "name": "stderr",
     "output_type": "stream",
     "text": [
      "\n"
     ]
    },
    {
     "name": "stdout",
     "output_type": "stream",
     "text": [
      "Correct: 8936, total: 10000, accuracy: 0.8935999870, average loss: 0.0026666367\n"
     ]
    },
    {
     "name": "stderr",
     "output_type": "stream",
     "text": [
      "391it [01:53,  3.44it/s]"
     ]
    },
    {
     "name": "stdout",
     "output_type": "stream",
     "text": [
      "Epoch 62 finished, average loss: 0.0012375470\n",
      "Starting testing\n"
     ]
    },
    {
     "name": "stderr",
     "output_type": "stream",
     "text": [
      "\n"
     ]
    },
    {
     "name": "stdout",
     "output_type": "stream",
     "text": [
      "Correct: 8739, total: 10000, accuracy: 0.8738999963, average loss: 0.0032605089\n"
     ]
    },
    {
     "name": "stderr",
     "output_type": "stream",
     "text": [
      "391it [01:46,  3.67it/s]"
     ]
    },
    {
     "name": "stdout",
     "output_type": "stream",
     "text": [
      "Epoch 63 finished, average loss: 0.0012662024\n",
      "Starting testing\n"
     ]
    },
    {
     "name": "stderr",
     "output_type": "stream",
     "text": [
      "\n"
     ]
    },
    {
     "name": "stdout",
     "output_type": "stream",
     "text": [
      "Correct: 8893, total: 10000, accuracy: 0.8892999887, average loss: 0.0027746484\n"
     ]
    },
    {
     "name": "stderr",
     "output_type": "stream",
     "text": [
      "391it [01:39,  3.93it/s]"
     ]
    },
    {
     "name": "stdout",
     "output_type": "stream",
     "text": [
      "Epoch 64 finished, average loss: 0.0011692244\n",
      "Starting testing\n"
     ]
    },
    {
     "name": "stderr",
     "output_type": "stream",
     "text": [
      "\n"
     ]
    },
    {
     "name": "stdout",
     "output_type": "stream",
     "text": [
      "Correct: 8875, total: 10000, accuracy: 0.8874999881, average loss: 0.0029237071\n"
     ]
    },
    {
     "name": "stderr",
     "output_type": "stream",
     "text": [
      "391it [01:39,  3.93it/s]"
     ]
    },
    {
     "name": "stdout",
     "output_type": "stream",
     "text": [
      "Epoch 65 finished, average loss: 0.0012033646\n",
      "Starting testing\n"
     ]
    },
    {
     "name": "stderr",
     "output_type": "stream",
     "text": [
      "\n"
     ]
    },
    {
     "name": "stdout",
     "output_type": "stream",
     "text": [
      "Correct: 9026, total: 10000, accuracy: 0.9025999904, average loss: 0.0024466116\n"
     ]
    },
    {
     "name": "stderr",
     "output_type": "stream",
     "text": [
      "391it [01:39,  3.93it/s]"
     ]
    },
    {
     "name": "stdout",
     "output_type": "stream",
     "text": [
      "Epoch 66 finished, average loss: 0.0011740428\n",
      "Starting testing\n"
     ]
    },
    {
     "name": "stderr",
     "output_type": "stream",
     "text": [
      "\n"
     ]
    },
    {
     "name": "stdout",
     "output_type": "stream",
     "text": [
      "Correct: 9007, total: 10000, accuracy: 0.9006999731, average loss: 0.0025915690\n"
     ]
    },
    {
     "name": "stderr",
     "output_type": "stream",
     "text": [
      "391it [01:39,  3.94it/s]"
     ]
    },
    {
     "name": "stdout",
     "output_type": "stream",
     "text": [
      "Epoch 67 finished, average loss: 0.0012263476\n",
      "Starting testing\n"
     ]
    },
    {
     "name": "stderr",
     "output_type": "stream",
     "text": [
      "\n"
     ]
    },
    {
     "name": "stdout",
     "output_type": "stream",
     "text": [
      "Correct: 8722, total: 10000, accuracy: 0.8721999526, average loss: 0.0033324285\n"
     ]
    },
    {
     "name": "stderr",
     "output_type": "stream",
     "text": [
      "391it [01:39,  3.93it/s]"
     ]
    },
    {
     "name": "stdout",
     "output_type": "stream",
     "text": [
      "Epoch 68 finished, average loss: 0.0011683068\n",
      "Starting testing\n"
     ]
    },
    {
     "name": "stderr",
     "output_type": "stream",
     "text": [
      "\n"
     ]
    },
    {
     "name": "stdout",
     "output_type": "stream",
     "text": [
      "Correct: 8921, total: 10000, accuracy: 0.8920999765, average loss: 0.0027438452\n"
     ]
    },
    {
     "name": "stderr",
     "output_type": "stream",
     "text": [
      "391it [01:38,  3.98it/s]"
     ]
    },
    {
     "name": "stdout",
     "output_type": "stream",
     "text": [
      "Epoch 69 finished, average loss: 0.0011631491\n",
      "Starting testing\n"
     ]
    },
    {
     "name": "stderr",
     "output_type": "stream",
     "text": [
      "\n"
     ]
    },
    {
     "name": "stdout",
     "output_type": "stream",
     "text": [
      "Correct: 9030, total: 10000, accuracy: 0.9029999971, average loss: 0.0023410513\n"
     ]
    },
    {
     "name": "stderr",
     "output_type": "stream",
     "text": [
      "391it [01:36,  4.07it/s]"
     ]
    },
    {
     "name": "stdout",
     "output_type": "stream",
     "text": [
      "Epoch 70 finished, average loss: 0.0011658867\n",
      "Starting testing\n"
     ]
    },
    {
     "name": "stderr",
     "output_type": "stream",
     "text": [
      "\n"
     ]
    },
    {
     "name": "stdout",
     "output_type": "stream",
     "text": [
      "Correct: 8929, total: 10000, accuracy: 0.8928999901, average loss: 0.0026586025\n"
     ]
    },
    {
     "name": "stderr",
     "output_type": "stream",
     "text": [
      "391it [01:36,  4.07it/s]"
     ]
    },
    {
     "name": "stdout",
     "output_type": "stream",
     "text": [
      "Epoch 71 finished, average loss: 0.0011729243\n",
      "Starting testing\n"
     ]
    },
    {
     "name": "stderr",
     "output_type": "stream",
     "text": [
      "\n"
     ]
    },
    {
     "name": "stdout",
     "output_type": "stream",
     "text": [
      "Correct: 9039, total: 10000, accuracy: 0.9038999677, average loss: 0.0024244039\n"
     ]
    },
    {
     "name": "stderr",
     "output_type": "stream",
     "text": [
      "391it [01:36,  4.07it/s]"
     ]
    },
    {
     "name": "stdout",
     "output_type": "stream",
     "text": [
      "Epoch 72 finished, average loss: 0.0011562705\n",
      "Starting testing\n"
     ]
    },
    {
     "name": "stderr",
     "output_type": "stream",
     "text": [
      "\n"
     ]
    },
    {
     "name": "stdout",
     "output_type": "stream",
     "text": [
      "Correct: 8933, total: 10000, accuracy: 0.8932999969, average loss: 0.0026375838\n"
     ]
    },
    {
     "name": "stderr",
     "output_type": "stream",
     "text": [
      "391it [01:36,  4.07it/s]"
     ]
    },
    {
     "name": "stdout",
     "output_type": "stream",
     "text": [
      "Epoch 73 finished, average loss: 0.0011521033\n",
      "Starting testing\n"
     ]
    },
    {
     "name": "stderr",
     "output_type": "stream",
     "text": [
      "\n"
     ]
    },
    {
     "name": "stdout",
     "output_type": "stream",
     "text": [
      "Correct: 9025, total: 10000, accuracy: 0.9024999738, average loss: 0.0023964897\n"
     ]
    },
    {
     "name": "stderr",
     "output_type": "stream",
     "text": [
      "391it [01:36,  4.07it/s]"
     ]
    },
    {
     "name": "stdout",
     "output_type": "stream",
     "text": [
      "Epoch 74 finished, average loss: 0.0011185686\n",
      "Starting testing\n"
     ]
    },
    {
     "name": "stderr",
     "output_type": "stream",
     "text": [
      "\n"
     ]
    },
    {
     "name": "stdout",
     "output_type": "stream",
     "text": [
      "Correct: 8889, total: 10000, accuracy: 0.8888999820, average loss: 0.0028019088\n"
     ]
    },
    {
     "name": "stderr",
     "output_type": "stream",
     "text": [
      "391it [01:36,  4.07it/s]"
     ]
    },
    {
     "name": "stdout",
     "output_type": "stream",
     "text": [
      "Epoch 75 finished, average loss: 0.0011286470\n",
      "Starting testing\n"
     ]
    },
    {
     "name": "stderr",
     "output_type": "stream",
     "text": [
      "\n"
     ]
    },
    {
     "name": "stdout",
     "output_type": "stream",
     "text": [
      "Correct: 8836, total: 10000, accuracy: 0.8835999966, average loss: 0.0029620260\n"
     ]
    },
    {
     "name": "stderr",
     "output_type": "stream",
     "text": [
      "391it [01:36,  4.07it/s]"
     ]
    },
    {
     "name": "stdout",
     "output_type": "stream",
     "text": [
      "Epoch 76 finished, average loss: 0.0011448318\n",
      "Starting testing\n"
     ]
    },
    {
     "name": "stderr",
     "output_type": "stream",
     "text": [
      "\n"
     ]
    },
    {
     "name": "stdout",
     "output_type": "stream",
     "text": [
      "Correct: 8955, total: 10000, accuracy: 0.8955000043, average loss: 0.0025514248\n"
     ]
    },
    {
     "name": "stderr",
     "output_type": "stream",
     "text": [
      "391it [01:36,  4.07it/s]"
     ]
    },
    {
     "name": "stdout",
     "output_type": "stream",
     "text": [
      "Epoch 77 finished, average loss: 0.0011390654\n",
      "Starting testing\n"
     ]
    },
    {
     "name": "stderr",
     "output_type": "stream",
     "text": [
      "\n"
     ]
    },
    {
     "name": "stdout",
     "output_type": "stream",
     "text": [
      "Correct: 8981, total: 10000, accuracy: 0.8980999589, average loss: 0.0025898647\n"
     ]
    },
    {
     "name": "stderr",
     "output_type": "stream",
     "text": [
      "391it [01:36,  4.07it/s]"
     ]
    },
    {
     "name": "stdout",
     "output_type": "stream",
     "text": [
      "Epoch 78 finished, average loss: 0.0011084863\n",
      "Starting testing\n"
     ]
    },
    {
     "name": "stderr",
     "output_type": "stream",
     "text": [
      "\n"
     ]
    },
    {
     "name": "stdout",
     "output_type": "stream",
     "text": [
      "Correct: 8933, total: 10000, accuracy: 0.8932999969, average loss: 0.0026776646\n"
     ]
    },
    {
     "name": "stderr",
     "output_type": "stream",
     "text": [
      "391it [01:36,  4.07it/s]"
     ]
    },
    {
     "name": "stdout",
     "output_type": "stream",
     "text": [
      "Epoch 79 finished, average loss: 0.0011179043\n",
      "Starting testing\n"
     ]
    },
    {
     "name": "stderr",
     "output_type": "stream",
     "text": [
      "\n"
     ]
    },
    {
     "name": "stdout",
     "output_type": "stream",
     "text": [
      "Correct: 8862, total: 10000, accuracy: 0.8861999512, average loss: 0.0029943592\n"
     ]
    },
    {
     "name": "stderr",
     "output_type": "stream",
     "text": [
      "391it [01:36,  4.07it/s]"
     ]
    },
    {
     "name": "stdout",
     "output_type": "stream",
     "text": [
      "Epoch 80 finished, average loss: 0.0010918257\n",
      "Starting testing\n"
     ]
    },
    {
     "name": "stderr",
     "output_type": "stream",
     "text": [
      "\n"
     ]
    },
    {
     "name": "stdout",
     "output_type": "stream",
     "text": [
      "Correct: 8954, total: 10000, accuracy: 0.8953999877, average loss: 0.0028031441\n"
     ]
    },
    {
     "name": "stderr",
     "output_type": "stream",
     "text": [
      "391it [01:36,  4.07it/s]"
     ]
    },
    {
     "name": "stdout",
     "output_type": "stream",
     "text": [
      "Epoch 81 finished, average loss: 0.0005179429\n",
      "Starting testing\n"
     ]
    },
    {
     "name": "stderr",
     "output_type": "stream",
     "text": [
      "\n"
     ]
    },
    {
     "name": "stdout",
     "output_type": "stream",
     "text": [
      "Correct: 9338, total: 10000, accuracy: 0.9337999821, average loss: 0.0015802024\n"
     ]
    },
    {
     "name": "stderr",
     "output_type": "stream",
     "text": [
      "391it [01:36,  4.07it/s]"
     ]
    },
    {
     "name": "stdout",
     "output_type": "stream",
     "text": [
      "Epoch 82 finished, average loss: 0.0003129076\n",
      "Starting testing\n"
     ]
    },
    {
     "name": "stderr",
     "output_type": "stream",
     "text": [
      "\n"
     ]
    },
    {
     "name": "stdout",
     "output_type": "stream",
     "text": [
      "Correct: 9360, total: 10000, accuracy: 0.9359999895, average loss: 0.0015522748\n"
     ]
    },
    {
     "name": "stderr",
     "output_type": "stream",
     "text": [
      "391it [01:36,  4.07it/s]"
     ]
    },
    {
     "name": "stdout",
     "output_type": "stream",
     "text": [
      "Epoch 83 finished, average loss: 0.0002300657\n",
      "Starting testing\n"
     ]
    },
    {
     "name": "stderr",
     "output_type": "stream",
     "text": [
      "\n"
     ]
    },
    {
     "name": "stdout",
     "output_type": "stream",
     "text": [
      "Correct: 9367, total: 10000, accuracy: 0.9366999865, average loss: 0.0015419992\n"
     ]
    },
    {
     "name": "stderr",
     "output_type": "stream",
     "text": [
      "391it [01:36,  4.07it/s]"
     ]
    },
    {
     "name": "stdout",
     "output_type": "stream",
     "text": [
      "Epoch 84 finished, average loss: 0.0002010700\n",
      "Starting testing\n"
     ]
    },
    {
     "name": "stderr",
     "output_type": "stream",
     "text": [
      "\n"
     ]
    },
    {
     "name": "stdout",
     "output_type": "stream",
     "text": [
      "Correct: 9381, total: 10000, accuracy: 0.9380999804, average loss: 0.0015710815\n"
     ]
    },
    {
     "name": "stderr",
     "output_type": "stream",
     "text": [
      "391it [01:36,  4.07it/s]"
     ]
    },
    {
     "name": "stdout",
     "output_type": "stream",
     "text": [
      "Epoch 85 finished, average loss: 0.0001755502\n",
      "Starting testing\n"
     ]
    },
    {
     "name": "stderr",
     "output_type": "stream",
     "text": [
      "\n"
     ]
    },
    {
     "name": "stdout",
     "output_type": "stream",
     "text": [
      "Correct: 9383, total: 10000, accuracy: 0.9382999539, average loss: 0.0015885059\n"
     ]
    },
    {
     "name": "stderr",
     "output_type": "stream",
     "text": [
      "391it [01:36,  4.07it/s]"
     ]
    },
    {
     "name": "stdout",
     "output_type": "stream",
     "text": [
      "Epoch 86 finished, average loss: 0.0001601134\n",
      "Starting testing\n"
     ]
    },
    {
     "name": "stderr",
     "output_type": "stream",
     "text": [
      "\n"
     ]
    },
    {
     "name": "stdout",
     "output_type": "stream",
     "text": [
      "Correct: 9379, total: 10000, accuracy: 0.9378999472, average loss: 0.0015964475\n"
     ]
    },
    {
     "name": "stderr",
     "output_type": "stream",
     "text": [
      "391it [01:36,  4.07it/s]"
     ]
    },
    {
     "name": "stdout",
     "output_type": "stream",
     "text": [
      "Epoch 87 finished, average loss: 0.0001373103\n",
      "Starting testing\n"
     ]
    },
    {
     "name": "stderr",
     "output_type": "stream",
     "text": [
      "\n"
     ]
    },
    {
     "name": "stdout",
     "output_type": "stream",
     "text": [
      "Correct: 9393, total: 10000, accuracy: 0.9393000007, average loss: 0.0016212116\n"
     ]
    },
    {
     "name": "stderr",
     "output_type": "stream",
     "text": [
      "391it [01:35,  4.07it/s]"
     ]
    },
    {
     "name": "stdout",
     "output_type": "stream",
     "text": [
      "Epoch 88 finished, average loss: 0.0001241789\n",
      "Starting testing\n"
     ]
    },
    {
     "name": "stderr",
     "output_type": "stream",
     "text": [
      "\n"
     ]
    },
    {
     "name": "stdout",
     "output_type": "stream",
     "text": [
      "Correct: 9397, total: 10000, accuracy: 0.9396999478, average loss: 0.0016355040\n"
     ]
    },
    {
     "name": "stderr",
     "output_type": "stream",
     "text": [
      "391it [01:36,  4.07it/s]"
     ]
    },
    {
     "name": "stdout",
     "output_type": "stream",
     "text": [
      "Epoch 89 finished, average loss: 0.0001138693\n",
      "Starting testing\n"
     ]
    },
    {
     "name": "stderr",
     "output_type": "stream",
     "text": [
      "\n"
     ]
    },
    {
     "name": "stdout",
     "output_type": "stream",
     "text": [
      "Correct: 9383, total: 10000, accuracy: 0.9382999539, average loss: 0.0016510769\n"
     ]
    },
    {
     "name": "stderr",
     "output_type": "stream",
     "text": [
      "391it [01:36,  4.07it/s]"
     ]
    },
    {
     "name": "stdout",
     "output_type": "stream",
     "text": [
      "Epoch 90 finished, average loss: 0.0001080688\n",
      "Starting testing\n"
     ]
    },
    {
     "name": "stderr",
     "output_type": "stream",
     "text": [
      "\n"
     ]
    },
    {
     "name": "stdout",
     "output_type": "stream",
     "text": [
      "Correct: 9383, total: 10000, accuracy: 0.9382999539, average loss: 0.0017194742\n"
     ]
    },
    {
     "name": "stderr",
     "output_type": "stream",
     "text": [
      "391it [01:36,  4.07it/s]"
     ]
    },
    {
     "name": "stdout",
     "output_type": "stream",
     "text": [
      "Epoch 91 finished, average loss: 0.0000958983\n",
      "Starting testing\n"
     ]
    },
    {
     "name": "stderr",
     "output_type": "stream",
     "text": [
      "\n"
     ]
    },
    {
     "name": "stdout",
     "output_type": "stream",
     "text": [
      "Correct: 9392, total: 10000, accuracy: 0.9391999841, average loss: 0.0016680253\n"
     ]
    },
    {
     "name": "stderr",
     "output_type": "stream",
     "text": [
      "391it [01:36,  4.07it/s]"
     ]
    },
    {
     "name": "stdout",
     "output_type": "stream",
     "text": [
      "Epoch 92 finished, average loss: 0.0000886353\n",
      "Starting testing\n"
     ]
    },
    {
     "name": "stderr",
     "output_type": "stream",
     "text": [
      "\n"
     ]
    },
    {
     "name": "stdout",
     "output_type": "stream",
     "text": [
      "Correct: 9401, total: 10000, accuracy: 0.9400999546, average loss: 0.0016691336\n"
     ]
    },
    {
     "name": "stderr",
     "output_type": "stream",
     "text": [
      "391it [01:36,  4.07it/s]"
     ]
    },
    {
     "name": "stdout",
     "output_type": "stream",
     "text": [
      "Epoch 93 finished, average loss: 0.0000806793\n",
      "Starting testing\n"
     ]
    },
    {
     "name": "stderr",
     "output_type": "stream",
     "text": [
      "\n"
     ]
    },
    {
     "name": "stdout",
     "output_type": "stream",
     "text": [
      "Correct: 9396, total: 10000, accuracy: 0.9395999908, average loss: 0.0017028592\n"
     ]
    },
    {
     "name": "stderr",
     "output_type": "stream",
     "text": [
      "391it [01:35,  4.07it/s]"
     ]
    },
    {
     "name": "stdout",
     "output_type": "stream",
     "text": [
      "Epoch 94 finished, average loss: 0.0000743670\n",
      "Starting testing\n"
     ]
    },
    {
     "name": "stderr",
     "output_type": "stream",
     "text": [
      "\n"
     ]
    },
    {
     "name": "stdout",
     "output_type": "stream",
     "text": [
      "Correct: 9410, total: 10000, accuracy: 0.9409999847, average loss: 0.0017103058\n"
     ]
    },
    {
     "name": "stderr",
     "output_type": "stream",
     "text": [
      "391it [01:36,  4.07it/s]"
     ]
    },
    {
     "name": "stdout",
     "output_type": "stream",
     "text": [
      "Epoch 95 finished, average loss: 0.0000688422\n",
      "Starting testing\n"
     ]
    },
    {
     "name": "stderr",
     "output_type": "stream",
     "text": [
      "\n"
     ]
    },
    {
     "name": "stdout",
     "output_type": "stream",
     "text": [
      "Correct: 9421, total: 10000, accuracy: 0.9420999885, average loss: 0.0017215194\n"
     ]
    },
    {
     "name": "stderr",
     "output_type": "stream",
     "text": [
      "391it [01:36,  4.07it/s]"
     ]
    },
    {
     "name": "stdout",
     "output_type": "stream",
     "text": [
      "Epoch 96 finished, average loss: 0.0000619587\n",
      "Starting testing\n"
     ]
    },
    {
     "name": "stderr",
     "output_type": "stream",
     "text": [
      "\n"
     ]
    },
    {
     "name": "stdout",
     "output_type": "stream",
     "text": [
      "Correct: 9403, total: 10000, accuracy: 0.9402999878, average loss: 0.0017403773\n"
     ]
    },
    {
     "name": "stderr",
     "output_type": "stream",
     "text": [
      "391it [01:36,  4.07it/s]"
     ]
    },
    {
     "name": "stdout",
     "output_type": "stream",
     "text": [
      "Epoch 97 finished, average loss: 0.0000625402\n",
      "Starting testing\n"
     ]
    },
    {
     "name": "stderr",
     "output_type": "stream",
     "text": [
      "\n"
     ]
    },
    {
     "name": "stdout",
     "output_type": "stream",
     "text": [
      "Correct: 9404, total: 10000, accuracy: 0.9404000044, average loss: 0.0017459872\n"
     ]
    },
    {
     "name": "stderr",
     "output_type": "stream",
     "text": [
      "391it [01:36,  4.07it/s]"
     ]
    },
    {
     "name": "stdout",
     "output_type": "stream",
     "text": [
      "Epoch 98 finished, average loss: 0.0000552678\n",
      "Starting testing\n"
     ]
    },
    {
     "name": "stderr",
     "output_type": "stream",
     "text": [
      "\n"
     ]
    },
    {
     "name": "stdout",
     "output_type": "stream",
     "text": [
      "Correct: 9416, total: 10000, accuracy: 0.9415999651, average loss: 0.0017474356\n"
     ]
    },
    {
     "name": "stderr",
     "output_type": "stream",
     "text": [
      "391it [01:36,  4.07it/s]"
     ]
    },
    {
     "name": "stdout",
     "output_type": "stream",
     "text": [
      "Epoch 99 finished, average loss: 0.0000549792\n",
      "Starting testing\n"
     ]
    },
    {
     "name": "stderr",
     "output_type": "stream",
     "text": [
      "\n"
     ]
    },
    {
     "name": "stdout",
     "output_type": "stream",
     "text": [
      "Correct: 9408, total: 10000, accuracy: 0.9407999516, average loss: 0.0018015808\n"
     ]
    },
    {
     "name": "stderr",
     "output_type": "stream",
     "text": [
      "391it [01:36,  4.07it/s]"
     ]
    },
    {
     "name": "stdout",
     "output_type": "stream",
     "text": [
      "Epoch 100 finished, average loss: 0.0000505966\n",
      "Starting testing\n"
     ]
    },
    {
     "name": "stderr",
     "output_type": "stream",
     "text": [
      "\n"
     ]
    },
    {
     "name": "stdout",
     "output_type": "stream",
     "text": [
      "Correct: 9410, total: 10000, accuracy: 0.9409999847, average loss: 0.0017858096\n"
     ]
    },
    {
     "name": "stderr",
     "output_type": "stream",
     "text": [
      "391it [01:36,  4.07it/s]"
     ]
    },
    {
     "name": "stdout",
     "output_type": "stream",
     "text": [
      "Epoch 101 finished, average loss: 0.0000470223\n",
      "Starting testing\n"
     ]
    },
    {
     "name": "stderr",
     "output_type": "stream",
     "text": [
      "\n"
     ]
    },
    {
     "name": "stdout",
     "output_type": "stream",
     "text": [
      "Correct: 9407, total: 10000, accuracy: 0.9406999946, average loss: 0.0018103860\n"
     ]
    },
    {
     "name": "stderr",
     "output_type": "stream",
     "text": [
      "391it [01:36,  4.07it/s]"
     ]
    },
    {
     "name": "stdout",
     "output_type": "stream",
     "text": [
      "Epoch 102 finished, average loss: 0.0000455678\n",
      "Starting testing\n"
     ]
    },
    {
     "name": "stderr",
     "output_type": "stream",
     "text": [
      "\n"
     ]
    },
    {
     "name": "stdout",
     "output_type": "stream",
     "text": [
      "Correct: 9414, total: 10000, accuracy: 0.9413999915, average loss: 0.0017965256\n"
     ]
    },
    {
     "name": "stderr",
     "output_type": "stream",
     "text": [
      "391it [01:36,  4.07it/s]"
     ]
    },
    {
     "name": "stdout",
     "output_type": "stream",
     "text": [
      "Epoch 103 finished, average loss: 0.0000485979\n",
      "Starting testing\n"
     ]
    },
    {
     "name": "stderr",
     "output_type": "stream",
     "text": [
      "\n"
     ]
    },
    {
     "name": "stdout",
     "output_type": "stream",
     "text": [
      "Correct: 9407, total: 10000, accuracy: 0.9406999946, average loss: 0.0018515671\n"
     ]
    },
    {
     "name": "stderr",
     "output_type": "stream",
     "text": [
      "391it [01:36,  4.07it/s]"
     ]
    },
    {
     "name": "stdout",
     "output_type": "stream",
     "text": [
      "Epoch 104 finished, average loss: 0.0000423829\n",
      "Starting testing\n"
     ]
    },
    {
     "name": "stderr",
     "output_type": "stream",
     "text": [
      "\n"
     ]
    },
    {
     "name": "stdout",
     "output_type": "stream",
     "text": [
      "Correct: 9409, total: 10000, accuracy: 0.9408999681, average loss: 0.0018540682\n"
     ]
    },
    {
     "name": "stderr",
     "output_type": "stream",
     "text": [
      "391it [01:36,  4.07it/s]"
     ]
    },
    {
     "name": "stdout",
     "output_type": "stream",
     "text": [
      "Epoch 105 finished, average loss: 0.0000434434\n",
      "Starting testing\n"
     ]
    },
    {
     "name": "stderr",
     "output_type": "stream",
     "text": [
      "\n"
     ]
    },
    {
     "name": "stdout",
     "output_type": "stream",
     "text": [
      "Correct: 9414, total: 10000, accuracy: 0.9413999915, average loss: 0.0018152662\n"
     ]
    },
    {
     "name": "stderr",
     "output_type": "stream",
     "text": [
      "391it [01:36,  4.07it/s]"
     ]
    },
    {
     "name": "stdout",
     "output_type": "stream",
     "text": [
      "Epoch 106 finished, average loss: 0.0000385082\n",
      "Starting testing\n"
     ]
    },
    {
     "name": "stderr",
     "output_type": "stream",
     "text": [
      "\n"
     ]
    },
    {
     "name": "stdout",
     "output_type": "stream",
     "text": [
      "Correct: 9421, total: 10000, accuracy: 0.9420999885, average loss: 0.0018481684\n"
     ]
    },
    {
     "name": "stderr",
     "output_type": "stream",
     "text": [
      "391it [01:35,  4.07it/s]"
     ]
    },
    {
     "name": "stdout",
     "output_type": "stream",
     "text": [
      "Epoch 107 finished, average loss: 0.0000366101\n",
      "Starting testing\n"
     ]
    },
    {
     "name": "stderr",
     "output_type": "stream",
     "text": [
      "\n"
     ]
    },
    {
     "name": "stdout",
     "output_type": "stream",
     "text": [
      "Correct: 9429, total: 10000, accuracy: 0.9429000020, average loss: 0.0018219745\n"
     ]
    },
    {
     "name": "stderr",
     "output_type": "stream",
     "text": [
      "391it [01:36,  4.07it/s]"
     ]
    },
    {
     "name": "stdout",
     "output_type": "stream",
     "text": [
      "Epoch 108 finished, average loss: 0.0000379019\n",
      "Starting testing\n"
     ]
    },
    {
     "name": "stderr",
     "output_type": "stream",
     "text": [
      "\n"
     ]
    },
    {
     "name": "stdout",
     "output_type": "stream",
     "text": [
      "Correct: 9422, total: 10000, accuracy: 0.9422000051, average loss: 0.0018551743\n"
     ]
    },
    {
     "name": "stderr",
     "output_type": "stream",
     "text": [
      "391it [01:35,  4.08it/s]"
     ]
    },
    {
     "name": "stdout",
     "output_type": "stream",
     "text": [
      "Epoch 109 finished, average loss: 0.0000387960\n",
      "Starting testing\n"
     ]
    },
    {
     "name": "stderr",
     "output_type": "stream",
     "text": [
      "\n"
     ]
    },
    {
     "name": "stdout",
     "output_type": "stream",
     "text": [
      "Correct: 9433, total: 10000, accuracy: 0.9432999492, average loss: 0.0018285514\n"
     ]
    },
    {
     "name": "stderr",
     "output_type": "stream",
     "text": [
      "391it [01:36,  4.07it/s]"
     ]
    },
    {
     "name": "stdout",
     "output_type": "stream",
     "text": [
      "Epoch 110 finished, average loss: 0.0000350388\n",
      "Starting testing\n"
     ]
    },
    {
     "name": "stderr",
     "output_type": "stream",
     "text": [
      "\n"
     ]
    },
    {
     "name": "stdout",
     "output_type": "stream",
     "text": [
      "Correct: 9421, total: 10000, accuracy: 0.9420999885, average loss: 0.0018669215\n"
     ]
    },
    {
     "name": "stderr",
     "output_type": "stream",
     "text": [
      "391it [01:36,  4.07it/s]"
     ]
    },
    {
     "name": "stdout",
     "output_type": "stream",
     "text": [
      "Epoch 111 finished, average loss: 0.0000339603\n",
      "Starting testing\n"
     ]
    },
    {
     "name": "stderr",
     "output_type": "stream",
     "text": [
      "\n"
     ]
    },
    {
     "name": "stdout",
     "output_type": "stream",
     "text": [
      "Correct: 9419, total: 10000, accuracy: 0.9418999553, average loss: 0.0018462437\n"
     ]
    },
    {
     "name": "stderr",
     "output_type": "stream",
     "text": [
      "391it [01:36,  4.07it/s]"
     ]
    },
    {
     "name": "stdout",
     "output_type": "stream",
     "text": [
      "Epoch 112 finished, average loss: 0.0000340323\n",
      "Starting testing\n"
     ]
    },
    {
     "name": "stderr",
     "output_type": "stream",
     "text": [
      "\n"
     ]
    },
    {
     "name": "stdout",
     "output_type": "stream",
     "text": [
      "Correct: 9415, total: 10000, accuracy: 0.9414999485, average loss: 0.0018716462\n"
     ]
    },
    {
     "name": "stderr",
     "output_type": "stream",
     "text": [
      "391it [01:36,  4.07it/s]"
     ]
    },
    {
     "name": "stdout",
     "output_type": "stream",
     "text": [
      "Epoch 113 finished, average loss: 0.0000293659\n",
      "Starting testing\n"
     ]
    },
    {
     "name": "stderr",
     "output_type": "stream",
     "text": [
      "\n"
     ]
    },
    {
     "name": "stdout",
     "output_type": "stream",
     "text": [
      "Correct: 9427, total: 10000, accuracy: 0.9426999688, average loss: 0.0018528046\n"
     ]
    },
    {
     "name": "stderr",
     "output_type": "stream",
     "text": [
      "391it [01:36,  4.07it/s]"
     ]
    },
    {
     "name": "stdout",
     "output_type": "stream",
     "text": [
      "Epoch 114 finished, average loss: 0.0000300321\n",
      "Starting testing\n"
     ]
    },
    {
     "name": "stderr",
     "output_type": "stream",
     "text": [
      "\n"
     ]
    },
    {
     "name": "stdout",
     "output_type": "stream",
     "text": [
      "Correct: 9426, total: 10000, accuracy: 0.9425999522, average loss: 0.0018705101\n"
     ]
    },
    {
     "name": "stderr",
     "output_type": "stream",
     "text": [
      "391it [01:36,  4.07it/s]"
     ]
    },
    {
     "name": "stdout",
     "output_type": "stream",
     "text": [
      "Epoch 115 finished, average loss: 0.0000292313\n",
      "Starting testing\n"
     ]
    },
    {
     "name": "stderr",
     "output_type": "stream",
     "text": [
      "\n"
     ]
    },
    {
     "name": "stdout",
     "output_type": "stream",
     "text": [
      "Correct: 9412, total: 10000, accuracy: 0.9411999583, average loss: 0.0018798754\n"
     ]
    },
    {
     "name": "stderr",
     "output_type": "stream",
     "text": [
      "391it [01:36,  4.07it/s]"
     ]
    },
    {
     "name": "stdout",
     "output_type": "stream",
     "text": [
      "Epoch 116 finished, average loss: 0.0000287247\n",
      "Starting testing\n"
     ]
    },
    {
     "name": "stderr",
     "output_type": "stream",
     "text": [
      "\n"
     ]
    },
    {
     "name": "stdout",
     "output_type": "stream",
     "text": [
      "Correct: 9426, total: 10000, accuracy: 0.9425999522, average loss: 0.0018771688\n"
     ]
    },
    {
     "name": "stderr",
     "output_type": "stream",
     "text": [
      "391it [01:36,  4.07it/s]"
     ]
    },
    {
     "name": "stdout",
     "output_type": "stream",
     "text": [
      "Epoch 117 finished, average loss: 0.0000282314\n",
      "Starting testing\n"
     ]
    },
    {
     "name": "stderr",
     "output_type": "stream",
     "text": [
      "\n"
     ]
    },
    {
     "name": "stdout",
     "output_type": "stream",
     "text": [
      "Correct: 9437, total: 10000, accuracy: 0.9436999559, average loss: 0.0018701846\n"
     ]
    },
    {
     "name": "stderr",
     "output_type": "stream",
     "text": [
      "391it [01:36,  4.07it/s]"
     ]
    },
    {
     "name": "stdout",
     "output_type": "stream",
     "text": [
      "Epoch 118 finished, average loss: 0.0000295839\n",
      "Starting testing\n"
     ]
    },
    {
     "name": "stderr",
     "output_type": "stream",
     "text": [
      "\n"
     ]
    },
    {
     "name": "stdout",
     "output_type": "stream",
     "text": [
      "Correct: 9418, total: 10000, accuracy: 0.9417999983, average loss: 0.0018851101\n"
     ]
    },
    {
     "name": "stderr",
     "output_type": "stream",
     "text": [
      "391it [01:36,  4.07it/s]"
     ]
    },
    {
     "name": "stdout",
     "output_type": "stream",
     "text": [
      "Epoch 119 finished, average loss: 0.0000272157\n",
      "Starting testing\n"
     ]
    },
    {
     "name": "stderr",
     "output_type": "stream",
     "text": [
      "\n"
     ]
    },
    {
     "name": "stdout",
     "output_type": "stream",
     "text": [
      "Correct: 9441, total: 10000, accuracy: 0.9440999627, average loss: 0.0018634823\n"
     ]
    },
    {
     "name": "stderr",
     "output_type": "stream",
     "text": [
      "391it [01:36,  4.07it/s]"
     ]
    },
    {
     "name": "stdout",
     "output_type": "stream",
     "text": [
      "Epoch 120 finished, average loss: 0.0000231017\n",
      "Starting testing\n"
     ]
    },
    {
     "name": "stderr",
     "output_type": "stream",
     "text": [
      "\n"
     ]
    },
    {
     "name": "stdout",
     "output_type": "stream",
     "text": [
      "Correct: 9437, total: 10000, accuracy: 0.9436999559, average loss: 0.0018741516\n"
     ]
    },
    {
     "name": "stderr",
     "output_type": "stream",
     "text": [
      "391it [01:36,  4.07it/s]"
     ]
    },
    {
     "name": "stdout",
     "output_type": "stream",
     "text": [
      "Epoch 121 finished, average loss: 0.0000263383\n",
      "Starting testing\n"
     ]
    },
    {
     "name": "stderr",
     "output_type": "stream",
     "text": [
      "\n"
     ]
    },
    {
     "name": "stdout",
     "output_type": "stream",
     "text": [
      "Correct: 9437, total: 10000, accuracy: 0.9436999559, average loss: 0.0018906625\n"
     ]
    },
    {
     "name": "stderr",
     "output_type": "stream",
     "text": [
      "391it [01:35,  4.07it/s]"
     ]
    },
    {
     "name": "stdout",
     "output_type": "stream",
     "text": [
      "Epoch 122 finished, average loss: 0.0000233057\n",
      "Starting testing\n"
     ]
    },
    {
     "name": "stderr",
     "output_type": "stream",
     "text": [
      "\n"
     ]
    },
    {
     "name": "stdout",
     "output_type": "stream",
     "text": [
      "Correct: 9434, total: 10000, accuracy: 0.9433999658, average loss: 0.0018737313\n"
     ]
    },
    {
     "name": "stderr",
     "output_type": "stream",
     "text": [
      "391it [01:36,  4.07it/s]"
     ]
    },
    {
     "name": "stdout",
     "output_type": "stream",
     "text": [
      "Epoch 123 finished, average loss: 0.0000208601\n",
      "Starting testing\n"
     ]
    },
    {
     "name": "stderr",
     "output_type": "stream",
     "text": [
      "\n"
     ]
    },
    {
     "name": "stdout",
     "output_type": "stream",
     "text": [
      "Correct: 9434, total: 10000, accuracy: 0.9433999658, average loss: 0.0018852545\n"
     ]
    },
    {
     "name": "stderr",
     "output_type": "stream",
     "text": [
      "391it [01:35,  4.07it/s]"
     ]
    },
    {
     "name": "stdout",
     "output_type": "stream",
     "text": [
      "Epoch 124 finished, average loss: 0.0000222004\n",
      "Starting testing\n"
     ]
    },
    {
     "name": "stderr",
     "output_type": "stream",
     "text": [
      "\n"
     ]
    },
    {
     "name": "stdout",
     "output_type": "stream",
     "text": [
      "Correct: 9445, total: 10000, accuracy: 0.9444999695, average loss: 0.0018666510\n"
     ]
    },
    {
     "name": "stderr",
     "output_type": "stream",
     "text": [
      "391it [01:36,  4.07it/s]"
     ]
    },
    {
     "name": "stdout",
     "output_type": "stream",
     "text": [
      "Epoch 125 finished, average loss: 0.0000239166\n",
      "Starting testing\n"
     ]
    },
    {
     "name": "stderr",
     "output_type": "stream",
     "text": [
      "\n"
     ]
    },
    {
     "name": "stdout",
     "output_type": "stream",
     "text": [
      "Correct: 9450, total: 10000, accuracy: 0.9449999928, average loss: 0.0018568871\n"
     ]
    },
    {
     "name": "stderr",
     "output_type": "stream",
     "text": [
      "391it [01:36,  4.07it/s]"
     ]
    },
    {
     "name": "stdout",
     "output_type": "stream",
     "text": [
      "Epoch 126 finished, average loss: 0.0000203097\n",
      "Starting testing\n"
     ]
    },
    {
     "name": "stderr",
     "output_type": "stream",
     "text": [
      "\n"
     ]
    },
    {
     "name": "stdout",
     "output_type": "stream",
     "text": [
      "Correct: 9442, total: 10000, accuracy: 0.9441999793, average loss: 0.0018531408\n"
     ]
    },
    {
     "name": "stderr",
     "output_type": "stream",
     "text": [
      "391it [01:35,  4.08it/s]"
     ]
    },
    {
     "name": "stdout",
     "output_type": "stream",
     "text": [
      "Epoch 127 finished, average loss: 0.0000217999\n",
      "Starting testing\n"
     ]
    },
    {
     "name": "stderr",
     "output_type": "stream",
     "text": [
      "\n"
     ]
    },
    {
     "name": "stdout",
     "output_type": "stream",
     "text": [
      "Correct: 9445, total: 10000, accuracy: 0.9444999695, average loss: 0.0018676478\n"
     ]
    },
    {
     "name": "stderr",
     "output_type": "stream",
     "text": [
      "391it [01:36,  4.07it/s]"
     ]
    },
    {
     "name": "stdout",
     "output_type": "stream",
     "text": [
      "Epoch 128 finished, average loss: 0.0000210381\n",
      "Starting testing\n"
     ]
    },
    {
     "name": "stderr",
     "output_type": "stream",
     "text": [
      "\n"
     ]
    },
    {
     "name": "stdout",
     "output_type": "stream",
     "text": [
      "Correct: 9437, total: 10000, accuracy: 0.9436999559, average loss: 0.0018581457\n"
     ]
    },
    {
     "name": "stderr",
     "output_type": "stream",
     "text": [
      "391it [01:36,  4.07it/s]"
     ]
    },
    {
     "name": "stdout",
     "output_type": "stream",
     "text": [
      "Epoch 129 finished, average loss: 0.0000213519\n",
      "Starting testing\n"
     ]
    },
    {
     "name": "stderr",
     "output_type": "stream",
     "text": [
      "\n"
     ]
    },
    {
     "name": "stdout",
     "output_type": "stream",
     "text": [
      "Correct: 9440, total: 10000, accuracy: 0.9440000057, average loss: 0.0018663386\n"
     ]
    },
    {
     "name": "stderr",
     "output_type": "stream",
     "text": [
      "391it [01:36,  4.07it/s]"
     ]
    },
    {
     "name": "stdout",
     "output_type": "stream",
     "text": [
      "Epoch 130 finished, average loss: 0.0000207957\n",
      "Starting testing\n"
     ]
    },
    {
     "name": "stderr",
     "output_type": "stream",
     "text": [
      "\n"
     ]
    },
    {
     "name": "stdout",
     "output_type": "stream",
     "text": [
      "Correct: 9448, total: 10000, accuracy: 0.9447999597, average loss: 0.0018657916\n"
     ]
    },
    {
     "name": "stderr",
     "output_type": "stream",
     "text": [
      "391it [01:35,  4.08it/s]"
     ]
    },
    {
     "name": "stdout",
     "output_type": "stream",
     "text": [
      "Epoch 131 finished, average loss: 0.0000195297\n",
      "Starting testing\n"
     ]
    },
    {
     "name": "stderr",
     "output_type": "stream",
     "text": [
      "\n"
     ]
    },
    {
     "name": "stdout",
     "output_type": "stream",
     "text": [
      "Correct: 9445, total: 10000, accuracy: 0.9444999695, average loss: 0.0018554344\n"
     ]
    },
    {
     "name": "stderr",
     "output_type": "stream",
     "text": [
      "391it [01:36,  4.07it/s]"
     ]
    },
    {
     "name": "stdout",
     "output_type": "stream",
     "text": [
      "Epoch 132 finished, average loss: 0.0000198688\n",
      "Starting testing\n"
     ]
    },
    {
     "name": "stderr",
     "output_type": "stream",
     "text": [
      "\n"
     ]
    },
    {
     "name": "stdout",
     "output_type": "stream",
     "text": [
      "Correct: 9432, total: 10000, accuracy: 0.9431999922, average loss: 0.0018654975\n"
     ]
    },
    {
     "name": "stderr",
     "output_type": "stream",
     "text": [
      "391it [01:36,  4.07it/s]"
     ]
    },
    {
     "name": "stdout",
     "output_type": "stream",
     "text": [
      "Epoch 133 finished, average loss: 0.0000195021\n",
      "Starting testing\n"
     ]
    },
    {
     "name": "stderr",
     "output_type": "stream",
     "text": [
      "\n"
     ]
    },
    {
     "name": "stdout",
     "output_type": "stream",
     "text": [
      "Correct: 9436, total: 10000, accuracy: 0.9435999990, average loss: 0.0018608441\n"
     ]
    },
    {
     "name": "stderr",
     "output_type": "stream",
     "text": [
      "391it [01:36,  4.07it/s]"
     ]
    },
    {
     "name": "stdout",
     "output_type": "stream",
     "text": [
      "Epoch 134 finished, average loss: 0.0000194525\n",
      "Starting testing\n"
     ]
    },
    {
     "name": "stderr",
     "output_type": "stream",
     "text": [
      "\n"
     ]
    },
    {
     "name": "stdout",
     "output_type": "stream",
     "text": [
      "Correct: 9434, total: 10000, accuracy: 0.9433999658, average loss: 0.0018603413\n"
     ]
    },
    {
     "name": "stderr",
     "output_type": "stream",
     "text": [
      "391it [01:36,  4.06it/s]"
     ]
    },
    {
     "name": "stdout",
     "output_type": "stream",
     "text": [
      "Epoch 135 finished, average loss: 0.0000197146\n",
      "Starting testing\n"
     ]
    },
    {
     "name": "stderr",
     "output_type": "stream",
     "text": [
      "\n"
     ]
    },
    {
     "name": "stdout",
     "output_type": "stream",
     "text": [
      "Correct: 9443, total: 10000, accuracy: 0.9442999959, average loss: 0.0018586676\n"
     ]
    },
    {
     "name": "stderr",
     "output_type": "stream",
     "text": [
      "391it [01:36,  4.07it/s]"
     ]
    },
    {
     "name": "stdout",
     "output_type": "stream",
     "text": [
      "Epoch 136 finished, average loss: 0.0000187747\n",
      "Starting testing\n"
     ]
    },
    {
     "name": "stderr",
     "output_type": "stream",
     "text": [
      "\n"
     ]
    },
    {
     "name": "stdout",
     "output_type": "stream",
     "text": [
      "Correct: 9449, total: 10000, accuracy: 0.9448999763, average loss: 0.0018490912\n"
     ]
    },
    {
     "name": "stderr",
     "output_type": "stream",
     "text": [
      "391it [01:35,  4.07it/s]"
     ]
    },
    {
     "name": "stdout",
     "output_type": "stream",
     "text": [
      "Epoch 137 finished, average loss: 0.0000189232\n",
      "Starting testing\n"
     ]
    },
    {
     "name": "stderr",
     "output_type": "stream",
     "text": [
      "\n"
     ]
    },
    {
     "name": "stdout",
     "output_type": "stream",
     "text": [
      "Correct: 9441, total: 10000, accuracy: 0.9440999627, average loss: 0.0018646764\n"
     ]
    },
    {
     "name": "stderr",
     "output_type": "stream",
     "text": [
      "391it [01:35,  4.07it/s]"
     ]
    },
    {
     "name": "stdout",
     "output_type": "stream",
     "text": [
      "Epoch 138 finished, average loss: 0.0000175387\n",
      "Starting testing\n"
     ]
    },
    {
     "name": "stderr",
     "output_type": "stream",
     "text": [
      "\n"
     ]
    },
    {
     "name": "stdout",
     "output_type": "stream",
     "text": [
      "Correct: 9445, total: 10000, accuracy: 0.9444999695, average loss: 0.0018661412\n"
     ]
    },
    {
     "name": "stderr",
     "output_type": "stream",
     "text": [
      "391it [01:36,  4.07it/s]"
     ]
    },
    {
     "name": "stdout",
     "output_type": "stream",
     "text": [
      "Epoch 139 finished, average loss: 0.0000177571\n",
      "Starting testing\n"
     ]
    },
    {
     "name": "stderr",
     "output_type": "stream",
     "text": [
      "\n"
     ]
    },
    {
     "name": "stdout",
     "output_type": "stream",
     "text": [
      "Correct: 9443, total: 10000, accuracy: 0.9442999959, average loss: 0.0018736863\n"
     ]
    },
    {
     "name": "stderr",
     "output_type": "stream",
     "text": [
      "391it [01:36,  4.07it/s]"
     ]
    },
    {
     "name": "stdout",
     "output_type": "stream",
     "text": [
      "Epoch 140 finished, average loss: 0.0000171709\n",
      "Starting testing\n"
     ]
    },
    {
     "name": "stderr",
     "output_type": "stream",
     "text": [
      "\n"
     ]
    },
    {
     "name": "stdout",
     "output_type": "stream",
     "text": [
      "Correct: 9450, total: 10000, accuracy: 0.9449999928, average loss: 0.0018637218\n"
     ]
    },
    {
     "name": "stderr",
     "output_type": "stream",
     "text": [
      "391it [01:36,  4.07it/s]"
     ]
    },
    {
     "name": "stdout",
     "output_type": "stream",
     "text": [
      "Epoch 141 finished, average loss: 0.0000200562\n",
      "Starting testing\n"
     ]
    },
    {
     "name": "stderr",
     "output_type": "stream",
     "text": [
      "\n"
     ]
    },
    {
     "name": "stdout",
     "output_type": "stream",
     "text": [
      "Correct: 9443, total: 10000, accuracy: 0.9442999959, average loss: 0.0018745314\n"
     ]
    },
    {
     "name": "stderr",
     "output_type": "stream",
     "text": [
      "391it [01:35,  4.07it/s]"
     ]
    },
    {
     "name": "stdout",
     "output_type": "stream",
     "text": [
      "Epoch 142 finished, average loss: 0.0000187795\n",
      "Starting testing\n"
     ]
    },
    {
     "name": "stderr",
     "output_type": "stream",
     "text": [
      "\n"
     ]
    },
    {
     "name": "stdout",
     "output_type": "stream",
     "text": [
      "Correct: 9433, total: 10000, accuracy: 0.9432999492, average loss: 0.0018691050\n"
     ]
    },
    {
     "name": "stderr",
     "output_type": "stream",
     "text": [
      "391it [01:36,  4.07it/s]"
     ]
    },
    {
     "name": "stdout",
     "output_type": "stream",
     "text": [
      "Epoch 143 finished, average loss: 0.0000189348\n",
      "Starting testing\n"
     ]
    },
    {
     "name": "stderr",
     "output_type": "stream",
     "text": [
      "\n"
     ]
    },
    {
     "name": "stdout",
     "output_type": "stream",
     "text": [
      "Correct: 9436, total: 10000, accuracy: 0.9435999990, average loss: 0.0018675007\n"
     ]
    },
    {
     "name": "stderr",
     "output_type": "stream",
     "text": [
      "391it [01:36,  4.07it/s]"
     ]
    },
    {
     "name": "stdout",
     "output_type": "stream",
     "text": [
      "Epoch 144 finished, average loss: 0.0000188201\n",
      "Starting testing\n"
     ]
    },
    {
     "name": "stderr",
     "output_type": "stream",
     "text": [
      "\n"
     ]
    },
    {
     "name": "stdout",
     "output_type": "stream",
     "text": [
      "Correct: 9441, total: 10000, accuracy: 0.9440999627, average loss: 0.0018531013\n"
     ]
    },
    {
     "name": "stderr",
     "output_type": "stream",
     "text": [
      "391it [01:36,  4.07it/s]"
     ]
    },
    {
     "name": "stdout",
     "output_type": "stream",
     "text": [
      "Epoch 145 finished, average loss: 0.0000198828\n",
      "Starting testing\n"
     ]
    },
    {
     "name": "stderr",
     "output_type": "stream",
     "text": [
      "\n"
     ]
    },
    {
     "name": "stdout",
     "output_type": "stream",
     "text": [
      "Correct: 9437, total: 10000, accuracy: 0.9436999559, average loss: 0.0018660905\n"
     ]
    },
    {
     "name": "stderr",
     "output_type": "stream",
     "text": [
      "391it [01:36,  4.07it/s]"
     ]
    },
    {
     "name": "stdout",
     "output_type": "stream",
     "text": [
      "Epoch 146 finished, average loss: 0.0000169236\n",
      "Starting testing\n"
     ]
    },
    {
     "name": "stderr",
     "output_type": "stream",
     "text": [
      "\n"
     ]
    },
    {
     "name": "stdout",
     "output_type": "stream",
     "text": [
      "Correct: 9446, total: 10000, accuracy: 0.9445999861, average loss: 0.0018717125\n"
     ]
    },
    {
     "name": "stderr",
     "output_type": "stream",
     "text": [
      "391it [01:36,  4.07it/s]"
     ]
    },
    {
     "name": "stdout",
     "output_type": "stream",
     "text": [
      "Epoch 147 finished, average loss: 0.0000169484\n",
      "Starting testing\n"
     ]
    },
    {
     "name": "stderr",
     "output_type": "stream",
     "text": [
      "\n"
     ]
    },
    {
     "name": "stdout",
     "output_type": "stream",
     "text": [
      "Correct: 9450, total: 10000, accuracy: 0.9449999928, average loss: 0.0018583567\n"
     ]
    },
    {
     "name": "stderr",
     "output_type": "stream",
     "text": [
      "391it [01:36,  4.07it/s]"
     ]
    },
    {
     "name": "stdout",
     "output_type": "stream",
     "text": [
      "Epoch 148 finished, average loss: 0.0000183795\n",
      "Starting testing\n"
     ]
    },
    {
     "name": "stderr",
     "output_type": "stream",
     "text": [
      "\n"
     ]
    },
    {
     "name": "stdout",
     "output_type": "stream",
     "text": [
      "Correct: 9442, total: 10000, accuracy: 0.9441999793, average loss: 0.0018721054\n"
     ]
    },
    {
     "name": "stderr",
     "output_type": "stream",
     "text": [
      "391it [01:35,  4.08it/s]"
     ]
    },
    {
     "name": "stdout",
     "output_type": "stream",
     "text": [
      "Epoch 149 finished, average loss: 0.0000191429\n",
      "Starting testing\n"
     ]
    },
    {
     "name": "stderr",
     "output_type": "stream",
     "text": [
      "\n"
     ]
    },
    {
     "name": "stdout",
     "output_type": "stream",
     "text": [
      "Correct: 9448, total: 10000, accuracy: 0.9447999597, average loss: 0.0018624713\n"
     ]
    },
    {
     "name": "stderr",
     "output_type": "stream",
     "text": [
      "391it [01:36,  4.07it/s]"
     ]
    },
    {
     "name": "stdout",
     "output_type": "stream",
     "text": [
      "Epoch 150 finished, average loss: 0.0000183932\n",
      "Starting testing\n"
     ]
    },
    {
     "name": "stderr",
     "output_type": "stream",
     "text": [
      "\n"
     ]
    },
    {
     "name": "stdout",
     "output_type": "stream",
     "text": [
      "Correct: 9444, total: 10000, accuracy: 0.9443999529, average loss: 0.0018711947\n"
     ]
    },
    {
     "name": "stderr",
     "output_type": "stream",
     "text": [
      "391it [01:36,  4.07it/s]"
     ]
    },
    {
     "name": "stdout",
     "output_type": "stream",
     "text": [
      "Epoch 151 finished, average loss: 0.0000168058\n",
      "Starting testing\n"
     ]
    },
    {
     "name": "stderr",
     "output_type": "stream",
     "text": [
      "\n"
     ]
    },
    {
     "name": "stdout",
     "output_type": "stream",
     "text": [
      "Correct: 9429, total: 10000, accuracy: 0.9429000020, average loss: 0.0018921080\n"
     ]
    },
    {
     "name": "stderr",
     "output_type": "stream",
     "text": [
      "391it [01:36,  4.07it/s]"
     ]
    },
    {
     "name": "stdout",
     "output_type": "stream",
     "text": [
      "Epoch 152 finished, average loss: 0.0000177466\n",
      "Starting testing\n"
     ]
    },
    {
     "name": "stderr",
     "output_type": "stream",
     "text": [
      "\n"
     ]
    },
    {
     "name": "stdout",
     "output_type": "stream",
     "text": [
      "Correct: 9443, total: 10000, accuracy: 0.9442999959, average loss: 0.0018636388\n"
     ]
    },
    {
     "name": "stderr",
     "output_type": "stream",
     "text": [
      "391it [01:36,  4.07it/s]"
     ]
    },
    {
     "name": "stdout",
     "output_type": "stream",
     "text": [
      "Epoch 153 finished, average loss: 0.0000164801\n",
      "Starting testing\n"
     ]
    },
    {
     "name": "stderr",
     "output_type": "stream",
     "text": [
      "\n"
     ]
    },
    {
     "name": "stdout",
     "output_type": "stream",
     "text": [
      "Correct: 9443, total: 10000, accuracy: 0.9442999959, average loss: 0.0018555913\n"
     ]
    },
    {
     "name": "stderr",
     "output_type": "stream",
     "text": [
      "391it [01:35,  4.07it/s]"
     ]
    },
    {
     "name": "stdout",
     "output_type": "stream",
     "text": [
      "Epoch 154 finished, average loss: 0.0000175179\n",
      "Starting testing\n"
     ]
    },
    {
     "name": "stderr",
     "output_type": "stream",
     "text": [
      "\n"
     ]
    },
    {
     "name": "stdout",
     "output_type": "stream",
     "text": [
      "Correct: 9448, total: 10000, accuracy: 0.9447999597, average loss: 0.0018704017\n"
     ]
    },
    {
     "name": "stderr",
     "output_type": "stream",
     "text": [
      "391it [01:35,  4.07it/s]"
     ]
    },
    {
     "name": "stdout",
     "output_type": "stream",
     "text": [
      "Epoch 155 finished, average loss: 0.0000181966\n",
      "Starting testing\n"
     ]
    },
    {
     "name": "stderr",
     "output_type": "stream",
     "text": [
      "\n"
     ]
    },
    {
     "name": "stdout",
     "output_type": "stream",
     "text": [
      "Correct: 9437, total: 10000, accuracy: 0.9436999559, average loss: 0.0018627283\n"
     ]
    },
    {
     "name": "stderr",
     "output_type": "stream",
     "text": [
      "391it [01:36,  4.06it/s]"
     ]
    },
    {
     "name": "stdout",
     "output_type": "stream",
     "text": [
      "Epoch 156 finished, average loss: 0.0000175100\n",
      "Starting testing\n"
     ]
    },
    {
     "name": "stderr",
     "output_type": "stream",
     "text": [
      "\n"
     ]
    },
    {
     "name": "stdout",
     "output_type": "stream",
     "text": [
      "Correct: 9448, total: 10000, accuracy: 0.9447999597, average loss: 0.0018677211\n"
     ]
    },
    {
     "name": "stderr",
     "output_type": "stream",
     "text": [
      "391it [01:36,  4.07it/s]"
     ]
    },
    {
     "name": "stdout",
     "output_type": "stream",
     "text": [
      "Epoch 157 finished, average loss: 0.0000174254\n",
      "Starting testing\n"
     ]
    },
    {
     "name": "stderr",
     "output_type": "stream",
     "text": [
      "\n"
     ]
    },
    {
     "name": "stdout",
     "output_type": "stream",
     "text": [
      "Correct: 9449, total: 10000, accuracy: 0.9448999763, average loss: 0.0018554973\n"
     ]
    },
    {
     "name": "stderr",
     "output_type": "stream",
     "text": [
      "391it [01:36,  4.07it/s]"
     ]
    },
    {
     "name": "stdout",
     "output_type": "stream",
     "text": [
      "Epoch 158 finished, average loss: 0.0000173121\n",
      "Starting testing\n"
     ]
    },
    {
     "name": "stderr",
     "output_type": "stream",
     "text": [
      "\n"
     ]
    },
    {
     "name": "stdout",
     "output_type": "stream",
     "text": [
      "Correct: 9433, total: 10000, accuracy: 0.9432999492, average loss: 0.0018702960\n"
     ]
    },
    {
     "name": "stderr",
     "output_type": "stream",
     "text": [
      "391it [01:36,  4.07it/s]"
     ]
    },
    {
     "name": "stdout",
     "output_type": "stream",
     "text": [
      "Epoch 159 finished, average loss: 0.0000161484\n",
      "Starting testing\n"
     ]
    },
    {
     "name": "stderr",
     "output_type": "stream",
     "text": [
      "\n"
     ]
    },
    {
     "name": "stdout",
     "output_type": "stream",
     "text": [
      "Correct: 9434, total: 10000, accuracy: 0.9433999658, average loss: 0.0018655721\n"
     ]
    },
    {
     "name": "stderr",
     "output_type": "stream",
     "text": [
      "391it [01:36,  4.07it/s]"
     ]
    },
    {
     "name": "stdout",
     "output_type": "stream",
     "text": [
      "Epoch 160 finished, average loss: 0.0000171237\n",
      "Starting testing\n"
     ]
    },
    {
     "name": "stderr",
     "output_type": "stream",
     "text": [
      "\n"
     ]
    },
    {
     "name": "stdout",
     "output_type": "stream",
     "text": [
      "Correct: 9439, total: 10000, accuracy: 0.9438999891, average loss: 0.0018655383\n",
      "CPU times: user 2h 49min 45s, sys: 1h 51min 36s, total: 4h 41min 22s\n",
      "Wall time: 4h 43min 48s\n"
     ]
    }
   ],
   "source": [
    "%%time\n",
    "sgd_para = {\"lr\": 1e-3, \"weight_decay\": 0.0001, \"momentum\": 0.9}\n",
    "lr_dict = {80: 0.1, 120: 0.01, 160: 0.001}\n",
    "\n",
    "# Trainer = NN_SGDTrainer(net,sgd_para, trainloader, testloader, {200:1e-3}, model_name + '.txt')\n",
    "Trainer = NN_SGDTrainer(\n",
    "    net,\n",
    "    sgd_para,\n",
    "    trainloader,\n",
    "    testloader,\n",
    "    lr_dict,\n",
    "    model_name + \".txt\",\n",
    ")\n",
    "\n",
    "for i in range(160):  # 100\n",
    "    Trainer.train()"
   ]
  },
  {
   "cell_type": "code",
   "execution_count": 7,
   "metadata": {},
   "outputs": [
    {
     "data": {
      "image/png": "[encoded data removed]",
      "text/plain": [
       "<Figure size 640x480 with 1 Axes>"
      ]
     },
     "metadata": {},
     "output_type": "display_data"
    },
    {
     "data": {
      "image/png": "[encoded data removed]",
      "text/plain": [
       "<Figure size 640x480 with 1 Axes>"
      ]
     },
     "metadata": {},
     "output_type": "display_data"
    }
   ],
   "source": [
    "with open(p) as f:\n",
    "    lines = f.read()\n",
    "\n",
    "data = re.findall(\n",
    "    r\"Epoch (\\d+) finished, average loss: (\\d+\\.\\d+)\\n[\\d\\- :\\.]*\\nStarting testing\\n[\\d\\- :\\.]*\\nCorrect: \\d+, total: \\d+, accuracy: (\\d+\\.\\d+), average loss: (\\d+\\.\\d+)\",\n",
    "    lines,\n",
    "    re.MULTILINE,\n",
    ")\n",
    "# print(len(data))\n",
    "# print(data)\n",
    "epochs = [int(x[0]) for x in data]\n",
    "losses = [float(x[1]) for x in data]\n",
    "accuracies = [float(x[2]) for x in data]\n",
    "test_losses = [float(x[3]) for x in data]\n",
    "\n",
    "results_mresnet164 = dict(epochs=epochs, losses=losses, accuracies=accuracies, test_losses=test_losses)\n",
    "\n",
    "fix, ax = plt.subplots()\n",
    "ax.plot(accuracies)\n",
    "ax.set_ylim(0, 1)\n",
    "plt.title(f\"{model_name} - Test accuracy {accuracies[-1]:.4f}\")\n",
    "plt.ylabel(\"Test Accuracy\")\n",
    "plt.xlabel(\"Epoch\")\n",
    "# ax.yaxis.set_major_locator(MultipleLocator(0.05))\n",
    "cmap = plt.get_cmap(\"Pastel1\")\n",
    "\n",
    "for color, (epoch, value) in zip([\"xkcd:purple\", \"xkcd:red\", \"xkcd:orange\"], lr_dict.items()):\n",
    "    plt.axvline(x=epoch, label=f\"lr: {value}\", linestyle=\":\", linewidth=1, c=color)\n",
    "    \n",
    "plt.legend()\n",
    "plt.show()\n",
    "\n",
    "fix, ax = plt.subplots()\n",
    "train_loss, = ax.plot(epochs, losses, label=\"Train loss\")\n",
    "test_loss, = ax.plot(epochs, test_losses, label=\"Test loss\")\n",
    "plt.title(f\"{model_name} - Loss\")\n",
    "plt.ylabel(\"Avg. loss\")\n",
    "plt.xlabel(\"Epoch\")\n",
    "first_legend = plt.legend(handles=[train_loss, test_loss])\n",
    "\n",
    "ax = plt.gca().add_artist(first_legend)\n",
    "\n",
    "lrhs = []\n",
    "for color, (epoch, value) in zip([\"xkcd:purple\", \"xkcd:red\", \"xkcd:orange\"], lr_dict.items()):\n",
    "    lr_h = plt.axvline(x=epoch, label=f\"lr: {value}\", linestyle=\":\", linewidth=1, c=color)\n",
    "    lrhs.append(lr_h)\n",
    "\n",
    "plt.legend(handles=lrhs)\n",
    "plt.show()"
   ]
  },
  {
   "cell_type": "code",
   "execution_count": 8,
   "metadata": {},
   "outputs": [],
   "source": [
    "with open(f\"{model_name}_ks.txt\", \"w\") as f:\n",
    "    for i, x in enumerate(net.ks, start=1):\n",
    "        f.write(f\"{i},{x.item()}\\n\") "
   ]
  },
  {
   "cell_type": "code",
   "execution_count": null,
   "metadata": {},
   "outputs": [],
   "source": []
  }
 ],
 "metadata": {
  "kernelspec": {
   "display_name": "Python 3 (ipykernel)",
   "language": "python",
   "name": "python3"
  },
  "language_info": {
   "codemirror_mode": {
    "name": "ipython",
    "version": 3
   },
   "file_extension": ".py",
   "mimetype": "text/x-python",
   "name": "python",
   "nbconvert_exporter": "python",
   "pygments_lexer": "ipython3",
   "version": "3.10.12"
  }
 },
 "nbformat": 4,
 "nbformat_minor": 4
}
