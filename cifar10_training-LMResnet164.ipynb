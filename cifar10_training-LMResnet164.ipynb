{
 "cells": [
  {
   "cell_type": "code",
   "execution_count": 1,
   "metadata": {},
   "outputs": [
    {
     "name": "stderr",
     "output_type": "stream",
     "text": [
      "/home/nox/repos/beyond/venv/lib/python3.10/site-packages/tqdm/auto.py:21: TqdmWarning: IProgress not found. Please update jupyter and ipywidgets. See https://ipywidgets.readthedocs.io/en/stable/user_install.html\n",
      "  from .autonotebook import tqdm as notebook_tqdm\n"
     ]
    },
    {
     "data": {
      "text/plain": [
       "'\\nCode For \\nYiping Lu, Aoxiao Zhong, Quanzheng Li, Bin Dong. \"Beyond Finite Layer Neural Network:Bridging Deep Architects and Numerical Differential Equations\" \\nThirty-fifth International Conference on Machine Learning (ICML), 2018\\n\\n@2prime @Aoxiao Zhong\\n\\nAcknowledgement:\\n@pppppass(Zhihan Li)\\n'"
      ]
     },
     "execution_count": 1,
     "metadata": {},
     "output_type": "execute_result"
    }
   ],
   "source": [
    "import os\n",
    "\n",
    "import torch\n",
    "\n",
    "from MResNet import *\n",
    "from MResNetC import *\n",
    "from train import *\n",
    "\n",
    "import seaborn as sns\n",
    "\n",
    "sns.set()\n",
    "\n",
    "\n",
    "\"\"\"\n",
    "Code For \n",
    "Yiping Lu, Aoxiao Zhong, Quanzheng Li, Bin Dong. \"Beyond Finite Layer Neural Network:Bridging Deep Architects and Numerical Differential Equations\" \n",
    "Thirty-fifth International Conference on Machine Learning (ICML), 2018\n",
    "\n",
    "@2prime @Aoxiao Zhong\n",
    "\n",
    "Acknowledgement:\n",
    "@pppppass(Zhihan Li)\n",
    "\"\"\"\n",
    "# %load_ext autoreload\n",
    "# %autoreload 2\n",
    "# os.environ[\"CUDA_VISIBLE_DEVICES\"] = \"0\""
   ]
  },
  {
   "cell_type": "code",
   "execution_count": 2,
   "metadata": {},
   "outputs": [
    {
     "data": {
      "image/png": "[encoded data removed]",
      "text/plain": [
       "<Figure size 640x480 with 1 Axes>"
      ]
     },
     "metadata": {},
     "output_type": "display_data"
    }
   ],
   "source": [
    "xs = [*range(1,161)]\n",
    "ys = [lr_control({80: 0.1, 120: 0.01, 160: 0.001},x) for x in xs]\n",
    "\n",
    "plt.figure()\n",
    "plt.plot(xs, ys)\n",
    "plt.title(\"Curva de learning rate\")\n",
    "plt.ylabel(\"lr\")\n",
    "plt.xlabel(\"Epoch\")\n",
    "plt.show()"
   ]
  },
  {
   "cell_type": "markdown",
   "metadata": {},
   "source": [
    "# Experiments"
   ]
  },
  {
   "cell_type": "markdown",
   "metadata": {},
   "source": [
    "## LMResNet-164"
   ]
  },
  {
   "cell_type": "code",
   "execution_count": 3,
   "metadata": {},
   "outputs": [
    {
     "name": "stdout",
     "output_type": "stream",
     "text": [
      "Files already downloaded and verified\n",
      "Files already downloaded and verified\n"
     ]
    }
   ],
   "source": [
    "batch_size = 128\n",
    "trainloader, testloader = get_cifar10(batch_size)"
   ]
  },
  {
   "cell_type": "code",
   "execution_count": 4,
   "metadata": {
    "scrolled": true
   },
   "outputs": [],
   "source": [
    "from torchinfo import summary\n",
    "from blocks import BasicBlock, Bottleneck\n",
    "from MResNet import MResNet"
   ]
  },
  {
   "cell_type": "code",
   "execution_count": 5,
   "metadata": {
    "scrolled": true
   },
   "outputs": [
    {
     "data": {
      "text/plain": [
       "=====================================================================================================================================================================\n",
       "Layer (type:depth-idx)                   Input Shape               Output Shape              Param #                   Kernel Shape              Mult-Adds\n",
       "=====================================================================================================================================================================\n",
       "MResNet                                  [128, 3, 32, 32]          [128, 10]                 86                        --                        --\n",
       "├─Conv2d: 1-1                            [128, 3, 32, 32]          [128, 16, 32, 32]         432                       [3, 3]                    56,623,104\n",
       "├─Downsample: 1-2                        [128, 16, 32, 32]         [128, 64, 32, 32]         --                        --                        --\n",
       "│    └─Sequential: 2-1                   [128, 16, 32, 32]         [128, 64, 32, 32]         --                        --                        --\n",
       "│    │    └─BatchNorm2d: 3-1             [128, 16, 32, 32]         [128, 16, 32, 32]         32                        --                        4,096\n",
       "│    │    └─ReLU: 3-2                    [128, 16, 32, 32]         [128, 16, 32, 32]         --                        --                        --\n",
       "│    │    └─Conv2d: 3-3                  [128, 16, 32, 32]         [128, 64, 32, 32]         1,024                     [1, 1]                    134,217,728\n",
       "├─ModuleList: 1-7                        --                        --                        (recursive)               --                        --\n",
       "│    └─Bottleneck: 2-2                   [128, 16, 32, 32]         [128, 64, 32, 32]         --                        --                        --\n",
       "│    │    └─BatchNorm2d: 3-4             [128, 16, 32, 32]         [128, 16, 32, 32]         32                        --                        4,096\n",
       "│    │    └─ReLU: 3-5                    [128, 16, 32, 32]         [128, 16, 32, 32]         --                        --                        --\n",
       "│    │    └─Conv2d: 3-6                  [128, 16, 32, 32]         [128, 16, 32, 32]         256                       [1, 1]                    33,554,432\n",
       "│    │    └─BatchNorm2d: 3-7             [128, 16, 32, 32]         [128, 16, 32, 32]         32                        --                        4,096\n",
       "│    │    └─ReLU: 3-8                    [128, 16, 32, 32]         [128, 16, 32, 32]         --                        --                        --\n",
       "│    │    └─Conv2d: 3-9                  [128, 16, 32, 32]         [128, 16, 32, 32]         2,304                     [3, 3]                    301,989,888\n",
       "│    │    └─BatchNorm2d: 3-10            [128, 16, 32, 32]         [128, 16, 32, 32]         32                        --                        4,096\n",
       "│    │    └─ReLU: 3-11                   [128, 16, 32, 32]         [128, 16, 32, 32]         --                        --                        --\n",
       "│    │    └─Conv2d: 3-12                 [128, 16, 32, 32]         [128, 64, 32, 32]         1,024                     [1, 1]                    134,217,728\n",
       "│    └─Bottleneck: 2-3                   [128, 64, 32, 32]         [128, 64, 32, 32]         --                        --                        --\n",
       "│    │    └─BatchNorm2d: 3-13            [128, 64, 32, 32]         [128, 64, 32, 32]         128                       --                        16,384\n",
       "│    │    └─ReLU: 3-14                   [128, 64, 32, 32]         [128, 64, 32, 32]         --                        --                        --\n",
       "│    │    └─Conv2d: 3-15                 [128, 64, 32, 32]         [128, 16, 32, 32]         1,024                     [1, 1]                    134,217,728\n",
       "│    │    └─BatchNorm2d: 3-16            [128, 16, 32, 32]         [128, 16, 32, 32]         32                        --                        4,096\n",
       "│    │    └─ReLU: 3-17                   [128, 16, 32, 32]         [128, 16, 32, 32]         --                        --                        --\n",
       "│    │    └─Conv2d: 3-18                 [128, 16, 32, 32]         [128, 16, 32, 32]         2,304                     [3, 3]                    301,989,888\n",
       "│    │    └─BatchNorm2d: 3-19            [128, 16, 32, 32]         [128, 16, 32, 32]         32                        --                        4,096\n",
       "│    │    └─ReLU: 3-20                   [128, 16, 32, 32]         [128, 16, 32, 32]         --                        --                        --\n",
       "│    │    └─Conv2d: 3-21                 [128, 16, 32, 32]         [128, 64, 32, 32]         1,024                     [1, 1]                    134,217,728\n",
       "│    └─Bottleneck: 2-4                   [128, 64, 32, 32]         [128, 64, 32, 32]         --                        --                        --\n",
       "│    │    └─BatchNorm2d: 3-22            [128, 64, 32, 32]         [128, 64, 32, 32]         128                       --                        16,384\n",
       "│    │    └─ReLU: 3-23                   [128, 64, 32, 32]         [128, 64, 32, 32]         --                        --                        --\n",
       "│    │    └─Conv2d: 3-24                 [128, 64, 32, 32]         [128, 16, 32, 32]         1,024                     [1, 1]                    134,217,728\n",
       "│    │    └─BatchNorm2d: 3-25            [128, 16, 32, 32]         [128, 16, 32, 32]         32                        --                        4,096\n",
       "│    │    └─ReLU: 3-26                   [128, 16, 32, 32]         [128, 16, 32, 32]         --                        --                        --\n",
       "│    │    └─Conv2d: 3-27                 [128, 16, 32, 32]         [128, 16, 32, 32]         2,304                     [3, 3]                    301,989,888\n",
       "│    │    └─BatchNorm2d: 3-28            [128, 16, 32, 32]         [128, 16, 32, 32]         32                        --                        4,096\n",
       "│    │    └─ReLU: 3-29                   [128, 16, 32, 32]         [128, 16, 32, 32]         --                        --                        --\n",
       "│    │    └─Conv2d: 3-30                 [128, 16, 32, 32]         [128, 64, 32, 32]         1,024                     [1, 1]                    134,217,728\n",
       "│    └─Bottleneck: 2-5                   [128, 64, 32, 32]         [128, 64, 32, 32]         --                        --                        --\n",
       "│    │    └─BatchNorm2d: 3-31            [128, 64, 32, 32]         [128, 64, 32, 32]         128                       --                        16,384\n",
       "│    │    └─ReLU: 3-32                   [128, 64, 32, 32]         [128, 64, 32, 32]         --                        --                        --\n",
       "│    │    └─Conv2d: 3-33                 [128, 64, 32, 32]         [128, 16, 32, 32]         1,024                     [1, 1]                    134,217,728\n",
       "│    │    └─BatchNorm2d: 3-34            [128, 16, 32, 32]         [128, 16, 32, 32]         32                        --                        4,096\n",
       "│    │    └─ReLU: 3-35                   [128, 16, 32, 32]         [128, 16, 32, 32]         --                        --                        --\n",
       "│    │    └─Conv2d: 3-36                 [128, 16, 32, 32]         [128, 16, 32, 32]         2,304                     [3, 3]                    301,989,888\n",
       "│    │    └─BatchNorm2d: 3-37            [128, 16, 32, 32]         [128, 16, 32, 32]         32                        --                        4,096\n",
       "│    │    └─ReLU: 3-38                   [128, 16, 32, 32]         [128, 16, 32, 32]         --                        --                        --\n",
       "│    │    └─Conv2d: 3-39                 [128, 16, 32, 32]         [128, 64, 32, 32]         1,024                     [1, 1]                    134,217,728\n",
       "│    └─Bottleneck: 2-6                   [128, 64, 32, 32]         [128, 64, 32, 32]         --                        --                        --\n",
       "│    │    └─BatchNorm2d: 3-40            [128, 64, 32, 32]         [128, 64, 32, 32]         128                       --                        16,384\n",
       "│    │    └─ReLU: 3-41                   [128, 64, 32, 32]         [128, 64, 32, 32]         --                        --                        --\n",
       "│    │    └─Conv2d: 3-42                 [128, 64, 32, 32]         [128, 16, 32, 32]         1,024                     [1, 1]                    134,217,728\n",
       "│    │    └─BatchNorm2d: 3-43            [128, 16, 32, 32]         [128, 16, 32, 32]         32                        --                        4,096\n",
       "│    │    └─ReLU: 3-44                   [128, 16, 32, 32]         [128, 16, 32, 32]         --                        --                        --\n",
       "│    │    └─Conv2d: 3-45                 [128, 16, 32, 32]         [128, 16, 32, 32]         2,304                     [3, 3]                    301,989,888\n",
       "│    │    └─BatchNorm2d: 3-46            [128, 16, 32, 32]         [128, 16, 32, 32]         32                        --                        4,096\n",
       "│    │    └─ReLU: 3-47                   [128, 16, 32, 32]         [128, 16, 32, 32]         --                        --                        --\n",
       "│    │    └─Conv2d: 3-48                 [128, 16, 32, 32]         [128, 64, 32, 32]         1,024                     [1, 1]                    134,217,728\n",
       "│    └─Bottleneck: 2-7                   [128, 64, 32, 32]         [128, 64, 32, 32]         --                        --                        --\n",
       "│    │    └─BatchNorm2d: 3-49            [128, 64, 32, 32]         [128, 64, 32, 32]         128                       --                        16,384\n",
       "│    │    └─ReLU: 3-50                   [128, 64, 32, 32]         [128, 64, 32, 32]         --                        --                        --\n",
       "│    │    └─Conv2d: 3-51                 [128, 64, 32, 32]         [128, 16, 32, 32]         1,024                     [1, 1]                    134,217,728\n",
       "│    │    └─BatchNorm2d: 3-52            [128, 16, 32, 32]         [128, 16, 32, 32]         32                        --                        4,096\n",
       "│    │    └─ReLU: 3-53                   [128, 16, 32, 32]         [128, 16, 32, 32]         --                        --                        --\n",
       "│    │    └─Conv2d: 3-54                 [128, 16, 32, 32]         [128, 16, 32, 32]         2,304                     [3, 3]                    301,989,888\n",
       "│    │    └─BatchNorm2d: 3-55            [128, 16, 32, 32]         [128, 16, 32, 32]         32                        --                        4,096\n",
       "│    │    └─ReLU: 3-56                   [128, 16, 32, 32]         [128, 16, 32, 32]         --                        --                        --\n",
       "│    │    └─Conv2d: 3-57                 [128, 16, 32, 32]         [128, 64, 32, 32]         1,024                     [1, 1]                    134,217,728\n",
       "│    └─Bottleneck: 2-8                   [128, 64, 32, 32]         [128, 64, 32, 32]         --                        --                        --\n",
       "│    │    └─BatchNorm2d: 3-58            [128, 64, 32, 32]         [128, 64, 32, 32]         128                       --                        16,384\n",
       "│    │    └─ReLU: 3-59                   [128, 64, 32, 32]         [128, 64, 32, 32]         --                        --                        --\n",
       "│    │    └─Conv2d: 3-60                 [128, 64, 32, 32]         [128, 16, 32, 32]         1,024                     [1, 1]                    134,217,728\n",
       "│    │    └─BatchNorm2d: 3-61            [128, 16, 32, 32]         [128, 16, 32, 32]         32                        --                        4,096\n",
       "│    │    └─ReLU: 3-62                   [128, 16, 32, 32]         [128, 16, 32, 32]         --                        --                        --\n",
       "│    │    └─Conv2d: 3-63                 [128, 16, 32, 32]         [128, 16, 32, 32]         2,304                     [3, 3]                    301,989,888\n",
       "│    │    └─BatchNorm2d: 3-64            [128, 16, 32, 32]         [128, 16, 32, 32]         32                        --                        4,096\n",
       "│    │    └─ReLU: 3-65                   [128, 16, 32, 32]         [128, 16, 32, 32]         --                        --                        --\n",
       "│    │    └─Conv2d: 3-66                 [128, 16, 32, 32]         [128, 64, 32, 32]         1,024                     [1, 1]                    134,217,728\n",
       "│    └─Bottleneck: 2-9                   [128, 64, 32, 32]         [128, 64, 32, 32]         --                        --                        --\n",
       "│    │    └─BatchNorm2d: 3-67            [128, 64, 32, 32]         [128, 64, 32, 32]         128                       --                        16,384\n",
       "│    │    └─ReLU: 3-68                   [128, 64, 32, 32]         [128, 64, 32, 32]         --                        --                        --\n",
       "│    │    └─Conv2d: 3-69                 [128, 64, 32, 32]         [128, 16, 32, 32]         1,024                     [1, 1]                    134,217,728\n",
       "│    │    └─BatchNorm2d: 3-70            [128, 16, 32, 32]         [128, 16, 32, 32]         32                        --                        4,096\n",
       "│    │    └─ReLU: 3-71                   [128, 16, 32, 32]         [128, 16, 32, 32]         --                        --                        --\n",
       "│    │    └─Conv2d: 3-72                 [128, 16, 32, 32]         [128, 16, 32, 32]         2,304                     [3, 3]                    301,989,888\n",
       "│    │    └─BatchNorm2d: 3-73            [128, 16, 32, 32]         [128, 16, 32, 32]         32                        --                        4,096\n",
       "│    │    └─ReLU: 3-74                   [128, 16, 32, 32]         [128, 16, 32, 32]         --                        --                        --\n",
       "│    │    └─Conv2d: 3-75                 [128, 16, 32, 32]         [128, 64, 32, 32]         1,024                     [1, 1]                    134,217,728\n",
       "│    └─Bottleneck: 2-10                  [128, 64, 32, 32]         [128, 64, 32, 32]         --                        --                        --\n",
       "│    │    └─BatchNorm2d: 3-76            [128, 64, 32, 32]         [128, 64, 32, 32]         128                       --                        16,384\n",
       "│    │    └─ReLU: 3-77                   [128, 64, 32, 32]         [128, 64, 32, 32]         --                        --                        --\n",
       "│    │    └─Conv2d: 3-78                 [128, 64, 32, 32]         [128, 16, 32, 32]         1,024                     [1, 1]                    134,217,728\n",
       "│    │    └─BatchNorm2d: 3-79            [128, 16, 32, 32]         [128, 16, 32, 32]         32                        --                        4,096\n",
       "│    │    └─ReLU: 3-80                   [128, 16, 32, 32]         [128, 16, 32, 32]         --                        --                        --\n",
       "│    │    └─Conv2d: 3-81                 [128, 16, 32, 32]         [128, 16, 32, 32]         2,304                     [3, 3]                    301,989,888\n",
       "│    │    └─BatchNorm2d: 3-82            [128, 16, 32, 32]         [128, 16, 32, 32]         32                        --                        4,096\n",
       "│    │    └─ReLU: 3-83                   [128, 16, 32, 32]         [128, 16, 32, 32]         --                        --                        --\n",
       "│    │    └─Conv2d: 3-84                 [128, 16, 32, 32]         [128, 64, 32, 32]         1,024                     [1, 1]                    134,217,728\n",
       "│    └─Bottleneck: 2-11                  [128, 64, 32, 32]         [128, 64, 32, 32]         --                        --                        --\n",
       "│    │    └─BatchNorm2d: 3-85            [128, 64, 32, 32]         [128, 64, 32, 32]         128                       --                        16,384\n",
       "│    │    └─ReLU: 3-86                   [128, 64, 32, 32]         [128, 64, 32, 32]         --                        --                        --\n",
       "│    │    └─Conv2d: 3-87                 [128, 64, 32, 32]         [128, 16, 32, 32]         1,024                     [1, 1]                    134,217,728\n",
       "│    │    └─BatchNorm2d: 3-88            [128, 16, 32, 32]         [128, 16, 32, 32]         32                        --                        4,096\n",
       "│    │    └─ReLU: 3-89                   [128, 16, 32, 32]         [128, 16, 32, 32]         --                        --                        --\n",
       "│    │    └─Conv2d: 3-90                 [128, 16, 32, 32]         [128, 16, 32, 32]         2,304                     [3, 3]                    301,989,888\n",
       "│    │    └─BatchNorm2d: 3-91            [128, 16, 32, 32]         [128, 16, 32, 32]         32                        --                        4,096\n",
       "│    │    └─ReLU: 3-92                   [128, 16, 32, 32]         [128, 16, 32, 32]         --                        --                        --\n",
       "│    │    └─Conv2d: 3-93                 [128, 16, 32, 32]         [128, 64, 32, 32]         1,024                     [1, 1]                    134,217,728\n",
       "│    └─Bottleneck: 2-12                  [128, 64, 32, 32]         [128, 64, 32, 32]         --                        --                        --\n",
       "│    │    └─BatchNorm2d: 3-94            [128, 64, 32, 32]         [128, 64, 32, 32]         128                       --                        16,384\n",
       "│    │    └─ReLU: 3-95                   [128, 64, 32, 32]         [128, 64, 32, 32]         --                        --                        --\n",
       "│    │    └─Conv2d: 3-96                 [128, 64, 32, 32]         [128, 16, 32, 32]         1,024                     [1, 1]                    134,217,728\n",
       "│    │    └─BatchNorm2d: 3-97            [128, 16, 32, 32]         [128, 16, 32, 32]         32                        --                        4,096\n",
       "│    │    └─ReLU: 3-98                   [128, 16, 32, 32]         [128, 16, 32, 32]         --                        --                        --\n",
       "│    │    └─Conv2d: 3-99                 [128, 16, 32, 32]         [128, 16, 32, 32]         2,304                     [3, 3]                    301,989,888\n",
       "│    │    └─BatchNorm2d: 3-100           [128, 16, 32, 32]         [128, 16, 32, 32]         32                        --                        4,096\n",
       "│    │    └─ReLU: 3-101                  [128, 16, 32, 32]         [128, 16, 32, 32]         --                        --                        --\n",
       "│    │    └─Conv2d: 3-102                [128, 16, 32, 32]         [128, 64, 32, 32]         1,024                     [1, 1]                    134,217,728\n",
       "│    └─Bottleneck: 2-13                  [128, 64, 32, 32]         [128, 64, 32, 32]         --                        --                        --\n",
       "│    │    └─BatchNorm2d: 3-103           [128, 64, 32, 32]         [128, 64, 32, 32]         128                       --                        16,384\n",
       "│    │    └─ReLU: 3-104                  [128, 64, 32, 32]         [128, 64, 32, 32]         --                        --                        --\n",
       "│    │    └─Conv2d: 3-105                [128, 64, 32, 32]         [128, 16, 32, 32]         1,024                     [1, 1]                    134,217,728\n",
       "│    │    └─BatchNorm2d: 3-106           [128, 16, 32, 32]         [128, 16, 32, 32]         32                        --                        4,096\n",
       "│    │    └─ReLU: 3-107                  [128, 16, 32, 32]         [128, 16, 32, 32]         --                        --                        --\n",
       "│    │    └─Conv2d: 3-108                [128, 16, 32, 32]         [128, 16, 32, 32]         2,304                     [3, 3]                    301,989,888\n",
       "│    │    └─BatchNorm2d: 3-109           [128, 16, 32, 32]         [128, 16, 32, 32]         32                        --                        4,096\n",
       "│    │    └─ReLU: 3-110                  [128, 16, 32, 32]         [128, 16, 32, 32]         --                        --                        --\n",
       "│    │    └─Conv2d: 3-111                [128, 16, 32, 32]         [128, 64, 32, 32]         1,024                     [1, 1]                    134,217,728\n",
       "│    └─Bottleneck: 2-14                  [128, 64, 32, 32]         [128, 64, 32, 32]         --                        --                        --\n",
       "│    │    └─BatchNorm2d: 3-112           [128, 64, 32, 32]         [128, 64, 32, 32]         128                       --                        16,384\n",
       "│    │    └─ReLU: 3-113                  [128, 64, 32, 32]         [128, 64, 32, 32]         --                        --                        --\n",
       "│    │    └─Conv2d: 3-114                [128, 64, 32, 32]         [128, 16, 32, 32]         1,024                     [1, 1]                    134,217,728\n",
       "│    │    └─BatchNorm2d: 3-115           [128, 16, 32, 32]         [128, 16, 32, 32]         32                        --                        4,096\n",
       "│    │    └─ReLU: 3-116                  [128, 16, 32, 32]         [128, 16, 32, 32]         --                        --                        --\n",
       "│    │    └─Conv2d: 3-117                [128, 16, 32, 32]         [128, 16, 32, 32]         2,304                     [3, 3]                    301,989,888\n",
       "│    │    └─BatchNorm2d: 3-118           [128, 16, 32, 32]         [128, 16, 32, 32]         32                        --                        4,096\n",
       "│    │    └─ReLU: 3-119                  [128, 16, 32, 32]         [128, 16, 32, 32]         --                        --                        --\n",
       "│    │    └─Conv2d: 3-120                [128, 16, 32, 32]         [128, 64, 32, 32]         1,024                     [1, 1]                    134,217,728\n",
       "│    └─Bottleneck: 2-15                  [128, 64, 32, 32]         [128, 64, 32, 32]         --                        --                        --\n",
       "│    │    └─BatchNorm2d: 3-121           [128, 64, 32, 32]         [128, 64, 32, 32]         128                       --                        16,384\n",
       "│    │    └─ReLU: 3-122                  [128, 64, 32, 32]         [128, 64, 32, 32]         --                        --                        --\n",
       "│    │    └─Conv2d: 3-123                [128, 64, 32, 32]         [128, 16, 32, 32]         1,024                     [1, 1]                    134,217,728\n",
       "│    │    └─BatchNorm2d: 3-124           [128, 16, 32, 32]         [128, 16, 32, 32]         32                        --                        4,096\n",
       "│    │    └─ReLU: 3-125                  [128, 16, 32, 32]         [128, 16, 32, 32]         --                        --                        --\n",
       "│    │    └─Conv2d: 3-126                [128, 16, 32, 32]         [128, 16, 32, 32]         2,304                     [3, 3]                    301,989,888\n",
       "│    │    └─BatchNorm2d: 3-127           [128, 16, 32, 32]         [128, 16, 32, 32]         32                        --                        4,096\n",
       "│    │    └─ReLU: 3-128                  [128, 16, 32, 32]         [128, 16, 32, 32]         --                        --                        --\n",
       "│    │    └─Conv2d: 3-129                [128, 16, 32, 32]         [128, 64, 32, 32]         1,024                     [1, 1]                    134,217,728\n",
       "│    └─Bottleneck: 2-16                  [128, 64, 32, 32]         [128, 64, 32, 32]         --                        --                        --\n",
       "│    │    └─BatchNorm2d: 3-130           [128, 64, 32, 32]         [128, 64, 32, 32]         128                       --                        16,384\n",
       "│    │    └─ReLU: 3-131                  [128, 64, 32, 32]         [128, 64, 32, 32]         --                        --                        --\n",
       "│    │    └─Conv2d: 3-132                [128, 64, 32, 32]         [128, 16, 32, 32]         1,024                     [1, 1]                    134,217,728\n",
       "│    │    └─BatchNorm2d: 3-133           [128, 16, 32, 32]         [128, 16, 32, 32]         32                        --                        4,096\n",
       "│    │    └─ReLU: 3-134                  [128, 16, 32, 32]         [128, 16, 32, 32]         --                        --                        --\n",
       "│    │    └─Conv2d: 3-135                [128, 16, 32, 32]         [128, 16, 32, 32]         2,304                     [3, 3]                    301,989,888\n",
       "│    │    └─BatchNorm2d: 3-136           [128, 16, 32, 32]         [128, 16, 32, 32]         32                        --                        4,096\n",
       "│    │    └─ReLU: 3-137                  [128, 16, 32, 32]         [128, 16, 32, 32]         --                        --                        --\n",
       "│    │    └─Conv2d: 3-138                [128, 16, 32, 32]         [128, 64, 32, 32]         1,024                     [1, 1]                    134,217,728\n",
       "│    └─Bottleneck: 2-17                  [128, 64, 32, 32]         [128, 64, 32, 32]         --                        --                        --\n",
       "│    │    └─BatchNorm2d: 3-139           [128, 64, 32, 32]         [128, 64, 32, 32]         128                       --                        16,384\n",
       "│    │    └─ReLU: 3-140                  [128, 64, 32, 32]         [128, 64, 32, 32]         --                        --                        --\n",
       "│    │    └─Conv2d: 3-141                [128, 64, 32, 32]         [128, 16, 32, 32]         1,024                     [1, 1]                    134,217,728\n",
       "│    │    └─BatchNorm2d: 3-142           [128, 16, 32, 32]         [128, 16, 32, 32]         32                        --                        4,096\n",
       "│    │    └─ReLU: 3-143                  [128, 16, 32, 32]         [128, 16, 32, 32]         --                        --                        --\n",
       "│    │    └─Conv2d: 3-144                [128, 16, 32, 32]         [128, 16, 32, 32]         2,304                     [3, 3]                    301,989,888\n",
       "│    │    └─BatchNorm2d: 3-145           [128, 16, 32, 32]         [128, 16, 32, 32]         32                        --                        4,096\n",
       "│    │    └─ReLU: 3-146                  [128, 16, 32, 32]         [128, 16, 32, 32]         --                        --                        --\n",
       "│    │    └─Conv2d: 3-147                [128, 16, 32, 32]         [128, 64, 32, 32]         1,024                     [1, 1]                    134,217,728\n",
       "│    └─Bottleneck: 2-18                  [128, 64, 32, 32]         [128, 64, 32, 32]         --                        --                        --\n",
       "│    │    └─BatchNorm2d: 3-148           [128, 64, 32, 32]         [128, 64, 32, 32]         128                       --                        16,384\n",
       "│    │    └─ReLU: 3-149                  [128, 64, 32, 32]         [128, 64, 32, 32]         --                        --                        --\n",
       "│    │    └─Conv2d: 3-150                [128, 64, 32, 32]         [128, 16, 32, 32]         1,024                     [1, 1]                    134,217,728\n",
       "│    │    └─BatchNorm2d: 3-151           [128, 16, 32, 32]         [128, 16, 32, 32]         32                        --                        4,096\n",
       "│    │    └─ReLU: 3-152                  [128, 16, 32, 32]         [128, 16, 32, 32]         --                        --                        --\n",
       "│    │    └─Conv2d: 3-153                [128, 16, 32, 32]         [128, 16, 32, 32]         2,304                     [3, 3]                    301,989,888\n",
       "│    │    └─BatchNorm2d: 3-154           [128, 16, 32, 32]         [128, 16, 32, 32]         32                        --                        4,096\n",
       "│    │    └─ReLU: 3-155                  [128, 16, 32, 32]         [128, 16, 32, 32]         --                        --                        --\n",
       "│    │    └─Conv2d: 3-156                [128, 16, 32, 32]         [128, 64, 32, 32]         1,024                     [1, 1]                    134,217,728\n",
       "│    └─Bottleneck: 2-19                  [128, 64, 32, 32]         [128, 64, 32, 32]         --                        --                        --\n",
       "│    │    └─BatchNorm2d: 3-157           [128, 64, 32, 32]         [128, 64, 32, 32]         128                       --                        16,384\n",
       "│    │    └─ReLU: 3-158                  [128, 64, 32, 32]         [128, 64, 32, 32]         --                        --                        --\n",
       "│    │    └─Conv2d: 3-159                [128, 64, 32, 32]         [128, 16, 32, 32]         1,024                     [1, 1]                    134,217,728\n",
       "│    │    └─BatchNorm2d: 3-160           [128, 16, 32, 32]         [128, 16, 32, 32]         32                        --                        4,096\n",
       "│    │    └─ReLU: 3-161                  [128, 16, 32, 32]         [128, 16, 32, 32]         --                        --                        --\n",
       "│    │    └─Conv2d: 3-162                [128, 16, 32, 32]         [128, 16, 32, 32]         2,304                     [3, 3]                    301,989,888\n",
       "│    │    └─BatchNorm2d: 3-163           [128, 16, 32, 32]         [128, 16, 32, 32]         32                        --                        4,096\n",
       "│    │    └─ReLU: 3-164                  [128, 16, 32, 32]         [128, 16, 32, 32]         --                        --                        --\n",
       "│    │    └─Conv2d: 3-165                [128, 16, 32, 32]         [128, 64, 32, 32]         1,024                     [1, 1]                    134,217,728\n",
       "├─Downsample: 1-4                        [128, 64, 32, 32]         [128, 128, 16, 16]        --                        --                        --\n",
       "│    └─Sequential: 2-20                  [128, 64, 32, 32]         [128, 128, 16, 16]        --                        --                        --\n",
       "│    │    └─BatchNorm2d: 3-166           [128, 64, 32, 32]         [128, 64, 32, 32]         128                       --                        16,384\n",
       "│    │    └─ReLU: 3-167                  [128, 64, 32, 32]         [128, 64, 32, 32]         --                        --                        --\n",
       "│    │    └─Conv2d: 3-168                [128, 64, 32, 32]         [128, 128, 16, 16]        8,192                     [1, 1]                    268,435,456\n",
       "├─ModuleList: 1-7                        --                        --                        (recursive)               --                        --\n",
       "│    └─Bottleneck: 2-21                  [128, 64, 32, 32]         [128, 128, 16, 16]        --                        --                        --\n",
       "│    │    └─BatchNorm2d: 3-169           [128, 64, 32, 32]         [128, 64, 32, 32]         128                       --                        16,384\n",
       "│    │    └─ReLU: 3-170                  [128, 64, 32, 32]         [128, 64, 32, 32]         --                        --                        --\n",
       "│    │    └─Conv2d: 3-171                [128, 64, 32, 32]         [128, 32, 32, 32]         2,048                     [1, 1]                    268,435,456\n",
       "│    │    └─BatchNorm2d: 3-172           [128, 32, 32, 32]         [128, 32, 32, 32]         64                        --                        8,192\n",
       "│    │    └─ReLU: 3-173                  [128, 32, 32, 32]         [128, 32, 32, 32]         --                        --                        --\n",
       "│    │    └─Conv2d: 3-174                [128, 32, 32, 32]         [128, 32, 16, 16]         9,216                     [3, 3]                    301,989,888\n",
       "│    │    └─BatchNorm2d: 3-175           [128, 32, 16, 16]         [128, 32, 16, 16]         64                        --                        8,192\n",
       "│    │    └─ReLU: 3-176                  [128, 32, 16, 16]         [128, 32, 16, 16]         --                        --                        --\n",
       "│    │    └─Conv2d: 3-177                [128, 32, 16, 16]         [128, 128, 16, 16]        4,096                     [1, 1]                    134,217,728\n",
       "│    └─Bottleneck: 2-22                  [128, 128, 16, 16]        [128, 128, 16, 16]        --                        --                        --\n",
       "│    │    └─BatchNorm2d: 3-178           [128, 128, 16, 16]        [128, 128, 16, 16]        256                       --                        32,768\n",
       "│    │    └─ReLU: 3-179                  [128, 128, 16, 16]        [128, 128, 16, 16]        --                        --                        --\n",
       "│    │    └─Conv2d: 3-180                [128, 128, 16, 16]        [128, 32, 16, 16]         4,096                     [1, 1]                    134,217,728\n",
       "│    │    └─BatchNorm2d: 3-181           [128, 32, 16, 16]         [128, 32, 16, 16]         64                        --                        8,192\n",
       "│    │    └─ReLU: 3-182                  [128, 32, 16, 16]         [128, 32, 16, 16]         --                        --                        --\n",
       "│    │    └─Conv2d: 3-183                [128, 32, 16, 16]         [128, 32, 16, 16]         9,216                     [3, 3]                    301,989,888\n",
       "│    │    └─BatchNorm2d: 3-184           [128, 32, 16, 16]         [128, 32, 16, 16]         64                        --                        8,192\n",
       "│    │    └─ReLU: 3-185                  [128, 32, 16, 16]         [128, 32, 16, 16]         --                        --                        --\n",
       "│    │    └─Conv2d: 3-186                [128, 32, 16, 16]         [128, 128, 16, 16]        4,096                     [1, 1]                    134,217,728\n",
       "│    └─Bottleneck: 2-23                  [128, 128, 16, 16]        [128, 128, 16, 16]        --                        --                        --\n",
       "│    │    └─BatchNorm2d: 3-187           [128, 128, 16, 16]        [128, 128, 16, 16]        256                       --                        32,768\n",
       "│    │    └─ReLU: 3-188                  [128, 128, 16, 16]        [128, 128, 16, 16]        --                        --                        --\n",
       "│    │    └─Conv2d: 3-189                [128, 128, 16, 16]        [128, 32, 16, 16]         4,096                     [1, 1]                    134,217,728\n",
       "│    │    └─BatchNorm2d: 3-190           [128, 32, 16, 16]         [128, 32, 16, 16]         64                        --                        8,192\n",
       "│    │    └─ReLU: 3-191                  [128, 32, 16, 16]         [128, 32, 16, 16]         --                        --                        --\n",
       "│    │    └─Conv2d: 3-192                [128, 32, 16, 16]         [128, 32, 16, 16]         9,216                     [3, 3]                    301,989,888\n",
       "│    │    └─BatchNorm2d: 3-193           [128, 32, 16, 16]         [128, 32, 16, 16]         64                        --                        8,192\n",
       "│    │    └─ReLU: 3-194                  [128, 32, 16, 16]         [128, 32, 16, 16]         --                        --                        --\n",
       "│    │    └─Conv2d: 3-195                [128, 32, 16, 16]         [128, 128, 16, 16]        4,096                     [1, 1]                    134,217,728\n",
       "│    └─Bottleneck: 2-24                  [128, 128, 16, 16]        [128, 128, 16, 16]        --                        --                        --\n",
       "│    │    └─BatchNorm2d: 3-196           [128, 128, 16, 16]        [128, 128, 16, 16]        256                       --                        32,768\n",
       "│    │    └─ReLU: 3-197                  [128, 128, 16, 16]        [128, 128, 16, 16]        --                        --                        --\n",
       "│    │    └─Conv2d: 3-198                [128, 128, 16, 16]        [128, 32, 16, 16]         4,096                     [1, 1]                    134,217,728\n",
       "│    │    └─BatchNorm2d: 3-199           [128, 32, 16, 16]         [128, 32, 16, 16]         64                        --                        8,192\n",
       "│    │    └─ReLU: 3-200                  [128, 32, 16, 16]         [128, 32, 16, 16]         --                        --                        --\n",
       "│    │    └─Conv2d: 3-201                [128, 32, 16, 16]         [128, 32, 16, 16]         9,216                     [3, 3]                    301,989,888\n",
       "│    │    └─BatchNorm2d: 3-202           [128, 32, 16, 16]         [128, 32, 16, 16]         64                        --                        8,192\n",
       "│    │    └─ReLU: 3-203                  [128, 32, 16, 16]         [128, 32, 16, 16]         --                        --                        --\n",
       "│    │    └─Conv2d: 3-204                [128, 32, 16, 16]         [128, 128, 16, 16]        4,096                     [1, 1]                    134,217,728\n",
       "│    └─Bottleneck: 2-25                  [128, 128, 16, 16]        [128, 128, 16, 16]        --                        --                        --\n",
       "│    │    └─BatchNorm2d: 3-205           [128, 128, 16, 16]        [128, 128, 16, 16]        256                       --                        32,768\n",
       "│    │    └─ReLU: 3-206                  [128, 128, 16, 16]        [128, 128, 16, 16]        --                        --                        --\n",
       "│    │    └─Conv2d: 3-207                [128, 128, 16, 16]        [128, 32, 16, 16]         4,096                     [1, 1]                    134,217,728\n",
       "│    │    └─BatchNorm2d: 3-208           [128, 32, 16, 16]         [128, 32, 16, 16]         64                        --                        8,192\n",
       "│    │    └─ReLU: 3-209                  [128, 32, 16, 16]         [128, 32, 16, 16]         --                        --                        --\n",
       "│    │    └─Conv2d: 3-210                [128, 32, 16, 16]         [128, 32, 16, 16]         9,216                     [3, 3]                    301,989,888\n",
       "│    │    └─BatchNorm2d: 3-211           [128, 32, 16, 16]         [128, 32, 16, 16]         64                        --                        8,192\n",
       "│    │    └─ReLU: 3-212                  [128, 32, 16, 16]         [128, 32, 16, 16]         --                        --                        --\n",
       "│    │    └─Conv2d: 3-213                [128, 32, 16, 16]         [128, 128, 16, 16]        4,096                     [1, 1]                    134,217,728\n",
       "│    └─Bottleneck: 2-26                  [128, 128, 16, 16]        [128, 128, 16, 16]        --                        --                        --\n",
       "│    │    └─BatchNorm2d: 3-214           [128, 128, 16, 16]        [128, 128, 16, 16]        256                       --                        32,768\n",
       "│    │    └─ReLU: 3-215                  [128, 128, 16, 16]        [128, 128, 16, 16]        --                        --                        --\n",
       "│    │    └─Conv2d: 3-216                [128, 128, 16, 16]        [128, 32, 16, 16]         4,096                     [1, 1]                    134,217,728\n",
       "│    │    └─BatchNorm2d: 3-217           [128, 32, 16, 16]         [128, 32, 16, 16]         64                        --                        8,192\n",
       "│    │    └─ReLU: 3-218                  [128, 32, 16, 16]         [128, 32, 16, 16]         --                        --                        --\n",
       "│    │    └─Conv2d: 3-219                [128, 32, 16, 16]         [128, 32, 16, 16]         9,216                     [3, 3]                    301,989,888\n",
       "│    │    └─BatchNorm2d: 3-220           [128, 32, 16, 16]         [128, 32, 16, 16]         64                        --                        8,192\n",
       "│    │    └─ReLU: 3-221                  [128, 32, 16, 16]         [128, 32, 16, 16]         --                        --                        --\n",
       "│    │    └─Conv2d: 3-222                [128, 32, 16, 16]         [128, 128, 16, 16]        4,096                     [1, 1]                    134,217,728\n",
       "│    └─Bottleneck: 2-27                  [128, 128, 16, 16]        [128, 128, 16, 16]        --                        --                        --\n",
       "│    │    └─BatchNorm2d: 3-223           [128, 128, 16, 16]        [128, 128, 16, 16]        256                       --                        32,768\n",
       "│    │    └─ReLU: 3-224                  [128, 128, 16, 16]        [128, 128, 16, 16]        --                        --                        --\n",
       "│    │    └─Conv2d: 3-225                [128, 128, 16, 16]        [128, 32, 16, 16]         4,096                     [1, 1]                    134,217,728\n",
       "│    │    └─BatchNorm2d: 3-226           [128, 32, 16, 16]         [128, 32, 16, 16]         64                        --                        8,192\n",
       "│    │    └─ReLU: 3-227                  [128, 32, 16, 16]         [128, 32, 16, 16]         --                        --                        --\n",
       "│    │    └─Conv2d: 3-228                [128, 32, 16, 16]         [128, 32, 16, 16]         9,216                     [3, 3]                    301,989,888\n",
       "│    │    └─BatchNorm2d: 3-229           [128, 32, 16, 16]         [128, 32, 16, 16]         64                        --                        8,192\n",
       "│    │    └─ReLU: 3-230                  [128, 32, 16, 16]         [128, 32, 16, 16]         --                        --                        --\n",
       "│    │    └─Conv2d: 3-231                [128, 32, 16, 16]         [128, 128, 16, 16]        4,096                     [1, 1]                    134,217,728\n",
       "│    └─Bottleneck: 2-28                  [128, 128, 16, 16]        [128, 128, 16, 16]        --                        --                        --\n",
       "│    │    └─BatchNorm2d: 3-232           [128, 128, 16, 16]        [128, 128, 16, 16]        256                       --                        32,768\n",
       "│    │    └─ReLU: 3-233                  [128, 128, 16, 16]        [128, 128, 16, 16]        --                        --                        --\n",
       "│    │    └─Conv2d: 3-234                [128, 128, 16, 16]        [128, 32, 16, 16]         4,096                     [1, 1]                    134,217,728\n",
       "│    │    └─BatchNorm2d: 3-235           [128, 32, 16, 16]         [128, 32, 16, 16]         64                        --                        8,192\n",
       "│    │    └─ReLU: 3-236                  [128, 32, 16, 16]         [128, 32, 16, 16]         --                        --                        --\n",
       "│    │    └─Conv2d: 3-237                [128, 32, 16, 16]         [128, 32, 16, 16]         9,216                     [3, 3]                    301,989,888\n",
       "│    │    └─BatchNorm2d: 3-238           [128, 32, 16, 16]         [128, 32, 16, 16]         64                        --                        8,192\n",
       "│    │    └─ReLU: 3-239                  [128, 32, 16, 16]         [128, 32, 16, 16]         --                        --                        --\n",
       "│    │    └─Conv2d: 3-240                [128, 32, 16, 16]         [128, 128, 16, 16]        4,096                     [1, 1]                    134,217,728\n",
       "│    └─Bottleneck: 2-29                  [128, 128, 16, 16]        [128, 128, 16, 16]        --                        --                        --\n",
       "│    │    └─BatchNorm2d: 3-241           [128, 128, 16, 16]        [128, 128, 16, 16]        256                       --                        32,768\n",
       "│    │    └─ReLU: 3-242                  [128, 128, 16, 16]        [128, 128, 16, 16]        --                        --                        --\n",
       "│    │    └─Conv2d: 3-243                [128, 128, 16, 16]        [128, 32, 16, 16]         4,096                     [1, 1]                    134,217,728\n",
       "│    │    └─BatchNorm2d: 3-244           [128, 32, 16, 16]         [128, 32, 16, 16]         64                        --                        8,192\n",
       "│    │    └─ReLU: 3-245                  [128, 32, 16, 16]         [128, 32, 16, 16]         --                        --                        --\n",
       "│    │    └─Conv2d: 3-246                [128, 32, 16, 16]         [128, 32, 16, 16]         9,216                     [3, 3]                    301,989,888\n",
       "│    │    └─BatchNorm2d: 3-247           [128, 32, 16, 16]         [128, 32, 16, 16]         64                        --                        8,192\n",
       "│    │    └─ReLU: 3-248                  [128, 32, 16, 16]         [128, 32, 16, 16]         --                        --                        --\n",
       "│    │    └─Conv2d: 3-249                [128, 32, 16, 16]         [128, 128, 16, 16]        4,096                     [1, 1]                    134,217,728\n",
       "│    └─Bottleneck: 2-30                  [128, 128, 16, 16]        [128, 128, 16, 16]        --                        --                        --\n",
       "│    │    └─BatchNorm2d: 3-250           [128, 128, 16, 16]        [128, 128, 16, 16]        256                       --                        32,768\n",
       "│    │    └─ReLU: 3-251                  [128, 128, 16, 16]        [128, 128, 16, 16]        --                        --                        --\n",
       "│    │    └─Conv2d: 3-252                [128, 128, 16, 16]        [128, 32, 16, 16]         4,096                     [1, 1]                    134,217,728\n",
       "│    │    └─BatchNorm2d: 3-253           [128, 32, 16, 16]         [128, 32, 16, 16]         64                        --                        8,192\n",
       "│    │    └─ReLU: 3-254                  [128, 32, 16, 16]         [128, 32, 16, 16]         --                        --                        --\n",
       "│    │    └─Conv2d: 3-255                [128, 32, 16, 16]         [128, 32, 16, 16]         9,216                     [3, 3]                    301,989,888\n",
       "│    │    └─BatchNorm2d: 3-256           [128, 32, 16, 16]         [128, 32, 16, 16]         64                        --                        8,192\n",
       "│    │    └─ReLU: 3-257                  [128, 32, 16, 16]         [128, 32, 16, 16]         --                        --                        --\n",
       "│    │    └─Conv2d: 3-258                [128, 32, 16, 16]         [128, 128, 16, 16]        4,096                     [1, 1]                    134,217,728\n",
       "│    └─Bottleneck: 2-31                  [128, 128, 16, 16]        [128, 128, 16, 16]        --                        --                        --\n",
       "│    │    └─BatchNorm2d: 3-259           [128, 128, 16, 16]        [128, 128, 16, 16]        256                       --                        32,768\n",
       "│    │    └─ReLU: 3-260                  [128, 128, 16, 16]        [128, 128, 16, 16]        --                        --                        --\n",
       "│    │    └─Conv2d: 3-261                [128, 128, 16, 16]        [128, 32, 16, 16]         4,096                     [1, 1]                    134,217,728\n",
       "│    │    └─BatchNorm2d: 3-262           [128, 32, 16, 16]         [128, 32, 16, 16]         64                        --                        8,192\n",
       "│    │    └─ReLU: 3-263                  [128, 32, 16, 16]         [128, 32, 16, 16]         --                        --                        --\n",
       "│    │    └─Conv2d: 3-264                [128, 32, 16, 16]         [128, 32, 16, 16]         9,216                     [3, 3]                    301,989,888\n",
       "│    │    └─BatchNorm2d: 3-265           [128, 32, 16, 16]         [128, 32, 16, 16]         64                        --                        8,192\n",
       "│    │    └─ReLU: 3-266                  [128, 32, 16, 16]         [128, 32, 16, 16]         --                        --                        --\n",
       "│    │    └─Conv2d: 3-267                [128, 32, 16, 16]         [128, 128, 16, 16]        4,096                     [1, 1]                    134,217,728\n",
       "│    └─Bottleneck: 2-32                  [128, 128, 16, 16]        [128, 128, 16, 16]        --                        --                        --\n",
       "│    │    └─BatchNorm2d: 3-268           [128, 128, 16, 16]        [128, 128, 16, 16]        256                       --                        32,768\n",
       "│    │    └─ReLU: 3-269                  [128, 128, 16, 16]        [128, 128, 16, 16]        --                        --                        --\n",
       "│    │    └─Conv2d: 3-270                [128, 128, 16, 16]        [128, 32, 16, 16]         4,096                     [1, 1]                    134,217,728\n",
       "│    │    └─BatchNorm2d: 3-271           [128, 32, 16, 16]         [128, 32, 16, 16]         64                        --                        8,192\n",
       "│    │    └─ReLU: 3-272                  [128, 32, 16, 16]         [128, 32, 16, 16]         --                        --                        --\n",
       "│    │    └─Conv2d: 3-273                [128, 32, 16, 16]         [128, 32, 16, 16]         9,216                     [3, 3]                    301,989,888\n",
       "│    │    └─BatchNorm2d: 3-274           [128, 32, 16, 16]         [128, 32, 16, 16]         64                        --                        8,192\n",
       "│    │    └─ReLU: 3-275                  [128, 32, 16, 16]         [128, 32, 16, 16]         --                        --                        --\n",
       "│    │    └─Conv2d: 3-276                [128, 32, 16, 16]         [128, 128, 16, 16]        4,096                     [1, 1]                    134,217,728\n",
       "│    └─Bottleneck: 2-33                  [128, 128, 16, 16]        [128, 128, 16, 16]        --                        --                        --\n",
       "│    │    └─BatchNorm2d: 3-277           [128, 128, 16, 16]        [128, 128, 16, 16]        256                       --                        32,768\n",
       "│    │    └─ReLU: 3-278                  [128, 128, 16, 16]        [128, 128, 16, 16]        --                        --                        --\n",
       "│    │    └─Conv2d: 3-279                [128, 128, 16, 16]        [128, 32, 16, 16]         4,096                     [1, 1]                    134,217,728\n",
       "│    │    └─BatchNorm2d: 3-280           [128, 32, 16, 16]         [128, 32, 16, 16]         64                        --                        8,192\n",
       "│    │    └─ReLU: 3-281                  [128, 32, 16, 16]         [128, 32, 16, 16]         --                        --                        --\n",
       "│    │    └─Conv2d: 3-282                [128, 32, 16, 16]         [128, 32, 16, 16]         9,216                     [3, 3]                    301,989,888\n",
       "│    │    └─BatchNorm2d: 3-283           [128, 32, 16, 16]         [128, 32, 16, 16]         64                        --                        8,192\n",
       "│    │    └─ReLU: 3-284                  [128, 32, 16, 16]         [128, 32, 16, 16]         --                        --                        --\n",
       "│    │    └─Conv2d: 3-285                [128, 32, 16, 16]         [128, 128, 16, 16]        4,096                     [1, 1]                    134,217,728\n",
       "│    └─Bottleneck: 2-34                  [128, 128, 16, 16]        [128, 128, 16, 16]        --                        --                        --\n",
       "│    │    └─BatchNorm2d: 3-286           [128, 128, 16, 16]        [128, 128, 16, 16]        256                       --                        32,768\n",
       "│    │    └─ReLU: 3-287                  [128, 128, 16, 16]        [128, 128, 16, 16]        --                        --                        --\n",
       "│    │    └─Conv2d: 3-288                [128, 128, 16, 16]        [128, 32, 16, 16]         4,096                     [1, 1]                    134,217,728\n",
       "│    │    └─BatchNorm2d: 3-289           [128, 32, 16, 16]         [128, 32, 16, 16]         64                        --                        8,192\n",
       "│    │    └─ReLU: 3-290                  [128, 32, 16, 16]         [128, 32, 16, 16]         --                        --                        --\n",
       "│    │    └─Conv2d: 3-291                [128, 32, 16, 16]         [128, 32, 16, 16]         9,216                     [3, 3]                    301,989,888\n",
       "│    │    └─BatchNorm2d: 3-292           [128, 32, 16, 16]         [128, 32, 16, 16]         64                        --                        8,192\n",
       "│    │    └─ReLU: 3-293                  [128, 32, 16, 16]         [128, 32, 16, 16]         --                        --                        --\n",
       "│    │    └─Conv2d: 3-294                [128, 32, 16, 16]         [128, 128, 16, 16]        4,096                     [1, 1]                    134,217,728\n",
       "│    └─Bottleneck: 2-35                  [128, 128, 16, 16]        [128, 128, 16, 16]        --                        --                        --\n",
       "│    │    └─BatchNorm2d: 3-295           [128, 128, 16, 16]        [128, 128, 16, 16]        256                       --                        32,768\n",
       "│    │    └─ReLU: 3-296                  [128, 128, 16, 16]        [128, 128, 16, 16]        --                        --                        --\n",
       "│    │    └─Conv2d: 3-297                [128, 128, 16, 16]        [128, 32, 16, 16]         4,096                     [1, 1]                    134,217,728\n",
       "│    │    └─BatchNorm2d: 3-298           [128, 32, 16, 16]         [128, 32, 16, 16]         64                        --                        8,192\n",
       "│    │    └─ReLU: 3-299                  [128, 32, 16, 16]         [128, 32, 16, 16]         --                        --                        --\n",
       "│    │    └─Conv2d: 3-300                [128, 32, 16, 16]         [128, 32, 16, 16]         9,216                     [3, 3]                    301,989,888\n",
       "│    │    └─BatchNorm2d: 3-301           [128, 32, 16, 16]         [128, 32, 16, 16]         64                        --                        8,192\n",
       "│    │    └─ReLU: 3-302                  [128, 32, 16, 16]         [128, 32, 16, 16]         --                        --                        --\n",
       "│    │    └─Conv2d: 3-303                [128, 32, 16, 16]         [128, 128, 16, 16]        4,096                     [1, 1]                    134,217,728\n",
       "│    └─Bottleneck: 2-36                  [128, 128, 16, 16]        [128, 128, 16, 16]        --                        --                        --\n",
       "│    │    └─BatchNorm2d: 3-304           [128, 128, 16, 16]        [128, 128, 16, 16]        256                       --                        32,768\n",
       "│    │    └─ReLU: 3-305                  [128, 128, 16, 16]        [128, 128, 16, 16]        --                        --                        --\n",
       "│    │    └─Conv2d: 3-306                [128, 128, 16, 16]        [128, 32, 16, 16]         4,096                     [1, 1]                    134,217,728\n",
       "│    │    └─BatchNorm2d: 3-307           [128, 32, 16, 16]         [128, 32, 16, 16]         64                        --                        8,192\n",
       "│    │    └─ReLU: 3-308                  [128, 32, 16, 16]         [128, 32, 16, 16]         --                        --                        --\n",
       "│    │    └─Conv2d: 3-309                [128, 32, 16, 16]         [128, 32, 16, 16]         9,216                     [3, 3]                    301,989,888\n",
       "│    │    └─BatchNorm2d: 3-310           [128, 32, 16, 16]         [128, 32, 16, 16]         64                        --                        8,192\n",
       "│    │    └─ReLU: 3-311                  [128, 32, 16, 16]         [128, 32, 16, 16]         --                        --                        --\n",
       "│    │    └─Conv2d: 3-312                [128, 32, 16, 16]         [128, 128, 16, 16]        4,096                     [1, 1]                    134,217,728\n",
       "│    └─Bottleneck: 2-37                  [128, 128, 16, 16]        [128, 128, 16, 16]        --                        --                        --\n",
       "│    │    └─BatchNorm2d: 3-313           [128, 128, 16, 16]        [128, 128, 16, 16]        256                       --                        32,768\n",
       "│    │    └─ReLU: 3-314                  [128, 128, 16, 16]        [128, 128, 16, 16]        --                        --                        --\n",
       "│    │    └─Conv2d: 3-315                [128, 128, 16, 16]        [128, 32, 16, 16]         4,096                     [1, 1]                    134,217,728\n",
       "│    │    └─BatchNorm2d: 3-316           [128, 32, 16, 16]         [128, 32, 16, 16]         64                        --                        8,192\n",
       "│    │    └─ReLU: 3-317                  [128, 32, 16, 16]         [128, 32, 16, 16]         --                        --                        --\n",
       "│    │    └─Conv2d: 3-318                [128, 32, 16, 16]         [128, 32, 16, 16]         9,216                     [3, 3]                    301,989,888\n",
       "│    │    └─BatchNorm2d: 3-319           [128, 32, 16, 16]         [128, 32, 16, 16]         64                        --                        8,192\n",
       "│    │    └─ReLU: 3-320                  [128, 32, 16, 16]         [128, 32, 16, 16]         --                        --                        --\n",
       "│    │    └─Conv2d: 3-321                [128, 32, 16, 16]         [128, 128, 16, 16]        4,096                     [1, 1]                    134,217,728\n",
       "│    └─Bottleneck: 2-38                  [128, 128, 16, 16]        [128, 128, 16, 16]        --                        --                        --\n",
       "│    │    └─BatchNorm2d: 3-322           [128, 128, 16, 16]        [128, 128, 16, 16]        256                       --                        32,768\n",
       "│    │    └─ReLU: 3-323                  [128, 128, 16, 16]        [128, 128, 16, 16]        --                        --                        --\n",
       "│    │    └─Conv2d: 3-324                [128, 128, 16, 16]        [128, 32, 16, 16]         4,096                     [1, 1]                    134,217,728\n",
       "│    │    └─BatchNorm2d: 3-325           [128, 32, 16, 16]         [128, 32, 16, 16]         64                        --                        8,192\n",
       "│    │    └─ReLU: 3-326                  [128, 32, 16, 16]         [128, 32, 16, 16]         --                        --                        --\n",
       "│    │    └─Conv2d: 3-327                [128, 32, 16, 16]         [128, 32, 16, 16]         9,216                     [3, 3]                    301,989,888\n",
       "│    │    └─BatchNorm2d: 3-328           [128, 32, 16, 16]         [128, 32, 16, 16]         64                        --                        8,192\n",
       "│    │    └─ReLU: 3-329                  [128, 32, 16, 16]         [128, 32, 16, 16]         --                        --                        --\n",
       "│    │    └─Conv2d: 3-330                [128, 32, 16, 16]         [128, 128, 16, 16]        4,096                     [1, 1]                    134,217,728\n",
       "├─Downsample: 1-6                        [128, 128, 16, 16]        [128, 256, 8, 8]          --                        --                        --\n",
       "│    └─Sequential: 2-39                  [128, 128, 16, 16]        [128, 256, 8, 8]          --                        --                        --\n",
       "│    │    └─BatchNorm2d: 3-331           [128, 128, 16, 16]        [128, 128, 16, 16]        256                       --                        32,768\n",
       "│    │    └─ReLU: 3-332                  [128, 128, 16, 16]        [128, 128, 16, 16]        --                        --                        --\n",
       "│    │    └─Conv2d: 3-333                [128, 128, 16, 16]        [128, 256, 8, 8]          32,768                    [1, 1]                    268,435,456\n",
       "├─ModuleList: 1-7                        --                        --                        (recursive)               --                        --\n",
       "│    └─Bottleneck: 2-40                  [128, 128, 16, 16]        [128, 256, 8, 8]          --                        --                        --\n",
       "│    │    └─BatchNorm2d: 3-334           [128, 128, 16, 16]        [128, 128, 16, 16]        256                       --                        32,768\n",
       "│    │    └─ReLU: 3-335                  [128, 128, 16, 16]        [128, 128, 16, 16]        --                        --                        --\n",
       "│    │    └─Conv2d: 3-336                [128, 128, 16, 16]        [128, 64, 16, 16]         8,192                     [1, 1]                    268,435,456\n",
       "│    │    └─BatchNorm2d: 3-337           [128, 64, 16, 16]         [128, 64, 16, 16]         128                       --                        16,384\n",
       "│    │    └─ReLU: 3-338                  [128, 64, 16, 16]         [128, 64, 16, 16]         --                        --                        --\n",
       "│    │    └─Conv2d: 3-339                [128, 64, 16, 16]         [128, 64, 8, 8]           36,864                    [3, 3]                    301,989,888\n",
       "│    │    └─BatchNorm2d: 3-340           [128, 64, 8, 8]           [128, 64, 8, 8]           128                       --                        16,384\n",
       "│    │    └─ReLU: 3-341                  [128, 64, 8, 8]           [128, 64, 8, 8]           --                        --                        --\n",
       "│    │    └─Conv2d: 3-342                [128, 64, 8, 8]           [128, 256, 8, 8]          16,384                    [1, 1]                    134,217,728\n",
       "│    └─Bottleneck: 2-41                  [128, 256, 8, 8]          [128, 256, 8, 8]          --                        --                        --\n",
       "│    │    └─BatchNorm2d: 3-343           [128, 256, 8, 8]          [128, 256, 8, 8]          512                       --                        65,536\n",
       "│    │    └─ReLU: 3-344                  [128, 256, 8, 8]          [128, 256, 8, 8]          --                        --                        --\n",
       "│    │    └─Conv2d: 3-345                [128, 256, 8, 8]          [128, 64, 8, 8]           16,384                    [1, 1]                    134,217,728\n",
       "│    │    └─BatchNorm2d: 3-346           [128, 64, 8, 8]           [128, 64, 8, 8]           128                       --                        16,384\n",
       "│    │    └─ReLU: 3-347                  [128, 64, 8, 8]           [128, 64, 8, 8]           --                        --                        --\n",
       "│    │    └─Conv2d: 3-348                [128, 64, 8, 8]           [128, 64, 8, 8]           36,864                    [3, 3]                    301,989,888\n",
       "│    │    └─BatchNorm2d: 3-349           [128, 64, 8, 8]           [128, 64, 8, 8]           128                       --                        16,384\n",
       "│    │    └─ReLU: 3-350                  [128, 64, 8, 8]           [128, 64, 8, 8]           --                        --                        --\n",
       "│    │    └─Conv2d: 3-351                [128, 64, 8, 8]           [128, 256, 8, 8]          16,384                    [1, 1]                    134,217,728\n",
       "│    └─Bottleneck: 2-42                  [128, 256, 8, 8]          [128, 256, 8, 8]          --                        --                        --\n",
       "│    │    └─BatchNorm2d: 3-352           [128, 256, 8, 8]          [128, 256, 8, 8]          512                       --                        65,536\n",
       "│    │    └─ReLU: 3-353                  [128, 256, 8, 8]          [128, 256, 8, 8]          --                        --                        --\n",
       "│    │    └─Conv2d: 3-354                [128, 256, 8, 8]          [128, 64, 8, 8]           16,384                    [1, 1]                    134,217,728\n",
       "│    │    └─BatchNorm2d: 3-355           [128, 64, 8, 8]           [128, 64, 8, 8]           128                       --                        16,384\n",
       "│    │    └─ReLU: 3-356                  [128, 64, 8, 8]           [128, 64, 8, 8]           --                        --                        --\n",
       "│    │    └─Conv2d: 3-357                [128, 64, 8, 8]           [128, 64, 8, 8]           36,864                    [3, 3]                    301,989,888\n",
       "│    │    └─BatchNorm2d: 3-358           [128, 64, 8, 8]           [128, 64, 8, 8]           128                       --                        16,384\n",
       "│    │    └─ReLU: 3-359                  [128, 64, 8, 8]           [128, 64, 8, 8]           --                        --                        --\n",
       "│    │    └─Conv2d: 3-360                [128, 64, 8, 8]           [128, 256, 8, 8]          16,384                    [1, 1]                    134,217,728\n",
       "│    └─Bottleneck: 2-43                  [128, 256, 8, 8]          [128, 256, 8, 8]          --                        --                        --\n",
       "│    │    └─BatchNorm2d: 3-361           [128, 256, 8, 8]          [128, 256, 8, 8]          512                       --                        65,536\n",
       "│    │    └─ReLU: 3-362                  [128, 256, 8, 8]          [128, 256, 8, 8]          --                        --                        --\n",
       "│    │    └─Conv2d: 3-363                [128, 256, 8, 8]          [128, 64, 8, 8]           16,384                    [1, 1]                    134,217,728\n",
       "│    │    └─BatchNorm2d: 3-364           [128, 64, 8, 8]           [128, 64, 8, 8]           128                       --                        16,384\n",
       "│    │    └─ReLU: 3-365                  [128, 64, 8, 8]           [128, 64, 8, 8]           --                        --                        --\n",
       "│    │    └─Conv2d: 3-366                [128, 64, 8, 8]           [128, 64, 8, 8]           36,864                    [3, 3]                    301,989,888\n",
       "│    │    └─BatchNorm2d: 3-367           [128, 64, 8, 8]           [128, 64, 8, 8]           128                       --                        16,384\n",
       "│    │    └─ReLU: 3-368                  [128, 64, 8, 8]           [128, 64, 8, 8]           --                        --                        --\n",
       "│    │    └─Conv2d: 3-369                [128, 64, 8, 8]           [128, 256, 8, 8]          16,384                    [1, 1]                    134,217,728\n",
       "│    └─Bottleneck: 2-44                  [128, 256, 8, 8]          [128, 256, 8, 8]          --                        --                        --\n",
       "│    │    └─BatchNorm2d: 3-370           [128, 256, 8, 8]          [128, 256, 8, 8]          512                       --                        65,536\n",
       "│    │    └─ReLU: 3-371                  [128, 256, 8, 8]          [128, 256, 8, 8]          --                        --                        --\n",
       "│    │    └─Conv2d: 3-372                [128, 256, 8, 8]          [128, 64, 8, 8]           16,384                    [1, 1]                    134,217,728\n",
       "│    │    └─BatchNorm2d: 3-373           [128, 64, 8, 8]           [128, 64, 8, 8]           128                       --                        16,384\n",
       "│    │    └─ReLU: 3-374                  [128, 64, 8, 8]           [128, 64, 8, 8]           --                        --                        --\n",
       "│    │    └─Conv2d: 3-375                [128, 64, 8, 8]           [128, 64, 8, 8]           36,864                    [3, 3]                    301,989,888\n",
       "│    │    └─BatchNorm2d: 3-376           [128, 64, 8, 8]           [128, 64, 8, 8]           128                       --                        16,384\n",
       "│    │    └─ReLU: 3-377                  [128, 64, 8, 8]           [128, 64, 8, 8]           --                        --                        --\n",
       "│    │    └─Conv2d: 3-378                [128, 64, 8, 8]           [128, 256, 8, 8]          16,384                    [1, 1]                    134,217,728\n",
       "│    └─Bottleneck: 2-45                  [128, 256, 8, 8]          [128, 256, 8, 8]          --                        --                        --\n",
       "│    │    └─BatchNorm2d: 3-379           [128, 256, 8, 8]          [128, 256, 8, 8]          512                       --                        65,536\n",
       "│    │    └─ReLU: 3-380                  [128, 256, 8, 8]          [128, 256, 8, 8]          --                        --                        --\n",
       "│    │    └─Conv2d: 3-381                [128, 256, 8, 8]          [128, 64, 8, 8]           16,384                    [1, 1]                    134,217,728\n",
       "│    │    └─BatchNorm2d: 3-382           [128, 64, 8, 8]           [128, 64, 8, 8]           128                       --                        16,384\n",
       "│    │    └─ReLU: 3-383                  [128, 64, 8, 8]           [128, 64, 8, 8]           --                        --                        --\n",
       "│    │    └─Conv2d: 3-384                [128, 64, 8, 8]           [128, 64, 8, 8]           36,864                    [3, 3]                    301,989,888\n",
       "│    │    └─BatchNorm2d: 3-385           [128, 64, 8, 8]           [128, 64, 8, 8]           128                       --                        16,384\n",
       "│    │    └─ReLU: 3-386                  [128, 64, 8, 8]           [128, 64, 8, 8]           --                        --                        --\n",
       "│    │    └─Conv2d: 3-387                [128, 64, 8, 8]           [128, 256, 8, 8]          16,384                    [1, 1]                    134,217,728\n",
       "│    └─Bottleneck: 2-46                  [128, 256, 8, 8]          [128, 256, 8, 8]          --                        --                        --\n",
       "│    │    └─BatchNorm2d: 3-388           [128, 256, 8, 8]          [128, 256, 8, 8]          512                       --                        65,536\n",
       "│    │    └─ReLU: 3-389                  [128, 256, 8, 8]          [128, 256, 8, 8]          --                        --                        --\n",
       "│    │    └─Conv2d: 3-390                [128, 256, 8, 8]          [128, 64, 8, 8]           16,384                    [1, 1]                    134,217,728\n",
       "│    │    └─BatchNorm2d: 3-391           [128, 64, 8, 8]           [128, 64, 8, 8]           128                       --                        16,384\n",
       "│    │    └─ReLU: 3-392                  [128, 64, 8, 8]           [128, 64, 8, 8]           --                        --                        --\n",
       "│    │    └─Conv2d: 3-393                [128, 64, 8, 8]           [128, 64, 8, 8]           36,864                    [3, 3]                    301,989,888\n",
       "│    │    └─BatchNorm2d: 3-394           [128, 64, 8, 8]           [128, 64, 8, 8]           128                       --                        16,384\n",
       "│    │    └─ReLU: 3-395                  [128, 64, 8, 8]           [128, 64, 8, 8]           --                        --                        --\n",
       "│    │    └─Conv2d: 3-396                [128, 64, 8, 8]           [128, 256, 8, 8]          16,384                    [1, 1]                    134,217,728\n",
       "│    └─Bottleneck: 2-47                  [128, 256, 8, 8]          [128, 256, 8, 8]          --                        --                        --\n",
       "│    │    └─BatchNorm2d: 3-397           [128, 256, 8, 8]          [128, 256, 8, 8]          512                       --                        65,536\n",
       "│    │    └─ReLU: 3-398                  [128, 256, 8, 8]          [128, 256, 8, 8]          --                        --                        --\n",
       "│    │    └─Conv2d: 3-399                [128, 256, 8, 8]          [128, 64, 8, 8]           16,384                    [1, 1]                    134,217,728\n",
       "│    │    └─BatchNorm2d: 3-400           [128, 64, 8, 8]           [128, 64, 8, 8]           128                       --                        16,384\n",
       "│    │    └─ReLU: 3-401                  [128, 64, 8, 8]           [128, 64, 8, 8]           --                        --                        --\n",
       "│    │    └─Conv2d: 3-402                [128, 64, 8, 8]           [128, 64, 8, 8]           36,864                    [3, 3]                    301,989,888\n",
       "│    │    └─BatchNorm2d: 3-403           [128, 64, 8, 8]           [128, 64, 8, 8]           128                       --                        16,384\n",
       "│    │    └─ReLU: 3-404                  [128, 64, 8, 8]           [128, 64, 8, 8]           --                        --                        --\n",
       "│    │    └─Conv2d: 3-405                [128, 64, 8, 8]           [128, 256, 8, 8]          16,384                    [1, 1]                    134,217,728\n",
       "│    └─Bottleneck: 2-48                  [128, 256, 8, 8]          [128, 256, 8, 8]          --                        --                        --\n",
       "│    │    └─BatchNorm2d: 3-406           [128, 256, 8, 8]          [128, 256, 8, 8]          512                       --                        65,536\n",
       "│    │    └─ReLU: 3-407                  [128, 256, 8, 8]          [128, 256, 8, 8]          --                        --                        --\n",
       "│    │    └─Conv2d: 3-408                [128, 256, 8, 8]          [128, 64, 8, 8]           16,384                    [1, 1]                    134,217,728\n",
       "│    │    └─BatchNorm2d: 3-409           [128, 64, 8, 8]           [128, 64, 8, 8]           128                       --                        16,384\n",
       "│    │    └─ReLU: 3-410                  [128, 64, 8, 8]           [128, 64, 8, 8]           --                        --                        --\n",
       "│    │    └─Conv2d: 3-411                [128, 64, 8, 8]           [128, 64, 8, 8]           36,864                    [3, 3]                    301,989,888\n",
       "│    │    └─BatchNorm2d: 3-412           [128, 64, 8, 8]           [128, 64, 8, 8]           128                       --                        16,384\n",
       "│    │    └─ReLU: 3-413                  [128, 64, 8, 8]           [128, 64, 8, 8]           --                        --                        --\n",
       "│    │    └─Conv2d: 3-414                [128, 64, 8, 8]           [128, 256, 8, 8]          16,384                    [1, 1]                    134,217,728\n",
       "│    └─Bottleneck: 2-49                  [128, 256, 8, 8]          [128, 256, 8, 8]          --                        --                        --\n",
       "│    │    └─BatchNorm2d: 3-415           [128, 256, 8, 8]          [128, 256, 8, 8]          512                       --                        65,536\n",
       "│    │    └─ReLU: 3-416                  [128, 256, 8, 8]          [128, 256, 8, 8]          --                        --                        --\n",
       "│    │    └─Conv2d: 3-417                [128, 256, 8, 8]          [128, 64, 8, 8]           16,384                    [1, 1]                    134,217,728\n",
       "│    │    └─BatchNorm2d: 3-418           [128, 64, 8, 8]           [128, 64, 8, 8]           128                       --                        16,384\n",
       "│    │    └─ReLU: 3-419                  [128, 64, 8, 8]           [128, 64, 8, 8]           --                        --                        --\n",
       "│    │    └─Conv2d: 3-420                [128, 64, 8, 8]           [128, 64, 8, 8]           36,864                    [3, 3]                    301,989,888\n",
       "│    │    └─BatchNorm2d: 3-421           [128, 64, 8, 8]           [128, 64, 8, 8]           128                       --                        16,384\n",
       "│    │    └─ReLU: 3-422                  [128, 64, 8, 8]           [128, 64, 8, 8]           --                        --                        --\n",
       "│    │    └─Conv2d: 3-423                [128, 64, 8, 8]           [128, 256, 8, 8]          16,384                    [1, 1]                    134,217,728\n",
       "│    └─Bottleneck: 2-50                  [128, 256, 8, 8]          [128, 256, 8, 8]          --                        --                        --\n",
       "│    │    └─BatchNorm2d: 3-424           [128, 256, 8, 8]          [128, 256, 8, 8]          512                       --                        65,536\n",
       "│    │    └─ReLU: 3-425                  [128, 256, 8, 8]          [128, 256, 8, 8]          --                        --                        --\n",
       "│    │    └─Conv2d: 3-426                [128, 256, 8, 8]          [128, 64, 8, 8]           16,384                    [1, 1]                    134,217,728\n",
       "│    │    └─BatchNorm2d: 3-427           [128, 64, 8, 8]           [128, 64, 8, 8]           128                       --                        16,384\n",
       "│    │    └─ReLU: 3-428                  [128, 64, 8, 8]           [128, 64, 8, 8]           --                        --                        --\n",
       "│    │    └─Conv2d: 3-429                [128, 64, 8, 8]           [128, 64, 8, 8]           36,864                    [3, 3]                    301,989,888\n",
       "│    │    └─BatchNorm2d: 3-430           [128, 64, 8, 8]           [128, 64, 8, 8]           128                       --                        16,384\n",
       "│    │    └─ReLU: 3-431                  [128, 64, 8, 8]           [128, 64, 8, 8]           --                        --                        --\n",
       "│    │    └─Conv2d: 3-432                [128, 64, 8, 8]           [128, 256, 8, 8]          16,384                    [1, 1]                    134,217,728\n",
       "│    └─Bottleneck: 2-51                  [128, 256, 8, 8]          [128, 256, 8, 8]          --                        --                        --\n",
       "│    │    └─BatchNorm2d: 3-433           [128, 256, 8, 8]          [128, 256, 8, 8]          512                       --                        65,536\n",
       "│    │    └─ReLU: 3-434                  [128, 256, 8, 8]          [128, 256, 8, 8]          --                        --                        --\n",
       "│    │    └─Conv2d: 3-435                [128, 256, 8, 8]          [128, 64, 8, 8]           16,384                    [1, 1]                    134,217,728\n",
       "│    │    └─BatchNorm2d: 3-436           [128, 64, 8, 8]           [128, 64, 8, 8]           128                       --                        16,384\n",
       "│    │    └─ReLU: 3-437                  [128, 64, 8, 8]           [128, 64, 8, 8]           --                        --                        --\n",
       "│    │    └─Conv2d: 3-438                [128, 64, 8, 8]           [128, 64, 8, 8]           36,864                    [3, 3]                    301,989,888\n",
       "│    │    └─BatchNorm2d: 3-439           [128, 64, 8, 8]           [128, 64, 8, 8]           128                       --                        16,384\n",
       "│    │    └─ReLU: 3-440                  [128, 64, 8, 8]           [128, 64, 8, 8]           --                        --                        --\n",
       "│    │    └─Conv2d: 3-441                [128, 64, 8, 8]           [128, 256, 8, 8]          16,384                    [1, 1]                    134,217,728\n",
       "│    └─Bottleneck: 2-52                  [128, 256, 8, 8]          [128, 256, 8, 8]          --                        --                        --\n",
       "│    │    └─BatchNorm2d: 3-442           [128, 256, 8, 8]          [128, 256, 8, 8]          512                       --                        65,536\n",
       "│    │    └─ReLU: 3-443                  [128, 256, 8, 8]          [128, 256, 8, 8]          --                        --                        --\n",
       "│    │    └─Conv2d: 3-444                [128, 256, 8, 8]          [128, 64, 8, 8]           16,384                    [1, 1]                    134,217,728\n",
       "│    │    └─BatchNorm2d: 3-445           [128, 64, 8, 8]           [128, 64, 8, 8]           128                       --                        16,384\n",
       "│    │    └─ReLU: 3-446                  [128, 64, 8, 8]           [128, 64, 8, 8]           --                        --                        --\n",
       "│    │    └─Conv2d: 3-447                [128, 64, 8, 8]           [128, 64, 8, 8]           36,864                    [3, 3]                    301,989,888\n",
       "│    │    └─BatchNorm2d: 3-448           [128, 64, 8, 8]           [128, 64, 8, 8]           128                       --                        16,384\n",
       "│    │    └─ReLU: 3-449                  [128, 64, 8, 8]           [128, 64, 8, 8]           --                        --                        --\n",
       "│    │    └─Conv2d: 3-450                [128, 64, 8, 8]           [128, 256, 8, 8]          16,384                    [1, 1]                    134,217,728\n",
       "│    └─Bottleneck: 2-53                  [128, 256, 8, 8]          [128, 256, 8, 8]          --                        --                        --\n",
       "│    │    └─BatchNorm2d: 3-451           [128, 256, 8, 8]          [128, 256, 8, 8]          512                       --                        65,536\n",
       "│    │    └─ReLU: 3-452                  [128, 256, 8, 8]          [128, 256, 8, 8]          --                        --                        --\n",
       "│    │    └─Conv2d: 3-453                [128, 256, 8, 8]          [128, 64, 8, 8]           16,384                    [1, 1]                    134,217,728\n",
       "│    │    └─BatchNorm2d: 3-454           [128, 64, 8, 8]           [128, 64, 8, 8]           128                       --                        16,384\n",
       "│    │    └─ReLU: 3-455                  [128, 64, 8, 8]           [128, 64, 8, 8]           --                        --                        --\n",
       "│    │    └─Conv2d: 3-456                [128, 64, 8, 8]           [128, 64, 8, 8]           36,864                    [3, 3]                    301,989,888\n",
       "│    │    └─BatchNorm2d: 3-457           [128, 64, 8, 8]           [128, 64, 8, 8]           128                       --                        16,384\n",
       "│    │    └─ReLU: 3-458                  [128, 64, 8, 8]           [128, 64, 8, 8]           --                        --                        --\n",
       "│    │    └─Conv2d: 3-459                [128, 64, 8, 8]           [128, 256, 8, 8]          16,384                    [1, 1]                    134,217,728\n",
       "│    └─Bottleneck: 2-54                  [128, 256, 8, 8]          [128, 256, 8, 8]          --                        --                        --\n",
       "│    │    └─BatchNorm2d: 3-460           [128, 256, 8, 8]          [128, 256, 8, 8]          512                       --                        65,536\n",
       "│    │    └─ReLU: 3-461                  [128, 256, 8, 8]          [128, 256, 8, 8]          --                        --                        --\n",
       "│    │    └─Conv2d: 3-462                [128, 256, 8, 8]          [128, 64, 8, 8]           16,384                    [1, 1]                    134,217,728\n",
       "│    │    └─BatchNorm2d: 3-463           [128, 64, 8, 8]           [128, 64, 8, 8]           128                       --                        16,384\n",
       "│    │    └─ReLU: 3-464                  [128, 64, 8, 8]           [128, 64, 8, 8]           --                        --                        --\n",
       "│    │    └─Conv2d: 3-465                [128, 64, 8, 8]           [128, 64, 8, 8]           36,864                    [3, 3]                    301,989,888\n",
       "│    │    └─BatchNorm2d: 3-466           [128, 64, 8, 8]           [128, 64, 8, 8]           128                       --                        16,384\n",
       "│    │    └─ReLU: 3-467                  [128, 64, 8, 8]           [128, 64, 8, 8]           --                        --                        --\n",
       "│    │    └─Conv2d: 3-468                [128, 64, 8, 8]           [128, 256, 8, 8]          16,384                    [1, 1]                    134,217,728\n",
       "│    └─Bottleneck: 2-55                  [128, 256, 8, 8]          [128, 256, 8, 8]          --                        --                        --\n",
       "│    │    └─BatchNorm2d: 3-469           [128, 256, 8, 8]          [128, 256, 8, 8]          512                       --                        65,536\n",
       "│    │    └─ReLU: 3-470                  [128, 256, 8, 8]          [128, 256, 8, 8]          --                        --                        --\n",
       "│    │    └─Conv2d: 3-471                [128, 256, 8, 8]          [128, 64, 8, 8]           16,384                    [1, 1]                    134,217,728\n",
       "│    │    └─BatchNorm2d: 3-472           [128, 64, 8, 8]           [128, 64, 8, 8]           128                       --                        16,384\n",
       "│    │    └─ReLU: 3-473                  [128, 64, 8, 8]           [128, 64, 8, 8]           --                        --                        --\n",
       "│    │    └─Conv2d: 3-474                [128, 64, 8, 8]           [128, 64, 8, 8]           36,864                    [3, 3]                    301,989,888\n",
       "│    │    └─BatchNorm2d: 3-475           [128, 64, 8, 8]           [128, 64, 8, 8]           128                       --                        16,384\n",
       "│    │    └─ReLU: 3-476                  [128, 64, 8, 8]           [128, 64, 8, 8]           --                        --                        --\n",
       "│    │    └─Conv2d: 3-477                [128, 64, 8, 8]           [128, 256, 8, 8]          16,384                    [1, 1]                    134,217,728\n",
       "│    └─Bottleneck: 2-56                  [128, 256, 8, 8]          [128, 256, 8, 8]          --                        --                        --\n",
       "│    │    └─BatchNorm2d: 3-478           [128, 256, 8, 8]          [128, 256, 8, 8]          512                       --                        65,536\n",
       "│    │    └─ReLU: 3-479                  [128, 256, 8, 8]          [128, 256, 8, 8]          --                        --                        --\n",
       "│    │    └─Conv2d: 3-480                [128, 256, 8, 8]          [128, 64, 8, 8]           16,384                    [1, 1]                    134,217,728\n",
       "│    │    └─BatchNorm2d: 3-481           [128, 64, 8, 8]           [128, 64, 8, 8]           128                       --                        16,384\n",
       "│    │    └─ReLU: 3-482                  [128, 64, 8, 8]           [128, 64, 8, 8]           --                        --                        --\n",
       "│    │    └─Conv2d: 3-483                [128, 64, 8, 8]           [128, 64, 8, 8]           36,864                    [3, 3]                    301,989,888\n",
       "│    │    └─BatchNorm2d: 3-484           [128, 64, 8, 8]           [128, 64, 8, 8]           128                       --                        16,384\n",
       "│    │    └─ReLU: 3-485                  [128, 64, 8, 8]           [128, 64, 8, 8]           --                        --                        --\n",
       "│    │    └─Conv2d: 3-486                [128, 64, 8, 8]           [128, 256, 8, 8]          16,384                    [1, 1]                    134,217,728\n",
       "│    └─Bottleneck: 2-57                  [128, 256, 8, 8]          [128, 256, 8, 8]          --                        --                        --\n",
       "│    │    └─BatchNorm2d: 3-487           [128, 256, 8, 8]          [128, 256, 8, 8]          512                       --                        65,536\n",
       "│    │    └─ReLU: 3-488                  [128, 256, 8, 8]          [128, 256, 8, 8]          --                        --                        --\n",
       "│    │    └─Conv2d: 3-489                [128, 256, 8, 8]          [128, 64, 8, 8]           16,384                    [1, 1]                    134,217,728\n",
       "│    │    └─BatchNorm2d: 3-490           [128, 64, 8, 8]           [128, 64, 8, 8]           128                       --                        16,384\n",
       "│    │    └─ReLU: 3-491                  [128, 64, 8, 8]           [128, 64, 8, 8]           --                        --                        --\n",
       "│    │    └─Conv2d: 3-492                [128, 64, 8, 8]           [128, 64, 8, 8]           36,864                    [3, 3]                    301,989,888\n",
       "│    │    └─BatchNorm2d: 3-493           [128, 64, 8, 8]           [128, 64, 8, 8]           128                       --                        16,384\n",
       "│    │    └─ReLU: 3-494                  [128, 64, 8, 8]           [128, 64, 8, 8]           --                        --                        --\n",
       "│    │    └─Conv2d: 3-495                [128, 64, 8, 8]           [128, 256, 8, 8]          16,384                    [1, 1]                    134,217,728\n",
       "├─BatchNorm2d: 1-8                       [128, 256, 8, 8]          [128, 256, 8, 8]          512                       --                        65,536\n",
       "├─ReLU: 1-9                              [128, 256, 8, 8]          [128, 256, 8, 8]          --                        --                        --\n",
       "├─AvgPool2d: 1-10                        [128, 256, 8, 8]          [128, 256, 1, 1]          --                        8                         --\n",
       "├─Linear: 1-11                           [128, 256]                [128, 10]                 2,570                     --                        328,960\n",
       "=====================================================================================================================================================================\n",
       "Total params: 1,703,760\n",
       "Trainable params: 1,703,760\n",
       "Non-trainable params: 0\n",
       "Total mult-adds (G): 31.70\n",
       "=====================================================================================================================================================================\n",
       "Input size (MB): 1.57\n",
       "Forward/backward pass size (MB): 6685.73\n",
       "Params size (MB): 6.81\n",
       "Estimated Total Size (MB): 6694.12\n",
       "====================================================================================================================================================================="
      ]
     },
     "execution_count": 5,
     "metadata": {},
     "output_type": "execute_result"
    }
   ],
   "source": [
    "net = MResNet(Bottleneck, [18,18,18], num_classes=10)#, stochastic_depth=False)\n",
    "net.cuda()\n",
    "model_name = \"MResNet164\"\n",
    "\n",
    "from pathlib import Path\n",
    "\n",
    "p = Path(f\"{model_name}.txt\")\n",
    "if p.exists():\n",
    "    p.unlink()\n",
    "\n",
    "summary(\n",
    "    net,\n",
    "    input_size=(batch_size, 3, 32, 32),\n",
    "    depth=5,\n",
    "    col_names=[\n",
    "        \"input_size\",\n",
    "        \"output_size\",\n",
    "        \"num_params\",\n",
    "        \"kernel_size\",\n",
    "        \"mult_adds\",\n",
    "    ],\n",
    ")"
   ]
  },
  {
   "cell_type": "code",
   "execution_count": 6,
   "metadata": {},
   "outputs": [
    {
     "name": "stderr",
     "output_type": "stream",
     "text": [
      "391it [01:13,  5.29it/s]"
     ]
    },
    {
     "name": "stdout",
     "output_type": "stream",
     "text": [
      "Epoch 1 finished, average loss: 0.0129839523\n",
      "Starting testing\n"
     ]
    },
    {
     "name": "stderr",
     "output_type": "stream",
     "text": [
      "\n"
     ]
    },
    {
     "name": "stdout",
     "output_type": "stream",
     "text": [
      "Correct: 5086, total: 10000, accuracy: 0.5085999966, average loss: 0.0107325727\n"
     ]
    },
    {
     "name": "stderr",
     "output_type": "stream",
     "text": [
      "391it [01:17,  5.07it/s]"
     ]
    },
    {
     "name": "stdout",
     "output_type": "stream",
     "text": [
      "Epoch 2 finished, average loss: 0.0086519868\n",
      "Starting testing\n"
     ]
    },
    {
     "name": "stderr",
     "output_type": "stream",
     "text": [
      "\n"
     ]
    },
    {
     "name": "stdout",
     "output_type": "stream",
     "text": [
      "Correct: 6360, total: 10000, accuracy: 0.6359999776, average loss: 0.0080450970\n"
     ]
    },
    {
     "name": "stderr",
     "output_type": "stream",
     "text": [
      "391it [01:22,  4.75it/s]"
     ]
    },
    {
     "name": "stdout",
     "output_type": "stream",
     "text": [
      "Epoch 3 finished, average loss: 0.0066264525\n",
      "Starting testing\n"
     ]
    },
    {
     "name": "stderr",
     "output_type": "stream",
     "text": [
      "\n"
     ]
    },
    {
     "name": "stdout",
     "output_type": "stream",
     "text": [
      "Correct: 7104, total: 10000, accuracy: 0.7103999853, average loss: 0.0065677942\n"
     ]
    },
    {
     "name": "stderr",
     "output_type": "stream",
     "text": [
      "391it [01:22,  4.76it/s]"
     ]
    },
    {
     "name": "stdout",
     "output_type": "stream",
     "text": [
      "Epoch 4 finished, average loss: 0.0054179202\n",
      "Starting testing\n"
     ]
    },
    {
     "name": "stderr",
     "output_type": "stream",
     "text": [
      "\n"
     ]
    },
    {
     "name": "stdout",
     "output_type": "stream",
     "text": [
      "Correct: 7476, total: 10000, accuracy: 0.7475999594, average loss: 0.0057181400\n"
     ]
    },
    {
     "name": "stderr",
     "output_type": "stream",
     "text": [
      "391it [01:21,  4.79it/s]"
     ]
    },
    {
     "name": "stdout",
     "output_type": "stream",
     "text": [
      "Epoch 5 finished, average loss: 0.0047873720\n",
      "Starting testing\n"
     ]
    },
    {
     "name": "stderr",
     "output_type": "stream",
     "text": [
      "\n"
     ]
    },
    {
     "name": "stdout",
     "output_type": "stream",
     "text": [
      "Correct: 7675, total: 10000, accuracy: 0.7674999833, average loss: 0.0052797431\n"
     ]
    },
    {
     "name": "stderr",
     "output_type": "stream",
     "text": [
      "391it [01:21,  4.80it/s]"
     ]
    },
    {
     "name": "stdout",
     "output_type": "stream",
     "text": [
      "Epoch 6 finished, average loss: 0.0042003195\n",
      "Starting testing\n"
     ]
    },
    {
     "name": "stderr",
     "output_type": "stream",
     "text": [
      "\n"
     ]
    },
    {
     "name": "stdout",
     "output_type": "stream",
     "text": [
      "Correct: 8112, total: 10000, accuracy: 0.8111999631, average loss: 0.0043370235\n"
     ]
    },
    {
     "name": "stderr",
     "output_type": "stream",
     "text": [
      "391it [01:21,  4.81it/s]"
     ]
    },
    {
     "name": "stdout",
     "output_type": "stream",
     "text": [
      "Epoch 7 finished, average loss: 0.0038260471\n",
      "Starting testing\n"
     ]
    },
    {
     "name": "stderr",
     "output_type": "stream",
     "text": [
      "\n"
     ]
    },
    {
     "name": "stdout",
     "output_type": "stream",
     "text": [
      "Correct: 7999, total: 10000, accuracy: 0.7998999953, average loss: 0.0046834884\n"
     ]
    },
    {
     "name": "stderr",
     "output_type": "stream",
     "text": [
      "391it [01:21,  4.82it/s]"
     ]
    },
    {
     "name": "stdout",
     "output_type": "stream",
     "text": [
      "Epoch 8 finished, average loss: 0.0035256502\n",
      "Starting testing\n"
     ]
    },
    {
     "name": "stderr",
     "output_type": "stream",
     "text": [
      "\n"
     ]
    },
    {
     "name": "stdout",
     "output_type": "stream",
     "text": [
      "Correct: 8372, total: 10000, accuracy: 0.8371999860, average loss: 0.0037546209\n"
     ]
    },
    {
     "name": "stderr",
     "output_type": "stream",
     "text": [
      "391it [01:21,  4.82it/s]"
     ]
    },
    {
     "name": "stdout",
     "output_type": "stream",
     "text": [
      "Epoch 9 finished, average loss: 0.0032749485\n",
      "Starting testing\n"
     ]
    },
    {
     "name": "stderr",
     "output_type": "stream",
     "text": [
      "\n"
     ]
    },
    {
     "name": "stdout",
     "output_type": "stream",
     "text": [
      "Correct: 7906, total: 10000, accuracy: 0.7906000018, average loss: 0.0050815871\n"
     ]
    },
    {
     "name": "stderr",
     "output_type": "stream",
     "text": [
      "391it [01:21,  4.82it/s]"
     ]
    },
    {
     "name": "stdout",
     "output_type": "stream",
     "text": [
      "Epoch 10 finished, average loss: 0.0030596664\n",
      "Starting testing\n"
     ]
    },
    {
     "name": "stderr",
     "output_type": "stream",
     "text": [
      "\n"
     ]
    },
    {
     "name": "stdout",
     "output_type": "stream",
     "text": [
      "Correct: 8402, total: 10000, accuracy: 0.8402000070, average loss: 0.0037487216\n"
     ]
    },
    {
     "name": "stderr",
     "output_type": "stream",
     "text": [
      "391it [01:21,  4.80it/s]"
     ]
    },
    {
     "name": "stdout",
     "output_type": "stream",
     "text": [
      "Epoch 11 finished, average loss: 0.0028652874\n",
      "Starting testing\n"
     ]
    },
    {
     "name": "stderr",
     "output_type": "stream",
     "text": [
      "\n"
     ]
    },
    {
     "name": "stdout",
     "output_type": "stream",
     "text": [
      "Correct: 8291, total: 10000, accuracy: 0.8290999532, average loss: 0.0039045587\n"
     ]
    },
    {
     "name": "stderr",
     "output_type": "stream",
     "text": [
      "391it [01:21,  4.82it/s]"
     ]
    },
    {
     "name": "stdout",
     "output_type": "stream",
     "text": [
      "Epoch 12 finished, average loss: 0.0027353028\n",
      "Starting testing\n"
     ]
    },
    {
     "name": "stderr",
     "output_type": "stream",
     "text": [
      "\n"
     ]
    },
    {
     "name": "stdout",
     "output_type": "stream",
     "text": [
      "Correct: 8524, total: 10000, accuracy: 0.8524000049, average loss: 0.0033528523\n"
     ]
    },
    {
     "name": "stderr",
     "output_type": "stream",
     "text": [
      "391it [01:21,  4.80it/s]"
     ]
    },
    {
     "name": "stdout",
     "output_type": "stream",
     "text": [
      "Epoch 13 finished, average loss: 0.0025905997\n",
      "Starting testing\n"
     ]
    },
    {
     "name": "stderr",
     "output_type": "stream",
     "text": [
      "\n"
     ]
    },
    {
     "name": "stdout",
     "output_type": "stream",
     "text": [
      "Correct: 8500, total: 10000, accuracy: 0.8499999642, average loss: 0.0035381817\n"
     ]
    },
    {
     "name": "stderr",
     "output_type": "stream",
     "text": [
      "391it [01:21,  4.82it/s]"
     ]
    },
    {
     "name": "stdout",
     "output_type": "stream",
     "text": [
      "Epoch 14 finished, average loss: 0.0024867718\n",
      "Starting testing\n"
     ]
    },
    {
     "name": "stderr",
     "output_type": "stream",
     "text": [
      "\n"
     ]
    },
    {
     "name": "stdout",
     "output_type": "stream",
     "text": [
      "Correct: 8600, total: 10000, accuracy: 0.8599999547, average loss: 0.0032512926\n"
     ]
    },
    {
     "name": "stderr",
     "output_type": "stream",
     "text": [
      "391it [01:21,  4.81it/s]"
     ]
    },
    {
     "name": "stdout",
     "output_type": "stream",
     "text": [
      "Epoch 15 finished, average loss: 0.0024076188\n",
      "Starting testing\n"
     ]
    },
    {
     "name": "stderr",
     "output_type": "stream",
     "text": [
      "\n"
     ]
    },
    {
     "name": "stdout",
     "output_type": "stream",
     "text": [
      "Correct: 8462, total: 10000, accuracy: 0.8461999893, average loss: 0.0035488876\n"
     ]
    },
    {
     "name": "stderr",
     "output_type": "stream",
     "text": [
      "391it [01:21,  4.82it/s]"
     ]
    },
    {
     "name": "stdout",
     "output_type": "stream",
     "text": [
      "Epoch 16 finished, average loss: 0.0023098846\n",
      "Starting testing\n"
     ]
    },
    {
     "name": "stderr",
     "output_type": "stream",
     "text": [
      "\n"
     ]
    },
    {
     "name": "stdout",
     "output_type": "stream",
     "text": [
      "Correct: 8597, total: 10000, accuracy: 0.8596999645, average loss: 0.0033983970\n"
     ]
    },
    {
     "name": "stderr",
     "output_type": "stream",
     "text": [
      "391it [01:21,  4.83it/s]"
     ]
    },
    {
     "name": "stdout",
     "output_type": "stream",
     "text": [
      "Epoch 17 finished, average loss: 0.0021786199\n",
      "Starting testing\n"
     ]
    },
    {
     "name": "stderr",
     "output_type": "stream",
     "text": [
      "\n"
     ]
    },
    {
     "name": "stdout",
     "output_type": "stream",
     "text": [
      "Correct: 8619, total: 10000, accuracy: 0.8618999720, average loss: 0.0033655583\n"
     ]
    },
    {
     "name": "stderr",
     "output_type": "stream",
     "text": [
      "391it [01:21,  4.82it/s]"
     ]
    },
    {
     "name": "stdout",
     "output_type": "stream",
     "text": [
      "Epoch 18 finished, average loss: 0.0021486592\n",
      "Starting testing\n"
     ]
    },
    {
     "name": "stderr",
     "output_type": "stream",
     "text": [
      "\n"
     ]
    },
    {
     "name": "stdout",
     "output_type": "stream",
     "text": [
      "Correct: 8615, total: 10000, accuracy: 0.8614999652, average loss: 0.0032668782\n"
     ]
    },
    {
     "name": "stderr",
     "output_type": "stream",
     "text": [
      "391it [01:20,  4.83it/s]"
     ]
    },
    {
     "name": "stdout",
     "output_type": "stream",
     "text": [
      "Epoch 19 finished, average loss: 0.0020881188\n",
      "Starting testing\n"
     ]
    },
    {
     "name": "stderr",
     "output_type": "stream",
     "text": [
      "\n"
     ]
    },
    {
     "name": "stdout",
     "output_type": "stream",
     "text": [
      "Correct: 8477, total: 10000, accuracy: 0.8476999998, average loss: 0.0036928423\n"
     ]
    },
    {
     "name": "stderr",
     "output_type": "stream",
     "text": [
      "391it [01:20,  4.83it/s]"
     ]
    },
    {
     "name": "stdout",
     "output_type": "stream",
     "text": [
      "Epoch 20 finished, average loss: 0.0020139565\n",
      "Starting testing\n"
     ]
    },
    {
     "name": "stderr",
     "output_type": "stream",
     "text": [
      "\n"
     ]
    },
    {
     "name": "stdout",
     "output_type": "stream",
     "text": [
      "Correct: 8606, total: 10000, accuracy: 0.8605999947, average loss: 0.0034054504\n"
     ]
    },
    {
     "name": "stderr",
     "output_type": "stream",
     "text": [
      "391it [01:21,  4.82it/s]"
     ]
    },
    {
     "name": "stdout",
     "output_type": "stream",
     "text": [
      "Epoch 21 finished, average loss: 0.0020011886\n",
      "Starting testing\n"
     ]
    },
    {
     "name": "stderr",
     "output_type": "stream",
     "text": [
      "\n"
     ]
    },
    {
     "name": "stdout",
     "output_type": "stream",
     "text": [
      "Correct: 8637, total: 10000, accuracy: 0.8636999726, average loss: 0.0031883015\n"
     ]
    },
    {
     "name": "stderr",
     "output_type": "stream",
     "text": [
      "391it [01:21,  4.81it/s]"
     ]
    },
    {
     "name": "stdout",
     "output_type": "stream",
     "text": [
      "Epoch 22 finished, average loss: 0.0019541723\n",
      "Starting testing\n"
     ]
    },
    {
     "name": "stderr",
     "output_type": "stream",
     "text": [
      "\n"
     ]
    },
    {
     "name": "stdout",
     "output_type": "stream",
     "text": [
      "Correct: 8493, total: 10000, accuracy: 0.8492999673, average loss: 0.0036112299\n"
     ]
    },
    {
     "name": "stderr",
     "output_type": "stream",
     "text": [
      "391it [01:21,  4.83it/s]"
     ]
    },
    {
     "name": "stdout",
     "output_type": "stream",
     "text": [
      "Epoch 23 finished, average loss: 0.0018926105\n",
      "Starting testing\n"
     ]
    },
    {
     "name": "stderr",
     "output_type": "stream",
     "text": [
      "\n"
     ]
    },
    {
     "name": "stdout",
     "output_type": "stream",
     "text": [
      "Correct: 8782, total: 10000, accuracy: 0.8781999946, average loss: 0.0029679055\n"
     ]
    },
    {
     "name": "stderr",
     "output_type": "stream",
     "text": [
      "391it [01:15,  5.17it/s]"
     ]
    },
    {
     "name": "stdout",
     "output_type": "stream",
     "text": [
      "Epoch 24 finished, average loss: 0.0018255071\n",
      "Starting testing\n"
     ]
    },
    {
     "name": "stderr",
     "output_type": "stream",
     "text": [
      "\n"
     ]
    },
    {
     "name": "stdout",
     "output_type": "stream",
     "text": [
      "Correct: 8693, total: 10000, accuracy: 0.8693000078, average loss: 0.0030524425\n"
     ]
    },
    {
     "name": "stderr",
     "output_type": "stream",
     "text": [
      "391it [01:17,  5.07it/s]"
     ]
    },
    {
     "name": "stdout",
     "output_type": "stream",
     "text": [
      "Epoch 25 finished, average loss: 0.0017911969\n",
      "Starting testing\n"
     ]
    },
    {
     "name": "stderr",
     "output_type": "stream",
     "text": [
      "\n"
     ]
    },
    {
     "name": "stdout",
     "output_type": "stream",
     "text": [
      "Correct: 8518, total: 10000, accuracy: 0.8517999649, average loss: 0.0036261470\n"
     ]
    },
    {
     "name": "stderr",
     "output_type": "stream",
     "text": [
      "391it [01:17,  5.02it/s]"
     ]
    },
    {
     "name": "stdout",
     "output_type": "stream",
     "text": [
      "Epoch 26 finished, average loss: 0.0017865879\n",
      "Starting testing\n"
     ]
    },
    {
     "name": "stderr",
     "output_type": "stream",
     "text": [
      "\n"
     ]
    },
    {
     "name": "stdout",
     "output_type": "stream",
     "text": [
      "Correct: 8555, total: 10000, accuracy: 0.8554999828, average loss: 0.0035140746\n"
     ]
    },
    {
     "name": "stderr",
     "output_type": "stream",
     "text": [
      "391it [01:17,  5.03it/s]"
     ]
    },
    {
     "name": "stdout",
     "output_type": "stream",
     "text": [
      "Epoch 27 finished, average loss: 0.0017266975\n",
      "Starting testing\n"
     ]
    },
    {
     "name": "stderr",
     "output_type": "stream",
     "text": [
      "\n"
     ]
    },
    {
     "name": "stdout",
     "output_type": "stream",
     "text": [
      "Correct: 8637, total: 10000, accuracy: 0.8636999726, average loss: 0.0032996187\n"
     ]
    },
    {
     "name": "stderr",
     "output_type": "stream",
     "text": [
      "391it [01:17,  5.04it/s]"
     ]
    },
    {
     "name": "stdout",
     "output_type": "stream",
     "text": [
      "Epoch 28 finished, average loss: 0.0017214822\n",
      "Starting testing\n"
     ]
    },
    {
     "name": "stderr",
     "output_type": "stream",
     "text": [
      "\n"
     ]
    },
    {
     "name": "stdout",
     "output_type": "stream",
     "text": [
      "Correct: 8728, total: 10000, accuracy: 0.8727999926, average loss: 0.0029907614\n"
     ]
    },
    {
     "name": "stderr",
     "output_type": "stream",
     "text": [
      "391it [01:17,  5.02it/s]"
     ]
    },
    {
     "name": "stdout",
     "output_type": "stream",
     "text": [
      "Epoch 29 finished, average loss: 0.0016993766\n",
      "Starting testing\n"
     ]
    },
    {
     "name": "stderr",
     "output_type": "stream",
     "text": [
      "\n"
     ]
    },
    {
     "name": "stdout",
     "output_type": "stream",
     "text": [
      "Correct: 8843, total: 10000, accuracy: 0.8842999935, average loss: 0.0026665203\n"
     ]
    },
    {
     "name": "stderr",
     "output_type": "stream",
     "text": [
      "391it [01:18,  5.01it/s]"
     ]
    },
    {
     "name": "stdout",
     "output_type": "stream",
     "text": [
      "Epoch 30 finished, average loss: 0.0016849738\n",
      "Starting testing\n"
     ]
    },
    {
     "name": "stderr",
     "output_type": "stream",
     "text": [
      "\n"
     ]
    },
    {
     "name": "stdout",
     "output_type": "stream",
     "text": [
      "Correct: 8748, total: 10000, accuracy: 0.8747999668, average loss: 0.0031505991\n"
     ]
    },
    {
     "name": "stderr",
     "output_type": "stream",
     "text": [
      "391it [01:17,  5.02it/s]"
     ]
    },
    {
     "name": "stdout",
     "output_type": "stream",
     "text": [
      "Epoch 31 finished, average loss: 0.0016564512\n",
      "Starting testing\n"
     ]
    },
    {
     "name": "stderr",
     "output_type": "stream",
     "text": [
      "\n"
     ]
    },
    {
     "name": "stdout",
     "output_type": "stream",
     "text": [
      "Correct: 8858, total: 10000, accuracy: 0.8858000040, average loss: 0.0027569962\n"
     ]
    },
    {
     "name": "stderr",
     "output_type": "stream",
     "text": [
      "391it [01:17,  5.01it/s]"
     ]
    },
    {
     "name": "stdout",
     "output_type": "stream",
     "text": [
      "Epoch 32 finished, average loss: 0.0016274824\n",
      "Starting testing\n"
     ]
    },
    {
     "name": "stderr",
     "output_type": "stream",
     "text": [
      "\n"
     ]
    },
    {
     "name": "stdout",
     "output_type": "stream",
     "text": [
      "Correct: 8708, total: 10000, accuracy: 0.8707999587, average loss: 0.0032271565\n"
     ]
    },
    {
     "name": "stderr",
     "output_type": "stream",
     "text": [
      "391it [01:17,  5.05it/s]\n"
     ]
    },
    {
     "name": "stdout",
     "output_type": "stream",
     "text": [
      "Epoch 33 finished, average loss: 0.0015759656\n",
      "Starting testing\n",
      "Correct: 8829, total: 10000, accuracy: 0.8828999996, average loss: 0.0028543029\n"
     ]
    },
    {
     "name": "stderr",
     "output_type": "stream",
     "text": [
      "391it [01:17,  5.07it/s]"
     ]
    },
    {
     "name": "stdout",
     "output_type": "stream",
     "text": [
      "Epoch 34 finished, average loss: 0.0015865323\n",
      "Starting testing\n"
     ]
    },
    {
     "name": "stderr",
     "output_type": "stream",
     "text": [
      "\n"
     ]
    },
    {
     "name": "stdout",
     "output_type": "stream",
     "text": [
      "Correct: 8865, total: 10000, accuracy: 0.8865000010, average loss: 0.0026873798\n"
     ]
    },
    {
     "name": "stderr",
     "output_type": "stream",
     "text": [
      "391it [01:17,  5.07it/s]"
     ]
    },
    {
     "name": "stdout",
     "output_type": "stream",
     "text": [
      "Epoch 35 finished, average loss: 0.0015425431\n",
      "Starting testing\n"
     ]
    },
    {
     "name": "stderr",
     "output_type": "stream",
     "text": [
      "\n"
     ]
    },
    {
     "name": "stdout",
     "output_type": "stream",
     "text": [
      "Correct: 8855, total: 10000, accuracy: 0.8854999542, average loss: 0.0028364679\n"
     ]
    },
    {
     "name": "stderr",
     "output_type": "stream",
     "text": [
      "391it [01:17,  5.05it/s]"
     ]
    },
    {
     "name": "stdout",
     "output_type": "stream",
     "text": [
      "Epoch 36 finished, average loss: 0.0015380226\n",
      "Starting testing\n"
     ]
    },
    {
     "name": "stderr",
     "output_type": "stream",
     "text": [
      "\n"
     ]
    },
    {
     "name": "stdout",
     "output_type": "stream",
     "text": [
      "Correct: 8608, total: 10000, accuracy: 0.8607999682, average loss: 0.0032963000\n"
     ]
    },
    {
     "name": "stderr",
     "output_type": "stream",
     "text": [
      "391it [01:18,  5.00it/s]"
     ]
    },
    {
     "name": "stdout",
     "output_type": "stream",
     "text": [
      "Epoch 37 finished, average loss: 0.0015326887\n",
      "Starting testing\n"
     ]
    },
    {
     "name": "stderr",
     "output_type": "stream",
     "text": [
      "\n"
     ]
    },
    {
     "name": "stdout",
     "output_type": "stream",
     "text": [
      "Correct: 8910, total: 10000, accuracy: 0.8909999728, average loss: 0.0025191654\n"
     ]
    },
    {
     "name": "stderr",
     "output_type": "stream",
     "text": [
      "391it [01:18,  4.99it/s]"
     ]
    },
    {
     "name": "stdout",
     "output_type": "stream",
     "text": [
      "Epoch 38 finished, average loss: 0.0014920361\n",
      "Starting testing\n"
     ]
    },
    {
     "name": "stderr",
     "output_type": "stream",
     "text": [
      "\n"
     ]
    },
    {
     "name": "stdout",
     "output_type": "stream",
     "text": [
      "Correct: 8711, total: 10000, accuracy: 0.8710999489, average loss: 0.0030958895\n"
     ]
    },
    {
     "name": "stderr",
     "output_type": "stream",
     "text": [
      "391it [01:17,  5.05it/s]"
     ]
    },
    {
     "name": "stdout",
     "output_type": "stream",
     "text": [
      "Epoch 39 finished, average loss: 0.0015057270\n",
      "Starting testing\n"
     ]
    },
    {
     "name": "stderr",
     "output_type": "stream",
     "text": [
      "\n"
     ]
    },
    {
     "name": "stdout",
     "output_type": "stream",
     "text": [
      "Correct: 8859, total: 10000, accuracy: 0.8858999610, average loss: 0.0028558713\n"
     ]
    },
    {
     "name": "stderr",
     "output_type": "stream",
     "text": [
      "391it [01:18,  5.00it/s]"
     ]
    },
    {
     "name": "stdout",
     "output_type": "stream",
     "text": [
      "Epoch 40 finished, average loss: 0.0014787170\n",
      "Starting testing\n"
     ]
    },
    {
     "name": "stderr",
     "output_type": "stream",
     "text": [
      "\n"
     ]
    },
    {
     "name": "stdout",
     "output_type": "stream",
     "text": [
      "Correct: 8717, total: 10000, accuracy: 0.8716999888, average loss: 0.0033695039\n"
     ]
    },
    {
     "name": "stderr",
     "output_type": "stream",
     "text": [
      "391it [01:18,  4.98it/s]"
     ]
    },
    {
     "name": "stdout",
     "output_type": "stream",
     "text": [
      "Epoch 41 finished, average loss: 0.0014744337\n",
      "Starting testing\n"
     ]
    },
    {
     "name": "stderr",
     "output_type": "stream",
     "text": [
      "\n"
     ]
    },
    {
     "name": "stdout",
     "output_type": "stream",
     "text": [
      "Correct: 8771, total: 10000, accuracy: 0.8770999908, average loss: 0.0031464282\n"
     ]
    },
    {
     "name": "stderr",
     "output_type": "stream",
     "text": [
      "391it [01:17,  5.03it/s]"
     ]
    },
    {
     "name": "stdout",
     "output_type": "stream",
     "text": [
      "Epoch 42 finished, average loss: 0.0014613916\n",
      "Starting testing\n"
     ]
    },
    {
     "name": "stderr",
     "output_type": "stream",
     "text": [
      "\n"
     ]
    },
    {
     "name": "stdout",
     "output_type": "stream",
     "text": [
      "Correct: 8903, total: 10000, accuracy: 0.8902999759, average loss: 0.0026546610\n"
     ]
    },
    {
     "name": "stderr",
     "output_type": "stream",
     "text": [
      "391it [01:17,  5.03it/s]"
     ]
    },
    {
     "name": "stdout",
     "output_type": "stream",
     "text": [
      "Epoch 43 finished, average loss: 0.0013951036\n",
      "Starting testing\n"
     ]
    },
    {
     "name": "stderr",
     "output_type": "stream",
     "text": [
      "\n"
     ]
    },
    {
     "name": "stdout",
     "output_type": "stream",
     "text": [
      "Correct: 8816, total: 10000, accuracy: 0.8815999627, average loss: 0.0029532984\n"
     ]
    },
    {
     "name": "stderr",
     "output_type": "stream",
     "text": [
      "391it [01:15,  5.18it/s]\n"
     ]
    },
    {
     "name": "stdout",
     "output_type": "stream",
     "text": [
      "Epoch 44 finished, average loss: 0.0014286725\n",
      "Starting testing\n",
      "Correct: 8899, total: 10000, accuracy: 0.8898999691, average loss: 0.0025836850\n"
     ]
    },
    {
     "name": "stderr",
     "output_type": "stream",
     "text": [
      "391it [01:14,  5.24it/s]\n"
     ]
    },
    {
     "name": "stdout",
     "output_type": "stream",
     "text": [
      "Epoch 45 finished, average loss: 0.0014056878\n",
      "Starting testing\n",
      "Correct: 8783, total: 10000, accuracy: 0.8782999516, average loss: 0.0032499781\n"
     ]
    },
    {
     "name": "stderr",
     "output_type": "stream",
     "text": [
      "391it [01:14,  5.24it/s]"
     ]
    },
    {
     "name": "stdout",
     "output_type": "stream",
     "text": [
      "Epoch 46 finished, average loss: 0.0013586966\n",
      "Starting testing\n"
     ]
    },
    {
     "name": "stderr",
     "output_type": "stream",
     "text": [
      "\n"
     ]
    },
    {
     "name": "stdout",
     "output_type": "stream",
     "text": [
      "Correct: 8894, total: 10000, accuracy: 0.8894000053, average loss: 0.0026759348\n"
     ]
    },
    {
     "name": "stderr",
     "output_type": "stream",
     "text": [
      "391it [01:18,  5.00it/s]"
     ]
    },
    {
     "name": "stdout",
     "output_type": "stream",
     "text": [
      "Epoch 47 finished, average loss: 0.0013981242\n",
      "Starting testing\n"
     ]
    },
    {
     "name": "stderr",
     "output_type": "stream",
     "text": [
      "\n"
     ]
    },
    {
     "name": "stdout",
     "output_type": "stream",
     "text": [
      "Correct: 8532, total: 10000, accuracy: 0.8531999588, average loss: 0.0039747626\n"
     ]
    },
    {
     "name": "stderr",
     "output_type": "stream",
     "text": [
      "391it [01:18,  4.96it/s]"
     ]
    },
    {
     "name": "stdout",
     "output_type": "stream",
     "text": [
      "Epoch 48 finished, average loss: 0.0014232316\n",
      "Starting testing\n"
     ]
    },
    {
     "name": "stderr",
     "output_type": "stream",
     "text": [
      "\n"
     ]
    },
    {
     "name": "stdout",
     "output_type": "stream",
     "text": [
      "Correct: 8843, total: 10000, accuracy: 0.8842999935, average loss: 0.0028995403\n"
     ]
    },
    {
     "name": "stderr",
     "output_type": "stream",
     "text": [
      "391it [01:18,  4.97it/s]"
     ]
    },
    {
     "name": "stdout",
     "output_type": "stream",
     "text": [
      "Epoch 49 finished, average loss: 0.0013944863\n",
      "Starting testing\n"
     ]
    },
    {
     "name": "stderr",
     "output_type": "stream",
     "text": [
      "\n"
     ]
    },
    {
     "name": "stdout",
     "output_type": "stream",
     "text": [
      "Correct: 8863, total: 10000, accuracy: 0.8862999678, average loss: 0.0028560299\n"
     ]
    },
    {
     "name": "stderr",
     "output_type": "stream",
     "text": [
      "391it [01:17,  5.04it/s]"
     ]
    },
    {
     "name": "stdout",
     "output_type": "stream",
     "text": [
      "Epoch 50 finished, average loss: 0.0013269916\n",
      "Starting testing\n"
     ]
    },
    {
     "name": "stderr",
     "output_type": "stream",
     "text": [
      "\n"
     ]
    },
    {
     "name": "stdout",
     "output_type": "stream",
     "text": [
      "Correct: 8865, total: 10000, accuracy: 0.8865000010, average loss: 0.0028808215\n"
     ]
    },
    {
     "name": "stderr",
     "output_type": "stream",
     "text": [
      "391it [01:17,  5.01it/s]"
     ]
    },
    {
     "name": "stdout",
     "output_type": "stream",
     "text": [
      "Epoch 51 finished, average loss: 0.0012935672\n",
      "Starting testing\n"
     ]
    },
    {
     "name": "stderr",
     "output_type": "stream",
     "text": [
      "\n"
     ]
    },
    {
     "name": "stdout",
     "output_type": "stream",
     "text": [
      "Correct: 8894, total: 10000, accuracy: 0.8894000053, average loss: 0.0028051851\n"
     ]
    },
    {
     "name": "stderr",
     "output_type": "stream",
     "text": [
      "391it [01:18,  4.97it/s]"
     ]
    },
    {
     "name": "stdout",
     "output_type": "stream",
     "text": [
      "Epoch 52 finished, average loss: 0.0013173410\n",
      "Starting testing\n"
     ]
    },
    {
     "name": "stderr",
     "output_type": "stream",
     "text": [
      "\n"
     ]
    },
    {
     "name": "stdout",
     "output_type": "stream",
     "text": [
      "Correct: 8724, total: 10000, accuracy: 0.8723999858, average loss: 0.0031676845\n"
     ]
    },
    {
     "name": "stderr",
     "output_type": "stream",
     "text": [
      "391it [01:17,  5.04it/s]"
     ]
    },
    {
     "name": "stdout",
     "output_type": "stream",
     "text": [
      "Epoch 53 finished, average loss: 0.0013013590\n",
      "Starting testing\n"
     ]
    },
    {
     "name": "stderr",
     "output_type": "stream",
     "text": [
      "\n"
     ]
    },
    {
     "name": "stdout",
     "output_type": "stream",
     "text": [
      "Correct: 8802, total: 10000, accuracy: 0.8801999688, average loss: 0.0030265716\n"
     ]
    },
    {
     "name": "stderr",
     "output_type": "stream",
     "text": [
      "391it [01:18,  5.00it/s]"
     ]
    },
    {
     "name": "stdout",
     "output_type": "stream",
     "text": [
      "Epoch 54 finished, average loss: 0.0013021522\n",
      "Starting testing\n"
     ]
    },
    {
     "name": "stderr",
     "output_type": "stream",
     "text": [
      "\n"
     ]
    },
    {
     "name": "stdout",
     "output_type": "stream",
     "text": [
      "Correct: 8811, total: 10000, accuracy: 0.8810999990, average loss: 0.0029386578\n"
     ]
    },
    {
     "name": "stderr",
     "output_type": "stream",
     "text": [
      "391it [01:19,  4.95it/s]"
     ]
    },
    {
     "name": "stdout",
     "output_type": "stream",
     "text": [
      "Epoch 55 finished, average loss: 0.0013161238\n",
      "Starting testing\n"
     ]
    },
    {
     "name": "stderr",
     "output_type": "stream",
     "text": [
      "\n"
     ]
    },
    {
     "name": "stdout",
     "output_type": "stream",
     "text": [
      "Correct: 8848, total: 10000, accuracy: 0.8847999573, average loss: 0.0027839374\n"
     ]
    },
    {
     "name": "stderr",
     "output_type": "stream",
     "text": [
      "391it [01:17,  5.04it/s]"
     ]
    },
    {
     "name": "stdout",
     "output_type": "stream",
     "text": [
      "Epoch 56 finished, average loss: 0.0012420014\n",
      "Starting testing\n"
     ]
    },
    {
     "name": "stderr",
     "output_type": "stream",
     "text": [
      "\n"
     ]
    },
    {
     "name": "stdout",
     "output_type": "stream",
     "text": [
      "Correct: 8915, total: 10000, accuracy: 0.8914999962, average loss: 0.0026608206\n"
     ]
    },
    {
     "name": "stderr",
     "output_type": "stream",
     "text": [
      "391it [01:17,  5.02it/s]"
     ]
    },
    {
     "name": "stdout",
     "output_type": "stream",
     "text": [
      "Epoch 57 finished, average loss: 0.0012908643\n",
      "Starting testing\n"
     ]
    },
    {
     "name": "stderr",
     "output_type": "stream",
     "text": [
      "\n"
     ]
    },
    {
     "name": "stdout",
     "output_type": "stream",
     "text": [
      "Correct: 9007, total: 10000, accuracy: 0.9006999731, average loss: 0.0024522456\n"
     ]
    },
    {
     "name": "stderr",
     "output_type": "stream",
     "text": [
      "391it [01:15,  5.17it/s]"
     ]
    },
    {
     "name": "stdout",
     "output_type": "stream",
     "text": [
      "Epoch 58 finished, average loss: 0.0012559797\n",
      "Starting testing\n"
     ]
    },
    {
     "name": "stderr",
     "output_type": "stream",
     "text": [
      "\n"
     ]
    },
    {
     "name": "stdout",
     "output_type": "stream",
     "text": [
      "Correct: 8903, total: 10000, accuracy: 0.8902999759, average loss: 0.0027267317\n"
     ]
    },
    {
     "name": "stderr",
     "output_type": "stream",
     "text": [
      "391it [01:12,  5.36it/s]"
     ]
    },
    {
     "name": "stdout",
     "output_type": "stream",
     "text": [
      "Epoch 59 finished, average loss: 0.0012345708\n",
      "Starting testing\n"
     ]
    },
    {
     "name": "stderr",
     "output_type": "stream",
     "text": [
      "\n"
     ]
    },
    {
     "name": "stdout",
     "output_type": "stream",
     "text": [
      "Correct: 8748, total: 10000, accuracy: 0.8747999668, average loss: 0.0034089311\n"
     ]
    },
    {
     "name": "stderr",
     "output_type": "stream",
     "text": [
      "391it [01:12,  5.37it/s]"
     ]
    },
    {
     "name": "stdout",
     "output_type": "stream",
     "text": [
      "Epoch 60 finished, average loss: 0.0012486234\n",
      "Starting testing\n"
     ]
    },
    {
     "name": "stderr",
     "output_type": "stream",
     "text": [
      "\n"
     ]
    },
    {
     "name": "stdout",
     "output_type": "stream",
     "text": [
      "Correct: 8928, total: 10000, accuracy: 0.8927999735, average loss: 0.0026145230\n"
     ]
    },
    {
     "name": "stderr",
     "output_type": "stream",
     "text": [
      "391it [01:12,  5.37it/s]"
     ]
    },
    {
     "name": "stdout",
     "output_type": "stream",
     "text": [
      "Epoch 61 finished, average loss: 0.0012146642\n",
      "Starting testing\n"
     ]
    },
    {
     "name": "stderr",
     "output_type": "stream",
     "text": [
      "\n"
     ]
    },
    {
     "name": "stdout",
     "output_type": "stream",
     "text": [
      "Correct: 8895, total: 10000, accuracy: 0.8894999623, average loss: 0.0028767438\n"
     ]
    },
    {
     "name": "stderr",
     "output_type": "stream",
     "text": [
      "391it [01:12,  5.36it/s]"
     ]
    },
    {
     "name": "stdout",
     "output_type": "stream",
     "text": [
      "Epoch 62 finished, average loss: 0.0012170405\n",
      "Starting testing\n"
     ]
    },
    {
     "name": "stderr",
     "output_type": "stream",
     "text": [
      "\n"
     ]
    },
    {
     "name": "stdout",
     "output_type": "stream",
     "text": [
      "Correct: 8952, total: 10000, accuracy: 0.8951999545, average loss: 0.0026846020\n"
     ]
    },
    {
     "name": "stderr",
     "output_type": "stream",
     "text": [
      "391it [01:11,  5.46it/s]"
     ]
    },
    {
     "name": "stdout",
     "output_type": "stream",
     "text": [
      "Epoch 63 finished, average loss: 0.0012367167\n",
      "Starting testing\n"
     ]
    },
    {
     "name": "stderr",
     "output_type": "stream",
     "text": [
      "\n"
     ]
    },
    {
     "name": "stdout",
     "output_type": "stream",
     "text": [
      "Correct: 8881, total: 10000, accuracy: 0.8880999684, average loss: 0.0028692119\n"
     ]
    },
    {
     "name": "stderr",
     "output_type": "stream",
     "text": [
      "391it [01:11,  5.46it/s]"
     ]
    },
    {
     "name": "stdout",
     "output_type": "stream",
     "text": [
      "Epoch 64 finished, average loss: 0.0012036955\n",
      "Starting testing\n"
     ]
    },
    {
     "name": "stderr",
     "output_type": "stream",
     "text": [
      "\n"
     ]
    },
    {
     "name": "stdout",
     "output_type": "stream",
     "text": [
      "Correct: 8946, total: 10000, accuracy: 0.8945999742, average loss: 0.0025325729\n"
     ]
    },
    {
     "name": "stderr",
     "output_type": "stream",
     "text": [
      "391it [01:11,  5.47it/s]"
     ]
    },
    {
     "name": "stdout",
     "output_type": "stream",
     "text": [
      "Epoch 65 finished, average loss: 0.0011879815\n",
      "Starting testing\n"
     ]
    },
    {
     "name": "stderr",
     "output_type": "stream",
     "text": [
      "\n"
     ]
    },
    {
     "name": "stdout",
     "output_type": "stream",
     "text": [
      "Correct: 8695, total: 10000, accuracy: 0.8694999814, average loss: 0.0033110257\n"
     ]
    },
    {
     "name": "stderr",
     "output_type": "stream",
     "text": [
      "391it [01:11,  5.46it/s]"
     ]
    },
    {
     "name": "stdout",
     "output_type": "stream",
     "text": [
      "Epoch 66 finished, average loss: 0.0011928423\n",
      "Starting testing\n"
     ]
    },
    {
     "name": "stderr",
     "output_type": "stream",
     "text": [
      "\n"
     ]
    },
    {
     "name": "stdout",
     "output_type": "stream",
     "text": [
      "Correct: 8702, total: 10000, accuracy: 0.8701999784, average loss: 0.0032982008\n"
     ]
    },
    {
     "name": "stderr",
     "output_type": "stream",
     "text": [
      "391it [01:11,  5.47it/s]"
     ]
    },
    {
     "name": "stdout",
     "output_type": "stream",
     "text": [
      "Epoch 67 finished, average loss: 0.0011589850\n",
      "Starting testing\n"
     ]
    },
    {
     "name": "stderr",
     "output_type": "stream",
     "text": [
      "\n"
     ]
    },
    {
     "name": "stdout",
     "output_type": "stream",
     "text": [
      "Correct: 8945, total: 10000, accuracy: 0.8944999576, average loss: 0.0026689270\n"
     ]
    },
    {
     "name": "stderr",
     "output_type": "stream",
     "text": [
      "391it [01:11,  5.47it/s]"
     ]
    },
    {
     "name": "stdout",
     "output_type": "stream",
     "text": [
      "Epoch 68 finished, average loss: 0.0011608869\n",
      "Starting testing\n"
     ]
    },
    {
     "name": "stderr",
     "output_type": "stream",
     "text": [
      "\n"
     ]
    },
    {
     "name": "stdout",
     "output_type": "stream",
     "text": [
      "Correct: 8880, total: 10000, accuracy: 0.8879999518, average loss: 0.0028117197\n"
     ]
    },
    {
     "name": "stderr",
     "output_type": "stream",
     "text": [
      "391it [01:11,  5.47it/s]"
     ]
    },
    {
     "name": "stdout",
     "output_type": "stream",
     "text": [
      "Epoch 69 finished, average loss: 0.0011622288\n",
      "Starting testing\n"
     ]
    },
    {
     "name": "stderr",
     "output_type": "stream",
     "text": [
      "\n"
     ]
    },
    {
     "name": "stdout",
     "output_type": "stream",
     "text": [
      "Correct: 8939, total: 10000, accuracy: 0.8938999772, average loss: 0.0025383871\n"
     ]
    },
    {
     "name": "stderr",
     "output_type": "stream",
     "text": [
      "391it [01:11,  5.47it/s]"
     ]
    },
    {
     "name": "stdout",
     "output_type": "stream",
     "text": [
      "Epoch 70 finished, average loss: 0.0011825027\n",
      "Starting testing\n"
     ]
    },
    {
     "name": "stderr",
     "output_type": "stream",
     "text": [
      "\n"
     ]
    },
    {
     "name": "stdout",
     "output_type": "stream",
     "text": [
      "Correct: 8883, total: 10000, accuracy: 0.8883000016, average loss: 0.0028829236\n"
     ]
    },
    {
     "name": "stderr",
     "output_type": "stream",
     "text": [
      "391it [01:11,  5.49it/s]"
     ]
    },
    {
     "name": "stdout",
     "output_type": "stream",
     "text": [
      "Epoch 71 finished, average loss: 0.0011561237\n",
      "Starting testing\n"
     ]
    },
    {
     "name": "stderr",
     "output_type": "stream",
     "text": [
      "\n"
     ]
    },
    {
     "name": "stdout",
     "output_type": "stream",
     "text": [
      "Correct: 8989, total: 10000, accuracy: 0.8988999724, average loss: 0.0024859601\n"
     ]
    },
    {
     "name": "stderr",
     "output_type": "stream",
     "text": [
      "391it [01:11,  5.49it/s]"
     ]
    },
    {
     "name": "stdout",
     "output_type": "stream",
     "text": [
      "Epoch 72 finished, average loss: 0.0011472769\n",
      "Starting testing\n"
     ]
    },
    {
     "name": "stderr",
     "output_type": "stream",
     "text": [
      "\n"
     ]
    },
    {
     "name": "stdout",
     "output_type": "stream",
     "text": [
      "Correct: 8734, total: 10000, accuracy: 0.8733999729, average loss: 0.0035060293\n"
     ]
    },
    {
     "name": "stderr",
     "output_type": "stream",
     "text": [
      "391it [01:11,  5.49it/s]"
     ]
    },
    {
     "name": "stdout",
     "output_type": "stream",
     "text": [
      "Epoch 73 finished, average loss: 0.0011732869\n",
      "Starting testing\n"
     ]
    },
    {
     "name": "stderr",
     "output_type": "stream",
     "text": [
      "\n"
     ]
    },
    {
     "name": "stdout",
     "output_type": "stream",
     "text": [
      "Correct: 8994, total: 10000, accuracy: 0.8993999958, average loss: 0.0025375353\n"
     ]
    },
    {
     "name": "stderr",
     "output_type": "stream",
     "text": [
      "391it [01:13,  5.32it/s]"
     ]
    },
    {
     "name": "stdout",
     "output_type": "stream",
     "text": [
      "Epoch 74 finished, average loss: 0.0011415848\n",
      "Starting testing\n"
     ]
    },
    {
     "name": "stderr",
     "output_type": "stream",
     "text": [
      "\n"
     ]
    },
    {
     "name": "stdout",
     "output_type": "stream",
     "text": [
      "Correct: 8705, total: 10000, accuracy: 0.8704999685, average loss: 0.0033378275\n"
     ]
    },
    {
     "name": "stderr",
     "output_type": "stream",
     "text": [
      "391it [01:15,  5.19it/s]"
     ]
    },
    {
     "name": "stdout",
     "output_type": "stream",
     "text": [
      "Epoch 75 finished, average loss: 0.0011091930\n",
      "Starting testing\n"
     ]
    },
    {
     "name": "stderr",
     "output_type": "stream",
     "text": [
      "\n"
     ]
    },
    {
     "name": "stdout",
     "output_type": "stream",
     "text": [
      "Correct: 8968, total: 10000, accuracy: 0.8967999816, average loss: 0.0027517988\n"
     ]
    },
    {
     "name": "stderr",
     "output_type": "stream",
     "text": [
      "391it [01:15,  5.18it/s]"
     ]
    },
    {
     "name": "stdout",
     "output_type": "stream",
     "text": [
      "Epoch 76 finished, average loss: 0.0011366996\n",
      "Starting testing\n"
     ]
    },
    {
     "name": "stderr",
     "output_type": "stream",
     "text": [
      "\n"
     ]
    },
    {
     "name": "stdout",
     "output_type": "stream",
     "text": [
      "Correct: 8833, total: 10000, accuracy: 0.8833000064, average loss: 0.0029738961\n"
     ]
    },
    {
     "name": "stderr",
     "output_type": "stream",
     "text": [
      "391it [01:15,  5.17it/s]"
     ]
    },
    {
     "name": "stdout",
     "output_type": "stream",
     "text": [
      "Epoch 77 finished, average loss: 0.0010804768\n",
      "Starting testing\n"
     ]
    },
    {
     "name": "stderr",
     "output_type": "stream",
     "text": [
      "\n"
     ]
    },
    {
     "name": "stdout",
     "output_type": "stream",
     "text": [
      "Correct: 8896, total: 10000, accuracy: 0.8895999789, average loss: 0.0027699664\n"
     ]
    },
    {
     "name": "stderr",
     "output_type": "stream",
     "text": [
      "391it [01:16,  5.12it/s]"
     ]
    },
    {
     "name": "stdout",
     "output_type": "stream",
     "text": [
      "Epoch 78 finished, average loss: 0.0011055951\n",
      "Starting testing\n"
     ]
    },
    {
     "name": "stderr",
     "output_type": "stream",
     "text": [
      "\n"
     ]
    },
    {
     "name": "stdout",
     "output_type": "stream",
     "text": [
      "Correct: 8920, total: 10000, accuracy: 0.8919999599, average loss: 0.0027013752\n"
     ]
    },
    {
     "name": "stderr",
     "output_type": "stream",
     "text": [
      "391it [01:16,  5.14it/s]"
     ]
    },
    {
     "name": "stdout",
     "output_type": "stream",
     "text": [
      "Epoch 79 finished, average loss: 0.0011035887\n",
      "Starting testing\n"
     ]
    },
    {
     "name": "stderr",
     "output_type": "stream",
     "text": [
      "\n"
     ]
    },
    {
     "name": "stdout",
     "output_type": "stream",
     "text": [
      "Correct: 9007, total: 10000, accuracy: 0.9006999731, average loss: 0.0024592260\n"
     ]
    },
    {
     "name": "stderr",
     "output_type": "stream",
     "text": [
      "391it [01:16,  5.13it/s]"
     ]
    },
    {
     "name": "stdout",
     "output_type": "stream",
     "text": [
      "Epoch 80 finished, average loss: 0.0011291989\n",
      "Starting testing\n"
     ]
    },
    {
     "name": "stderr",
     "output_type": "stream",
     "text": [
      "\n"
     ]
    },
    {
     "name": "stdout",
     "output_type": "stream",
     "text": [
      "Correct: 8964, total: 10000, accuracy: 0.8963999748, average loss: 0.0024196512\n"
     ]
    },
    {
     "name": "stderr",
     "output_type": "stream",
     "text": [
      "391it [01:16,  5.12it/s]"
     ]
    },
    {
     "name": "stdout",
     "output_type": "stream",
     "text": [
      "Epoch 81 finished, average loss: 0.0005021243\n",
      "Starting testing\n"
     ]
    },
    {
     "name": "stderr",
     "output_type": "stream",
     "text": [
      "\n"
     ]
    },
    {
     "name": "stdout",
     "output_type": "stream",
     "text": [
      "Correct: 9364, total: 10000, accuracy: 0.9363999963, average loss: 0.0015025161\n"
     ]
    },
    {
     "name": "stderr",
     "output_type": "stream",
     "text": [
      "391it [01:16,  5.14it/s]\n"
     ]
    },
    {
     "name": "stdout",
     "output_type": "stream",
     "text": [
      "Epoch 82 finished, average loss: 0.0003137878\n",
      "Starting testing\n",
      "Correct: 9400, total: 10000, accuracy: 0.9399999976, average loss: 0.0014755889\n"
     ]
    },
    {
     "name": "stderr",
     "output_type": "stream",
     "text": [
      "391it [01:16,  5.12it/s]"
     ]
    },
    {
     "name": "stdout",
     "output_type": "stream",
     "text": [
      "Epoch 83 finished, average loss: 0.0002539012\n",
      "Starting testing\n"
     ]
    },
    {
     "name": "stderr",
     "output_type": "stream",
     "text": [
      "\n"
     ]
    },
    {
     "name": "stdout",
     "output_type": "stream",
     "text": [
      "Correct: 9395, total: 10000, accuracy: 0.9394999743, average loss: 0.0014947116\n"
     ]
    },
    {
     "name": "stderr",
     "output_type": "stream",
     "text": [
      "391it [01:16,  5.13it/s]"
     ]
    },
    {
     "name": "stdout",
     "output_type": "stream",
     "text": [
      "Epoch 84 finished, average loss: 0.0002102187\n",
      "Starting testing\n"
     ]
    },
    {
     "name": "stderr",
     "output_type": "stream",
     "text": [
      "\n"
     ]
    },
    {
     "name": "stdout",
     "output_type": "stream",
     "text": [
      "Correct: 9411, total: 10000, accuracy: 0.9411000013, average loss: 0.0014899992\n"
     ]
    },
    {
     "name": "stderr",
     "output_type": "stream",
     "text": [
      "391it [01:16,  5.14it/s]\n"
     ]
    },
    {
     "name": "stdout",
     "output_type": "stream",
     "text": [
      "Epoch 85 finished, average loss: 0.0001806607\n",
      "Starting testing\n",
      "Correct: 9426, total: 10000, accuracy: 0.9425999522, average loss: 0.0014897994\n"
     ]
    },
    {
     "name": "stderr",
     "output_type": "stream",
     "text": [
      "391it [01:15,  5.15it/s]"
     ]
    },
    {
     "name": "stdout",
     "output_type": "stream",
     "text": [
      "Epoch 86 finished, average loss: 0.0001525925\n",
      "Starting testing\n"
     ]
    },
    {
     "name": "stderr",
     "output_type": "stream",
     "text": [
      "\n"
     ]
    },
    {
     "name": "stdout",
     "output_type": "stream",
     "text": [
      "Correct: 9429, total: 10000, accuracy: 0.9429000020, average loss: 0.0015228440\n"
     ]
    },
    {
     "name": "stderr",
     "output_type": "stream",
     "text": [
      "391it [01:16,  5.14it/s]"
     ]
    },
    {
     "name": "stdout",
     "output_type": "stream",
     "text": [
      "Epoch 87 finished, average loss: 0.0001357528\n",
      "Starting testing\n"
     ]
    },
    {
     "name": "stderr",
     "output_type": "stream",
     "text": [
      "\n"
     ]
    },
    {
     "name": "stdout",
     "output_type": "stream",
     "text": [
      "Correct: 9422, total: 10000, accuracy: 0.9422000051, average loss: 0.0015835376\n"
     ]
    },
    {
     "name": "stderr",
     "output_type": "stream",
     "text": [
      "391it [01:16,  5.14it/s]\n"
     ]
    },
    {
     "name": "stdout",
     "output_type": "stream",
     "text": [
      "Epoch 88 finished, average loss: 0.0001223973\n",
      "Starting testing\n",
      "Correct: 9438, total: 10000, accuracy: 0.9437999725, average loss: 0.0015589973\n"
     ]
    },
    {
     "name": "stderr",
     "output_type": "stream",
     "text": [
      "391it [01:16,  5.14it/s]"
     ]
    },
    {
     "name": "stdout",
     "output_type": "stream",
     "text": [
      "Epoch 89 finished, average loss: 0.0001138104\n",
      "Starting testing\n"
     ]
    },
    {
     "name": "stderr",
     "output_type": "stream",
     "text": [
      "\n"
     ]
    },
    {
     "name": "stdout",
     "output_type": "stream",
     "text": [
      "Correct: 9419, total: 10000, accuracy: 0.9418999553, average loss: 0.0015868507\n"
     ]
    },
    {
     "name": "stderr",
     "output_type": "stream",
     "text": [
      "391it [01:16,  5.14it/s]"
     ]
    },
    {
     "name": "stdout",
     "output_type": "stream",
     "text": [
      "Epoch 90 finished, average loss: 0.0000981169\n",
      "Starting testing\n"
     ]
    },
    {
     "name": "stderr",
     "output_type": "stream",
     "text": [
      "\n"
     ]
    },
    {
     "name": "stdout",
     "output_type": "stream",
     "text": [
      "Correct: 9432, total: 10000, accuracy: 0.9431999922, average loss: 0.0016309757\n"
     ]
    },
    {
     "name": "stderr",
     "output_type": "stream",
     "text": [
      "391it [01:15,  5.19it/s]"
     ]
    },
    {
     "name": "stdout",
     "output_type": "stream",
     "text": [
      "Epoch 91 finished, average loss: 0.0000922606\n",
      "Starting testing\n"
     ]
    },
    {
     "name": "stderr",
     "output_type": "stream",
     "text": [
      "\n"
     ]
    },
    {
     "name": "stdout",
     "output_type": "stream",
     "text": [
      "Correct: 9440, total: 10000, accuracy: 0.9440000057, average loss: 0.0016280885\n"
     ]
    },
    {
     "name": "stderr",
     "output_type": "stream",
     "text": [
      "391it [01:15,  5.15it/s]\n"
     ]
    },
    {
     "name": "stdout",
     "output_type": "stream",
     "text": [
      "Epoch 92 finished, average loss: 0.0000825179\n",
      "Starting testing\n",
      "Correct: 9422, total: 10000, accuracy: 0.9422000051, average loss: 0.0016592755\n"
     ]
    },
    {
     "name": "stderr",
     "output_type": "stream",
     "text": [
      "391it [01:15,  5.18it/s]"
     ]
    },
    {
     "name": "stdout",
     "output_type": "stream",
     "text": [
      "Epoch 93 finished, average loss: 0.0000833416\n",
      "Starting testing\n"
     ]
    },
    {
     "name": "stderr",
     "output_type": "stream",
     "text": [
      "\n"
     ]
    },
    {
     "name": "stdout",
     "output_type": "stream",
     "text": [
      "Correct: 9416, total: 10000, accuracy: 0.9415999651, average loss: 0.0017237718\n"
     ]
    },
    {
     "name": "stderr",
     "output_type": "stream",
     "text": [
      "391it [01:12,  5.41it/s]"
     ]
    },
    {
     "name": "stdout",
     "output_type": "stream",
     "text": [
      "Epoch 94 finished, average loss: 0.0000711884\n",
      "Starting testing\n"
     ]
    },
    {
     "name": "stderr",
     "output_type": "stream",
     "text": [
      "\n"
     ]
    },
    {
     "name": "stdout",
     "output_type": "stream",
     "text": [
      "Correct: 9420, total: 10000, accuracy: 0.9419999719, average loss: 0.0017218283\n"
     ]
    },
    {
     "name": "stderr",
     "output_type": "stream",
     "text": [
      "391it [01:12,  5.41it/s]"
     ]
    },
    {
     "name": "stdout",
     "output_type": "stream",
     "text": [
      "Epoch 95 finished, average loss: 0.0000698739\n",
      "Starting testing\n"
     ]
    },
    {
     "name": "stderr",
     "output_type": "stream",
     "text": [
      "\n"
     ]
    },
    {
     "name": "stdout",
     "output_type": "stream",
     "text": [
      "Correct: 9435, total: 10000, accuracy: 0.9434999824, average loss: 0.0017295347\n"
     ]
    },
    {
     "name": "stderr",
     "output_type": "stream",
     "text": [
      "391it [01:11,  5.45it/s]\n"
     ]
    },
    {
     "name": "stdout",
     "output_type": "stream",
     "text": [
      "Epoch 96 finished, average loss: 0.0000651566\n",
      "Starting testing\n",
      "Correct: 9432, total: 10000, accuracy: 0.9431999922, average loss: 0.0017542002\n"
     ]
    },
    {
     "name": "stderr",
     "output_type": "stream",
     "text": [
      "391it [01:11,  5.44it/s]\n"
     ]
    },
    {
     "name": "stdout",
     "output_type": "stream",
     "text": [
      "Epoch 97 finished, average loss: 0.0000641019\n",
      "Starting testing\n",
      "Correct: 9423, total: 10000, accuracy: 0.9422999620, average loss: 0.0018007690\n"
     ]
    },
    {
     "name": "stderr",
     "output_type": "stream",
     "text": [
      "391it [01:12,  5.43it/s]"
     ]
    },
    {
     "name": "stdout",
     "output_type": "stream",
     "text": [
      "Epoch 98 finished, average loss: 0.0000559879\n",
      "Starting testing\n"
     ]
    },
    {
     "name": "stderr",
     "output_type": "stream",
     "text": [
      "\n"
     ]
    },
    {
     "name": "stdout",
     "output_type": "stream",
     "text": [
      "Correct: 9436, total: 10000, accuracy: 0.9435999990, average loss: 0.0017429387\n"
     ]
    },
    {
     "name": "stderr",
     "output_type": "stream",
     "text": [
      "391it [01:17,  5.03it/s]"
     ]
    },
    {
     "name": "stdout",
     "output_type": "stream",
     "text": [
      "Epoch 99 finished, average loss: 0.0000555782\n",
      "Starting testing\n"
     ]
    },
    {
     "name": "stderr",
     "output_type": "stream",
     "text": [
      "\n"
     ]
    },
    {
     "name": "stdout",
     "output_type": "stream",
     "text": [
      "Correct: 9424, total: 10000, accuracy: 0.9423999786, average loss: 0.0017960480\n"
     ]
    },
    {
     "name": "stderr",
     "output_type": "stream",
     "text": [
      "391it [01:18,  4.98it/s]"
     ]
    },
    {
     "name": "stdout",
     "output_type": "stream",
     "text": [
      "Epoch 100 finished, average loss: 0.0000568718\n",
      "Starting testing\n"
     ]
    },
    {
     "name": "stderr",
     "output_type": "stream",
     "text": [
      "\n"
     ]
    },
    {
     "name": "stdout",
     "output_type": "stream",
     "text": [
      "Correct: 9440, total: 10000, accuracy: 0.9440000057, average loss: 0.0017740261\n"
     ]
    },
    {
     "name": "stderr",
     "output_type": "stream",
     "text": [
      "391it [01:18,  5.00it/s]"
     ]
    },
    {
     "name": "stdout",
     "output_type": "stream",
     "text": [
      "Epoch 101 finished, average loss: 0.0000441671\n",
      "Starting testing\n"
     ]
    },
    {
     "name": "stderr",
     "output_type": "stream",
     "text": [
      "\n"
     ]
    },
    {
     "name": "stdout",
     "output_type": "stream",
     "text": [
      "Correct: 9428, total: 10000, accuracy: 0.9427999854, average loss: 0.0017775020\n"
     ]
    },
    {
     "name": "stderr",
     "output_type": "stream",
     "text": [
      "391it [01:16,  5.10it/s]"
     ]
    },
    {
     "name": "stdout",
     "output_type": "stream",
     "text": [
      "Epoch 102 finished, average loss: 0.0000447919\n",
      "Starting testing\n"
     ]
    },
    {
     "name": "stderr",
     "output_type": "stream",
     "text": [
      "\n"
     ]
    },
    {
     "name": "stdout",
     "output_type": "stream",
     "text": [
      "Correct: 9430, total: 10000, accuracy: 0.9429999590, average loss: 0.0018262349\n"
     ]
    },
    {
     "name": "stderr",
     "output_type": "stream",
     "text": [
      "391it [01:11,  5.45it/s]\n"
     ]
    },
    {
     "name": "stdout",
     "output_type": "stream",
     "text": [
      "Epoch 103 finished, average loss: 0.0000489372\n",
      "Starting testing\n",
      "Correct: 9415, total: 10000, accuracy: 0.9414999485, average loss: 0.0018203244\n"
     ]
    },
    {
     "name": "stderr",
     "output_type": "stream",
     "text": [
      "391it [01:11,  5.44it/s]"
     ]
    },
    {
     "name": "stdout",
     "output_type": "stream",
     "text": [
      "Epoch 104 finished, average loss: 0.0000440578\n",
      "Starting testing\n"
     ]
    },
    {
     "name": "stderr",
     "output_type": "stream",
     "text": [
      "\n"
     ]
    },
    {
     "name": "stdout",
     "output_type": "stream",
     "text": [
      "Correct: 9447, total: 10000, accuracy: 0.9447000027, average loss: 0.0018108475\n"
     ]
    },
    {
     "name": "stderr",
     "output_type": "stream",
     "text": [
      "391it [01:12,  5.39it/s]"
     ]
    },
    {
     "name": "stdout",
     "output_type": "stream",
     "text": [
      "Epoch 105 finished, average loss: 0.0000471038\n",
      "Starting testing\n"
     ]
    },
    {
     "name": "stderr",
     "output_type": "stream",
     "text": [
      "\n"
     ]
    },
    {
     "name": "stdout",
     "output_type": "stream",
     "text": [
      "Correct: 9430, total: 10000, accuracy: 0.9429999590, average loss: 0.0018218398\n"
     ]
    },
    {
     "name": "stderr",
     "output_type": "stream",
     "text": [
      "391it [01:11,  5.45it/s]"
     ]
    },
    {
     "name": "stdout",
     "output_type": "stream",
     "text": [
      "Epoch 106 finished, average loss: 0.0000387168\n",
      "Starting testing\n"
     ]
    },
    {
     "name": "stderr",
     "output_type": "stream",
     "text": [
      "\n"
     ]
    },
    {
     "name": "stdout",
     "output_type": "stream",
     "text": [
      "Correct: 9427, total: 10000, accuracy: 0.9426999688, average loss: 0.0018167459\n"
     ]
    },
    {
     "name": "stderr",
     "output_type": "stream",
     "text": [
      "391it [01:11,  5.45it/s]"
     ]
    },
    {
     "name": "stdout",
     "output_type": "stream",
     "text": [
      "Epoch 107 finished, average loss: 0.0000385492\n",
      "Starting testing\n"
     ]
    },
    {
     "name": "stderr",
     "output_type": "stream",
     "text": [
      "\n"
     ]
    },
    {
     "name": "stdout",
     "output_type": "stream",
     "text": [
      "Correct: 9420, total: 10000, accuracy: 0.9419999719, average loss: 0.0018263799\n"
     ]
    },
    {
     "name": "stderr",
     "output_type": "stream",
     "text": [
      "391it [01:11,  5.46it/s]"
     ]
    },
    {
     "name": "stdout",
     "output_type": "stream",
     "text": [
      "Epoch 108 finished, average loss: 0.0000391923\n",
      "Starting testing\n"
     ]
    },
    {
     "name": "stderr",
     "output_type": "stream",
     "text": [
      "\n"
     ]
    },
    {
     "name": "stdout",
     "output_type": "stream",
     "text": [
      "Correct: 9443, total: 10000, accuracy: 0.9442999959, average loss: 0.0018468336\n"
     ]
    },
    {
     "name": "stderr",
     "output_type": "stream",
     "text": [
      "391it [01:11,  5.46it/s]"
     ]
    },
    {
     "name": "stdout",
     "output_type": "stream",
     "text": [
      "Epoch 109 finished, average loss: 0.0000388760\n",
      "Starting testing\n"
     ]
    },
    {
     "name": "stderr",
     "output_type": "stream",
     "text": [
      "\n"
     ]
    },
    {
     "name": "stdout",
     "output_type": "stream",
     "text": [
      "Correct: 9432, total: 10000, accuracy: 0.9431999922, average loss: 0.0018598410\n"
     ]
    },
    {
     "name": "stderr",
     "output_type": "stream",
     "text": [
      "391it [01:11,  5.44it/s]"
     ]
    },
    {
     "name": "stdout",
     "output_type": "stream",
     "text": [
      "Epoch 110 finished, average loss: 0.0000351106\n",
      "Starting testing\n"
     ]
    },
    {
     "name": "stderr",
     "output_type": "stream",
     "text": [
      "\n"
     ]
    },
    {
     "name": "stdout",
     "output_type": "stream",
     "text": [
      "Correct: 9428, total: 10000, accuracy: 0.9427999854, average loss: 0.0018703637\n"
     ]
    },
    {
     "name": "stderr",
     "output_type": "stream",
     "text": [
      "391it [01:11,  5.44it/s]"
     ]
    },
    {
     "name": "stdout",
     "output_type": "stream",
     "text": [
      "Epoch 111 finished, average loss: 0.0000360794\n",
      "Starting testing\n"
     ]
    },
    {
     "name": "stderr",
     "output_type": "stream",
     "text": [
      "\n"
     ]
    },
    {
     "name": "stdout",
     "output_type": "stream",
     "text": [
      "Correct: 9441, total: 10000, accuracy: 0.9440999627, average loss: 0.0018724292\n"
     ]
    },
    {
     "name": "stderr",
     "output_type": "stream",
     "text": [
      "391it [01:12,  5.40it/s]"
     ]
    },
    {
     "name": "stdout",
     "output_type": "stream",
     "text": [
      "Epoch 112 finished, average loss: 0.0000331376\n",
      "Starting testing\n"
     ]
    },
    {
     "name": "stderr",
     "output_type": "stream",
     "text": [
      "\n"
     ]
    },
    {
     "name": "stdout",
     "output_type": "stream",
     "text": [
      "Correct: 9419, total: 10000, accuracy: 0.9418999553, average loss: 0.0018648803\n"
     ]
    },
    {
     "name": "stderr",
     "output_type": "stream",
     "text": [
      "391it [01:12,  5.41it/s]"
     ]
    },
    {
     "name": "stdout",
     "output_type": "stream",
     "text": [
      "Epoch 113 finished, average loss: 0.0000348148\n",
      "Starting testing\n"
     ]
    },
    {
     "name": "stderr",
     "output_type": "stream",
     "text": [
      "\n"
     ]
    },
    {
     "name": "stdout",
     "output_type": "stream",
     "text": [
      "Correct: 9429, total: 10000, accuracy: 0.9429000020, average loss: 0.0018690604\n"
     ]
    },
    {
     "name": "stderr",
     "output_type": "stream",
     "text": [
      "391it [01:11,  5.45it/s]"
     ]
    },
    {
     "name": "stdout",
     "output_type": "stream",
     "text": [
      "Epoch 114 finished, average loss: 0.0000339428\n",
      "Starting testing\n"
     ]
    },
    {
     "name": "stderr",
     "output_type": "stream",
     "text": [
      "\n"
     ]
    },
    {
     "name": "stdout",
     "output_type": "stream",
     "text": [
      "Correct: 9446, total: 10000, accuracy: 0.9445999861, average loss: 0.0018516050\n"
     ]
    },
    {
     "name": "stderr",
     "output_type": "stream",
     "text": [
      "391it [01:11,  5.43it/s]"
     ]
    },
    {
     "name": "stdout",
     "output_type": "stream",
     "text": [
      "Epoch 115 finished, average loss: 0.0000297880\n",
      "Starting testing\n"
     ]
    },
    {
     "name": "stderr",
     "output_type": "stream",
     "text": [
      "\n"
     ]
    },
    {
     "name": "stdout",
     "output_type": "stream",
     "text": [
      "Correct: 9440, total: 10000, accuracy: 0.9440000057, average loss: 0.0018911301\n"
     ]
    },
    {
     "name": "stderr",
     "output_type": "stream",
     "text": [
      "391it [01:12,  5.40it/s]"
     ]
    },
    {
     "name": "stdout",
     "output_type": "stream",
     "text": [
      "Epoch 116 finished, average loss: 0.0000285826\n",
      "Starting testing\n"
     ]
    },
    {
     "name": "stderr",
     "output_type": "stream",
     "text": [
      "\n"
     ]
    },
    {
     "name": "stdout",
     "output_type": "stream",
     "text": [
      "Correct: 9440, total: 10000, accuracy: 0.9440000057, average loss: 0.0018951040\n"
     ]
    },
    {
     "name": "stderr",
     "output_type": "stream",
     "text": [
      "391it [01:12,  5.37it/s]"
     ]
    },
    {
     "name": "stdout",
     "output_type": "stream",
     "text": [
      "Epoch 117 finished, average loss: 0.0000259241\n",
      "Starting testing\n"
     ]
    },
    {
     "name": "stderr",
     "output_type": "stream",
     "text": [
      "\n"
     ]
    },
    {
     "name": "stdout",
     "output_type": "stream",
     "text": [
      "Correct: 9443, total: 10000, accuracy: 0.9442999959, average loss: 0.0018753052\n"
     ]
    },
    {
     "name": "stderr",
     "output_type": "stream",
     "text": [
      "391it [01:12,  5.36it/s]"
     ]
    },
    {
     "name": "stdout",
     "output_type": "stream",
     "text": [
      "Epoch 118 finished, average loss: 0.0000268685\n",
      "Starting testing\n"
     ]
    },
    {
     "name": "stderr",
     "output_type": "stream",
     "text": [
      "\n"
     ]
    },
    {
     "name": "stdout",
     "output_type": "stream",
     "text": [
      "Correct: 9449, total: 10000, accuracy: 0.9448999763, average loss: 0.0018725542\n"
     ]
    },
    {
     "name": "stderr",
     "output_type": "stream",
     "text": [
      "391it [01:12,  5.36it/s]"
     ]
    },
    {
     "name": "stdout",
     "output_type": "stream",
     "text": [
      "Epoch 119 finished, average loss: 0.0000267897\n",
      "Starting testing\n"
     ]
    },
    {
     "name": "stderr",
     "output_type": "stream",
     "text": [
      "\n"
     ]
    },
    {
     "name": "stdout",
     "output_type": "stream",
     "text": [
      "Correct: 9451, total: 10000, accuracy: 0.9450999498, average loss: 0.0019162060\n"
     ]
    },
    {
     "name": "stderr",
     "output_type": "stream",
     "text": [
      "391it [01:13,  5.35it/s]"
     ]
    },
    {
     "name": "stdout",
     "output_type": "stream",
     "text": [
      "Epoch 120 finished, average loss: 0.0000268295\n",
      "Starting testing\n"
     ]
    },
    {
     "name": "stderr",
     "output_type": "stream",
     "text": [
      "\n"
     ]
    },
    {
     "name": "stdout",
     "output_type": "stream",
     "text": [
      "Correct: 9434, total: 10000, accuracy: 0.9433999658, average loss: 0.0018934980\n"
     ]
    },
    {
     "name": "stderr",
     "output_type": "stream",
     "text": [
      "391it [01:13,  5.34it/s]"
     ]
    },
    {
     "name": "stdout",
     "output_type": "stream",
     "text": [
      "Epoch 121 finished, average loss: 0.0000251752\n",
      "Starting testing\n"
     ]
    },
    {
     "name": "stderr",
     "output_type": "stream",
     "text": [
      "\n"
     ]
    },
    {
     "name": "stdout",
     "output_type": "stream",
     "text": [
      "Correct: 9437, total: 10000, accuracy: 0.9436999559, average loss: 0.0019042453\n"
     ]
    },
    {
     "name": "stderr",
     "output_type": "stream",
     "text": [
      "391it [01:16,  5.09it/s]"
     ]
    },
    {
     "name": "stdout",
     "output_type": "stream",
     "text": [
      "Epoch 122 finished, average loss: 0.0000249632\n",
      "Starting testing\n"
     ]
    },
    {
     "name": "stderr",
     "output_type": "stream",
     "text": [
      "\n"
     ]
    },
    {
     "name": "stdout",
     "output_type": "stream",
     "text": [
      "Correct: 9433, total: 10000, accuracy: 0.9432999492, average loss: 0.0019040358\n"
     ]
    },
    {
     "name": "stderr",
     "output_type": "stream",
     "text": [
      "391it [01:15,  5.16it/s]"
     ]
    },
    {
     "name": "stdout",
     "output_type": "stream",
     "text": [
      "Epoch 123 finished, average loss: 0.0000221916\n",
      "Starting testing\n"
     ]
    },
    {
     "name": "stderr",
     "output_type": "stream",
     "text": [
      "\n"
     ]
    },
    {
     "name": "stdout",
     "output_type": "stream",
     "text": [
      "Correct: 9440, total: 10000, accuracy: 0.9440000057, average loss: 0.0019029523\n"
     ]
    },
    {
     "name": "stderr",
     "output_type": "stream",
     "text": [
      "391it [01:16,  5.12it/s]"
     ]
    },
    {
     "name": "stdout",
     "output_type": "stream",
     "text": [
      "Epoch 124 finished, average loss: 0.0000203619\n",
      "Starting testing\n"
     ]
    },
    {
     "name": "stderr",
     "output_type": "stream",
     "text": [
      "\n"
     ]
    },
    {
     "name": "stdout",
     "output_type": "stream",
     "text": [
      "Correct: 9440, total: 10000, accuracy: 0.9440000057, average loss: 0.0018889811\n"
     ]
    },
    {
     "name": "stderr",
     "output_type": "stream",
     "text": [
      "391it [01:14,  5.22it/s]\n"
     ]
    },
    {
     "name": "stdout",
     "output_type": "stream",
     "text": [
      "Epoch 125 finished, average loss: 0.0000207104\n",
      "Starting testing\n",
      "Correct: 9434, total: 10000, accuracy: 0.9433999658, average loss: 0.0018812227\n"
     ]
    },
    {
     "name": "stderr",
     "output_type": "stream",
     "text": [
      "391it [01:16,  5.09it/s]"
     ]
    },
    {
     "name": "stdout",
     "output_type": "stream",
     "text": [
      "Epoch 126 finished, average loss: 0.0000213887\n",
      "Starting testing\n"
     ]
    },
    {
     "name": "stderr",
     "output_type": "stream",
     "text": [
      "\n"
     ]
    },
    {
     "name": "stdout",
     "output_type": "stream",
     "text": [
      "Correct: 9439, total: 10000, accuracy: 0.9438999891, average loss: 0.0018685382\n"
     ]
    },
    {
     "name": "stderr",
     "output_type": "stream",
     "text": [
      "391it [01:13,  5.30it/s]"
     ]
    },
    {
     "name": "stdout",
     "output_type": "stream",
     "text": [
      "Epoch 127 finished, average loss: 0.0000191342\n",
      "Starting testing\n"
     ]
    },
    {
     "name": "stderr",
     "output_type": "stream",
     "text": [
      "\n"
     ]
    },
    {
     "name": "stdout",
     "output_type": "stream",
     "text": [
      "Correct: 9446, total: 10000, accuracy: 0.9445999861, average loss: 0.0018767551\n"
     ]
    },
    {
     "name": "stderr",
     "output_type": "stream",
     "text": [
      "391it [01:15,  5.16it/s]"
     ]
    },
    {
     "name": "stdout",
     "output_type": "stream",
     "text": [
      "Epoch 128 finished, average loss: 0.0000195634\n",
      "Starting testing\n"
     ]
    },
    {
     "name": "stderr",
     "output_type": "stream",
     "text": [
      "\n"
     ]
    },
    {
     "name": "stdout",
     "output_type": "stream",
     "text": [
      "Correct: 9446, total: 10000, accuracy: 0.9445999861, average loss: 0.0018935283\n"
     ]
    },
    {
     "name": "stderr",
     "output_type": "stream",
     "text": [
      "391it [01:16,  5.08it/s]"
     ]
    },
    {
     "name": "stdout",
     "output_type": "stream",
     "text": [
      "Epoch 129 finished, average loss: 0.0000216932\n",
      "Starting testing\n"
     ]
    },
    {
     "name": "stderr",
     "output_type": "stream",
     "text": [
      "\n"
     ]
    },
    {
     "name": "stdout",
     "output_type": "stream",
     "text": [
      "Correct: 9445, total: 10000, accuracy: 0.9444999695, average loss: 0.0019028910\n"
     ]
    },
    {
     "name": "stderr",
     "output_type": "stream",
     "text": [
      "391it [01:18,  4.99it/s]"
     ]
    },
    {
     "name": "stdout",
     "output_type": "stream",
     "text": [
      "Epoch 130 finished, average loss: 0.0000195488\n",
      "Starting testing\n"
     ]
    },
    {
     "name": "stderr",
     "output_type": "stream",
     "text": [
      "\n"
     ]
    },
    {
     "name": "stdout",
     "output_type": "stream",
     "text": [
      "Correct: 9441, total: 10000, accuracy: 0.9440999627, average loss: 0.0018967042\n"
     ]
    },
    {
     "name": "stderr",
     "output_type": "stream",
     "text": [
      "391it [01:17,  5.02it/s]"
     ]
    },
    {
     "name": "stdout",
     "output_type": "stream",
     "text": [
      "Epoch 131 finished, average loss: 0.0000211602\n",
      "Starting testing\n"
     ]
    },
    {
     "name": "stderr",
     "output_type": "stream",
     "text": [
      "\n"
     ]
    },
    {
     "name": "stdout",
     "output_type": "stream",
     "text": [
      "Correct: 9451, total: 10000, accuracy: 0.9450999498, average loss: 0.0018847242\n"
     ]
    },
    {
     "name": "stderr",
     "output_type": "stream",
     "text": [
      "391it [01:14,  5.23it/s]"
     ]
    },
    {
     "name": "stdout",
     "output_type": "stream",
     "text": [
      "Epoch 132 finished, average loss: 0.0000183947\n",
      "Starting testing\n"
     ]
    },
    {
     "name": "stderr",
     "output_type": "stream",
     "text": [
      "\n"
     ]
    },
    {
     "name": "stdout",
     "output_type": "stream",
     "text": [
      "Correct: 9433, total: 10000, accuracy: 0.9432999492, average loss: 0.0019022773\n"
     ]
    },
    {
     "name": "stderr",
     "output_type": "stream",
     "text": [
      "391it [01:11,  5.44it/s]"
     ]
    },
    {
     "name": "stdout",
     "output_type": "stream",
     "text": [
      "Epoch 133 finished, average loss: 0.0000201590\n",
      "Starting testing\n"
     ]
    },
    {
     "name": "stderr",
     "output_type": "stream",
     "text": [
      "\n"
     ]
    },
    {
     "name": "stdout",
     "output_type": "stream",
     "text": [
      "Correct: 9453, total: 10000, accuracy: 0.9452999830, average loss: 0.0018798122\n"
     ]
    },
    {
     "name": "stderr",
     "output_type": "stream",
     "text": [
      "391it [01:12,  5.36it/s]"
     ]
    },
    {
     "name": "stdout",
     "output_type": "stream",
     "text": [
      "Epoch 134 finished, average loss: 0.0000195735\n",
      "Starting testing\n"
     ]
    },
    {
     "name": "stderr",
     "output_type": "stream",
     "text": [
      "\n"
     ]
    },
    {
     "name": "stdout",
     "output_type": "stream",
     "text": [
      "Correct: 9447, total: 10000, accuracy: 0.9447000027, average loss: 0.0018857085\n"
     ]
    },
    {
     "name": "stderr",
     "output_type": "stream",
     "text": [
      "391it [01:16,  5.12it/s]"
     ]
    },
    {
     "name": "stdout",
     "output_type": "stream",
     "text": [
      "Epoch 135 finished, average loss: 0.0000196594\n",
      "Starting testing\n"
     ]
    },
    {
     "name": "stderr",
     "output_type": "stream",
     "text": [
      "\n"
     ]
    },
    {
     "name": "stdout",
     "output_type": "stream",
     "text": [
      "Correct: 9449, total: 10000, accuracy: 0.9448999763, average loss: 0.0018766784\n"
     ]
    },
    {
     "name": "stderr",
     "output_type": "stream",
     "text": [
      "391it [01:16,  5.10it/s]"
     ]
    },
    {
     "name": "stdout",
     "output_type": "stream",
     "text": [
      "Epoch 136 finished, average loss: 0.0000167715\n",
      "Starting testing\n"
     ]
    },
    {
     "name": "stderr",
     "output_type": "stream",
     "text": [
      "\n"
     ]
    },
    {
     "name": "stdout",
     "output_type": "stream",
     "text": [
      "Correct: 9438, total: 10000, accuracy: 0.9437999725, average loss: 0.0018825306\n"
     ]
    },
    {
     "name": "stderr",
     "output_type": "stream",
     "text": [
      "391it [01:16,  5.13it/s]"
     ]
    },
    {
     "name": "stdout",
     "output_type": "stream",
     "text": [
      "Epoch 137 finished, average loss: 0.0000168320\n",
      "Starting testing\n"
     ]
    },
    {
     "name": "stderr",
     "output_type": "stream",
     "text": [
      "\n"
     ]
    },
    {
     "name": "stdout",
     "output_type": "stream",
     "text": [
      "Correct: 9455, total: 10000, accuracy: 0.9454999566, average loss: 0.0018745502\n"
     ]
    },
    {
     "name": "stderr",
     "output_type": "stream",
     "text": [
      "391it [01:16,  5.12it/s]"
     ]
    },
    {
     "name": "stdout",
     "output_type": "stream",
     "text": [
      "Epoch 138 finished, average loss: 0.0000201321\n",
      "Starting testing\n"
     ]
    },
    {
     "name": "stderr",
     "output_type": "stream",
     "text": [
      "\n"
     ]
    },
    {
     "name": "stdout",
     "output_type": "stream",
     "text": [
      "Correct: 9438, total: 10000, accuracy: 0.9437999725, average loss: 0.0018920535\n"
     ]
    },
    {
     "name": "stderr",
     "output_type": "stream",
     "text": [
      "391it [01:15,  5.17it/s]"
     ]
    },
    {
     "name": "stdout",
     "output_type": "stream",
     "text": [
      "Epoch 139 finished, average loss: 0.0000190553\n",
      "Starting testing\n"
     ]
    },
    {
     "name": "stderr",
     "output_type": "stream",
     "text": [
      "\n"
     ]
    },
    {
     "name": "stdout",
     "output_type": "stream",
     "text": [
      "Correct: 9445, total: 10000, accuracy: 0.9444999695, average loss: 0.0018959400\n"
     ]
    },
    {
     "name": "stderr",
     "output_type": "stream",
     "text": [
      "391it [01:14,  5.24it/s]"
     ]
    },
    {
     "name": "stdout",
     "output_type": "stream",
     "text": [
      "Epoch 140 finished, average loss: 0.0000183302\n",
      "Starting testing\n"
     ]
    },
    {
     "name": "stderr",
     "output_type": "stream",
     "text": [
      "\n"
     ]
    },
    {
     "name": "stdout",
     "output_type": "stream",
     "text": [
      "Correct: 9450, total: 10000, accuracy: 0.9449999928, average loss: 0.0018916824\n"
     ]
    },
    {
     "name": "stderr",
     "output_type": "stream",
     "text": [
      "391it [01:13,  5.31it/s]"
     ]
    },
    {
     "name": "stdout",
     "output_type": "stream",
     "text": [
      "Epoch 141 finished, average loss: 0.0000177005\n",
      "Starting testing\n"
     ]
    },
    {
     "name": "stderr",
     "output_type": "stream",
     "text": [
      "\n"
     ]
    },
    {
     "name": "stdout",
     "output_type": "stream",
     "text": [
      "Correct: 9448, total: 10000, accuracy: 0.9447999597, average loss: 0.0018794006\n"
     ]
    },
    {
     "name": "stderr",
     "output_type": "stream",
     "text": [
      "391it [01:12,  5.39it/s]\n"
     ]
    },
    {
     "name": "stdout",
     "output_type": "stream",
     "text": [
      "Epoch 142 finished, average loss: 0.0000163155\n",
      "Starting testing\n",
      "Correct: 9446, total: 10000, accuracy: 0.9445999861, average loss: 0.0018756278\n"
     ]
    },
    {
     "name": "stderr",
     "output_type": "stream",
     "text": [
      "391it [01:13,  5.33it/s]"
     ]
    },
    {
     "name": "stdout",
     "output_type": "stream",
     "text": [
      "Epoch 143 finished, average loss: 0.0000177277\n",
      "Starting testing\n"
     ]
    },
    {
     "name": "stderr",
     "output_type": "stream",
     "text": [
      "\n"
     ]
    },
    {
     "name": "stdout",
     "output_type": "stream",
     "text": [
      "Correct: 9457, total: 10000, accuracy: 0.9456999898, average loss: 0.0018996758\n"
     ]
    },
    {
     "name": "stderr",
     "output_type": "stream",
     "text": [
      "391it [01:13,  5.29it/s]"
     ]
    },
    {
     "name": "stdout",
     "output_type": "stream",
     "text": [
      "Epoch 144 finished, average loss: 0.0000181573\n",
      "Starting testing\n"
     ]
    },
    {
     "name": "stderr",
     "output_type": "stream",
     "text": [
      "\n"
     ]
    },
    {
     "name": "stdout",
     "output_type": "stream",
     "text": [
      "Correct: 9446, total: 10000, accuracy: 0.9445999861, average loss: 0.0019220811\n"
     ]
    },
    {
     "name": "stderr",
     "output_type": "stream",
     "text": [
      "391it [01:14,  5.28it/s]\n"
     ]
    },
    {
     "name": "stdout",
     "output_type": "stream",
     "text": [
      "Epoch 145 finished, average loss: 0.0000178140\n",
      "Starting testing\n",
      "Correct: 9459, total: 10000, accuracy: 0.9458999634, average loss: 0.0018714790\n"
     ]
    },
    {
     "name": "stderr",
     "output_type": "stream",
     "text": [
      "391it [01:15,  5.16it/s]"
     ]
    },
    {
     "name": "stdout",
     "output_type": "stream",
     "text": [
      "Epoch 146 finished, average loss: 0.0000171695\n",
      "Starting testing\n"
     ]
    },
    {
     "name": "stderr",
     "output_type": "stream",
     "text": [
      "\n"
     ]
    },
    {
     "name": "stdout",
     "output_type": "stream",
     "text": [
      "Correct: 9456, total: 10000, accuracy: 0.9455999732, average loss: 0.0018841694\n"
     ]
    },
    {
     "name": "stderr",
     "output_type": "stream",
     "text": [
      "391it [01:13,  5.34it/s]\n"
     ]
    },
    {
     "name": "stdout",
     "output_type": "stream",
     "text": [
      "Epoch 147 finished, average loss: 0.0000156981\n",
      "Starting testing\n",
      "Correct: 9449, total: 10000, accuracy: 0.9448999763, average loss: 0.0018879700\n"
     ]
    },
    {
     "name": "stderr",
     "output_type": "stream",
     "text": [
      "391it [01:12,  5.41it/s]"
     ]
    },
    {
     "name": "stdout",
     "output_type": "stream",
     "text": [
      "Epoch 148 finished, average loss: 0.0000159867\n",
      "Starting testing\n"
     ]
    },
    {
     "name": "stderr",
     "output_type": "stream",
     "text": [
      "\n"
     ]
    },
    {
     "name": "stdout",
     "output_type": "stream",
     "text": [
      "Correct: 9444, total: 10000, accuracy: 0.9443999529, average loss: 0.0018984615\n"
     ]
    },
    {
     "name": "stderr",
     "output_type": "stream",
     "text": [
      "391it [01:13,  5.35it/s]"
     ]
    },
    {
     "name": "stdout",
     "output_type": "stream",
     "text": [
      "Epoch 149 finished, average loss: 0.0000159108\n",
      "Starting testing\n"
     ]
    },
    {
     "name": "stderr",
     "output_type": "stream",
     "text": [
      "\n"
     ]
    },
    {
     "name": "stdout",
     "output_type": "stream",
     "text": [
      "Correct: 9443, total: 10000, accuracy: 0.9442999959, average loss: 0.0018801097\n"
     ]
    },
    {
     "name": "stderr",
     "output_type": "stream",
     "text": [
      "391it [01:13,  5.32it/s]"
     ]
    },
    {
     "name": "stdout",
     "output_type": "stream",
     "text": [
      "Epoch 150 finished, average loss: 0.0000167476\n",
      "Starting testing\n"
     ]
    },
    {
     "name": "stderr",
     "output_type": "stream",
     "text": [
      "\n"
     ]
    },
    {
     "name": "stdout",
     "output_type": "stream",
     "text": [
      "Correct: 9453, total: 10000, accuracy: 0.9452999830, average loss: 0.0018738333\n"
     ]
    },
    {
     "name": "stderr",
     "output_type": "stream",
     "text": [
      "391it [01:12,  5.36it/s]"
     ]
    },
    {
     "name": "stdout",
     "output_type": "stream",
     "text": [
      "Epoch 151 finished, average loss: 0.0000158944\n",
      "Starting testing\n"
     ]
    },
    {
     "name": "stderr",
     "output_type": "stream",
     "text": [
      "\n"
     ]
    },
    {
     "name": "stdout",
     "output_type": "stream",
     "text": [
      "Correct: 9453, total: 10000, accuracy: 0.9452999830, average loss: 0.0018820339\n"
     ]
    },
    {
     "name": "stderr",
     "output_type": "stream",
     "text": [
      "391it [01:12,  5.42it/s]"
     ]
    },
    {
     "name": "stdout",
     "output_type": "stream",
     "text": [
      "Epoch 152 finished, average loss: 0.0000163151\n",
      "Starting testing\n"
     ]
    },
    {
     "name": "stderr",
     "output_type": "stream",
     "text": [
      "\n"
     ]
    },
    {
     "name": "stdout",
     "output_type": "stream",
     "text": [
      "Correct: 9450, total: 10000, accuracy: 0.9449999928, average loss: 0.0018964721\n"
     ]
    },
    {
     "name": "stderr",
     "output_type": "stream",
     "text": [
      "391it [01:12,  5.43it/s]"
     ]
    },
    {
     "name": "stdout",
     "output_type": "stream",
     "text": [
      "Epoch 153 finished, average loss: 0.0000155895\n",
      "Starting testing\n"
     ]
    },
    {
     "name": "stderr",
     "output_type": "stream",
     "text": [
      "\n"
     ]
    },
    {
     "name": "stdout",
     "output_type": "stream",
     "text": [
      "Correct: 9456, total: 10000, accuracy: 0.9455999732, average loss: 0.0019026865\n"
     ]
    },
    {
     "name": "stderr",
     "output_type": "stream",
     "text": [
      "391it [01:12,  5.41it/s]"
     ]
    },
    {
     "name": "stdout",
     "output_type": "stream",
     "text": [
      "Epoch 154 finished, average loss: 0.0000153540\n",
      "Starting testing\n"
     ]
    },
    {
     "name": "stderr",
     "output_type": "stream",
     "text": [
      "\n"
     ]
    },
    {
     "name": "stdout",
     "output_type": "stream",
     "text": [
      "Correct: 9454, total: 10000, accuracy: 0.9453999996, average loss: 0.0018930665\n"
     ]
    },
    {
     "name": "stderr",
     "output_type": "stream",
     "text": [
      "391it [01:12,  5.41it/s]"
     ]
    },
    {
     "name": "stdout",
     "output_type": "stream",
     "text": [
      "Epoch 155 finished, average loss: 0.0000162093\n",
      "Starting testing\n"
     ]
    },
    {
     "name": "stderr",
     "output_type": "stream",
     "text": [
      "\n"
     ]
    },
    {
     "name": "stdout",
     "output_type": "stream",
     "text": [
      "Correct: 9442, total: 10000, accuracy: 0.9441999793, average loss: 0.0019175996\n"
     ]
    },
    {
     "name": "stderr",
     "output_type": "stream",
     "text": [
      "391it [01:12,  5.42it/s]"
     ]
    },
    {
     "name": "stdout",
     "output_type": "stream",
     "text": [
      "Epoch 156 finished, average loss: 0.0000158241\n",
      "Starting testing\n"
     ]
    },
    {
     "name": "stderr",
     "output_type": "stream",
     "text": [
      "\n"
     ]
    },
    {
     "name": "stdout",
     "output_type": "stream",
     "text": [
      "Correct: 9444, total: 10000, accuracy: 0.9443999529, average loss: 0.0018911045\n"
     ]
    },
    {
     "name": "stderr",
     "output_type": "stream",
     "text": [
      "391it [01:12,  5.38it/s]"
     ]
    },
    {
     "name": "stdout",
     "output_type": "stream",
     "text": [
      "Epoch 157 finished, average loss: 0.0000148225\n",
      "Starting testing\n"
     ]
    },
    {
     "name": "stderr",
     "output_type": "stream",
     "text": [
      "\n"
     ]
    },
    {
     "name": "stdout",
     "output_type": "stream",
     "text": [
      "Correct: 9457, total: 10000, accuracy: 0.9456999898, average loss: 0.0019071615\n"
     ]
    },
    {
     "name": "stderr",
     "output_type": "stream",
     "text": [
      "391it [01:19,  4.92it/s]"
     ]
    },
    {
     "name": "stdout",
     "output_type": "stream",
     "text": [
      "Epoch 158 finished, average loss: 0.0000180162\n",
      "Starting testing\n"
     ]
    },
    {
     "name": "stderr",
     "output_type": "stream",
     "text": [
      "\n"
     ]
    },
    {
     "name": "stdout",
     "output_type": "stream",
     "text": [
      "Correct: 9447, total: 10000, accuracy: 0.9447000027, average loss: 0.0019131414\n"
     ]
    },
    {
     "name": "stderr",
     "output_type": "stream",
     "text": [
      "391it [01:17,  5.02it/s]"
     ]
    },
    {
     "name": "stdout",
     "output_type": "stream",
     "text": [
      "Epoch 159 finished, average loss: 0.0000153283\n",
      "Starting testing\n"
     ]
    },
    {
     "name": "stderr",
     "output_type": "stream",
     "text": [
      "\n"
     ]
    },
    {
     "name": "stdout",
     "output_type": "stream",
     "text": [
      "Correct: 9446, total: 10000, accuracy: 0.9445999861, average loss: 0.0019275785\n"
     ]
    },
    {
     "name": "stderr",
     "output_type": "stream",
     "text": [
      "391it [01:19,  4.93it/s]"
     ]
    },
    {
     "name": "stdout",
     "output_type": "stream",
     "text": [
      "Epoch 160 finished, average loss: 0.0000169703\n",
      "Starting testing\n"
     ]
    },
    {
     "name": "stderr",
     "output_type": "stream",
     "text": [
      "\n"
     ]
    },
    {
     "name": "stdout",
     "output_type": "stream",
     "text": [
      "Correct: 9447, total: 10000, accuracy: 0.9447000027, average loss: 0.0019011778\n",
      "CPU times: user 2h 20min 20s, sys: 1h 11min 50s, total: 3h 32min 11s\n",
      "Wall time: 3h 34min 19s\n"
     ]
    }
   ],
   "source": [
    "%%time\n",
    "sgd_para = {\"lr\": 1e-3, \"weight_decay\": 0.0001, \"momentum\": 0.9}\n",
    "lr_dict = {80: 0.1, 120: 0.01, 160: 0.001}\n",
    "\n",
    "# Trainer = NN_SGDTrainer(net,sgd_para, trainloader, testloader, {200:1e-3}, model_name + '.txt')\n",
    "Trainer = NN_SGDTrainer(\n",
    "    net,\n",
    "    sgd_para,\n",
    "    trainloader,\n",
    "    testloader,\n",
    "    lr_dict,\n",
    "    model_name + \".txt\",\n",
    ")\n",
    "\n",
    "for i in range(160):  # 100\n",
    "    Trainer.train()"
   ]
  },
  {
   "cell_type": "code",
   "execution_count": 7,
   "metadata": {},
   "outputs": [
    {
     "data": {
      "image/png": "[encoded data removed]",
      "text/plain": [
       "<Figure size 640x480 with 1 Axes>"
      ]
     },
     "metadata": {},
     "output_type": "display_data"
    },
    {
     "data": {
      "image/png": "[encoded data removed]",
      "text/plain": [
       "<Figure size 640x480 with 1 Axes>"
      ]
     },
     "metadata": {},
     "output_type": "display_data"
    }
   ],
   "source": [
    "with open(p) as f:\n",
    "    lines = f.read()\n",
    "\n",
    "data = re.findall(\n",
    "    r\"Epoch (\\d+) finished, average loss: (\\d+\\.\\d+)\\n[\\d\\- :\\.]*\\nStarting testing\\n[\\d\\- :\\.]*\\nCorrect: \\d+, total: \\d+, accuracy: (\\d+\\.\\d+), average loss: (\\d+\\.\\d+)\",\n",
    "    lines,\n",
    "    re.MULTILINE,\n",
    ")\n",
    "# print(len(data))\n",
    "# print(data)\n",
    "epochs = [int(x[0]) for x in data]\n",
    "losses = [float(x[1]) for x in data]\n",
    "accuracies = [float(x[2]) for x in data]\n",
    "test_losses = [float(x[3]) for x in data]\n",
    "\n",
    "results_mresnet164 = dict(epochs=epochs, losses=losses, accuracies=accuracies, test_losses=test_losses)\n",
    "\n",
    "fix, ax = plt.subplots()\n",
    "ax.plot(accuracies)\n",
    "ax.set_ylim(0, 1)\n",
    "plt.title(f\"{model_name} - Test accuracy {accuracies[-1]:.4f}\")\n",
    "plt.ylabel(\"Test Accuracy\")\n",
    "plt.xlabel(\"Epoch\")\n",
    "# ax.yaxis.set_major_locator(MultipleLocator(0.05))\n",
    "cmap = plt.get_cmap(\"Pastel1\")\n",
    "\n",
    "for color, (epoch, value) in zip([\"xkcd:purple\", \"xkcd:red\", \"xkcd:orange\"], lr_dict.items()):\n",
    "    plt.axvline(x=epoch, label=f\"lr: {value}\", linestyle=\":\", linewidth=1, c=color)\n",
    "    \n",
    "plt.legend()\n",
    "plt.show()\n",
    "\n",
    "fix, ax = plt.subplots()\n",
    "train_loss, = ax.plot(epochs, losses, label=\"Train loss\")\n",
    "test_loss, = ax.plot(epochs, test_losses, label=\"Test loss\")\n",
    "plt.title(f\"{model_name} - Loss\")\n",
    "plt.ylabel(\"Avg. loss\")\n",
    "plt.xlabel(\"Epoch\")\n",
    "first_legend = plt.legend(handles=[train_loss, test_loss])\n",
    "\n",
    "ax = plt.gca().add_artist(first_legend)\n",
    "\n",
    "lrhs = []\n",
    "for color, (epoch, value) in zip([\"xkcd:purple\", \"xkcd:red\", \"xkcd:orange\"], lr_dict.items()):\n",
    "    lr_h = plt.axvline(x=epoch, label=f\"lr: {value}\", linestyle=\":\", linewidth=1, c=color)\n",
    "    lrhs.append(lr_h)\n",
    "\n",
    "plt.legend(handles=lrhs)\n",
    "plt.show()"
   ]
  },
  {
   "cell_type": "code",
   "execution_count": 8,
   "metadata": {},
   "outputs": [],
   "source": [
    "with open(f\"{model_name}_ks.txt\", \"w\") as f:\n",
    "    for i, x in enumerate(net.ks, start=1):\n",
    "        f.write(f\"{i},{x.item()}\\n\") "
   ]
  },
  {
   "cell_type": "code",
   "execution_count": null,
   "metadata": {},
   "outputs": [],
   "source": []
  }
 ],
 "metadata": {
  "kernelspec": {
   "display_name": "Python 3 (ipykernel)",
   "language": "python",
   "name": "python3"
  },
  "language_info": {
   "codemirror_mode": {
    "name": "ipython",
    "version": 3
   },
   "file_extension": ".py",
   "mimetype": "text/x-python",
   "name": "python",
   "nbconvert_exporter": "python",
   "pygments_lexer": "ipython3",
   "version": "3.10.12"
  }
 },
 "nbformat": 4,
 "nbformat_minor": 4
}
