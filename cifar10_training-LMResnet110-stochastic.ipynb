{
 "cells": [
  {
   "cell_type": "code",
   "execution_count": 1,
   "metadata": {},
   "outputs": [
    {
     "name": "stderr",
     "output_type": "stream",
     "text": [
      "/home/nox/repos/beyond/venv/lib/python3.10/site-packages/tqdm/auto.py:21: TqdmWarning: IProgress not found. Please update jupyter and ipywidgets. See https://ipywidgets.readthedocs.io/en/stable/user_install.html\n",
      "  from .autonotebook import tqdm as notebook_tqdm\n"
     ]
    },
    {
     "data": {
      "text/plain": [
       "'\\nCode For \\nYiping Lu, Aoxiao Zhong, Quanzheng Li, Bin Dong. \"Beyond Finite Layer Neural Network:Bridging Deep Architects and Numerical Differential Equations\" \\nThirty-fifth International Conference on Machine Learning (ICML), 2018\\n\\n@2prime @Aoxiao Zhong\\n\\nAcknowledgement:\\n@pppppass(Zhihan Li)\\n'"
      ]
     },
     "execution_count": 1,
     "metadata": {},
     "output_type": "execute_result"
    }
   ],
   "source": [
    "import os\n",
    "\n",
    "import torch\n",
    "\n",
    "from MResNet import *\n",
    "from MResNetC import *\n",
    "from train import *\n",
    "\n",
    "import seaborn as sns\n",
    "\n",
    "sns.set()\n",
    "\n",
    "\n",
    "\"\"\"\n",
    "Code For \n",
    "Yiping Lu, Aoxiao Zhong, Quanzheng Li, Bin Dong. \"Beyond Finite Layer Neural Network:Bridging Deep Architects and Numerical Differential Equations\" \n",
    "Thirty-fifth International Conference on Machine Learning (ICML), 2018\n",
    "\n",
    "@2prime @Aoxiao Zhong\n",
    "\n",
    "Acknowledgement:\n",
    "@pppppass(Zhihan Li)\n",
    "\"\"\"\n",
    "# %load_ext autoreload\n",
    "# %autoreload 2\n",
    "# os.environ[\"CUDA_VISIBLE_DEVICES\"] = \"0\""
   ]
  },
  {
   "cell_type": "code",
   "execution_count": 2,
   "metadata": {},
   "outputs": [
    {
     "data": {
      "image/png": "[encoded data removed]",
      "text/plain": [
       "<Figure size 640x480 with 1 Axes>"
      ]
     },
     "metadata": {},
     "output_type": "display_data"
    }
   ],
   "source": [
    "xs = [*range(1,500)]\n",
    "ys = [lr_control({250: 0.1, 375: 0.01, 500: 0.001},x) for x in xs]\n",
    "\n",
    "plt.figure()\n",
    "plt.plot(xs, ys)\n",
    "plt.title(\"Curva de learning rate - SD\")\n",
    "plt.ylabel(\"lr\")\n",
    "plt.xlabel(\"Epoch\")\n",
    "plt.show()"
   ]
  },
  {
   "cell_type": "markdown",
   "metadata": {},
   "source": [
    "# Experiments"
   ]
  },
  {
   "cell_type": "markdown",
   "metadata": {},
   "source": [
    "## LMResNet-110"
   ]
  },
  {
   "cell_type": "code",
   "execution_count": 3,
   "metadata": {},
   "outputs": [
    {
     "name": "stdout",
     "output_type": "stream",
     "text": [
      "Files already downloaded and verified\n",
      "Files already downloaded and verified\n"
     ]
    }
   ],
   "source": [
    "batch_size = 128\n",
    "trainloader, testloader = get_cifar10(batch_size)"
   ]
  },
  {
   "cell_type": "code",
   "execution_count": 4,
   "metadata": {
    "scrolled": true
   },
   "outputs": [],
   "source": [
    "from torchinfo import summary\n",
    "from blocks import BasicBlock, Bottleneck, BasicBlockWithDeathRate\n",
    "from MResNet import MResNet"
   ]
  },
  {
   "cell_type": "code",
   "execution_count": 5,
   "metadata": {
    "scrolled": true
   },
   "outputs": [
    {
     "name": "stdout",
     "output_type": "stream",
     "text": [
      "[0.0, 0.009433962264150943, 0.018867924528301886, 0.02830188679245283, 0.03773584905660377, 0.04716981132075472, 0.05660377358490566, 0.0660377358490566, 0.07547169811320754, 0.08490566037735849, 0.09433962264150944, 0.10377358490566038, 0.11320754716981132, 0.12264150943396226, 0.1320754716981132, 0.14150943396226415, 0.1509433962264151, 0.16037735849056603, 0.16981132075471697, 0.1792452830188679, 0.18867924528301888, 0.19811320754716982, 0.20754716981132076, 0.2169811320754717, 0.22641509433962265, 0.2358490566037736, 0.24528301886792453, 0.25471698113207547, 0.2641509433962264, 0.27358490566037735, 0.2830188679245283, 0.29245283018867924, 0.3018867924528302, 0.3113207547169811, 0.32075471698113206, 0.330188679245283, 0.33962264150943394, 0.3490566037735849, 0.3584905660377358, 0.36792452830188677, 0.37735849056603776, 0.3867924528301887, 0.39622641509433965, 0.4056603773584906, 0.41509433962264153, 0.42452830188679247, 0.4339622641509434, 0.44339622641509435, 0.4528301886792453, 0.46226415094339623, 0.4716981132075472, 0.4811320754716981, 0.49056603773584906, 0.5]\n"
     ]
    },
    {
     "data": {
      "text/plain": [
       "=====================================================================================================================================================================\n",
       "Layer (type:depth-idx)                   Input Shape               Output Shape              Param #                   Kernel Shape              Mult-Adds\n",
       "=====================================================================================================================================================================\n",
       "MResNet                                  [128, 3, 32, 32]          [128, 10]                 1,142                     --                        --\n",
       "├─Conv2d: 1-1                            [128, 3, 32, 32]          [128, 16, 32, 32]         432                       [3, 3]                    56,623,104\n",
       "├─ModuleList: 1-6                        --                        --                        (recursive)               --                        --\n",
       "│    └─BasicBlockWithDeathRate: 2-1      [128, 16, 32, 32]         [128, 16, 32, 32]         --                        --                        --\n",
       "│    │    └─BatchNorm2d: 3-1             [128, 16, 32, 32]         [128, 16, 32, 32]         32                        --                        4,096\n",
       "│    │    └─ReLU: 3-2                    [128, 16, 32, 32]         [128, 16, 32, 32]         --                        --                        --\n",
       "│    │    └─Conv2d: 3-3                  [128, 16, 32, 32]         [128, 16, 32, 32]         2,304                     [3, 3]                    301,989,888\n",
       "│    │    └─BatchNorm2d: 3-4             [128, 16, 32, 32]         [128, 16, 32, 32]         32                        --                        4,096\n",
       "│    │    └─ReLU: 3-5                    [128, 16, 32, 32]         [128, 16, 32, 32]         --                        --                        --\n",
       "│    │    └─Conv2d: 3-6                  [128, 16, 32, 32]         [128, 16, 32, 32]         2,304                     [3, 3]                    301,989,888\n",
       "│    └─BasicBlockWithDeathRate: 2-2      [128, 16, 32, 32]         [128, 16, 32, 32]         --                        --                        --\n",
       "│    │    └─BatchNorm2d: 3-7             [128, 16, 32, 32]         [128, 16, 32, 32]         32                        --                        4,096\n",
       "│    │    └─ReLU: 3-8                    [128, 16, 32, 32]         [128, 16, 32, 32]         --                        --                        --\n",
       "│    │    └─Conv2d: 3-9                  [128, 16, 32, 32]         [128, 16, 32, 32]         2,304                     [3, 3]                    301,989,888\n",
       "│    │    └─BatchNorm2d: 3-10            [128, 16, 32, 32]         [128, 16, 32, 32]         32                        --                        4,096\n",
       "│    │    └─ReLU: 3-11                   [128, 16, 32, 32]         [128, 16, 32, 32]         --                        --                        --\n",
       "│    │    └─Conv2d: 3-12                 [128, 16, 32, 32]         [128, 16, 32, 32]         2,304                     [3, 3]                    301,989,888\n",
       "│    └─BasicBlockWithDeathRate: 2-3      [128, 16, 32, 32]         [128, 16, 32, 32]         --                        --                        --\n",
       "│    │    └─BatchNorm2d: 3-13            [128, 16, 32, 32]         [128, 16, 32, 32]         32                        --                        4,096\n",
       "│    │    └─ReLU: 3-14                   [128, 16, 32, 32]         [128, 16, 32, 32]         --                        --                        --\n",
       "│    │    └─Conv2d: 3-15                 [128, 16, 32, 32]         [128, 16, 32, 32]         2,304                     [3, 3]                    301,989,888\n",
       "│    │    └─BatchNorm2d: 3-16            [128, 16, 32, 32]         [128, 16, 32, 32]         32                        --                        4,096\n",
       "│    │    └─ReLU: 3-17                   [128, 16, 32, 32]         [128, 16, 32, 32]         --                        --                        --\n",
       "│    │    └─Conv2d: 3-18                 [128, 16, 32, 32]         [128, 16, 32, 32]         2,304                     [3, 3]                    301,989,888\n",
       "│    └─BasicBlockWithDeathRate: 2-4      [128, 16, 32, 32]         [128, 16, 32, 32]         --                        --                        --\n",
       "│    │    └─BatchNorm2d: 3-19            [128, 16, 32, 32]         [128, 16, 32, 32]         32                        --                        4,096\n",
       "│    │    └─ReLU: 3-20                   [128, 16, 32, 32]         [128, 16, 32, 32]         --                        --                        --\n",
       "│    │    └─Conv2d: 3-21                 [128, 16, 32, 32]         [128, 16, 32, 32]         2,304                     [3, 3]                    301,989,888\n",
       "│    │    └─BatchNorm2d: 3-22            [128, 16, 32, 32]         [128, 16, 32, 32]         32                        --                        4,096\n",
       "│    │    └─ReLU: 3-23                   [128, 16, 32, 32]         [128, 16, 32, 32]         --                        --                        --\n",
       "│    │    └─Conv2d: 3-24                 [128, 16, 32, 32]         [128, 16, 32, 32]         2,304                     [3, 3]                    301,989,888\n",
       "│    └─BasicBlockWithDeathRate: 2-5      [128, 16, 32, 32]         [128, 16, 32, 32]         --                        --                        --\n",
       "│    │    └─BatchNorm2d: 3-25            [128, 16, 32, 32]         [128, 16, 32, 32]         32                        --                        4,096\n",
       "│    │    └─ReLU: 3-26                   [128, 16, 32, 32]         [128, 16, 32, 32]         --                        --                        --\n",
       "│    │    └─Conv2d: 3-27                 [128, 16, 32, 32]         [128, 16, 32, 32]         2,304                     [3, 3]                    301,989,888\n",
       "│    │    └─BatchNorm2d: 3-28            [128, 16, 32, 32]         [128, 16, 32, 32]         32                        --                        4,096\n",
       "│    │    └─ReLU: 3-29                   [128, 16, 32, 32]         [128, 16, 32, 32]         --                        --                        --\n",
       "│    │    └─Conv2d: 3-30                 [128, 16, 32, 32]         [128, 16, 32, 32]         2,304                     [3, 3]                    301,989,888\n",
       "│    └─BasicBlockWithDeathRate: 2-6      [128, 16, 32, 32]         [128, 16, 32, 32]         --                        --                        --\n",
       "│    │    └─BatchNorm2d: 3-31            [128, 16, 32, 32]         [128, 16, 32, 32]         32                        --                        4,096\n",
       "│    │    └─ReLU: 3-32                   [128, 16, 32, 32]         [128, 16, 32, 32]         --                        --                        --\n",
       "│    │    └─Conv2d: 3-33                 [128, 16, 32, 32]         [128, 16, 32, 32]         2,304                     [3, 3]                    301,989,888\n",
       "│    │    └─BatchNorm2d: 3-34            [128, 16, 32, 32]         [128, 16, 32, 32]         32                        --                        4,096\n",
       "│    │    └─ReLU: 3-35                   [128, 16, 32, 32]         [128, 16, 32, 32]         --                        --                        --\n",
       "│    │    └─Conv2d: 3-36                 [128, 16, 32, 32]         [128, 16, 32, 32]         2,304                     [3, 3]                    301,989,888\n",
       "│    └─BasicBlockWithDeathRate: 2-7      [128, 16, 32, 32]         [128, 16, 32, 32]         --                        --                        --\n",
       "│    │    └─BatchNorm2d: 3-37            [128, 16, 32, 32]         [128, 16, 32, 32]         32                        --                        4,096\n",
       "│    │    └─ReLU: 3-38                   [128, 16, 32, 32]         [128, 16, 32, 32]         --                        --                        --\n",
       "│    │    └─Conv2d: 3-39                 [128, 16, 32, 32]         [128, 16, 32, 32]         2,304                     [3, 3]                    301,989,888\n",
       "│    │    └─BatchNorm2d: 3-40            [128, 16, 32, 32]         [128, 16, 32, 32]         32                        --                        4,096\n",
       "│    │    └─ReLU: 3-41                   [128, 16, 32, 32]         [128, 16, 32, 32]         --                        --                        --\n",
       "│    │    └─Conv2d: 3-42                 [128, 16, 32, 32]         [128, 16, 32, 32]         2,304                     [3, 3]                    301,989,888\n",
       "│    └─BasicBlockWithDeathRate: 2-8      [128, 16, 32, 32]         [128, 16, 32, 32]         --                        --                        --\n",
       "│    │    └─BatchNorm2d: 3-43            [128, 16, 32, 32]         [128, 16, 32, 32]         32                        --                        4,096\n",
       "│    │    └─ReLU: 3-44                   [128, 16, 32, 32]         [128, 16, 32, 32]         --                        --                        --\n",
       "│    │    └─Conv2d: 3-45                 [128, 16, 32, 32]         [128, 16, 32, 32]         2,304                     [3, 3]                    301,989,888\n",
       "│    │    └─BatchNorm2d: 3-46            [128, 16, 32, 32]         [128, 16, 32, 32]         32                        --                        4,096\n",
       "│    │    └─ReLU: 3-47                   [128, 16, 32, 32]         [128, 16, 32, 32]         --                        --                        --\n",
       "│    │    └─Conv2d: 3-48                 [128, 16, 32, 32]         [128, 16, 32, 32]         2,304                     [3, 3]                    301,989,888\n",
       "│    └─BasicBlockWithDeathRate: 2-9      [128, 16, 32, 32]         [128, 16, 32, 32]         --                        --                        --\n",
       "│    │    └─BatchNorm2d: 3-49            [128, 16, 32, 32]         [128, 16, 32, 32]         32                        --                        4,096\n",
       "│    │    └─ReLU: 3-50                   [128, 16, 32, 32]         [128, 16, 32, 32]         --                        --                        --\n",
       "│    │    └─Conv2d: 3-51                 [128, 16, 32, 32]         [128, 16, 32, 32]         2,304                     [3, 3]                    301,989,888\n",
       "│    │    └─BatchNorm2d: 3-52            [128, 16, 32, 32]         [128, 16, 32, 32]         32                        --                        4,096\n",
       "│    │    └─ReLU: 3-53                   [128, 16, 32, 32]         [128, 16, 32, 32]         --                        --                        --\n",
       "│    │    └─Conv2d: 3-54                 [128, 16, 32, 32]         [128, 16, 32, 32]         2,304                     [3, 3]                    301,989,888\n",
       "│    └─BasicBlockWithDeathRate: 2-10     [128, 16, 32, 32]         [128, 16, 32, 32]         --                        --                        --\n",
       "│    │    └─BatchNorm2d: 3-55            [128, 16, 32, 32]         [128, 16, 32, 32]         32                        --                        4,096\n",
       "│    │    └─ReLU: 3-56                   [128, 16, 32, 32]         [128, 16, 32, 32]         --                        --                        --\n",
       "│    │    └─Conv2d: 3-57                 [128, 16, 32, 32]         [128, 16, 32, 32]         2,304                     [3, 3]                    301,989,888\n",
       "│    │    └─BatchNorm2d: 3-58            [128, 16, 32, 32]         [128, 16, 32, 32]         32                        --                        4,096\n",
       "│    │    └─ReLU: 3-59                   [128, 16, 32, 32]         [128, 16, 32, 32]         --                        --                        --\n",
       "│    │    └─Conv2d: 3-60                 [128, 16, 32, 32]         [128, 16, 32, 32]         2,304                     [3, 3]                    301,989,888\n",
       "│    └─BasicBlockWithDeathRate: 2-11     [128, 16, 32, 32]         [128, 16, 32, 32]         --                        --                        --\n",
       "│    │    └─BatchNorm2d: 3-61            [128, 16, 32, 32]         [128, 16, 32, 32]         32                        --                        4,096\n",
       "│    │    └─ReLU: 3-62                   [128, 16, 32, 32]         [128, 16, 32, 32]         --                        --                        --\n",
       "│    │    └─Conv2d: 3-63                 [128, 16, 32, 32]         [128, 16, 32, 32]         2,304                     [3, 3]                    301,989,888\n",
       "│    │    └─BatchNorm2d: 3-64            [128, 16, 32, 32]         [128, 16, 32, 32]         32                        --                        4,096\n",
       "│    │    └─ReLU: 3-65                   [128, 16, 32, 32]         [128, 16, 32, 32]         --                        --                        --\n",
       "│    │    └─Conv2d: 3-66                 [128, 16, 32, 32]         [128, 16, 32, 32]         2,304                     [3, 3]                    301,989,888\n",
       "│    └─BasicBlockWithDeathRate: 2-12     [128, 16, 32, 32]         [128, 16, 32, 32]         --                        --                        --\n",
       "│    │    └─BatchNorm2d: 3-67            [128, 16, 32, 32]         [128, 16, 32, 32]         32                        --                        4,096\n",
       "│    │    └─ReLU: 3-68                   [128, 16, 32, 32]         [128, 16, 32, 32]         --                        --                        --\n",
       "│    │    └─Conv2d: 3-69                 [128, 16, 32, 32]         [128, 16, 32, 32]         2,304                     [3, 3]                    301,989,888\n",
       "│    │    └─BatchNorm2d: 3-70            [128, 16, 32, 32]         [128, 16, 32, 32]         32                        --                        4,096\n",
       "│    │    └─ReLU: 3-71                   [128, 16, 32, 32]         [128, 16, 32, 32]         --                        --                        --\n",
       "│    │    └─Conv2d: 3-72                 [128, 16, 32, 32]         [128, 16, 32, 32]         2,304                     [3, 3]                    301,989,888\n",
       "│    └─BasicBlockWithDeathRate: 2-13     [128, 16, 32, 32]         [128, 16, 32, 32]         --                        --                        --\n",
       "│    │    └─BatchNorm2d: 3-73            [128, 16, 32, 32]         [128, 16, 32, 32]         32                        --                        4,096\n",
       "│    │    └─ReLU: 3-74                   [128, 16, 32, 32]         [128, 16, 32, 32]         --                        --                        --\n",
       "│    │    └─Conv2d: 3-75                 [128, 16, 32, 32]         [128, 16, 32, 32]         2,304                     [3, 3]                    301,989,888\n",
       "│    │    └─BatchNorm2d: 3-76            [128, 16, 32, 32]         [128, 16, 32, 32]         32                        --                        4,096\n",
       "│    │    └─ReLU: 3-77                   [128, 16, 32, 32]         [128, 16, 32, 32]         --                        --                        --\n",
       "│    │    └─Conv2d: 3-78                 [128, 16, 32, 32]         [128, 16, 32, 32]         2,304                     [3, 3]                    301,989,888\n",
       "│    └─BasicBlockWithDeathRate: 2-14     [128, 16, 32, 32]         [128, 16, 32, 32]         --                        --                        --\n",
       "│    │    └─BatchNorm2d: 3-79            [128, 16, 32, 32]         [128, 16, 32, 32]         32                        --                        4,096\n",
       "│    │    └─ReLU: 3-80                   [128, 16, 32, 32]         [128, 16, 32, 32]         --                        --                        --\n",
       "│    │    └─Conv2d: 3-81                 [128, 16, 32, 32]         [128, 16, 32, 32]         2,304                     [3, 3]                    301,989,888\n",
       "│    │    └─BatchNorm2d: 3-82            [128, 16, 32, 32]         [128, 16, 32, 32]         32                        --                        4,096\n",
       "│    │    └─ReLU: 3-83                   [128, 16, 32, 32]         [128, 16, 32, 32]         --                        --                        --\n",
       "│    │    └─Conv2d: 3-84                 [128, 16, 32, 32]         [128, 16, 32, 32]         2,304                     [3, 3]                    301,989,888\n",
       "│    └─BasicBlockWithDeathRate: 2-15     [128, 16, 32, 32]         [128, 16, 32, 32]         --                        --                        --\n",
       "│    │    └─BatchNorm2d: 3-85            [128, 16, 32, 32]         [128, 16, 32, 32]         32                        --                        4,096\n",
       "│    │    └─ReLU: 3-86                   [128, 16, 32, 32]         [128, 16, 32, 32]         --                        --                        --\n",
       "│    │    └─Conv2d: 3-87                 [128, 16, 32, 32]         [128, 16, 32, 32]         2,304                     [3, 3]                    301,989,888\n",
       "│    │    └─BatchNorm2d: 3-88            [128, 16, 32, 32]         [128, 16, 32, 32]         32                        --                        4,096\n",
       "│    │    └─ReLU: 3-89                   [128, 16, 32, 32]         [128, 16, 32, 32]         --                        --                        --\n",
       "│    │    └─Conv2d: 3-90                 [128, 16, 32, 32]         [128, 16, 32, 32]         2,304                     [3, 3]                    301,989,888\n",
       "│    └─BasicBlockWithDeathRate: 2-16     [128, 16, 32, 32]         [128, 16, 32, 32]         --                        --                        --\n",
       "│    │    └─BatchNorm2d: 3-91            [128, 16, 32, 32]         [128, 16, 32, 32]         32                        --                        4,096\n",
       "│    │    └─ReLU: 3-92                   [128, 16, 32, 32]         [128, 16, 32, 32]         --                        --                        --\n",
       "│    │    └─Conv2d: 3-93                 [128, 16, 32, 32]         [128, 16, 32, 32]         2,304                     [3, 3]                    301,989,888\n",
       "│    │    └─BatchNorm2d: 3-94            [128, 16, 32, 32]         [128, 16, 32, 32]         32                        --                        4,096\n",
       "│    │    └─ReLU: 3-95                   [128, 16, 32, 32]         [128, 16, 32, 32]         --                        --                        --\n",
       "│    │    └─Conv2d: 3-96                 [128, 16, 32, 32]         [128, 16, 32, 32]         2,304                     [3, 3]                    301,989,888\n",
       "│    └─BasicBlockWithDeathRate: 2-17     [128, 16, 32, 32]         [128, 16, 32, 32]         --                        --                        --\n",
       "│    │    └─BatchNorm2d: 3-97            [128, 16, 32, 32]         [128, 16, 32, 32]         32                        --                        4,096\n",
       "│    │    └─ReLU: 3-98                   [128, 16, 32, 32]         [128, 16, 32, 32]         --                        --                        --\n",
       "│    │    └─Conv2d: 3-99                 [128, 16, 32, 32]         [128, 16, 32, 32]         2,304                     [3, 3]                    301,989,888\n",
       "│    │    └─BatchNorm2d: 3-100           [128, 16, 32, 32]         [128, 16, 32, 32]         32                        --                        4,096\n",
       "│    │    └─ReLU: 3-101                  [128, 16, 32, 32]         [128, 16, 32, 32]         --                        --                        --\n",
       "│    │    └─Conv2d: 3-102                [128, 16, 32, 32]         [128, 16, 32, 32]         2,304                     [3, 3]                    301,989,888\n",
       "│    └─BasicBlockWithDeathRate: 2-18     [128, 16, 32, 32]         [128, 16, 32, 32]         --                        --                        --\n",
       "│    │    └─BatchNorm2d: 3-103           [128, 16, 32, 32]         [128, 16, 32, 32]         32                        --                        4,096\n",
       "│    │    └─ReLU: 3-104                  [128, 16, 32, 32]         [128, 16, 32, 32]         --                        --                        --\n",
       "│    │    └─Conv2d: 3-105                [128, 16, 32, 32]         [128, 16, 32, 32]         2,304                     [3, 3]                    301,989,888\n",
       "│    │    └─BatchNorm2d: 3-106           [128, 16, 32, 32]         [128, 16, 32, 32]         32                        --                        4,096\n",
       "│    │    └─ReLU: 3-107                  [128, 16, 32, 32]         [128, 16, 32, 32]         --                        --                        --\n",
       "│    │    └─Conv2d: 3-108                [128, 16, 32, 32]         [128, 16, 32, 32]         2,304                     [3, 3]                    301,989,888\n",
       "├─Downsample: 1-3                        [128, 16, 32, 32]         [128, 32, 16, 16]         --                        --                        --\n",
       "│    └─Sequential: 2-19                  [128, 16, 32, 32]         [128, 32, 16, 16]         --                        --                        --\n",
       "│    │    └─BatchNorm2d: 3-109           [128, 16, 32, 32]         [128, 16, 32, 32]         32                        --                        4,096\n",
       "│    │    └─ReLU: 3-110                  [128, 16, 32, 32]         [128, 16, 32, 32]         --                        --                        --\n",
       "│    │    └─Conv2d: 3-111                [128, 16, 32, 32]         [128, 32, 16, 16]         512                       [1, 1]                    16,777,216\n",
       "├─ModuleList: 1-6                        --                        --                        (recursive)               --                        --\n",
       "│    └─BasicBlockWithDeathRate: 2-20     [128, 16, 32, 32]         [128, 32, 16, 16]         --                        --                        --\n",
       "│    │    └─BatchNorm2d: 3-112           [128, 16, 32, 32]         [128, 16, 32, 32]         32                        --                        4,096\n",
       "│    │    └─ReLU: 3-113                  [128, 16, 32, 32]         [128, 16, 32, 32]         --                        --                        --\n",
       "│    │    └─Conv2d: 3-114                [128, 16, 32, 32]         [128, 32, 16, 16]         4,608                     [3, 3]                    150,994,944\n",
       "│    │    └─BatchNorm2d: 3-115           [128, 32, 16, 16]         [128, 32, 16, 16]         64                        --                        8,192\n",
       "│    │    └─ReLU: 3-116                  [128, 32, 16, 16]         [128, 32, 16, 16]         --                        --                        --\n",
       "│    │    └─Conv2d: 3-117                [128, 32, 16, 16]         [128, 32, 16, 16]         9,216                     [3, 3]                    301,989,888\n",
       "│    └─BasicBlockWithDeathRate: 2-21     [128, 32, 16, 16]         [128, 32, 16, 16]         --                        --                        --\n",
       "│    │    └─BatchNorm2d: 3-118           [128, 32, 16, 16]         [128, 32, 16, 16]         64                        --                        8,192\n",
       "│    │    └─ReLU: 3-119                  [128, 32, 16, 16]         [128, 32, 16, 16]         --                        --                        --\n",
       "│    │    └─Conv2d: 3-120                [128, 32, 16, 16]         [128, 32, 16, 16]         9,216                     [3, 3]                    301,989,888\n",
       "│    │    └─BatchNorm2d: 3-121           [128, 32, 16, 16]         [128, 32, 16, 16]         64                        --                        8,192\n",
       "│    │    └─ReLU: 3-122                  [128, 32, 16, 16]         [128, 32, 16, 16]         --                        --                        --\n",
       "│    │    └─Conv2d: 3-123                [128, 32, 16, 16]         [128, 32, 16, 16]         9,216                     [3, 3]                    301,989,888\n",
       "│    └─BasicBlockWithDeathRate: 2-22     [128, 32, 16, 16]         [128, 32, 16, 16]         --                        --                        --\n",
       "│    │    └─BatchNorm2d: 3-124           [128, 32, 16, 16]         [128, 32, 16, 16]         64                        --                        8,192\n",
       "│    │    └─ReLU: 3-125                  [128, 32, 16, 16]         [128, 32, 16, 16]         --                        --                        --\n",
       "│    │    └─Conv2d: 3-126                [128, 32, 16, 16]         [128, 32, 16, 16]         9,216                     [3, 3]                    301,989,888\n",
       "│    │    └─BatchNorm2d: 3-127           [128, 32, 16, 16]         [128, 32, 16, 16]         64                        --                        8,192\n",
       "│    │    └─ReLU: 3-128                  [128, 32, 16, 16]         [128, 32, 16, 16]         --                        --                        --\n",
       "│    │    └─Conv2d: 3-129                [128, 32, 16, 16]         [128, 32, 16, 16]         9,216                     [3, 3]                    301,989,888\n",
       "│    └─BasicBlockWithDeathRate: 2-23     [128, 32, 16, 16]         [128, 32, 16, 16]         --                        --                        --\n",
       "│    │    └─BatchNorm2d: 3-130           [128, 32, 16, 16]         [128, 32, 16, 16]         64                        --                        8,192\n",
       "│    │    └─ReLU: 3-131                  [128, 32, 16, 16]         [128, 32, 16, 16]         --                        --                        --\n",
       "│    │    └─Conv2d: 3-132                [128, 32, 16, 16]         [128, 32, 16, 16]         9,216                     [3, 3]                    301,989,888\n",
       "│    │    └─BatchNorm2d: 3-133           [128, 32, 16, 16]         [128, 32, 16, 16]         64                        --                        8,192\n",
       "│    │    └─ReLU: 3-134                  [128, 32, 16, 16]         [128, 32, 16, 16]         --                        --                        --\n",
       "│    │    └─Conv2d: 3-135                [128, 32, 16, 16]         [128, 32, 16, 16]         9,216                     [3, 3]                    301,989,888\n",
       "│    └─BasicBlockWithDeathRate: 2-24     [128, 32, 16, 16]         [128, 32, 16, 16]         --                        --                        --\n",
       "│    │    └─BatchNorm2d: 3-136           [128, 32, 16, 16]         [128, 32, 16, 16]         64                        --                        8,192\n",
       "│    │    └─ReLU: 3-137                  [128, 32, 16, 16]         [128, 32, 16, 16]         --                        --                        --\n",
       "│    │    └─Conv2d: 3-138                [128, 32, 16, 16]         [128, 32, 16, 16]         9,216                     [3, 3]                    301,989,888\n",
       "│    │    └─BatchNorm2d: 3-139           [128, 32, 16, 16]         [128, 32, 16, 16]         64                        --                        8,192\n",
       "│    │    └─ReLU: 3-140                  [128, 32, 16, 16]         [128, 32, 16, 16]         --                        --                        --\n",
       "│    │    └─Conv2d: 3-141                [128, 32, 16, 16]         [128, 32, 16, 16]         9,216                     [3, 3]                    301,989,888\n",
       "│    └─BasicBlockWithDeathRate: 2-25     [128, 32, 16, 16]         [128, 32, 16, 16]         --                        --                        --\n",
       "│    │    └─BatchNorm2d: 3-142           [128, 32, 16, 16]         [128, 32, 16, 16]         64                        --                        8,192\n",
       "│    │    └─ReLU: 3-143                  [128, 32, 16, 16]         [128, 32, 16, 16]         --                        --                        --\n",
       "│    │    └─Conv2d: 3-144                [128, 32, 16, 16]         [128, 32, 16, 16]         9,216                     [3, 3]                    301,989,888\n",
       "│    │    └─BatchNorm2d: 3-145           [128, 32, 16, 16]         [128, 32, 16, 16]         64                        --                        8,192\n",
       "│    │    └─ReLU: 3-146                  [128, 32, 16, 16]         [128, 32, 16, 16]         --                        --                        --\n",
       "│    │    └─Conv2d: 3-147                [128, 32, 16, 16]         [128, 32, 16, 16]         9,216                     [3, 3]                    301,989,888\n",
       "│    └─BasicBlockWithDeathRate: 2-26     [128, 32, 16, 16]         [128, 32, 16, 16]         --                        --                        --\n",
       "│    │    └─BatchNorm2d: 3-148           [128, 32, 16, 16]         [128, 32, 16, 16]         64                        --                        8,192\n",
       "│    │    └─ReLU: 3-149                  [128, 32, 16, 16]         [128, 32, 16, 16]         --                        --                        --\n",
       "│    │    └─Conv2d: 3-150                [128, 32, 16, 16]         [128, 32, 16, 16]         9,216                     [3, 3]                    301,989,888\n",
       "│    │    └─BatchNorm2d: 3-151           [128, 32, 16, 16]         [128, 32, 16, 16]         64                        --                        8,192\n",
       "│    │    └─ReLU: 3-152                  [128, 32, 16, 16]         [128, 32, 16, 16]         --                        --                        --\n",
       "│    │    └─Conv2d: 3-153                [128, 32, 16, 16]         [128, 32, 16, 16]         9,216                     [3, 3]                    301,989,888\n",
       "│    └─BasicBlockWithDeathRate: 2-27     [128, 32, 16, 16]         [128, 32, 16, 16]         --                        --                        --\n",
       "│    │    └─BatchNorm2d: 3-154           [128, 32, 16, 16]         [128, 32, 16, 16]         64                        --                        8,192\n",
       "│    │    └─ReLU: 3-155                  [128, 32, 16, 16]         [128, 32, 16, 16]         --                        --                        --\n",
       "│    │    └─Conv2d: 3-156                [128, 32, 16, 16]         [128, 32, 16, 16]         9,216                     [3, 3]                    301,989,888\n",
       "│    │    └─BatchNorm2d: 3-157           [128, 32, 16, 16]         [128, 32, 16, 16]         64                        --                        8,192\n",
       "│    │    └─ReLU: 3-158                  [128, 32, 16, 16]         [128, 32, 16, 16]         --                        --                        --\n",
       "│    │    └─Conv2d: 3-159                [128, 32, 16, 16]         [128, 32, 16, 16]         9,216                     [3, 3]                    301,989,888\n",
       "│    └─BasicBlockWithDeathRate: 2-28     [128, 32, 16, 16]         [128, 32, 16, 16]         --                        --                        --\n",
       "│    │    └─BatchNorm2d: 3-160           [128, 32, 16, 16]         [128, 32, 16, 16]         64                        --                        8,192\n",
       "│    │    └─ReLU: 3-161                  [128, 32, 16, 16]         [128, 32, 16, 16]         --                        --                        --\n",
       "│    │    └─Conv2d: 3-162                [128, 32, 16, 16]         [128, 32, 16, 16]         9,216                     [3, 3]                    301,989,888\n",
       "│    │    └─BatchNorm2d: 3-163           [128, 32, 16, 16]         [128, 32, 16, 16]         64                        --                        8,192\n",
       "│    │    └─ReLU: 3-164                  [128, 32, 16, 16]         [128, 32, 16, 16]         --                        --                        --\n",
       "│    │    └─Conv2d: 3-165                [128, 32, 16, 16]         [128, 32, 16, 16]         9,216                     [3, 3]                    301,989,888\n",
       "│    └─BasicBlockWithDeathRate: 2-29     [128, 32, 16, 16]         [128, 32, 16, 16]         --                        --                        --\n",
       "│    │    └─BatchNorm2d: 3-166           [128, 32, 16, 16]         [128, 32, 16, 16]         64                        --                        8,192\n",
       "│    │    └─ReLU: 3-167                  [128, 32, 16, 16]         [128, 32, 16, 16]         --                        --                        --\n",
       "│    │    └─Conv2d: 3-168                [128, 32, 16, 16]         [128, 32, 16, 16]         9,216                     [3, 3]                    301,989,888\n",
       "│    │    └─BatchNorm2d: 3-169           [128, 32, 16, 16]         [128, 32, 16, 16]         64                        --                        8,192\n",
       "│    │    └─ReLU: 3-170                  [128, 32, 16, 16]         [128, 32, 16, 16]         --                        --                        --\n",
       "│    │    └─Conv2d: 3-171                [128, 32, 16, 16]         [128, 32, 16, 16]         9,216                     [3, 3]                    301,989,888\n",
       "│    └─BasicBlockWithDeathRate: 2-30     [128, 32, 16, 16]         [128, 32, 16, 16]         --                        --                        --\n",
       "│    │    └─BatchNorm2d: 3-172           [128, 32, 16, 16]         [128, 32, 16, 16]         64                        --                        8,192\n",
       "│    │    └─ReLU: 3-173                  [128, 32, 16, 16]         [128, 32, 16, 16]         --                        --                        --\n",
       "│    │    └─Conv2d: 3-174                [128, 32, 16, 16]         [128, 32, 16, 16]         9,216                     [3, 3]                    301,989,888\n",
       "│    │    └─BatchNorm2d: 3-175           [128, 32, 16, 16]         [128, 32, 16, 16]         64                        --                        8,192\n",
       "│    │    └─ReLU: 3-176                  [128, 32, 16, 16]         [128, 32, 16, 16]         --                        --                        --\n",
       "│    │    └─Conv2d: 3-177                [128, 32, 16, 16]         [128, 32, 16, 16]         9,216                     [3, 3]                    301,989,888\n",
       "│    └─BasicBlockWithDeathRate: 2-31     [128, 32, 16, 16]         [128, 32, 16, 16]         --                        --                        --\n",
       "│    │    └─BatchNorm2d: 3-178           [128, 32, 16, 16]         [128, 32, 16, 16]         64                        --                        8,192\n",
       "│    │    └─ReLU: 3-179                  [128, 32, 16, 16]         [128, 32, 16, 16]         --                        --                        --\n",
       "│    │    └─Conv2d: 3-180                [128, 32, 16, 16]         [128, 32, 16, 16]         9,216                     [3, 3]                    301,989,888\n",
       "│    │    └─BatchNorm2d: 3-181           [128, 32, 16, 16]         [128, 32, 16, 16]         64                        --                        8,192\n",
       "│    │    └─ReLU: 3-182                  [128, 32, 16, 16]         [128, 32, 16, 16]         --                        --                        --\n",
       "│    │    └─Conv2d: 3-183                [128, 32, 16, 16]         [128, 32, 16, 16]         9,216                     [3, 3]                    301,989,888\n",
       "│    └─BasicBlockWithDeathRate: 2-32     [128, 32, 16, 16]         [128, 32, 16, 16]         --                        --                        --\n",
       "│    │    └─BatchNorm2d: 3-184           [128, 32, 16, 16]         [128, 32, 16, 16]         64                        --                        8,192\n",
       "│    │    └─ReLU: 3-185                  [128, 32, 16, 16]         [128, 32, 16, 16]         --                        --                        --\n",
       "│    │    └─Conv2d: 3-186                [128, 32, 16, 16]         [128, 32, 16, 16]         9,216                     [3, 3]                    301,989,888\n",
       "│    │    └─BatchNorm2d: 3-187           [128, 32, 16, 16]         [128, 32, 16, 16]         64                        --                        8,192\n",
       "│    │    └─ReLU: 3-188                  [128, 32, 16, 16]         [128, 32, 16, 16]         --                        --                        --\n",
       "│    │    └─Conv2d: 3-189                [128, 32, 16, 16]         [128, 32, 16, 16]         9,216                     [3, 3]                    301,989,888\n",
       "│    └─BasicBlockWithDeathRate: 2-33     [128, 32, 16, 16]         [128, 32, 16, 16]         --                        --                        --\n",
       "│    │    └─BatchNorm2d: 3-190           [128, 32, 16, 16]         [128, 32, 16, 16]         64                        --                        8,192\n",
       "│    │    └─ReLU: 3-191                  [128, 32, 16, 16]         [128, 32, 16, 16]         --                        --                        --\n",
       "│    │    └─Conv2d: 3-192                [128, 32, 16, 16]         [128, 32, 16, 16]         9,216                     [3, 3]                    301,989,888\n",
       "│    │    └─BatchNorm2d: 3-193           [128, 32, 16, 16]         [128, 32, 16, 16]         64                        --                        8,192\n",
       "│    │    └─ReLU: 3-194                  [128, 32, 16, 16]         [128, 32, 16, 16]         --                        --                        --\n",
       "│    │    └─Conv2d: 3-195                [128, 32, 16, 16]         [128, 32, 16, 16]         9,216                     [3, 3]                    301,989,888\n",
       "│    └─BasicBlockWithDeathRate: 2-34     [128, 32, 16, 16]         [128, 32, 16, 16]         --                        --                        --\n",
       "│    │    └─BatchNorm2d: 3-196           [128, 32, 16, 16]         [128, 32, 16, 16]         64                        --                        8,192\n",
       "│    │    └─ReLU: 3-197                  [128, 32, 16, 16]         [128, 32, 16, 16]         --                        --                        --\n",
       "│    │    └─Conv2d: 3-198                [128, 32, 16, 16]         [128, 32, 16, 16]         9,216                     [3, 3]                    301,989,888\n",
       "│    │    └─BatchNorm2d: 3-199           [128, 32, 16, 16]         [128, 32, 16, 16]         64                        --                        8,192\n",
       "│    │    └─ReLU: 3-200                  [128, 32, 16, 16]         [128, 32, 16, 16]         --                        --                        --\n",
       "│    │    └─Conv2d: 3-201                [128, 32, 16, 16]         [128, 32, 16, 16]         9,216                     [3, 3]                    301,989,888\n",
       "│    └─BasicBlockWithDeathRate: 2-35     [128, 32, 16, 16]         [128, 32, 16, 16]         --                        --                        --\n",
       "│    │    └─BatchNorm2d: 3-202           [128, 32, 16, 16]         [128, 32, 16, 16]         64                        --                        8,192\n",
       "│    │    └─ReLU: 3-203                  [128, 32, 16, 16]         [128, 32, 16, 16]         --                        --                        --\n",
       "│    │    └─Conv2d: 3-204                [128, 32, 16, 16]         [128, 32, 16, 16]         9,216                     [3, 3]                    301,989,888\n",
       "│    │    └─BatchNorm2d: 3-205           [128, 32, 16, 16]         [128, 32, 16, 16]         64                        --                        8,192\n",
       "│    │    └─ReLU: 3-206                  [128, 32, 16, 16]         [128, 32, 16, 16]         --                        --                        --\n",
       "│    │    └─Conv2d: 3-207                [128, 32, 16, 16]         [128, 32, 16, 16]         9,216                     [3, 3]                    301,989,888\n",
       "│    └─BasicBlockWithDeathRate: 2-36     [128, 32, 16, 16]         [128, 32, 16, 16]         --                        --                        --\n",
       "│    │    └─BatchNorm2d: 3-208           [128, 32, 16, 16]         [128, 32, 16, 16]         64                        --                        8,192\n",
       "│    │    └─ReLU: 3-209                  [128, 32, 16, 16]         [128, 32, 16, 16]         --                        --                        --\n",
       "│    │    └─Conv2d: 3-210                [128, 32, 16, 16]         [128, 32, 16, 16]         9,216                     [3, 3]                    301,989,888\n",
       "│    │    └─BatchNorm2d: 3-211           [128, 32, 16, 16]         [128, 32, 16, 16]         64                        --                        8,192\n",
       "│    │    └─ReLU: 3-212                  [128, 32, 16, 16]         [128, 32, 16, 16]         --                        --                        --\n",
       "│    │    └─Conv2d: 3-213                [128, 32, 16, 16]         [128, 32, 16, 16]         9,216                     [3, 3]                    301,989,888\n",
       "│    └─BasicBlockWithDeathRate: 2-37     [128, 32, 16, 16]         [128, 32, 16, 16]         --                        --                        --\n",
       "│    │    └─BatchNorm2d: 3-214           [128, 32, 16, 16]         [128, 32, 16, 16]         64                        --                        8,192\n",
       "│    │    └─ReLU: 3-215                  [128, 32, 16, 16]         [128, 32, 16, 16]         --                        --                        --\n",
       "│    │    └─Conv2d: 3-216                [128, 32, 16, 16]         [128, 32, 16, 16]         9,216                     [3, 3]                    301,989,888\n",
       "│    │    └─BatchNorm2d: 3-217           [128, 32, 16, 16]         [128, 32, 16, 16]         64                        --                        8,192\n",
       "│    │    └─ReLU: 3-218                  [128, 32, 16, 16]         [128, 32, 16, 16]         --                        --                        --\n",
       "│    │    └─Conv2d: 3-219                [128, 32, 16, 16]         [128, 32, 16, 16]         9,216                     [3, 3]                    301,989,888\n",
       "├─Downsample: 1-5                        [128, 32, 16, 16]         [128, 64, 8, 8]           --                        --                        --\n",
       "│    └─Sequential: 2-38                  [128, 32, 16, 16]         [128, 64, 8, 8]           --                        --                        --\n",
       "│    │    └─BatchNorm2d: 3-220           [128, 32, 16, 16]         [128, 32, 16, 16]         64                        --                        8,192\n",
       "│    │    └─ReLU: 3-221                  [128, 32, 16, 16]         [128, 32, 16, 16]         --                        --                        --\n",
       "│    │    └─Conv2d: 3-222                [128, 32, 16, 16]         [128, 64, 8, 8]           2,048                     [1, 1]                    16,777,216\n",
       "├─ModuleList: 1-6                        --                        --                        (recursive)               --                        --\n",
       "│    └─BasicBlockWithDeathRate: 2-39     [128, 32, 16, 16]         [128, 64, 8, 8]           --                        --                        --\n",
       "│    │    └─BatchNorm2d: 3-223           [128, 32, 16, 16]         [128, 32, 16, 16]         64                        --                        8,192\n",
       "│    │    └─ReLU: 3-224                  [128, 32, 16, 16]         [128, 32, 16, 16]         --                        --                        --\n",
       "│    │    └─Conv2d: 3-225                [128, 32, 16, 16]         [128, 64, 8, 8]           18,432                    [3, 3]                    150,994,944\n",
       "│    │    └─BatchNorm2d: 3-226           [128, 64, 8, 8]           [128, 64, 8, 8]           128                       --                        16,384\n",
       "│    │    └─ReLU: 3-227                  [128, 64, 8, 8]           [128, 64, 8, 8]           --                        --                        --\n",
       "│    │    └─Conv2d: 3-228                [128, 64, 8, 8]           [128, 64, 8, 8]           36,864                    [3, 3]                    301,989,888\n",
       "│    └─BasicBlockWithDeathRate: 2-40     [128, 64, 8, 8]           [128, 64, 8, 8]           --                        --                        --\n",
       "│    │    └─BatchNorm2d: 3-229           [128, 64, 8, 8]           [128, 64, 8, 8]           128                       --                        16,384\n",
       "│    │    └─ReLU: 3-230                  [128, 64, 8, 8]           [128, 64, 8, 8]           --                        --                        --\n",
       "│    │    └─Conv2d: 3-231                [128, 64, 8, 8]           [128, 64, 8, 8]           36,864                    [3, 3]                    301,989,888\n",
       "│    │    └─BatchNorm2d: 3-232           [128, 64, 8, 8]           [128, 64, 8, 8]           128                       --                        16,384\n",
       "│    │    └─ReLU: 3-233                  [128, 64, 8, 8]           [128, 64, 8, 8]           --                        --                        --\n",
       "│    │    └─Conv2d: 3-234                [128, 64, 8, 8]           [128, 64, 8, 8]           36,864                    [3, 3]                    301,989,888\n",
       "│    └─BasicBlockWithDeathRate: 2-41     [128, 64, 8, 8]           [128, 64, 8, 8]           --                        --                        --\n",
       "│    │    └─BatchNorm2d: 3-235           [128, 64, 8, 8]           [128, 64, 8, 8]           128                       --                        16,384\n",
       "│    │    └─ReLU: 3-236                  [128, 64, 8, 8]           [128, 64, 8, 8]           --                        --                        --\n",
       "│    │    └─Conv2d: 3-237                [128, 64, 8, 8]           [128, 64, 8, 8]           36,864                    [3, 3]                    301,989,888\n",
       "│    │    └─BatchNorm2d: 3-238           [128, 64, 8, 8]           [128, 64, 8, 8]           128                       --                        16,384\n",
       "│    │    └─ReLU: 3-239                  [128, 64, 8, 8]           [128, 64, 8, 8]           --                        --                        --\n",
       "│    │    └─Conv2d: 3-240                [128, 64, 8, 8]           [128, 64, 8, 8]           36,864                    [3, 3]                    301,989,888\n",
       "│    └─BasicBlockWithDeathRate: 2-42     [128, 64, 8, 8]           [128, 64, 8, 8]           --                        --                        --\n",
       "│    │    └─BatchNorm2d: 3-241           [128, 64, 8, 8]           [128, 64, 8, 8]           128                       --                        16,384\n",
       "│    │    └─ReLU: 3-242                  [128, 64, 8, 8]           [128, 64, 8, 8]           --                        --                        --\n",
       "│    │    └─Conv2d: 3-243                [128, 64, 8, 8]           [128, 64, 8, 8]           36,864                    [3, 3]                    301,989,888\n",
       "│    │    └─BatchNorm2d: 3-244           [128, 64, 8, 8]           [128, 64, 8, 8]           128                       --                        16,384\n",
       "│    │    └─ReLU: 3-245                  [128, 64, 8, 8]           [128, 64, 8, 8]           --                        --                        --\n",
       "│    │    └─Conv2d: 3-246                [128, 64, 8, 8]           [128, 64, 8, 8]           36,864                    [3, 3]                    301,989,888\n",
       "│    └─BasicBlockWithDeathRate: 2-43     [128, 64, 8, 8]           [128, 64, 8, 8]           --                        --                        --\n",
       "│    │    └─BatchNorm2d: 3-247           [128, 64, 8, 8]           [128, 64, 8, 8]           128                       --                        16,384\n",
       "│    │    └─ReLU: 3-248                  [128, 64, 8, 8]           [128, 64, 8, 8]           --                        --                        --\n",
       "│    │    └─Conv2d: 3-249                [128, 64, 8, 8]           [128, 64, 8, 8]           36,864                    [3, 3]                    301,989,888\n",
       "│    │    └─BatchNorm2d: 3-250           [128, 64, 8, 8]           [128, 64, 8, 8]           128                       --                        16,384\n",
       "│    │    └─ReLU: 3-251                  [128, 64, 8, 8]           [128, 64, 8, 8]           --                        --                        --\n",
       "│    │    └─Conv2d: 3-252                [128, 64, 8, 8]           [128, 64, 8, 8]           36,864                    [3, 3]                    301,989,888\n",
       "│    └─BasicBlockWithDeathRate: 2-44     [128, 64, 8, 8]           [128, 64, 8, 8]           --                        --                        --\n",
       "│    │    └─BatchNorm2d: 3-253           [128, 64, 8, 8]           [128, 64, 8, 8]           128                       --                        16,384\n",
       "│    │    └─ReLU: 3-254                  [128, 64, 8, 8]           [128, 64, 8, 8]           --                        --                        --\n",
       "│    │    └─Conv2d: 3-255                [128, 64, 8, 8]           [128, 64, 8, 8]           36,864                    [3, 3]                    301,989,888\n",
       "│    │    └─BatchNorm2d: 3-256           [128, 64, 8, 8]           [128, 64, 8, 8]           128                       --                        16,384\n",
       "│    │    └─ReLU: 3-257                  [128, 64, 8, 8]           [128, 64, 8, 8]           --                        --                        --\n",
       "│    │    └─Conv2d: 3-258                [128, 64, 8, 8]           [128, 64, 8, 8]           36,864                    [3, 3]                    301,989,888\n",
       "│    └─BasicBlockWithDeathRate: 2-45     [128, 64, 8, 8]           [128, 64, 8, 8]           --                        --                        --\n",
       "│    │    └─BatchNorm2d: 3-259           [128, 64, 8, 8]           [128, 64, 8, 8]           128                       --                        16,384\n",
       "│    │    └─ReLU: 3-260                  [128, 64, 8, 8]           [128, 64, 8, 8]           --                        --                        --\n",
       "│    │    └─Conv2d: 3-261                [128, 64, 8, 8]           [128, 64, 8, 8]           36,864                    [3, 3]                    301,989,888\n",
       "│    │    └─BatchNorm2d: 3-262           [128, 64, 8, 8]           [128, 64, 8, 8]           128                       --                        16,384\n",
       "│    │    └─ReLU: 3-263                  [128, 64, 8, 8]           [128, 64, 8, 8]           --                        --                        --\n",
       "│    │    └─Conv2d: 3-264                [128, 64, 8, 8]           [128, 64, 8, 8]           36,864                    [3, 3]                    301,989,888\n",
       "│    └─BasicBlockWithDeathRate: 2-46     [128, 64, 8, 8]           [128, 64, 8, 8]           --                        --                        --\n",
       "│    │    └─BatchNorm2d: 3-265           [128, 64, 8, 8]           [128, 64, 8, 8]           128                       --                        16,384\n",
       "│    │    └─ReLU: 3-266                  [128, 64, 8, 8]           [128, 64, 8, 8]           --                        --                        --\n",
       "│    │    └─Conv2d: 3-267                [128, 64, 8, 8]           [128, 64, 8, 8]           36,864                    [3, 3]                    301,989,888\n",
       "│    │    └─BatchNorm2d: 3-268           [128, 64, 8, 8]           [128, 64, 8, 8]           128                       --                        16,384\n",
       "│    │    └─ReLU: 3-269                  [128, 64, 8, 8]           [128, 64, 8, 8]           --                        --                        --\n",
       "│    │    └─Conv2d: 3-270                [128, 64, 8, 8]           [128, 64, 8, 8]           36,864                    [3, 3]                    301,989,888\n",
       "│    └─BasicBlockWithDeathRate: 2-47     [128, 64, 8, 8]           [128, 64, 8, 8]           --                        --                        --\n",
       "│    │    └─BatchNorm2d: 3-271           [128, 64, 8, 8]           [128, 64, 8, 8]           128                       --                        16,384\n",
       "│    │    └─ReLU: 3-272                  [128, 64, 8, 8]           [128, 64, 8, 8]           --                        --                        --\n",
       "│    │    └─Conv2d: 3-273                [128, 64, 8, 8]           [128, 64, 8, 8]           36,864                    [3, 3]                    301,989,888\n",
       "│    │    └─BatchNorm2d: 3-274           [128, 64, 8, 8]           [128, 64, 8, 8]           128                       --                        16,384\n",
       "│    │    └─ReLU: 3-275                  [128, 64, 8, 8]           [128, 64, 8, 8]           --                        --                        --\n",
       "│    │    └─Conv2d: 3-276                [128, 64, 8, 8]           [128, 64, 8, 8]           36,864                    [3, 3]                    301,989,888\n",
       "│    └─BasicBlockWithDeathRate: 2-48     [128, 64, 8, 8]           [128, 64, 8, 8]           --                        --                        --\n",
       "│    │    └─BatchNorm2d: 3-277           [128, 64, 8, 8]           [128, 64, 8, 8]           128                       --                        16,384\n",
       "│    │    └─ReLU: 3-278                  [128, 64, 8, 8]           [128, 64, 8, 8]           --                        --                        --\n",
       "│    │    └─Conv2d: 3-279                [128, 64, 8, 8]           [128, 64, 8, 8]           36,864                    [3, 3]                    301,989,888\n",
       "│    │    └─BatchNorm2d: 3-280           [128, 64, 8, 8]           [128, 64, 8, 8]           128                       --                        16,384\n",
       "│    │    └─ReLU: 3-281                  [128, 64, 8, 8]           [128, 64, 8, 8]           --                        --                        --\n",
       "│    │    └─Conv2d: 3-282                [128, 64, 8, 8]           [128, 64, 8, 8]           36,864                    [3, 3]                    301,989,888\n",
       "│    └─BasicBlockWithDeathRate: 2-49     [128, 64, 8, 8]           [128, 64, 8, 8]           --                        --                        --\n",
       "│    │    └─BatchNorm2d: 3-283           [128, 64, 8, 8]           [128, 64, 8, 8]           128                       --                        16,384\n",
       "│    │    └─ReLU: 3-284                  [128, 64, 8, 8]           [128, 64, 8, 8]           --                        --                        --\n",
       "│    │    └─Conv2d: 3-285                [128, 64, 8, 8]           [128, 64, 8, 8]           36,864                    [3, 3]                    301,989,888\n",
       "│    │    └─BatchNorm2d: 3-286           [128, 64, 8, 8]           [128, 64, 8, 8]           128                       --                        16,384\n",
       "│    │    └─ReLU: 3-287                  [128, 64, 8, 8]           [128, 64, 8, 8]           --                        --                        --\n",
       "│    │    └─Conv2d: 3-288                [128, 64, 8, 8]           [128, 64, 8, 8]           36,864                    [3, 3]                    301,989,888\n",
       "│    └─BasicBlockWithDeathRate: 2-50     [128, 64, 8, 8]           [128, 64, 8, 8]           --                        --                        --\n",
       "│    │    └─BatchNorm2d: 3-289           [128, 64, 8, 8]           [128, 64, 8, 8]           128                       --                        16,384\n",
       "│    │    └─ReLU: 3-290                  [128, 64, 8, 8]           [128, 64, 8, 8]           --                        --                        --\n",
       "│    │    └─Conv2d: 3-291                [128, 64, 8, 8]           [128, 64, 8, 8]           36,864                    [3, 3]                    301,989,888\n",
       "│    │    └─BatchNorm2d: 3-292           [128, 64, 8, 8]           [128, 64, 8, 8]           128                       --                        16,384\n",
       "│    │    └─ReLU: 3-293                  [128, 64, 8, 8]           [128, 64, 8, 8]           --                        --                        --\n",
       "│    │    └─Conv2d: 3-294                [128, 64, 8, 8]           [128, 64, 8, 8]           36,864                    [3, 3]                    301,989,888\n",
       "│    └─BasicBlockWithDeathRate: 2-51     [128, 64, 8, 8]           [128, 64, 8, 8]           --                        --                        --\n",
       "│    │    └─BatchNorm2d: 3-295           [128, 64, 8, 8]           [128, 64, 8, 8]           128                       --                        16,384\n",
       "│    │    └─ReLU: 3-296                  [128, 64, 8, 8]           [128, 64, 8, 8]           --                        --                        --\n",
       "│    │    └─Conv2d: 3-297                [128, 64, 8, 8]           [128, 64, 8, 8]           36,864                    [3, 3]                    301,989,888\n",
       "│    │    └─BatchNorm2d: 3-298           [128, 64, 8, 8]           [128, 64, 8, 8]           128                       --                        16,384\n",
       "│    │    └─ReLU: 3-299                  [128, 64, 8, 8]           [128, 64, 8, 8]           --                        --                        --\n",
       "│    │    └─Conv2d: 3-300                [128, 64, 8, 8]           [128, 64, 8, 8]           36,864                    [3, 3]                    301,989,888\n",
       "│    └─BasicBlockWithDeathRate: 2-52     [128, 64, 8, 8]           [128, 64, 8, 8]           --                        --                        --\n",
       "│    │    └─BatchNorm2d: 3-301           [128, 64, 8, 8]           [128, 64, 8, 8]           128                       --                        16,384\n",
       "│    │    └─ReLU: 3-302                  [128, 64, 8, 8]           [128, 64, 8, 8]           --                        --                        --\n",
       "│    │    └─Conv2d: 3-303                [128, 64, 8, 8]           [128, 64, 8, 8]           36,864                    [3, 3]                    301,989,888\n",
       "│    │    └─BatchNorm2d: 3-304           [128, 64, 8, 8]           [128, 64, 8, 8]           128                       --                        16,384\n",
       "│    │    └─ReLU: 3-305                  [128, 64, 8, 8]           [128, 64, 8, 8]           --                        --                        --\n",
       "│    │    └─Conv2d: 3-306                [128, 64, 8, 8]           [128, 64, 8, 8]           36,864                    [3, 3]                    301,989,888\n",
       "│    └─BasicBlockWithDeathRate: 2-53     [128, 64, 8, 8]           [128, 64, 8, 8]           --                        --                        --\n",
       "│    │    └─BatchNorm2d: 3-307           [128, 64, 8, 8]           [128, 64, 8, 8]           128                       --                        16,384\n",
       "│    │    └─ReLU: 3-308                  [128, 64, 8, 8]           [128, 64, 8, 8]           --                        --                        --\n",
       "│    │    └─Conv2d: 3-309                [128, 64, 8, 8]           [128, 64, 8, 8]           36,864                    [3, 3]                    301,989,888\n",
       "│    │    └─BatchNorm2d: 3-310           [128, 64, 8, 8]           [128, 64, 8, 8]           128                       --                        16,384\n",
       "│    │    └─ReLU: 3-311                  [128, 64, 8, 8]           [128, 64, 8, 8]           --                        --                        --\n",
       "│    │    └─Conv2d: 3-312                [128, 64, 8, 8]           [128, 64, 8, 8]           36,864                    [3, 3]                    301,989,888\n",
       "│    └─BasicBlockWithDeathRate: 2-54     [128, 64, 8, 8]           [128, 64, 8, 8]           --                        --                        --\n",
       "│    │    └─BatchNorm2d: 3-313           [128, 64, 8, 8]           [128, 64, 8, 8]           128                       --                        16,384\n",
       "│    │    └─ReLU: 3-314                  [128, 64, 8, 8]           [128, 64, 8, 8]           --                        --                        --\n",
       "│    │    └─Conv2d: 3-315                [128, 64, 8, 8]           [128, 64, 8, 8]           36,864                    [3, 3]                    301,989,888\n",
       "│    │    └─BatchNorm2d: 3-316           [128, 64, 8, 8]           [128, 64, 8, 8]           128                       --                        16,384\n",
       "│    │    └─ReLU: 3-317                  [128, 64, 8, 8]           [128, 64, 8, 8]           --                        --                        --\n",
       "│    │    └─Conv2d: 3-318                [128, 64, 8, 8]           [128, 64, 8, 8]           36,864                    [3, 3]                    301,989,888\n",
       "│    └─BasicBlockWithDeathRate: 2-55     [128, 64, 8, 8]           [128, 64, 8, 8]           --                        --                        --\n",
       "│    │    └─BatchNorm2d: 3-319           [128, 64, 8, 8]           [128, 64, 8, 8]           128                       --                        16,384\n",
       "│    │    └─ReLU: 3-320                  [128, 64, 8, 8]           [128, 64, 8, 8]           --                        --                        --\n",
       "│    │    └─Conv2d: 3-321                [128, 64, 8, 8]           [128, 64, 8, 8]           36,864                    [3, 3]                    301,989,888\n",
       "│    │    └─BatchNorm2d: 3-322           [128, 64, 8, 8]           [128, 64, 8, 8]           128                       --                        16,384\n",
       "│    │    └─ReLU: 3-323                  [128, 64, 8, 8]           [128, 64, 8, 8]           --                        --                        --\n",
       "│    │    └─Conv2d: 3-324                [128, 64, 8, 8]           [128, 64, 8, 8]           36,864                    [3, 3]                    301,989,888\n",
       "│    └─BasicBlockWithDeathRate: 2-56     [128, 64, 8, 8]           [128, 64, 8, 8]           --                        --                        --\n",
       "│    │    └─BatchNorm2d: 3-325           [128, 64, 8, 8]           [128, 64, 8, 8]           128                       --                        16,384\n",
       "│    │    └─ReLU: 3-326                  [128, 64, 8, 8]           [128, 64, 8, 8]           --                        --                        --\n",
       "│    │    └─Conv2d: 3-327                [128, 64, 8, 8]           [128, 64, 8, 8]           36,864                    [3, 3]                    301,989,888\n",
       "│    │    └─BatchNorm2d: 3-328           [128, 64, 8, 8]           [128, 64, 8, 8]           128                       --                        16,384\n",
       "│    │    └─ReLU: 3-329                  [128, 64, 8, 8]           [128, 64, 8, 8]           --                        --                        --\n",
       "│    │    └─Conv2d: 3-330                [128, 64, 8, 8]           [128, 64, 8, 8]           36,864                    [3, 3]                    301,989,888\n",
       "├─BatchNorm2d: 1-7                       [128, 64, 8, 8]           [128, 64, 8, 8]           128                       --                        16,384\n",
       "├─ReLU: 1-8                              [128, 64, 8, 8]           [128, 64, 8, 8]           --                        --                        --\n",
       "├─AvgPool2d: 1-9                         [128, 64, 8, 8]           [128, 64, 1, 1]           --                        8                         --\n",
       "├─Linear: 1-10                           [128, 64]                 [128, 10]                 650                       --                        83,200\n",
       "=====================================================================================================================================================================\n",
       "Total params: 1,731,760\n",
       "Trainable params: 1,731,760\n",
       "Non-trainable params: 0\n",
       "Total mult-adds (G): 32.40\n",
       "=====================================================================================================================================================================\n",
       "Input size (MB): 1.57\n",
       "Forward/backward pass size (MB): 2185.24\n",
       "Params size (MB): 6.92\n",
       "Estimated Total Size (MB): 2193.74\n",
       "====================================================================================================================================================================="
      ]
     },
     "execution_count": 5,
     "metadata": {},
     "output_type": "execute_result"
    }
   ],
   "source": [
    "net = MResNet(BasicBlockWithDeathRate, [18,18,18], num_classes=10, stochastic_depth=True, PL=0.5, pretrain=False)\n",
    "net.cuda()\n",
    "model_name = \"MResNet110-SD\"\n",
    "\n",
    "from pathlib import Path\n",
    "\n",
    "p = Path(f\"{model_name}.txt\")\n",
    "if p.exists():\n",
    "    p.unlink()\n",
    "\n",
    "summary(\n",
    "    net,\n",
    "    input_size=(batch_size, 3, 32, 32),\n",
    "    depth=5,\n",
    "    col_names=[\n",
    "        \"input_size\",\n",
    "        \"output_size\",\n",
    "        \"num_params\",\n",
    "        \"kernel_size\",\n",
    "        \"mult_adds\",\n",
    "    ],\n",
    ")"
   ]
  },
  {
   "cell_type": "code",
   "execution_count": 6,
   "metadata": {},
   "outputs": [
    {
     "name": "stderr",
     "output_type": "stream",
     "text": [
      "391it [00:51,  7.66it/s]"
     ]
    },
    {
     "name": "stdout",
     "output_type": "stream",
     "text": [
      "Epoch 1 finished, average loss: 0.0140781975\n",
      "Starting testing\n"
     ]
    },
    {
     "name": "stderr",
     "output_type": "stream",
     "text": [
      "\n"
     ]
    },
    {
     "name": "stdout",
     "output_type": "stream",
     "text": [
      "Correct: 4376, total: 10000, accuracy: 0.4375999868, average loss: 0.0118744613\n"
     ]
    },
    {
     "name": "stderr",
     "output_type": "stream",
     "text": [
      "391it [00:54,  7.23it/s]"
     ]
    },
    {
     "name": "stdout",
     "output_type": "stream",
     "text": [
      "Epoch 2 finished, average loss: 0.0109135315\n",
      "Starting testing\n"
     ]
    },
    {
     "name": "stderr",
     "output_type": "stream",
     "text": [
      "\n"
     ]
    },
    {
     "name": "stdout",
     "output_type": "stream",
     "text": [
      "Correct: 4824, total: 10000, accuracy: 0.4824000001, average loss: 0.0117962975\n"
     ]
    },
    {
     "name": "stderr",
     "output_type": "stream",
     "text": [
      "391it [00:54,  7.22it/s]"
     ]
    },
    {
     "name": "stdout",
     "output_type": "stream",
     "text": [
      "Epoch 3 finished, average loss: 0.0089388818\n",
      "Starting testing\n"
     ]
    },
    {
     "name": "stderr",
     "output_type": "stream",
     "text": [
      "\n"
     ]
    },
    {
     "name": "stdout",
     "output_type": "stream",
     "text": [
      "Correct: 5321, total: 10000, accuracy: 0.5320999622, average loss: 0.0107422178\n"
     ]
    },
    {
     "name": "stderr",
     "output_type": "stream",
     "text": [
      "391it [00:55,  7.10it/s]"
     ]
    },
    {
     "name": "stdout",
     "output_type": "stream",
     "text": [
      "Epoch 4 finished, average loss: 0.0076709589\n",
      "Starting testing\n"
     ]
    },
    {
     "name": "stderr",
     "output_type": "stream",
     "text": [
      "\n"
     ]
    },
    {
     "name": "stdout",
     "output_type": "stream",
     "text": [
      "Correct: 6532, total: 10000, accuracy: 0.6531999707, average loss: 0.0079781994\n"
     ]
    },
    {
     "name": "stderr",
     "output_type": "stream",
     "text": [
      "391it [00:54,  7.23it/s]"
     ]
    },
    {
     "name": "stdout",
     "output_type": "stream",
     "text": [
      "Epoch 5 finished, average loss: 0.0068136879\n",
      "Starting testing\n"
     ]
    },
    {
     "name": "stderr",
     "output_type": "stream",
     "text": [
      "\n"
     ]
    },
    {
     "name": "stdout",
     "output_type": "stream",
     "text": [
      "Correct: 6272, total: 10000, accuracy: 0.6272000074, average loss: 0.0084149421\n"
     ]
    },
    {
     "name": "stderr",
     "output_type": "stream",
     "text": [
      "391it [00:53,  7.31it/s]"
     ]
    },
    {
     "name": "stdout",
     "output_type": "stream",
     "text": [
      "Epoch 6 finished, average loss: 0.0063404421\n",
      "Starting testing\n"
     ]
    },
    {
     "name": "stderr",
     "output_type": "stream",
     "text": [
      "\n"
     ]
    },
    {
     "name": "stdout",
     "output_type": "stream",
     "text": [
      "Correct: 7036, total: 10000, accuracy: 0.7035999894, average loss: 0.0066911240\n"
     ]
    },
    {
     "name": "stderr",
     "output_type": "stream",
     "text": [
      "391it [00:52,  7.44it/s]"
     ]
    },
    {
     "name": "stdout",
     "output_type": "stream",
     "text": [
      "Epoch 7 finished, average loss: 0.0058048898\n",
      "Starting testing\n"
     ]
    },
    {
     "name": "stderr",
     "output_type": "stream",
     "text": [
      "\n"
     ]
    },
    {
     "name": "stdout",
     "output_type": "stream",
     "text": [
      "Correct: 7412, total: 10000, accuracy: 0.7411999702, average loss: 0.0058933426\n"
     ]
    },
    {
     "name": "stderr",
     "output_type": "stream",
     "text": [
      "391it [00:51,  7.56it/s]"
     ]
    },
    {
     "name": "stdout",
     "output_type": "stream",
     "text": [
      "Epoch 8 finished, average loss: 0.0054029667\n",
      "Starting testing\n"
     ]
    },
    {
     "name": "stderr",
     "output_type": "stream",
     "text": [
      "\n"
     ]
    },
    {
     "name": "stdout",
     "output_type": "stream",
     "text": [
      "Correct: 7724, total: 10000, accuracy: 0.7723999619, average loss: 0.0051995255\n"
     ]
    },
    {
     "name": "stderr",
     "output_type": "stream",
     "text": [
      "391it [00:51,  7.54it/s]"
     ]
    },
    {
     "name": "stdout",
     "output_type": "stream",
     "text": [
      "Epoch 9 finished, average loss: 0.0050776621\n",
      "Starting testing\n"
     ]
    },
    {
     "name": "stderr",
     "output_type": "stream",
     "text": [
      "\n"
     ]
    },
    {
     "name": "stdout",
     "output_type": "stream",
     "text": [
      "Correct: 7817, total: 10000, accuracy: 0.7816999555, average loss: 0.0049582547\n"
     ]
    },
    {
     "name": "stderr",
     "output_type": "stream",
     "text": [
      "391it [00:51,  7.57it/s]"
     ]
    },
    {
     "name": "stdout",
     "output_type": "stream",
     "text": [
      "Epoch 10 finished, average loss: 0.0048560231\n",
      "Starting testing\n"
     ]
    },
    {
     "name": "stderr",
     "output_type": "stream",
     "text": [
      "\n"
     ]
    },
    {
     "name": "stdout",
     "output_type": "stream",
     "text": [
      "Correct: 7490, total: 10000, accuracy: 0.7489999533, average loss: 0.0057647044\n"
     ]
    },
    {
     "name": "stderr",
     "output_type": "stream",
     "text": [
      "391it [00:51,  7.64it/s]"
     ]
    },
    {
     "name": "stdout",
     "output_type": "stream",
     "text": [
      "Epoch 11 finished, average loss: 0.0045325472\n",
      "Starting testing\n"
     ]
    },
    {
     "name": "stderr",
     "output_type": "stream",
     "text": [
      "\n"
     ]
    },
    {
     "name": "stdout",
     "output_type": "stream",
     "text": [
      "Correct: 7816, total: 10000, accuracy: 0.7815999985, average loss: 0.0050558355\n"
     ]
    },
    {
     "name": "stderr",
     "output_type": "stream",
     "text": [
      "391it [00:51,  7.58it/s]"
     ]
    },
    {
     "name": "stdout",
     "output_type": "stream",
     "text": [
      "Epoch 12 finished, average loss: 0.0043747552\n",
      "Starting testing\n"
     ]
    },
    {
     "name": "stderr",
     "output_type": "stream",
     "text": [
      "\n"
     ]
    },
    {
     "name": "stdout",
     "output_type": "stream",
     "text": [
      "Correct: 7848, total: 10000, accuracy: 0.7847999930, average loss: 0.0050675888\n"
     ]
    },
    {
     "name": "stderr",
     "output_type": "stream",
     "text": [
      "391it [00:53,  7.32it/s]"
     ]
    },
    {
     "name": "stdout",
     "output_type": "stream",
     "text": [
      "Epoch 13 finished, average loss: 0.0041759654\n",
      "Starting testing\n"
     ]
    },
    {
     "name": "stderr",
     "output_type": "stream",
     "text": [
      "\n"
     ]
    },
    {
     "name": "stdout",
     "output_type": "stream",
     "text": [
      "Correct: 7726, total: 10000, accuracy: 0.7725999951, average loss: 0.0051984773\n"
     ]
    },
    {
     "name": "stderr",
     "output_type": "stream",
     "text": [
      "391it [00:52,  7.39it/s]"
     ]
    },
    {
     "name": "stdout",
     "output_type": "stream",
     "text": [
      "Epoch 14 finished, average loss: 0.0040246439\n",
      "Starting testing\n"
     ]
    },
    {
     "name": "stderr",
     "output_type": "stream",
     "text": [
      "\n"
     ]
    },
    {
     "name": "stdout",
     "output_type": "stream",
     "text": [
      "Correct: 8134, total: 10000, accuracy: 0.8133999705, average loss: 0.0044190367\n"
     ]
    },
    {
     "name": "stderr",
     "output_type": "stream",
     "text": [
      "391it [00:52,  7.42it/s]"
     ]
    },
    {
     "name": "stdout",
     "output_type": "stream",
     "text": [
      "Epoch 15 finished, average loss: 0.0039411504\n",
      "Starting testing\n"
     ]
    },
    {
     "name": "stderr",
     "output_type": "stream",
     "text": [
      "\n"
     ]
    },
    {
     "name": "stdout",
     "output_type": "stream",
     "text": [
      "Correct: 8031, total: 10000, accuracy: 0.8030999899, average loss: 0.0045319061\n"
     ]
    },
    {
     "name": "stderr",
     "output_type": "stream",
     "text": [
      "391it [00:51,  7.60it/s]"
     ]
    },
    {
     "name": "stdout",
     "output_type": "stream",
     "text": [
      "Epoch 16 finished, average loss: 0.0038086263\n",
      "Starting testing\n"
     ]
    },
    {
     "name": "stderr",
     "output_type": "stream",
     "text": [
      "\n"
     ]
    },
    {
     "name": "stdout",
     "output_type": "stream",
     "text": [
      "Correct: 8358, total: 10000, accuracy: 0.8357999921, average loss: 0.0037909053\n"
     ]
    },
    {
     "name": "stderr",
     "output_type": "stream",
     "text": [
      "391it [00:51,  7.53it/s]"
     ]
    },
    {
     "name": "stdout",
     "output_type": "stream",
     "text": [
      "Epoch 17 finished, average loss: 0.0036951425\n",
      "Starting testing\n"
     ]
    },
    {
     "name": "stderr",
     "output_type": "stream",
     "text": [
      "\n"
     ]
    },
    {
     "name": "stdout",
     "output_type": "stream",
     "text": [
      "Correct: 8325, total: 10000, accuracy: 0.8324999809, average loss: 0.0039303149\n"
     ]
    },
    {
     "name": "stderr",
     "output_type": "stream",
     "text": [
      "391it [00:51,  7.54it/s]"
     ]
    },
    {
     "name": "stdout",
     "output_type": "stream",
     "text": [
      "Epoch 18 finished, average loss: 0.0035606253\n",
      "Starting testing\n"
     ]
    },
    {
     "name": "stderr",
     "output_type": "stream",
     "text": [
      "\n"
     ]
    },
    {
     "name": "stdout",
     "output_type": "stream",
     "text": [
      "Correct: 8486, total: 10000, accuracy: 0.8485999703, average loss: 0.0035221202\n"
     ]
    },
    {
     "name": "stderr",
     "output_type": "stream",
     "text": [
      "391it [00:52,  7.42it/s]"
     ]
    },
    {
     "name": "stdout",
     "output_type": "stream",
     "text": [
      "Epoch 19 finished, average loss: 0.0034657202\n",
      "Starting testing\n"
     ]
    },
    {
     "name": "stderr",
     "output_type": "stream",
     "text": [
      "\n"
     ]
    },
    {
     "name": "stdout",
     "output_type": "stream",
     "text": [
      "Correct: 8277, total: 10000, accuracy: 0.8276999593, average loss: 0.0040085700\n"
     ]
    },
    {
     "name": "stderr",
     "output_type": "stream",
     "text": [
      "391it [00:54,  7.13it/s]"
     ]
    },
    {
     "name": "stdout",
     "output_type": "stream",
     "text": [
      "Epoch 20 finished, average loss: 0.0034407470\n",
      "Starting testing\n"
     ]
    },
    {
     "name": "stderr",
     "output_type": "stream",
     "text": [
      "\n"
     ]
    },
    {
     "name": "stdout",
     "output_type": "stream",
     "text": [
      "Correct: 8372, total: 10000, accuracy: 0.8371999860, average loss: 0.0037313653\n"
     ]
    },
    {
     "name": "stderr",
     "output_type": "stream",
     "text": [
      "391it [00:51,  7.53it/s]"
     ]
    },
    {
     "name": "stdout",
     "output_type": "stream",
     "text": [
      "Epoch 21 finished, average loss: 0.0033164631\n",
      "Starting testing\n"
     ]
    },
    {
     "name": "stderr",
     "output_type": "stream",
     "text": [
      "\n"
     ]
    },
    {
     "name": "stdout",
     "output_type": "stream",
     "text": [
      "Correct: 8275, total: 10000, accuracy: 0.8274999857, average loss: 0.0040938323\n"
     ]
    },
    {
     "name": "stderr",
     "output_type": "stream",
     "text": [
      "391it [00:52,  7.43it/s]"
     ]
    },
    {
     "name": "stdout",
     "output_type": "stream",
     "text": [
      "Epoch 22 finished, average loss: 0.0032482048\n",
      "Starting testing\n"
     ]
    },
    {
     "name": "stderr",
     "output_type": "stream",
     "text": [
      "\n"
     ]
    },
    {
     "name": "stdout",
     "output_type": "stream",
     "text": [
      "Correct: 8388, total: 10000, accuracy: 0.8387999535, average loss: 0.0039564174\n"
     ]
    },
    {
     "name": "stderr",
     "output_type": "stream",
     "text": [
      "391it [00:52,  7.39it/s]"
     ]
    },
    {
     "name": "stdout",
     "output_type": "stream",
     "text": [
      "Epoch 23 finished, average loss: 0.0032007539\n",
      "Starting testing\n"
     ]
    },
    {
     "name": "stderr",
     "output_type": "stream",
     "text": [
      "\n"
     ]
    },
    {
     "name": "stdout",
     "output_type": "stream",
     "text": [
      "Correct: 8436, total: 10000, accuracy: 0.8435999751, average loss: 0.0036143347\n"
     ]
    },
    {
     "name": "stderr",
     "output_type": "stream",
     "text": [
      "391it [00:53,  7.26it/s]"
     ]
    },
    {
     "name": "stdout",
     "output_type": "stream",
     "text": [
      "Epoch 24 finished, average loss: 0.0031067035\n",
      "Starting testing\n"
     ]
    },
    {
     "name": "stderr",
     "output_type": "stream",
     "text": [
      "\n"
     ]
    },
    {
     "name": "stdout",
     "output_type": "stream",
     "text": [
      "Correct: 8520, total: 10000, accuracy: 0.8519999981, average loss: 0.0034824001\n"
     ]
    },
    {
     "name": "stderr",
     "output_type": "stream",
     "text": [
      "391it [00:55,  7.09it/s]"
     ]
    },
    {
     "name": "stdout",
     "output_type": "stream",
     "text": [
      "Epoch 25 finished, average loss: 0.0030814975\n",
      "Starting testing\n"
     ]
    },
    {
     "name": "stderr",
     "output_type": "stream",
     "text": [
      "\n"
     ]
    },
    {
     "name": "stdout",
     "output_type": "stream",
     "text": [
      "Correct: 8471, total: 10000, accuracy: 0.8470999599, average loss: 0.0036122797\n"
     ]
    },
    {
     "name": "stderr",
     "output_type": "stream",
     "text": [
      "391it [00:55,  7.09it/s]"
     ]
    },
    {
     "name": "stdout",
     "output_type": "stream",
     "text": [
      "Epoch 26 finished, average loss: 0.0029656892\n",
      "Starting testing\n"
     ]
    },
    {
     "name": "stderr",
     "output_type": "stream",
     "text": [
      "\n"
     ]
    },
    {
     "name": "stdout",
     "output_type": "stream",
     "text": [
      "Correct: 8672, total: 10000, accuracy: 0.8671999574, average loss: 0.0031730666\n"
     ]
    },
    {
     "name": "stderr",
     "output_type": "stream",
     "text": [
      "391it [00:55,  7.08it/s]"
     ]
    },
    {
     "name": "stdout",
     "output_type": "stream",
     "text": [
      "Epoch 27 finished, average loss: 0.0029332818\n",
      "Starting testing\n"
     ]
    },
    {
     "name": "stderr",
     "output_type": "stream",
     "text": [
      "\n"
     ]
    },
    {
     "name": "stdout",
     "output_type": "stream",
     "text": [
      "Correct: 8597, total: 10000, accuracy: 0.8596999645, average loss: 0.0033983788\n"
     ]
    },
    {
     "name": "stderr",
     "output_type": "stream",
     "text": [
      "391it [00:54,  7.13it/s]"
     ]
    },
    {
     "name": "stdout",
     "output_type": "stream",
     "text": [
      "Epoch 28 finished, average loss: 0.0029396082\n",
      "Starting testing\n"
     ]
    },
    {
     "name": "stderr",
     "output_type": "stream",
     "text": [
      "\n"
     ]
    },
    {
     "name": "stdout",
     "output_type": "stream",
     "text": [
      "Correct: 8512, total: 10000, accuracy: 0.8511999846, average loss: 0.0034370154\n"
     ]
    },
    {
     "name": "stderr",
     "output_type": "stream",
     "text": [
      "391it [00:53,  7.26it/s]"
     ]
    },
    {
     "name": "stdout",
     "output_type": "stream",
     "text": [
      "Epoch 29 finished, average loss: 0.0028608433\n",
      "Starting testing\n"
     ]
    },
    {
     "name": "stderr",
     "output_type": "stream",
     "text": [
      "\n"
     ]
    },
    {
     "name": "stdout",
     "output_type": "stream",
     "text": [
      "Correct: 8651, total: 10000, accuracy: 0.8650999665, average loss: 0.0031512549\n"
     ]
    },
    {
     "name": "stderr",
     "output_type": "stream",
     "text": [
      "391it [00:53,  7.28it/s]"
     ]
    },
    {
     "name": "stdout",
     "output_type": "stream",
     "text": [
      "Epoch 30 finished, average loss: 0.0028004383\n",
      "Starting testing\n"
     ]
    },
    {
     "name": "stderr",
     "output_type": "stream",
     "text": [
      "\n"
     ]
    },
    {
     "name": "stdout",
     "output_type": "stream",
     "text": [
      "Correct: 8633, total: 10000, accuracy: 0.8632999659, average loss: 0.0032766902\n"
     ]
    },
    {
     "name": "stderr",
     "output_type": "stream",
     "text": [
      "391it [00:53,  7.35it/s]"
     ]
    },
    {
     "name": "stdout",
     "output_type": "stream",
     "text": [
      "Epoch 31 finished, average loss: 0.0028180067\n",
      "Starting testing\n"
     ]
    },
    {
     "name": "stderr",
     "output_type": "stream",
     "text": [
      "\n"
     ]
    },
    {
     "name": "stdout",
     "output_type": "stream",
     "text": [
      "Correct: 8727, total: 10000, accuracy: 0.8726999760, average loss: 0.0029485462\n"
     ]
    },
    {
     "name": "stderr",
     "output_type": "stream",
     "text": [
      "391it [00:52,  7.41it/s]"
     ]
    },
    {
     "name": "stdout",
     "output_type": "stream",
     "text": [
      "Epoch 32 finished, average loss: 0.0027013822\n",
      "Starting testing\n"
     ]
    },
    {
     "name": "stderr",
     "output_type": "stream",
     "text": [
      "\n"
     ]
    },
    {
     "name": "stdout",
     "output_type": "stream",
     "text": [
      "Correct: 8620, total: 10000, accuracy: 0.8619999886, average loss: 0.0032916601\n"
     ]
    },
    {
     "name": "stderr",
     "output_type": "stream",
     "text": [
      "391it [00:54,  7.17it/s]"
     ]
    },
    {
     "name": "stdout",
     "output_type": "stream",
     "text": [
      "Epoch 33 finished, average loss: 0.0027242307\n",
      "Starting testing\n"
     ]
    },
    {
     "name": "stderr",
     "output_type": "stream",
     "text": [
      "\n"
     ]
    },
    {
     "name": "stdout",
     "output_type": "stream",
     "text": [
      "Correct: 8582, total: 10000, accuracy: 0.8581999540, average loss: 0.0032893667\n"
     ]
    },
    {
     "name": "stderr",
     "output_type": "stream",
     "text": [
      "391it [00:54,  7.15it/s]"
     ]
    },
    {
     "name": "stdout",
     "output_type": "stream",
     "text": [
      "Epoch 34 finished, average loss: 0.0027044393\n",
      "Starting testing\n"
     ]
    },
    {
     "name": "stderr",
     "output_type": "stream",
     "text": [
      "\n"
     ]
    },
    {
     "name": "stdout",
     "output_type": "stream",
     "text": [
      "Correct: 8707, total: 10000, accuracy: 0.8707000017, average loss: 0.0030262404\n"
     ]
    },
    {
     "name": "stderr",
     "output_type": "stream",
     "text": [
      "391it [00:54,  7.19it/s]"
     ]
    },
    {
     "name": "stdout",
     "output_type": "stream",
     "text": [
      "Epoch 35 finished, average loss: 0.0026084772\n",
      "Starting testing\n"
     ]
    },
    {
     "name": "stderr",
     "output_type": "stream",
     "text": [
      "\n"
     ]
    },
    {
     "name": "stdout",
     "output_type": "stream",
     "text": [
      "Correct: 8543, total: 10000, accuracy: 0.8542999625, average loss: 0.0035304841\n"
     ]
    },
    {
     "name": "stderr",
     "output_type": "stream",
     "text": [
      "391it [00:54,  7.21it/s]"
     ]
    },
    {
     "name": "stdout",
     "output_type": "stream",
     "text": [
      "Epoch 36 finished, average loss: 0.0026243364\n",
      "Starting testing\n"
     ]
    },
    {
     "name": "stderr",
     "output_type": "stream",
     "text": [
      "\n"
     ]
    },
    {
     "name": "stdout",
     "output_type": "stream",
     "text": [
      "Correct: 8757, total: 10000, accuracy: 0.8756999969, average loss: 0.0029684440\n"
     ]
    },
    {
     "name": "stderr",
     "output_type": "stream",
     "text": [
      "391it [00:54,  7.14it/s]"
     ]
    },
    {
     "name": "stdout",
     "output_type": "stream",
     "text": [
      "Epoch 37 finished, average loss: 0.0025764313\n",
      "Starting testing\n"
     ]
    },
    {
     "name": "stderr",
     "output_type": "stream",
     "text": [
      "\n"
     ]
    },
    {
     "name": "stdout",
     "output_type": "stream",
     "text": [
      "Correct: 8777, total: 10000, accuracy: 0.8776999712, average loss: 0.0028593850\n"
     ]
    },
    {
     "name": "stderr",
     "output_type": "stream",
     "text": [
      "391it [00:55,  7.03it/s]"
     ]
    },
    {
     "name": "stdout",
     "output_type": "stream",
     "text": [
      "Epoch 38 finished, average loss: 0.0025266273\n",
      "Starting testing\n"
     ]
    },
    {
     "name": "stderr",
     "output_type": "stream",
     "text": [
      "\n"
     ]
    },
    {
     "name": "stdout",
     "output_type": "stream",
     "text": [
      "Correct: 8746, total: 10000, accuracy: 0.8745999932, average loss: 0.0029583250\n"
     ]
    },
    {
     "name": "stderr",
     "output_type": "stream",
     "text": [
      "391it [00:54,  7.12it/s]"
     ]
    },
    {
     "name": "stdout",
     "output_type": "stream",
     "text": [
      "Epoch 39 finished, average loss: 0.0025391899\n",
      "Starting testing\n"
     ]
    },
    {
     "name": "stderr",
     "output_type": "stream",
     "text": [
      "\n"
     ]
    },
    {
     "name": "stdout",
     "output_type": "stream",
     "text": [
      "Correct: 8521, total: 10000, accuracy: 0.8520999551, average loss: 0.0037507251\n"
     ]
    },
    {
     "name": "stderr",
     "output_type": "stream",
     "text": [
      "391it [00:53,  7.34it/s]"
     ]
    },
    {
     "name": "stdout",
     "output_type": "stream",
     "text": [
      "Epoch 40 finished, average loss: 0.0024293282\n",
      "Starting testing\n"
     ]
    },
    {
     "name": "stderr",
     "output_type": "stream",
     "text": [
      "\n"
     ]
    },
    {
     "name": "stdout",
     "output_type": "stream",
     "text": [
      "Correct: 8647, total: 10000, accuracy: 0.8646999598, average loss: 0.0033041222\n"
     ]
    },
    {
     "name": "stderr",
     "output_type": "stream",
     "text": [
      "391it [00:53,  7.30it/s]"
     ]
    },
    {
     "name": "stdout",
     "output_type": "stream",
     "text": [
      "Epoch 41 finished, average loss: 0.0024478782\n",
      "Starting testing\n"
     ]
    },
    {
     "name": "stderr",
     "output_type": "stream",
     "text": [
      "\n"
     ]
    },
    {
     "name": "stdout",
     "output_type": "stream",
     "text": [
      "Correct: 8494, total: 10000, accuracy: 0.8493999839, average loss: 0.0036132693\n"
     ]
    },
    {
     "name": "stderr",
     "output_type": "stream",
     "text": [
      "391it [00:52,  7.41it/s]"
     ]
    },
    {
     "name": "stdout",
     "output_type": "stream",
     "text": [
      "Epoch 42 finished, average loss: 0.0024080252\n",
      "Starting testing\n"
     ]
    },
    {
     "name": "stderr",
     "output_type": "stream",
     "text": [
      "\n"
     ]
    },
    {
     "name": "stdout",
     "output_type": "stream",
     "text": [
      "Correct: 8750, total: 10000, accuracy: 0.8750000000, average loss: 0.0030532627\n"
     ]
    },
    {
     "name": "stderr",
     "output_type": "stream",
     "text": [
      "391it [00:53,  7.36it/s]"
     ]
    },
    {
     "name": "stdout",
     "output_type": "stream",
     "text": [
      "Epoch 43 finished, average loss: 0.0024146516\n",
      "Starting testing\n"
     ]
    },
    {
     "name": "stderr",
     "output_type": "stream",
     "text": [
      "\n"
     ]
    },
    {
     "name": "stdout",
     "output_type": "stream",
     "text": [
      "Correct: 8653, total: 10000, accuracy: 0.8652999997, average loss: 0.0031887289\n"
     ]
    },
    {
     "name": "stderr",
     "output_type": "stream",
     "text": [
      "391it [00:53,  7.28it/s]"
     ]
    },
    {
     "name": "stdout",
     "output_type": "stream",
     "text": [
      "Epoch 44 finished, average loss: 0.0023876557\n",
      "Starting testing\n"
     ]
    },
    {
     "name": "stderr",
     "output_type": "stream",
     "text": [
      "\n"
     ]
    },
    {
     "name": "stdout",
     "output_type": "stream",
     "text": [
      "Correct: 8849, total: 10000, accuracy: 0.8848999739, average loss: 0.0026807025\n"
     ]
    },
    {
     "name": "stderr",
     "output_type": "stream",
     "text": [
      "391it [00:52,  7.43it/s]"
     ]
    },
    {
     "name": "stdout",
     "output_type": "stream",
     "text": [
      "Epoch 45 finished, average loss: 0.0023675967\n",
      "Starting testing\n"
     ]
    },
    {
     "name": "stderr",
     "output_type": "stream",
     "text": [
      "\n"
     ]
    },
    {
     "name": "stdout",
     "output_type": "stream",
     "text": [
      "Correct: 8711, total: 10000, accuracy: 0.8710999489, average loss: 0.0029883147\n"
     ]
    },
    {
     "name": "stderr",
     "output_type": "stream",
     "text": [
      "391it [00:52,  7.38it/s]"
     ]
    },
    {
     "name": "stdout",
     "output_type": "stream",
     "text": [
      "Epoch 46 finished, average loss: 0.0023847679\n",
      "Starting testing\n"
     ]
    },
    {
     "name": "stderr",
     "output_type": "stream",
     "text": [
      "\n"
     ]
    },
    {
     "name": "stdout",
     "output_type": "stream",
     "text": [
      "Correct: 8760, total: 10000, accuracy: 0.8759999871, average loss: 0.0029874330\n"
     ]
    },
    {
     "name": "stderr",
     "output_type": "stream",
     "text": [
      "391it [00:53,  7.32it/s]"
     ]
    },
    {
     "name": "stdout",
     "output_type": "stream",
     "text": [
      "Epoch 47 finished, average loss: 0.0022852694\n",
      "Starting testing\n"
     ]
    },
    {
     "name": "stderr",
     "output_type": "stream",
     "text": [
      "\n"
     ]
    },
    {
     "name": "stdout",
     "output_type": "stream",
     "text": [
      "Correct: 8635, total: 10000, accuracy: 0.8634999990, average loss: 0.0031942217\n"
     ]
    },
    {
     "name": "stderr",
     "output_type": "stream",
     "text": [
      "391it [00:53,  7.31it/s]"
     ]
    },
    {
     "name": "stdout",
     "output_type": "stream",
     "text": [
      "Epoch 48 finished, average loss: 0.0023084843\n",
      "Starting testing\n"
     ]
    },
    {
     "name": "stderr",
     "output_type": "stream",
     "text": [
      "\n"
     ]
    },
    {
     "name": "stdout",
     "output_type": "stream",
     "text": [
      "Correct: 8734, total: 10000, accuracy: 0.8733999729, average loss: 0.0029279015\n"
     ]
    },
    {
     "name": "stderr",
     "output_type": "stream",
     "text": [
      "391it [00:54,  7.20it/s]"
     ]
    },
    {
     "name": "stdout",
     "output_type": "stream",
     "text": [
      "Epoch 49 finished, average loss: 0.0023045639\n",
      "Starting testing\n"
     ]
    },
    {
     "name": "stderr",
     "output_type": "stream",
     "text": [
      "\n"
     ]
    },
    {
     "name": "stdout",
     "output_type": "stream",
     "text": [
      "Correct: 8823, total: 10000, accuracy: 0.8822999597, average loss: 0.0026766415\n"
     ]
    },
    {
     "name": "stderr",
     "output_type": "stream",
     "text": [
      "391it [00:53,  7.27it/s]"
     ]
    },
    {
     "name": "stdout",
     "output_type": "stream",
     "text": [
      "Epoch 50 finished, average loss: 0.0022894104\n",
      "Starting testing\n"
     ]
    },
    {
     "name": "stderr",
     "output_type": "stream",
     "text": [
      "\n"
     ]
    },
    {
     "name": "stdout",
     "output_type": "stream",
     "text": [
      "Correct: 8623, total: 10000, accuracy: 0.8622999787, average loss: 0.0032924986\n"
     ]
    },
    {
     "name": "stderr",
     "output_type": "stream",
     "text": [
      "391it [00:53,  7.27it/s]"
     ]
    },
    {
     "name": "stdout",
     "output_type": "stream",
     "text": [
      "Epoch 51 finished, average loss: 0.0022776410\n",
      "Starting testing\n"
     ]
    },
    {
     "name": "stderr",
     "output_type": "stream",
     "text": [
      "\n"
     ]
    },
    {
     "name": "stdout",
     "output_type": "stream",
     "text": [
      "Correct: 8800, total: 10000, accuracy: 0.8799999952, average loss: 0.0028398060\n"
     ]
    },
    {
     "name": "stderr",
     "output_type": "stream",
     "text": [
      "391it [00:53,  7.36it/s]"
     ]
    },
    {
     "name": "stdout",
     "output_type": "stream",
     "text": [
      "Epoch 52 finished, average loss: 0.0022063076\n",
      "Starting testing\n"
     ]
    },
    {
     "name": "stderr",
     "output_type": "stream",
     "text": [
      "\n"
     ]
    },
    {
     "name": "stdout",
     "output_type": "stream",
     "text": [
      "Correct: 8842, total: 10000, accuracy: 0.8841999769, average loss: 0.0029347026\n"
     ]
    },
    {
     "name": "stderr",
     "output_type": "stream",
     "text": [
      "391it [00:53,  7.27it/s]"
     ]
    },
    {
     "name": "stdout",
     "output_type": "stream",
     "text": [
      "Epoch 53 finished, average loss: 0.0022071205\n",
      "Starting testing\n"
     ]
    },
    {
     "name": "stderr",
     "output_type": "stream",
     "text": [
      "\n"
     ]
    },
    {
     "name": "stdout",
     "output_type": "stream",
     "text": [
      "Correct: 8742, total: 10000, accuracy: 0.8741999865, average loss: 0.0030236104\n"
     ]
    },
    {
     "name": "stderr",
     "output_type": "stream",
     "text": [
      "391it [00:53,  7.28it/s]"
     ]
    },
    {
     "name": "stdout",
     "output_type": "stream",
     "text": [
      "Epoch 54 finished, average loss: 0.0022085119\n",
      "Starting testing\n"
     ]
    },
    {
     "name": "stderr",
     "output_type": "stream",
     "text": [
      "\n"
     ]
    },
    {
     "name": "stdout",
     "output_type": "stream",
     "text": [
      "Correct: 8783, total: 10000, accuracy: 0.8782999516, average loss: 0.0032337640\n"
     ]
    },
    {
     "name": "stderr",
     "output_type": "stream",
     "text": [
      "391it [00:53,  7.26it/s]"
     ]
    },
    {
     "name": "stdout",
     "output_type": "stream",
     "text": [
      "Epoch 55 finished, average loss: 0.0022110245\n",
      "Starting testing\n"
     ]
    },
    {
     "name": "stderr",
     "output_type": "stream",
     "text": [
      "\n"
     ]
    },
    {
     "name": "stdout",
     "output_type": "stream",
     "text": [
      "Correct: 8810, total: 10000, accuracy: 0.8809999824, average loss: 0.0027682377\n"
     ]
    },
    {
     "name": "stderr",
     "output_type": "stream",
     "text": [
      "391it [00:55,  7.11it/s]"
     ]
    },
    {
     "name": "stdout",
     "output_type": "stream",
     "text": [
      "Epoch 56 finished, average loss: 0.0021798389\n",
      "Starting testing\n"
     ]
    },
    {
     "name": "stderr",
     "output_type": "stream",
     "text": [
      "\n"
     ]
    },
    {
     "name": "stdout",
     "output_type": "stream",
     "text": [
      "Correct: 8796, total: 10000, accuracy: 0.8795999885, average loss: 0.0029086099\n"
     ]
    },
    {
     "name": "stderr",
     "output_type": "stream",
     "text": [
      "391it [00:59,  6.62it/s]"
     ]
    },
    {
     "name": "stdout",
     "output_type": "stream",
     "text": [
      "Epoch 57 finished, average loss: 0.0021768606\n",
      "Starting testing\n"
     ]
    },
    {
     "name": "stderr",
     "output_type": "stream",
     "text": [
      "\n"
     ]
    },
    {
     "name": "stdout",
     "output_type": "stream",
     "text": [
      "Correct: 8773, total: 10000, accuracy: 0.8772999644, average loss: 0.0029989926\n"
     ]
    },
    {
     "name": "stderr",
     "output_type": "stream",
     "text": [
      "391it [00:59,  6.58it/s]"
     ]
    },
    {
     "name": "stdout",
     "output_type": "stream",
     "text": [
      "Epoch 58 finished, average loss: 0.0021461311\n",
      "Starting testing\n"
     ]
    },
    {
     "name": "stderr",
     "output_type": "stream",
     "text": [
      "\n"
     ]
    },
    {
     "name": "stdout",
     "output_type": "stream",
     "text": [
      "Correct: 8892, total: 10000, accuracy: 0.8891999722, average loss: 0.0025845426\n"
     ]
    },
    {
     "name": "stderr",
     "output_type": "stream",
     "text": [
      "391it [00:58,  6.71it/s]"
     ]
    },
    {
     "name": "stdout",
     "output_type": "stream",
     "text": [
      "Epoch 59 finished, average loss: 0.0021496083\n",
      "Starting testing\n"
     ]
    },
    {
     "name": "stderr",
     "output_type": "stream",
     "text": [
      "\n"
     ]
    },
    {
     "name": "stdout",
     "output_type": "stream",
     "text": [
      "Correct: 8621, total: 10000, accuracy: 0.8621000051, average loss: 0.0032589366\n"
     ]
    },
    {
     "name": "stderr",
     "output_type": "stream",
     "text": [
      "391it [00:58,  6.72it/s]"
     ]
    },
    {
     "name": "stdout",
     "output_type": "stream",
     "text": [
      "Epoch 60 finished, average loss: 0.0021355880\n",
      "Starting testing\n"
     ]
    },
    {
     "name": "stderr",
     "output_type": "stream",
     "text": [
      "\n"
     ]
    },
    {
     "name": "stdout",
     "output_type": "stream",
     "text": [
      "Correct: 8786, total: 10000, accuracy: 0.8786000013, average loss: 0.0028628121\n"
     ]
    },
    {
     "name": "stderr",
     "output_type": "stream",
     "text": [
      "391it [00:59,  6.57it/s]\n"
     ]
    },
    {
     "name": "stdout",
     "output_type": "stream",
     "text": [
      "Epoch 61 finished, average loss: 0.0020911386\n",
      "Starting testing\n",
      "Correct: 8761, total: 10000, accuracy: 0.8761000037, average loss: 0.0028922849\n"
     ]
    },
    {
     "name": "stderr",
     "output_type": "stream",
     "text": [
      "391it [00:59,  6.57it/s]"
     ]
    },
    {
     "name": "stdout",
     "output_type": "stream",
     "text": [
      "Epoch 62 finished, average loss: 0.0021143905\n",
      "Starting testing\n"
     ]
    },
    {
     "name": "stderr",
     "output_type": "stream",
     "text": [
      "\n"
     ]
    },
    {
     "name": "stdout",
     "output_type": "stream",
     "text": [
      "Correct: 8935, total: 10000, accuracy: 0.8934999704, average loss: 0.0024603941\n"
     ]
    },
    {
     "name": "stderr",
     "output_type": "stream",
     "text": [
      "391it [00:59,  6.58it/s]"
     ]
    },
    {
     "name": "stdout",
     "output_type": "stream",
     "text": [
      "Epoch 63 finished, average loss: 0.0020952773\n",
      "Starting testing\n"
     ]
    },
    {
     "name": "stderr",
     "output_type": "stream",
     "text": [
      "\n"
     ]
    },
    {
     "name": "stdout",
     "output_type": "stream",
     "text": [
      "Correct: 8906, total: 10000, accuracy: 0.8905999660, average loss: 0.0027079140\n"
     ]
    },
    {
     "name": "stderr",
     "output_type": "stream",
     "text": [
      "391it [01:01,  6.31it/s]"
     ]
    },
    {
     "name": "stdout",
     "output_type": "stream",
     "text": [
      "Epoch 64 finished, average loss: 0.0020805392\n",
      "Starting testing\n"
     ]
    },
    {
     "name": "stderr",
     "output_type": "stream",
     "text": [
      "\n"
     ]
    },
    {
     "name": "stdout",
     "output_type": "stream",
     "text": [
      "Correct: 8731, total: 10000, accuracy: 0.8730999827, average loss: 0.0031617646\n"
     ]
    },
    {
     "name": "stderr",
     "output_type": "stream",
     "text": [
      "391it [00:58,  6.66it/s]"
     ]
    },
    {
     "name": "stdout",
     "output_type": "stream",
     "text": [
      "Epoch 65 finished, average loss: 0.0020494682\n",
      "Starting testing\n"
     ]
    },
    {
     "name": "stderr",
     "output_type": "stream",
     "text": [
      "\n"
     ]
    },
    {
     "name": "stdout",
     "output_type": "stream",
     "text": [
      "Correct: 8823, total: 10000, accuracy: 0.8822999597, average loss: 0.0027942772\n"
     ]
    },
    {
     "name": "stderr",
     "output_type": "stream",
     "text": [
      "391it [00:58,  6.65it/s]"
     ]
    },
    {
     "name": "stdout",
     "output_type": "stream",
     "text": [
      "Epoch 66 finished, average loss: 0.0020319914\n",
      "Starting testing\n"
     ]
    },
    {
     "name": "stderr",
     "output_type": "stream",
     "text": [
      "\n"
     ]
    },
    {
     "name": "stdout",
     "output_type": "stream",
     "text": [
      "Correct: 8920, total: 10000, accuracy: 0.8919999599, average loss: 0.0024801487\n"
     ]
    },
    {
     "name": "stderr",
     "output_type": "stream",
     "text": [
      "391it [00:59,  6.60it/s]"
     ]
    },
    {
     "name": "stdout",
     "output_type": "stream",
     "text": [
      "Epoch 67 finished, average loss: 0.0020111502\n",
      "Starting testing\n"
     ]
    },
    {
     "name": "stderr",
     "output_type": "stream",
     "text": [
      "\n"
     ]
    },
    {
     "name": "stdout",
     "output_type": "stream",
     "text": [
      "Correct: 8818, total: 10000, accuracy: 0.8817999959, average loss: 0.0028144052\n"
     ]
    },
    {
     "name": "stderr",
     "output_type": "stream",
     "text": [
      "391it [00:58,  6.72it/s]"
     ]
    },
    {
     "name": "stdout",
     "output_type": "stream",
     "text": [
      "Epoch 68 finished, average loss: 0.0020536282\n",
      "Starting testing\n"
     ]
    },
    {
     "name": "stderr",
     "output_type": "stream",
     "text": [
      "\n"
     ]
    },
    {
     "name": "stdout",
     "output_type": "stream",
     "text": [
      "Correct: 8798, total: 10000, accuracy: 0.8797999620, average loss: 0.0029747858\n"
     ]
    },
    {
     "name": "stderr",
     "output_type": "stream",
     "text": [
      "391it [00:58,  6.72it/s]"
     ]
    },
    {
     "name": "stdout",
     "output_type": "stream",
     "text": [
      "Epoch 69 finished, average loss: 0.0019913775\n",
      "Starting testing\n"
     ]
    },
    {
     "name": "stderr",
     "output_type": "stream",
     "text": [
      "\n"
     ]
    },
    {
     "name": "stdout",
     "output_type": "stream",
     "text": [
      "Correct: 8705, total: 10000, accuracy: 0.8704999685, average loss: 0.0031658041\n"
     ]
    },
    {
     "name": "stderr",
     "output_type": "stream",
     "text": [
      "391it [00:57,  6.75it/s]"
     ]
    },
    {
     "name": "stdout",
     "output_type": "stream",
     "text": [
      "Epoch 70 finished, average loss: 0.0020163623\n",
      "Starting testing\n"
     ]
    },
    {
     "name": "stderr",
     "output_type": "stream",
     "text": [
      "\n"
     ]
    },
    {
     "name": "stdout",
     "output_type": "stream",
     "text": [
      "Correct: 8838, total: 10000, accuracy: 0.8837999701, average loss: 0.0027257848\n"
     ]
    },
    {
     "name": "stderr",
     "output_type": "stream",
     "text": [
      "391it [00:57,  6.78it/s]"
     ]
    },
    {
     "name": "stdout",
     "output_type": "stream",
     "text": [
      "Epoch 71 finished, average loss: 0.0019946030\n",
      "Starting testing\n"
     ]
    },
    {
     "name": "stderr",
     "output_type": "stream",
     "text": [
      "\n"
     ]
    },
    {
     "name": "stdout",
     "output_type": "stream",
     "text": [
      "Correct: 8829, total: 10000, accuracy: 0.8828999996, average loss: 0.0028800394\n"
     ]
    },
    {
     "name": "stderr",
     "output_type": "stream",
     "text": [
      "391it [00:58,  6.64it/s]"
     ]
    },
    {
     "name": "stdout",
     "output_type": "stream",
     "text": [
      "Epoch 72 finished, average loss: 0.0019947292\n",
      "Starting testing\n"
     ]
    },
    {
     "name": "stderr",
     "output_type": "stream",
     "text": [
      "\n"
     ]
    },
    {
     "name": "stdout",
     "output_type": "stream",
     "text": [
      "Correct: 8829, total: 10000, accuracy: 0.8828999996, average loss: 0.0028764986\n"
     ]
    },
    {
     "name": "stderr",
     "output_type": "stream",
     "text": [
      "391it [00:57,  6.74it/s]\n"
     ]
    },
    {
     "name": "stdout",
     "output_type": "stream",
     "text": [
      "Epoch 73 finished, average loss: 0.0019714131\n",
      "Starting testing\n",
      "Correct: 8979, total: 10000, accuracy: 0.8978999853, average loss: 0.0025274900\n"
     ]
    },
    {
     "name": "stderr",
     "output_type": "stream",
     "text": [
      "391it [00:57,  6.77it/s]"
     ]
    },
    {
     "name": "stdout",
     "output_type": "stream",
     "text": [
      "Epoch 74 finished, average loss: 0.0019478166\n",
      "Starting testing\n"
     ]
    },
    {
     "name": "stderr",
     "output_type": "stream",
     "text": [
      "\n"
     ]
    },
    {
     "name": "stdout",
     "output_type": "stream",
     "text": [
      "Correct: 8837, total: 10000, accuracy: 0.8836999536, average loss: 0.0028491808\n"
     ]
    },
    {
     "name": "stderr",
     "output_type": "stream",
     "text": [
      "391it [00:57,  6.77it/s]"
     ]
    },
    {
     "name": "stdout",
     "output_type": "stream",
     "text": [
      "Epoch 75 finished, average loss: 0.0019682275\n",
      "Starting testing\n"
     ]
    },
    {
     "name": "stderr",
     "output_type": "stream",
     "text": [
      "\n"
     ]
    },
    {
     "name": "stdout",
     "output_type": "stream",
     "text": [
      "Correct: 9018, total: 10000, accuracy: 0.9017999768, average loss: 0.0023874055\n"
     ]
    },
    {
     "name": "stderr",
     "output_type": "stream",
     "text": [
      "391it [00:58,  6.66it/s]"
     ]
    },
    {
     "name": "stdout",
     "output_type": "stream",
     "text": [
      "Epoch 76 finished, average loss: 0.0019426466\n",
      "Starting testing\n"
     ]
    },
    {
     "name": "stderr",
     "output_type": "stream",
     "text": [
      "\n"
     ]
    },
    {
     "name": "stdout",
     "output_type": "stream",
     "text": [
      "Correct: 8828, total: 10000, accuracy: 0.8827999830, average loss: 0.0029934462\n"
     ]
    },
    {
     "name": "stderr",
     "output_type": "stream",
     "text": [
      "391it [00:59,  6.57it/s]"
     ]
    },
    {
     "name": "stdout",
     "output_type": "stream",
     "text": [
      "Epoch 77 finished, average loss: 0.0019783813\n",
      "Starting testing\n"
     ]
    },
    {
     "name": "stderr",
     "output_type": "stream",
     "text": [
      "\n"
     ]
    },
    {
     "name": "stdout",
     "output_type": "stream",
     "text": [
      "Correct: 8746, total: 10000, accuracy: 0.8745999932, average loss: 0.0029418534\n"
     ]
    },
    {
     "name": "stderr",
     "output_type": "stream",
     "text": [
      "391it [00:58,  6.70it/s]"
     ]
    },
    {
     "name": "stdout",
     "output_type": "stream",
     "text": [
      "Epoch 78 finished, average loss: 0.0019283886\n",
      "Starting testing\n"
     ]
    },
    {
     "name": "stderr",
     "output_type": "stream",
     "text": [
      "\n"
     ]
    },
    {
     "name": "stdout",
     "output_type": "stream",
     "text": [
      "Correct: 8993, total: 10000, accuracy: 0.8992999792, average loss: 0.0024347874\n"
     ]
    },
    {
     "name": "stderr",
     "output_type": "stream",
     "text": [
      "391it [00:58,  6.73it/s]"
     ]
    },
    {
     "name": "stdout",
     "output_type": "stream",
     "text": [
      "Epoch 79 finished, average loss: 0.0019398824\n",
      "Starting testing\n"
     ]
    },
    {
     "name": "stderr",
     "output_type": "stream",
     "text": [
      "\n"
     ]
    },
    {
     "name": "stdout",
     "output_type": "stream",
     "text": [
      "Correct: 8976, total: 10000, accuracy: 0.8975999951, average loss: 0.0024299073\n"
     ]
    },
    {
     "name": "stderr",
     "output_type": "stream",
     "text": [
      "391it [00:58,  6.71it/s]"
     ]
    },
    {
     "name": "stdout",
     "output_type": "stream",
     "text": [
      "Epoch 80 finished, average loss: 0.0019356828\n",
      "Starting testing\n"
     ]
    },
    {
     "name": "stderr",
     "output_type": "stream",
     "text": [
      "\n"
     ]
    },
    {
     "name": "stdout",
     "output_type": "stream",
     "text": [
      "Correct: 8785, total: 10000, accuracy: 0.8784999847, average loss: 0.0028356408\n"
     ]
    },
    {
     "name": "stderr",
     "output_type": "stream",
     "text": [
      "391it [00:58,  6.72it/s]"
     ]
    },
    {
     "name": "stdout",
     "output_type": "stream",
     "text": [
      "Epoch 81 finished, average loss: 0.0019174486\n",
      "Starting testing\n"
     ]
    },
    {
     "name": "stderr",
     "output_type": "stream",
     "text": [
      "\n"
     ]
    },
    {
     "name": "stdout",
     "output_type": "stream",
     "text": [
      "Correct: 8924, total: 10000, accuracy: 0.8923999667, average loss: 0.0026121650\n"
     ]
    },
    {
     "name": "stderr",
     "output_type": "stream",
     "text": [
      "391it [00:58,  6.68it/s]"
     ]
    },
    {
     "name": "stdout",
     "output_type": "stream",
     "text": [
      "Epoch 82 finished, average loss: 0.0019051796\n",
      "Starting testing\n"
     ]
    },
    {
     "name": "stderr",
     "output_type": "stream",
     "text": [
      "\n"
     ]
    },
    {
     "name": "stdout",
     "output_type": "stream",
     "text": [
      "Correct: 8966, total: 10000, accuracy: 0.8965999484, average loss: 0.0024355839\n"
     ]
    },
    {
     "name": "stderr",
     "output_type": "stream",
     "text": [
      "391it [00:57,  6.75it/s]"
     ]
    },
    {
     "name": "stdout",
     "output_type": "stream",
     "text": [
      "Epoch 83 finished, average loss: 0.0018802542\n",
      "Starting testing\n"
     ]
    },
    {
     "name": "stderr",
     "output_type": "stream",
     "text": [
      "\n"
     ]
    },
    {
     "name": "stdout",
     "output_type": "stream",
     "text": [
      "Correct: 8849, total: 10000, accuracy: 0.8848999739, average loss: 0.0028614886\n"
     ]
    },
    {
     "name": "stderr",
     "output_type": "stream",
     "text": [
      "391it [00:58,  6.73it/s]"
     ]
    },
    {
     "name": "stdout",
     "output_type": "stream",
     "text": [
      "Epoch 84 finished, average loss: 0.0018889612\n",
      "Starting testing\n"
     ]
    },
    {
     "name": "stderr",
     "output_type": "stream",
     "text": [
      "\n"
     ]
    },
    {
     "name": "stdout",
     "output_type": "stream",
     "text": [
      "Correct: 8788, total: 10000, accuracy: 0.8787999749, average loss: 0.0031369691\n"
     ]
    },
    {
     "name": "stderr",
     "output_type": "stream",
     "text": [
      "391it [00:54,  7.13it/s]"
     ]
    },
    {
     "name": "stdout",
     "output_type": "stream",
     "text": [
      "Epoch 85 finished, average loss: 0.0018811549\n",
      "Starting testing\n"
     ]
    },
    {
     "name": "stderr",
     "output_type": "stream",
     "text": [
      "\n"
     ]
    },
    {
     "name": "stdout",
     "output_type": "stream",
     "text": [
      "Correct: 8804, total: 10000, accuracy: 0.8804000020, average loss: 0.0029877249\n"
     ]
    },
    {
     "name": "stderr",
     "output_type": "stream",
     "text": [
      "391it [00:54,  7.14it/s]"
     ]
    },
    {
     "name": "stdout",
     "output_type": "stream",
     "text": [
      "Epoch 86 finished, average loss: 0.0019143394\n",
      "Starting testing\n"
     ]
    },
    {
     "name": "stderr",
     "output_type": "stream",
     "text": [
      "\n"
     ]
    },
    {
     "name": "stdout",
     "output_type": "stream",
     "text": [
      "Correct: 8764, total: 10000, accuracy: 0.8763999939, average loss: 0.0029778369\n"
     ]
    },
    {
     "name": "stderr",
     "output_type": "stream",
     "text": [
      "391it [00:52,  7.49it/s]"
     ]
    },
    {
     "name": "stdout",
     "output_type": "stream",
     "text": [
      "Epoch 87 finished, average loss: 0.0018703544\n",
      "Starting testing\n"
     ]
    },
    {
     "name": "stderr",
     "output_type": "stream",
     "text": [
      "\n"
     ]
    },
    {
     "name": "stdout",
     "output_type": "stream",
     "text": [
      "Correct: 8865, total: 10000, accuracy: 0.8865000010, average loss: 0.0027251098\n"
     ]
    },
    {
     "name": "stderr",
     "output_type": "stream",
     "text": [
      "391it [00:52,  7.48it/s]"
     ]
    },
    {
     "name": "stdout",
     "output_type": "stream",
     "text": [
      "Epoch 88 finished, average loss: 0.0018693440\n",
      "Starting testing\n"
     ]
    },
    {
     "name": "stderr",
     "output_type": "stream",
     "text": [
      "\n"
     ]
    },
    {
     "name": "stdout",
     "output_type": "stream",
     "text": [
      "Correct: 8882, total: 10000, accuracy: 0.8881999850, average loss: 0.0026612048\n"
     ]
    },
    {
     "name": "stderr",
     "output_type": "stream",
     "text": [
      "391it [00:52,  7.51it/s]"
     ]
    },
    {
     "name": "stdout",
     "output_type": "stream",
     "text": [
      "Epoch 89 finished, average loss: 0.0018502967\n",
      "Starting testing\n"
     ]
    },
    {
     "name": "stderr",
     "output_type": "stream",
     "text": [
      "\n"
     ]
    },
    {
     "name": "stdout",
     "output_type": "stream",
     "text": [
      "Correct: 8722, total: 10000, accuracy: 0.8721999526, average loss: 0.0031973905\n"
     ]
    },
    {
     "name": "stderr",
     "output_type": "stream",
     "text": [
      "391it [00:53,  7.36it/s]"
     ]
    },
    {
     "name": "stdout",
     "output_type": "stream",
     "text": [
      "Epoch 90 finished, average loss: 0.0018632736\n",
      "Starting testing\n"
     ]
    },
    {
     "name": "stderr",
     "output_type": "stream",
     "text": [
      "\n"
     ]
    },
    {
     "name": "stdout",
     "output_type": "stream",
     "text": [
      "Correct: 8990, total: 10000, accuracy: 0.8989999890, average loss: 0.0023167997\n"
     ]
    },
    {
     "name": "stderr",
     "output_type": "stream",
     "text": [
      "391it [00:51,  7.53it/s]"
     ]
    },
    {
     "name": "stdout",
     "output_type": "stream",
     "text": [
      "Epoch 91 finished, average loss: 0.0018753963\n",
      "Starting testing\n"
     ]
    },
    {
     "name": "stderr",
     "output_type": "stream",
     "text": [
      "\n"
     ]
    },
    {
     "name": "stdout",
     "output_type": "stream",
     "text": [
      "Correct: 8666, total: 10000, accuracy: 0.8665999770, average loss: 0.0031493310\n"
     ]
    },
    {
     "name": "stderr",
     "output_type": "stream",
     "text": [
      "391it [00:53,  7.35it/s]"
     ]
    },
    {
     "name": "stdout",
     "output_type": "stream",
     "text": [
      "Epoch 92 finished, average loss: 0.0018757210\n",
      "Starting testing\n"
     ]
    },
    {
     "name": "stderr",
     "output_type": "stream",
     "text": [
      "\n"
     ]
    },
    {
     "name": "stdout",
     "output_type": "stream",
     "text": [
      "Correct: 8704, total: 10000, accuracy: 0.8703999519, average loss: 0.0032771027\n"
     ]
    },
    {
     "name": "stderr",
     "output_type": "stream",
     "text": [
      "391it [00:51,  7.54it/s]"
     ]
    },
    {
     "name": "stdout",
     "output_type": "stream",
     "text": [
      "Epoch 93 finished, average loss: 0.0017956650\n",
      "Starting testing\n"
     ]
    },
    {
     "name": "stderr",
     "output_type": "stream",
     "text": [
      "\n"
     ]
    },
    {
     "name": "stdout",
     "output_type": "stream",
     "text": [
      "Correct: 8777, total: 10000, accuracy: 0.8776999712, average loss: 0.0028911527\n"
     ]
    },
    {
     "name": "stderr",
     "output_type": "stream",
     "text": [
      "391it [00:51,  7.59it/s]"
     ]
    },
    {
     "name": "stdout",
     "output_type": "stream",
     "text": [
      "Epoch 94 finished, average loss: 0.0018134423\n",
      "Starting testing\n"
     ]
    },
    {
     "name": "stderr",
     "output_type": "stream",
     "text": [
      "\n"
     ]
    },
    {
     "name": "stdout",
     "output_type": "stream",
     "text": [
      "Correct: 9049, total: 10000, accuracy: 0.9048999548, average loss: 0.0021839788\n"
     ]
    },
    {
     "name": "stderr",
     "output_type": "stream",
     "text": [
      "391it [00:52,  7.51it/s]"
     ]
    },
    {
     "name": "stdout",
     "output_type": "stream",
     "text": [
      "Epoch 95 finished, average loss: 0.0017876174\n",
      "Starting testing\n"
     ]
    },
    {
     "name": "stderr",
     "output_type": "stream",
     "text": [
      "\n"
     ]
    },
    {
     "name": "stdout",
     "output_type": "stream",
     "text": [
      "Correct: 8957, total: 10000, accuracy: 0.8956999779, average loss: 0.0024663161\n"
     ]
    },
    {
     "name": "stderr",
     "output_type": "stream",
     "text": [
      "391it [00:51,  7.55it/s]"
     ]
    },
    {
     "name": "stdout",
     "output_type": "stream",
     "text": [
      "Epoch 96 finished, average loss: 0.0018090542\n",
      "Starting testing\n"
     ]
    },
    {
     "name": "stderr",
     "output_type": "stream",
     "text": [
      "\n"
     ]
    },
    {
     "name": "stdout",
     "output_type": "stream",
     "text": [
      "Correct: 8768, total: 10000, accuracy: 0.8768000007, average loss: 0.0030149552\n"
     ]
    },
    {
     "name": "stderr",
     "output_type": "stream",
     "text": [
      "391it [00:51,  7.52it/s]"
     ]
    },
    {
     "name": "stdout",
     "output_type": "stream",
     "text": [
      "Epoch 97 finished, average loss: 0.0017794864\n",
      "Starting testing\n"
     ]
    },
    {
     "name": "stderr",
     "output_type": "stream",
     "text": [
      "\n"
     ]
    },
    {
     "name": "stdout",
     "output_type": "stream",
     "text": [
      "Correct: 9023, total: 10000, accuracy: 0.9023000002, average loss: 0.0024771924\n"
     ]
    },
    {
     "name": "stderr",
     "output_type": "stream",
     "text": [
      "391it [00:52,  7.45it/s]"
     ]
    },
    {
     "name": "stdout",
     "output_type": "stream",
     "text": [
      "Epoch 98 finished, average loss: 0.0017790779\n",
      "Starting testing\n"
     ]
    },
    {
     "name": "stderr",
     "output_type": "stream",
     "text": [
      "\n"
     ]
    },
    {
     "name": "stdout",
     "output_type": "stream",
     "text": [
      "Correct: 8940, total: 10000, accuracy: 0.8939999938, average loss: 0.0024483573\n"
     ]
    },
    {
     "name": "stderr",
     "output_type": "stream",
     "text": [
      "391it [00:51,  7.53it/s]"
     ]
    },
    {
     "name": "stdout",
     "output_type": "stream",
     "text": [
      "Epoch 99 finished, average loss: 0.0018223132\n",
      "Starting testing\n"
     ]
    },
    {
     "name": "stderr",
     "output_type": "stream",
     "text": [
      "\n"
     ]
    },
    {
     "name": "stdout",
     "output_type": "stream",
     "text": [
      "Correct: 8838, total: 10000, accuracy: 0.8837999701, average loss: 0.0027609855\n"
     ]
    },
    {
     "name": "stderr",
     "output_type": "stream",
     "text": [
      "391it [00:51,  7.52it/s]"
     ]
    },
    {
     "name": "stdout",
     "output_type": "stream",
     "text": [
      "Epoch 100 finished, average loss: 0.0018079738\n",
      "Starting testing\n"
     ]
    },
    {
     "name": "stderr",
     "output_type": "stream",
     "text": [
      "\n"
     ]
    },
    {
     "name": "stdout",
     "output_type": "stream",
     "text": [
      "Correct: 8933, total: 10000, accuracy: 0.8932999969, average loss: 0.0025454232\n"
     ]
    },
    {
     "name": "stderr",
     "output_type": "stream",
     "text": [
      "391it [00:51,  7.53it/s]"
     ]
    },
    {
     "name": "stdout",
     "output_type": "stream",
     "text": [
      "Epoch 101 finished, average loss: 0.0018235320\n",
      "Starting testing\n"
     ]
    },
    {
     "name": "stderr",
     "output_type": "stream",
     "text": [
      "\n"
     ]
    },
    {
     "name": "stdout",
     "output_type": "stream",
     "text": [
      "Correct: 9031, total: 10000, accuracy: 0.9030999541, average loss: 0.0023275345\n"
     ]
    },
    {
     "name": "stderr",
     "output_type": "stream",
     "text": [
      "391it [00:51,  7.53it/s]"
     ]
    },
    {
     "name": "stdout",
     "output_type": "stream",
     "text": [
      "Epoch 102 finished, average loss: 0.0017826373\n",
      "Starting testing\n"
     ]
    },
    {
     "name": "stderr",
     "output_type": "stream",
     "text": [
      "\n"
     ]
    },
    {
     "name": "stdout",
     "output_type": "stream",
     "text": [
      "Correct: 8943, total: 10000, accuracy: 0.8942999840, average loss: 0.0025129462\n"
     ]
    },
    {
     "name": "stderr",
     "output_type": "stream",
     "text": [
      "391it [00:51,  7.55it/s]"
     ]
    },
    {
     "name": "stdout",
     "output_type": "stream",
     "text": [
      "Epoch 103 finished, average loss: 0.0017792334\n",
      "Starting testing\n"
     ]
    },
    {
     "name": "stderr",
     "output_type": "stream",
     "text": [
      "\n"
     ]
    },
    {
     "name": "stdout",
     "output_type": "stream",
     "text": [
      "Correct: 9010, total: 10000, accuracy: 0.9009999633, average loss: 0.0023176684\n"
     ]
    },
    {
     "name": "stderr",
     "output_type": "stream",
     "text": [
      "391it [00:52,  7.48it/s]"
     ]
    },
    {
     "name": "stdout",
     "output_type": "stream",
     "text": [
      "Epoch 104 finished, average loss: 0.0017211677\n",
      "Starting testing\n"
     ]
    },
    {
     "name": "stderr",
     "output_type": "stream",
     "text": [
      "\n"
     ]
    },
    {
     "name": "stdout",
     "output_type": "stream",
     "text": [
      "Correct: 8920, total: 10000, accuracy: 0.8919999599, average loss: 0.0026198076\n"
     ]
    },
    {
     "name": "stderr",
     "output_type": "stream",
     "text": [
      "391it [00:52,  7.50it/s]"
     ]
    },
    {
     "name": "stdout",
     "output_type": "stream",
     "text": [
      "Epoch 105 finished, average loss: 0.0017501342\n",
      "Starting testing\n"
     ]
    },
    {
     "name": "stderr",
     "output_type": "stream",
     "text": [
      "\n"
     ]
    },
    {
     "name": "stdout",
     "output_type": "stream",
     "text": [
      "Correct: 8894, total: 10000, accuracy: 0.8894000053, average loss: 0.0026950759\n"
     ]
    },
    {
     "name": "stderr",
     "output_type": "stream",
     "text": [
      "391it [00:52,  7.50it/s]"
     ]
    },
    {
     "name": "stdout",
     "output_type": "stream",
     "text": [
      "Epoch 106 finished, average loss: 0.0017768988\n",
      "Starting testing\n"
     ]
    },
    {
     "name": "stderr",
     "output_type": "stream",
     "text": [
      "\n"
     ]
    },
    {
     "name": "stdout",
     "output_type": "stream",
     "text": [
      "Correct: 8829, total: 10000, accuracy: 0.8828999996, average loss: 0.0027775163\n"
     ]
    },
    {
     "name": "stderr",
     "output_type": "stream",
     "text": [
      "391it [00:52,  7.46it/s]"
     ]
    },
    {
     "name": "stdout",
     "output_type": "stream",
     "text": [
      "Epoch 107 finished, average loss: 0.0017315056\n",
      "Starting testing\n"
     ]
    },
    {
     "name": "stderr",
     "output_type": "stream",
     "text": [
      "\n"
     ]
    },
    {
     "name": "stdout",
     "output_type": "stream",
     "text": [
      "Correct: 8962, total: 10000, accuracy: 0.8962000012, average loss: 0.0024307756\n"
     ]
    },
    {
     "name": "stderr",
     "output_type": "stream",
     "text": [
      "391it [00:52,  7.46it/s]"
     ]
    },
    {
     "name": "stdout",
     "output_type": "stream",
     "text": [
      "Epoch 108 finished, average loss: 0.0017698606\n",
      "Starting testing\n"
     ]
    },
    {
     "name": "stderr",
     "output_type": "stream",
     "text": [
      "\n"
     ]
    },
    {
     "name": "stdout",
     "output_type": "stream",
     "text": [
      "Correct: 9012, total: 10000, accuracy: 0.9011999965, average loss: 0.0025554395\n"
     ]
    },
    {
     "name": "stderr",
     "output_type": "stream",
     "text": [
      "391it [00:52,  7.48it/s]"
     ]
    },
    {
     "name": "stdout",
     "output_type": "stream",
     "text": [
      "Epoch 109 finished, average loss: 0.0017441662\n",
      "Starting testing\n"
     ]
    },
    {
     "name": "stderr",
     "output_type": "stream",
     "text": [
      "\n"
     ]
    },
    {
     "name": "stdout",
     "output_type": "stream",
     "text": [
      "Correct: 8916, total: 10000, accuracy: 0.8915999532, average loss: 0.0026486243\n"
     ]
    },
    {
     "name": "stderr",
     "output_type": "stream",
     "text": [
      "391it [00:52,  7.49it/s]"
     ]
    },
    {
     "name": "stdout",
     "output_type": "stream",
     "text": [
      "Epoch 110 finished, average loss: 0.0017567879\n",
      "Starting testing\n"
     ]
    },
    {
     "name": "stderr",
     "output_type": "stream",
     "text": [
      "\n"
     ]
    },
    {
     "name": "stdout",
     "output_type": "stream",
     "text": [
      "Correct: 8753, total: 10000, accuracy: 0.8752999902, average loss: 0.0031706616\n"
     ]
    },
    {
     "name": "stderr",
     "output_type": "stream",
     "text": [
      "391it [00:52,  7.50it/s]"
     ]
    },
    {
     "name": "stdout",
     "output_type": "stream",
     "text": [
      "Epoch 111 finished, average loss: 0.0017122644\n",
      "Starting testing\n"
     ]
    },
    {
     "name": "stderr",
     "output_type": "stream",
     "text": [
      "\n"
     ]
    },
    {
     "name": "stdout",
     "output_type": "stream",
     "text": [
      "Correct: 8640, total: 10000, accuracy: 0.8639999628, average loss: 0.0035587923\n"
     ]
    },
    {
     "name": "stderr",
     "output_type": "stream",
     "text": [
      "391it [00:52,  7.46it/s]"
     ]
    },
    {
     "name": "stdout",
     "output_type": "stream",
     "text": [
      "Epoch 112 finished, average loss: 0.0017332943\n",
      "Starting testing\n"
     ]
    },
    {
     "name": "stderr",
     "output_type": "stream",
     "text": [
      "\n"
     ]
    },
    {
     "name": "stdout",
     "output_type": "stream",
     "text": [
      "Correct: 8916, total: 10000, accuracy: 0.8915999532, average loss: 0.0026280020\n"
     ]
    },
    {
     "name": "stderr",
     "output_type": "stream",
     "text": [
      "391it [00:52,  7.50it/s]"
     ]
    },
    {
     "name": "stdout",
     "output_type": "stream",
     "text": [
      "Epoch 113 finished, average loss: 0.0017557557\n",
      "Starting testing\n"
     ]
    },
    {
     "name": "stderr",
     "output_type": "stream",
     "text": [
      "\n"
     ]
    },
    {
     "name": "stdout",
     "output_type": "stream",
     "text": [
      "Correct: 8822, total: 10000, accuracy: 0.8822000027, average loss: 0.0028785424\n"
     ]
    },
    {
     "name": "stderr",
     "output_type": "stream",
     "text": [
      "391it [00:52,  7.52it/s]"
     ]
    },
    {
     "name": "stdout",
     "output_type": "stream",
     "text": [
      "Epoch 114 finished, average loss: 0.0016572242\n",
      "Starting testing\n"
     ]
    },
    {
     "name": "stderr",
     "output_type": "stream",
     "text": [
      "\n"
     ]
    },
    {
     "name": "stdout",
     "output_type": "stream",
     "text": [
      "Correct: 8948, total: 10000, accuracy: 0.8947999477, average loss: 0.0025575407\n"
     ]
    },
    {
     "name": "stderr",
     "output_type": "stream",
     "text": [
      "391it [00:50,  7.79it/s]"
     ]
    },
    {
     "name": "stdout",
     "output_type": "stream",
     "text": [
      "Epoch 115 finished, average loss: 0.0017317888\n",
      "Starting testing\n"
     ]
    },
    {
     "name": "stderr",
     "output_type": "stream",
     "text": [
      "\n"
     ]
    },
    {
     "name": "stdout",
     "output_type": "stream",
     "text": [
      "Correct: 8984, total: 10000, accuracy: 0.8983999491, average loss: 0.0024163290\n"
     ]
    },
    {
     "name": "stderr",
     "output_type": "stream",
     "text": [
      "391it [00:49,  7.83it/s]"
     ]
    },
    {
     "name": "stdout",
     "output_type": "stream",
     "text": [
      "Epoch 116 finished, average loss: 0.0017668012\n",
      "Starting testing\n"
     ]
    },
    {
     "name": "stderr",
     "output_type": "stream",
     "text": [
      "\n"
     ]
    },
    {
     "name": "stdout",
     "output_type": "stream",
     "text": [
      "Correct: 8662, total: 10000, accuracy: 0.8661999702, average loss: 0.0034169946\n"
     ]
    },
    {
     "name": "stderr",
     "output_type": "stream",
     "text": [
      "391it [00:49,  7.85it/s]"
     ]
    },
    {
     "name": "stdout",
     "output_type": "stream",
     "text": [
      "Epoch 117 finished, average loss: 0.0017251910\n",
      "Starting testing\n"
     ]
    },
    {
     "name": "stderr",
     "output_type": "stream",
     "text": [
      "\n"
     ]
    },
    {
     "name": "stdout",
     "output_type": "stream",
     "text": [
      "Correct: 8935, total: 10000, accuracy: 0.8934999704, average loss: 0.0026488755\n"
     ]
    },
    {
     "name": "stderr",
     "output_type": "stream",
     "text": [
      "391it [00:49,  7.84it/s]"
     ]
    },
    {
     "name": "stdout",
     "output_type": "stream",
     "text": [
      "Epoch 118 finished, average loss: 0.0017079522\n",
      "Starting testing\n"
     ]
    },
    {
     "name": "stderr",
     "output_type": "stream",
     "text": [
      "\n"
     ]
    },
    {
     "name": "stdout",
     "output_type": "stream",
     "text": [
      "Correct: 8986, total: 10000, accuracy: 0.8985999823, average loss: 0.0023660385\n"
     ]
    },
    {
     "name": "stderr",
     "output_type": "stream",
     "text": [
      "391it [00:49,  7.84it/s]"
     ]
    },
    {
     "name": "stdout",
     "output_type": "stream",
     "text": [
      "Epoch 119 finished, average loss: 0.0017104547\n",
      "Starting testing\n"
     ]
    },
    {
     "name": "stderr",
     "output_type": "stream",
     "text": [
      "\n"
     ]
    },
    {
     "name": "stdout",
     "output_type": "stream",
     "text": [
      "Correct: 8936, total: 10000, accuracy: 0.8935999870, average loss: 0.0025855846\n"
     ]
    },
    {
     "name": "stderr",
     "output_type": "stream",
     "text": [
      "391it [00:50,  7.79it/s]"
     ]
    },
    {
     "name": "stdout",
     "output_type": "stream",
     "text": [
      "Epoch 120 finished, average loss: 0.0017704289\n",
      "Starting testing\n"
     ]
    },
    {
     "name": "stderr",
     "output_type": "stream",
     "text": [
      "\n"
     ]
    },
    {
     "name": "stdout",
     "output_type": "stream",
     "text": [
      "Correct: 9012, total: 10000, accuracy: 0.9011999965, average loss: 0.0023327805\n"
     ]
    },
    {
     "name": "stderr",
     "output_type": "stream",
     "text": [
      "391it [00:49,  7.83it/s]"
     ]
    },
    {
     "name": "stdout",
     "output_type": "stream",
     "text": [
      "Epoch 121 finished, average loss: 0.0017080083\n",
      "Starting testing\n"
     ]
    },
    {
     "name": "stderr",
     "output_type": "stream",
     "text": [
      "\n"
     ]
    },
    {
     "name": "stdout",
     "output_type": "stream",
     "text": [
      "Correct: 8982, total: 10000, accuracy: 0.8981999755, average loss: 0.0024750120\n"
     ]
    },
    {
     "name": "stderr",
     "output_type": "stream",
     "text": [
      "391it [00:49,  7.83it/s]"
     ]
    },
    {
     "name": "stdout",
     "output_type": "stream",
     "text": [
      "Epoch 122 finished, average loss: 0.0017009854\n",
      "Starting testing\n"
     ]
    },
    {
     "name": "stderr",
     "output_type": "stream",
     "text": [
      "\n"
     ]
    },
    {
     "name": "stdout",
     "output_type": "stream",
     "text": [
      "Correct: 9057, total: 10000, accuracy: 0.9056999683, average loss: 0.0022462057\n"
     ]
    },
    {
     "name": "stderr",
     "output_type": "stream",
     "text": [
      "391it [00:50,  7.81it/s]"
     ]
    },
    {
     "name": "stdout",
     "output_type": "stream",
     "text": [
      "Epoch 123 finished, average loss: 0.0017246024\n",
      "Starting testing\n"
     ]
    },
    {
     "name": "stderr",
     "output_type": "stream",
     "text": [
      "\n"
     ]
    },
    {
     "name": "stdout",
     "output_type": "stream",
     "text": [
      "Correct: 8946, total: 10000, accuracy: 0.8945999742, average loss: 0.0025111710\n"
     ]
    },
    {
     "name": "stderr",
     "output_type": "stream",
     "text": [
      "391it [00:49,  7.85it/s]"
     ]
    },
    {
     "name": "stdout",
     "output_type": "stream",
     "text": [
      "Epoch 124 finished, average loss: 0.0017176773\n",
      "Starting testing\n"
     ]
    },
    {
     "name": "stderr",
     "output_type": "stream",
     "text": [
      "\n"
     ]
    },
    {
     "name": "stdout",
     "output_type": "stream",
     "text": [
      "Correct: 8962, total: 10000, accuracy: 0.8962000012, average loss: 0.0027154187\n"
     ]
    },
    {
     "name": "stderr",
     "output_type": "stream",
     "text": [
      "391it [00:49,  7.86it/s]"
     ]
    },
    {
     "name": "stdout",
     "output_type": "stream",
     "text": [
      "Epoch 125 finished, average loss: 0.0016741324\n",
      "Starting testing\n"
     ]
    },
    {
     "name": "stderr",
     "output_type": "stream",
     "text": [
      "\n"
     ]
    },
    {
     "name": "stdout",
     "output_type": "stream",
     "text": [
      "Correct: 8920, total: 10000, accuracy: 0.8919999599, average loss: 0.0025768520\n"
     ]
    },
    {
     "name": "stderr",
     "output_type": "stream",
     "text": [
      "391it [00:50,  7.82it/s]"
     ]
    },
    {
     "name": "stdout",
     "output_type": "stream",
     "text": [
      "Epoch 126 finished, average loss: 0.0017175810\n",
      "Starting testing\n"
     ]
    },
    {
     "name": "stderr",
     "output_type": "stream",
     "text": [
      "\n"
     ]
    },
    {
     "name": "stdout",
     "output_type": "stream",
     "text": [
      "Correct: 8838, total: 10000, accuracy: 0.8837999701, average loss: 0.0027856266\n"
     ]
    },
    {
     "name": "stderr",
     "output_type": "stream",
     "text": [
      "391it [00:49,  7.83it/s]"
     ]
    },
    {
     "name": "stdout",
     "output_type": "stream",
     "text": [
      "Epoch 127 finished, average loss: 0.0016731128\n",
      "Starting testing\n"
     ]
    },
    {
     "name": "stderr",
     "output_type": "stream",
     "text": [
      "\n"
     ]
    },
    {
     "name": "stdout",
     "output_type": "stream",
     "text": [
      "Correct: 8980, total: 10000, accuracy: 0.8980000019, average loss: 0.0024711530\n"
     ]
    },
    {
     "name": "stderr",
     "output_type": "stream",
     "text": [
      "391it [00:49,  7.83it/s]"
     ]
    },
    {
     "name": "stdout",
     "output_type": "stream",
     "text": [
      "Epoch 128 finished, average loss: 0.0016719688\n",
      "Starting testing\n"
     ]
    },
    {
     "name": "stderr",
     "output_type": "stream",
     "text": [
      "\n"
     ]
    },
    {
     "name": "stdout",
     "output_type": "stream",
     "text": [
      "Correct: 8708, total: 10000, accuracy: 0.8707999587, average loss: 0.0033123092\n"
     ]
    },
    {
     "name": "stderr",
     "output_type": "stream",
     "text": [
      "391it [00:51,  7.57it/s]"
     ]
    },
    {
     "name": "stdout",
     "output_type": "stream",
     "text": [
      "Epoch 129 finished, average loss: 0.0016886176\n",
      "Starting testing\n"
     ]
    },
    {
     "name": "stderr",
     "output_type": "stream",
     "text": [
      "\n"
     ]
    },
    {
     "name": "stdout",
     "output_type": "stream",
     "text": [
      "Correct: 9007, total: 10000, accuracy: 0.9006999731, average loss: 0.0025066123\n"
     ]
    },
    {
     "name": "stderr",
     "output_type": "stream",
     "text": [
      "391it [00:54,  7.21it/s]"
     ]
    },
    {
     "name": "stdout",
     "output_type": "stream",
     "text": [
      "Epoch 130 finished, average loss: 0.0017038884\n",
      "Starting testing\n"
     ]
    },
    {
     "name": "stderr",
     "output_type": "stream",
     "text": [
      "\n"
     ]
    },
    {
     "name": "stdout",
     "output_type": "stream",
     "text": [
      "Correct: 8694, total: 10000, accuracy: 0.8693999648, average loss: 0.0035896888\n"
     ]
    },
    {
     "name": "stderr",
     "output_type": "stream",
     "text": [
      "391it [00:56,  6.88it/s]"
     ]
    },
    {
     "name": "stdout",
     "output_type": "stream",
     "text": [
      "Epoch 131 finished, average loss: 0.0016726838\n",
      "Starting testing\n"
     ]
    },
    {
     "name": "stderr",
     "output_type": "stream",
     "text": [
      "\n"
     ]
    },
    {
     "name": "stdout",
     "output_type": "stream",
     "text": [
      "Correct: 8950, total: 10000, accuracy: 0.8949999809, average loss: 0.0025988308\n"
     ]
    },
    {
     "name": "stderr",
     "output_type": "stream",
     "text": [
      "391it [00:53,  7.34it/s]"
     ]
    },
    {
     "name": "stdout",
     "output_type": "stream",
     "text": [
      "Epoch 132 finished, average loss: 0.0016486665\n",
      "Starting testing\n"
     ]
    },
    {
     "name": "stderr",
     "output_type": "stream",
     "text": [
      "\n"
     ]
    },
    {
     "name": "stdout",
     "output_type": "stream",
     "text": [
      "Correct: 9054, total: 10000, accuracy: 0.9053999782, average loss: 0.0022388688\n"
     ]
    },
    {
     "name": "stderr",
     "output_type": "stream",
     "text": [
      "391it [00:55,  7.07it/s]"
     ]
    },
    {
     "name": "stdout",
     "output_type": "stream",
     "text": [
      "Epoch 133 finished, average loss: 0.0016699260\n",
      "Starting testing\n"
     ]
    },
    {
     "name": "stderr",
     "output_type": "stream",
     "text": [
      "\n"
     ]
    },
    {
     "name": "stdout",
     "output_type": "stream",
     "text": [
      "Correct: 9074, total: 10000, accuracy: 0.9073999524, average loss: 0.0023170650\n"
     ]
    },
    {
     "name": "stderr",
     "output_type": "stream",
     "text": [
      "391it [00:53,  7.35it/s]"
     ]
    },
    {
     "name": "stdout",
     "output_type": "stream",
     "text": [
      "Epoch 134 finished, average loss: 0.0016892964\n",
      "Starting testing\n"
     ]
    },
    {
     "name": "stderr",
     "output_type": "stream",
     "text": [
      "\n"
     ]
    },
    {
     "name": "stdout",
     "output_type": "stream",
     "text": [
      "Correct: 9094, total: 10000, accuracy: 0.9093999863, average loss: 0.0022359965\n"
     ]
    },
    {
     "name": "stderr",
     "output_type": "stream",
     "text": [
      "391it [00:55,  7.06it/s]"
     ]
    },
    {
     "name": "stdout",
     "output_type": "stream",
     "text": [
      "Epoch 135 finished, average loss: 0.0016955922\n",
      "Starting testing\n"
     ]
    },
    {
     "name": "stderr",
     "output_type": "stream",
     "text": [
      "\n"
     ]
    },
    {
     "name": "stdout",
     "output_type": "stream",
     "text": [
      "Correct: 9063, total: 10000, accuracy: 0.9062999487, average loss: 0.0021360827\n"
     ]
    },
    {
     "name": "stderr",
     "output_type": "stream",
     "text": [
      "391it [00:53,  7.35it/s]"
     ]
    },
    {
     "name": "stdout",
     "output_type": "stream",
     "text": [
      "Epoch 136 finished, average loss: 0.0016846959\n",
      "Starting testing\n"
     ]
    },
    {
     "name": "stderr",
     "output_type": "stream",
     "text": [
      "\n"
     ]
    },
    {
     "name": "stdout",
     "output_type": "stream",
     "text": [
      "Correct: 8497, total: 10000, accuracy: 0.8496999741, average loss: 0.0036538332\n"
     ]
    },
    {
     "name": "stderr",
     "output_type": "stream",
     "text": [
      "391it [00:56,  6.89it/s]"
     ]
    },
    {
     "name": "stdout",
     "output_type": "stream",
     "text": [
      "Epoch 137 finished, average loss: 0.0016187482\n",
      "Starting testing\n"
     ]
    },
    {
     "name": "stderr",
     "output_type": "stream",
     "text": [
      "\n"
     ]
    },
    {
     "name": "stdout",
     "output_type": "stream",
     "text": [
      "Correct: 8673, total: 10000, accuracy: 0.8672999740, average loss: 0.0036081525\n"
     ]
    },
    {
     "name": "stderr",
     "output_type": "stream",
     "text": [
      "391it [00:53,  7.26it/s]"
     ]
    },
    {
     "name": "stdout",
     "output_type": "stream",
     "text": [
      "Epoch 138 finished, average loss: 0.0017123820\n",
      "Starting testing\n"
     ]
    },
    {
     "name": "stderr",
     "output_type": "stream",
     "text": [
      "\n"
     ]
    },
    {
     "name": "stdout",
     "output_type": "stream",
     "text": [
      "Correct: 9054, total: 10000, accuracy: 0.9053999782, average loss: 0.0022192756\n"
     ]
    },
    {
     "name": "stderr",
     "output_type": "stream",
     "text": [
      "391it [00:54,  7.14it/s]"
     ]
    },
    {
     "name": "stdout",
     "output_type": "stream",
     "text": [
      "Epoch 139 finished, average loss: 0.0016400055\n",
      "Starting testing\n"
     ]
    },
    {
     "name": "stderr",
     "output_type": "stream",
     "text": [
      "\n"
     ]
    },
    {
     "name": "stdout",
     "output_type": "stream",
     "text": [
      "Correct: 8864, total: 10000, accuracy: 0.8863999844, average loss: 0.0029848661\n"
     ]
    },
    {
     "name": "stderr",
     "output_type": "stream",
     "text": [
      "391it [00:56,  6.93it/s]"
     ]
    },
    {
     "name": "stdout",
     "output_type": "stream",
     "text": [
      "Epoch 140 finished, average loss: 0.0016772035\n",
      "Starting testing\n"
     ]
    },
    {
     "name": "stderr",
     "output_type": "stream",
     "text": [
      "\n"
     ]
    },
    {
     "name": "stdout",
     "output_type": "stream",
     "text": [
      "Correct: 8941, total: 10000, accuracy: 0.8940999508, average loss: 0.0024798891\n"
     ]
    },
    {
     "name": "stderr",
     "output_type": "stream",
     "text": [
      "391it [00:53,  7.30it/s]"
     ]
    },
    {
     "name": "stdout",
     "output_type": "stream",
     "text": [
      "Epoch 141 finished, average loss: 0.0016217997\n",
      "Starting testing\n"
     ]
    },
    {
     "name": "stderr",
     "output_type": "stream",
     "text": [
      "\n"
     ]
    },
    {
     "name": "stdout",
     "output_type": "stream",
     "text": [
      "Correct: 8957, total: 10000, accuracy: 0.8956999779, average loss: 0.0025962215\n"
     ]
    },
    {
     "name": "stderr",
     "output_type": "stream",
     "text": [
      "391it [00:53,  7.33it/s]\n"
     ]
    },
    {
     "name": "stdout",
     "output_type": "stream",
     "text": [
      "Epoch 142 finished, average loss: 0.0016585354\n",
      "Starting testing\n",
      "Correct: 8993, total: 10000, accuracy: 0.8992999792, average loss: 0.0023774452\n"
     ]
    },
    {
     "name": "stderr",
     "output_type": "stream",
     "text": [
      "391it [00:53,  7.37it/s]"
     ]
    },
    {
     "name": "stdout",
     "output_type": "stream",
     "text": [
      "Epoch 143 finished, average loss: 0.0016250230\n",
      "Starting testing\n"
     ]
    },
    {
     "name": "stderr",
     "output_type": "stream",
     "text": [
      "\n"
     ]
    },
    {
     "name": "stdout",
     "output_type": "stream",
     "text": [
      "Correct: 9122, total: 10000, accuracy: 0.9121999741, average loss: 0.0021184449\n"
     ]
    },
    {
     "name": "stderr",
     "output_type": "stream",
     "text": [
      "391it [00:53,  7.31it/s]"
     ]
    },
    {
     "name": "stdout",
     "output_type": "stream",
     "text": [
      "Epoch 144 finished, average loss: 0.0016488392\n",
      "Starting testing\n"
     ]
    },
    {
     "name": "stderr",
     "output_type": "stream",
     "text": [
      "\n"
     ]
    },
    {
     "name": "stdout",
     "output_type": "stream",
     "text": [
      "Correct: 8929, total: 10000, accuracy: 0.8928999901, average loss: 0.0026103025\n"
     ]
    },
    {
     "name": "stderr",
     "output_type": "stream",
     "text": [
      "391it [00:53,  7.35it/s]\n"
     ]
    },
    {
     "name": "stdout",
     "output_type": "stream",
     "text": [
      "Epoch 145 finished, average loss: 0.0016844468\n",
      "Starting testing\n",
      "Correct: 8855, total: 10000, accuracy: 0.8854999542, average loss: 0.0028602255\n"
     ]
    },
    {
     "name": "stderr",
     "output_type": "stream",
     "text": [
      "391it [00:52,  7.40it/s]"
     ]
    },
    {
     "name": "stdout",
     "output_type": "stream",
     "text": [
      "Epoch 146 finished, average loss: 0.0016470579\n",
      "Starting testing\n"
     ]
    },
    {
     "name": "stderr",
     "output_type": "stream",
     "text": [
      "\n"
     ]
    },
    {
     "name": "stdout",
     "output_type": "stream",
     "text": [
      "Correct: 9051, total: 10000, accuracy: 0.9050999880, average loss: 0.0022325902\n"
     ]
    },
    {
     "name": "stderr",
     "output_type": "stream",
     "text": [
      "391it [00:56,  6.96it/s]"
     ]
    },
    {
     "name": "stdout",
     "output_type": "stream",
     "text": [
      "Epoch 147 finished, average loss: 0.0016402712\n",
      "Starting testing\n"
     ]
    },
    {
     "name": "stderr",
     "output_type": "stream",
     "text": [
      "\n"
     ]
    },
    {
     "name": "stdout",
     "output_type": "stream",
     "text": [
      "Correct: 9001, total: 10000, accuracy: 0.9000999928, average loss: 0.0023685496\n"
     ]
    },
    {
     "name": "stderr",
     "output_type": "stream",
     "text": [
      "391it [00:57,  6.79it/s]"
     ]
    },
    {
     "name": "stdout",
     "output_type": "stream",
     "text": [
      "Epoch 148 finished, average loss: 0.0016456657\n",
      "Starting testing\n"
     ]
    },
    {
     "name": "stderr",
     "output_type": "stream",
     "text": [
      "\n"
     ]
    },
    {
     "name": "stdout",
     "output_type": "stream",
     "text": [
      "Correct: 8980, total: 10000, accuracy: 0.8980000019, average loss: 0.0026409110\n"
     ]
    },
    {
     "name": "stderr",
     "output_type": "stream",
     "text": [
      "391it [00:55,  7.02it/s]"
     ]
    },
    {
     "name": "stdout",
     "output_type": "stream",
     "text": [
      "Epoch 149 finished, average loss: 0.0016643780\n",
      "Starting testing\n"
     ]
    },
    {
     "name": "stderr",
     "output_type": "stream",
     "text": [
      "\n"
     ]
    },
    {
     "name": "stdout",
     "output_type": "stream",
     "text": [
      "Correct: 8992, total: 10000, accuracy: 0.8991999626, average loss: 0.0023525738\n"
     ]
    },
    {
     "name": "stderr",
     "output_type": "stream",
     "text": [
      "391it [00:53,  7.30it/s]"
     ]
    },
    {
     "name": "stdout",
     "output_type": "stream",
     "text": [
      "Epoch 150 finished, average loss: 0.0016148298\n",
      "Starting testing\n"
     ]
    },
    {
     "name": "stderr",
     "output_type": "stream",
     "text": [
      "\n"
     ]
    },
    {
     "name": "stdout",
     "output_type": "stream",
     "text": [
      "Correct: 9064, total: 10000, accuracy: 0.9063999653, average loss: 0.0025232236\n"
     ]
    },
    {
     "name": "stderr",
     "output_type": "stream",
     "text": [
      "391it [00:54,  7.14it/s]"
     ]
    },
    {
     "name": "stdout",
     "output_type": "stream",
     "text": [
      "Epoch 151 finished, average loss: 0.0016255696\n",
      "Starting testing\n"
     ]
    },
    {
     "name": "stderr",
     "output_type": "stream",
     "text": [
      "\n"
     ]
    },
    {
     "name": "stdout",
     "output_type": "stream",
     "text": [
      "Correct: 9019, total: 10000, accuracy: 0.9018999934, average loss: 0.0023594704\n"
     ]
    },
    {
     "name": "stderr",
     "output_type": "stream",
     "text": [
      "391it [00:52,  7.39it/s]"
     ]
    },
    {
     "name": "stdout",
     "output_type": "stream",
     "text": [
      "Epoch 152 finished, average loss: 0.0016144987\n",
      "Starting testing\n"
     ]
    },
    {
     "name": "stderr",
     "output_type": "stream",
     "text": [
      "\n"
     ]
    },
    {
     "name": "stdout",
     "output_type": "stream",
     "text": [
      "Correct: 9062, total: 10000, accuracy: 0.9061999917, average loss: 0.0022711839\n"
     ]
    },
    {
     "name": "stderr",
     "output_type": "stream",
     "text": [
      "391it [00:53,  7.33it/s]"
     ]
    },
    {
     "name": "stdout",
     "output_type": "stream",
     "text": [
      "Epoch 153 finished, average loss: 0.0016048862\n",
      "Starting testing\n"
     ]
    },
    {
     "name": "stderr",
     "output_type": "stream",
     "text": [
      "\n"
     ]
    },
    {
     "name": "stdout",
     "output_type": "stream",
     "text": [
      "Correct: 9087, total: 10000, accuracy: 0.9086999893, average loss: 0.0021448812\n"
     ]
    },
    {
     "name": "stderr",
     "output_type": "stream",
     "text": [
      "391it [00:52,  7.44it/s]"
     ]
    },
    {
     "name": "stdout",
     "output_type": "stream",
     "text": [
      "Epoch 154 finished, average loss: 0.0016573401\n",
      "Starting testing\n"
     ]
    },
    {
     "name": "stderr",
     "output_type": "stream",
     "text": [
      "\n"
     ]
    },
    {
     "name": "stdout",
     "output_type": "stream",
     "text": [
      "Correct: 9026, total: 10000, accuracy: 0.9025999904, average loss: 0.0022199433\n"
     ]
    },
    {
     "name": "stderr",
     "output_type": "stream",
     "text": [
      "391it [00:56,  6.90it/s]"
     ]
    },
    {
     "name": "stdout",
     "output_type": "stream",
     "text": [
      "Epoch 155 finished, average loss: 0.0016411820\n",
      "Starting testing\n"
     ]
    },
    {
     "name": "stderr",
     "output_type": "stream",
     "text": [
      "\n"
     ]
    },
    {
     "name": "stdout",
     "output_type": "stream",
     "text": [
      "Correct: 8918, total: 10000, accuracy: 0.8917999864, average loss: 0.0026727790\n"
     ]
    },
    {
     "name": "stderr",
     "output_type": "stream",
     "text": [
      "391it [00:56,  6.91it/s]"
     ]
    },
    {
     "name": "stdout",
     "output_type": "stream",
     "text": [
      "Epoch 156 finished, average loss: 0.0016190255\n",
      "Starting testing\n"
     ]
    },
    {
     "name": "stderr",
     "output_type": "stream",
     "text": [
      "\n"
     ]
    },
    {
     "name": "stdout",
     "output_type": "stream",
     "text": [
      "Correct: 8926, total: 10000, accuracy: 0.8925999999, average loss: 0.0025428664\n"
     ]
    },
    {
     "name": "stderr",
     "output_type": "stream",
     "text": [
      "391it [00:56,  6.90it/s]"
     ]
    },
    {
     "name": "stdout",
     "output_type": "stream",
     "text": [
      "Epoch 157 finished, average loss: 0.0016302641\n",
      "Starting testing\n"
     ]
    },
    {
     "name": "stderr",
     "output_type": "stream",
     "text": [
      "\n"
     ]
    },
    {
     "name": "stdout",
     "output_type": "stream",
     "text": [
      "Correct: 9114, total: 10000, accuracy: 0.9113999605, average loss: 0.0020483255\n"
     ]
    },
    {
     "name": "stderr",
     "output_type": "stream",
     "text": [
      "391it [00:51,  7.55it/s]"
     ]
    },
    {
     "name": "stdout",
     "output_type": "stream",
     "text": [
      "Epoch 158 finished, average loss: 0.0015957984\n",
      "Starting testing\n"
     ]
    },
    {
     "name": "stderr",
     "output_type": "stream",
     "text": [
      "\n"
     ]
    },
    {
     "name": "stdout",
     "output_type": "stream",
     "text": [
      "Correct: 8907, total: 10000, accuracy: 0.8906999826, average loss: 0.0025055312\n"
     ]
    },
    {
     "name": "stderr",
     "output_type": "stream",
     "text": [
      "391it [00:51,  7.59it/s]"
     ]
    },
    {
     "name": "stdout",
     "output_type": "stream",
     "text": [
      "Epoch 159 finished, average loss: 0.0015658519\n",
      "Starting testing\n"
     ]
    },
    {
     "name": "stderr",
     "output_type": "stream",
     "text": [
      "\n"
     ]
    },
    {
     "name": "stdout",
     "output_type": "stream",
     "text": [
      "Correct: 9027, total: 10000, accuracy: 0.9027000070, average loss: 0.0024170780\n"
     ]
    },
    {
     "name": "stderr",
     "output_type": "stream",
     "text": [
      "391it [00:51,  7.65it/s]"
     ]
    },
    {
     "name": "stdout",
     "output_type": "stream",
     "text": [
      "Epoch 160 finished, average loss: 0.0016030473\n",
      "Starting testing\n"
     ]
    },
    {
     "name": "stderr",
     "output_type": "stream",
     "text": [
      "\n"
     ]
    },
    {
     "name": "stdout",
     "output_type": "stream",
     "text": [
      "Correct: 9068, total: 10000, accuracy: 0.9067999721, average loss: 0.0021907269\n"
     ]
    },
    {
     "name": "stderr",
     "output_type": "stream",
     "text": [
      "391it [00:51,  7.52it/s]"
     ]
    },
    {
     "name": "stdout",
     "output_type": "stream",
     "text": [
      "Epoch 161 finished, average loss: 0.0016375429\n",
      "Starting testing\n"
     ]
    },
    {
     "name": "stderr",
     "output_type": "stream",
     "text": [
      "\n"
     ]
    },
    {
     "name": "stdout",
     "output_type": "stream",
     "text": [
      "Correct: 8897, total: 10000, accuracy: 0.8896999955, average loss: 0.0025762941\n"
     ]
    },
    {
     "name": "stderr",
     "output_type": "stream",
     "text": [
      "391it [00:54,  7.18it/s]"
     ]
    },
    {
     "name": "stdout",
     "output_type": "stream",
     "text": [
      "Epoch 162 finished, average loss: 0.0015925859\n",
      "Starting testing\n"
     ]
    },
    {
     "name": "stderr",
     "output_type": "stream",
     "text": [
      "\n"
     ]
    },
    {
     "name": "stdout",
     "output_type": "stream",
     "text": [
      "Correct: 8920, total: 10000, accuracy: 0.8919999599, average loss: 0.0024681517\n"
     ]
    },
    {
     "name": "stderr",
     "output_type": "stream",
     "text": [
      "391it [00:58,  6.65it/s]"
     ]
    },
    {
     "name": "stdout",
     "output_type": "stream",
     "text": [
      "Epoch 163 finished, average loss: 0.0015864379\n",
      "Starting testing\n"
     ]
    },
    {
     "name": "stderr",
     "output_type": "stream",
     "text": [
      "\n"
     ]
    },
    {
     "name": "stdout",
     "output_type": "stream",
     "text": [
      "Correct: 8973, total: 10000, accuracy: 0.8973000050, average loss: 0.0024880588\n"
     ]
    },
    {
     "name": "stderr",
     "output_type": "stream",
     "text": [
      "391it [00:59,  6.59it/s]"
     ]
    },
    {
     "name": "stdout",
     "output_type": "stream",
     "text": [
      "Epoch 164 finished, average loss: 0.0016163687\n",
      "Starting testing\n"
     ]
    },
    {
     "name": "stderr",
     "output_type": "stream",
     "text": [
      "\n"
     ]
    },
    {
     "name": "stdout",
     "output_type": "stream",
     "text": [
      "Correct: 9030, total: 10000, accuracy: 0.9029999971, average loss: 0.0023149633\n"
     ]
    },
    {
     "name": "stderr",
     "output_type": "stream",
     "text": [
      "391it [00:58,  6.63it/s]"
     ]
    },
    {
     "name": "stdout",
     "output_type": "stream",
     "text": [
      "Epoch 165 finished, average loss: 0.0016174450\n",
      "Starting testing\n"
     ]
    },
    {
     "name": "stderr",
     "output_type": "stream",
     "text": [
      "\n"
     ]
    },
    {
     "name": "stdout",
     "output_type": "stream",
     "text": [
      "Correct: 8828, total: 10000, accuracy: 0.8827999830, average loss: 0.0028426841\n"
     ]
    },
    {
     "name": "stderr",
     "output_type": "stream",
     "text": [
      "391it [00:57,  6.76it/s]"
     ]
    },
    {
     "name": "stdout",
     "output_type": "stream",
     "text": [
      "Epoch 166 finished, average loss: 0.0015640771\n",
      "Starting testing\n"
     ]
    },
    {
     "name": "stderr",
     "output_type": "stream",
     "text": [
      "\n"
     ]
    },
    {
     "name": "stdout",
     "output_type": "stream",
     "text": [
      "Correct: 9022, total: 10000, accuracy: 0.9021999836, average loss: 0.0024796689\n"
     ]
    },
    {
     "name": "stderr",
     "output_type": "stream",
     "text": [
      "391it [00:58,  6.70it/s]"
     ]
    },
    {
     "name": "stdout",
     "output_type": "stream",
     "text": [
      "Epoch 167 finished, average loss: 0.0016620135\n",
      "Starting testing\n"
     ]
    },
    {
     "name": "stderr",
     "output_type": "stream",
     "text": [
      "\n"
     ]
    },
    {
     "name": "stdout",
     "output_type": "stream",
     "text": [
      "Correct: 8868, total: 10000, accuracy: 0.8867999911, average loss: 0.0027843996\n"
     ]
    },
    {
     "name": "stderr",
     "output_type": "stream",
     "text": [
      "391it [00:56,  6.95it/s]"
     ]
    },
    {
     "name": "stdout",
     "output_type": "stream",
     "text": [
      "Epoch 168 finished, average loss: 0.0015915135\n",
      "Starting testing\n"
     ]
    },
    {
     "name": "stderr",
     "output_type": "stream",
     "text": [
      "\n"
     ]
    },
    {
     "name": "stdout",
     "output_type": "stream",
     "text": [
      "Correct: 8953, total: 10000, accuracy: 0.8952999711, average loss: 0.0025646823\n"
     ]
    },
    {
     "name": "stderr",
     "output_type": "stream",
     "text": [
      "391it [00:56,  6.94it/s]"
     ]
    },
    {
     "name": "stdout",
     "output_type": "stream",
     "text": [
      "Epoch 169 finished, average loss: 0.0015775147\n",
      "Starting testing\n"
     ]
    },
    {
     "name": "stderr",
     "output_type": "stream",
     "text": [
      "\n"
     ]
    },
    {
     "name": "stdout",
     "output_type": "stream",
     "text": [
      "Correct: 9128, total: 10000, accuracy: 0.9127999544, average loss: 0.0020316377\n"
     ]
    },
    {
     "name": "stderr",
     "output_type": "stream",
     "text": [
      "391it [00:51,  7.64it/s]\n"
     ]
    },
    {
     "name": "stdout",
     "output_type": "stream",
     "text": [
      "Epoch 170 finished, average loss: 0.0015928254\n",
      "Starting testing\n",
      "Correct: 9012, total: 10000, accuracy: 0.9011999965, average loss: 0.0024077794\n"
     ]
    },
    {
     "name": "stderr",
     "output_type": "stream",
     "text": [
      "391it [00:50,  7.77it/s]"
     ]
    },
    {
     "name": "stdout",
     "output_type": "stream",
     "text": [
      "Epoch 171 finished, average loss: 0.0015780850\n",
      "Starting testing\n"
     ]
    },
    {
     "name": "stderr",
     "output_type": "stream",
     "text": [
      "\n"
     ]
    },
    {
     "name": "stdout",
     "output_type": "stream",
     "text": [
      "Correct: 9026, total: 10000, accuracy: 0.9025999904, average loss: 0.0023672034\n"
     ]
    },
    {
     "name": "stderr",
     "output_type": "stream",
     "text": [
      "391it [00:50,  7.72it/s]"
     ]
    },
    {
     "name": "stdout",
     "output_type": "stream",
     "text": [
      "Epoch 172 finished, average loss: 0.0015983472\n",
      "Starting testing\n"
     ]
    },
    {
     "name": "stderr",
     "output_type": "stream",
     "text": [
      "\n"
     ]
    },
    {
     "name": "stdout",
     "output_type": "stream",
     "text": [
      "Correct: 9060, total: 10000, accuracy: 0.9059999585, average loss: 0.0023039629\n"
     ]
    },
    {
     "name": "stderr",
     "output_type": "stream",
     "text": [
      "391it [00:50,  7.79it/s]"
     ]
    },
    {
     "name": "stdout",
     "output_type": "stream",
     "text": [
      "Epoch 173 finished, average loss: 0.0016111394\n",
      "Starting testing\n"
     ]
    },
    {
     "name": "stderr",
     "output_type": "stream",
     "text": [
      "\n"
     ]
    },
    {
     "name": "stdout",
     "output_type": "stream",
     "text": [
      "Correct: 9080, total: 10000, accuracy: 0.9079999924, average loss: 0.0022428410\n"
     ]
    },
    {
     "name": "stderr",
     "output_type": "stream",
     "text": [
      "391it [00:51,  7.66it/s]"
     ]
    },
    {
     "name": "stdout",
     "output_type": "stream",
     "text": [
      "Epoch 174 finished, average loss: 0.0015948063\n",
      "Starting testing\n"
     ]
    },
    {
     "name": "stderr",
     "output_type": "stream",
     "text": [
      "\n"
     ]
    },
    {
     "name": "stdout",
     "output_type": "stream",
     "text": [
      "Correct: 8863, total: 10000, accuracy: 0.8862999678, average loss: 0.0029289314\n"
     ]
    },
    {
     "name": "stderr",
     "output_type": "stream",
     "text": [
      "391it [00:54,  7.13it/s]"
     ]
    },
    {
     "name": "stdout",
     "output_type": "stream",
     "text": [
      "Epoch 175 finished, average loss: 0.0015839407\n",
      "Starting testing\n"
     ]
    },
    {
     "name": "stderr",
     "output_type": "stream",
     "text": [
      "\n"
     ]
    },
    {
     "name": "stdout",
     "output_type": "stream",
     "text": [
      "Correct: 8780, total: 10000, accuracy: 0.8779999614, average loss: 0.0031652882\n"
     ]
    },
    {
     "name": "stderr",
     "output_type": "stream",
     "text": [
      "391it [00:50,  7.73it/s]"
     ]
    },
    {
     "name": "stdout",
     "output_type": "stream",
     "text": [
      "Epoch 176 finished, average loss: 0.0015980321\n",
      "Starting testing\n"
     ]
    },
    {
     "name": "stderr",
     "output_type": "stream",
     "text": [
      "\n"
     ]
    },
    {
     "name": "stdout",
     "output_type": "stream",
     "text": [
      "Correct: 9054, total: 10000, accuracy: 0.9053999782, average loss: 0.0022545341\n"
     ]
    },
    {
     "name": "stderr",
     "output_type": "stream",
     "text": [
      "391it [00:50,  7.73it/s]"
     ]
    },
    {
     "name": "stdout",
     "output_type": "stream",
     "text": [
      "Epoch 177 finished, average loss: 0.0015685294\n",
      "Starting testing\n"
     ]
    },
    {
     "name": "stderr",
     "output_type": "stream",
     "text": [
      "\n"
     ]
    },
    {
     "name": "stdout",
     "output_type": "stream",
     "text": [
      "Correct: 9065, total: 10000, accuracy: 0.9064999819, average loss: 0.0022888247\n"
     ]
    },
    {
     "name": "stderr",
     "output_type": "stream",
     "text": [
      "391it [00:50,  7.71it/s]"
     ]
    },
    {
     "name": "stdout",
     "output_type": "stream",
     "text": [
      "Epoch 178 finished, average loss: 0.0015837942\n",
      "Starting testing\n"
     ]
    },
    {
     "name": "stderr",
     "output_type": "stream",
     "text": [
      "\n"
     ]
    },
    {
     "name": "stdout",
     "output_type": "stream",
     "text": [
      "Correct: 9102, total: 10000, accuracy: 0.9101999998, average loss: 0.0021128512\n"
     ]
    },
    {
     "name": "stderr",
     "output_type": "stream",
     "text": [
      "391it [00:50,  7.69it/s]"
     ]
    },
    {
     "name": "stdout",
     "output_type": "stream",
     "text": [
      "Epoch 179 finished, average loss: 0.0015716111\n",
      "Starting testing\n"
     ]
    },
    {
     "name": "stderr",
     "output_type": "stream",
     "text": [
      "\n"
     ]
    },
    {
     "name": "stdout",
     "output_type": "stream",
     "text": [
      "Correct: 9006, total: 10000, accuracy: 0.9005999565, average loss: 0.0023054230\n"
     ]
    },
    {
     "name": "stderr",
     "output_type": "stream",
     "text": [
      "391it [00:51,  7.66it/s]"
     ]
    },
    {
     "name": "stdout",
     "output_type": "stream",
     "text": [
      "Epoch 180 finished, average loss: 0.0016197939\n",
      "Starting testing\n"
     ]
    },
    {
     "name": "stderr",
     "output_type": "stream",
     "text": [
      "\n"
     ]
    },
    {
     "name": "stdout",
     "output_type": "stream",
     "text": [
      "Correct: 8961, total: 10000, accuracy: 0.8960999846, average loss: 0.0025746554\n"
     ]
    },
    {
     "name": "stderr",
     "output_type": "stream",
     "text": [
      "391it [00:50,  7.69it/s]"
     ]
    },
    {
     "name": "stdout",
     "output_type": "stream",
     "text": [
      "Epoch 181 finished, average loss: 0.0015605423\n",
      "Starting testing\n"
     ]
    },
    {
     "name": "stderr",
     "output_type": "stream",
     "text": [
      "\n"
     ]
    },
    {
     "name": "stdout",
     "output_type": "stream",
     "text": [
      "Correct: 8990, total: 10000, accuracy: 0.8989999890, average loss: 0.0024340605\n"
     ]
    },
    {
     "name": "stderr",
     "output_type": "stream",
     "text": [
      "391it [00:51,  7.61it/s]"
     ]
    },
    {
     "name": "stdout",
     "output_type": "stream",
     "text": [
      "Epoch 182 finished, average loss: 0.0015592589\n",
      "Starting testing\n"
     ]
    },
    {
     "name": "stderr",
     "output_type": "stream",
     "text": [
      "\n"
     ]
    },
    {
     "name": "stdout",
     "output_type": "stream",
     "text": [
      "Correct: 9021, total: 10000, accuracy: 0.9020999670, average loss: 0.0024094638\n"
     ]
    },
    {
     "name": "stderr",
     "output_type": "stream",
     "text": [
      "391it [00:50,  7.67it/s]"
     ]
    },
    {
     "name": "stdout",
     "output_type": "stream",
     "text": [
      "Epoch 183 finished, average loss: 0.0015659062\n",
      "Starting testing\n"
     ]
    },
    {
     "name": "stderr",
     "output_type": "stream",
     "text": [
      "\n"
     ]
    },
    {
     "name": "stdout",
     "output_type": "stream",
     "text": [
      "Correct: 8991, total: 10000, accuracy: 0.8991000056, average loss: 0.0026458986\n"
     ]
    },
    {
     "name": "stderr",
     "output_type": "stream",
     "text": [
      "391it [00:51,  7.62it/s]"
     ]
    },
    {
     "name": "stdout",
     "output_type": "stream",
     "text": [
      "Epoch 184 finished, average loss: 0.0015358061\n",
      "Starting testing\n"
     ]
    },
    {
     "name": "stderr",
     "output_type": "stream",
     "text": [
      "\n"
     ]
    },
    {
     "name": "stdout",
     "output_type": "stream",
     "text": [
      "Correct: 9092, total: 10000, accuracy: 0.9091999531, average loss: 0.0022542114\n"
     ]
    },
    {
     "name": "stderr",
     "output_type": "stream",
     "text": [
      "391it [00:51,  7.65it/s]"
     ]
    },
    {
     "name": "stdout",
     "output_type": "stream",
     "text": [
      "Epoch 185 finished, average loss: 0.0015866875\n",
      "Starting testing\n"
     ]
    },
    {
     "name": "stderr",
     "output_type": "stream",
     "text": [
      "\n"
     ]
    },
    {
     "name": "stdout",
     "output_type": "stream",
     "text": [
      "Correct: 8992, total: 10000, accuracy: 0.8991999626, average loss: 0.0023505002\n"
     ]
    },
    {
     "name": "stderr",
     "output_type": "stream",
     "text": [
      "391it [00:53,  7.34it/s]"
     ]
    },
    {
     "name": "stdout",
     "output_type": "stream",
     "text": [
      "Epoch 186 finished, average loss: 0.0015176107\n",
      "Starting testing\n"
     ]
    },
    {
     "name": "stderr",
     "output_type": "stream",
     "text": [
      "\n"
     ]
    },
    {
     "name": "stdout",
     "output_type": "stream",
     "text": [
      "Correct: 8703, total: 10000, accuracy: 0.8702999949, average loss: 0.0032583767\n"
     ]
    },
    {
     "name": "stderr",
     "output_type": "stream",
     "text": [
      "391it [00:51,  7.65it/s]"
     ]
    },
    {
     "name": "stdout",
     "output_type": "stream",
     "text": [
      "Epoch 187 finished, average loss: 0.0016212132\n",
      "Starting testing\n"
     ]
    },
    {
     "name": "stderr",
     "output_type": "stream",
     "text": [
      "\n"
     ]
    },
    {
     "name": "stdout",
     "output_type": "stream",
     "text": [
      "Correct: 8949, total: 10000, accuracy: 0.8948999643, average loss: 0.0025341353\n"
     ]
    },
    {
     "name": "stderr",
     "output_type": "stream",
     "text": [
      "391it [00:51,  7.60it/s]"
     ]
    },
    {
     "name": "stdout",
     "output_type": "stream",
     "text": [
      "Epoch 188 finished, average loss: 0.0015915702\n",
      "Starting testing\n"
     ]
    },
    {
     "name": "stderr",
     "output_type": "stream",
     "text": [
      "\n"
     ]
    },
    {
     "name": "stdout",
     "output_type": "stream",
     "text": [
      "Correct: 9072, total: 10000, accuracy: 0.9071999788, average loss: 0.0022850806\n"
     ]
    },
    {
     "name": "stderr",
     "output_type": "stream",
     "text": [
      "391it [00:50,  7.72it/s]"
     ]
    },
    {
     "name": "stdout",
     "output_type": "stream",
     "text": [
      "Epoch 189 finished, average loss: 0.0015606522\n",
      "Starting testing\n"
     ]
    },
    {
     "name": "stderr",
     "output_type": "stream",
     "text": [
      "\n"
     ]
    },
    {
     "name": "stdout",
     "output_type": "stream",
     "text": [
      "Correct: 8984, total: 10000, accuracy: 0.8983999491, average loss: 0.0023935177\n"
     ]
    },
    {
     "name": "stderr",
     "output_type": "stream",
     "text": [
      "391it [00:51,  7.62it/s]"
     ]
    },
    {
     "name": "stdout",
     "output_type": "stream",
     "text": [
      "Epoch 190 finished, average loss: 0.0015613956\n",
      "Starting testing\n"
     ]
    },
    {
     "name": "stderr",
     "output_type": "stream",
     "text": [
      "\n"
     ]
    },
    {
     "name": "stdout",
     "output_type": "stream",
     "text": [
      "Correct: 9040, total: 10000, accuracy: 0.9039999843, average loss: 0.0022602641\n"
     ]
    },
    {
     "name": "stderr",
     "output_type": "stream",
     "text": [
      "391it [00:50,  7.70it/s]"
     ]
    },
    {
     "name": "stdout",
     "output_type": "stream",
     "text": [
      "Epoch 191 finished, average loss: 0.0015708444\n",
      "Starting testing\n"
     ]
    },
    {
     "name": "stderr",
     "output_type": "stream",
     "text": [
      "\n"
     ]
    },
    {
     "name": "stdout",
     "output_type": "stream",
     "text": [
      "Correct: 9150, total: 10000, accuracy: 0.9149999619, average loss: 0.0019559462\n"
     ]
    },
    {
     "name": "stderr",
     "output_type": "stream",
     "text": [
      "391it [00:50,  7.81it/s]"
     ]
    },
    {
     "name": "stdout",
     "output_type": "stream",
     "text": [
      "Epoch 192 finished, average loss: 0.0015426817\n",
      "Starting testing\n"
     ]
    },
    {
     "name": "stderr",
     "output_type": "stream",
     "text": [
      "\n"
     ]
    },
    {
     "name": "stdout",
     "output_type": "stream",
     "text": [
      "Correct: 9020, total: 10000, accuracy: 0.9019999504, average loss: 0.0024285045\n"
     ]
    },
    {
     "name": "stderr",
     "output_type": "stream",
     "text": [
      "391it [00:49,  7.86it/s]"
     ]
    },
    {
     "name": "stdout",
     "output_type": "stream",
     "text": [
      "Epoch 193 finished, average loss: 0.0015921767\n",
      "Starting testing\n"
     ]
    },
    {
     "name": "stderr",
     "output_type": "stream",
     "text": [
      "\n"
     ]
    },
    {
     "name": "stdout",
     "output_type": "stream",
     "text": [
      "Correct: 9023, total: 10000, accuracy: 0.9023000002, average loss: 0.0022934837\n"
     ]
    },
    {
     "name": "stderr",
     "output_type": "stream",
     "text": [
      "391it [00:51,  7.59it/s]"
     ]
    },
    {
     "name": "stdout",
     "output_type": "stream",
     "text": [
      "Epoch 194 finished, average loss: 0.0015614029\n",
      "Starting testing\n"
     ]
    },
    {
     "name": "stderr",
     "output_type": "stream",
     "text": [
      "\n"
     ]
    },
    {
     "name": "stdout",
     "output_type": "stream",
     "text": [
      "Correct: 8953, total: 10000, accuracy: 0.8952999711, average loss: 0.0024232882\n"
     ]
    },
    {
     "name": "stderr",
     "output_type": "stream",
     "text": [
      "391it [00:49,  7.86it/s]"
     ]
    },
    {
     "name": "stdout",
     "output_type": "stream",
     "text": [
      "Epoch 195 finished, average loss: 0.0015386276\n",
      "Starting testing\n"
     ]
    },
    {
     "name": "stderr",
     "output_type": "stream",
     "text": [
      "\n"
     ]
    },
    {
     "name": "stdout",
     "output_type": "stream",
     "text": [
      "Correct: 9035, total: 10000, accuracy: 0.9034999609, average loss: 0.0024524996\n"
     ]
    },
    {
     "name": "stderr",
     "output_type": "stream",
     "text": [
      "391it [00:50,  7.82it/s]"
     ]
    },
    {
     "name": "stdout",
     "output_type": "stream",
     "text": [
      "Epoch 196 finished, average loss: 0.0014957791\n",
      "Starting testing\n"
     ]
    },
    {
     "name": "stderr",
     "output_type": "stream",
     "text": [
      "\n"
     ]
    },
    {
     "name": "stdout",
     "output_type": "stream",
     "text": [
      "Correct: 8840, total: 10000, accuracy: 0.8840000033, average loss: 0.0027739028\n"
     ]
    },
    {
     "name": "stderr",
     "output_type": "stream",
     "text": [
      "391it [00:50,  7.79it/s]"
     ]
    },
    {
     "name": "stdout",
     "output_type": "stream",
     "text": [
      "Epoch 197 finished, average loss: 0.0015952859\n",
      "Starting testing\n"
     ]
    },
    {
     "name": "stderr",
     "output_type": "stream",
     "text": [
      "\n"
     ]
    },
    {
     "name": "stdout",
     "output_type": "stream",
     "text": [
      "Correct: 9062, total: 10000, accuracy: 0.9061999917, average loss: 0.0022191776\n"
     ]
    },
    {
     "name": "stderr",
     "output_type": "stream",
     "text": [
      "391it [00:49,  7.83it/s]"
     ]
    },
    {
     "name": "stdout",
     "output_type": "stream",
     "text": [
      "Epoch 198 finished, average loss: 0.0015122055\n",
      "Starting testing\n"
     ]
    },
    {
     "name": "stderr",
     "output_type": "stream",
     "text": [
      "\n"
     ]
    },
    {
     "name": "stdout",
     "output_type": "stream",
     "text": [
      "Correct: 8874, total: 10000, accuracy: 0.8873999715, average loss: 0.0029892770\n"
     ]
    },
    {
     "name": "stderr",
     "output_type": "stream",
     "text": [
      "391it [00:50,  7.80it/s]"
     ]
    },
    {
     "name": "stdout",
     "output_type": "stream",
     "text": [
      "Epoch 199 finished, average loss: 0.0015326285\n",
      "Starting testing\n"
     ]
    },
    {
     "name": "stderr",
     "output_type": "stream",
     "text": [
      "\n"
     ]
    },
    {
     "name": "stdout",
     "output_type": "stream",
     "text": [
      "Correct: 9047, total: 10000, accuracy: 0.9046999812, average loss: 0.0023128310\n"
     ]
    },
    {
     "name": "stderr",
     "output_type": "stream",
     "text": [
      "391it [00:49,  7.82it/s]"
     ]
    },
    {
     "name": "stdout",
     "output_type": "stream",
     "text": [
      "Epoch 200 finished, average loss: 0.0015273706\n",
      "Starting testing\n"
     ]
    },
    {
     "name": "stderr",
     "output_type": "stream",
     "text": [
      "\n"
     ]
    },
    {
     "name": "stdout",
     "output_type": "stream",
     "text": [
      "Correct: 8958, total: 10000, accuracy: 0.8957999945, average loss: 0.0024267136\n"
     ]
    },
    {
     "name": "stderr",
     "output_type": "stream",
     "text": [
      "391it [00:50,  7.74it/s]"
     ]
    },
    {
     "name": "stdout",
     "output_type": "stream",
     "text": [
      "Epoch 201 finished, average loss: 0.0015391886\n",
      "Starting testing\n"
     ]
    },
    {
     "name": "stderr",
     "output_type": "stream",
     "text": [
      "\n"
     ]
    },
    {
     "name": "stdout",
     "output_type": "stream",
     "text": [
      "Correct: 8995, total: 10000, accuracy: 0.8994999528, average loss: 0.0024450561\n"
     ]
    },
    {
     "name": "stderr",
     "output_type": "stream",
     "text": [
      "391it [00:50,  7.78it/s]"
     ]
    },
    {
     "name": "stdout",
     "output_type": "stream",
     "text": [
      "Epoch 202 finished, average loss: 0.0015599123\n",
      "Starting testing\n"
     ]
    },
    {
     "name": "stderr",
     "output_type": "stream",
     "text": [
      "\n"
     ]
    },
    {
     "name": "stdout",
     "output_type": "stream",
     "text": [
      "Correct: 9057, total: 10000, accuracy: 0.9056999683, average loss: 0.0023064158\n"
     ]
    },
    {
     "name": "stderr",
     "output_type": "stream",
     "text": [
      "391it [00:50,  7.73it/s]"
     ]
    },
    {
     "name": "stdout",
     "output_type": "stream",
     "text": [
      "Epoch 203 finished, average loss: 0.0015261163\n",
      "Starting testing\n"
     ]
    },
    {
     "name": "stderr",
     "output_type": "stream",
     "text": [
      "\n"
     ]
    },
    {
     "name": "stdout",
     "output_type": "stream",
     "text": [
      "Correct: 9094, total: 10000, accuracy: 0.9093999863, average loss: 0.0021559607\n"
     ]
    },
    {
     "name": "stderr",
     "output_type": "stream",
     "text": [
      "391it [00:50,  7.75it/s]"
     ]
    },
    {
     "name": "stdout",
     "output_type": "stream",
     "text": [
      "Epoch 204 finished, average loss: 0.0015496672\n",
      "Starting testing\n"
     ]
    },
    {
     "name": "stderr",
     "output_type": "stream",
     "text": [
      "\n"
     ]
    },
    {
     "name": "stdout",
     "output_type": "stream",
     "text": [
      "Correct: 8843, total: 10000, accuracy: 0.8842999935, average loss: 0.0029454518\n"
     ]
    },
    {
     "name": "stderr",
     "output_type": "stream",
     "text": [
      "391it [00:50,  7.73it/s]"
     ]
    },
    {
     "name": "stdout",
     "output_type": "stream",
     "text": [
      "Epoch 205 finished, average loss: 0.0015638837\n",
      "Starting testing\n"
     ]
    },
    {
     "name": "stderr",
     "output_type": "stream",
     "text": [
      "\n"
     ]
    },
    {
     "name": "stdout",
     "output_type": "stream",
     "text": [
      "Correct: 8989, total: 10000, accuracy: 0.8988999724, average loss: 0.0024572385\n"
     ]
    },
    {
     "name": "stderr",
     "output_type": "stream",
     "text": [
      "391it [00:50,  7.76it/s]"
     ]
    },
    {
     "name": "stdout",
     "output_type": "stream",
     "text": [
      "Epoch 206 finished, average loss: 0.0015671248\n",
      "Starting testing\n"
     ]
    },
    {
     "name": "stderr",
     "output_type": "stream",
     "text": [
      "\n"
     ]
    },
    {
     "name": "stdout",
     "output_type": "stream",
     "text": [
      "Correct: 9123, total: 10000, accuracy: 0.9122999907, average loss: 0.0021144827\n"
     ]
    },
    {
     "name": "stderr",
     "output_type": "stream",
     "text": [
      "391it [00:50,  7.69it/s]"
     ]
    },
    {
     "name": "stdout",
     "output_type": "stream",
     "text": [
      "Epoch 207 finished, average loss: 0.0015243788\n",
      "Starting testing\n"
     ]
    },
    {
     "name": "stderr",
     "output_type": "stream",
     "text": [
      "\n"
     ]
    },
    {
     "name": "stdout",
     "output_type": "stream",
     "text": [
      "Correct: 9051, total: 10000, accuracy: 0.9050999880, average loss: 0.0022539354\n"
     ]
    },
    {
     "name": "stderr",
     "output_type": "stream",
     "text": [
      "391it [00:50,  7.71it/s]"
     ]
    },
    {
     "name": "stdout",
     "output_type": "stream",
     "text": [
      "Epoch 208 finished, average loss: 0.0015190217\n",
      "Starting testing\n"
     ]
    },
    {
     "name": "stderr",
     "output_type": "stream",
     "text": [
      "\n"
     ]
    },
    {
     "name": "stdout",
     "output_type": "stream",
     "text": [
      "Correct: 9064, total: 10000, accuracy: 0.9063999653, average loss: 0.0022332283\n"
     ]
    },
    {
     "name": "stderr",
     "output_type": "stream",
     "text": [
      "391it [00:50,  7.68it/s]"
     ]
    },
    {
     "name": "stdout",
     "output_type": "stream",
     "text": [
      "Epoch 209 finished, average loss: 0.0014843797\n",
      "Starting testing\n"
     ]
    },
    {
     "name": "stderr",
     "output_type": "stream",
     "text": [
      "\n"
     ]
    },
    {
     "name": "stdout",
     "output_type": "stream",
     "text": [
      "Correct: 8950, total: 10000, accuracy: 0.8949999809, average loss: 0.0025056241\n"
     ]
    },
    {
     "name": "stderr",
     "output_type": "stream",
     "text": [
      "391it [00:50,  7.69it/s]"
     ]
    },
    {
     "name": "stdout",
     "output_type": "stream",
     "text": [
      "Epoch 210 finished, average loss: 0.0015304792\n",
      "Starting testing\n"
     ]
    },
    {
     "name": "stderr",
     "output_type": "stream",
     "text": [
      "\n"
     ]
    },
    {
     "name": "stdout",
     "output_type": "stream",
     "text": [
      "Correct: 8984, total: 10000, accuracy: 0.8983999491, average loss: 0.0024562566\n"
     ]
    },
    {
     "name": "stderr",
     "output_type": "stream",
     "text": [
      "391it [00:52,  7.47it/s]\n"
     ]
    },
    {
     "name": "stdout",
     "output_type": "stream",
     "text": [
      "Epoch 211 finished, average loss: 0.0015518219\n",
      "Starting testing\n",
      "Correct: 9109, total: 10000, accuracy: 0.9108999968, average loss: 0.0022021011\n"
     ]
    },
    {
     "name": "stderr",
     "output_type": "stream",
     "text": [
      "391it [00:51,  7.66it/s]"
     ]
    },
    {
     "name": "stdout",
     "output_type": "stream",
     "text": [
      "Epoch 212 finished, average loss: 0.0015146996\n",
      "Starting testing\n"
     ]
    },
    {
     "name": "stderr",
     "output_type": "stream",
     "text": [
      "\n"
     ]
    },
    {
     "name": "stdout",
     "output_type": "stream",
     "text": [
      "Correct: 8930, total: 10000, accuracy: 0.8930000067, average loss: 0.0024682094\n"
     ]
    },
    {
     "name": "stderr",
     "output_type": "stream",
     "text": [
      "391it [00:50,  7.69it/s]"
     ]
    },
    {
     "name": "stdout",
     "output_type": "stream",
     "text": [
      "Epoch 213 finished, average loss: 0.0015537891\n",
      "Starting testing\n"
     ]
    },
    {
     "name": "stderr",
     "output_type": "stream",
     "text": [
      "\n"
     ]
    },
    {
     "name": "stdout",
     "output_type": "stream",
     "text": [
      "Correct: 9032, total: 10000, accuracy: 0.9031999707, average loss: 0.0022746350\n"
     ]
    },
    {
     "name": "stderr",
     "output_type": "stream",
     "text": [
      "391it [00:50,  7.67it/s]"
     ]
    },
    {
     "name": "stdout",
     "output_type": "stream",
     "text": [
      "Epoch 214 finished, average loss: 0.0015207490\n",
      "Starting testing\n"
     ]
    },
    {
     "name": "stderr",
     "output_type": "stream",
     "text": [
      "\n"
     ]
    },
    {
     "name": "stdout",
     "output_type": "stream",
     "text": [
      "Correct: 9009, total: 10000, accuracy: 0.9009000063, average loss: 0.0022742502\n"
     ]
    },
    {
     "name": "stderr",
     "output_type": "stream",
     "text": [
      "391it [00:50,  7.70it/s]"
     ]
    },
    {
     "name": "stdout",
     "output_type": "stream",
     "text": [
      "Epoch 215 finished, average loss: 0.0015172914\n",
      "Starting testing\n"
     ]
    },
    {
     "name": "stderr",
     "output_type": "stream",
     "text": [
      "\n"
     ]
    },
    {
     "name": "stdout",
     "output_type": "stream",
     "text": [
      "Correct: 9106, total: 10000, accuracy: 0.9106000066, average loss: 0.0021715940\n"
     ]
    },
    {
     "name": "stderr",
     "output_type": "stream",
     "text": [
      "391it [00:50,  7.76it/s]"
     ]
    },
    {
     "name": "stdout",
     "output_type": "stream",
     "text": [
      "Epoch 216 finished, average loss: 0.0015470497\n",
      "Starting testing\n"
     ]
    },
    {
     "name": "stderr",
     "output_type": "stream",
     "text": [
      "\n"
     ]
    },
    {
     "name": "stdout",
     "output_type": "stream",
     "text": [
      "Correct: 8981, total: 10000, accuracy: 0.8980999589, average loss: 0.0025660054\n"
     ]
    },
    {
     "name": "stderr",
     "output_type": "stream",
     "text": [
      "391it [00:50,  7.70it/s]"
     ]
    },
    {
     "name": "stdout",
     "output_type": "stream",
     "text": [
      "Epoch 217 finished, average loss: 0.0015229533\n",
      "Starting testing\n"
     ]
    },
    {
     "name": "stderr",
     "output_type": "stream",
     "text": [
      "\n"
     ]
    },
    {
     "name": "stdout",
     "output_type": "stream",
     "text": [
      "Correct: 8624, total: 10000, accuracy: 0.8623999953, average loss: 0.0037666261\n"
     ]
    },
    {
     "name": "stderr",
     "output_type": "stream",
     "text": [
      "391it [00:50,  7.68it/s]"
     ]
    },
    {
     "name": "stdout",
     "output_type": "stream",
     "text": [
      "Epoch 218 finished, average loss: 0.0015379581\n",
      "Starting testing\n"
     ]
    },
    {
     "name": "stderr",
     "output_type": "stream",
     "text": [
      "\n"
     ]
    },
    {
     "name": "stdout",
     "output_type": "stream",
     "text": [
      "Correct: 9137, total: 10000, accuracy: 0.9136999846, average loss: 0.0020898014\n"
     ]
    },
    {
     "name": "stderr",
     "output_type": "stream",
     "text": [
      "391it [00:50,  7.68it/s]"
     ]
    },
    {
     "name": "stdout",
     "output_type": "stream",
     "text": [
      "Epoch 219 finished, average loss: 0.0015565308\n",
      "Starting testing\n"
     ]
    },
    {
     "name": "stderr",
     "output_type": "stream",
     "text": [
      "\n"
     ]
    },
    {
     "name": "stdout",
     "output_type": "stream",
     "text": [
      "Correct: 8959, total: 10000, accuracy: 0.8958999515, average loss: 0.0026200707\n"
     ]
    },
    {
     "name": "stderr",
     "output_type": "stream",
     "text": [
      "391it [00:51,  7.63it/s]"
     ]
    },
    {
     "name": "stdout",
     "output_type": "stream",
     "text": [
      "Epoch 220 finished, average loss: 0.0015044521\n",
      "Starting testing\n"
     ]
    },
    {
     "name": "stderr",
     "output_type": "stream",
     "text": [
      "\n"
     ]
    },
    {
     "name": "stdout",
     "output_type": "stream",
     "text": [
      "Correct: 8882, total: 10000, accuracy: 0.8881999850, average loss: 0.0028988364\n"
     ]
    },
    {
     "name": "stderr",
     "output_type": "stream",
     "text": [
      "391it [00:51,  7.58it/s]"
     ]
    },
    {
     "name": "stdout",
     "output_type": "stream",
     "text": [
      "Epoch 221 finished, average loss: 0.0015183909\n",
      "Starting testing\n"
     ]
    },
    {
     "name": "stderr",
     "output_type": "stream",
     "text": [
      "\n"
     ]
    },
    {
     "name": "stdout",
     "output_type": "stream",
     "text": [
      "Correct: 9079, total: 10000, accuracy: 0.9078999758, average loss: 0.0022010648\n"
     ]
    },
    {
     "name": "stderr",
     "output_type": "stream",
     "text": [
      "391it [00:51,  7.56it/s]"
     ]
    },
    {
     "name": "stdout",
     "output_type": "stream",
     "text": [
      "Epoch 222 finished, average loss: 0.0015225607\n",
      "Starting testing\n"
     ]
    },
    {
     "name": "stderr",
     "output_type": "stream",
     "text": [
      "\n"
     ]
    },
    {
     "name": "stdout",
     "output_type": "stream",
     "text": [
      "Correct: 9058, total: 10000, accuracy: 0.9057999849, average loss: 0.0022420794\n"
     ]
    },
    {
     "name": "stderr",
     "output_type": "stream",
     "text": [
      "391it [00:52,  7.38it/s]\n"
     ]
    },
    {
     "name": "stdout",
     "output_type": "stream",
     "text": [
      "Epoch 223 finished, average loss: 0.0015134284\n",
      "Starting testing\n",
      "Correct: 8881, total: 10000, accuracy: 0.8880999684, average loss: 0.0026808029\n"
     ]
    },
    {
     "name": "stderr",
     "output_type": "stream",
     "text": [
      "391it [00:51,  7.54it/s]"
     ]
    },
    {
     "name": "stdout",
     "output_type": "stream",
     "text": [
      "Epoch 224 finished, average loss: 0.0014892829\n",
      "Starting testing\n"
     ]
    },
    {
     "name": "stderr",
     "output_type": "stream",
     "text": [
      "\n"
     ]
    },
    {
     "name": "stdout",
     "output_type": "stream",
     "text": [
      "Correct: 8955, total: 10000, accuracy: 0.8955000043, average loss: 0.0025645571\n"
     ]
    },
    {
     "name": "stderr",
     "output_type": "stream",
     "text": [
      "391it [00:53,  7.26it/s]"
     ]
    },
    {
     "name": "stdout",
     "output_type": "stream",
     "text": [
      "Epoch 225 finished, average loss: 0.0015495677\n",
      "Starting testing\n"
     ]
    },
    {
     "name": "stderr",
     "output_type": "stream",
     "text": [
      "\n"
     ]
    },
    {
     "name": "stdout",
     "output_type": "stream",
     "text": [
      "Correct: 9072, total: 10000, accuracy: 0.9071999788, average loss: 0.0021971353\n"
     ]
    },
    {
     "name": "stderr",
     "output_type": "stream",
     "text": [
      "391it [00:51,  7.57it/s]"
     ]
    },
    {
     "name": "stdout",
     "output_type": "stream",
     "text": [
      "Epoch 226 finished, average loss: 0.0015262062\n",
      "Starting testing\n"
     ]
    },
    {
     "name": "stderr",
     "output_type": "stream",
     "text": [
      "\n"
     ]
    },
    {
     "name": "stdout",
     "output_type": "stream",
     "text": [
      "Correct: 8978, total: 10000, accuracy: 0.8977999687, average loss: 0.0025856248\n"
     ]
    },
    {
     "name": "stderr",
     "output_type": "stream",
     "text": [
      "391it [00:53,  7.28it/s]"
     ]
    },
    {
     "name": "stdout",
     "output_type": "stream",
     "text": [
      "Epoch 227 finished, average loss: 0.0015147375\n",
      "Starting testing\n"
     ]
    },
    {
     "name": "stderr",
     "output_type": "stream",
     "text": [
      "\n"
     ]
    },
    {
     "name": "stdout",
     "output_type": "stream",
     "text": [
      "Correct: 8930, total: 10000, accuracy: 0.8930000067, average loss: 0.0027024064\n"
     ]
    },
    {
     "name": "stderr",
     "output_type": "stream",
     "text": [
      "391it [00:52,  7.41it/s]"
     ]
    },
    {
     "name": "stdout",
     "output_type": "stream",
     "text": [
      "Epoch 228 finished, average loss: 0.0014427718\n",
      "Starting testing\n"
     ]
    },
    {
     "name": "stderr",
     "output_type": "stream",
     "text": [
      "\n"
     ]
    },
    {
     "name": "stdout",
     "output_type": "stream",
     "text": [
      "Correct: 9029, total: 10000, accuracy: 0.9028999805, average loss: 0.0024315922\n"
     ]
    },
    {
     "name": "stderr",
     "output_type": "stream",
     "text": [
      "391it [00:50,  7.68it/s]"
     ]
    },
    {
     "name": "stdout",
     "output_type": "stream",
     "text": [
      "Epoch 229 finished, average loss: 0.0015203835\n",
      "Starting testing\n"
     ]
    },
    {
     "name": "stderr",
     "output_type": "stream",
     "text": [
      "\n"
     ]
    },
    {
     "name": "stdout",
     "output_type": "stream",
     "text": [
      "Correct: 9123, total: 10000, accuracy: 0.9122999907, average loss: 0.0020520374\n"
     ]
    },
    {
     "name": "stderr",
     "output_type": "stream",
     "text": [
      "391it [00:50,  7.77it/s]"
     ]
    },
    {
     "name": "stdout",
     "output_type": "stream",
     "text": [
      "Epoch 230 finished, average loss: 0.0015402362\n",
      "Starting testing\n"
     ]
    },
    {
     "name": "stderr",
     "output_type": "stream",
     "text": [
      "\n"
     ]
    },
    {
     "name": "stdout",
     "output_type": "stream",
     "text": [
      "Correct: 8997, total: 10000, accuracy: 0.8996999860, average loss: 0.0024690776\n"
     ]
    },
    {
     "name": "stderr",
     "output_type": "stream",
     "text": [
      "391it [00:51,  7.64it/s]"
     ]
    },
    {
     "name": "stdout",
     "output_type": "stream",
     "text": [
      "Epoch 231 finished, average loss: 0.0015153851\n",
      "Starting testing\n"
     ]
    },
    {
     "name": "stderr",
     "output_type": "stream",
     "text": [
      "\n"
     ]
    },
    {
     "name": "stdout",
     "output_type": "stream",
     "text": [
      "Correct: 8970, total: 10000, accuracy: 0.8969999552, average loss: 0.0023329635\n"
     ]
    },
    {
     "name": "stderr",
     "output_type": "stream",
     "text": [
      "391it [00:50,  7.70it/s]"
     ]
    },
    {
     "name": "stdout",
     "output_type": "stream",
     "text": [
      "Epoch 232 finished, average loss: 0.0015478939\n",
      "Starting testing\n"
     ]
    },
    {
     "name": "stderr",
     "output_type": "stream",
     "text": [
      "\n"
     ]
    },
    {
     "name": "stdout",
     "output_type": "stream",
     "text": [
      "Correct: 9118, total: 10000, accuracy: 0.9117999673, average loss: 0.0022231045\n"
     ]
    },
    {
     "name": "stderr",
     "output_type": "stream",
     "text": [
      "391it [00:51,  7.67it/s]"
     ]
    },
    {
     "name": "stdout",
     "output_type": "stream",
     "text": [
      "Epoch 233 finished, average loss: 0.0015105265\n",
      "Starting testing\n"
     ]
    },
    {
     "name": "stderr",
     "output_type": "stream",
     "text": [
      "\n"
     ]
    },
    {
     "name": "stdout",
     "output_type": "stream",
     "text": [
      "Correct: 8925, total: 10000, accuracy: 0.8924999833, average loss: 0.0026801075\n"
     ]
    },
    {
     "name": "stderr",
     "output_type": "stream",
     "text": [
      "391it [00:51,  7.65it/s]"
     ]
    },
    {
     "name": "stdout",
     "output_type": "stream",
     "text": [
      "Epoch 234 finished, average loss: 0.0015221666\n",
      "Starting testing\n"
     ]
    },
    {
     "name": "stderr",
     "output_type": "stream",
     "text": [
      "\n"
     ]
    },
    {
     "name": "stdout",
     "output_type": "stream",
     "text": [
      "Correct: 9135, total: 10000, accuracy: 0.9134999514, average loss: 0.0020641909\n"
     ]
    },
    {
     "name": "stderr",
     "output_type": "stream",
     "text": [
      "391it [00:50,  7.70it/s]"
     ]
    },
    {
     "name": "stdout",
     "output_type": "stream",
     "text": [
      "Epoch 235 finished, average loss: 0.0015198039\n",
      "Starting testing\n"
     ]
    },
    {
     "name": "stderr",
     "output_type": "stream",
     "text": [
      "\n"
     ]
    },
    {
     "name": "stdout",
     "output_type": "stream",
     "text": [
      "Correct: 8874, total: 10000, accuracy: 0.8873999715, average loss: 0.0027715382\n"
     ]
    },
    {
     "name": "stderr",
     "output_type": "stream",
     "text": [
      "391it [00:50,  7.78it/s]"
     ]
    },
    {
     "name": "stdout",
     "output_type": "stream",
     "text": [
      "Epoch 236 finished, average loss: 0.0014947632\n",
      "Starting testing\n"
     ]
    },
    {
     "name": "stderr",
     "output_type": "stream",
     "text": [
      "\n"
     ]
    },
    {
     "name": "stdout",
     "output_type": "stream",
     "text": [
      "Correct: 9183, total: 10000, accuracy: 0.9182999730, average loss: 0.0019548791\n"
     ]
    },
    {
     "name": "stderr",
     "output_type": "stream",
     "text": [
      "391it [00:51,  7.58it/s]"
     ]
    },
    {
     "name": "stdout",
     "output_type": "stream",
     "text": [
      "Epoch 237 finished, average loss: 0.0015549954\n",
      "Starting testing\n"
     ]
    },
    {
     "name": "stderr",
     "output_type": "stream",
     "text": [
      "\n"
     ]
    },
    {
     "name": "stdout",
     "output_type": "stream",
     "text": [
      "Correct: 9067, total: 10000, accuracy: 0.9066999555, average loss: 0.0022866512\n"
     ]
    },
    {
     "name": "stderr",
     "output_type": "stream",
     "text": [
      "391it [00:51,  7.63it/s]"
     ]
    },
    {
     "name": "stdout",
     "output_type": "stream",
     "text": [
      "Epoch 238 finished, average loss: 0.0014973133\n",
      "Starting testing\n"
     ]
    },
    {
     "name": "stderr",
     "output_type": "stream",
     "text": [
      "\n"
     ]
    },
    {
     "name": "stdout",
     "output_type": "stream",
     "text": [
      "Correct: 8801, total: 10000, accuracy: 0.8800999522, average loss: 0.0030398297\n"
     ]
    },
    {
     "name": "stderr",
     "output_type": "stream",
     "text": [
      "391it [00:50,  7.67it/s]"
     ]
    },
    {
     "name": "stdout",
     "output_type": "stream",
     "text": [
      "Epoch 239 finished, average loss: 0.0014741515\n",
      "Starting testing\n"
     ]
    },
    {
     "name": "stderr",
     "output_type": "stream",
     "text": [
      "\n"
     ]
    },
    {
     "name": "stdout",
     "output_type": "stream",
     "text": [
      "Correct: 9098, total: 10000, accuracy: 0.9097999930, average loss: 0.0020830406\n"
     ]
    },
    {
     "name": "stderr",
     "output_type": "stream",
     "text": [
      "391it [00:51,  7.65it/s]"
     ]
    },
    {
     "name": "stdout",
     "output_type": "stream",
     "text": [
      "Epoch 240 finished, average loss: 0.0014971698\n",
      "Starting testing\n"
     ]
    },
    {
     "name": "stderr",
     "output_type": "stream",
     "text": [
      "\n"
     ]
    },
    {
     "name": "stdout",
     "output_type": "stream",
     "text": [
      "Correct: 9039, total: 10000, accuracy: 0.9038999677, average loss: 0.0022538998\n"
     ]
    },
    {
     "name": "stderr",
     "output_type": "stream",
     "text": [
      "391it [00:50,  7.67it/s]"
     ]
    },
    {
     "name": "stdout",
     "output_type": "stream",
     "text": [
      "Epoch 241 finished, average loss: 0.0015041256\n",
      "Starting testing\n"
     ]
    },
    {
     "name": "stderr",
     "output_type": "stream",
     "text": [
      "\n"
     ]
    },
    {
     "name": "stdout",
     "output_type": "stream",
     "text": [
      "Correct: 8940, total: 10000, accuracy: 0.8939999938, average loss: 0.0025044381\n"
     ]
    },
    {
     "name": "stderr",
     "output_type": "stream",
     "text": [
      "391it [00:50,  7.74it/s]"
     ]
    },
    {
     "name": "stdout",
     "output_type": "stream",
     "text": [
      "Epoch 242 finished, average loss: 0.0015067518\n",
      "Starting testing\n"
     ]
    },
    {
     "name": "stderr",
     "output_type": "stream",
     "text": [
      "\n"
     ]
    },
    {
     "name": "stdout",
     "output_type": "stream",
     "text": [
      "Correct: 8906, total: 10000, accuracy: 0.8905999660, average loss: 0.0026582736\n"
     ]
    },
    {
     "name": "stderr",
     "output_type": "stream",
     "text": [
      "391it [00:50,  7.67it/s]"
     ]
    },
    {
     "name": "stdout",
     "output_type": "stream",
     "text": [
      "Epoch 243 finished, average loss: 0.0015136556\n",
      "Starting testing\n"
     ]
    },
    {
     "name": "stderr",
     "output_type": "stream",
     "text": [
      "\n"
     ]
    },
    {
     "name": "stdout",
     "output_type": "stream",
     "text": [
      "Correct: 9042, total: 10000, accuracy: 0.9041999578, average loss: 0.0023023926\n"
     ]
    },
    {
     "name": "stderr",
     "output_type": "stream",
     "text": [
      "391it [00:49,  7.87it/s]"
     ]
    },
    {
     "name": "stdout",
     "output_type": "stream",
     "text": [
      "Epoch 244 finished, average loss: 0.0014920231\n",
      "Starting testing\n"
     ]
    },
    {
     "name": "stderr",
     "output_type": "stream",
     "text": [
      "\n"
     ]
    },
    {
     "name": "stdout",
     "output_type": "stream",
     "text": [
      "Correct: 9068, total: 10000, accuracy: 0.9067999721, average loss: 0.0022483332\n"
     ]
    },
    {
     "name": "stderr",
     "output_type": "stream",
     "text": [
      "391it [00:49,  7.86it/s]"
     ]
    },
    {
     "name": "stdout",
     "output_type": "stream",
     "text": [
      "Epoch 245 finished, average loss: 0.0015183260\n",
      "Starting testing\n"
     ]
    },
    {
     "name": "stderr",
     "output_type": "stream",
     "text": [
      "\n"
     ]
    },
    {
     "name": "stdout",
     "output_type": "stream",
     "text": [
      "Correct: 9137, total: 10000, accuracy: 0.9136999846, average loss: 0.0020589842\n"
     ]
    },
    {
     "name": "stderr",
     "output_type": "stream",
     "text": [
      "391it [00:49,  7.89it/s]"
     ]
    },
    {
     "name": "stdout",
     "output_type": "stream",
     "text": [
      "Epoch 246 finished, average loss: 0.0015209175\n",
      "Starting testing\n"
     ]
    },
    {
     "name": "stderr",
     "output_type": "stream",
     "text": [
      "\n"
     ]
    },
    {
     "name": "stdout",
     "output_type": "stream",
     "text": [
      "Correct: 9165, total: 10000, accuracy: 0.9164999723, average loss: 0.0020116934\n"
     ]
    },
    {
     "name": "stderr",
     "output_type": "stream",
     "text": [
      "391it [00:49,  7.90it/s]"
     ]
    },
    {
     "name": "stdout",
     "output_type": "stream",
     "text": [
      "Epoch 247 finished, average loss: 0.0014804704\n",
      "Starting testing\n"
     ]
    },
    {
     "name": "stderr",
     "output_type": "stream",
     "text": [
      "\n"
     ]
    },
    {
     "name": "stdout",
     "output_type": "stream",
     "text": [
      "Correct: 9176, total: 10000, accuracy: 0.9175999761, average loss: 0.0019269288\n"
     ]
    },
    {
     "name": "stderr",
     "output_type": "stream",
     "text": [
      "391it [00:49,  7.89it/s]"
     ]
    },
    {
     "name": "stdout",
     "output_type": "stream",
     "text": [
      "Epoch 248 finished, average loss: 0.0014907892\n",
      "Starting testing\n"
     ]
    },
    {
     "name": "stderr",
     "output_type": "stream",
     "text": [
      "\n"
     ]
    },
    {
     "name": "stdout",
     "output_type": "stream",
     "text": [
      "Correct: 9045, total: 10000, accuracy: 0.9044999480, average loss: 0.0023111666\n"
     ]
    },
    {
     "name": "stderr",
     "output_type": "stream",
     "text": [
      "391it [00:49,  7.84it/s]"
     ]
    },
    {
     "name": "stdout",
     "output_type": "stream",
     "text": [
      "Epoch 249 finished, average loss: 0.0014621452\n",
      "Starting testing\n"
     ]
    },
    {
     "name": "stderr",
     "output_type": "stream",
     "text": [
      "\n"
     ]
    },
    {
     "name": "stdout",
     "output_type": "stream",
     "text": [
      "Correct: 9155, total: 10000, accuracy: 0.9154999852, average loss: 0.0020909721\n"
     ]
    },
    {
     "name": "stderr",
     "output_type": "stream",
     "text": [
      "391it [00:50,  7.80it/s]"
     ]
    },
    {
     "name": "stdout",
     "output_type": "stream",
     "text": [
      "Epoch 250 finished, average loss: 0.0014639624\n",
      "Starting testing\n"
     ]
    },
    {
     "name": "stderr",
     "output_type": "stream",
     "text": [
      "\n"
     ]
    },
    {
     "name": "stdout",
     "output_type": "stream",
     "text": [
      "Correct: 8994, total: 10000, accuracy: 0.8993999958, average loss: 0.0024838961\n"
     ]
    },
    {
     "name": "stderr",
     "output_type": "stream",
     "text": [
      "391it [00:49,  7.86it/s]"
     ]
    },
    {
     "name": "stdout",
     "output_type": "stream",
     "text": [
      "Epoch 251 finished, average loss: 0.0009900130\n",
      "Starting testing\n"
     ]
    },
    {
     "name": "stderr",
     "output_type": "stream",
     "text": [
      "\n"
     ]
    },
    {
     "name": "stdout",
     "output_type": "stream",
     "text": [
      "Correct: 9370, total: 10000, accuracy: 0.9369999766, average loss: 0.0015092486\n"
     ]
    },
    {
     "name": "stderr",
     "output_type": "stream",
     "text": [
      "391it [00:49,  7.85it/s]"
     ]
    },
    {
     "name": "stdout",
     "output_type": "stream",
     "text": [
      "Epoch 252 finished, average loss: 0.0007356926\n",
      "Starting testing\n"
     ]
    },
    {
     "name": "stderr",
     "output_type": "stream",
     "text": [
      "\n"
     ]
    },
    {
     "name": "stdout",
     "output_type": "stream",
     "text": [
      "Correct: 9391, total: 10000, accuracy: 0.9390999675, average loss: 0.0014139156\n"
     ]
    },
    {
     "name": "stderr",
     "output_type": "stream",
     "text": [
      "391it [00:50,  7.81it/s]"
     ]
    },
    {
     "name": "stdout",
     "output_type": "stream",
     "text": [
      "Epoch 253 finished, average loss: 0.0006438147\n",
      "Starting testing\n"
     ]
    },
    {
     "name": "stderr",
     "output_type": "stream",
     "text": [
      "\n"
     ]
    },
    {
     "name": "stdout",
     "output_type": "stream",
     "text": [
      "Correct: 9370, total: 10000, accuracy: 0.9369999766, average loss: 0.0014642609\n"
     ]
    },
    {
     "name": "stderr",
     "output_type": "stream",
     "text": [
      "391it [00:50,  7.82it/s]"
     ]
    },
    {
     "name": "stdout",
     "output_type": "stream",
     "text": [
      "Epoch 254 finished, average loss: 0.0006073315\n",
      "Starting testing\n"
     ]
    },
    {
     "name": "stderr",
     "output_type": "stream",
     "text": [
      "\n"
     ]
    },
    {
     "name": "stdout",
     "output_type": "stream",
     "text": [
      "Correct: 9416, total: 10000, accuracy: 0.9415999651, average loss: 0.0014178877\n"
     ]
    },
    {
     "name": "stderr",
     "output_type": "stream",
     "text": [
      "391it [00:50,  7.80it/s]"
     ]
    },
    {
     "name": "stdout",
     "output_type": "stream",
     "text": [
      "Epoch 255 finished, average loss: 0.0005541399\n",
      "Starting testing\n"
     ]
    },
    {
     "name": "stderr",
     "output_type": "stream",
     "text": [
      "\n"
     ]
    },
    {
     "name": "stdout",
     "output_type": "stream",
     "text": [
      "Correct: 9405, total: 10000, accuracy: 0.9404999614, average loss: 0.0014750124\n"
     ]
    },
    {
     "name": "stderr",
     "output_type": "stream",
     "text": [
      "391it [00:50,  7.71it/s]"
     ]
    },
    {
     "name": "stdout",
     "output_type": "stream",
     "text": [
      "Epoch 256 finished, average loss: 0.0005079026\n",
      "Starting testing\n"
     ]
    },
    {
     "name": "stderr",
     "output_type": "stream",
     "text": [
      "\n"
     ]
    },
    {
     "name": "stdout",
     "output_type": "stream",
     "text": [
      "Correct: 9425, total: 10000, accuracy: 0.9424999952, average loss: 0.0014348505\n"
     ]
    },
    {
     "name": "stderr",
     "output_type": "stream",
     "text": [
      "391it [00:50,  7.73it/s]"
     ]
    },
    {
     "name": "stdout",
     "output_type": "stream",
     "text": [
      "Epoch 257 finished, average loss: 0.0005005896\n",
      "Starting testing\n"
     ]
    },
    {
     "name": "stderr",
     "output_type": "stream",
     "text": [
      "\n"
     ]
    },
    {
     "name": "stdout",
     "output_type": "stream",
     "text": [
      "Correct: 9431, total: 10000, accuracy: 0.9430999756, average loss: 0.0014378402\n"
     ]
    },
    {
     "name": "stderr",
     "output_type": "stream",
     "text": [
      "391it [00:50,  7.73it/s]"
     ]
    },
    {
     "name": "stdout",
     "output_type": "stream",
     "text": [
      "Epoch 258 finished, average loss: 0.0004731350\n",
      "Starting testing\n"
     ]
    },
    {
     "name": "stderr",
     "output_type": "stream",
     "text": [
      "\n"
     ]
    },
    {
     "name": "stdout",
     "output_type": "stream",
     "text": [
      "Correct: 9446, total: 10000, accuracy: 0.9445999861, average loss: 0.0014194251\n"
     ]
    },
    {
     "name": "stderr",
     "output_type": "stream",
     "text": [
      "391it [00:50,  7.75it/s]"
     ]
    },
    {
     "name": "stdout",
     "output_type": "stream",
     "text": [
      "Epoch 259 finished, average loss: 0.0004638391\n",
      "Starting testing\n"
     ]
    },
    {
     "name": "stderr",
     "output_type": "stream",
     "text": [
      "\n"
     ]
    },
    {
     "name": "stdout",
     "output_type": "stream",
     "text": [
      "Correct: 9463, total: 10000, accuracy: 0.9462999701, average loss: 0.0014371539\n"
     ]
    },
    {
     "name": "stderr",
     "output_type": "stream",
     "text": [
      "391it [00:50,  7.78it/s]"
     ]
    },
    {
     "name": "stdout",
     "output_type": "stream",
     "text": [
      "Epoch 260 finished, average loss: 0.0004511670\n",
      "Starting testing\n"
     ]
    },
    {
     "name": "stderr",
     "output_type": "stream",
     "text": [
      "\n"
     ]
    },
    {
     "name": "stdout",
     "output_type": "stream",
     "text": [
      "Correct: 9438, total: 10000, accuracy: 0.9437999725, average loss: 0.0014794574\n"
     ]
    },
    {
     "name": "stderr",
     "output_type": "stream",
     "text": [
      "391it [00:52,  7.46it/s]"
     ]
    },
    {
     "name": "stdout",
     "output_type": "stream",
     "text": [
      "Epoch 261 finished, average loss: 0.0004093542\n",
      "Starting testing\n"
     ]
    },
    {
     "name": "stderr",
     "output_type": "stream",
     "text": [
      "\n"
     ]
    },
    {
     "name": "stdout",
     "output_type": "stream",
     "text": [
      "Correct: 9451, total: 10000, accuracy: 0.9450999498, average loss: 0.0014122514\n"
     ]
    },
    {
     "name": "stderr",
     "output_type": "stream",
     "text": [
      "391it [00:49,  7.82it/s]"
     ]
    },
    {
     "name": "stdout",
     "output_type": "stream",
     "text": [
      "Epoch 262 finished, average loss: 0.0004064598\n",
      "Starting testing\n"
     ]
    },
    {
     "name": "stderr",
     "output_type": "stream",
     "text": [
      "\n"
     ]
    },
    {
     "name": "stdout",
     "output_type": "stream",
     "text": [
      "Correct: 9447, total: 10000, accuracy: 0.9447000027, average loss: 0.0014528092\n"
     ]
    },
    {
     "name": "stderr",
     "output_type": "stream",
     "text": [
      "391it [00:49,  7.83it/s]"
     ]
    },
    {
     "name": "stdout",
     "output_type": "stream",
     "text": [
      "Epoch 263 finished, average loss: 0.0003897572\n",
      "Starting testing\n"
     ]
    },
    {
     "name": "stderr",
     "output_type": "stream",
     "text": [
      "\n"
     ]
    },
    {
     "name": "stdout",
     "output_type": "stream",
     "text": [
      "Correct: 9463, total: 10000, accuracy: 0.9462999701, average loss: 0.0014422794\n"
     ]
    },
    {
     "name": "stderr",
     "output_type": "stream",
     "text": [
      "391it [00:51,  7.57it/s]"
     ]
    },
    {
     "name": "stdout",
     "output_type": "stream",
     "text": [
      "Epoch 264 finished, average loss: 0.0003902232\n",
      "Starting testing\n"
     ]
    },
    {
     "name": "stderr",
     "output_type": "stream",
     "text": [
      "\n"
     ]
    },
    {
     "name": "stdout",
     "output_type": "stream",
     "text": [
      "Correct: 9452, total: 10000, accuracy: 0.9451999664, average loss: 0.0014807842\n"
     ]
    },
    {
     "name": "stderr",
     "output_type": "stream",
     "text": [
      "391it [00:59,  6.56it/s]"
     ]
    },
    {
     "name": "stdout",
     "output_type": "stream",
     "text": [
      "Epoch 265 finished, average loss: 0.0003712799\n",
      "Starting testing\n"
     ]
    },
    {
     "name": "stderr",
     "output_type": "stream",
     "text": [
      "\n"
     ]
    },
    {
     "name": "stdout",
     "output_type": "stream",
     "text": [
      "Correct: 9437, total: 10000, accuracy: 0.9436999559, average loss: 0.0014386048\n"
     ]
    },
    {
     "name": "stderr",
     "output_type": "stream",
     "text": [
      "391it [00:53,  7.36it/s]"
     ]
    },
    {
     "name": "stdout",
     "output_type": "stream",
     "text": [
      "Epoch 266 finished, average loss: 0.0003634360\n",
      "Starting testing\n"
     ]
    },
    {
     "name": "stderr",
     "output_type": "stream",
     "text": [
      "\n"
     ]
    },
    {
     "name": "stdout",
     "output_type": "stream",
     "text": [
      "Correct: 9454, total: 10000, accuracy: 0.9453999996, average loss: 0.0015530700\n"
     ]
    },
    {
     "name": "stderr",
     "output_type": "stream",
     "text": [
      "391it [00:59,  6.58it/s]"
     ]
    },
    {
     "name": "stdout",
     "output_type": "stream",
     "text": [
      "Epoch 267 finished, average loss: 0.0003519988\n",
      "Starting testing\n"
     ]
    },
    {
     "name": "stderr",
     "output_type": "stream",
     "text": [
      "\n"
     ]
    },
    {
     "name": "stdout",
     "output_type": "stream",
     "text": [
      "Correct: 9449, total: 10000, accuracy: 0.9448999763, average loss: 0.0015722627\n"
     ]
    },
    {
     "name": "stderr",
     "output_type": "stream",
     "text": [
      "391it [00:59,  6.59it/s]"
     ]
    },
    {
     "name": "stdout",
     "output_type": "stream",
     "text": [
      "Epoch 268 finished, average loss: 0.0003367769\n",
      "Starting testing\n"
     ]
    },
    {
     "name": "stderr",
     "output_type": "stream",
     "text": [
      "\n"
     ]
    },
    {
     "name": "stdout",
     "output_type": "stream",
     "text": [
      "Correct: 9442, total: 10000, accuracy: 0.9441999793, average loss: 0.0015284218\n"
     ]
    },
    {
     "name": "stderr",
     "output_type": "stream",
     "text": [
      "391it [00:59,  6.61it/s]"
     ]
    },
    {
     "name": "stdout",
     "output_type": "stream",
     "text": [
      "Epoch 269 finished, average loss: 0.0003130735\n",
      "Starting testing\n"
     ]
    },
    {
     "name": "stderr",
     "output_type": "stream",
     "text": [
      "\n"
     ]
    },
    {
     "name": "stdout",
     "output_type": "stream",
     "text": [
      "Correct: 9465, total: 10000, accuracy: 0.9465000033, average loss: 0.0014539381\n"
     ]
    },
    {
     "name": "stderr",
     "output_type": "stream",
     "text": [
      "391it [00:59,  6.59it/s]"
     ]
    },
    {
     "name": "stdout",
     "output_type": "stream",
     "text": [
      "Epoch 270 finished, average loss: 0.0003278203\n",
      "Starting testing\n"
     ]
    },
    {
     "name": "stderr",
     "output_type": "stream",
     "text": [
      "\n"
     ]
    },
    {
     "name": "stdout",
     "output_type": "stream",
     "text": [
      "Correct: 9425, total: 10000, accuracy: 0.9424999952, average loss: 0.0014894816\n"
     ]
    },
    {
     "name": "stderr",
     "output_type": "stream",
     "text": [
      "391it [00:51,  7.60it/s]"
     ]
    },
    {
     "name": "stdout",
     "output_type": "stream",
     "text": [
      "Epoch 271 finished, average loss: 0.0003152437\n",
      "Starting testing\n"
     ]
    },
    {
     "name": "stderr",
     "output_type": "stream",
     "text": [
      "\n"
     ]
    },
    {
     "name": "stdout",
     "output_type": "stream",
     "text": [
      "Correct: 9437, total: 10000, accuracy: 0.9436999559, average loss: 0.0014745198\n"
     ]
    },
    {
     "name": "stderr",
     "output_type": "stream",
     "text": [
      "391it [00:51,  7.66it/s]"
     ]
    },
    {
     "name": "stdout",
     "output_type": "stream",
     "text": [
      "Epoch 272 finished, average loss: 0.0002828422\n",
      "Starting testing\n"
     ]
    },
    {
     "name": "stderr",
     "output_type": "stream",
     "text": [
      "\n"
     ]
    },
    {
     "name": "stdout",
     "output_type": "stream",
     "text": [
      "Correct: 9438, total: 10000, accuracy: 0.9437999725, average loss: 0.0014994779\n"
     ]
    },
    {
     "name": "stderr",
     "output_type": "stream",
     "text": [
      "391it [00:53,  7.25it/s]"
     ]
    },
    {
     "name": "stdout",
     "output_type": "stream",
     "text": [
      "Epoch 273 finished, average loss: 0.0002933867\n",
      "Starting testing\n"
     ]
    },
    {
     "name": "stderr",
     "output_type": "stream",
     "text": [
      "\n"
     ]
    },
    {
     "name": "stdout",
     "output_type": "stream",
     "text": [
      "Correct: 9457, total: 10000, accuracy: 0.9456999898, average loss: 0.0015742839\n"
     ]
    },
    {
     "name": "stderr",
     "output_type": "stream",
     "text": [
      "391it [00:55,  7.05it/s]"
     ]
    },
    {
     "name": "stdout",
     "output_type": "stream",
     "text": [
      "Epoch 274 finished, average loss: 0.0002891024\n",
      "Starting testing\n"
     ]
    },
    {
     "name": "stderr",
     "output_type": "stream",
     "text": [
      "\n"
     ]
    },
    {
     "name": "stdout",
     "output_type": "stream",
     "text": [
      "Correct: 9436, total: 10000, accuracy: 0.9435999990, average loss: 0.0015610541\n"
     ]
    },
    {
     "name": "stderr",
     "output_type": "stream",
     "text": [
      "391it [00:55,  7.09it/s]"
     ]
    },
    {
     "name": "stdout",
     "output_type": "stream",
     "text": [
      "Epoch 275 finished, average loss: 0.0002914006\n",
      "Starting testing\n"
     ]
    },
    {
     "name": "stderr",
     "output_type": "stream",
     "text": [
      "\n"
     ]
    },
    {
     "name": "stdout",
     "output_type": "stream",
     "text": [
      "Correct: 9470, total: 10000, accuracy: 0.9469999671, average loss: 0.0015114651\n"
     ]
    },
    {
     "name": "stderr",
     "output_type": "stream",
     "text": [
      "391it [00:52,  7.52it/s]"
     ]
    },
    {
     "name": "stdout",
     "output_type": "stream",
     "text": [
      "Epoch 276 finished, average loss: 0.0002801209\n",
      "Starting testing\n"
     ]
    },
    {
     "name": "stderr",
     "output_type": "stream",
     "text": [
      "\n"
     ]
    },
    {
     "name": "stdout",
     "output_type": "stream",
     "text": [
      "Correct: 9455, total: 10000, accuracy: 0.9454999566, average loss: 0.0014741400\n"
     ]
    },
    {
     "name": "stderr",
     "output_type": "stream",
     "text": [
      "391it [00:50,  7.69it/s]"
     ]
    },
    {
     "name": "stdout",
     "output_type": "stream",
     "text": [
      "Epoch 277 finished, average loss: 0.0002770374\n",
      "Starting testing\n"
     ]
    },
    {
     "name": "stderr",
     "output_type": "stream",
     "text": [
      "\n"
     ]
    },
    {
     "name": "stdout",
     "output_type": "stream",
     "text": [
      "Correct: 9436, total: 10000, accuracy: 0.9435999990, average loss: 0.0015781185\n"
     ]
    },
    {
     "name": "stderr",
     "output_type": "stream",
     "text": [
      "391it [00:49,  7.86it/s]"
     ]
    },
    {
     "name": "stdout",
     "output_type": "stream",
     "text": [
      "Epoch 278 finished, average loss: 0.0002672802\n",
      "Starting testing\n"
     ]
    },
    {
     "name": "stderr",
     "output_type": "stream",
     "text": [
      "\n"
     ]
    },
    {
     "name": "stdout",
     "output_type": "stream",
     "text": [
      "Correct: 9459, total: 10000, accuracy: 0.9458999634, average loss: 0.0015199558\n"
     ]
    },
    {
     "name": "stderr",
     "output_type": "stream",
     "text": [
      "391it [00:49,  7.88it/s]"
     ]
    },
    {
     "name": "stdout",
     "output_type": "stream",
     "text": [
      "Epoch 279 finished, average loss: 0.0002599988\n",
      "Starting testing\n"
     ]
    },
    {
     "name": "stderr",
     "output_type": "stream",
     "text": [
      "\n"
     ]
    },
    {
     "name": "stdout",
     "output_type": "stream",
     "text": [
      "Correct: 9439, total: 10000, accuracy: 0.9438999891, average loss: 0.0015436124\n"
     ]
    },
    {
     "name": "stderr",
     "output_type": "stream",
     "text": [
      "391it [00:49,  7.87it/s]"
     ]
    },
    {
     "name": "stdout",
     "output_type": "stream",
     "text": [
      "Epoch 280 finished, average loss: 0.0002761997\n",
      "Starting testing\n"
     ]
    },
    {
     "name": "stderr",
     "output_type": "stream",
     "text": [
      "\n"
     ]
    },
    {
     "name": "stdout",
     "output_type": "stream",
     "text": [
      "Correct: 9440, total: 10000, accuracy: 0.9440000057, average loss: 0.0017330715\n"
     ]
    },
    {
     "name": "stderr",
     "output_type": "stream",
     "text": [
      "391it [00:49,  7.90it/s]"
     ]
    },
    {
     "name": "stdout",
     "output_type": "stream",
     "text": [
      "Epoch 281 finished, average loss: 0.0002715047\n",
      "Starting testing\n"
     ]
    },
    {
     "name": "stderr",
     "output_type": "stream",
     "text": [
      "\n"
     ]
    },
    {
     "name": "stdout",
     "output_type": "stream",
     "text": [
      "Correct: 9441, total: 10000, accuracy: 0.9440999627, average loss: 0.0016887180\n"
     ]
    },
    {
     "name": "stderr",
     "output_type": "stream",
     "text": [
      "391it [00:49,  7.92it/s]"
     ]
    },
    {
     "name": "stdout",
     "output_type": "stream",
     "text": [
      "Epoch 282 finished, average loss: 0.0002372741\n",
      "Starting testing\n"
     ]
    },
    {
     "name": "stderr",
     "output_type": "stream",
     "text": [
      "\n"
     ]
    },
    {
     "name": "stdout",
     "output_type": "stream",
     "text": [
      "Correct: 9456, total: 10000, accuracy: 0.9455999732, average loss: 0.0016593452\n"
     ]
    },
    {
     "name": "stderr",
     "output_type": "stream",
     "text": [
      "391it [00:49,  7.86it/s]"
     ]
    },
    {
     "name": "stdout",
     "output_type": "stream",
     "text": [
      "Epoch 283 finished, average loss: 0.0002515896\n",
      "Starting testing\n"
     ]
    },
    {
     "name": "stderr",
     "output_type": "stream",
     "text": [
      "\n"
     ]
    },
    {
     "name": "stdout",
     "output_type": "stream",
     "text": [
      "Correct: 9449, total: 10000, accuracy: 0.9448999763, average loss: 0.0015619068\n"
     ]
    },
    {
     "name": "stderr",
     "output_type": "stream",
     "text": [
      "391it [00:49,  7.83it/s]"
     ]
    },
    {
     "name": "stdout",
     "output_type": "stream",
     "text": [
      "Epoch 284 finished, average loss: 0.0002348229\n",
      "Starting testing\n"
     ]
    },
    {
     "name": "stderr",
     "output_type": "stream",
     "text": [
      "\n"
     ]
    },
    {
     "name": "stdout",
     "output_type": "stream",
     "text": [
      "Correct: 9475, total: 10000, accuracy: 0.9474999905, average loss: 0.0016196955\n"
     ]
    },
    {
     "name": "stderr",
     "output_type": "stream",
     "text": [
      "391it [00:50,  7.81it/s]"
     ]
    },
    {
     "name": "stdout",
     "output_type": "stream",
     "text": [
      "Epoch 285 finished, average loss: 0.0002373886\n",
      "Starting testing\n"
     ]
    },
    {
     "name": "stderr",
     "output_type": "stream",
     "text": [
      "\n"
     ]
    },
    {
     "name": "stdout",
     "output_type": "stream",
     "text": [
      "Correct: 9446, total: 10000, accuracy: 0.9445999861, average loss: 0.0016164648\n"
     ]
    },
    {
     "name": "stderr",
     "output_type": "stream",
     "text": [
      "391it [00:50,  7.79it/s]"
     ]
    },
    {
     "name": "stdout",
     "output_type": "stream",
     "text": [
      "Epoch 286 finished, average loss: 0.0002444839\n",
      "Starting testing\n"
     ]
    },
    {
     "name": "stderr",
     "output_type": "stream",
     "text": [
      "\n"
     ]
    },
    {
     "name": "stdout",
     "output_type": "stream",
     "text": [
      "Correct: 9443, total: 10000, accuracy: 0.9442999959, average loss: 0.0016352351\n"
     ]
    },
    {
     "name": "stderr",
     "output_type": "stream",
     "text": [
      "391it [00:50,  7.80it/s]"
     ]
    },
    {
     "name": "stdout",
     "output_type": "stream",
     "text": [
      "Epoch 287 finished, average loss: 0.0002226184\n",
      "Starting testing\n"
     ]
    },
    {
     "name": "stderr",
     "output_type": "stream",
     "text": [
      "\n"
     ]
    },
    {
     "name": "stdout",
     "output_type": "stream",
     "text": [
      "Correct: 9439, total: 10000, accuracy: 0.9438999891, average loss: 0.0015706191\n"
     ]
    },
    {
     "name": "stderr",
     "output_type": "stream",
     "text": [
      "391it [00:50,  7.82it/s]"
     ]
    },
    {
     "name": "stdout",
     "output_type": "stream",
     "text": [
      "Epoch 288 finished, average loss: 0.0002261225\n",
      "Starting testing\n"
     ]
    },
    {
     "name": "stderr",
     "output_type": "stream",
     "text": [
      "\n"
     ]
    },
    {
     "name": "stdout",
     "output_type": "stream",
     "text": [
      "Correct: 9416, total: 10000, accuracy: 0.9415999651, average loss: 0.0016482307\n"
     ]
    },
    {
     "name": "stderr",
     "output_type": "stream",
     "text": [
      "391it [00:49,  7.86it/s]"
     ]
    },
    {
     "name": "stdout",
     "output_type": "stream",
     "text": [
      "Epoch 289 finished, average loss: 0.0002176709\n",
      "Starting testing\n"
     ]
    },
    {
     "name": "stderr",
     "output_type": "stream",
     "text": [
      "\n"
     ]
    },
    {
     "name": "stdout",
     "output_type": "stream",
     "text": [
      "Correct: 9453, total: 10000, accuracy: 0.9452999830, average loss: 0.0015960163\n"
     ]
    },
    {
     "name": "stderr",
     "output_type": "stream",
     "text": [
      "391it [00:49,  7.87it/s]"
     ]
    },
    {
     "name": "stdout",
     "output_type": "stream",
     "text": [
      "Epoch 290 finished, average loss: 0.0002144113\n",
      "Starting testing\n"
     ]
    },
    {
     "name": "stderr",
     "output_type": "stream",
     "text": [
      "\n"
     ]
    },
    {
     "name": "stdout",
     "output_type": "stream",
     "text": [
      "Correct: 9442, total: 10000, accuracy: 0.9441999793, average loss: 0.0016645356\n"
     ]
    },
    {
     "name": "stderr",
     "output_type": "stream",
     "text": [
      "391it [00:49,  7.89it/s]"
     ]
    },
    {
     "name": "stdout",
     "output_type": "stream",
     "text": [
      "Epoch 291 finished, average loss: 0.0002363840\n",
      "Starting testing\n"
     ]
    },
    {
     "name": "stderr",
     "output_type": "stream",
     "text": [
      "\n"
     ]
    },
    {
     "name": "stdout",
     "output_type": "stream",
     "text": [
      "Correct: 9423, total: 10000, accuracy: 0.9422999620, average loss: 0.0017678925\n"
     ]
    },
    {
     "name": "stderr",
     "output_type": "stream",
     "text": [
      "391it [00:49,  7.92it/s]"
     ]
    },
    {
     "name": "stdout",
     "output_type": "stream",
     "text": [
      "Epoch 292 finished, average loss: 0.0002049341\n",
      "Starting testing\n"
     ]
    },
    {
     "name": "stderr",
     "output_type": "stream",
     "text": [
      "\n"
     ]
    },
    {
     "name": "stdout",
     "output_type": "stream",
     "text": [
      "Correct: 9451, total: 10000, accuracy: 0.9450999498, average loss: 0.0016087297\n"
     ]
    },
    {
     "name": "stderr",
     "output_type": "stream",
     "text": [
      "391it [00:50,  7.79it/s]"
     ]
    },
    {
     "name": "stdout",
     "output_type": "stream",
     "text": [
      "Epoch 293 finished, average loss: 0.0002197942\n",
      "Starting testing\n"
     ]
    },
    {
     "name": "stderr",
     "output_type": "stream",
     "text": [
      "\n"
     ]
    },
    {
     "name": "stdout",
     "output_type": "stream",
     "text": [
      "Correct: 9446, total: 10000, accuracy: 0.9445999861, average loss: 0.0016878216\n"
     ]
    },
    {
     "name": "stderr",
     "output_type": "stream",
     "text": [
      "391it [00:50,  7.68it/s]"
     ]
    },
    {
     "name": "stdout",
     "output_type": "stream",
     "text": [
      "Epoch 294 finished, average loss: 0.0002166237\n",
      "Starting testing\n"
     ]
    },
    {
     "name": "stderr",
     "output_type": "stream",
     "text": [
      "\n"
     ]
    },
    {
     "name": "stdout",
     "output_type": "stream",
     "text": [
      "Correct: 9450, total: 10000, accuracy: 0.9449999928, average loss: 0.0015930660\n"
     ]
    },
    {
     "name": "stderr",
     "output_type": "stream",
     "text": [
      "391it [00:52,  7.39it/s]"
     ]
    },
    {
     "name": "stdout",
     "output_type": "stream",
     "text": [
      "Epoch 295 finished, average loss: 0.0002357394\n",
      "Starting testing\n"
     ]
    },
    {
     "name": "stderr",
     "output_type": "stream",
     "text": [
      "\n"
     ]
    },
    {
     "name": "stdout",
     "output_type": "stream",
     "text": [
      "Correct: 9459, total: 10000, accuracy: 0.9458999634, average loss: 0.0015675378\n"
     ]
    },
    {
     "name": "stderr",
     "output_type": "stream",
     "text": [
      "391it [00:52,  7.42it/s]"
     ]
    },
    {
     "name": "stdout",
     "output_type": "stream",
     "text": [
      "Epoch 296 finished, average loss: 0.0001952536\n",
      "Starting testing\n"
     ]
    },
    {
     "name": "stderr",
     "output_type": "stream",
     "text": [
      "\n"
     ]
    },
    {
     "name": "stdout",
     "output_type": "stream",
     "text": [
      "Correct: 9435, total: 10000, accuracy: 0.9434999824, average loss: 0.0017524151\n"
     ]
    },
    {
     "name": "stderr",
     "output_type": "stream",
     "text": [
      "391it [00:53,  7.36it/s]\n"
     ]
    },
    {
     "name": "stdout",
     "output_type": "stream",
     "text": [
      "Epoch 297 finished, average loss: 0.0002002991\n",
      "Starting testing\n",
      "Correct: 9454, total: 10000, accuracy: 0.9453999996, average loss: 0.0016049311\n"
     ]
    },
    {
     "name": "stderr",
     "output_type": "stream",
     "text": [
      "391it [00:52,  7.48it/s]"
     ]
    },
    {
     "name": "stdout",
     "output_type": "stream",
     "text": [
      "Epoch 298 finished, average loss: 0.0002232913\n",
      "Starting testing\n"
     ]
    },
    {
     "name": "stderr",
     "output_type": "stream",
     "text": [
      "\n"
     ]
    },
    {
     "name": "stdout",
     "output_type": "stream",
     "text": [
      "Correct: 9448, total: 10000, accuracy: 0.9447999597, average loss: 0.0017472254\n"
     ]
    },
    {
     "name": "stderr",
     "output_type": "stream",
     "text": [
      "391it [00:53,  7.37it/s]"
     ]
    },
    {
     "name": "stdout",
     "output_type": "stream",
     "text": [
      "Epoch 299 finished, average loss: 0.0001929698\n",
      "Starting testing\n"
     ]
    },
    {
     "name": "stderr",
     "output_type": "stream",
     "text": [
      "\n"
     ]
    },
    {
     "name": "stdout",
     "output_type": "stream",
     "text": [
      "Correct: 9459, total: 10000, accuracy: 0.9458999634, average loss: 0.0016839311\n"
     ]
    },
    {
     "name": "stderr",
     "output_type": "stream",
     "text": [
      "391it [00:53,  7.36it/s]"
     ]
    },
    {
     "name": "stdout",
     "output_type": "stream",
     "text": [
      "Epoch 300 finished, average loss: 0.0002106222\n",
      "Starting testing\n"
     ]
    },
    {
     "name": "stderr",
     "output_type": "stream",
     "text": [
      "\n"
     ]
    },
    {
     "name": "stdout",
     "output_type": "stream",
     "text": [
      "Correct: 9463, total: 10000, accuracy: 0.9462999701, average loss: 0.0016503635\n"
     ]
    },
    {
     "name": "stderr",
     "output_type": "stream",
     "text": [
      "391it [00:53,  7.34it/s]"
     ]
    },
    {
     "name": "stdout",
     "output_type": "stream",
     "text": [
      "Epoch 301 finished, average loss: 0.0002068246\n",
      "Starting testing\n"
     ]
    },
    {
     "name": "stderr",
     "output_type": "stream",
     "text": [
      "\n"
     ]
    },
    {
     "name": "stdout",
     "output_type": "stream",
     "text": [
      "Correct: 9443, total: 10000, accuracy: 0.9442999959, average loss: 0.0016924339\n"
     ]
    },
    {
     "name": "stderr",
     "output_type": "stream",
     "text": [
      "391it [00:52,  7.39it/s]"
     ]
    },
    {
     "name": "stdout",
     "output_type": "stream",
     "text": [
      "Epoch 302 finished, average loss: 0.0002107713\n",
      "Starting testing\n"
     ]
    },
    {
     "name": "stderr",
     "output_type": "stream",
     "text": [
      "\n"
     ]
    },
    {
     "name": "stdout",
     "output_type": "stream",
     "text": [
      "Correct: 9427, total: 10000, accuracy: 0.9426999688, average loss: 0.0019471699\n"
     ]
    },
    {
     "name": "stderr",
     "output_type": "stream",
     "text": [
      "391it [00:52,  7.52it/s]"
     ]
    },
    {
     "name": "stdout",
     "output_type": "stream",
     "text": [
      "Epoch 303 finished, average loss: 0.0002002469\n",
      "Starting testing\n"
     ]
    },
    {
     "name": "stderr",
     "output_type": "stream",
     "text": [
      "\n"
     ]
    },
    {
     "name": "stdout",
     "output_type": "stream",
     "text": [
      "Correct: 9445, total: 10000, accuracy: 0.9444999695, average loss: 0.0016107146\n"
     ]
    },
    {
     "name": "stderr",
     "output_type": "stream",
     "text": [
      "391it [00:51,  7.53it/s]"
     ]
    },
    {
     "name": "stdout",
     "output_type": "stream",
     "text": [
      "Epoch 304 finished, average loss: 0.0001925678\n",
      "Starting testing\n"
     ]
    },
    {
     "name": "stderr",
     "output_type": "stream",
     "text": [
      "\n"
     ]
    },
    {
     "name": "stdout",
     "output_type": "stream",
     "text": [
      "Correct: 9454, total: 10000, accuracy: 0.9453999996, average loss: 0.0016280912\n"
     ]
    },
    {
     "name": "stderr",
     "output_type": "stream",
     "text": [
      "391it [00:51,  7.55it/s]\n"
     ]
    },
    {
     "name": "stdout",
     "output_type": "stream",
     "text": [
      "Epoch 305 finished, average loss: 0.0001898606\n",
      "Starting testing\n",
      "Correct: 9423, total: 10000, accuracy: 0.9422999620, average loss: 0.0016552717\n"
     ]
    },
    {
     "name": "stderr",
     "output_type": "stream",
     "text": [
      "391it [00:51,  7.56it/s]"
     ]
    },
    {
     "name": "stdout",
     "output_type": "stream",
     "text": [
      "Epoch 306 finished, average loss: 0.0001984283\n",
      "Starting testing\n"
     ]
    },
    {
     "name": "stderr",
     "output_type": "stream",
     "text": [
      "\n"
     ]
    },
    {
     "name": "stdout",
     "output_type": "stream",
     "text": [
      "Correct: 9448, total: 10000, accuracy: 0.9447999597, average loss: 0.0016632200\n"
     ]
    },
    {
     "name": "stderr",
     "output_type": "stream",
     "text": [
      "391it [00:51,  7.58it/s]"
     ]
    },
    {
     "name": "stdout",
     "output_type": "stream",
     "text": [
      "Epoch 307 finished, average loss: 0.0001986042\n",
      "Starting testing\n"
     ]
    },
    {
     "name": "stderr",
     "output_type": "stream",
     "text": [
      "\n"
     ]
    },
    {
     "name": "stdout",
     "output_type": "stream",
     "text": [
      "Correct: 9439, total: 10000, accuracy: 0.9438999891, average loss: 0.0016566312\n"
     ]
    },
    {
     "name": "stderr",
     "output_type": "stream",
     "text": [
      "391it [00:52,  7.51it/s]"
     ]
    },
    {
     "name": "stdout",
     "output_type": "stream",
     "text": [
      "Epoch 308 finished, average loss: 0.0001852543\n",
      "Starting testing\n"
     ]
    },
    {
     "name": "stderr",
     "output_type": "stream",
     "text": [
      "\n"
     ]
    },
    {
     "name": "stdout",
     "output_type": "stream",
     "text": [
      "Correct: 9444, total: 10000, accuracy: 0.9443999529, average loss: 0.0016297625\n"
     ]
    },
    {
     "name": "stderr",
     "output_type": "stream",
     "text": [
      "391it [00:51,  7.55it/s]"
     ]
    },
    {
     "name": "stdout",
     "output_type": "stream",
     "text": [
      "Epoch 309 finished, average loss: 0.0002124247\n",
      "Starting testing\n"
     ]
    },
    {
     "name": "stderr",
     "output_type": "stream",
     "text": [
      "\n"
     ]
    },
    {
     "name": "stdout",
     "output_type": "stream",
     "text": [
      "Correct: 9409, total: 10000, accuracy: 0.9408999681, average loss: 0.0017377685\n"
     ]
    },
    {
     "name": "stderr",
     "output_type": "stream",
     "text": [
      "391it [00:51,  7.54it/s]"
     ]
    },
    {
     "name": "stdout",
     "output_type": "stream",
     "text": [
      "Epoch 310 finished, average loss: 0.0001893782\n",
      "Starting testing\n"
     ]
    },
    {
     "name": "stderr",
     "output_type": "stream",
     "text": [
      "\n"
     ]
    },
    {
     "name": "stdout",
     "output_type": "stream",
     "text": [
      "Correct: 9467, total: 10000, accuracy: 0.9466999769, average loss: 0.0016674634\n"
     ]
    },
    {
     "name": "stderr",
     "output_type": "stream",
     "text": [
      "391it [00:52,  7.42it/s]"
     ]
    },
    {
     "name": "stdout",
     "output_type": "stream",
     "text": [
      "Epoch 311 finished, average loss: 0.0001837611\n",
      "Starting testing\n"
     ]
    },
    {
     "name": "stderr",
     "output_type": "stream",
     "text": [
      "\n"
     ]
    },
    {
     "name": "stdout",
     "output_type": "stream",
     "text": [
      "Correct: 9454, total: 10000, accuracy: 0.9453999996, average loss: 0.0017600612\n"
     ]
    },
    {
     "name": "stderr",
     "output_type": "stream",
     "text": [
      "391it [00:52,  7.45it/s]"
     ]
    },
    {
     "name": "stdout",
     "output_type": "stream",
     "text": [
      "Epoch 312 finished, average loss: 0.0001809957\n",
      "Starting testing\n"
     ]
    },
    {
     "name": "stderr",
     "output_type": "stream",
     "text": [
      "\n"
     ]
    },
    {
     "name": "stdout",
     "output_type": "stream",
     "text": [
      "Correct: 9445, total: 10000, accuracy: 0.9444999695, average loss: 0.0017590417\n"
     ]
    },
    {
     "name": "stderr",
     "output_type": "stream",
     "text": [
      "391it [00:52,  7.41it/s]"
     ]
    },
    {
     "name": "stdout",
     "output_type": "stream",
     "text": [
      "Epoch 313 finished, average loss: 0.0001673174\n",
      "Starting testing\n"
     ]
    },
    {
     "name": "stderr",
     "output_type": "stream",
     "text": [
      "\n"
     ]
    },
    {
     "name": "stdout",
     "output_type": "stream",
     "text": [
      "Correct: 9445, total: 10000, accuracy: 0.9444999695, average loss: 0.0017163200\n"
     ]
    },
    {
     "name": "stderr",
     "output_type": "stream",
     "text": [
      "391it [00:51,  7.54it/s]\n"
     ]
    },
    {
     "name": "stdout",
     "output_type": "stream",
     "text": [
      "Epoch 314 finished, average loss: 0.0001865395\n",
      "Starting testing\n",
      "Correct: 9435, total: 10000, accuracy: 0.9434999824, average loss: 0.0017557994\n"
     ]
    },
    {
     "name": "stderr",
     "output_type": "stream",
     "text": [
      "391it [00:51,  7.58it/s]"
     ]
    },
    {
     "name": "stdout",
     "output_type": "stream",
     "text": [
      "Epoch 315 finished, average loss: 0.0001689728\n",
      "Starting testing\n"
     ]
    },
    {
     "name": "stderr",
     "output_type": "stream",
     "text": [
      "\n"
     ]
    },
    {
     "name": "stdout",
     "output_type": "stream",
     "text": [
      "Correct: 9436, total: 10000, accuracy: 0.9435999990, average loss: 0.0017241182\n"
     ]
    },
    {
     "name": "stderr",
     "output_type": "stream",
     "text": [
      "391it [00:52,  7.48it/s]"
     ]
    },
    {
     "name": "stdout",
     "output_type": "stream",
     "text": [
      "Epoch 316 finished, average loss: 0.0001773510\n",
      "Starting testing\n"
     ]
    },
    {
     "name": "stderr",
     "output_type": "stream",
     "text": [
      "\n"
     ]
    },
    {
     "name": "stdout",
     "output_type": "stream",
     "text": [
      "Correct: 9469, total: 10000, accuracy: 0.9468999505, average loss: 0.0015984401\n"
     ]
    },
    {
     "name": "stderr",
     "output_type": "stream",
     "text": [
      "391it [00:53,  7.27it/s]"
     ]
    },
    {
     "name": "stdout",
     "output_type": "stream",
     "text": [
      "Epoch 317 finished, average loss: 0.0001775685\n",
      "Starting testing\n"
     ]
    },
    {
     "name": "stderr",
     "output_type": "stream",
     "text": [
      "\n"
     ]
    },
    {
     "name": "stdout",
     "output_type": "stream",
     "text": [
      "Correct: 9417, total: 10000, accuracy: 0.9416999817, average loss: 0.0018915220\n"
     ]
    },
    {
     "name": "stderr",
     "output_type": "stream",
     "text": [
      "391it [00:52,  7.50it/s]"
     ]
    },
    {
     "name": "stdout",
     "output_type": "stream",
     "text": [
      "Epoch 318 finished, average loss: 0.0001792301\n",
      "Starting testing\n"
     ]
    },
    {
     "name": "stderr",
     "output_type": "stream",
     "text": [
      "\n"
     ]
    },
    {
     "name": "stdout",
     "output_type": "stream",
     "text": [
      "Correct: 9447, total: 10000, accuracy: 0.9447000027, average loss: 0.0017661399\n"
     ]
    },
    {
     "name": "stderr",
     "output_type": "stream",
     "text": [
      "391it [00:51,  7.52it/s]"
     ]
    },
    {
     "name": "stdout",
     "output_type": "stream",
     "text": [
      "Epoch 319 finished, average loss: 0.0001644186\n",
      "Starting testing\n"
     ]
    },
    {
     "name": "stderr",
     "output_type": "stream",
     "text": [
      "\n"
     ]
    },
    {
     "name": "stdout",
     "output_type": "stream",
     "text": [
      "Correct: 9456, total: 10000, accuracy: 0.9455999732, average loss: 0.0017986968\n"
     ]
    },
    {
     "name": "stderr",
     "output_type": "stream",
     "text": [
      "391it [00:51,  7.56it/s]"
     ]
    },
    {
     "name": "stdout",
     "output_type": "stream",
     "text": [
      "Epoch 320 finished, average loss: 0.0001730713\n",
      "Starting testing\n"
     ]
    },
    {
     "name": "stderr",
     "output_type": "stream",
     "text": [
      "\n"
     ]
    },
    {
     "name": "stdout",
     "output_type": "stream",
     "text": [
      "Correct: 9457, total: 10000, accuracy: 0.9456999898, average loss: 0.0018049338\n"
     ]
    },
    {
     "name": "stderr",
     "output_type": "stream",
     "text": [
      "391it [00:52,  7.46it/s]"
     ]
    },
    {
     "name": "stdout",
     "output_type": "stream",
     "text": [
      "Epoch 321 finished, average loss: 0.0001729650\n",
      "Starting testing\n"
     ]
    },
    {
     "name": "stderr",
     "output_type": "stream",
     "text": [
      "\n"
     ]
    },
    {
     "name": "stdout",
     "output_type": "stream",
     "text": [
      "Correct: 9466, total: 10000, accuracy: 0.9465999603, average loss: 0.0016855092\n"
     ]
    },
    {
     "name": "stderr",
     "output_type": "stream",
     "text": [
      "391it [00:52,  7.51it/s]"
     ]
    },
    {
     "name": "stdout",
     "output_type": "stream",
     "text": [
      "Epoch 322 finished, average loss: 0.0001788606\n",
      "Starting testing\n"
     ]
    },
    {
     "name": "stderr",
     "output_type": "stream",
     "text": [
      "\n"
     ]
    },
    {
     "name": "stdout",
     "output_type": "stream",
     "text": [
      "Correct: 9425, total: 10000, accuracy: 0.9424999952, average loss: 0.0019228132\n"
     ]
    },
    {
     "name": "stderr",
     "output_type": "stream",
     "text": [
      "391it [00:52,  7.47it/s]"
     ]
    },
    {
     "name": "stdout",
     "output_type": "stream",
     "text": [
      "Epoch 323 finished, average loss: 0.0001814480\n",
      "Starting testing\n"
     ]
    },
    {
     "name": "stderr",
     "output_type": "stream",
     "text": [
      "\n"
     ]
    },
    {
     "name": "stdout",
     "output_type": "stream",
     "text": [
      "Correct: 9452, total: 10000, accuracy: 0.9451999664, average loss: 0.0017122830\n"
     ]
    },
    {
     "name": "stderr",
     "output_type": "stream",
     "text": [
      "391it [00:52,  7.48it/s]"
     ]
    },
    {
     "name": "stdout",
     "output_type": "stream",
     "text": [
      "Epoch 324 finished, average loss: 0.0001749348\n",
      "Starting testing\n"
     ]
    },
    {
     "name": "stderr",
     "output_type": "stream",
     "text": [
      "\n"
     ]
    },
    {
     "name": "stdout",
     "output_type": "stream",
     "text": [
      "Correct: 9452, total: 10000, accuracy: 0.9451999664, average loss: 0.0017405314\n"
     ]
    },
    {
     "name": "stderr",
     "output_type": "stream",
     "text": [
      "391it [00:52,  7.48it/s]"
     ]
    },
    {
     "name": "stdout",
     "output_type": "stream",
     "text": [
      "Epoch 325 finished, average loss: 0.0001900654\n",
      "Starting testing\n"
     ]
    },
    {
     "name": "stderr",
     "output_type": "stream",
     "text": [
      "\n"
     ]
    },
    {
     "name": "stdout",
     "output_type": "stream",
     "text": [
      "Correct: 9473, total: 10000, accuracy: 0.9472999573, average loss: 0.0017201255\n"
     ]
    },
    {
     "name": "stderr",
     "output_type": "stream",
     "text": [
      "391it [00:54,  7.18it/s]"
     ]
    },
    {
     "name": "stdout",
     "output_type": "stream",
     "text": [
      "Epoch 326 finished, average loss: 0.0001791867\n",
      "Starting testing\n"
     ]
    },
    {
     "name": "stderr",
     "output_type": "stream",
     "text": [
      "\n"
     ]
    },
    {
     "name": "stdout",
     "output_type": "stream",
     "text": [
      "Correct: 9450, total: 10000, accuracy: 0.9449999928, average loss: 0.0017457448\n"
     ]
    },
    {
     "name": "stderr",
     "output_type": "stream",
     "text": [
      "391it [00:59,  6.55it/s]\n"
     ]
    },
    {
     "name": "stdout",
     "output_type": "stream",
     "text": [
      "Epoch 327 finished, average loss: 0.0001614135\n",
      "Starting testing\n",
      "Correct: 9455, total: 10000, accuracy: 0.9454999566, average loss: 0.0018264956\n"
     ]
    },
    {
     "name": "stderr",
     "output_type": "stream",
     "text": [
      "391it [00:58,  6.74it/s]"
     ]
    },
    {
     "name": "stdout",
     "output_type": "stream",
     "text": [
      "Epoch 328 finished, average loss: 0.0001781693\n",
      "Starting testing\n"
     ]
    },
    {
     "name": "stderr",
     "output_type": "stream",
     "text": [
      "\n"
     ]
    },
    {
     "name": "stdout",
     "output_type": "stream",
     "text": [
      "Correct: 9474, total: 10000, accuracy: 0.9473999739, average loss: 0.0016737929\n"
     ]
    },
    {
     "name": "stderr",
     "output_type": "stream",
     "text": [
      "391it [00:58,  6.69it/s]\n"
     ]
    },
    {
     "name": "stdout",
     "output_type": "stream",
     "text": [
      "Epoch 329 finished, average loss: 0.0001687584\n",
      "Starting testing\n",
      "Correct: 9460, total: 10000, accuracy: 0.9459999800, average loss: 0.0016523874\n"
     ]
    },
    {
     "name": "stderr",
     "output_type": "stream",
     "text": [
      "391it [00:58,  6.72it/s]"
     ]
    },
    {
     "name": "stdout",
     "output_type": "stream",
     "text": [
      "Epoch 330 finished, average loss: 0.0001789918\n",
      "Starting testing\n"
     ]
    },
    {
     "name": "stderr",
     "output_type": "stream",
     "text": [
      "\n"
     ]
    },
    {
     "name": "stdout",
     "output_type": "stream",
     "text": [
      "Correct: 9465, total: 10000, accuracy: 0.9465000033, average loss: 0.0017165775\n"
     ]
    },
    {
     "name": "stderr",
     "output_type": "stream",
     "text": [
      "391it [00:58,  6.64it/s]\n"
     ]
    },
    {
     "name": "stdout",
     "output_type": "stream",
     "text": [
      "Epoch 331 finished, average loss: 0.0001739470\n",
      "Starting testing\n",
      "Correct: 9473, total: 10000, accuracy: 0.9472999573, average loss: 0.0017139489\n"
     ]
    },
    {
     "name": "stderr",
     "output_type": "stream",
     "text": [
      "391it [00:58,  6.66it/s]"
     ]
    },
    {
     "name": "stdout",
     "output_type": "stream",
     "text": [
      "Epoch 332 finished, average loss: 0.0001651218\n",
      "Starting testing\n"
     ]
    },
    {
     "name": "stderr",
     "output_type": "stream",
     "text": [
      "\n"
     ]
    },
    {
     "name": "stdout",
     "output_type": "stream",
     "text": [
      "Correct: 9440, total: 10000, accuracy: 0.9440000057, average loss: 0.0018097100\n"
     ]
    },
    {
     "name": "stderr",
     "output_type": "stream",
     "text": [
      "391it [00:58,  6.68it/s]"
     ]
    },
    {
     "name": "stdout",
     "output_type": "stream",
     "text": [
      "Epoch 333 finished, average loss: 0.0001597600\n",
      "Starting testing\n"
     ]
    },
    {
     "name": "stderr",
     "output_type": "stream",
     "text": [
      "\n"
     ]
    },
    {
     "name": "stdout",
     "output_type": "stream",
     "text": [
      "Correct: 9458, total: 10000, accuracy: 0.9457999468, average loss: 0.0017136848\n"
     ]
    },
    {
     "name": "stderr",
     "output_type": "stream",
     "text": [
      "391it [00:58,  6.70it/s]"
     ]
    },
    {
     "name": "stdout",
     "output_type": "stream",
     "text": [
      "Epoch 334 finished, average loss: 0.0001819885\n",
      "Starting testing\n"
     ]
    },
    {
     "name": "stderr",
     "output_type": "stream",
     "text": [
      "\n"
     ]
    },
    {
     "name": "stdout",
     "output_type": "stream",
     "text": [
      "Correct: 9469, total: 10000, accuracy: 0.9468999505, average loss: 0.0017479315\n"
     ]
    },
    {
     "name": "stderr",
     "output_type": "stream",
     "text": [
      "391it [00:58,  6.69it/s]"
     ]
    },
    {
     "name": "stdout",
     "output_type": "stream",
     "text": [
      "Epoch 335 finished, average loss: 0.0001610387\n",
      "Starting testing\n"
     ]
    },
    {
     "name": "stderr",
     "output_type": "stream",
     "text": [
      "\n"
     ]
    },
    {
     "name": "stdout",
     "output_type": "stream",
     "text": [
      "Correct: 9457, total: 10000, accuracy: 0.9456999898, average loss: 0.0017075494\n"
     ]
    },
    {
     "name": "stderr",
     "output_type": "stream",
     "text": [
      "391it [00:58,  6.71it/s]"
     ]
    },
    {
     "name": "stdout",
     "output_type": "stream",
     "text": [
      "Epoch 336 finished, average loss: 0.0001773487\n",
      "Starting testing\n"
     ]
    },
    {
     "name": "stderr",
     "output_type": "stream",
     "text": [
      "\n"
     ]
    },
    {
     "name": "stdout",
     "output_type": "stream",
     "text": [
      "Correct: 9442, total: 10000, accuracy: 0.9441999793, average loss: 0.0017656204\n"
     ]
    },
    {
     "name": "stderr",
     "output_type": "stream",
     "text": [
      "391it [00:58,  6.68it/s]"
     ]
    },
    {
     "name": "stdout",
     "output_type": "stream",
     "text": [
      "Epoch 337 finished, average loss: 0.0001668773\n",
      "Starting testing\n"
     ]
    },
    {
     "name": "stderr",
     "output_type": "stream",
     "text": [
      "\n"
     ]
    },
    {
     "name": "stdout",
     "output_type": "stream",
     "text": [
      "Correct: 9467, total: 10000, accuracy: 0.9466999769, average loss: 0.0016664784\n"
     ]
    },
    {
     "name": "stderr",
     "output_type": "stream",
     "text": [
      "391it [00:58,  6.72it/s]"
     ]
    },
    {
     "name": "stdout",
     "output_type": "stream",
     "text": [
      "Epoch 338 finished, average loss: 0.0001878912\n",
      "Starting testing\n"
     ]
    },
    {
     "name": "stderr",
     "output_type": "stream",
     "text": [
      "\n"
     ]
    },
    {
     "name": "stdout",
     "output_type": "stream",
     "text": [
      "Correct: 9442, total: 10000, accuracy: 0.9441999793, average loss: 0.0017769318\n"
     ]
    },
    {
     "name": "stderr",
     "output_type": "stream",
     "text": [
      "391it [00:58,  6.71it/s]"
     ]
    },
    {
     "name": "stdout",
     "output_type": "stream",
     "text": [
      "Epoch 339 finished, average loss: 0.0001702540\n",
      "Starting testing\n"
     ]
    },
    {
     "name": "stderr",
     "output_type": "stream",
     "text": [
      "\n"
     ]
    },
    {
     "name": "stdout",
     "output_type": "stream",
     "text": [
      "Correct: 9462, total: 10000, accuracy: 0.9461999536, average loss: 0.0016155435\n"
     ]
    },
    {
     "name": "stderr",
     "output_type": "stream",
     "text": [
      "391it [00:58,  6.71it/s]"
     ]
    },
    {
     "name": "stdout",
     "output_type": "stream",
     "text": [
      "Epoch 340 finished, average loss: 0.0001806795\n",
      "Starting testing\n"
     ]
    },
    {
     "name": "stderr",
     "output_type": "stream",
     "text": [
      "\n"
     ]
    },
    {
     "name": "stdout",
     "output_type": "stream",
     "text": [
      "Correct: 9458, total: 10000, accuracy: 0.9457999468, average loss: 0.0017023738\n"
     ]
    },
    {
     "name": "stderr",
     "output_type": "stream",
     "text": [
      "391it [00:58,  6.71it/s]"
     ]
    },
    {
     "name": "stdout",
     "output_type": "stream",
     "text": [
      "Epoch 341 finished, average loss: 0.0001783047\n",
      "Starting testing\n"
     ]
    },
    {
     "name": "stderr",
     "output_type": "stream",
     "text": [
      "\n"
     ]
    },
    {
     "name": "stdout",
     "output_type": "stream",
     "text": [
      "Correct: 9400, total: 10000, accuracy: 0.9399999976, average loss: 0.0019265573\n"
     ]
    },
    {
     "name": "stderr",
     "output_type": "stream",
     "text": [
      "391it [00:58,  6.67it/s]"
     ]
    },
    {
     "name": "stdout",
     "output_type": "stream",
     "text": [
      "Epoch 342 finished, average loss: 0.0001648498\n",
      "Starting testing\n"
     ]
    },
    {
     "name": "stderr",
     "output_type": "stream",
     "text": [
      "\n"
     ]
    },
    {
     "name": "stdout",
     "output_type": "stream",
     "text": [
      "Correct: 9463, total: 10000, accuracy: 0.9462999701, average loss: 0.0016300602\n"
     ]
    },
    {
     "name": "stderr",
     "output_type": "stream",
     "text": [
      "391it [00:58,  6.65it/s]\n"
     ]
    },
    {
     "name": "stdout",
     "output_type": "stream",
     "text": [
      "Epoch 343 finished, average loss: 0.0001640621\n",
      "Starting testing\n",
      "Correct: 9421, total: 10000, accuracy: 0.9420999885, average loss: 0.0019293200\n"
     ]
    },
    {
     "name": "stderr",
     "output_type": "stream",
     "text": [
      "391it [00:58,  6.68it/s]"
     ]
    },
    {
     "name": "stdout",
     "output_type": "stream",
     "text": [
      "Epoch 344 finished, average loss: 0.0001647056\n",
      "Starting testing\n"
     ]
    },
    {
     "name": "stderr",
     "output_type": "stream",
     "text": [
      "\n"
     ]
    },
    {
     "name": "stdout",
     "output_type": "stream",
     "text": [
      "Correct: 9442, total: 10000, accuracy: 0.9441999793, average loss: 0.0019151886\n"
     ]
    },
    {
     "name": "stderr",
     "output_type": "stream",
     "text": [
      "391it [00:58,  6.67it/s]"
     ]
    },
    {
     "name": "stdout",
     "output_type": "stream",
     "text": [
      "Epoch 345 finished, average loss: 0.0001605079\n",
      "Starting testing\n"
     ]
    },
    {
     "name": "stderr",
     "output_type": "stream",
     "text": [
      "\n"
     ]
    },
    {
     "name": "stdout",
     "output_type": "stream",
     "text": [
      "Correct: 9464, total: 10000, accuracy: 0.9463999867, average loss: 0.0016241419\n"
     ]
    },
    {
     "name": "stderr",
     "output_type": "stream",
     "text": [
      "391it [00:58,  6.67it/s]"
     ]
    },
    {
     "name": "stdout",
     "output_type": "stream",
     "text": [
      "Epoch 346 finished, average loss: 0.0001629462\n",
      "Starting testing\n"
     ]
    },
    {
     "name": "stderr",
     "output_type": "stream",
     "text": [
      "\n"
     ]
    },
    {
     "name": "stdout",
     "output_type": "stream",
     "text": [
      "Correct: 9430, total: 10000, accuracy: 0.9429999590, average loss: 0.0019213762\n"
     ]
    },
    {
     "name": "stderr",
     "output_type": "stream",
     "text": [
      "391it [00:58,  6.68it/s]"
     ]
    },
    {
     "name": "stdout",
     "output_type": "stream",
     "text": [
      "Epoch 347 finished, average loss: 0.0001567649\n",
      "Starting testing\n"
     ]
    },
    {
     "name": "stderr",
     "output_type": "stream",
     "text": [
      "\n"
     ]
    },
    {
     "name": "stdout",
     "output_type": "stream",
     "text": [
      "Correct: 9424, total: 10000, accuracy: 0.9423999786, average loss: 0.0018326127\n"
     ]
    },
    {
     "name": "stderr",
     "output_type": "stream",
     "text": [
      "391it [00:58,  6.67it/s]"
     ]
    },
    {
     "name": "stdout",
     "output_type": "stream",
     "text": [
      "Epoch 348 finished, average loss: 0.0001808317\n",
      "Starting testing\n"
     ]
    },
    {
     "name": "stderr",
     "output_type": "stream",
     "text": [
      "\n"
     ]
    },
    {
     "name": "stdout",
     "output_type": "stream",
     "text": [
      "Correct: 9450, total: 10000, accuracy: 0.9449999928, average loss: 0.0016744229\n"
     ]
    },
    {
     "name": "stderr",
     "output_type": "stream",
     "text": [
      "391it [00:59,  6.58it/s]"
     ]
    },
    {
     "name": "stdout",
     "output_type": "stream",
     "text": [
      "Epoch 349 finished, average loss: 0.0001540444\n",
      "Starting testing\n"
     ]
    },
    {
     "name": "stderr",
     "output_type": "stream",
     "text": [
      "\n"
     ]
    },
    {
     "name": "stdout",
     "output_type": "stream",
     "text": [
      "Correct: 9441, total: 10000, accuracy: 0.9440999627, average loss: 0.0018930259\n"
     ]
    },
    {
     "name": "stderr",
     "output_type": "stream",
     "text": [
      "391it [00:59,  6.57it/s]"
     ]
    },
    {
     "name": "stdout",
     "output_type": "stream",
     "text": [
      "Epoch 350 finished, average loss: 0.0001555088\n",
      "Starting testing\n"
     ]
    },
    {
     "name": "stderr",
     "output_type": "stream",
     "text": [
      "\n"
     ]
    },
    {
     "name": "stdout",
     "output_type": "stream",
     "text": [
      "Correct: 9423, total: 10000, accuracy: 0.9422999620, average loss: 0.0018494011\n"
     ]
    },
    {
     "name": "stderr",
     "output_type": "stream",
     "text": [
      "391it [00:59,  6.57it/s]"
     ]
    },
    {
     "name": "stdout",
     "output_type": "stream",
     "text": [
      "Epoch 351 finished, average loss: 0.0001684290\n",
      "Starting testing\n"
     ]
    },
    {
     "name": "stderr",
     "output_type": "stream",
     "text": [
      "\n"
     ]
    },
    {
     "name": "stdout",
     "output_type": "stream",
     "text": [
      "Correct: 9434, total: 10000, accuracy: 0.9433999658, average loss: 0.0016903600\n"
     ]
    },
    {
     "name": "stderr",
     "output_type": "stream",
     "text": [
      "391it [00:58,  6.66it/s]"
     ]
    },
    {
     "name": "stdout",
     "output_type": "stream",
     "text": [
      "Epoch 352 finished, average loss: 0.0001762590\n",
      "Starting testing\n"
     ]
    },
    {
     "name": "stderr",
     "output_type": "stream",
     "text": [
      "\n"
     ]
    },
    {
     "name": "stdout",
     "output_type": "stream",
     "text": [
      "Correct: 9449, total: 10000, accuracy: 0.9448999763, average loss: 0.0017703391\n"
     ]
    },
    {
     "name": "stderr",
     "output_type": "stream",
     "text": [
      "391it [00:58,  6.68it/s]"
     ]
    },
    {
     "name": "stdout",
     "output_type": "stream",
     "text": [
      "Epoch 353 finished, average loss: 0.0001788513\n",
      "Starting testing\n"
     ]
    },
    {
     "name": "stderr",
     "output_type": "stream",
     "text": [
      "\n"
     ]
    },
    {
     "name": "stdout",
     "output_type": "stream",
     "text": [
      "Correct: 9457, total: 10000, accuracy: 0.9456999898, average loss: 0.0016401163\n"
     ]
    },
    {
     "name": "stderr",
     "output_type": "stream",
     "text": [
      "391it [00:58,  6.64it/s]"
     ]
    },
    {
     "name": "stdout",
     "output_type": "stream",
     "text": [
      "Epoch 354 finished, average loss: 0.0001819272\n",
      "Starting testing\n"
     ]
    },
    {
     "name": "stderr",
     "output_type": "stream",
     "text": [
      "\n"
     ]
    },
    {
     "name": "stdout",
     "output_type": "stream",
     "text": [
      "Correct: 9451, total: 10000, accuracy: 0.9450999498, average loss: 0.0016657703\n"
     ]
    },
    {
     "name": "stderr",
     "output_type": "stream",
     "text": [
      "391it [00:59,  6.56it/s]"
     ]
    },
    {
     "name": "stdout",
     "output_type": "stream",
     "text": [
      "Epoch 355 finished, average loss: 0.0001644589\n",
      "Starting testing\n"
     ]
    },
    {
     "name": "stderr",
     "output_type": "stream",
     "text": [
      "\n"
     ]
    },
    {
     "name": "stdout",
     "output_type": "stream",
     "text": [
      "Correct: 9451, total: 10000, accuracy: 0.9450999498, average loss: 0.0018470843\n"
     ]
    },
    {
     "name": "stderr",
     "output_type": "stream",
     "text": [
      "391it [00:59,  6.54it/s]\n"
     ]
    },
    {
     "name": "stdout",
     "output_type": "stream",
     "text": [
      "Epoch 356 finished, average loss: 0.0001860821\n",
      "Starting testing\n",
      "Correct: 9448, total: 10000, accuracy: 0.9447999597, average loss: 0.0017078775\n"
     ]
    },
    {
     "name": "stderr",
     "output_type": "stream",
     "text": [
      "391it [00:58,  6.64it/s]"
     ]
    },
    {
     "name": "stdout",
     "output_type": "stream",
     "text": [
      "Epoch 357 finished, average loss: 0.0001789404\n",
      "Starting testing\n"
     ]
    },
    {
     "name": "stderr",
     "output_type": "stream",
     "text": [
      "\n"
     ]
    },
    {
     "name": "stdout",
     "output_type": "stream",
     "text": [
      "Correct: 9459, total: 10000, accuracy: 0.9458999634, average loss: 0.0017619622\n"
     ]
    },
    {
     "name": "stderr",
     "output_type": "stream",
     "text": [
      "391it [00:58,  6.68it/s]"
     ]
    },
    {
     "name": "stdout",
     "output_type": "stream",
     "text": [
      "Epoch 358 finished, average loss: 0.0001744621\n",
      "Starting testing\n"
     ]
    },
    {
     "name": "stderr",
     "output_type": "stream",
     "text": [
      "\n"
     ]
    },
    {
     "name": "stdout",
     "output_type": "stream",
     "text": [
      "Correct: 9431, total: 10000, accuracy: 0.9430999756, average loss: 0.0018250103\n"
     ]
    },
    {
     "name": "stderr",
     "output_type": "stream",
     "text": [
      "391it [00:58,  6.64it/s]"
     ]
    },
    {
     "name": "stdout",
     "output_type": "stream",
     "text": [
      "Epoch 359 finished, average loss: 0.0001849076\n",
      "Starting testing\n"
     ]
    },
    {
     "name": "stderr",
     "output_type": "stream",
     "text": [
      "\n"
     ]
    },
    {
     "name": "stdout",
     "output_type": "stream",
     "text": [
      "Correct: 9452, total: 10000, accuracy: 0.9451999664, average loss: 0.0016903680\n"
     ]
    },
    {
     "name": "stderr",
     "output_type": "stream",
     "text": [
      "391it [00:58,  6.66it/s]"
     ]
    },
    {
     "name": "stdout",
     "output_type": "stream",
     "text": [
      "Epoch 360 finished, average loss: 0.0001677747\n",
      "Starting testing\n"
     ]
    },
    {
     "name": "stderr",
     "output_type": "stream",
     "text": [
      "\n"
     ]
    },
    {
     "name": "stdout",
     "output_type": "stream",
     "text": [
      "Correct: 9429, total: 10000, accuracy: 0.9429000020, average loss: 0.0019137640\n"
     ]
    },
    {
     "name": "stderr",
     "output_type": "stream",
     "text": [
      "391it [00:57,  6.80it/s]"
     ]
    },
    {
     "name": "stdout",
     "output_type": "stream",
     "text": [
      "Epoch 361 finished, average loss: 0.0001873009\n",
      "Starting testing\n"
     ]
    },
    {
     "name": "stderr",
     "output_type": "stream",
     "text": [
      "\n"
     ]
    },
    {
     "name": "stdout",
     "output_type": "stream",
     "text": [
      "Correct: 9452, total: 10000, accuracy: 0.9451999664, average loss: 0.0017575629\n"
     ]
    },
    {
     "name": "stderr",
     "output_type": "stream",
     "text": [
      "391it [00:57,  6.80it/s]"
     ]
    },
    {
     "name": "stdout",
     "output_type": "stream",
     "text": [
      "Epoch 362 finished, average loss: 0.0001663746\n",
      "Starting testing\n"
     ]
    },
    {
     "name": "stderr",
     "output_type": "stream",
     "text": [
      "\n"
     ]
    },
    {
     "name": "stdout",
     "output_type": "stream",
     "text": [
      "Correct: 9437, total: 10000, accuracy: 0.9436999559, average loss: 0.0019149961\n"
     ]
    },
    {
     "name": "stderr",
     "output_type": "stream",
     "text": [
      "391it [00:58,  6.73it/s]"
     ]
    },
    {
     "name": "stdout",
     "output_type": "stream",
     "text": [
      "Epoch 363 finished, average loss: 0.0001718121\n",
      "Starting testing\n"
     ]
    },
    {
     "name": "stderr",
     "output_type": "stream",
     "text": [
      "\n"
     ]
    },
    {
     "name": "stdout",
     "output_type": "stream",
     "text": [
      "Correct: 9465, total: 10000, accuracy: 0.9465000033, average loss: 0.0017271706\n"
     ]
    },
    {
     "name": "stderr",
     "output_type": "stream",
     "text": [
      "391it [00:59,  6.57it/s]"
     ]
    },
    {
     "name": "stdout",
     "output_type": "stream",
     "text": [
      "Epoch 364 finished, average loss: 0.0001761843\n",
      "Starting testing\n"
     ]
    },
    {
     "name": "stderr",
     "output_type": "stream",
     "text": [
      "\n"
     ]
    },
    {
     "name": "stdout",
     "output_type": "stream",
     "text": [
      "Correct: 9448, total: 10000, accuracy: 0.9447999597, average loss: 0.0017330357\n"
     ]
    },
    {
     "name": "stderr",
     "output_type": "stream",
     "text": [
      "391it [00:59,  6.55it/s]\n"
     ]
    },
    {
     "name": "stdout",
     "output_type": "stream",
     "text": [
      "Epoch 365 finished, average loss: 0.0001821909\n",
      "Starting testing\n",
      "Correct: 9446, total: 10000, accuracy: 0.9445999861, average loss: 0.0017870892\n"
     ]
    },
    {
     "name": "stderr",
     "output_type": "stream",
     "text": [
      "391it [00:58,  6.65it/s]"
     ]
    },
    {
     "name": "stdout",
     "output_type": "stream",
     "text": [
      "Epoch 366 finished, average loss: 0.0001856120\n",
      "Starting testing\n"
     ]
    },
    {
     "name": "stderr",
     "output_type": "stream",
     "text": [
      "\n"
     ]
    },
    {
     "name": "stdout",
     "output_type": "stream",
     "text": [
      "Correct: 9487, total: 10000, accuracy: 0.9486999512, average loss: 0.0016731296\n"
     ]
    },
    {
     "name": "stderr",
     "output_type": "stream",
     "text": [
      "391it [00:58,  6.65it/s]"
     ]
    },
    {
     "name": "stdout",
     "output_type": "stream",
     "text": [
      "Epoch 367 finished, average loss: 0.0001876685\n",
      "Starting testing\n"
     ]
    },
    {
     "name": "stderr",
     "output_type": "stream",
     "text": [
      "\n"
     ]
    },
    {
     "name": "stdout",
     "output_type": "stream",
     "text": [
      "Correct: 9472, total: 10000, accuracy: 0.9472000003, average loss: 0.0016159846\n"
     ]
    },
    {
     "name": "stderr",
     "output_type": "stream",
     "text": [
      "391it [00:58,  6.63it/s]"
     ]
    },
    {
     "name": "stdout",
     "output_type": "stream",
     "text": [
      "Epoch 368 finished, average loss: 0.0001791905\n",
      "Starting testing\n"
     ]
    },
    {
     "name": "stderr",
     "output_type": "stream",
     "text": [
      "\n"
     ]
    },
    {
     "name": "stdout",
     "output_type": "stream",
     "text": [
      "Correct: 9448, total: 10000, accuracy: 0.9447999597, average loss: 0.0017778699\n"
     ]
    },
    {
     "name": "stderr",
     "output_type": "stream",
     "text": [
      "391it [00:59,  6.57it/s]"
     ]
    },
    {
     "name": "stdout",
     "output_type": "stream",
     "text": [
      "Epoch 369 finished, average loss: 0.0001827221\n",
      "Starting testing\n"
     ]
    },
    {
     "name": "stderr",
     "output_type": "stream",
     "text": [
      "\n"
     ]
    },
    {
     "name": "stdout",
     "output_type": "stream",
     "text": [
      "Correct: 9446, total: 10000, accuracy: 0.9445999861, average loss: 0.0018362295\n"
     ]
    },
    {
     "name": "stderr",
     "output_type": "stream",
     "text": [
      "391it [00:59,  6.56it/s]"
     ]
    },
    {
     "name": "stdout",
     "output_type": "stream",
     "text": [
      "Epoch 370 finished, average loss: 0.0001704141\n",
      "Starting testing\n"
     ]
    },
    {
     "name": "stderr",
     "output_type": "stream",
     "text": [
      "\n"
     ]
    },
    {
     "name": "stdout",
     "output_type": "stream",
     "text": [
      "Correct: 9436, total: 10000, accuracy: 0.9435999990, average loss: 0.0020166870\n"
     ]
    },
    {
     "name": "stderr",
     "output_type": "stream",
     "text": [
      "391it [00:59,  6.62it/s]"
     ]
    },
    {
     "name": "stdout",
     "output_type": "stream",
     "text": [
      "Epoch 371 finished, average loss: 0.0001703888\n",
      "Starting testing\n"
     ]
    },
    {
     "name": "stderr",
     "output_type": "stream",
     "text": [
      "\n"
     ]
    },
    {
     "name": "stdout",
     "output_type": "stream",
     "text": [
      "Correct: 9432, total: 10000, accuracy: 0.9431999922, average loss: 0.0018329587\n"
     ]
    },
    {
     "name": "stderr",
     "output_type": "stream",
     "text": [
      "391it [00:59,  6.59it/s]"
     ]
    },
    {
     "name": "stdout",
     "output_type": "stream",
     "text": [
      "Epoch 372 finished, average loss: 0.0001651455\n",
      "Starting testing\n"
     ]
    },
    {
     "name": "stderr",
     "output_type": "stream",
     "text": [
      "\n"
     ]
    },
    {
     "name": "stdout",
     "output_type": "stream",
     "text": [
      "Correct: 9463, total: 10000, accuracy: 0.9462999701, average loss: 0.0016061746\n"
     ]
    },
    {
     "name": "stderr",
     "output_type": "stream",
     "text": [
      "391it [00:59,  6.54it/s]"
     ]
    },
    {
     "name": "stdout",
     "output_type": "stream",
     "text": [
      "Epoch 373 finished, average loss: 0.0001690658\n",
      "Starting testing\n"
     ]
    },
    {
     "name": "stderr",
     "output_type": "stream",
     "text": [
      "\n"
     ]
    },
    {
     "name": "stdout",
     "output_type": "stream",
     "text": [
      "Correct: 9432, total: 10000, accuracy: 0.9431999922, average loss: 0.0018671891\n"
     ]
    },
    {
     "name": "stderr",
     "output_type": "stream",
     "text": [
      "391it [00:59,  6.58it/s]"
     ]
    },
    {
     "name": "stdout",
     "output_type": "stream",
     "text": [
      "Epoch 374 finished, average loss: 0.0001902455\n",
      "Starting testing\n"
     ]
    },
    {
     "name": "stderr",
     "output_type": "stream",
     "text": [
      "\n"
     ]
    },
    {
     "name": "stdout",
     "output_type": "stream",
     "text": [
      "Correct: 9443, total: 10000, accuracy: 0.9442999959, average loss: 0.0017106734\n"
     ]
    },
    {
     "name": "stderr",
     "output_type": "stream",
     "text": [
      "391it [00:58,  6.64it/s]"
     ]
    },
    {
     "name": "stdout",
     "output_type": "stream",
     "text": [
      "Epoch 375 finished, average loss: 0.0001670228\n",
      "Starting testing\n"
     ]
    },
    {
     "name": "stderr",
     "output_type": "stream",
     "text": [
      "\n"
     ]
    },
    {
     "name": "stdout",
     "output_type": "stream",
     "text": [
      "Correct: 9412, total: 10000, accuracy: 0.9411999583, average loss: 0.0018326422\n"
     ]
    },
    {
     "name": "stderr",
     "output_type": "stream",
     "text": [
      "391it [00:59,  6.60it/s]"
     ]
    },
    {
     "name": "stdout",
     "output_type": "stream",
     "text": [
      "Epoch 376 finished, average loss: 0.0001557609\n",
      "Starting testing\n"
     ]
    },
    {
     "name": "stderr",
     "output_type": "stream",
     "text": [
      "\n"
     ]
    },
    {
     "name": "stdout",
     "output_type": "stream",
     "text": [
      "Correct: 9462, total: 10000, accuracy: 0.9461999536, average loss: 0.0017375860\n"
     ]
    },
    {
     "name": "stderr",
     "output_type": "stream",
     "text": [
      "391it [00:59,  6.63it/s]"
     ]
    },
    {
     "name": "stdout",
     "output_type": "stream",
     "text": [
      "Epoch 377 finished, average loss: 0.0001245188\n",
      "Starting testing\n"
     ]
    },
    {
     "name": "stderr",
     "output_type": "stream",
     "text": [
      "\n"
     ]
    },
    {
     "name": "stdout",
     "output_type": "stream",
     "text": [
      "Correct: 9473, total: 10000, accuracy: 0.9472999573, average loss: 0.0017053472\n"
     ]
    },
    {
     "name": "stderr",
     "output_type": "stream",
     "text": [
      "391it [00:59,  6.62it/s]\n"
     ]
    },
    {
     "name": "stdout",
     "output_type": "stream",
     "text": [
      "Epoch 378 finished, average loss: 0.0001229620\n",
      "Starting testing\n",
      "Correct: 9442, total: 10000, accuracy: 0.9441999793, average loss: 0.0017663251\n"
     ]
    },
    {
     "name": "stderr",
     "output_type": "stream",
     "text": [
      "391it [00:59,  6.55it/s]\n"
     ]
    },
    {
     "name": "stdout",
     "output_type": "stream",
     "text": [
      "Epoch 379 finished, average loss: 0.0001234395\n",
      "Starting testing\n",
      "Correct: 9473, total: 10000, accuracy: 0.9472999573, average loss: 0.0016614624\n"
     ]
    },
    {
     "name": "stderr",
     "output_type": "stream",
     "text": [
      "391it [00:58,  6.66it/s]"
     ]
    },
    {
     "name": "stdout",
     "output_type": "stream",
     "text": [
      "Epoch 380 finished, average loss: 0.0001135381\n",
      "Starting testing\n"
     ]
    },
    {
     "name": "stderr",
     "output_type": "stream",
     "text": [
      "\n"
     ]
    },
    {
     "name": "stdout",
     "output_type": "stream",
     "text": [
      "Correct: 9472, total: 10000, accuracy: 0.9472000003, average loss: 0.0016406710\n"
     ]
    },
    {
     "name": "stderr",
     "output_type": "stream",
     "text": [
      "391it [00:58,  6.69it/s]"
     ]
    },
    {
     "name": "stdout",
     "output_type": "stream",
     "text": [
      "Epoch 381 finished, average loss: 0.0001069622\n",
      "Starting testing\n"
     ]
    },
    {
     "name": "stderr",
     "output_type": "stream",
     "text": [
      "\n"
     ]
    },
    {
     "name": "stdout",
     "output_type": "stream",
     "text": [
      "Correct: 9476, total: 10000, accuracy: 0.9475999475, average loss: 0.0016861655\n"
     ]
    },
    {
     "name": "stderr",
     "output_type": "stream",
     "text": [
      "391it [00:58,  6.64it/s]"
     ]
    },
    {
     "name": "stdout",
     "output_type": "stream",
     "text": [
      "Epoch 382 finished, average loss: 0.0000921746\n",
      "Starting testing\n"
     ]
    },
    {
     "name": "stderr",
     "output_type": "stream",
     "text": [
      "\n"
     ]
    },
    {
     "name": "stdout",
     "output_type": "stream",
     "text": [
      "Correct: 9482, total: 10000, accuracy: 0.9481999874, average loss: 0.0016201801\n"
     ]
    },
    {
     "name": "stderr",
     "output_type": "stream",
     "text": [
      "391it [00:58,  6.72it/s]"
     ]
    },
    {
     "name": "stdout",
     "output_type": "stream",
     "text": [
      "Epoch 383 finished, average loss: 0.0001017254\n",
      "Starting testing\n"
     ]
    },
    {
     "name": "stderr",
     "output_type": "stream",
     "text": [
      "\n"
     ]
    },
    {
     "name": "stdout",
     "output_type": "stream",
     "text": [
      "Correct: 9476, total: 10000, accuracy: 0.9475999475, average loss: 0.0017086426\n"
     ]
    },
    {
     "name": "stderr",
     "output_type": "stream",
     "text": [
      "391it [00:58,  6.70it/s]"
     ]
    },
    {
     "name": "stdout",
     "output_type": "stream",
     "text": [
      "Epoch 384 finished, average loss: 0.0000921135\n",
      "Starting testing\n"
     ]
    },
    {
     "name": "stderr",
     "output_type": "stream",
     "text": [
      "\n"
     ]
    },
    {
     "name": "stdout",
     "output_type": "stream",
     "text": [
      "Correct: 9474, total: 10000, accuracy: 0.9473999739, average loss: 0.0016315082\n"
     ]
    },
    {
     "name": "stderr",
     "output_type": "stream",
     "text": [
      "391it [00:56,  6.90it/s]"
     ]
    },
    {
     "name": "stdout",
     "output_type": "stream",
     "text": [
      "Epoch 385 finished, average loss: 0.0000875902\n",
      "Starting testing\n"
     ]
    },
    {
     "name": "stderr",
     "output_type": "stream",
     "text": [
      "\n"
     ]
    },
    {
     "name": "stdout",
     "output_type": "stream",
     "text": [
      "Correct: 9490, total: 10000, accuracy: 0.9490000010, average loss: 0.0017551352\n"
     ]
    },
    {
     "name": "stderr",
     "output_type": "stream",
     "text": [
      "391it [00:55,  7.10it/s]"
     ]
    },
    {
     "name": "stdout",
     "output_type": "stream",
     "text": [
      "Epoch 386 finished, average loss: 0.0000926667\n",
      "Starting testing\n"
     ]
    },
    {
     "name": "stderr",
     "output_type": "stream",
     "text": [
      "\n"
     ]
    },
    {
     "name": "stdout",
     "output_type": "stream",
     "text": [
      "Correct: 9478, total: 10000, accuracy: 0.9477999806, average loss: 0.0016816688\n"
     ]
    },
    {
     "name": "stderr",
     "output_type": "stream",
     "text": [
      "391it [00:55,  7.06it/s]\n"
     ]
    },
    {
     "name": "stdout",
     "output_type": "stream",
     "text": [
      "Epoch 387 finished, average loss: 0.0000788851\n",
      "Starting testing\n",
      "Correct: 9483, total: 10000, accuracy: 0.9483000040, average loss: 0.0017700768\n"
     ]
    },
    {
     "name": "stderr",
     "output_type": "stream",
     "text": [
      "391it [00:55,  7.09it/s]"
     ]
    },
    {
     "name": "stdout",
     "output_type": "stream",
     "text": [
      "Epoch 388 finished, average loss: 0.0000889455\n",
      "Starting testing\n"
     ]
    },
    {
     "name": "stderr",
     "output_type": "stream",
     "text": [
      "\n"
     ]
    },
    {
     "name": "stdout",
     "output_type": "stream",
     "text": [
      "Correct: 9498, total: 10000, accuracy: 0.9497999549, average loss: 0.0017409908\n"
     ]
    },
    {
     "name": "stderr",
     "output_type": "stream",
     "text": [
      "391it [00:53,  7.36it/s]"
     ]
    },
    {
     "name": "stdout",
     "output_type": "stream",
     "text": [
      "Epoch 389 finished, average loss: 0.0000825334\n",
      "Starting testing\n"
     ]
    },
    {
     "name": "stderr",
     "output_type": "stream",
     "text": [
      "\n"
     ]
    },
    {
     "name": "stdout",
     "output_type": "stream",
     "text": [
      "Correct: 9484, total: 10000, accuracy: 0.9483999610, average loss: 0.0016966964\n"
     ]
    },
    {
     "name": "stderr",
     "output_type": "stream",
     "text": [
      "391it [00:53,  7.38it/s]"
     ]
    },
    {
     "name": "stdout",
     "output_type": "stream",
     "text": [
      "Epoch 390 finished, average loss: 0.0000855175\n",
      "Starting testing\n"
     ]
    },
    {
     "name": "stderr",
     "output_type": "stream",
     "text": [
      "\n"
     ]
    },
    {
     "name": "stdout",
     "output_type": "stream",
     "text": [
      "Correct: 9486, total: 10000, accuracy: 0.9485999942, average loss: 0.0017137780\n"
     ]
    },
    {
     "name": "stderr",
     "output_type": "stream",
     "text": [
      "391it [00:51,  7.64it/s]"
     ]
    },
    {
     "name": "stdout",
     "output_type": "stream",
     "text": [
      "Epoch 391 finished, average loss: 0.0000832031\n",
      "Starting testing\n"
     ]
    },
    {
     "name": "stderr",
     "output_type": "stream",
     "text": [
      "\n"
     ]
    },
    {
     "name": "stdout",
     "output_type": "stream",
     "text": [
      "Correct: 9472, total: 10000, accuracy: 0.9472000003, average loss: 0.0017768822\n"
     ]
    },
    {
     "name": "stderr",
     "output_type": "stream",
     "text": [
      "391it [00:51,  7.66it/s]"
     ]
    },
    {
     "name": "stdout",
     "output_type": "stream",
     "text": [
      "Epoch 392 finished, average loss: 0.0000836710\n",
      "Starting testing\n"
     ]
    },
    {
     "name": "stderr",
     "output_type": "stream",
     "text": [
      "\n"
     ]
    },
    {
     "name": "stdout",
     "output_type": "stream",
     "text": [
      "Correct: 9496, total: 10000, accuracy: 0.9495999813, average loss: 0.0016459881\n"
     ]
    },
    {
     "name": "stderr",
     "output_type": "stream",
     "text": [
      "391it [00:51,  7.55it/s]"
     ]
    },
    {
     "name": "stdout",
     "output_type": "stream",
     "text": [
      "Epoch 393 finished, average loss: 0.0000872351\n",
      "Starting testing\n"
     ]
    },
    {
     "name": "stderr",
     "output_type": "stream",
     "text": [
      "\n"
     ]
    },
    {
     "name": "stdout",
     "output_type": "stream",
     "text": [
      "Correct: 9499, total: 10000, accuracy: 0.9498999715, average loss: 0.0016519424\n"
     ]
    },
    {
     "name": "stderr",
     "output_type": "stream",
     "text": [
      "391it [00:52,  7.52it/s]"
     ]
    },
    {
     "name": "stdout",
     "output_type": "stream",
     "text": [
      "Epoch 394 finished, average loss: 0.0000846594\n",
      "Starting testing\n"
     ]
    },
    {
     "name": "stderr",
     "output_type": "stream",
     "text": [
      "\n"
     ]
    },
    {
     "name": "stdout",
     "output_type": "stream",
     "text": [
      "Correct: 9491, total: 10000, accuracy: 0.9490999579, average loss: 0.0017002422\n"
     ]
    },
    {
     "name": "stderr",
     "output_type": "stream",
     "text": [
      "391it [00:50,  7.67it/s]"
     ]
    },
    {
     "name": "stdout",
     "output_type": "stream",
     "text": [
      "Epoch 395 finished, average loss: 0.0000869778\n",
      "Starting testing\n"
     ]
    },
    {
     "name": "stderr",
     "output_type": "stream",
     "text": [
      "\n"
     ]
    },
    {
     "name": "stdout",
     "output_type": "stream",
     "text": [
      "Correct: 9493, total: 10000, accuracy: 0.9492999911, average loss: 0.0016644370\n"
     ]
    },
    {
     "name": "stderr",
     "output_type": "stream",
     "text": [
      "391it [00:50,  7.70it/s]"
     ]
    },
    {
     "name": "stdout",
     "output_type": "stream",
     "text": [
      "Epoch 396 finished, average loss: 0.0000761489\n",
      "Starting testing\n"
     ]
    },
    {
     "name": "stderr",
     "output_type": "stream",
     "text": [
      "\n"
     ]
    },
    {
     "name": "stdout",
     "output_type": "stream",
     "text": [
      "Correct: 9469, total: 10000, accuracy: 0.9468999505, average loss: 0.0018190324\n"
     ]
    },
    {
     "name": "stderr",
     "output_type": "stream",
     "text": [
      "391it [00:51,  7.60it/s]"
     ]
    },
    {
     "name": "stdout",
     "output_type": "stream",
     "text": [
      "Epoch 397 finished, average loss: 0.0000785837\n",
      "Starting testing\n"
     ]
    },
    {
     "name": "stderr",
     "output_type": "stream",
     "text": [
      "\n"
     ]
    },
    {
     "name": "stdout",
     "output_type": "stream",
     "text": [
      "Correct: 9477, total: 10000, accuracy: 0.9476999640, average loss: 0.0017321675\n"
     ]
    },
    {
     "name": "stderr",
     "output_type": "stream",
     "text": [
      "391it [00:50,  7.73it/s]"
     ]
    },
    {
     "name": "stdout",
     "output_type": "stream",
     "text": [
      "Epoch 398 finished, average loss: 0.0000732851\n",
      "Starting testing\n"
     ]
    },
    {
     "name": "stderr",
     "output_type": "stream",
     "text": [
      "\n"
     ]
    },
    {
     "name": "stdout",
     "output_type": "stream",
     "text": [
      "Correct: 9491, total: 10000, accuracy: 0.9490999579, average loss: 0.0016076004\n"
     ]
    },
    {
     "name": "stderr",
     "output_type": "stream",
     "text": [
      "391it [00:50,  7.74it/s]"
     ]
    },
    {
     "name": "stdout",
     "output_type": "stream",
     "text": [
      "Epoch 399 finished, average loss: 0.0000722363\n",
      "Starting testing\n"
     ]
    },
    {
     "name": "stderr",
     "output_type": "stream",
     "text": [
      "\n"
     ]
    },
    {
     "name": "stdout",
     "output_type": "stream",
     "text": [
      "Correct: 9495, total: 10000, accuracy: 0.9494999647, average loss: 0.0016294859\n"
     ]
    },
    {
     "name": "stderr",
     "output_type": "stream",
     "text": [
      "391it [00:50,  7.68it/s]"
     ]
    },
    {
     "name": "stdout",
     "output_type": "stream",
     "text": [
      "Epoch 400 finished, average loss: 0.0000633699\n",
      "Starting testing\n"
     ]
    },
    {
     "name": "stderr",
     "output_type": "stream",
     "text": [
      "\n"
     ]
    },
    {
     "name": "stdout",
     "output_type": "stream",
     "text": [
      "Correct: 9491, total: 10000, accuracy: 0.9490999579, average loss: 0.0016988534\n"
     ]
    },
    {
     "name": "stderr",
     "output_type": "stream",
     "text": [
      "391it [00:50,  7.70it/s]"
     ]
    },
    {
     "name": "stdout",
     "output_type": "stream",
     "text": [
      "Epoch 401 finished, average loss: 0.0000777951\n",
      "Starting testing\n"
     ]
    },
    {
     "name": "stderr",
     "output_type": "stream",
     "text": [
      "\n"
     ]
    },
    {
     "name": "stdout",
     "output_type": "stream",
     "text": [
      "Correct: 9481, total: 10000, accuracy: 0.9480999708, average loss: 0.0017530365\n"
     ]
    },
    {
     "name": "stderr",
     "output_type": "stream",
     "text": [
      "391it [00:51,  7.63it/s]"
     ]
    },
    {
     "name": "stdout",
     "output_type": "stream",
     "text": [
      "Epoch 402 finished, average loss: 0.0000653660\n",
      "Starting testing\n"
     ]
    },
    {
     "name": "stderr",
     "output_type": "stream",
     "text": [
      "\n"
     ]
    },
    {
     "name": "stdout",
     "output_type": "stream",
     "text": [
      "Correct: 9494, total: 10000, accuracy: 0.9493999481, average loss: 0.0017250630\n"
     ]
    },
    {
     "name": "stderr",
     "output_type": "stream",
     "text": [
      "391it [00:51,  7.65it/s]"
     ]
    },
    {
     "name": "stdout",
     "output_type": "stream",
     "text": [
      "Epoch 403 finished, average loss: 0.0000650806\n",
      "Starting testing\n"
     ]
    },
    {
     "name": "stderr",
     "output_type": "stream",
     "text": [
      "\n"
     ]
    },
    {
     "name": "stdout",
     "output_type": "stream",
     "text": [
      "Correct: 9485, total: 10000, accuracy: 0.9484999776, average loss: 0.0017153977\n"
     ]
    },
    {
     "name": "stderr",
     "output_type": "stream",
     "text": [
      "391it [00:50,  7.71it/s]"
     ]
    },
    {
     "name": "stdout",
     "output_type": "stream",
     "text": [
      "Epoch 404 finished, average loss: 0.0000640821\n",
      "Starting testing\n"
     ]
    },
    {
     "name": "stderr",
     "output_type": "stream",
     "text": [
      "\n"
     ]
    },
    {
     "name": "stdout",
     "output_type": "stream",
     "text": [
      "Correct: 9482, total: 10000, accuracy: 0.9481999874, average loss: 0.0018154814\n"
     ]
    },
    {
     "name": "stderr",
     "output_type": "stream",
     "text": [
      "391it [00:50,  7.67it/s]"
     ]
    },
    {
     "name": "stdout",
     "output_type": "stream",
     "text": [
      "Epoch 405 finished, average loss: 0.0000671628\n",
      "Starting testing\n"
     ]
    },
    {
     "name": "stderr",
     "output_type": "stream",
     "text": [
      "\n"
     ]
    },
    {
     "name": "stdout",
     "output_type": "stream",
     "text": [
      "Correct: 9500, total: 10000, accuracy: 0.9499999881, average loss: 0.0016384873\n"
     ]
    },
    {
     "name": "stderr",
     "output_type": "stream",
     "text": [
      "391it [00:50,  7.75it/s]"
     ]
    },
    {
     "name": "stdout",
     "output_type": "stream",
     "text": [
      "Epoch 406 finished, average loss: 0.0000716403\n",
      "Starting testing\n"
     ]
    },
    {
     "name": "stderr",
     "output_type": "stream",
     "text": [
      "\n"
     ]
    },
    {
     "name": "stdout",
     "output_type": "stream",
     "text": [
      "Correct: 9496, total: 10000, accuracy: 0.9495999813, average loss: 0.0016408263\n"
     ]
    },
    {
     "name": "stderr",
     "output_type": "stream",
     "text": [
      "391it [00:50,  7.79it/s]"
     ]
    },
    {
     "name": "stdout",
     "output_type": "stream",
     "text": [
      "Epoch 407 finished, average loss: 0.0000711065\n",
      "Starting testing\n"
     ]
    },
    {
     "name": "stderr",
     "output_type": "stream",
     "text": [
      "\n"
     ]
    },
    {
     "name": "stdout",
     "output_type": "stream",
     "text": [
      "Correct: 9496, total: 10000, accuracy: 0.9495999813, average loss: 0.0017492894\n"
     ]
    },
    {
     "name": "stderr",
     "output_type": "stream",
     "text": [
      "391it [00:50,  7.72it/s]"
     ]
    },
    {
     "name": "stdout",
     "output_type": "stream",
     "text": [
      "Epoch 408 finished, average loss: 0.0000646413\n",
      "Starting testing\n"
     ]
    },
    {
     "name": "stderr",
     "output_type": "stream",
     "text": [
      "\n"
     ]
    },
    {
     "name": "stdout",
     "output_type": "stream",
     "text": [
      "Correct: 9491, total: 10000, accuracy: 0.9490999579, average loss: 0.0016824749\n"
     ]
    },
    {
     "name": "stderr",
     "output_type": "stream",
     "text": [
      "391it [00:50,  7.67it/s]"
     ]
    },
    {
     "name": "stdout",
     "output_type": "stream",
     "text": [
      "Epoch 409 finished, average loss: 0.0000648603\n",
      "Starting testing\n"
     ]
    },
    {
     "name": "stderr",
     "output_type": "stream",
     "text": [
      "\n"
     ]
    },
    {
     "name": "stdout",
     "output_type": "stream",
     "text": [
      "Correct: 9510, total: 10000, accuracy: 0.9509999752, average loss: 0.0016753060\n"
     ]
    },
    {
     "name": "stderr",
     "output_type": "stream",
     "text": [
      "391it [00:50,  7.69it/s]"
     ]
    },
    {
     "name": "stdout",
     "output_type": "stream",
     "text": [
      "Epoch 410 finished, average loss: 0.0000650058\n",
      "Starting testing\n"
     ]
    },
    {
     "name": "stderr",
     "output_type": "stream",
     "text": [
      "\n"
     ]
    },
    {
     "name": "stdout",
     "output_type": "stream",
     "text": [
      "Correct: 9500, total: 10000, accuracy: 0.9499999881, average loss: 0.0017531629\n"
     ]
    },
    {
     "name": "stderr",
     "output_type": "stream",
     "text": [
      "391it [00:50,  7.77it/s]"
     ]
    },
    {
     "name": "stdout",
     "output_type": "stream",
     "text": [
      "Epoch 411 finished, average loss: 0.0000678051\n",
      "Starting testing\n"
     ]
    },
    {
     "name": "stderr",
     "output_type": "stream",
     "text": [
      "\n"
     ]
    },
    {
     "name": "stdout",
     "output_type": "stream",
     "text": [
      "Correct: 9492, total: 10000, accuracy: 0.9491999745, average loss: 0.0017480242\n"
     ]
    },
    {
     "name": "stderr",
     "output_type": "stream",
     "text": [
      "391it [00:52,  7.50it/s]"
     ]
    },
    {
     "name": "stdout",
     "output_type": "stream",
     "text": [
      "Epoch 412 finished, average loss: 0.0000652278\n",
      "Starting testing\n"
     ]
    },
    {
     "name": "stderr",
     "output_type": "stream",
     "text": [
      "\n"
     ]
    },
    {
     "name": "stdout",
     "output_type": "stream",
     "text": [
      "Correct: 9503, total: 10000, accuracy: 0.9502999783, average loss: 0.0016481327\n"
     ]
    },
    {
     "name": "stderr",
     "output_type": "stream",
     "text": [
      "391it [00:53,  7.25it/s]"
     ]
    },
    {
     "name": "stdout",
     "output_type": "stream",
     "text": [
      "Epoch 413 finished, average loss: 0.0000706044\n",
      "Starting testing\n"
     ]
    },
    {
     "name": "stderr",
     "output_type": "stream",
     "text": [
      "\n"
     ]
    },
    {
     "name": "stdout",
     "output_type": "stream",
     "text": [
      "Correct: 9494, total: 10000, accuracy: 0.9493999481, average loss: 0.0018151112\n"
     ]
    },
    {
     "name": "stderr",
     "output_type": "stream",
     "text": [
      "391it [00:56,  6.94it/s]"
     ]
    },
    {
     "name": "stdout",
     "output_type": "stream",
     "text": [
      "Epoch 414 finished, average loss: 0.0000650419\n",
      "Starting testing\n"
     ]
    },
    {
     "name": "stderr",
     "output_type": "stream",
     "text": [
      "\n"
     ]
    },
    {
     "name": "stdout",
     "output_type": "stream",
     "text": [
      "Correct: 9500, total: 10000, accuracy: 0.9499999881, average loss: 0.0017328249\n"
     ]
    },
    {
     "name": "stderr",
     "output_type": "stream",
     "text": [
      "391it [00:55,  7.07it/s]"
     ]
    },
    {
     "name": "stdout",
     "output_type": "stream",
     "text": [
      "Epoch 415 finished, average loss: 0.0000705162\n",
      "Starting testing\n"
     ]
    },
    {
     "name": "stderr",
     "output_type": "stream",
     "text": [
      "\n"
     ]
    },
    {
     "name": "stdout",
     "output_type": "stream",
     "text": [
      "Correct: 9491, total: 10000, accuracy: 0.9490999579, average loss: 0.0018355715\n"
     ]
    },
    {
     "name": "stderr",
     "output_type": "stream",
     "text": [
      "391it [00:54,  7.18it/s]"
     ]
    },
    {
     "name": "stdout",
     "output_type": "stream",
     "text": [
      "Epoch 416 finished, average loss: 0.0000655429\n",
      "Starting testing\n"
     ]
    },
    {
     "name": "stderr",
     "output_type": "stream",
     "text": [
      "\n"
     ]
    },
    {
     "name": "stdout",
     "output_type": "stream",
     "text": [
      "Correct: 9499, total: 10000, accuracy: 0.9498999715, average loss: 0.0017468266\n"
     ]
    },
    {
     "name": "stderr",
     "output_type": "stream",
     "text": [
      "391it [00:54,  7.20it/s]"
     ]
    },
    {
     "name": "stdout",
     "output_type": "stream",
     "text": [
      "Epoch 417 finished, average loss: 0.0000699326\n",
      "Starting testing\n"
     ]
    },
    {
     "name": "stderr",
     "output_type": "stream",
     "text": [
      "\n"
     ]
    },
    {
     "name": "stdout",
     "output_type": "stream",
     "text": [
      "Correct: 9507, total: 10000, accuracy: 0.9506999850, average loss: 0.0016078929\n"
     ]
    },
    {
     "name": "stderr",
     "output_type": "stream",
     "text": [
      "391it [00:49,  7.94it/s]"
     ]
    },
    {
     "name": "stdout",
     "output_type": "stream",
     "text": [
      "Epoch 418 finished, average loss: 0.0000700034\n",
      "Starting testing\n"
     ]
    },
    {
     "name": "stderr",
     "output_type": "stream",
     "text": [
      "\n"
     ]
    },
    {
     "name": "stdout",
     "output_type": "stream",
     "text": [
      "Correct: 9505, total: 10000, accuracy: 0.9504999518, average loss: 0.0016137135\n"
     ]
    },
    {
     "name": "stderr",
     "output_type": "stream",
     "text": [
      "391it [00:49,  7.89it/s]"
     ]
    },
    {
     "name": "stdout",
     "output_type": "stream",
     "text": [
      "Epoch 419 finished, average loss: 0.0000584389\n",
      "Starting testing\n"
     ]
    },
    {
     "name": "stderr",
     "output_type": "stream",
     "text": [
      "\n"
     ]
    },
    {
     "name": "stdout",
     "output_type": "stream",
     "text": [
      "Correct: 9501, total: 10000, accuracy: 0.9501000047, average loss: 0.0018100288\n"
     ]
    },
    {
     "name": "stderr",
     "output_type": "stream",
     "text": [
      "391it [00:49,  7.90it/s]"
     ]
    },
    {
     "name": "stdout",
     "output_type": "stream",
     "text": [
      "Epoch 420 finished, average loss: 0.0000664690\n",
      "Starting testing\n"
     ]
    },
    {
     "name": "stderr",
     "output_type": "stream",
     "text": [
      "\n"
     ]
    },
    {
     "name": "stdout",
     "output_type": "stream",
     "text": [
      "Correct: 9496, total: 10000, accuracy: 0.9495999813, average loss: 0.0017426073\n"
     ]
    },
    {
     "name": "stderr",
     "output_type": "stream",
     "text": [
      "391it [00:49,  7.95it/s]"
     ]
    },
    {
     "name": "stdout",
     "output_type": "stream",
     "text": [
      "Epoch 421 finished, average loss: 0.0000652040\n",
      "Starting testing\n"
     ]
    },
    {
     "name": "stderr",
     "output_type": "stream",
     "text": [
      "\n"
     ]
    },
    {
     "name": "stdout",
     "output_type": "stream",
     "text": [
      "Correct: 9507, total: 10000, accuracy: 0.9506999850, average loss: 0.0016012818\n"
     ]
    },
    {
     "name": "stderr",
     "output_type": "stream",
     "text": [
      "391it [00:49,  7.90it/s]"
     ]
    },
    {
     "name": "stdout",
     "output_type": "stream",
     "text": [
      "Epoch 422 finished, average loss: 0.0000621421\n",
      "Starting testing\n"
     ]
    },
    {
     "name": "stderr",
     "output_type": "stream",
     "text": [
      "\n"
     ]
    },
    {
     "name": "stdout",
     "output_type": "stream",
     "text": [
      "Correct: 9484, total: 10000, accuracy: 0.9483999610, average loss: 0.0017346369\n"
     ]
    },
    {
     "name": "stderr",
     "output_type": "stream",
     "text": [
      "391it [00:49,  7.89it/s]"
     ]
    },
    {
     "name": "stdout",
     "output_type": "stream",
     "text": [
      "Epoch 423 finished, average loss: 0.0000624687\n",
      "Starting testing\n"
     ]
    },
    {
     "name": "stderr",
     "output_type": "stream",
     "text": [
      "\n"
     ]
    },
    {
     "name": "stdout",
     "output_type": "stream",
     "text": [
      "Correct: 9497, total: 10000, accuracy: 0.9496999979, average loss: 0.0017522603\n"
     ]
    },
    {
     "name": "stderr",
     "output_type": "stream",
     "text": [
      "391it [00:49,  7.88it/s]"
     ]
    },
    {
     "name": "stdout",
     "output_type": "stream",
     "text": [
      "Epoch 424 finished, average loss: 0.0000619191\n",
      "Starting testing\n"
     ]
    },
    {
     "name": "stderr",
     "output_type": "stream",
     "text": [
      "\n"
     ]
    },
    {
     "name": "stdout",
     "output_type": "stream",
     "text": [
      "Correct: 9485, total: 10000, accuracy: 0.9484999776, average loss: 0.0018355281\n"
     ]
    },
    {
     "name": "stderr",
     "output_type": "stream",
     "text": [
      "391it [00:49,  7.92it/s]"
     ]
    },
    {
     "name": "stdout",
     "output_type": "stream",
     "text": [
      "Epoch 425 finished, average loss: 0.0000603605\n",
      "Starting testing\n"
     ]
    },
    {
     "name": "stderr",
     "output_type": "stream",
     "text": [
      "\n"
     ]
    },
    {
     "name": "stdout",
     "output_type": "stream",
     "text": [
      "Correct: 9504, total: 10000, accuracy: 0.9503999949, average loss: 0.0016511263\n"
     ]
    },
    {
     "name": "stderr",
     "output_type": "stream",
     "text": [
      "391it [00:49,  7.94it/s]"
     ]
    },
    {
     "name": "stdout",
     "output_type": "stream",
     "text": [
      "Epoch 426 finished, average loss: 0.0000648245\n",
      "Starting testing\n"
     ]
    },
    {
     "name": "stderr",
     "output_type": "stream",
     "text": [
      "\n"
     ]
    },
    {
     "name": "stdout",
     "output_type": "stream",
     "text": [
      "Correct: 9505, total: 10000, accuracy: 0.9504999518, average loss: 0.0017052355\n"
     ]
    },
    {
     "name": "stderr",
     "output_type": "stream",
     "text": [
      "391it [00:49,  7.87it/s]"
     ]
    },
    {
     "name": "stdout",
     "output_type": "stream",
     "text": [
      "Epoch 427 finished, average loss: 0.0000554017\n",
      "Starting testing\n"
     ]
    },
    {
     "name": "stderr",
     "output_type": "stream",
     "text": [
      "\n"
     ]
    },
    {
     "name": "stdout",
     "output_type": "stream",
     "text": [
      "Correct: 9491, total: 10000, accuracy: 0.9490999579, average loss: 0.0017688916\n"
     ]
    },
    {
     "name": "stderr",
     "output_type": "stream",
     "text": [
      "391it [00:49,  7.87it/s]"
     ]
    },
    {
     "name": "stdout",
     "output_type": "stream",
     "text": [
      "Epoch 428 finished, average loss: 0.0000564973\n",
      "Starting testing\n"
     ]
    },
    {
     "name": "stderr",
     "output_type": "stream",
     "text": [
      "\n"
     ]
    },
    {
     "name": "stdout",
     "output_type": "stream",
     "text": [
      "Correct: 9503, total: 10000, accuracy: 0.9502999783, average loss: 0.0016782985\n"
     ]
    },
    {
     "name": "stderr",
     "output_type": "stream",
     "text": [
      "391it [00:49,  7.86it/s]"
     ]
    },
    {
     "name": "stdout",
     "output_type": "stream",
     "text": [
      "Epoch 429 finished, average loss: 0.0000595721\n",
      "Starting testing\n"
     ]
    },
    {
     "name": "stderr",
     "output_type": "stream",
     "text": [
      "\n"
     ]
    },
    {
     "name": "stdout",
     "output_type": "stream",
     "text": [
      "Correct: 9510, total: 10000, accuracy: 0.9509999752, average loss: 0.0017251031\n"
     ]
    },
    {
     "name": "stderr",
     "output_type": "stream",
     "text": [
      "391it [00:49,  7.86it/s]"
     ]
    },
    {
     "name": "stdout",
     "output_type": "stream",
     "text": [
      "Epoch 430 finished, average loss: 0.0000597138\n",
      "Starting testing\n"
     ]
    },
    {
     "name": "stderr",
     "output_type": "stream",
     "text": [
      "\n"
     ]
    },
    {
     "name": "stdout",
     "output_type": "stream",
     "text": [
      "Correct: 9505, total: 10000, accuracy: 0.9504999518, average loss: 0.0017823482\n"
     ]
    },
    {
     "name": "stderr",
     "output_type": "stream",
     "text": [
      "391it [00:49,  7.88it/s]"
     ]
    },
    {
     "name": "stdout",
     "output_type": "stream",
     "text": [
      "Epoch 431 finished, average loss: 0.0000582339\n",
      "Starting testing\n"
     ]
    },
    {
     "name": "stderr",
     "output_type": "stream",
     "text": [
      "\n"
     ]
    },
    {
     "name": "stdout",
     "output_type": "stream",
     "text": [
      "Correct: 9508, total: 10000, accuracy: 0.9508000016, average loss: 0.0016661318\n"
     ]
    },
    {
     "name": "stderr",
     "output_type": "stream",
     "text": [
      "391it [00:49,  7.86it/s]"
     ]
    },
    {
     "name": "stdout",
     "output_type": "stream",
     "text": [
      "Epoch 432 finished, average loss: 0.0000608044\n",
      "Starting testing\n"
     ]
    },
    {
     "name": "stderr",
     "output_type": "stream",
     "text": [
      "\n"
     ]
    },
    {
     "name": "stdout",
     "output_type": "stream",
     "text": [
      "Correct: 9504, total: 10000, accuracy: 0.9503999949, average loss: 0.0018046825\n"
     ]
    },
    {
     "name": "stderr",
     "output_type": "stream",
     "text": [
      "391it [00:49,  7.87it/s]"
     ]
    },
    {
     "name": "stdout",
     "output_type": "stream",
     "text": [
      "Epoch 433 finished, average loss: 0.0000565930\n",
      "Starting testing\n"
     ]
    },
    {
     "name": "stderr",
     "output_type": "stream",
     "text": [
      "\n"
     ]
    },
    {
     "name": "stdout",
     "output_type": "stream",
     "text": [
      "Correct: 9501, total: 10000, accuracy: 0.9501000047, average loss: 0.0017347333\n"
     ]
    },
    {
     "name": "stderr",
     "output_type": "stream",
     "text": [
      "391it [00:49,  7.85it/s]"
     ]
    },
    {
     "name": "stdout",
     "output_type": "stream",
     "text": [
      "Epoch 434 finished, average loss: 0.0000593632\n",
      "Starting testing\n"
     ]
    },
    {
     "name": "stderr",
     "output_type": "stream",
     "text": [
      "\n"
     ]
    },
    {
     "name": "stdout",
     "output_type": "stream",
     "text": [
      "Correct: 9517, total: 10000, accuracy: 0.9516999722, average loss: 0.0017508287\n"
     ]
    },
    {
     "name": "stderr",
     "output_type": "stream",
     "text": [
      "391it [00:49,  7.84it/s]"
     ]
    },
    {
     "name": "stdout",
     "output_type": "stream",
     "text": [
      "Epoch 435 finished, average loss: 0.0000611447\n",
      "Starting testing\n"
     ]
    },
    {
     "name": "stderr",
     "output_type": "stream",
     "text": [
      "\n"
     ]
    },
    {
     "name": "stdout",
     "output_type": "stream",
     "text": [
      "Correct: 9505, total: 10000, accuracy: 0.9504999518, average loss: 0.0017441715\n"
     ]
    },
    {
     "name": "stderr",
     "output_type": "stream",
     "text": [
      "391it [00:49,  7.84it/s]"
     ]
    },
    {
     "name": "stdout",
     "output_type": "stream",
     "text": [
      "Epoch 436 finished, average loss: 0.0000622909\n",
      "Starting testing\n"
     ]
    },
    {
     "name": "stderr",
     "output_type": "stream",
     "text": [
      "\n"
     ]
    },
    {
     "name": "stdout",
     "output_type": "stream",
     "text": [
      "Correct: 9495, total: 10000, accuracy: 0.9494999647, average loss: 0.0017663366\n"
     ]
    },
    {
     "name": "stderr",
     "output_type": "stream",
     "text": [
      "391it [00:49,  7.83it/s]"
     ]
    },
    {
     "name": "stdout",
     "output_type": "stream",
     "text": [
      "Epoch 437 finished, average loss: 0.0000562493\n",
      "Starting testing\n"
     ]
    },
    {
     "name": "stderr",
     "output_type": "stream",
     "text": [
      "\n"
     ]
    },
    {
     "name": "stdout",
     "output_type": "stream",
     "text": [
      "Correct: 9512, total: 10000, accuracy: 0.9511999488, average loss: 0.0016693926\n"
     ]
    },
    {
     "name": "stderr",
     "output_type": "stream",
     "text": [
      "391it [00:49,  7.83it/s]"
     ]
    },
    {
     "name": "stdout",
     "output_type": "stream",
     "text": [
      "Epoch 438 finished, average loss: 0.0000581035\n",
      "Starting testing\n"
     ]
    },
    {
     "name": "stderr",
     "output_type": "stream",
     "text": [
      "\n"
     ]
    },
    {
     "name": "stdout",
     "output_type": "stream",
     "text": [
      "Correct: 9506, total: 10000, accuracy: 0.9505999684, average loss: 0.0017653232\n"
     ]
    },
    {
     "name": "stderr",
     "output_type": "stream",
     "text": [
      "391it [00:49,  7.86it/s]"
     ]
    },
    {
     "name": "stdout",
     "output_type": "stream",
     "text": [
      "Epoch 439 finished, average loss: 0.0000602130\n",
      "Starting testing\n"
     ]
    },
    {
     "name": "stderr",
     "output_type": "stream",
     "text": [
      "\n"
     ]
    },
    {
     "name": "stdout",
     "output_type": "stream",
     "text": [
      "Correct: 9484, total: 10000, accuracy: 0.9483999610, average loss: 0.0018470366\n"
     ]
    },
    {
     "name": "stderr",
     "output_type": "stream",
     "text": [
      "391it [00:49,  7.85it/s]"
     ]
    },
    {
     "name": "stdout",
     "output_type": "stream",
     "text": [
      "Epoch 440 finished, average loss: 0.0000549329\n",
      "Starting testing\n"
     ]
    },
    {
     "name": "stderr",
     "output_type": "stream",
     "text": [
      "\n"
     ]
    },
    {
     "name": "stdout",
     "output_type": "stream",
     "text": [
      "Correct: 9513, total: 10000, accuracy: 0.9512999654, average loss: 0.0016810763\n"
     ]
    },
    {
     "name": "stderr",
     "output_type": "stream",
     "text": [
      "391it [00:49,  7.83it/s]"
     ]
    },
    {
     "name": "stdout",
     "output_type": "stream",
     "text": [
      "Epoch 441 finished, average loss: 0.0000570672\n",
      "Starting testing\n"
     ]
    },
    {
     "name": "stderr",
     "output_type": "stream",
     "text": [
      "\n"
     ]
    },
    {
     "name": "stdout",
     "output_type": "stream",
     "text": [
      "Correct: 9501, total: 10000, accuracy: 0.9501000047, average loss: 0.0018215885\n"
     ]
    },
    {
     "name": "stderr",
     "output_type": "stream",
     "text": [
      "391it [00:49,  7.85it/s]"
     ]
    },
    {
     "name": "stdout",
     "output_type": "stream",
     "text": [
      "Epoch 442 finished, average loss: 0.0000545896\n",
      "Starting testing\n"
     ]
    },
    {
     "name": "stderr",
     "output_type": "stream",
     "text": [
      "\n"
     ]
    },
    {
     "name": "stdout",
     "output_type": "stream",
     "text": [
      "Correct: 9510, total: 10000, accuracy: 0.9509999752, average loss: 0.0018424684\n"
     ]
    },
    {
     "name": "stderr",
     "output_type": "stream",
     "text": [
      "391it [00:49,  7.84it/s]"
     ]
    },
    {
     "name": "stdout",
     "output_type": "stream",
     "text": [
      "Epoch 443 finished, average loss: 0.0000580591\n",
      "Starting testing\n"
     ]
    },
    {
     "name": "stderr",
     "output_type": "stream",
     "text": [
      "\n"
     ]
    },
    {
     "name": "stdout",
     "output_type": "stream",
     "text": [
      "Correct: 9515, total: 10000, accuracy: 0.9514999986, average loss: 0.0017447891\n"
     ]
    },
    {
     "name": "stderr",
     "output_type": "stream",
     "text": [
      "391it [00:49,  7.87it/s]"
     ]
    },
    {
     "name": "stdout",
     "output_type": "stream",
     "text": [
      "Epoch 444 finished, average loss: 0.0000601960\n",
      "Starting testing\n"
     ]
    },
    {
     "name": "stderr",
     "output_type": "stream",
     "text": [
      "\n"
     ]
    },
    {
     "name": "stdout",
     "output_type": "stream",
     "text": [
      "Correct: 9512, total: 10000, accuracy: 0.9511999488, average loss: 0.0017149166\n"
     ]
    },
    {
     "name": "stderr",
     "output_type": "stream",
     "text": [
      "391it [00:49,  7.86it/s]"
     ]
    },
    {
     "name": "stdout",
     "output_type": "stream",
     "text": [
      "Epoch 445 finished, average loss: 0.0000582798\n",
      "Starting testing\n"
     ]
    },
    {
     "name": "stderr",
     "output_type": "stream",
     "text": [
      "\n"
     ]
    },
    {
     "name": "stdout",
     "output_type": "stream",
     "text": [
      "Correct: 9502, total: 10000, accuracy: 0.9501999617, average loss: 0.0016922122\n"
     ]
    },
    {
     "name": "stderr",
     "output_type": "stream",
     "text": [
      "391it [00:49,  7.89it/s]"
     ]
    },
    {
     "name": "stdout",
     "output_type": "stream",
     "text": [
      "Epoch 446 finished, average loss: 0.0000604773\n",
      "Starting testing\n"
     ]
    },
    {
     "name": "stderr",
     "output_type": "stream",
     "text": [
      "\n"
     ]
    },
    {
     "name": "stdout",
     "output_type": "stream",
     "text": [
      "Correct: 9496, total: 10000, accuracy: 0.9495999813, average loss: 0.0016797643\n"
     ]
    },
    {
     "name": "stderr",
     "output_type": "stream",
     "text": [
      "391it [00:49,  7.84it/s]"
     ]
    },
    {
     "name": "stdout",
     "output_type": "stream",
     "text": [
      "Epoch 447 finished, average loss: 0.0000592663\n",
      "Starting testing\n"
     ]
    },
    {
     "name": "stderr",
     "output_type": "stream",
     "text": [
      "\n"
     ]
    },
    {
     "name": "stdout",
     "output_type": "stream",
     "text": [
      "Correct: 9505, total: 10000, accuracy: 0.9504999518, average loss: 0.0016362405\n"
     ]
    },
    {
     "name": "stderr",
     "output_type": "stream",
     "text": [
      "391it [00:49,  7.88it/s]"
     ]
    },
    {
     "name": "stdout",
     "output_type": "stream",
     "text": [
      "Epoch 448 finished, average loss: 0.0000644224\n",
      "Starting testing\n"
     ]
    },
    {
     "name": "stderr",
     "output_type": "stream",
     "text": [
      "\n"
     ]
    },
    {
     "name": "stdout",
     "output_type": "stream",
     "text": [
      "Correct: 9511, total: 10000, accuracy: 0.9510999918, average loss: 0.0017604232\n"
     ]
    },
    {
     "name": "stderr",
     "output_type": "stream",
     "text": [
      "391it [00:49,  7.87it/s]"
     ]
    },
    {
     "name": "stdout",
     "output_type": "stream",
     "text": [
      "Epoch 449 finished, average loss: 0.0000563721\n",
      "Starting testing\n"
     ]
    },
    {
     "name": "stderr",
     "output_type": "stream",
     "text": [
      "\n"
     ]
    },
    {
     "name": "stdout",
     "output_type": "stream",
     "text": [
      "Correct: 9505, total: 10000, accuracy: 0.9504999518, average loss: 0.0017839237\n"
     ]
    },
    {
     "name": "stderr",
     "output_type": "stream",
     "text": [
      "391it [00:49,  7.90it/s]"
     ]
    },
    {
     "name": "stdout",
     "output_type": "stream",
     "text": [
      "Epoch 450 finished, average loss: 0.0000583755\n",
      "Starting testing\n"
     ]
    },
    {
     "name": "stderr",
     "output_type": "stream",
     "text": [
      "\n"
     ]
    },
    {
     "name": "stdout",
     "output_type": "stream",
     "text": [
      "Correct: 9512, total: 10000, accuracy: 0.9511999488, average loss: 0.0017104123\n"
     ]
    },
    {
     "name": "stderr",
     "output_type": "stream",
     "text": [
      "391it [00:49,  7.93it/s]"
     ]
    },
    {
     "name": "stdout",
     "output_type": "stream",
     "text": [
      "Epoch 451 finished, average loss: 0.0000589404\n",
      "Starting testing\n"
     ]
    },
    {
     "name": "stderr",
     "output_type": "stream",
     "text": [
      "\n"
     ]
    },
    {
     "name": "stdout",
     "output_type": "stream",
     "text": [
      "Correct: 9500, total: 10000, accuracy: 0.9499999881, average loss: 0.0016678229\n"
     ]
    },
    {
     "name": "stderr",
     "output_type": "stream",
     "text": [
      "391it [00:49,  7.92it/s]"
     ]
    },
    {
     "name": "stdout",
     "output_type": "stream",
     "text": [
      "Epoch 452 finished, average loss: 0.0000581125\n",
      "Starting testing\n"
     ]
    },
    {
     "name": "stderr",
     "output_type": "stream",
     "text": [
      "\n"
     ]
    },
    {
     "name": "stdout",
     "output_type": "stream",
     "text": [
      "Correct: 9511, total: 10000, accuracy: 0.9510999918, average loss: 0.0017096212\n"
     ]
    },
    {
     "name": "stderr",
     "output_type": "stream",
     "text": [
      "391it [00:49,  7.89it/s]"
     ]
    },
    {
     "name": "stdout",
     "output_type": "stream",
     "text": [
      "Epoch 453 finished, average loss: 0.0000567650\n",
      "Starting testing\n"
     ]
    },
    {
     "name": "stderr",
     "output_type": "stream",
     "text": [
      "\n"
     ]
    },
    {
     "name": "stdout",
     "output_type": "stream",
     "text": [
      "Correct: 9502, total: 10000, accuracy: 0.9501999617, average loss: 0.0019139384\n"
     ]
    },
    {
     "name": "stderr",
     "output_type": "stream",
     "text": [
      "391it [00:49,  7.90it/s]"
     ]
    },
    {
     "name": "stdout",
     "output_type": "stream",
     "text": [
      "Epoch 454 finished, average loss: 0.0000561939\n",
      "Starting testing\n"
     ]
    },
    {
     "name": "stderr",
     "output_type": "stream",
     "text": [
      "\n"
     ]
    },
    {
     "name": "stdout",
     "output_type": "stream",
     "text": [
      "Correct: 9490, total: 10000, accuracy: 0.9490000010, average loss: 0.0017863158\n"
     ]
    },
    {
     "name": "stderr",
     "output_type": "stream",
     "text": [
      "391it [00:51,  7.59it/s]"
     ]
    },
    {
     "name": "stdout",
     "output_type": "stream",
     "text": [
      "Epoch 455 finished, average loss: 0.0000493201\n",
      "Starting testing\n"
     ]
    },
    {
     "name": "stderr",
     "output_type": "stream",
     "text": [
      "\n"
     ]
    },
    {
     "name": "stdout",
     "output_type": "stream",
     "text": [
      "Correct: 9485, total: 10000, accuracy: 0.9484999776, average loss: 0.0016974650\n"
     ]
    },
    {
     "name": "stderr",
     "output_type": "stream",
     "text": [
      "391it [00:52,  7.50it/s]"
     ]
    },
    {
     "name": "stdout",
     "output_type": "stream",
     "text": [
      "Epoch 456 finished, average loss: 0.0000503402\n",
      "Starting testing\n"
     ]
    },
    {
     "name": "stderr",
     "output_type": "stream",
     "text": [
      "\n"
     ]
    },
    {
     "name": "stdout",
     "output_type": "stream",
     "text": [
      "Correct: 9505, total: 10000, accuracy: 0.9504999518, average loss: 0.0018446062\n"
     ]
    },
    {
     "name": "stderr",
     "output_type": "stream",
     "text": [
      "391it [00:51,  7.56it/s]"
     ]
    },
    {
     "name": "stdout",
     "output_type": "stream",
     "text": [
      "Epoch 457 finished, average loss: 0.0000582119\n",
      "Starting testing\n"
     ]
    },
    {
     "name": "stderr",
     "output_type": "stream",
     "text": [
      "\n"
     ]
    },
    {
     "name": "stdout",
     "output_type": "stream",
     "text": [
      "Correct: 9515, total: 10000, accuracy: 0.9514999986, average loss: 0.0018603262\n"
     ]
    },
    {
     "name": "stderr",
     "output_type": "stream",
     "text": [
      "391it [00:51,  7.54it/s]"
     ]
    },
    {
     "name": "stdout",
     "output_type": "stream",
     "text": [
      "Epoch 458 finished, average loss: 0.0000572541\n",
      "Starting testing\n"
     ]
    },
    {
     "name": "stderr",
     "output_type": "stream",
     "text": [
      "\n"
     ]
    },
    {
     "name": "stdout",
     "output_type": "stream",
     "text": [
      "Correct: 9509, total: 10000, accuracy: 0.9508999586, average loss: 0.0017698685\n"
     ]
    },
    {
     "name": "stderr",
     "output_type": "stream",
     "text": [
      "391it [00:51,  7.55it/s]"
     ]
    },
    {
     "name": "stdout",
     "output_type": "stream",
     "text": [
      "Epoch 459 finished, average loss: 0.0000551597\n",
      "Starting testing\n"
     ]
    },
    {
     "name": "stderr",
     "output_type": "stream",
     "text": [
      "\n"
     ]
    },
    {
     "name": "stdout",
     "output_type": "stream",
     "text": [
      "Correct: 9515, total: 10000, accuracy: 0.9514999986, average loss: 0.0018446762\n"
     ]
    },
    {
     "name": "stderr",
     "output_type": "stream",
     "text": [
      "391it [00:51,  7.60it/s]"
     ]
    },
    {
     "name": "stdout",
     "output_type": "stream",
     "text": [
      "Epoch 460 finished, average loss: 0.0000533182\n",
      "Starting testing\n"
     ]
    },
    {
     "name": "stderr",
     "output_type": "stream",
     "text": [
      "\n"
     ]
    },
    {
     "name": "stdout",
     "output_type": "stream",
     "text": [
      "Correct: 9516, total: 10000, accuracy: 0.9515999556, average loss: 0.0017174081\n"
     ]
    },
    {
     "name": "stderr",
     "output_type": "stream",
     "text": [
      "391it [00:51,  7.57it/s]"
     ]
    },
    {
     "name": "stdout",
     "output_type": "stream",
     "text": [
      "Epoch 461 finished, average loss: 0.0000542303\n",
      "Starting testing\n"
     ]
    },
    {
     "name": "stderr",
     "output_type": "stream",
     "text": [
      "\n"
     ]
    },
    {
     "name": "stdout",
     "output_type": "stream",
     "text": [
      "Correct: 9512, total: 10000, accuracy: 0.9511999488, average loss: 0.0017207513\n"
     ]
    },
    {
     "name": "stderr",
     "output_type": "stream",
     "text": [
      "391it [00:51,  7.58it/s]"
     ]
    },
    {
     "name": "stdout",
     "output_type": "stream",
     "text": [
      "Epoch 462 finished, average loss: 0.0000502933\n",
      "Starting testing\n"
     ]
    },
    {
     "name": "stderr",
     "output_type": "stream",
     "text": [
      "\n"
     ]
    },
    {
     "name": "stdout",
     "output_type": "stream",
     "text": [
      "Correct: 9497, total: 10000, accuracy: 0.9496999979, average loss: 0.0018991832\n"
     ]
    },
    {
     "name": "stderr",
     "output_type": "stream",
     "text": [
      "391it [00:51,  7.59it/s]"
     ]
    },
    {
     "name": "stdout",
     "output_type": "stream",
     "text": [
      "Epoch 463 finished, average loss: 0.0000512771\n",
      "Starting testing\n"
     ]
    },
    {
     "name": "stderr",
     "output_type": "stream",
     "text": [
      "\n"
     ]
    },
    {
     "name": "stdout",
     "output_type": "stream",
     "text": [
      "Correct: 9515, total: 10000, accuracy: 0.9514999986, average loss: 0.0017093207\n"
     ]
    },
    {
     "name": "stderr",
     "output_type": "stream",
     "text": [
      "391it [00:51,  7.56it/s]"
     ]
    },
    {
     "name": "stdout",
     "output_type": "stream",
     "text": [
      "Epoch 464 finished, average loss: 0.0000462603\n",
      "Starting testing\n"
     ]
    },
    {
     "name": "stderr",
     "output_type": "stream",
     "text": [
      "\n"
     ]
    },
    {
     "name": "stdout",
     "output_type": "stream",
     "text": [
      "Correct: 9510, total: 10000, accuracy: 0.9509999752, average loss: 0.0017666139\n"
     ]
    },
    {
     "name": "stderr",
     "output_type": "stream",
     "text": [
      "391it [00:51,  7.57it/s]"
     ]
    },
    {
     "name": "stdout",
     "output_type": "stream",
     "text": [
      "Epoch 465 finished, average loss: 0.0000496590\n",
      "Starting testing\n"
     ]
    },
    {
     "name": "stderr",
     "output_type": "stream",
     "text": [
      "\n"
     ]
    },
    {
     "name": "stdout",
     "output_type": "stream",
     "text": [
      "Correct: 9496, total: 10000, accuracy: 0.9495999813, average loss: 0.0018258111\n"
     ]
    },
    {
     "name": "stderr",
     "output_type": "stream",
     "text": [
      "391it [00:51,  7.62it/s]"
     ]
    },
    {
     "name": "stdout",
     "output_type": "stream",
     "text": [
      "Epoch 466 finished, average loss: 0.0000531410\n",
      "Starting testing\n"
     ]
    },
    {
     "name": "stderr",
     "output_type": "stream",
     "text": [
      "\n"
     ]
    },
    {
     "name": "stdout",
     "output_type": "stream",
     "text": [
      "Correct: 9502, total: 10000, accuracy: 0.9501999617, average loss: 0.0018313113\n"
     ]
    },
    {
     "name": "stderr",
     "output_type": "stream",
     "text": [
      "391it [00:51,  7.55it/s]"
     ]
    },
    {
     "name": "stdout",
     "output_type": "stream",
     "text": [
      "Epoch 467 finished, average loss: 0.0000550929\n",
      "Starting testing\n"
     ]
    },
    {
     "name": "stderr",
     "output_type": "stream",
     "text": [
      "\n"
     ]
    },
    {
     "name": "stdout",
     "output_type": "stream",
     "text": [
      "Correct: 9501, total: 10000, accuracy: 0.9501000047, average loss: 0.0017370222\n"
     ]
    },
    {
     "name": "stderr",
     "output_type": "stream",
     "text": [
      "391it [00:51,  7.58it/s]"
     ]
    },
    {
     "name": "stdout",
     "output_type": "stream",
     "text": [
      "Epoch 468 finished, average loss: 0.0000533169\n",
      "Starting testing\n"
     ]
    },
    {
     "name": "stderr",
     "output_type": "stream",
     "text": [
      "\n"
     ]
    },
    {
     "name": "stdout",
     "output_type": "stream",
     "text": [
      "Correct: 9502, total: 10000, accuracy: 0.9501999617, average loss: 0.0018105929\n"
     ]
    },
    {
     "name": "stderr",
     "output_type": "stream",
     "text": [
      "391it [00:51,  7.60it/s]"
     ]
    },
    {
     "name": "stdout",
     "output_type": "stream",
     "text": [
      "Epoch 469 finished, average loss: 0.0000546693\n",
      "Starting testing\n"
     ]
    },
    {
     "name": "stderr",
     "output_type": "stream",
     "text": [
      "\n"
     ]
    },
    {
     "name": "stdout",
     "output_type": "stream",
     "text": [
      "Correct: 9503, total: 10000, accuracy: 0.9502999783, average loss: 0.0018151058\n"
     ]
    },
    {
     "name": "stderr",
     "output_type": "stream",
     "text": [
      "391it [00:51,  7.56it/s]"
     ]
    },
    {
     "name": "stdout",
     "output_type": "stream",
     "text": [
      "Epoch 470 finished, average loss: 0.0000542041\n",
      "Starting testing\n"
     ]
    },
    {
     "name": "stderr",
     "output_type": "stream",
     "text": [
      "\n"
     ]
    },
    {
     "name": "stdout",
     "output_type": "stream",
     "text": [
      "Correct: 9507, total: 10000, accuracy: 0.9506999850, average loss: 0.0017105647\n"
     ]
    },
    {
     "name": "stderr",
     "output_type": "stream",
     "text": [
      "391it [00:51,  7.54it/s]"
     ]
    },
    {
     "name": "stdout",
     "output_type": "stream",
     "text": [
      "Epoch 471 finished, average loss: 0.0000490686\n",
      "Starting testing\n"
     ]
    },
    {
     "name": "stderr",
     "output_type": "stream",
     "text": [
      "\n"
     ]
    },
    {
     "name": "stdout",
     "output_type": "stream",
     "text": [
      "Correct: 9513, total: 10000, accuracy: 0.9512999654, average loss: 0.0017112465\n"
     ]
    },
    {
     "name": "stderr",
     "output_type": "stream",
     "text": [
      "391it [00:51,  7.56it/s]"
     ]
    },
    {
     "name": "stdout",
     "output_type": "stream",
     "text": [
      "Epoch 472 finished, average loss: 0.0000497225\n",
      "Starting testing\n"
     ]
    },
    {
     "name": "stderr",
     "output_type": "stream",
     "text": [
      "\n"
     ]
    },
    {
     "name": "stdout",
     "output_type": "stream",
     "text": [
      "Correct: 9498, total: 10000, accuracy: 0.9497999549, average loss: 0.0017832270\n"
     ]
    },
    {
     "name": "stderr",
     "output_type": "stream",
     "text": [
      "391it [00:51,  7.57it/s]"
     ]
    },
    {
     "name": "stdout",
     "output_type": "stream",
     "text": [
      "Epoch 473 finished, average loss: 0.0000534398\n",
      "Starting testing\n"
     ]
    },
    {
     "name": "stderr",
     "output_type": "stream",
     "text": [
      "\n"
     ]
    },
    {
     "name": "stdout",
     "output_type": "stream",
     "text": [
      "Correct: 9509, total: 10000, accuracy: 0.9508999586, average loss: 0.0018033116\n"
     ]
    },
    {
     "name": "stderr",
     "output_type": "stream",
     "text": [
      "391it [00:51,  7.52it/s]"
     ]
    },
    {
     "name": "stdout",
     "output_type": "stream",
     "text": [
      "Epoch 474 finished, average loss: 0.0000555681\n",
      "Starting testing\n"
     ]
    },
    {
     "name": "stderr",
     "output_type": "stream",
     "text": [
      "\n"
     ]
    },
    {
     "name": "stdout",
     "output_type": "stream",
     "text": [
      "Correct: 9516, total: 10000, accuracy: 0.9515999556, average loss: 0.0017224637\n"
     ]
    },
    {
     "name": "stderr",
     "output_type": "stream",
     "text": [
      "391it [00:51,  7.56it/s]"
     ]
    },
    {
     "name": "stdout",
     "output_type": "stream",
     "text": [
      "Epoch 475 finished, average loss: 0.0000486166\n",
      "Starting testing\n"
     ]
    },
    {
     "name": "stderr",
     "output_type": "stream",
     "text": [
      "\n"
     ]
    },
    {
     "name": "stdout",
     "output_type": "stream",
     "text": [
      "Correct: 9520, total: 10000, accuracy: 0.9519999623, average loss: 0.0017075242\n"
     ]
    },
    {
     "name": "stderr",
     "output_type": "stream",
     "text": [
      "391it [00:52,  7.50it/s]"
     ]
    },
    {
     "name": "stdout",
     "output_type": "stream",
     "text": [
      "Epoch 476 finished, average loss: 0.0000471151\n",
      "Starting testing\n"
     ]
    },
    {
     "name": "stderr",
     "output_type": "stream",
     "text": [
      "\n"
     ]
    },
    {
     "name": "stdout",
     "output_type": "stream",
     "text": [
      "Correct: 9512, total: 10000, accuracy: 0.9511999488, average loss: 0.0017425295\n"
     ]
    },
    {
     "name": "stderr",
     "output_type": "stream",
     "text": [
      "391it [00:51,  7.53it/s]"
     ]
    },
    {
     "name": "stdout",
     "output_type": "stream",
     "text": [
      "Epoch 477 finished, average loss: 0.0000478534\n",
      "Starting testing\n"
     ]
    },
    {
     "name": "stderr",
     "output_type": "stream",
     "text": [
      "\n"
     ]
    },
    {
     "name": "stdout",
     "output_type": "stream",
     "text": [
      "Correct: 9507, total: 10000, accuracy: 0.9506999850, average loss: 0.0017371887\n"
     ]
    },
    {
     "name": "stderr",
     "output_type": "stream",
     "text": [
      "391it [00:51,  7.57it/s]"
     ]
    },
    {
     "name": "stdout",
     "output_type": "stream",
     "text": [
      "Epoch 478 finished, average loss: 0.0000525257\n",
      "Starting testing\n"
     ]
    },
    {
     "name": "stderr",
     "output_type": "stream",
     "text": [
      "\n"
     ]
    },
    {
     "name": "stdout",
     "output_type": "stream",
     "text": [
      "Correct: 9507, total: 10000, accuracy: 0.9506999850, average loss: 0.0017317178\n"
     ]
    },
    {
     "name": "stderr",
     "output_type": "stream",
     "text": [
      "391it [00:51,  7.53it/s]\n"
     ]
    },
    {
     "name": "stdout",
     "output_type": "stream",
     "text": [
      "Epoch 479 finished, average loss: 0.0000519357\n",
      "Starting testing\n",
      "Correct: 9503, total: 10000, accuracy: 0.9502999783, average loss: 0.0018042132\n"
     ]
    },
    {
     "name": "stderr",
     "output_type": "stream",
     "text": [
      "391it [00:51,  7.55it/s]"
     ]
    },
    {
     "name": "stdout",
     "output_type": "stream",
     "text": [
      "Epoch 480 finished, average loss: 0.0000658506\n",
      "Starting testing\n"
     ]
    },
    {
     "name": "stderr",
     "output_type": "stream",
     "text": [
      "\n"
     ]
    },
    {
     "name": "stdout",
     "output_type": "stream",
     "text": [
      "Correct: 9513, total: 10000, accuracy: 0.9512999654, average loss: 0.0017556027\n"
     ]
    },
    {
     "name": "stderr",
     "output_type": "stream",
     "text": [
      "391it [00:51,  7.53it/s]\n"
     ]
    },
    {
     "name": "stdout",
     "output_type": "stream",
     "text": [
      "Epoch 481 finished, average loss: 0.0000448765\n",
      "Starting testing\n",
      "Correct: 9504, total: 10000, accuracy: 0.9503999949, average loss: 0.0018012476\n"
     ]
    },
    {
     "name": "stderr",
     "output_type": "stream",
     "text": [
      "391it [00:52,  7.51it/s]"
     ]
    },
    {
     "name": "stdout",
     "output_type": "stream",
     "text": [
      "Epoch 482 finished, average loss: 0.0000531598\n",
      "Starting testing\n"
     ]
    },
    {
     "name": "stderr",
     "output_type": "stream",
     "text": [
      "\n"
     ]
    },
    {
     "name": "stdout",
     "output_type": "stream",
     "text": [
      "Correct: 9511, total: 10000, accuracy: 0.9510999918, average loss: 0.0017698733\n"
     ]
    },
    {
     "name": "stderr",
     "output_type": "stream",
     "text": [
      "391it [00:51,  7.56it/s]"
     ]
    },
    {
     "name": "stdout",
     "output_type": "stream",
     "text": [
      "Epoch 483 finished, average loss: 0.0000484532\n",
      "Starting testing\n"
     ]
    },
    {
     "name": "stderr",
     "output_type": "stream",
     "text": [
      "\n"
     ]
    },
    {
     "name": "stdout",
     "output_type": "stream",
     "text": [
      "Correct: 9503, total: 10000, accuracy: 0.9502999783, average loss: 0.0017525990\n"
     ]
    },
    {
     "name": "stderr",
     "output_type": "stream",
     "text": [
      "391it [00:51,  7.55it/s]"
     ]
    },
    {
     "name": "stdout",
     "output_type": "stream",
     "text": [
      "Epoch 484 finished, average loss: 0.0000508091\n",
      "Starting testing\n"
     ]
    },
    {
     "name": "stderr",
     "output_type": "stream",
     "text": [
      "\n"
     ]
    },
    {
     "name": "stdout",
     "output_type": "stream",
     "text": [
      "Correct: 9490, total: 10000, accuracy: 0.9490000010, average loss: 0.0018207687\n"
     ]
    },
    {
     "name": "stderr",
     "output_type": "stream",
     "text": [
      "391it [00:51,  7.55it/s]"
     ]
    },
    {
     "name": "stdout",
     "output_type": "stream",
     "text": [
      "Epoch 485 finished, average loss: 0.0000525317\n",
      "Starting testing\n"
     ]
    },
    {
     "name": "stderr",
     "output_type": "stream",
     "text": [
      "\n"
     ]
    },
    {
     "name": "stdout",
     "output_type": "stream",
     "text": [
      "Correct: 9481, total: 10000, accuracy: 0.9480999708, average loss: 0.0017744516\n"
     ]
    },
    {
     "name": "stderr",
     "output_type": "stream",
     "text": [
      "391it [00:52,  7.52it/s]"
     ]
    },
    {
     "name": "stdout",
     "output_type": "stream",
     "text": [
      "Epoch 486 finished, average loss: 0.0000541025\n",
      "Starting testing\n"
     ]
    },
    {
     "name": "stderr",
     "output_type": "stream",
     "text": [
      "\n"
     ]
    },
    {
     "name": "stdout",
     "output_type": "stream",
     "text": [
      "Correct: 9513, total: 10000, accuracy: 0.9512999654, average loss: 0.0017094633\n"
     ]
    },
    {
     "name": "stderr",
     "output_type": "stream",
     "text": [
      "391it [00:51,  7.56it/s]"
     ]
    },
    {
     "name": "stdout",
     "output_type": "stream",
     "text": [
      "Epoch 487 finished, average loss: 0.0000506180\n",
      "Starting testing\n"
     ]
    },
    {
     "name": "stderr",
     "output_type": "stream",
     "text": [
      "\n"
     ]
    },
    {
     "name": "stdout",
     "output_type": "stream",
     "text": [
      "Correct: 9510, total: 10000, accuracy: 0.9509999752, average loss: 0.0017867969\n"
     ]
    },
    {
     "name": "stderr",
     "output_type": "stream",
     "text": [
      "391it [00:52,  7.51it/s]"
     ]
    },
    {
     "name": "stdout",
     "output_type": "stream",
     "text": [
      "Epoch 488 finished, average loss: 0.0000556808\n",
      "Starting testing\n"
     ]
    },
    {
     "name": "stderr",
     "output_type": "stream",
     "text": [
      "\n"
     ]
    },
    {
     "name": "stdout",
     "output_type": "stream",
     "text": [
      "Correct: 9515, total: 10000, accuracy: 0.9514999986, average loss: 0.0017208108\n"
     ]
    },
    {
     "name": "stderr",
     "output_type": "stream",
     "text": [
      "391it [00:51,  7.53it/s]"
     ]
    },
    {
     "name": "stdout",
     "output_type": "stream",
     "text": [
      "Epoch 489 finished, average loss: 0.0000497078\n",
      "Starting testing\n"
     ]
    },
    {
     "name": "stderr",
     "output_type": "stream",
     "text": [
      "\n"
     ]
    },
    {
     "name": "stdout",
     "output_type": "stream",
     "text": [
      "Correct: 9500, total: 10000, accuracy: 0.9499999881, average loss: 0.0018691787\n"
     ]
    },
    {
     "name": "stderr",
     "output_type": "stream",
     "text": [
      "391it [00:51,  7.55it/s]"
     ]
    },
    {
     "name": "stdout",
     "output_type": "stream",
     "text": [
      "Epoch 490 finished, average loss: 0.0000488614\n",
      "Starting testing\n"
     ]
    },
    {
     "name": "stderr",
     "output_type": "stream",
     "text": [
      "\n"
     ]
    },
    {
     "name": "stdout",
     "output_type": "stream",
     "text": [
      "Correct: 9486, total: 10000, accuracy: 0.9485999942, average loss: 0.0018847614\n"
     ]
    },
    {
     "name": "stderr",
     "output_type": "stream",
     "text": [
      "391it [00:51,  7.53it/s]"
     ]
    },
    {
     "name": "stdout",
     "output_type": "stream",
     "text": [
      "Epoch 491 finished, average loss: 0.0000484270\n",
      "Starting testing\n"
     ]
    },
    {
     "name": "stderr",
     "output_type": "stream",
     "text": [
      "\n"
     ]
    },
    {
     "name": "stdout",
     "output_type": "stream",
     "text": [
      "Correct: 9512, total: 10000, accuracy: 0.9511999488, average loss: 0.0017703031\n"
     ]
    },
    {
     "name": "stderr",
     "output_type": "stream",
     "text": [
      "391it [00:51,  7.52it/s]"
     ]
    },
    {
     "name": "stdout",
     "output_type": "stream",
     "text": [
      "Epoch 492 finished, average loss: 0.0000520196\n",
      "Starting testing\n"
     ]
    },
    {
     "name": "stderr",
     "output_type": "stream",
     "text": [
      "\n"
     ]
    },
    {
     "name": "stdout",
     "output_type": "stream",
     "text": [
      "Correct: 9502, total: 10000, accuracy: 0.9501999617, average loss: 0.0019050420\n"
     ]
    },
    {
     "name": "stderr",
     "output_type": "stream",
     "text": [
      "391it [00:51,  7.53it/s]"
     ]
    },
    {
     "name": "stdout",
     "output_type": "stream",
     "text": [
      "Epoch 493 finished, average loss: 0.0000481634\n",
      "Starting testing\n"
     ]
    },
    {
     "name": "stderr",
     "output_type": "stream",
     "text": [
      "\n"
     ]
    },
    {
     "name": "stdout",
     "output_type": "stream",
     "text": [
      "Correct: 9520, total: 10000, accuracy: 0.9519999623, average loss: 0.0016529229\n"
     ]
    },
    {
     "name": "stderr",
     "output_type": "stream",
     "text": [
      "391it [00:51,  7.54it/s]"
     ]
    },
    {
     "name": "stdout",
     "output_type": "stream",
     "text": [
      "Epoch 494 finished, average loss: 0.0000502547\n",
      "Starting testing\n"
     ]
    },
    {
     "name": "stderr",
     "output_type": "stream",
     "text": [
      "\n"
     ]
    },
    {
     "name": "stdout",
     "output_type": "stream",
     "text": [
      "Correct: 9477, total: 10000, accuracy: 0.9476999640, average loss: 0.0019312848\n"
     ]
    },
    {
     "name": "stderr",
     "output_type": "stream",
     "text": [
      "391it [00:51,  7.57it/s]"
     ]
    },
    {
     "name": "stdout",
     "output_type": "stream",
     "text": [
      "Epoch 495 finished, average loss: 0.0000470716\n",
      "Starting testing\n"
     ]
    },
    {
     "name": "stderr",
     "output_type": "stream",
     "text": [
      "\n"
     ]
    },
    {
     "name": "stdout",
     "output_type": "stream",
     "text": [
      "Correct: 9510, total: 10000, accuracy: 0.9509999752, average loss: 0.0018146785\n"
     ]
    },
    {
     "name": "stderr",
     "output_type": "stream",
     "text": [
      "391it [00:51,  7.55it/s]"
     ]
    },
    {
     "name": "stdout",
     "output_type": "stream",
     "text": [
      "Epoch 496 finished, average loss: 0.0000477248\n",
      "Starting testing\n"
     ]
    },
    {
     "name": "stderr",
     "output_type": "stream",
     "text": [
      "\n"
     ]
    },
    {
     "name": "stdout",
     "output_type": "stream",
     "text": [
      "Correct: 9496, total: 10000, accuracy: 0.9495999813, average loss: 0.0017443524\n"
     ]
    },
    {
     "name": "stderr",
     "output_type": "stream",
     "text": [
      "391it [00:51,  7.57it/s]"
     ]
    },
    {
     "name": "stdout",
     "output_type": "stream",
     "text": [
      "Epoch 497 finished, average loss: 0.0000420268\n",
      "Starting testing\n"
     ]
    },
    {
     "name": "stderr",
     "output_type": "stream",
     "text": [
      "\n"
     ]
    },
    {
     "name": "stdout",
     "output_type": "stream",
     "text": [
      "Correct: 9515, total: 10000, accuracy: 0.9514999986, average loss: 0.0018664963\n"
     ]
    },
    {
     "name": "stderr",
     "output_type": "stream",
     "text": [
      "391it [00:51,  7.57it/s]"
     ]
    },
    {
     "name": "stdout",
     "output_type": "stream",
     "text": [
      "Epoch 498 finished, average loss: 0.0000538676\n",
      "Starting testing\n"
     ]
    },
    {
     "name": "stderr",
     "output_type": "stream",
     "text": [
      "\n"
     ]
    },
    {
     "name": "stdout",
     "output_type": "stream",
     "text": [
      "Correct: 9505, total: 10000, accuracy: 0.9504999518, average loss: 0.0018614786\n"
     ]
    },
    {
     "name": "stderr",
     "output_type": "stream",
     "text": [
      "391it [00:51,  7.54it/s]"
     ]
    },
    {
     "name": "stdout",
     "output_type": "stream",
     "text": [
      "Epoch 499 finished, average loss: 0.0000432875\n",
      "Starting testing\n"
     ]
    },
    {
     "name": "stderr",
     "output_type": "stream",
     "text": [
      "\n"
     ]
    },
    {
     "name": "stdout",
     "output_type": "stream",
     "text": [
      "Correct: 9516, total: 10000, accuracy: 0.9515999556, average loss: 0.0016755888\n"
     ]
    },
    {
     "name": "stderr",
     "output_type": "stream",
     "text": [
      "391it [00:51,  7.57it/s]"
     ]
    },
    {
     "name": "stdout",
     "output_type": "stream",
     "text": [
      "Epoch 500 finished, average loss: 0.0000488513\n",
      "Starting testing\n"
     ]
    },
    {
     "name": "stderr",
     "output_type": "stream",
     "text": [
      "\n"
     ]
    },
    {
     "name": "stdout",
     "output_type": "stream",
     "text": [
      "Correct: 9512, total: 10000, accuracy: 0.9511999488, average loss: 0.0016972913\n",
      "CPU times: user 6h 28min 56s, sys: 1h 20min 39s, total: 7h 49min 36s\n",
      "Wall time: 7h 54min 57s\n"
     ]
    }
   ],
   "source": [
    "%%time\n",
    "sgd_para = {\"lr\": 0.1, \"weight_decay\": 0.0001, \"momentum\": 0.9}\n",
    "lr_dict = {250: 0.1, 375: 0.01, 500: 0.001}\n",
    "\n",
    "# Trainer = NN_SGDTrainer(net,sgd_para, trainloader, testloader, {200:1e-3}, model_name + '.txt')\n",
    "Trainer = NN_SGDTrainer(\n",
    "    net,\n",
    "    sgd_para,\n",
    "    trainloader,\n",
    "    testloader,\n",
    "    lr_dict,\n",
    "    model_name + \".txt\",\n",
    ")\n",
    "\n",
    "for i in range(500):  # 100\n",
    "    Trainer.train()"
   ]
  },
  {
   "cell_type": "code",
   "execution_count": 7,
   "metadata": {},
   "outputs": [
    {
     "data": {
      "image/png": "[encoded data removed]",
      "text/plain": [
       "<Figure size 640x480 with 1 Axes>"
      ]
     },
     "metadata": {},
     "output_type": "display_data"
    },
    {
     "data": {
      "image/png": "[encoded data removed]",
      "text/plain": [
       "<Figure size 640x480 with 1 Axes>"
      ]
     },
     "metadata": {},
     "output_type": "display_data"
    }
   ],
   "source": [
    "with open(p) as f:\n",
    "    lines = f.read()\n",
    "\n",
    "data = re.findall(\n",
    "    r\"Epoch (\\d+) finished, average loss: (\\d+\\.\\d+)\\n[\\d\\- :\\.]*\\nStarting testing\\n[\\d\\- :\\.]*\\nCorrect: \\d+, total: \\d+, accuracy: (\\d+\\.\\d+), average loss: (\\d+\\.\\d+)\",\n",
    "    lines,\n",
    "    re.MULTILINE,\n",
    ")\n",
    "# print(len(data))\n",
    "# print(data)\n",
    "epochs = [int(x[0]) for x in data]\n",
    "losses = [float(x[1]) for x in data]\n",
    "accuracies = [float(x[2]) for x in data]\n",
    "test_losses = [float(x[3]) for x in data]\n",
    "\n",
    "results_mresnet164 = dict(epochs=epochs, losses=losses, accuracies=accuracies, test_losses=test_losses)\n",
    "\n",
    "fix, ax = plt.subplots()\n",
    "ax.plot(accuracies)\n",
    "ax.set_ylim(0, 1)\n",
    "plt.title(f\"{model_name} - Test accuracy {accuracies[-1]:.4f}\")\n",
    "plt.ylabel(\"Test Accuracy\")\n",
    "plt.xlabel(\"Epoch\")\n",
    "# ax.yaxis.set_major_locator(MultipleLocator(0.05))\n",
    "cmap = plt.get_cmap(\"Pastel1\")\n",
    "\n",
    "for color, (epoch, value) in zip([\"xkcd:purple\", \"xkcd:red\", \"xkcd:orange\"], lr_dict.items()):\n",
    "    plt.axvline(x=epoch, label=f\"lr: {value}\", linestyle=\":\", linewidth=1, c=color)\n",
    "    \n",
    "plt.legend()\n",
    "plt.show()\n",
    "\n",
    "fix, ax = plt.subplots()\n",
    "train_loss, = ax.plot(epochs, losses, label=\"Train loss\")\n",
    "test_loss, = ax.plot(epochs, test_losses, label=\"Test loss\")\n",
    "plt.title(f\"{model_name} - Loss\")\n",
    "plt.ylabel(\"Avg. loss\")\n",
    "plt.xlabel(\"Epoch\")\n",
    "first_legend = plt.legend(handles=[train_loss, test_loss])\n",
    "\n",
    "ax = plt.gca().add_artist(first_legend)\n",
    "\n",
    "lrhs = []\n",
    "for color, (epoch, value) in zip([\"xkcd:purple\", \"xkcd:red\", \"xkcd:orange\"], lr_dict.items()):\n",
    "    lr_h = plt.axvline(x=epoch, label=f\"lr: {value}\", linestyle=\":\", linewidth=1, c=color)\n",
    "    lrhs.append(lr_h)\n",
    "\n",
    "plt.legend(handles=lrhs)\n",
    "plt.show()"
   ]
  },
  {
   "cell_type": "code",
   "execution_count": 8,
   "metadata": {},
   "outputs": [],
   "source": [
    "with open(f\"{model_name}_ks.txt\", \"w\") as f:\n",
    "    for i, x in enumerate(net.ks, start=1):\n",
    "        f.write(f\"{i},{x.item()}\\n\") "
   ]
  },
  {
   "cell_type": "code",
   "execution_count": null,
   "metadata": {},
   "outputs": [],
   "source": []
  }
 ],
 "metadata": {
  "kernelspec": {
   "display_name": "Python 3 (ipykernel)",
   "language": "python",
   "name": "python3"
  },
  "language_info": {
   "codemirror_mode": {
    "name": "ipython",
    "version": 3
   },
   "file_extension": ".py",
   "mimetype": "text/x-python",
   "name": "python",
   "nbconvert_exporter": "python",
   "pygments_lexer": "ipython3",
   "version": "3.10.12"
  }
 },
 "nbformat": 4,
 "nbformat_minor": 4
}
