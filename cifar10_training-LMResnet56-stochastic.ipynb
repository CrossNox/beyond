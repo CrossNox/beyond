{
 "cells": [
  {
   "cell_type": "code",
   "execution_count": 1,
   "metadata": {},
   "outputs": [
    {
     "name": "stderr",
     "output_type": "stream",
     "text": [
      "/home/nox/repos/beyond/venv/lib/python3.10/site-packages/tqdm/auto.py:21: TqdmWarning: IProgress not found. Please update jupyter and ipywidgets. See https://ipywidgets.readthedocs.io/en/stable/user_install.html\n",
      "  from .autonotebook import tqdm as notebook_tqdm\n"
     ]
    },
    {
     "data": {
      "text/plain": [
       "'\\nCode For \\nYiping Lu, Aoxiao Zhong, Quanzheng Li, Bin Dong. \"Beyond Finite Layer Neural Network:Bridging Deep Architects and Numerical Differential Equations\" \\nThirty-fifth International Conference on Machine Learning (ICML), 2018\\n\\n@2prime @Aoxiao Zhong\\n\\nAcknowledgement:\\n@pppppass(Zhihan Li)\\n'"
      ]
     },
     "execution_count": 1,
     "metadata": {},
     "output_type": "execute_result"
    }
   ],
   "source": [
    "import os\n",
    "\n",
    "import torch\n",
    "\n",
    "from MResNet import *\n",
    "from train import *\n",
    "\n",
    "import seaborn as sns\n",
    "\n",
    "sns.set()\n",
    "\n",
    "\n",
    "\"\"\"\n",
    "Code For \n",
    "Yiping Lu, Aoxiao Zhong, Quanzheng Li, Bin Dong. \"Beyond Finite Layer Neural Network:Bridging Deep Architects and Numerical Differential Equations\" \n",
    "Thirty-fifth International Conference on Machine Learning (ICML), 2018\n",
    "\n",
    "@2prime @Aoxiao Zhong\n",
    "\n",
    "Acknowledgement:\n",
    "@pppppass(Zhihan Li)\n",
    "\"\"\"\n",
    "# %load_ext autoreload\n",
    "# %autoreload 2\n",
    "# os.environ[\"CUDA_VISIBLE_DEVICES\"] = \"0\""
   ]
  },
  {
   "cell_type": "code",
   "execution_count": 2,
   "metadata": {},
   "outputs": [
    {
     "data": {
      "image/png": "[encoded data removed]",
      "text/plain": [
       "<Figure size 640x480 with 1 Axes>"
      ]
     },
     "metadata": {},
     "output_type": "display_data"
    }
   ],
   "source": [
    "xs = [*range(1,500)]\n",
    "ys = [lr_control({250: 0.1, 375: 0.01, 500: 0.001},x) for x in xs]\n",
    "\n",
    "plt.figure()\n",
    "plt.plot(xs, ys)\n",
    "plt.title(\"Curva de learning rate\")\n",
    "plt.ylabel(\"lr\")\n",
    "plt.xlabel(\"Epoch\")\n",
    "plt.show()"
   ]
  },
  {
   "cell_type": "markdown",
   "metadata": {},
   "source": [
    "# Experiments"
   ]
  },
  {
   "cell_type": "markdown",
   "metadata": {},
   "source": [
    "## LMResNet-56"
   ]
  },
  {
   "cell_type": "code",
   "execution_count": 3,
   "metadata": {},
   "outputs": [
    {
     "name": "stdout",
     "output_type": "stream",
     "text": [
      "Files already downloaded and verified\n",
      "Files already downloaded and verified\n"
     ]
    }
   ],
   "source": [
    "batch_size = 128\n",
    "trainloader, testloader = get_cifar10(batch_size)"
   ]
  },
  {
   "cell_type": "code",
   "execution_count": 4,
   "metadata": {
    "scrolled": true
   },
   "outputs": [],
   "source": [
    "from torchinfo import summary\n",
    "from blocks import BasicBlock, Bottleneck, BasicBlockWithDeathRate\n",
    "from MResNet import MResNet"
   ]
  },
  {
   "cell_type": "code",
   "execution_count": 5,
   "metadata": {
    "scrolled": true
   },
   "outputs": [
    {
     "name": "stdout",
     "output_type": "stream",
     "text": [
      "[0.0, 0.007692307692307691, 0.015384615384615382, 0.023076923076923075, 0.030769230769230764, 0.03846153846153846, 0.04615384615384615, 0.05384615384615383, 0.06153846153846153, 0.0692307692307692, 0.07692307692307691, 0.08461538461538459, 0.0923076923076923, 0.09999999999999998, 0.10769230769230766, 0.11538461538461535, 0.12307692307692306, 0.13076923076923075, 0.1384615384615384, 0.1461538461538461, 0.15384615384615383, 0.16153846153846152, 0.16923076923076918, 0.17692307692307688, 0.1846153846153846, 0.19230769230769226, 0.19999999999999996]\n"
     ]
    },
    {
     "data": {
      "text/plain": [
       "=====================================================================================================================================================================\n",
       "Layer (type:depth-idx)                   Input Shape               Output Shape              Param #                   Kernel Shape              Mult-Adds\n",
       "=====================================================================================================================================================================\n",
       "MResNet                                  [128, 3, 32, 32]          [128, 10]                 1,115                     --                        --\n",
       "├─Conv2d: 1-1                            [128, 3, 32, 32]          [128, 16, 32, 32]         432                       [3, 3]                    56,623,104\n",
       "├─ModuleList: 1-6                        --                        --                        (recursive)               --                        --\n",
       "│    └─BasicBlockWithDeathRate: 2-1      [128, 16, 32, 32]         [128, 16, 32, 32]         --                        --                        --\n",
       "│    │    └─BatchNorm2d: 3-1             [128, 16, 32, 32]         [128, 16, 32, 32]         32                        --                        4,096\n",
       "│    │    └─ReLU: 3-2                    [128, 16, 32, 32]         [128, 16, 32, 32]         --                        --                        --\n",
       "│    │    └─Conv2d: 3-3                  [128, 16, 32, 32]         [128, 16, 32, 32]         2,304                     [3, 3]                    301,989,888\n",
       "│    │    └─BatchNorm2d: 3-4             [128, 16, 32, 32]         [128, 16, 32, 32]         32                        --                        4,096\n",
       "│    │    └─ReLU: 3-5                    [128, 16, 32, 32]         [128, 16, 32, 32]         --                        --                        --\n",
       "│    │    └─Conv2d: 3-6                  [128, 16, 32, 32]         [128, 16, 32, 32]         2,304                     [3, 3]                    301,989,888\n",
       "│    └─BasicBlockWithDeathRate: 2-2      [128, 16, 32, 32]         [128, 16, 32, 32]         --                        --                        --\n",
       "│    │    └─BatchNorm2d: 3-7             [128, 16, 32, 32]         [128, 16, 32, 32]         32                        --                        4,096\n",
       "│    │    └─ReLU: 3-8                    [128, 16, 32, 32]         [128, 16, 32, 32]         --                        --                        --\n",
       "│    │    └─Conv2d: 3-9                  [128, 16, 32, 32]         [128, 16, 32, 32]         2,304                     [3, 3]                    301,989,888\n",
       "│    │    └─BatchNorm2d: 3-10            [128, 16, 32, 32]         [128, 16, 32, 32]         32                        --                        4,096\n",
       "│    │    └─ReLU: 3-11                   [128, 16, 32, 32]         [128, 16, 32, 32]         --                        --                        --\n",
       "│    │    └─Conv2d: 3-12                 [128, 16, 32, 32]         [128, 16, 32, 32]         2,304                     [3, 3]                    301,989,888\n",
       "│    └─BasicBlockWithDeathRate: 2-3      [128, 16, 32, 32]         [128, 16, 32, 32]         --                        --                        --\n",
       "│    │    └─BatchNorm2d: 3-13            [128, 16, 32, 32]         [128, 16, 32, 32]         32                        --                        4,096\n",
       "│    │    └─ReLU: 3-14                   [128, 16, 32, 32]         [128, 16, 32, 32]         --                        --                        --\n",
       "│    │    └─Conv2d: 3-15                 [128, 16, 32, 32]         [128, 16, 32, 32]         2,304                     [3, 3]                    301,989,888\n",
       "│    │    └─BatchNorm2d: 3-16            [128, 16, 32, 32]         [128, 16, 32, 32]         32                        --                        4,096\n",
       "│    │    └─ReLU: 3-17                   [128, 16, 32, 32]         [128, 16, 32, 32]         --                        --                        --\n",
       "│    │    └─Conv2d: 3-18                 [128, 16, 32, 32]         [128, 16, 32, 32]         2,304                     [3, 3]                    301,989,888\n",
       "│    └─BasicBlockWithDeathRate: 2-4      [128, 16, 32, 32]         [128, 16, 32, 32]         --                        --                        --\n",
       "│    │    └─BatchNorm2d: 3-19            [128, 16, 32, 32]         [128, 16, 32, 32]         32                        --                        4,096\n",
       "│    │    └─ReLU: 3-20                   [128, 16, 32, 32]         [128, 16, 32, 32]         --                        --                        --\n",
       "│    │    └─Conv2d: 3-21                 [128, 16, 32, 32]         [128, 16, 32, 32]         2,304                     [3, 3]                    301,989,888\n",
       "│    │    └─BatchNorm2d: 3-22            [128, 16, 32, 32]         [128, 16, 32, 32]         32                        --                        4,096\n",
       "│    │    └─ReLU: 3-23                   [128, 16, 32, 32]         [128, 16, 32, 32]         --                        --                        --\n",
       "│    │    └─Conv2d: 3-24                 [128, 16, 32, 32]         [128, 16, 32, 32]         2,304                     [3, 3]                    301,989,888\n",
       "│    └─BasicBlockWithDeathRate: 2-5      [128, 16, 32, 32]         [128, 16, 32, 32]         --                        --                        --\n",
       "│    │    └─BatchNorm2d: 3-25            [128, 16, 32, 32]         [128, 16, 32, 32]         32                        --                        4,096\n",
       "│    │    └─ReLU: 3-26                   [128, 16, 32, 32]         [128, 16, 32, 32]         --                        --                        --\n",
       "│    │    └─Conv2d: 3-27                 [128, 16, 32, 32]         [128, 16, 32, 32]         2,304                     [3, 3]                    301,989,888\n",
       "│    │    └─BatchNorm2d: 3-28            [128, 16, 32, 32]         [128, 16, 32, 32]         32                        --                        4,096\n",
       "│    │    └─ReLU: 3-29                   [128, 16, 32, 32]         [128, 16, 32, 32]         --                        --                        --\n",
       "│    │    └─Conv2d: 3-30                 [128, 16, 32, 32]         [128, 16, 32, 32]         2,304                     [3, 3]                    301,989,888\n",
       "│    └─BasicBlockWithDeathRate: 2-6      [128, 16, 32, 32]         [128, 16, 32, 32]         --                        --                        --\n",
       "│    │    └─BatchNorm2d: 3-31            [128, 16, 32, 32]         [128, 16, 32, 32]         32                        --                        4,096\n",
       "│    │    └─ReLU: 3-32                   [128, 16, 32, 32]         [128, 16, 32, 32]         --                        --                        --\n",
       "│    │    └─Conv2d: 3-33                 [128, 16, 32, 32]         [128, 16, 32, 32]         2,304                     [3, 3]                    301,989,888\n",
       "│    │    └─BatchNorm2d: 3-34            [128, 16, 32, 32]         [128, 16, 32, 32]         32                        --                        4,096\n",
       "│    │    └─ReLU: 3-35                   [128, 16, 32, 32]         [128, 16, 32, 32]         --                        --                        --\n",
       "│    │    └─Conv2d: 3-36                 [128, 16, 32, 32]         [128, 16, 32, 32]         2,304                     [3, 3]                    301,989,888\n",
       "│    └─BasicBlockWithDeathRate: 2-7      [128, 16, 32, 32]         [128, 16, 32, 32]         --                        --                        --\n",
       "│    │    └─BatchNorm2d: 3-37            [128, 16, 32, 32]         [128, 16, 32, 32]         32                        --                        4,096\n",
       "│    │    └─ReLU: 3-38                   [128, 16, 32, 32]         [128, 16, 32, 32]         --                        --                        --\n",
       "│    │    └─Conv2d: 3-39                 [128, 16, 32, 32]         [128, 16, 32, 32]         2,304                     [3, 3]                    301,989,888\n",
       "│    │    └─BatchNorm2d: 3-40            [128, 16, 32, 32]         [128, 16, 32, 32]         32                        --                        4,096\n",
       "│    │    └─ReLU: 3-41                   [128, 16, 32, 32]         [128, 16, 32, 32]         --                        --                        --\n",
       "│    │    └─Conv2d: 3-42                 [128, 16, 32, 32]         [128, 16, 32, 32]         2,304                     [3, 3]                    301,989,888\n",
       "│    └─BasicBlockWithDeathRate: 2-8      [128, 16, 32, 32]         [128, 16, 32, 32]         --                        --                        --\n",
       "│    │    └─BatchNorm2d: 3-43            [128, 16, 32, 32]         [128, 16, 32, 32]         32                        --                        4,096\n",
       "│    │    └─ReLU: 3-44                   [128, 16, 32, 32]         [128, 16, 32, 32]         --                        --                        --\n",
       "│    │    └─Conv2d: 3-45                 [128, 16, 32, 32]         [128, 16, 32, 32]         2,304                     [3, 3]                    301,989,888\n",
       "│    │    └─BatchNorm2d: 3-46            [128, 16, 32, 32]         [128, 16, 32, 32]         32                        --                        4,096\n",
       "│    │    └─ReLU: 3-47                   [128, 16, 32, 32]         [128, 16, 32, 32]         --                        --                        --\n",
       "│    │    └─Conv2d: 3-48                 [128, 16, 32, 32]         [128, 16, 32, 32]         2,304                     [3, 3]                    301,989,888\n",
       "│    └─BasicBlockWithDeathRate: 2-9      [128, 16, 32, 32]         [128, 16, 32, 32]         --                        --                        --\n",
       "│    │    └─BatchNorm2d: 3-49            [128, 16, 32, 32]         [128, 16, 32, 32]         32                        --                        4,096\n",
       "│    │    └─ReLU: 3-50                   [128, 16, 32, 32]         [128, 16, 32, 32]         --                        --                        --\n",
       "│    │    └─Conv2d: 3-51                 [128, 16, 32, 32]         [128, 16, 32, 32]         2,304                     [3, 3]                    301,989,888\n",
       "│    │    └─BatchNorm2d: 3-52            [128, 16, 32, 32]         [128, 16, 32, 32]         32                        --                        4,096\n",
       "│    │    └─ReLU: 3-53                   [128, 16, 32, 32]         [128, 16, 32, 32]         --                        --                        --\n",
       "│    │    └─Conv2d: 3-54                 [128, 16, 32, 32]         [128, 16, 32, 32]         2,304                     [3, 3]                    301,989,888\n",
       "├─Downsample: 1-3                        [128, 16, 32, 32]         [128, 32, 16, 16]         --                        --                        --\n",
       "│    └─Sequential: 2-10                  [128, 16, 32, 32]         [128, 32, 16, 16]         --                        --                        --\n",
       "│    │    └─BatchNorm2d: 3-55            [128, 16, 32, 32]         [128, 16, 32, 32]         32                        --                        4,096\n",
       "│    │    └─ReLU: 3-56                   [128, 16, 32, 32]         [128, 16, 32, 32]         --                        --                        --\n",
       "│    │    └─Conv2d: 3-57                 [128, 16, 32, 32]         [128, 32, 16, 16]         512                       [1, 1]                    16,777,216\n",
       "├─ModuleList: 1-6                        --                        --                        (recursive)               --                        --\n",
       "│    └─BasicBlockWithDeathRate: 2-11     [128, 16, 32, 32]         [128, 32, 16, 16]         --                        --                        --\n",
       "│    │    └─BatchNorm2d: 3-58            [128, 16, 32, 32]         [128, 16, 32, 32]         32                        --                        4,096\n",
       "│    │    └─ReLU: 3-59                   [128, 16, 32, 32]         [128, 16, 32, 32]         --                        --                        --\n",
       "│    │    └─Conv2d: 3-60                 [128, 16, 32, 32]         [128, 32, 16, 16]         4,608                     [3, 3]                    150,994,944\n",
       "│    │    └─BatchNorm2d: 3-61            [128, 32, 16, 16]         [128, 32, 16, 16]         64                        --                        8,192\n",
       "│    │    └─ReLU: 3-62                   [128, 32, 16, 16]         [128, 32, 16, 16]         --                        --                        --\n",
       "│    │    └─Conv2d: 3-63                 [128, 32, 16, 16]         [128, 32, 16, 16]         9,216                     [3, 3]                    301,989,888\n",
       "│    └─BasicBlockWithDeathRate: 2-12     [128, 32, 16, 16]         [128, 32, 16, 16]         --                        --                        --\n",
       "│    │    └─BatchNorm2d: 3-64            [128, 32, 16, 16]         [128, 32, 16, 16]         64                        --                        8,192\n",
       "│    │    └─ReLU: 3-65                   [128, 32, 16, 16]         [128, 32, 16, 16]         --                        --                        --\n",
       "│    │    └─Conv2d: 3-66                 [128, 32, 16, 16]         [128, 32, 16, 16]         9,216                     [3, 3]                    301,989,888\n",
       "│    │    └─BatchNorm2d: 3-67            [128, 32, 16, 16]         [128, 32, 16, 16]         64                        --                        8,192\n",
       "│    │    └─ReLU: 3-68                   [128, 32, 16, 16]         [128, 32, 16, 16]         --                        --                        --\n",
       "│    │    └─Conv2d: 3-69                 [128, 32, 16, 16]         [128, 32, 16, 16]         9,216                     [3, 3]                    301,989,888\n",
       "│    └─BasicBlockWithDeathRate: 2-13     [128, 32, 16, 16]         [128, 32, 16, 16]         --                        --                        --\n",
       "│    │    └─BatchNorm2d: 3-70            [128, 32, 16, 16]         [128, 32, 16, 16]         64                        --                        8,192\n",
       "│    │    └─ReLU: 3-71                   [128, 32, 16, 16]         [128, 32, 16, 16]         --                        --                        --\n",
       "│    │    └─Conv2d: 3-72                 [128, 32, 16, 16]         [128, 32, 16, 16]         9,216                     [3, 3]                    301,989,888\n",
       "│    │    └─BatchNorm2d: 3-73            [128, 32, 16, 16]         [128, 32, 16, 16]         64                        --                        8,192\n",
       "│    │    └─ReLU: 3-74                   [128, 32, 16, 16]         [128, 32, 16, 16]         --                        --                        --\n",
       "│    │    └─Conv2d: 3-75                 [128, 32, 16, 16]         [128, 32, 16, 16]         9,216                     [3, 3]                    301,989,888\n",
       "│    └─BasicBlockWithDeathRate: 2-14     [128, 32, 16, 16]         [128, 32, 16, 16]         --                        --                        --\n",
       "│    │    └─BatchNorm2d: 3-76            [128, 32, 16, 16]         [128, 32, 16, 16]         64                        --                        8,192\n",
       "│    │    └─ReLU: 3-77                   [128, 32, 16, 16]         [128, 32, 16, 16]         --                        --                        --\n",
       "│    │    └─Conv2d: 3-78                 [128, 32, 16, 16]         [128, 32, 16, 16]         9,216                     [3, 3]                    301,989,888\n",
       "│    │    └─BatchNorm2d: 3-79            [128, 32, 16, 16]         [128, 32, 16, 16]         64                        --                        8,192\n",
       "│    │    └─ReLU: 3-80                   [128, 32, 16, 16]         [128, 32, 16, 16]         --                        --                        --\n",
       "│    │    └─Conv2d: 3-81                 [128, 32, 16, 16]         [128, 32, 16, 16]         9,216                     [3, 3]                    301,989,888\n",
       "│    └─BasicBlockWithDeathRate: 2-15     [128, 32, 16, 16]         [128, 32, 16, 16]         --                        --                        --\n",
       "│    │    └─BatchNorm2d: 3-82            [128, 32, 16, 16]         [128, 32, 16, 16]         64                        --                        8,192\n",
       "│    │    └─ReLU: 3-83                   [128, 32, 16, 16]         [128, 32, 16, 16]         --                        --                        --\n",
       "│    │    └─Conv2d: 3-84                 [128, 32, 16, 16]         [128, 32, 16, 16]         9,216                     [3, 3]                    301,989,888\n",
       "│    │    └─BatchNorm2d: 3-85            [128, 32, 16, 16]         [128, 32, 16, 16]         64                        --                        8,192\n",
       "│    │    └─ReLU: 3-86                   [128, 32, 16, 16]         [128, 32, 16, 16]         --                        --                        --\n",
       "│    │    └─Conv2d: 3-87                 [128, 32, 16, 16]         [128, 32, 16, 16]         9,216                     [3, 3]                    301,989,888\n",
       "│    └─BasicBlockWithDeathRate: 2-16     [128, 32, 16, 16]         [128, 32, 16, 16]         --                        --                        --\n",
       "│    │    └─BatchNorm2d: 3-88            [128, 32, 16, 16]         [128, 32, 16, 16]         64                        --                        8,192\n",
       "│    │    └─ReLU: 3-89                   [128, 32, 16, 16]         [128, 32, 16, 16]         --                        --                        --\n",
       "│    │    └─Conv2d: 3-90                 [128, 32, 16, 16]         [128, 32, 16, 16]         9,216                     [3, 3]                    301,989,888\n",
       "│    │    └─BatchNorm2d: 3-91            [128, 32, 16, 16]         [128, 32, 16, 16]         64                        --                        8,192\n",
       "│    │    └─ReLU: 3-92                   [128, 32, 16, 16]         [128, 32, 16, 16]         --                        --                        --\n",
       "│    │    └─Conv2d: 3-93                 [128, 32, 16, 16]         [128, 32, 16, 16]         9,216                     [3, 3]                    301,989,888\n",
       "│    └─BasicBlockWithDeathRate: 2-17     [128, 32, 16, 16]         [128, 32, 16, 16]         --                        --                        --\n",
       "│    │    └─BatchNorm2d: 3-94            [128, 32, 16, 16]         [128, 32, 16, 16]         64                        --                        8,192\n",
       "│    │    └─ReLU: 3-95                   [128, 32, 16, 16]         [128, 32, 16, 16]         --                        --                        --\n",
       "│    │    └─Conv2d: 3-96                 [128, 32, 16, 16]         [128, 32, 16, 16]         9,216                     [3, 3]                    301,989,888\n",
       "│    │    └─BatchNorm2d: 3-97            [128, 32, 16, 16]         [128, 32, 16, 16]         64                        --                        8,192\n",
       "│    │    └─ReLU: 3-98                   [128, 32, 16, 16]         [128, 32, 16, 16]         --                        --                        --\n",
       "│    │    └─Conv2d: 3-99                 [128, 32, 16, 16]         [128, 32, 16, 16]         9,216                     [3, 3]                    301,989,888\n",
       "│    └─BasicBlockWithDeathRate: 2-18     [128, 32, 16, 16]         [128, 32, 16, 16]         --                        --                        --\n",
       "│    │    └─BatchNorm2d: 3-100           [128, 32, 16, 16]         [128, 32, 16, 16]         64                        --                        8,192\n",
       "│    │    └─ReLU: 3-101                  [128, 32, 16, 16]         [128, 32, 16, 16]         --                        --                        --\n",
       "│    │    └─Conv2d: 3-102                [128, 32, 16, 16]         [128, 32, 16, 16]         9,216                     [3, 3]                    301,989,888\n",
       "│    │    └─BatchNorm2d: 3-103           [128, 32, 16, 16]         [128, 32, 16, 16]         64                        --                        8,192\n",
       "│    │    └─ReLU: 3-104                  [128, 32, 16, 16]         [128, 32, 16, 16]         --                        --                        --\n",
       "│    │    └─Conv2d: 3-105                [128, 32, 16, 16]         [128, 32, 16, 16]         9,216                     [3, 3]                    301,989,888\n",
       "│    └─BasicBlockWithDeathRate: 2-19     [128, 32, 16, 16]         [128, 32, 16, 16]         --                        --                        --\n",
       "│    │    └─BatchNorm2d: 3-106           [128, 32, 16, 16]         [128, 32, 16, 16]         64                        --                        8,192\n",
       "│    │    └─ReLU: 3-107                  [128, 32, 16, 16]         [128, 32, 16, 16]         --                        --                        --\n",
       "│    │    └─Conv2d: 3-108                [128, 32, 16, 16]         [128, 32, 16, 16]         9,216                     [3, 3]                    301,989,888\n",
       "│    │    └─BatchNorm2d: 3-109           [128, 32, 16, 16]         [128, 32, 16, 16]         64                        --                        8,192\n",
       "│    │    └─ReLU: 3-110                  [128, 32, 16, 16]         [128, 32, 16, 16]         --                        --                        --\n",
       "│    │    └─Conv2d: 3-111                [128, 32, 16, 16]         [128, 32, 16, 16]         9,216                     [3, 3]                    301,989,888\n",
       "├─Downsample: 1-5                        [128, 32, 16, 16]         [128, 64, 8, 8]           --                        --                        --\n",
       "│    └─Sequential: 2-20                  [128, 32, 16, 16]         [128, 64, 8, 8]           --                        --                        --\n",
       "│    │    └─BatchNorm2d: 3-112           [128, 32, 16, 16]         [128, 32, 16, 16]         64                        --                        8,192\n",
       "│    │    └─ReLU: 3-113                  [128, 32, 16, 16]         [128, 32, 16, 16]         --                        --                        --\n",
       "│    │    └─Conv2d: 3-114                [128, 32, 16, 16]         [128, 64, 8, 8]           2,048                     [1, 1]                    16,777,216\n",
       "├─ModuleList: 1-6                        --                        --                        (recursive)               --                        --\n",
       "│    └─BasicBlockWithDeathRate: 2-21     [128, 32, 16, 16]         [128, 64, 8, 8]           --                        --                        --\n",
       "│    │    └─BatchNorm2d: 3-115           [128, 32, 16, 16]         [128, 32, 16, 16]         64                        --                        8,192\n",
       "│    │    └─ReLU: 3-116                  [128, 32, 16, 16]         [128, 32, 16, 16]         --                        --                        --\n",
       "│    │    └─Conv2d: 3-117                [128, 32, 16, 16]         [128, 64, 8, 8]           18,432                    [3, 3]                    150,994,944\n",
       "│    │    └─BatchNorm2d: 3-118           [128, 64, 8, 8]           [128, 64, 8, 8]           128                       --                        16,384\n",
       "│    │    └─ReLU: 3-119                  [128, 64, 8, 8]           [128, 64, 8, 8]           --                        --                        --\n",
       "│    │    └─Conv2d: 3-120                [128, 64, 8, 8]           [128, 64, 8, 8]           36,864                    [3, 3]                    301,989,888\n",
       "│    └─BasicBlockWithDeathRate: 2-22     [128, 64, 8, 8]           [128, 64, 8, 8]           --                        --                        --\n",
       "│    │    └─BatchNorm2d: 3-121           [128, 64, 8, 8]           [128, 64, 8, 8]           128                       --                        16,384\n",
       "│    │    └─ReLU: 3-122                  [128, 64, 8, 8]           [128, 64, 8, 8]           --                        --                        --\n",
       "│    │    └─Conv2d: 3-123                [128, 64, 8, 8]           [128, 64, 8, 8]           36,864                    [3, 3]                    301,989,888\n",
       "│    │    └─BatchNorm2d: 3-124           [128, 64, 8, 8]           [128, 64, 8, 8]           128                       --                        16,384\n",
       "│    │    └─ReLU: 3-125                  [128, 64, 8, 8]           [128, 64, 8, 8]           --                        --                        --\n",
       "│    │    └─Conv2d: 3-126                [128, 64, 8, 8]           [128, 64, 8, 8]           36,864                    [3, 3]                    301,989,888\n",
       "│    └─BasicBlockWithDeathRate: 2-23     [128, 64, 8, 8]           [128, 64, 8, 8]           --                        --                        --\n",
       "│    │    └─BatchNorm2d: 3-127           [128, 64, 8, 8]           [128, 64, 8, 8]           128                       --                        16,384\n",
       "│    │    └─ReLU: 3-128                  [128, 64, 8, 8]           [128, 64, 8, 8]           --                        --                        --\n",
       "│    │    └─Conv2d: 3-129                [128, 64, 8, 8]           [128, 64, 8, 8]           36,864                    [3, 3]                    301,989,888\n",
       "│    │    └─BatchNorm2d: 3-130           [128, 64, 8, 8]           [128, 64, 8, 8]           128                       --                        16,384\n",
       "│    │    └─ReLU: 3-131                  [128, 64, 8, 8]           [128, 64, 8, 8]           --                        --                        --\n",
       "│    │    └─Conv2d: 3-132                [128, 64, 8, 8]           [128, 64, 8, 8]           36,864                    [3, 3]                    301,989,888\n",
       "│    └─BasicBlockWithDeathRate: 2-24     [128, 64, 8, 8]           [128, 64, 8, 8]           --                        --                        --\n",
       "│    │    └─BatchNorm2d: 3-133           [128, 64, 8, 8]           [128, 64, 8, 8]           128                       --                        16,384\n",
       "│    │    └─ReLU: 3-134                  [128, 64, 8, 8]           [128, 64, 8, 8]           --                        --                        --\n",
       "│    │    └─Conv2d: 3-135                [128, 64, 8, 8]           [128, 64, 8, 8]           36,864                    [3, 3]                    301,989,888\n",
       "│    │    └─BatchNorm2d: 3-136           [128, 64, 8, 8]           [128, 64, 8, 8]           128                       --                        16,384\n",
       "│    │    └─ReLU: 3-137                  [128, 64, 8, 8]           [128, 64, 8, 8]           --                        --                        --\n",
       "│    │    └─Conv2d: 3-138                [128, 64, 8, 8]           [128, 64, 8, 8]           36,864                    [3, 3]                    301,989,888\n",
       "│    └─BasicBlockWithDeathRate: 2-25     [128, 64, 8, 8]           [128, 64, 8, 8]           --                        --                        --\n",
       "│    │    └─BatchNorm2d: 3-139           [128, 64, 8, 8]           [128, 64, 8, 8]           128                       --                        16,384\n",
       "│    │    └─ReLU: 3-140                  [128, 64, 8, 8]           [128, 64, 8, 8]           --                        --                        --\n",
       "│    │    └─Conv2d: 3-141                [128, 64, 8, 8]           [128, 64, 8, 8]           36,864                    [3, 3]                    301,989,888\n",
       "│    │    └─BatchNorm2d: 3-142           [128, 64, 8, 8]           [128, 64, 8, 8]           128                       --                        16,384\n",
       "│    │    └─ReLU: 3-143                  [128, 64, 8, 8]           [128, 64, 8, 8]           --                        --                        --\n",
       "│    │    └─Conv2d: 3-144                [128, 64, 8, 8]           [128, 64, 8, 8]           36,864                    [3, 3]                    301,989,888\n",
       "│    └─BasicBlockWithDeathRate: 2-26     [128, 64, 8, 8]           [128, 64, 8, 8]           --                        --                        --\n",
       "│    │    └─BatchNorm2d: 3-145           [128, 64, 8, 8]           [128, 64, 8, 8]           128                       --                        16,384\n",
       "│    │    └─ReLU: 3-146                  [128, 64, 8, 8]           [128, 64, 8, 8]           --                        --                        --\n",
       "│    │    └─Conv2d: 3-147                [128, 64, 8, 8]           [128, 64, 8, 8]           36,864                    [3, 3]                    301,989,888\n",
       "│    │    └─BatchNorm2d: 3-148           [128, 64, 8, 8]           [128, 64, 8, 8]           128                       --                        16,384\n",
       "│    │    └─ReLU: 3-149                  [128, 64, 8, 8]           [128, 64, 8, 8]           --                        --                        --\n",
       "│    │    └─Conv2d: 3-150                [128, 64, 8, 8]           [128, 64, 8, 8]           36,864                    [3, 3]                    301,989,888\n",
       "│    └─BasicBlockWithDeathRate: 2-27     [128, 64, 8, 8]           [128, 64, 8, 8]           --                        --                        --\n",
       "│    │    └─BatchNorm2d: 3-151           [128, 64, 8, 8]           [128, 64, 8, 8]           128                       --                        16,384\n",
       "│    │    └─ReLU: 3-152                  [128, 64, 8, 8]           [128, 64, 8, 8]           --                        --                        --\n",
       "│    │    └─Conv2d: 3-153                [128, 64, 8, 8]           [128, 64, 8, 8]           36,864                    [3, 3]                    301,989,888\n",
       "│    │    └─BatchNorm2d: 3-154           [128, 64, 8, 8]           [128, 64, 8, 8]           128                       --                        16,384\n",
       "│    │    └─ReLU: 3-155                  [128, 64, 8, 8]           [128, 64, 8, 8]           --                        --                        --\n",
       "│    │    └─Conv2d: 3-156                [128, 64, 8, 8]           [128, 64, 8, 8]           36,864                    [3, 3]                    301,989,888\n",
       "│    └─BasicBlockWithDeathRate: 2-28     [128, 64, 8, 8]           [128, 64, 8, 8]           --                        --                        --\n",
       "│    │    └─BatchNorm2d: 3-157           [128, 64, 8, 8]           [128, 64, 8, 8]           128                       --                        16,384\n",
       "│    │    └─ReLU: 3-158                  [128, 64, 8, 8]           [128, 64, 8, 8]           --                        --                        --\n",
       "│    │    └─Conv2d: 3-159                [128, 64, 8, 8]           [128, 64, 8, 8]           36,864                    [3, 3]                    301,989,888\n",
       "│    │    └─BatchNorm2d: 3-160           [128, 64, 8, 8]           [128, 64, 8, 8]           128                       --                        16,384\n",
       "│    │    └─ReLU: 3-161                  [128, 64, 8, 8]           [128, 64, 8, 8]           --                        --                        --\n",
       "│    │    └─Conv2d: 3-162                [128, 64, 8, 8]           [128, 64, 8, 8]           36,864                    [3, 3]                    301,989,888\n",
       "│    └─BasicBlockWithDeathRate: 2-29     [128, 64, 8, 8]           [128, 64, 8, 8]           --                        --                        --\n",
       "│    │    └─BatchNorm2d: 3-163           [128, 64, 8, 8]           [128, 64, 8, 8]           128                       --                        16,384\n",
       "│    │    └─ReLU: 3-164                  [128, 64, 8, 8]           [128, 64, 8, 8]           --                        --                        --\n",
       "│    │    └─Conv2d: 3-165                [128, 64, 8, 8]           [128, 64, 8, 8]           36,864                    [3, 3]                    301,989,888\n",
       "│    │    └─BatchNorm2d: 3-166           [128, 64, 8, 8]           [128, 64, 8, 8]           128                       --                        16,384\n",
       "│    │    └─ReLU: 3-167                  [128, 64, 8, 8]           [128, 64, 8, 8]           --                        --                        --\n",
       "│    │    └─Conv2d: 3-168                [128, 64, 8, 8]           [128, 64, 8, 8]           36,864                    [3, 3]                    301,989,888\n",
       "├─BatchNorm2d: 1-7                       [128, 64, 8, 8]           [128, 64, 8, 8]           128                       --                        16,384\n",
       "├─ReLU: 1-8                              [128, 64, 8, 8]           [128, 64, 8, 8]           --                        --                        --\n",
       "├─AvgPool2d: 1-9                         [128, 64, 8, 8]           [128, 64, 1, 1]           --                        8                         --\n",
       "├─Linear: 1-10                           [128, 64]                 [128, 10]                 650                       --                        83,200\n",
       "=====================================================================================================================================================================\n",
       "Total params: 856,789\n",
       "Trainable params: 856,789\n",
       "Non-trainable params: 0\n",
       "Total mult-adds (G): 16.10\n",
       "=====================================================================================================================================================================\n",
       "Input size (MB): 1.57\n",
       "Forward/backward pass size (MB): 1128.28\n",
       "Params size (MB): 3.42\n",
       "Estimated Total Size (MB): 1133.27\n",
       "====================================================================================================================================================================="
      ]
     },
     "execution_count": 5,
     "metadata": {},
     "output_type": "execute_result"
    }
   ],
   "source": [
    "net = MResNet(BasicBlockWithDeathRate, [9,9,9], num_classes=10, stochastic_depth=True, PL=0.8, pretrain=False)\n",
    "net.cuda()\n",
    "model_name = \"MResNet56-SD\"\n",
    "\n",
    "from pathlib import Path\n",
    "\n",
    "p = Path(f\"{model_name}.txt\")\n",
    "if p.exists():\n",
    "    p.unlink()\n",
    "\n",
    "summary(\n",
    "    net,\n",
    "    input_size=(batch_size, 3, 32, 32),\n",
    "    depth=5,\n",
    "    col_names=[\n",
    "        \"input_size\",\n",
    "        \"output_size\",\n",
    "        \"num_params\",\n",
    "        \"kernel_size\",\n",
    "        \"mult_adds\",\n",
    "    ],\n",
    ")"
   ]
  },
  {
   "cell_type": "code",
   "execution_count": 6,
   "metadata": {},
   "outputs": [
    {
     "name": "stderr",
     "output_type": "stream",
     "text": [
      "391it [00:31, 12.44it/s]"
     ]
    },
    {
     "name": "stdout",
     "output_type": "stream",
     "text": [
      "Epoch 1 finished, average loss: 0.0126339814\n",
      "Starting testing\n"
     ]
    },
    {
     "name": "stderr",
     "output_type": "stream",
     "text": [
      "\n"
     ]
    },
    {
     "name": "stdout",
     "output_type": "stream",
     "text": [
      "Correct: 4657, total: 10000, accuracy: 0.4657000005, average loss: 0.0118704292\n"
     ]
    },
    {
     "name": "stderr",
     "output_type": "stream",
     "text": [
      "391it [00:31, 12.35it/s]"
     ]
    },
    {
     "name": "stdout",
     "output_type": "stream",
     "text": [
      "Epoch 2 finished, average loss: 0.0089324784\n",
      "Starting testing\n"
     ]
    },
    {
     "name": "stderr",
     "output_type": "stream",
     "text": [
      "\n"
     ]
    },
    {
     "name": "stdout",
     "output_type": "stream",
     "text": [
      "Correct: 6245, total: 10000, accuracy: 0.6244999766, average loss: 0.0083975539\n"
     ]
    },
    {
     "name": "stderr",
     "output_type": "stream",
     "text": [
      "391it [00:31, 12.38it/s]"
     ]
    },
    {
     "name": "stdout",
     "output_type": "stream",
     "text": [
      "Epoch 3 finished, average loss: 0.0073775848\n",
      "Starting testing\n"
     ]
    },
    {
     "name": "stderr",
     "output_type": "stream",
     "text": [
      "\n"
     ]
    },
    {
     "name": "stdout",
     "output_type": "stream",
     "text": [
      "Correct: 6723, total: 10000, accuracy: 0.6722999811, average loss: 0.0072446453\n"
     ]
    },
    {
     "name": "stderr",
     "output_type": "stream",
     "text": [
      "391it [00:31, 12.37it/s]"
     ]
    },
    {
     "name": "stdout",
     "output_type": "stream",
     "text": [
      "Epoch 4 finished, average loss: 0.0064001673\n",
      "Starting testing\n"
     ]
    },
    {
     "name": "stderr",
     "output_type": "stream",
     "text": [
      "\n"
     ]
    },
    {
     "name": "stdout",
     "output_type": "stream",
     "text": [
      "Correct: 7284, total: 10000, accuracy: 0.7283999920, average loss: 0.0060914761\n"
     ]
    },
    {
     "name": "stderr",
     "output_type": "stream",
     "text": [
      "391it [00:31, 12.40it/s]"
     ]
    },
    {
     "name": "stdout",
     "output_type": "stream",
     "text": [
      "Epoch 5 finished, average loss: 0.0057536813\n",
      "Starting testing\n"
     ]
    },
    {
     "name": "stderr",
     "output_type": "stream",
     "text": [
      "\n"
     ]
    },
    {
     "name": "stdout",
     "output_type": "stream",
     "text": [
      "Correct: 7072, total: 10000, accuracy: 0.7071999907, average loss: 0.0070559121\n"
     ]
    },
    {
     "name": "stderr",
     "output_type": "stream",
     "text": [
      "391it [00:31, 12.55it/s]"
     ]
    },
    {
     "name": "stdout",
     "output_type": "stream",
     "text": [
      "Epoch 6 finished, average loss: 0.0052515640\n",
      "Starting testing\n"
     ]
    },
    {
     "name": "stderr",
     "output_type": "stream",
     "text": [
      "\n"
     ]
    },
    {
     "name": "stdout",
     "output_type": "stream",
     "text": [
      "Correct: 7109, total: 10000, accuracy: 0.7109000087, average loss: 0.0066248363\n"
     ]
    },
    {
     "name": "stderr",
     "output_type": "stream",
     "text": [
      "391it [00:30, 12.64it/s]"
     ]
    },
    {
     "name": "stdout",
     "output_type": "stream",
     "text": [
      "Epoch 7 finished, average loss: 0.0047911819\n",
      "Starting testing\n"
     ]
    },
    {
     "name": "stderr",
     "output_type": "stream",
     "text": [
      "\n"
     ]
    },
    {
     "name": "stdout",
     "output_type": "stream",
     "text": [
      "Correct: 7917, total: 10000, accuracy: 0.7917000055, average loss: 0.0048840522\n"
     ]
    },
    {
     "name": "stderr",
     "output_type": "stream",
     "text": [
      "391it [00:30, 12.86it/s]"
     ]
    },
    {
     "name": "stdout",
     "output_type": "stream",
     "text": [
      "Epoch 8 finished, average loss: 0.0044459388\n",
      "Starting testing\n"
     ]
    },
    {
     "name": "stderr",
     "output_type": "stream",
     "text": [
      "\n"
     ]
    },
    {
     "name": "stdout",
     "output_type": "stream",
     "text": [
      "Correct: 8052, total: 10000, accuracy: 0.8051999807, average loss: 0.0044799773\n"
     ]
    },
    {
     "name": "stderr",
     "output_type": "stream",
     "text": [
      "391it [00:31, 12.45it/s]"
     ]
    },
    {
     "name": "stdout",
     "output_type": "stream",
     "text": [
      "Epoch 9 finished, average loss: 0.0042803869\n",
      "Starting testing\n"
     ]
    },
    {
     "name": "stderr",
     "output_type": "stream",
     "text": [
      "\n"
     ]
    },
    {
     "name": "stdout",
     "output_type": "stream",
     "text": [
      "Correct: 7854, total: 10000, accuracy: 0.7853999734, average loss: 0.0050270259\n"
     ]
    },
    {
     "name": "stderr",
     "output_type": "stream",
     "text": [
      "391it [00:31, 12.39it/s]"
     ]
    },
    {
     "name": "stdout",
     "output_type": "stream",
     "text": [
      "Epoch 10 finished, average loss: 0.0040010243\n",
      "Starting testing\n"
     ]
    },
    {
     "name": "stderr",
     "output_type": "stream",
     "text": [
      "\n"
     ]
    },
    {
     "name": "stdout",
     "output_type": "stream",
     "text": [
      "Correct: 7908, total: 10000, accuracy: 0.7907999754, average loss: 0.0047693893\n"
     ]
    },
    {
     "name": "stderr",
     "output_type": "stream",
     "text": [
      "391it [00:31, 12.44it/s]"
     ]
    },
    {
     "name": "stdout",
     "output_type": "stream",
     "text": [
      "Epoch 11 finished, average loss: 0.0038215041\n",
      "Starting testing\n"
     ]
    },
    {
     "name": "stderr",
     "output_type": "stream",
     "text": [
      "\n"
     ]
    },
    {
     "name": "stdout",
     "output_type": "stream",
     "text": [
      "Correct: 8167, total: 10000, accuracy: 0.8166999817, average loss: 0.0043586467\n"
     ]
    },
    {
     "name": "stderr",
     "output_type": "stream",
     "text": [
      "391it [00:29, 13.42it/s]"
     ]
    },
    {
     "name": "stdout",
     "output_type": "stream",
     "text": [
      "Epoch 12 finished, average loss: 0.0036818805\n",
      "Starting testing\n"
     ]
    },
    {
     "name": "stderr",
     "output_type": "stream",
     "text": [
      "\n"
     ]
    },
    {
     "name": "stdout",
     "output_type": "stream",
     "text": [
      "Correct: 7970, total: 10000, accuracy: 0.7969999909, average loss: 0.0046940311\n"
     ]
    },
    {
     "name": "stderr",
     "output_type": "stream",
     "text": [
      "391it [00:29, 13.14it/s]"
     ]
    },
    {
     "name": "stdout",
     "output_type": "stream",
     "text": [
      "Epoch 13 finished, average loss: 0.0035264600\n",
      "Starting testing\n"
     ]
    },
    {
     "name": "stderr",
     "output_type": "stream",
     "text": [
      "\n"
     ]
    },
    {
     "name": "stdout",
     "output_type": "stream",
     "text": [
      "Correct: 7949, total: 10000, accuracy: 0.7949000001, average loss: 0.0049994393\n"
     ]
    },
    {
     "name": "stderr",
     "output_type": "stream",
     "text": [
      "391it [00:31, 12.34it/s]"
     ]
    },
    {
     "name": "stdout",
     "output_type": "stream",
     "text": [
      "Epoch 14 finished, average loss: 0.0033719582\n",
      "Starting testing\n"
     ]
    },
    {
     "name": "stderr",
     "output_type": "stream",
     "text": [
      "\n"
     ]
    },
    {
     "name": "stdout",
     "output_type": "stream",
     "text": [
      "Correct: 8435, total: 10000, accuracy: 0.8434999585, average loss: 0.0036189907\n"
     ]
    },
    {
     "name": "stderr",
     "output_type": "stream",
     "text": [
      "391it [00:31, 12.44it/s]"
     ]
    },
    {
     "name": "stdout",
     "output_type": "stream",
     "text": [
      "Epoch 15 finished, average loss: 0.0033084210\n",
      "Starting testing\n"
     ]
    },
    {
     "name": "stderr",
     "output_type": "stream",
     "text": [
      "\n"
     ]
    },
    {
     "name": "stdout",
     "output_type": "stream",
     "text": [
      "Correct: 8431, total: 10000, accuracy: 0.8430999517, average loss: 0.0037208896\n"
     ]
    },
    {
     "name": "stderr",
     "output_type": "stream",
     "text": [
      "391it [00:30, 12.94it/s]"
     ]
    },
    {
     "name": "stdout",
     "output_type": "stream",
     "text": [
      "Epoch 16 finished, average loss: 0.0032197034\n",
      "Starting testing\n"
     ]
    },
    {
     "name": "stderr",
     "output_type": "stream",
     "text": [
      "\n"
     ]
    },
    {
     "name": "stdout",
     "output_type": "stream",
     "text": [
      "Correct: 8437, total: 10000, accuracy: 0.8436999917, average loss: 0.0036197398\n"
     ]
    },
    {
     "name": "stderr",
     "output_type": "stream",
     "text": [
      "391it [00:29, 13.44it/s]"
     ]
    },
    {
     "name": "stdout",
     "output_type": "stream",
     "text": [
      "Epoch 17 finished, average loss: 0.0030834843\n",
      "Starting testing\n"
     ]
    },
    {
     "name": "stderr",
     "output_type": "stream",
     "text": [
      "\n"
     ]
    },
    {
     "name": "stdout",
     "output_type": "stream",
     "text": [
      "Correct: 8585, total: 10000, accuracy: 0.8585000038, average loss: 0.0032763283\n"
     ]
    },
    {
     "name": "stderr",
     "output_type": "stream",
     "text": [
      "391it [00:28, 13.67it/s]"
     ]
    },
    {
     "name": "stdout",
     "output_type": "stream",
     "text": [
      "Epoch 18 finished, average loss: 0.0030187253\n",
      "Starting testing\n"
     ]
    },
    {
     "name": "stderr",
     "output_type": "stream",
     "text": [
      "\n"
     ]
    },
    {
     "name": "stdout",
     "output_type": "stream",
     "text": [
      "Correct: 8535, total: 10000, accuracy: 0.8534999490, average loss: 0.0034387987\n"
     ]
    },
    {
     "name": "stderr",
     "output_type": "stream",
     "text": [
      "391it [00:28, 13.90it/s]"
     ]
    },
    {
     "name": "stdout",
     "output_type": "stream",
     "text": [
      "Epoch 19 finished, average loss: 0.0029647487\n",
      "Starting testing\n"
     ]
    },
    {
     "name": "stderr",
     "output_type": "stream",
     "text": [
      "\n"
     ]
    },
    {
     "name": "stdout",
     "output_type": "stream",
     "text": [
      "Correct: 8329, total: 10000, accuracy: 0.8328999877, average loss: 0.0041579412\n"
     ]
    },
    {
     "name": "stderr",
     "output_type": "stream",
     "text": [
      "391it [00:27, 13.97it/s]"
     ]
    },
    {
     "name": "stdout",
     "output_type": "stream",
     "text": [
      "Epoch 20 finished, average loss: 0.0028647090\n",
      "Starting testing\n"
     ]
    },
    {
     "name": "stderr",
     "output_type": "stream",
     "text": [
      "\n"
     ]
    },
    {
     "name": "stdout",
     "output_type": "stream",
     "text": [
      "Correct: 8484, total: 10000, accuracy: 0.8483999968, average loss: 0.0036326427\n"
     ]
    },
    {
     "name": "stderr",
     "output_type": "stream",
     "text": [
      "391it [00:28, 13.66it/s]"
     ]
    },
    {
     "name": "stdout",
     "output_type": "stream",
     "text": [
      "Epoch 21 finished, average loss: 0.0028143485\n",
      "Starting testing\n"
     ]
    },
    {
     "name": "stderr",
     "output_type": "stream",
     "text": [
      "\n"
     ]
    },
    {
     "name": "stdout",
     "output_type": "stream",
     "text": [
      "Correct: 8543, total: 10000, accuracy: 0.8542999625, average loss: 0.0034603801\n"
     ]
    },
    {
     "name": "stderr",
     "output_type": "stream",
     "text": [
      "391it [00:27, 14.22it/s]"
     ]
    },
    {
     "name": "stdout",
     "output_type": "stream",
     "text": [
      "Epoch 22 finished, average loss: 0.0027633942\n",
      "Starting testing\n"
     ]
    },
    {
     "name": "stderr",
     "output_type": "stream",
     "text": [
      "\n"
     ]
    },
    {
     "name": "stdout",
     "output_type": "stream",
     "text": [
      "Correct: 8504, total: 10000, accuracy: 0.8503999710, average loss: 0.0035253143\n"
     ]
    },
    {
     "name": "stderr",
     "output_type": "stream",
     "text": [
      "391it [00:27, 14.16it/s]"
     ]
    },
    {
     "name": "stdout",
     "output_type": "stream",
     "text": [
      "Epoch 23 finished, average loss: 0.0026737735\n",
      "Starting testing\n"
     ]
    },
    {
     "name": "stderr",
     "output_type": "stream",
     "text": [
      "\n"
     ]
    },
    {
     "name": "stdout",
     "output_type": "stream",
     "text": [
      "Correct: 8390, total: 10000, accuracy: 0.8389999866, average loss: 0.0038491828\n"
     ]
    },
    {
     "name": "stderr",
     "output_type": "stream",
     "text": [
      "391it [00:27, 14.29it/s]"
     ]
    },
    {
     "name": "stdout",
     "output_type": "stream",
     "text": [
      "Epoch 24 finished, average loss: 0.0026153722\n",
      "Starting testing\n"
     ]
    },
    {
     "name": "stderr",
     "output_type": "stream",
     "text": [
      "\n"
     ]
    },
    {
     "name": "stdout",
     "output_type": "stream",
     "text": [
      "Correct: 8576, total: 10000, accuracy: 0.8575999737, average loss: 0.0033774651\n"
     ]
    },
    {
     "name": "stderr",
     "output_type": "stream",
     "text": [
      "391it [00:28, 13.91it/s]"
     ]
    },
    {
     "name": "stdout",
     "output_type": "stream",
     "text": [
      "Epoch 25 finished, average loss: 0.0025712078\n",
      "Starting testing\n"
     ]
    },
    {
     "name": "stderr",
     "output_type": "stream",
     "text": [
      "\n"
     ]
    },
    {
     "name": "stdout",
     "output_type": "stream",
     "text": [
      "Correct: 8724, total: 10000, accuracy: 0.8723999858, average loss: 0.0029676676\n"
     ]
    },
    {
     "name": "stderr",
     "output_type": "stream",
     "text": [
      "391it [00:28, 13.77it/s]"
     ]
    },
    {
     "name": "stdout",
     "output_type": "stream",
     "text": [
      "Epoch 26 finished, average loss: 0.0025885834\n",
      "Starting testing\n"
     ]
    },
    {
     "name": "stderr",
     "output_type": "stream",
     "text": [
      "\n"
     ]
    },
    {
     "name": "stdout",
     "output_type": "stream",
     "text": [
      "Correct: 8243, total: 10000, accuracy: 0.8242999911, average loss: 0.0043100720\n"
     ]
    },
    {
     "name": "stderr",
     "output_type": "stream",
     "text": [
      "391it [00:27, 14.04it/s]"
     ]
    },
    {
     "name": "stdout",
     "output_type": "stream",
     "text": [
      "Epoch 27 finished, average loss: 0.0025313844\n",
      "Starting testing\n"
     ]
    },
    {
     "name": "stderr",
     "output_type": "stream",
     "text": [
      "\n"
     ]
    },
    {
     "name": "stdout",
     "output_type": "stream",
     "text": [
      "Correct: 8588, total: 10000, accuracy: 0.8587999940, average loss: 0.0033263205\n"
     ]
    },
    {
     "name": "stderr",
     "output_type": "stream",
     "text": [
      "391it [00:27, 13.97it/s]"
     ]
    },
    {
     "name": "stdout",
     "output_type": "stream",
     "text": [
      "Epoch 28 finished, average loss: 0.0024723285\n",
      "Starting testing\n"
     ]
    },
    {
     "name": "stderr",
     "output_type": "stream",
     "text": [
      "\n"
     ]
    },
    {
     "name": "stdout",
     "output_type": "stream",
     "text": [
      "Correct: 8544, total: 10000, accuracy: 0.8543999791, average loss: 0.0036839976\n"
     ]
    },
    {
     "name": "stderr",
     "output_type": "stream",
     "text": [
      "391it [00:27, 14.16it/s]"
     ]
    },
    {
     "name": "stdout",
     "output_type": "stream",
     "text": [
      "Epoch 29 finished, average loss: 0.0023942216\n",
      "Starting testing\n"
     ]
    },
    {
     "name": "stderr",
     "output_type": "stream",
     "text": [
      "\n"
     ]
    },
    {
     "name": "stdout",
     "output_type": "stream",
     "text": [
      "Correct: 8657, total: 10000, accuracy: 0.8657000065, average loss: 0.0031532528\n"
     ]
    },
    {
     "name": "stderr",
     "output_type": "stream",
     "text": [
      "391it [00:28, 13.87it/s]"
     ]
    },
    {
     "name": "stdout",
     "output_type": "stream",
     "text": [
      "Epoch 30 finished, average loss: 0.0023745901\n",
      "Starting testing\n"
     ]
    },
    {
     "name": "stderr",
     "output_type": "stream",
     "text": [
      "\n"
     ]
    },
    {
     "name": "stdout",
     "output_type": "stream",
     "text": [
      "Correct: 8741, total: 10000, accuracy: 0.8740999699, average loss: 0.0030026964\n"
     ]
    },
    {
     "name": "stderr",
     "output_type": "stream",
     "text": [
      "391it [00:28, 13.96it/s]"
     ]
    },
    {
     "name": "stdout",
     "output_type": "stream",
     "text": [
      "Epoch 31 finished, average loss: 0.0023161867\n",
      "Starting testing\n"
     ]
    },
    {
     "name": "stderr",
     "output_type": "stream",
     "text": [
      "\n"
     ]
    },
    {
     "name": "stdout",
     "output_type": "stream",
     "text": [
      "Correct: 8645, total: 10000, accuracy: 0.8644999862, average loss: 0.0032503076\n"
     ]
    },
    {
     "name": "stderr",
     "output_type": "stream",
     "text": [
      "391it [00:28, 13.78it/s]"
     ]
    },
    {
     "name": "stdout",
     "output_type": "stream",
     "text": [
      "Epoch 32 finished, average loss: 0.0023270960\n",
      "Starting testing\n"
     ]
    },
    {
     "name": "stderr",
     "output_type": "stream",
     "text": [
      "\n"
     ]
    },
    {
     "name": "stdout",
     "output_type": "stream",
     "text": [
      "Correct: 8273, total: 10000, accuracy: 0.8272999525, average loss: 0.0042345838\n"
     ]
    },
    {
     "name": "stderr",
     "output_type": "stream",
     "text": [
      "391it [00:28, 13.82it/s]"
     ]
    },
    {
     "name": "stdout",
     "output_type": "stream",
     "text": [
      "Epoch 33 finished, average loss: 0.0023004602\n",
      "Starting testing\n"
     ]
    },
    {
     "name": "stderr",
     "output_type": "stream",
     "text": [
      "\n"
     ]
    },
    {
     "name": "stdout",
     "output_type": "stream",
     "text": [
      "Correct: 8337, total: 10000, accuracy: 0.8337000012, average loss: 0.0038942881\n"
     ]
    },
    {
     "name": "stderr",
     "output_type": "stream",
     "text": [
      "391it [00:30, 12.64it/s]"
     ]
    },
    {
     "name": "stdout",
     "output_type": "stream",
     "text": [
      "Epoch 34 finished, average loss: 0.0022830275\n",
      "Starting testing\n"
     ]
    },
    {
     "name": "stderr",
     "output_type": "stream",
     "text": [
      "\n"
     ]
    },
    {
     "name": "stdout",
     "output_type": "stream",
     "text": [
      "Correct: 8816, total: 10000, accuracy: 0.8815999627, average loss: 0.0028971039\n"
     ]
    },
    {
     "name": "stderr",
     "output_type": "stream",
     "text": [
      "391it [00:31, 12.29it/s]"
     ]
    },
    {
     "name": "stdout",
     "output_type": "stream",
     "text": [
      "Epoch 35 finished, average loss: 0.0022036587\n",
      "Starting testing\n"
     ]
    },
    {
     "name": "stderr",
     "output_type": "stream",
     "text": [
      "\n"
     ]
    },
    {
     "name": "stdout",
     "output_type": "stream",
     "text": [
      "Correct: 8833, total: 10000, accuracy: 0.8833000064, average loss: 0.0026769306\n"
     ]
    },
    {
     "name": "stderr",
     "output_type": "stream",
     "text": [
      "391it [00:31, 12.57it/s]"
     ]
    },
    {
     "name": "stdout",
     "output_type": "stream",
     "text": [
      "Epoch 36 finished, average loss: 0.0022102897\n",
      "Starting testing\n"
     ]
    },
    {
     "name": "stderr",
     "output_type": "stream",
     "text": [
      "\n"
     ]
    },
    {
     "name": "stdout",
     "output_type": "stream",
     "text": [
      "Correct: 8466, total: 10000, accuracy: 0.8465999961, average loss: 0.0037771850\n"
     ]
    },
    {
     "name": "stderr",
     "output_type": "stream",
     "text": [
      "391it [00:30, 12.86it/s]"
     ]
    },
    {
     "name": "stdout",
     "output_type": "stream",
     "text": [
      "Epoch 37 finished, average loss: 0.0021705392\n",
      "Starting testing\n"
     ]
    },
    {
     "name": "stderr",
     "output_type": "stream",
     "text": [
      "\n"
     ]
    },
    {
     "name": "stdout",
     "output_type": "stream",
     "text": [
      "Correct: 8661, total: 10000, accuracy: 0.8660999537, average loss: 0.0032126577\n"
     ]
    },
    {
     "name": "stderr",
     "output_type": "stream",
     "text": [
      "391it [00:31, 12.57it/s]"
     ]
    },
    {
     "name": "stdout",
     "output_type": "stream",
     "text": [
      "Epoch 38 finished, average loss: 0.0021601226\n",
      "Starting testing\n"
     ]
    },
    {
     "name": "stderr",
     "output_type": "stream",
     "text": [
      "\n"
     ]
    },
    {
     "name": "stdout",
     "output_type": "stream",
     "text": [
      "Correct: 8569, total: 10000, accuracy: 0.8568999767, average loss: 0.0035025683\n"
     ]
    },
    {
     "name": "stderr",
     "output_type": "stream",
     "text": [
      "391it [00:30, 12.62it/s]"
     ]
    },
    {
     "name": "stdout",
     "output_type": "stream",
     "text": [
      "Epoch 39 finished, average loss: 0.0021239296\n",
      "Starting testing\n"
     ]
    },
    {
     "name": "stderr",
     "output_type": "stream",
     "text": [
      "\n"
     ]
    },
    {
     "name": "stdout",
     "output_type": "stream",
     "text": [
      "Correct: 8838, total: 10000, accuracy: 0.8837999701, average loss: 0.0028003873\n"
     ]
    },
    {
     "name": "stderr",
     "output_type": "stream",
     "text": [
      "391it [00:30, 12.83it/s]"
     ]
    },
    {
     "name": "stdout",
     "output_type": "stream",
     "text": [
      "Epoch 40 finished, average loss: 0.0021326432\n",
      "Starting testing\n"
     ]
    },
    {
     "name": "stderr",
     "output_type": "stream",
     "text": [
      "\n"
     ]
    },
    {
     "name": "stdout",
     "output_type": "stream",
     "text": [
      "Correct: 8852, total: 10000, accuracy: 0.8851999640, average loss: 0.0028450158\n"
     ]
    },
    {
     "name": "stderr",
     "output_type": "stream",
     "text": [
      "391it [00:31, 12.37it/s]"
     ]
    },
    {
     "name": "stdout",
     "output_type": "stream",
     "text": [
      "Epoch 41 finished, average loss: 0.0021021144\n",
      "Starting testing\n"
     ]
    },
    {
     "name": "stderr",
     "output_type": "stream",
     "text": [
      "\n"
     ]
    },
    {
     "name": "stdout",
     "output_type": "stream",
     "text": [
      "Correct: 8498, total: 10000, accuracy: 0.8497999907, average loss: 0.0036667886\n"
     ]
    },
    {
     "name": "stderr",
     "output_type": "stream",
     "text": [
      "391it [00:31, 12.24it/s]\n"
     ]
    },
    {
     "name": "stdout",
     "output_type": "stream",
     "text": [
      "Epoch 42 finished, average loss: 0.0020154760\n",
      "Starting testing\n",
      "Correct: 8750, total: 10000, accuracy: 0.8750000000, average loss: 0.0031410281\n"
     ]
    },
    {
     "name": "stderr",
     "output_type": "stream",
     "text": [
      "391it [00:31, 12.29it/s]"
     ]
    },
    {
     "name": "stdout",
     "output_type": "stream",
     "text": [
      "Epoch 43 finished, average loss: 0.0020781060\n",
      "Starting testing\n"
     ]
    },
    {
     "name": "stderr",
     "output_type": "stream",
     "text": [
      "\n"
     ]
    },
    {
     "name": "stdout",
     "output_type": "stream",
     "text": [
      "Correct: 8744, total: 10000, accuracy: 0.8743999600, average loss: 0.0030067372\n"
     ]
    },
    {
     "name": "stderr",
     "output_type": "stream",
     "text": [
      "391it [00:30, 12.75it/s]"
     ]
    },
    {
     "name": "stdout",
     "output_type": "stream",
     "text": [
      "Epoch 44 finished, average loss: 0.0020548237\n",
      "Starting testing\n"
     ]
    },
    {
     "name": "stderr",
     "output_type": "stream",
     "text": [
      "\n"
     ]
    },
    {
     "name": "stdout",
     "output_type": "stream",
     "text": [
      "Correct: 8798, total: 10000, accuracy: 0.8797999620, average loss: 0.0028366494\n"
     ]
    },
    {
     "name": "stderr",
     "output_type": "stream",
     "text": [
      "391it [00:30, 13.00it/s]"
     ]
    },
    {
     "name": "stdout",
     "output_type": "stream",
     "text": [
      "Epoch 45 finished, average loss: 0.0020269490\n",
      "Starting testing\n"
     ]
    },
    {
     "name": "stderr",
     "output_type": "stream",
     "text": [
      "\n"
     ]
    },
    {
     "name": "stdout",
     "output_type": "stream",
     "text": [
      "Correct: 8761, total: 10000, accuracy: 0.8761000037, average loss: 0.0030034951\n"
     ]
    },
    {
     "name": "stderr",
     "output_type": "stream",
     "text": [
      "391it [00:28, 13.77it/s]"
     ]
    },
    {
     "name": "stdout",
     "output_type": "stream",
     "text": [
      "Epoch 46 finished, average loss: 0.0020375126\n",
      "Starting testing\n"
     ]
    },
    {
     "name": "stderr",
     "output_type": "stream",
     "text": [
      "\n"
     ]
    },
    {
     "name": "stdout",
     "output_type": "stream",
     "text": [
      "Correct: 8754, total: 10000, accuracy: 0.8754000068, average loss: 0.0028891263\n"
     ]
    },
    {
     "name": "stderr",
     "output_type": "stream",
     "text": [
      "391it [00:30, 12.99it/s]"
     ]
    },
    {
     "name": "stdout",
     "output_type": "stream",
     "text": [
      "Epoch 47 finished, average loss: 0.0019965467\n",
      "Starting testing\n"
     ]
    },
    {
     "name": "stderr",
     "output_type": "stream",
     "text": [
      "\n"
     ]
    },
    {
     "name": "stdout",
     "output_type": "stream",
     "text": [
      "Correct: 8762, total: 10000, accuracy: 0.8761999607, average loss: 0.0029394713\n"
     ]
    },
    {
     "name": "stderr",
     "output_type": "stream",
     "text": [
      "391it [00:27, 14.05it/s]"
     ]
    },
    {
     "name": "stdout",
     "output_type": "stream",
     "text": [
      "Epoch 48 finished, average loss: 0.0019995578\n",
      "Starting testing\n"
     ]
    },
    {
     "name": "stderr",
     "output_type": "stream",
     "text": [
      "\n"
     ]
    },
    {
     "name": "stdout",
     "output_type": "stream",
     "text": [
      "Correct: 8776, total: 10000, accuracy: 0.8775999546, average loss: 0.0028198609\n"
     ]
    },
    {
     "name": "stderr",
     "output_type": "stream",
     "text": [
      "391it [00:27, 14.07it/s]\n"
     ]
    },
    {
     "name": "stdout",
     "output_type": "stream",
     "text": [
      "Epoch 49 finished, average loss: 0.0019879772\n",
      "Starting testing\n",
      "Correct: 8789, total: 10000, accuracy: 0.8788999915, average loss: 0.0027998627\n"
     ]
    },
    {
     "name": "stderr",
     "output_type": "stream",
     "text": [
      "391it [00:27, 14.12it/s]"
     ]
    },
    {
     "name": "stdout",
     "output_type": "stream",
     "text": [
      "Epoch 50 finished, average loss: 0.0019301046\n",
      "Starting testing\n"
     ]
    },
    {
     "name": "stderr",
     "output_type": "stream",
     "text": [
      "\n"
     ]
    },
    {
     "name": "stdout",
     "output_type": "stream",
     "text": [
      "Correct: 8834, total: 10000, accuracy: 0.8833999634, average loss: 0.0028137840\n"
     ]
    },
    {
     "name": "stderr",
     "output_type": "stream",
     "text": [
      "391it [00:27, 14.14it/s]"
     ]
    },
    {
     "name": "stdout",
     "output_type": "stream",
     "text": [
      "Epoch 51 finished, average loss: 0.0019896856\n",
      "Starting testing\n"
     ]
    },
    {
     "name": "stderr",
     "output_type": "stream",
     "text": [
      "\n"
     ]
    },
    {
     "name": "stdout",
     "output_type": "stream",
     "text": [
      "Correct: 8911, total: 10000, accuracy: 0.8910999894, average loss: 0.0024635562\n"
     ]
    },
    {
     "name": "stderr",
     "output_type": "stream",
     "text": [
      "391it [00:27, 14.13it/s]"
     ]
    },
    {
     "name": "stdout",
     "output_type": "stream",
     "text": [
      "Epoch 52 finished, average loss: 0.0018992691\n",
      "Starting testing\n"
     ]
    },
    {
     "name": "stderr",
     "output_type": "stream",
     "text": [
      "\n"
     ]
    },
    {
     "name": "stdout",
     "output_type": "stream",
     "text": [
      "Correct: 8654, total: 10000, accuracy: 0.8653999567, average loss: 0.0032224169\n"
     ]
    },
    {
     "name": "stderr",
     "output_type": "stream",
     "text": [
      "391it [00:27, 14.18it/s]"
     ]
    },
    {
     "name": "stdout",
     "output_type": "stream",
     "text": [
      "Epoch 53 finished, average loss: 0.0019014987\n",
      "Starting testing\n"
     ]
    },
    {
     "name": "stderr",
     "output_type": "stream",
     "text": [
      "\n"
     ]
    },
    {
     "name": "stdout",
     "output_type": "stream",
     "text": [
      "Correct: 8800, total: 10000, accuracy: 0.8799999952, average loss: 0.0027945890\n"
     ]
    },
    {
     "name": "stderr",
     "output_type": "stream",
     "text": [
      "391it [00:28, 13.88it/s]"
     ]
    },
    {
     "name": "stdout",
     "output_type": "stream",
     "text": [
      "Epoch 54 finished, average loss: 0.0018806993\n",
      "Starting testing\n"
     ]
    },
    {
     "name": "stderr",
     "output_type": "stream",
     "text": [
      "\n"
     ]
    },
    {
     "name": "stdout",
     "output_type": "stream",
     "text": [
      "Correct: 8840, total: 10000, accuracy: 0.8840000033, average loss: 0.0028105116\n"
     ]
    },
    {
     "name": "stderr",
     "output_type": "stream",
     "text": [
      "391it [00:28, 13.89it/s]"
     ]
    },
    {
     "name": "stdout",
     "output_type": "stream",
     "text": [
      "Epoch 55 finished, average loss: 0.0018809546\n",
      "Starting testing\n"
     ]
    },
    {
     "name": "stderr",
     "output_type": "stream",
     "text": [
      "\n"
     ]
    },
    {
     "name": "stdout",
     "output_type": "stream",
     "text": [
      "Correct: 8844, total: 10000, accuracy: 0.8843999505, average loss: 0.0026997788\n"
     ]
    },
    {
     "name": "stderr",
     "output_type": "stream",
     "text": [
      "391it [00:28, 13.50it/s]"
     ]
    },
    {
     "name": "stdout",
     "output_type": "stream",
     "text": [
      "Epoch 56 finished, average loss: 0.0018852178\n",
      "Starting testing\n"
     ]
    },
    {
     "name": "stderr",
     "output_type": "stream",
     "text": [
      "\n"
     ]
    },
    {
     "name": "stdout",
     "output_type": "stream",
     "text": [
      "Correct: 8740, total: 10000, accuracy: 0.8739999533, average loss: 0.0031683931\n"
     ]
    },
    {
     "name": "stderr",
     "output_type": "stream",
     "text": [
      "391it [00:28, 13.64it/s]"
     ]
    },
    {
     "name": "stdout",
     "output_type": "stream",
     "text": [
      "Epoch 57 finished, average loss: 0.0018645222\n",
      "Starting testing\n"
     ]
    },
    {
     "name": "stderr",
     "output_type": "stream",
     "text": [
      "\n"
     ]
    },
    {
     "name": "stdout",
     "output_type": "stream",
     "text": [
      "Correct: 8893, total: 10000, accuracy: 0.8892999887, average loss: 0.0026461058\n"
     ]
    },
    {
     "name": "stderr",
     "output_type": "stream",
     "text": [
      "391it [00:28, 13.71it/s]"
     ]
    },
    {
     "name": "stdout",
     "output_type": "stream",
     "text": [
      "Epoch 58 finished, average loss: 0.0018834046\n",
      "Starting testing\n"
     ]
    },
    {
     "name": "stderr",
     "output_type": "stream",
     "text": [
      "\n"
     ]
    },
    {
     "name": "stdout",
     "output_type": "stream",
     "text": [
      "Correct: 8843, total: 10000, accuracy: 0.8842999935, average loss: 0.0027481584\n"
     ]
    },
    {
     "name": "stderr",
     "output_type": "stream",
     "text": [
      "391it [00:28, 13.64it/s]"
     ]
    },
    {
     "name": "stdout",
     "output_type": "stream",
     "text": [
      "Epoch 59 finished, average loss: 0.0018360299\n",
      "Starting testing\n"
     ]
    },
    {
     "name": "stderr",
     "output_type": "stream",
     "text": [
      "\n"
     ]
    },
    {
     "name": "stdout",
     "output_type": "stream",
     "text": [
      "Correct: 8860, total: 10000, accuracy: 0.8859999776, average loss: 0.0027704199\n"
     ]
    },
    {
     "name": "stderr",
     "output_type": "stream",
     "text": [
      "391it [00:30, 12.90it/s]"
     ]
    },
    {
     "name": "stdout",
     "output_type": "stream",
     "text": [
      "Epoch 60 finished, average loss: 0.0018510402\n",
      "Starting testing\n"
     ]
    },
    {
     "name": "stderr",
     "output_type": "stream",
     "text": [
      "\n"
     ]
    },
    {
     "name": "stdout",
     "output_type": "stream",
     "text": [
      "Correct: 8917, total: 10000, accuracy: 0.8916999698, average loss: 0.0025431607\n"
     ]
    },
    {
     "name": "stderr",
     "output_type": "stream",
     "text": [
      "391it [00:30, 13.02it/s]\n"
     ]
    },
    {
     "name": "stdout",
     "output_type": "stream",
     "text": [
      "Epoch 61 finished, average loss: 0.0018137140\n",
      "Starting testing\n",
      "Correct: 8837, total: 10000, accuracy: 0.8836999536, average loss: 0.0028068865\n"
     ]
    },
    {
     "name": "stderr",
     "output_type": "stream",
     "text": [
      "391it [00:27, 14.03it/s]"
     ]
    },
    {
     "name": "stdout",
     "output_type": "stream",
     "text": [
      "Epoch 62 finished, average loss: 0.0018024841\n",
      "Starting testing\n"
     ]
    },
    {
     "name": "stderr",
     "output_type": "stream",
     "text": [
      "\n"
     ]
    },
    {
     "name": "stdout",
     "output_type": "stream",
     "text": [
      "Correct: 8763, total: 10000, accuracy: 0.8762999773, average loss: 0.0030170048\n"
     ]
    },
    {
     "name": "stderr",
     "output_type": "stream",
     "text": [
      "391it [00:27, 13.97it/s]\n"
     ]
    },
    {
     "name": "stdout",
     "output_type": "stream",
     "text": [
      "Epoch 63 finished, average loss: 0.0018359901\n",
      "Starting testing\n",
      "Correct: 8825, total: 10000, accuracy: 0.8824999928, average loss: 0.0027801688\n"
     ]
    },
    {
     "name": "stderr",
     "output_type": "stream",
     "text": [
      "391it [00:28, 13.91it/s]"
     ]
    },
    {
     "name": "stdout",
     "output_type": "stream",
     "text": [
      "Epoch 64 finished, average loss: 0.0017768081\n",
      "Starting testing\n"
     ]
    },
    {
     "name": "stderr",
     "output_type": "stream",
     "text": [
      "\n"
     ]
    },
    {
     "name": "stdout",
     "output_type": "stream",
     "text": [
      "Correct: 8849, total: 10000, accuracy: 0.8848999739, average loss: 0.0027718944\n"
     ]
    },
    {
     "name": "stderr",
     "output_type": "stream",
     "text": [
      "391it [00:28, 13.71it/s]"
     ]
    },
    {
     "name": "stdout",
     "output_type": "stream",
     "text": [
      "Epoch 65 finished, average loss: 0.0017571665\n",
      "Starting testing\n"
     ]
    },
    {
     "name": "stderr",
     "output_type": "stream",
     "text": [
      "\n"
     ]
    },
    {
     "name": "stdout",
     "output_type": "stream",
     "text": [
      "Correct: 8736, total: 10000, accuracy: 0.8736000061, average loss: 0.0032355358\n"
     ]
    },
    {
     "name": "stderr",
     "output_type": "stream",
     "text": [
      "391it [00:30, 12.65it/s]"
     ]
    },
    {
     "name": "stdout",
     "output_type": "stream",
     "text": [
      "Epoch 66 finished, average loss: 0.0017705605\n",
      "Starting testing\n"
     ]
    },
    {
     "name": "stderr",
     "output_type": "stream",
     "text": [
      "\n"
     ]
    },
    {
     "name": "stdout",
     "output_type": "stream",
     "text": [
      "Correct: 8877, total: 10000, accuracy: 0.8876999617, average loss: 0.0027512746\n"
     ]
    },
    {
     "name": "stderr",
     "output_type": "stream",
     "text": [
      "391it [00:28, 13.88it/s]"
     ]
    },
    {
     "name": "stdout",
     "output_type": "stream",
     "text": [
      "Epoch 67 finished, average loss: 0.0017852560\n",
      "Starting testing\n"
     ]
    },
    {
     "name": "stderr",
     "output_type": "stream",
     "text": [
      "\n"
     ]
    },
    {
     "name": "stdout",
     "output_type": "stream",
     "text": [
      "Correct: 8824, total: 10000, accuracy: 0.8823999763, average loss: 0.0027016748\n"
     ]
    },
    {
     "name": "stderr",
     "output_type": "stream",
     "text": [
      "391it [00:28, 13.91it/s]"
     ]
    },
    {
     "name": "stdout",
     "output_type": "stream",
     "text": [
      "Epoch 68 finished, average loss: 0.0017517391\n",
      "Starting testing\n"
     ]
    },
    {
     "name": "stderr",
     "output_type": "stream",
     "text": [
      "\n"
     ]
    },
    {
     "name": "stdout",
     "output_type": "stream",
     "text": [
      "Correct: 8683, total: 10000, accuracy: 0.8682999611, average loss: 0.0033885890\n"
     ]
    },
    {
     "name": "stderr",
     "output_type": "stream",
     "text": [
      "391it [00:30, 12.76it/s]"
     ]
    },
    {
     "name": "stdout",
     "output_type": "stream",
     "text": [
      "Epoch 69 finished, average loss: 0.0017806563\n",
      "Starting testing\n"
     ]
    },
    {
     "name": "stderr",
     "output_type": "stream",
     "text": [
      "\n"
     ]
    },
    {
     "name": "stdout",
     "output_type": "stream",
     "text": [
      "Correct: 8756, total: 10000, accuracy: 0.8755999804, average loss: 0.0029105252\n"
     ]
    },
    {
     "name": "stderr",
     "output_type": "stream",
     "text": [
      "391it [00:31, 12.29it/s]"
     ]
    },
    {
     "name": "stdout",
     "output_type": "stream",
     "text": [
      "Epoch 70 finished, average loss: 0.0017132015\n",
      "Starting testing\n"
     ]
    },
    {
     "name": "stderr",
     "output_type": "stream",
     "text": [
      "\n"
     ]
    },
    {
     "name": "stdout",
     "output_type": "stream",
     "text": [
      "Correct: 8849, total: 10000, accuracy: 0.8848999739, average loss: 0.0027710753\n"
     ]
    },
    {
     "name": "stderr",
     "output_type": "stream",
     "text": [
      "391it [00:31, 12.57it/s]"
     ]
    },
    {
     "name": "stdout",
     "output_type": "stream",
     "text": [
      "Epoch 71 finished, average loss: 0.0017926044\n",
      "Starting testing\n"
     ]
    },
    {
     "name": "stderr",
     "output_type": "stream",
     "text": [
      "\n"
     ]
    },
    {
     "name": "stdout",
     "output_type": "stream",
     "text": [
      "Correct: 8770, total: 10000, accuracy: 0.8769999743, average loss: 0.0029137854\n"
     ]
    },
    {
     "name": "stderr",
     "output_type": "stream",
     "text": [
      "391it [00:30, 12.88it/s]"
     ]
    },
    {
     "name": "stdout",
     "output_type": "stream",
     "text": [
      "Epoch 72 finished, average loss: 0.0017077202\n",
      "Starting testing\n"
     ]
    },
    {
     "name": "stderr",
     "output_type": "stream",
     "text": [
      "\n"
     ]
    },
    {
     "name": "stdout",
     "output_type": "stream",
     "text": [
      "Correct: 8594, total: 10000, accuracy: 0.8593999743, average loss: 0.0033570336\n"
     ]
    },
    {
     "name": "stderr",
     "output_type": "stream",
     "text": [
      "391it [00:30, 12.81it/s]"
     ]
    },
    {
     "name": "stdout",
     "output_type": "stream",
     "text": [
      "Epoch 73 finished, average loss: 0.0016842355\n",
      "Starting testing\n"
     ]
    },
    {
     "name": "stderr",
     "output_type": "stream",
     "text": [
      "\n"
     ]
    },
    {
     "name": "stdout",
     "output_type": "stream",
     "text": [
      "Correct: 8883, total: 10000, accuracy: 0.8883000016, average loss: 0.0026705427\n"
     ]
    },
    {
     "name": "stderr",
     "output_type": "stream",
     "text": [
      "391it [00:31, 12.52it/s]"
     ]
    },
    {
     "name": "stdout",
     "output_type": "stream",
     "text": [
      "Epoch 74 finished, average loss: 0.0017272353\n",
      "Starting testing\n"
     ]
    },
    {
     "name": "stderr",
     "output_type": "stream",
     "text": [
      "\n"
     ]
    },
    {
     "name": "stdout",
     "output_type": "stream",
     "text": [
      "Correct: 8893, total: 10000, accuracy: 0.8892999887, average loss: 0.0027030815\n"
     ]
    },
    {
     "name": "stderr",
     "output_type": "stream",
     "text": [
      "391it [00:31, 12.46it/s]"
     ]
    },
    {
     "name": "stdout",
     "output_type": "stream",
     "text": [
      "Epoch 75 finished, average loss: 0.0017168323\n",
      "Starting testing\n"
     ]
    },
    {
     "name": "stderr",
     "output_type": "stream",
     "text": [
      "\n"
     ]
    },
    {
     "name": "stdout",
     "output_type": "stream",
     "text": [
      "Correct: 8916, total: 10000, accuracy: 0.8915999532, average loss: 0.0025631564\n"
     ]
    },
    {
     "name": "stderr",
     "output_type": "stream",
     "text": [
      "391it [00:30, 12.75it/s]"
     ]
    },
    {
     "name": "stdout",
     "output_type": "stream",
     "text": [
      "Epoch 76 finished, average loss: 0.0016947577\n",
      "Starting testing\n"
     ]
    },
    {
     "name": "stderr",
     "output_type": "stream",
     "text": [
      "\n"
     ]
    },
    {
     "name": "stdout",
     "output_type": "stream",
     "text": [
      "Correct: 8837, total: 10000, accuracy: 0.8836999536, average loss: 0.0026768162\n"
     ]
    },
    {
     "name": "stderr",
     "output_type": "stream",
     "text": [
      "391it [00:30, 12.70it/s]"
     ]
    },
    {
     "name": "stdout",
     "output_type": "stream",
     "text": [
      "Epoch 77 finished, average loss: 0.0017512594\n",
      "Starting testing\n"
     ]
    },
    {
     "name": "stderr",
     "output_type": "stream",
     "text": [
      "\n"
     ]
    },
    {
     "name": "stdout",
     "output_type": "stream",
     "text": [
      "Correct: 8890, total: 10000, accuracy: 0.8889999986, average loss: 0.0027547198\n"
     ]
    },
    {
     "name": "stderr",
     "output_type": "stream",
     "text": [
      "391it [00:30, 12.83it/s]"
     ]
    },
    {
     "name": "stdout",
     "output_type": "stream",
     "text": [
      "Epoch 78 finished, average loss: 0.0016993033\n",
      "Starting testing\n"
     ]
    },
    {
     "name": "stderr",
     "output_type": "stream",
     "text": [
      "\n"
     ]
    },
    {
     "name": "stdout",
     "output_type": "stream",
     "text": [
      "Correct: 8902, total: 10000, accuracy: 0.8901999593, average loss: 0.0026011891\n"
     ]
    },
    {
     "name": "stderr",
     "output_type": "stream",
     "text": [
      "391it [00:30, 12.96it/s]"
     ]
    },
    {
     "name": "stdout",
     "output_type": "stream",
     "text": [
      "Epoch 79 finished, average loss: 0.0016359355\n",
      "Starting testing\n"
     ]
    },
    {
     "name": "stderr",
     "output_type": "stream",
     "text": [
      "\n"
     ]
    },
    {
     "name": "stdout",
     "output_type": "stream",
     "text": [
      "Correct: 8757, total: 10000, accuracy: 0.8756999969, average loss: 0.0028907329\n"
     ]
    },
    {
     "name": "stderr",
     "output_type": "stream",
     "text": [
      "391it [00:29, 13.42it/s]"
     ]
    },
    {
     "name": "stdout",
     "output_type": "stream",
     "text": [
      "Epoch 80 finished, average loss: 0.0017017846\n",
      "Starting testing\n"
     ]
    },
    {
     "name": "stderr",
     "output_type": "stream",
     "text": [
      "\n"
     ]
    },
    {
     "name": "stdout",
     "output_type": "stream",
     "text": [
      "Correct: 8909, total: 10000, accuracy: 0.8908999562, average loss: 0.0026016730\n"
     ]
    },
    {
     "name": "stderr",
     "output_type": "stream",
     "text": [
      "391it [00:28, 13.84it/s]"
     ]
    },
    {
     "name": "stdout",
     "output_type": "stream",
     "text": [
      "Epoch 81 finished, average loss: 0.0016729009\n",
      "Starting testing\n"
     ]
    },
    {
     "name": "stderr",
     "output_type": "stream",
     "text": [
      "\n"
     ]
    },
    {
     "name": "stdout",
     "output_type": "stream",
     "text": [
      "Correct: 8837, total: 10000, accuracy: 0.8836999536, average loss: 0.0028796831\n"
     ]
    },
    {
     "name": "stderr",
     "output_type": "stream",
     "text": [
      "391it [00:28, 13.92it/s]"
     ]
    },
    {
     "name": "stdout",
     "output_type": "stream",
     "text": [
      "Epoch 82 finished, average loss: 0.0016758024\n",
      "Starting testing\n"
     ]
    },
    {
     "name": "stderr",
     "output_type": "stream",
     "text": [
      "\n"
     ]
    },
    {
     "name": "stdout",
     "output_type": "stream",
     "text": [
      "Correct: 8918, total: 10000, accuracy: 0.8917999864, average loss: 0.0025386576\n"
     ]
    },
    {
     "name": "stderr",
     "output_type": "stream",
     "text": [
      "391it [00:27, 14.09it/s]"
     ]
    },
    {
     "name": "stdout",
     "output_type": "stream",
     "text": [
      "Epoch 83 finished, average loss: 0.0017063939\n",
      "Starting testing\n"
     ]
    },
    {
     "name": "stderr",
     "output_type": "stream",
     "text": [
      "\n"
     ]
    },
    {
     "name": "stdout",
     "output_type": "stream",
     "text": [
      "Correct: 8775, total: 10000, accuracy: 0.8774999976, average loss: 0.0029515781\n"
     ]
    },
    {
     "name": "stderr",
     "output_type": "stream",
     "text": [
      "391it [00:28, 13.89it/s]"
     ]
    },
    {
     "name": "stdout",
     "output_type": "stream",
     "text": [
      "Epoch 84 finished, average loss: 0.0016100293\n",
      "Starting testing\n"
     ]
    },
    {
     "name": "stderr",
     "output_type": "stream",
     "text": [
      "\n"
     ]
    },
    {
     "name": "stdout",
     "output_type": "stream",
     "text": [
      "Correct: 8939, total: 10000, accuracy: 0.8938999772, average loss: 0.0024417383\n"
     ]
    },
    {
     "name": "stderr",
     "output_type": "stream",
     "text": [
      "391it [00:31, 12.46it/s]"
     ]
    },
    {
     "name": "stdout",
     "output_type": "stream",
     "text": [
      "Epoch 85 finished, average loss: 0.0016689624\n",
      "Starting testing\n"
     ]
    },
    {
     "name": "stderr",
     "output_type": "stream",
     "text": [
      "\n"
     ]
    },
    {
     "name": "stdout",
     "output_type": "stream",
     "text": [
      "Correct: 8964, total: 10000, accuracy: 0.8963999748, average loss: 0.0024711596\n"
     ]
    },
    {
     "name": "stderr",
     "output_type": "stream",
     "text": [
      "391it [00:31, 12.41it/s]"
     ]
    },
    {
     "name": "stdout",
     "output_type": "stream",
     "text": [
      "Epoch 86 finished, average loss: 0.0016105888\n",
      "Starting testing\n"
     ]
    },
    {
     "name": "stderr",
     "output_type": "stream",
     "text": [
      "\n"
     ]
    },
    {
     "name": "stdout",
     "output_type": "stream",
     "text": [
      "Correct: 8827, total: 10000, accuracy: 0.8826999664, average loss: 0.0027157263\n"
     ]
    },
    {
     "name": "stderr",
     "output_type": "stream",
     "text": [
      "391it [00:29, 13.43it/s]"
     ]
    },
    {
     "name": "stdout",
     "output_type": "stream",
     "text": [
      "Epoch 87 finished, average loss: 0.0015635744\n",
      "Starting testing\n"
     ]
    },
    {
     "name": "stderr",
     "output_type": "stream",
     "text": [
      "\n"
     ]
    },
    {
     "name": "stdout",
     "output_type": "stream",
     "text": [
      "Correct: 8707, total: 10000, accuracy: 0.8707000017, average loss: 0.0032361974\n"
     ]
    },
    {
     "name": "stderr",
     "output_type": "stream",
     "text": [
      "391it [00:28, 13.94it/s]"
     ]
    },
    {
     "name": "stdout",
     "output_type": "stream",
     "text": [
      "Epoch 88 finished, average loss: 0.0016453020\n",
      "Starting testing\n"
     ]
    },
    {
     "name": "stderr",
     "output_type": "stream",
     "text": [
      "\n"
     ]
    },
    {
     "name": "stdout",
     "output_type": "stream",
     "text": [
      "Correct: 8835, total: 10000, accuracy: 0.8834999800, average loss: 0.0029639668\n"
     ]
    },
    {
     "name": "stderr",
     "output_type": "stream",
     "text": [
      "391it [00:28, 13.68it/s]"
     ]
    },
    {
     "name": "stdout",
     "output_type": "stream",
     "text": [
      "Epoch 89 finished, average loss: 0.0016254621\n",
      "Starting testing\n"
     ]
    },
    {
     "name": "stderr",
     "output_type": "stream",
     "text": [
      "\n"
     ]
    },
    {
     "name": "stdout",
     "output_type": "stream",
     "text": [
      "Correct: 8963, total: 10000, accuracy: 0.8962999582, average loss: 0.0025879535\n"
     ]
    },
    {
     "name": "stderr",
     "output_type": "stream",
     "text": [
      "391it [00:27, 14.05it/s]"
     ]
    },
    {
     "name": "stdout",
     "output_type": "stream",
     "text": [
      "Epoch 90 finished, average loss: 0.0015658740\n",
      "Starting testing\n"
     ]
    },
    {
     "name": "stderr",
     "output_type": "stream",
     "text": [
      "\n"
     ]
    },
    {
     "name": "stdout",
     "output_type": "stream",
     "text": [
      "Correct: 8887, total: 10000, accuracy: 0.8886999488, average loss: 0.0026910830\n"
     ]
    },
    {
     "name": "stderr",
     "output_type": "stream",
     "text": [
      "391it [00:30, 12.81it/s]"
     ]
    },
    {
     "name": "stdout",
     "output_type": "stream",
     "text": [
      "Epoch 91 finished, average loss: 0.0016236928\n",
      "Starting testing\n"
     ]
    },
    {
     "name": "stderr",
     "output_type": "stream",
     "text": [
      "\n"
     ]
    },
    {
     "name": "stdout",
     "output_type": "stream",
     "text": [
      "Correct: 8950, total: 10000, accuracy: 0.8949999809, average loss: 0.0026173468\n"
     ]
    },
    {
     "name": "stderr",
     "output_type": "stream",
     "text": [
      "391it [00:31, 12.38it/s]"
     ]
    },
    {
     "name": "stdout",
     "output_type": "stream",
     "text": [
      "Epoch 92 finished, average loss: 0.0016216216\n",
      "Starting testing\n"
     ]
    },
    {
     "name": "stderr",
     "output_type": "stream",
     "text": [
      "\n"
     ]
    },
    {
     "name": "stdout",
     "output_type": "stream",
     "text": [
      "Correct: 8721, total: 10000, accuracy: 0.8720999956, average loss: 0.0032682032\n"
     ]
    },
    {
     "name": "stderr",
     "output_type": "stream",
     "text": [
      "391it [00:31, 12.35it/s]"
     ]
    },
    {
     "name": "stdout",
     "output_type": "stream",
     "text": [
      "Epoch 93 finished, average loss: 0.0015876125\n",
      "Starting testing\n"
     ]
    },
    {
     "name": "stderr",
     "output_type": "stream",
     "text": [
      "\n"
     ]
    },
    {
     "name": "stdout",
     "output_type": "stream",
     "text": [
      "Correct: 8925, total: 10000, accuracy: 0.8924999833, average loss: 0.0026167653\n"
     ]
    },
    {
     "name": "stderr",
     "output_type": "stream",
     "text": [
      "391it [00:31, 12.42it/s]"
     ]
    },
    {
     "name": "stdout",
     "output_type": "stream",
     "text": [
      "Epoch 94 finished, average loss: 0.0015907731\n",
      "Starting testing\n"
     ]
    },
    {
     "name": "stderr",
     "output_type": "stream",
     "text": [
      "\n"
     ]
    },
    {
     "name": "stdout",
     "output_type": "stream",
     "text": [
      "Correct: 8901, total: 10000, accuracy: 0.8901000023, average loss: 0.0026815222\n"
     ]
    },
    {
     "name": "stderr",
     "output_type": "stream",
     "text": [
      "391it [00:29, 13.41it/s]"
     ]
    },
    {
     "name": "stdout",
     "output_type": "stream",
     "text": [
      "Epoch 95 finished, average loss: 0.0015799393\n",
      "Starting testing\n"
     ]
    },
    {
     "name": "stderr",
     "output_type": "stream",
     "text": [
      "\n"
     ]
    },
    {
     "name": "stdout",
     "output_type": "stream",
     "text": [
      "Correct: 8979, total: 10000, accuracy: 0.8978999853, average loss: 0.0024440449\n"
     ]
    },
    {
     "name": "stderr",
     "output_type": "stream",
     "text": [
      "391it [00:28, 13.74it/s]"
     ]
    },
    {
     "name": "stdout",
     "output_type": "stream",
     "text": [
      "Epoch 96 finished, average loss: 0.0015811117\n",
      "Starting testing\n"
     ]
    },
    {
     "name": "stderr",
     "output_type": "stream",
     "text": [
      "\n"
     ]
    },
    {
     "name": "stdout",
     "output_type": "stream",
     "text": [
      "Correct: 9030, total: 10000, accuracy: 0.9029999971, average loss: 0.0022180864\n"
     ]
    },
    {
     "name": "stderr",
     "output_type": "stream",
     "text": [
      "391it [00:29, 13.27it/s]"
     ]
    },
    {
     "name": "stdout",
     "output_type": "stream",
     "text": [
      "Epoch 97 finished, average loss: 0.0016118568\n",
      "Starting testing\n"
     ]
    },
    {
     "name": "stderr",
     "output_type": "stream",
     "text": [
      "\n"
     ]
    },
    {
     "name": "stdout",
     "output_type": "stream",
     "text": [
      "Correct: 9011, total: 10000, accuracy: 0.9010999799, average loss: 0.0024068332\n"
     ]
    },
    {
     "name": "stderr",
     "output_type": "stream",
     "text": [
      "391it [00:31, 12.60it/s]"
     ]
    },
    {
     "name": "stdout",
     "output_type": "stream",
     "text": [
      "Epoch 98 finished, average loss: 0.0015793548\n",
      "Starting testing\n"
     ]
    },
    {
     "name": "stderr",
     "output_type": "stream",
     "text": [
      "\n"
     ]
    },
    {
     "name": "stdout",
     "output_type": "stream",
     "text": [
      "Correct: 8899, total: 10000, accuracy: 0.8898999691, average loss: 0.0026777454\n"
     ]
    },
    {
     "name": "stderr",
     "output_type": "stream",
     "text": [
      "391it [00:31, 12.47it/s]"
     ]
    },
    {
     "name": "stdout",
     "output_type": "stream",
     "text": [
      "Epoch 99 finished, average loss: 0.0016048553\n",
      "Starting testing\n"
     ]
    },
    {
     "name": "stderr",
     "output_type": "stream",
     "text": [
      "\n"
     ]
    },
    {
     "name": "stdout",
     "output_type": "stream",
     "text": [
      "Correct: 9018, total: 10000, accuracy: 0.9017999768, average loss: 0.0022604483\n"
     ]
    },
    {
     "name": "stderr",
     "output_type": "stream",
     "text": [
      "391it [00:30, 12.65it/s]"
     ]
    },
    {
     "name": "stdout",
     "output_type": "stream",
     "text": [
      "Epoch 100 finished, average loss: 0.0015800596\n",
      "Starting testing\n"
     ]
    },
    {
     "name": "stderr",
     "output_type": "stream",
     "text": [
      "\n"
     ]
    },
    {
     "name": "stdout",
     "output_type": "stream",
     "text": [
      "Correct: 8964, total: 10000, accuracy: 0.8963999748, average loss: 0.0023798850\n"
     ]
    },
    {
     "name": "stderr",
     "output_type": "stream",
     "text": [
      "391it [00:31, 12.43it/s]"
     ]
    },
    {
     "name": "stdout",
     "output_type": "stream",
     "text": [
      "Epoch 101 finished, average loss: 0.0015701700\n",
      "Starting testing\n"
     ]
    },
    {
     "name": "stderr",
     "output_type": "stream",
     "text": [
      "\n"
     ]
    },
    {
     "name": "stdout",
     "output_type": "stream",
     "text": [
      "Correct: 9030, total: 10000, accuracy: 0.9029999971, average loss: 0.0023542096\n"
     ]
    },
    {
     "name": "stderr",
     "output_type": "stream",
     "text": [
      "391it [00:31, 12.44it/s]"
     ]
    },
    {
     "name": "stdout",
     "output_type": "stream",
     "text": [
      "Epoch 102 finished, average loss: 0.0015460963\n",
      "Starting testing\n"
     ]
    },
    {
     "name": "stderr",
     "output_type": "stream",
     "text": [
      "\n"
     ]
    },
    {
     "name": "stdout",
     "output_type": "stream",
     "text": [
      "Correct: 9032, total: 10000, accuracy: 0.9031999707, average loss: 0.0023697433\n"
     ]
    },
    {
     "name": "stderr",
     "output_type": "stream",
     "text": [
      "391it [00:30, 12.74it/s]"
     ]
    },
    {
     "name": "stdout",
     "output_type": "stream",
     "text": [
      "Epoch 103 finished, average loss: 0.0015393361\n",
      "Starting testing\n"
     ]
    },
    {
     "name": "stderr",
     "output_type": "stream",
     "text": [
      "\n"
     ]
    },
    {
     "name": "stdout",
     "output_type": "stream",
     "text": [
      "Correct: 8742, total: 10000, accuracy: 0.8741999865, average loss: 0.0031702720\n"
     ]
    },
    {
     "name": "stderr",
     "output_type": "stream",
     "text": [
      "391it [00:28, 13.64it/s]"
     ]
    },
    {
     "name": "stdout",
     "output_type": "stream",
     "text": [
      "Epoch 104 finished, average loss: 0.0015957663\n",
      "Starting testing\n"
     ]
    },
    {
     "name": "stderr",
     "output_type": "stream",
     "text": [
      "\n"
     ]
    },
    {
     "name": "stdout",
     "output_type": "stream",
     "text": [
      "Correct: 8902, total: 10000, accuracy: 0.8901999593, average loss: 0.0028257970\n"
     ]
    },
    {
     "name": "stderr",
     "output_type": "stream",
     "text": [
      "391it [00:28, 13.93it/s]"
     ]
    },
    {
     "name": "stdout",
     "output_type": "stream",
     "text": [
      "Epoch 105 finished, average loss: 0.0015843199\n",
      "Starting testing\n"
     ]
    },
    {
     "name": "stderr",
     "output_type": "stream",
     "text": [
      "\n"
     ]
    },
    {
     "name": "stdout",
     "output_type": "stream",
     "text": [
      "Correct: 8956, total: 10000, accuracy: 0.8955999613, average loss: 0.0024876606\n"
     ]
    },
    {
     "name": "stderr",
     "output_type": "stream",
     "text": [
      "391it [00:28, 13.87it/s]"
     ]
    },
    {
     "name": "stdout",
     "output_type": "stream",
     "text": [
      "Epoch 106 finished, average loss: 0.0015376234\n",
      "Starting testing\n"
     ]
    },
    {
     "name": "stderr",
     "output_type": "stream",
     "text": [
      "\n"
     ]
    },
    {
     "name": "stdout",
     "output_type": "stream",
     "text": [
      "Correct: 8920, total: 10000, accuracy: 0.8919999599, average loss: 0.0026337654\n"
     ]
    },
    {
     "name": "stderr",
     "output_type": "stream",
     "text": [
      "391it [00:28, 13.71it/s]"
     ]
    },
    {
     "name": "stdout",
     "output_type": "stream",
     "text": [
      "Epoch 107 finished, average loss: 0.0015121176\n",
      "Starting testing\n"
     ]
    },
    {
     "name": "stderr",
     "output_type": "stream",
     "text": [
      "\n"
     ]
    },
    {
     "name": "stdout",
     "output_type": "stream",
     "text": [
      "Correct: 9024, total: 10000, accuracy: 0.9023999572, average loss: 0.0023334129\n"
     ]
    },
    {
     "name": "stderr",
     "output_type": "stream",
     "text": [
      "391it [00:30, 12.96it/s]"
     ]
    },
    {
     "name": "stdout",
     "output_type": "stream",
     "text": [
      "Epoch 108 finished, average loss: 0.0015091448\n",
      "Starting testing\n"
     ]
    },
    {
     "name": "stderr",
     "output_type": "stream",
     "text": [
      "\n"
     ]
    },
    {
     "name": "stdout",
     "output_type": "stream",
     "text": [
      "Correct: 8802, total: 10000, accuracy: 0.8801999688, average loss: 0.0028474646\n"
     ]
    },
    {
     "name": "stderr",
     "output_type": "stream",
     "text": [
      "391it [00:29, 13.05it/s]\n"
     ]
    },
    {
     "name": "stdout",
     "output_type": "stream",
     "text": [
      "Epoch 109 finished, average loss: 0.0014920657\n",
      "Starting testing\n",
      "Correct: 8953, total: 10000, accuracy: 0.8952999711, average loss: 0.0025064612\n"
     ]
    },
    {
     "name": "stderr",
     "output_type": "stream",
     "text": [
      "391it [00:30, 12.94it/s]"
     ]
    },
    {
     "name": "stdout",
     "output_type": "stream",
     "text": [
      "Epoch 110 finished, average loss: 0.0015120325\n",
      "Starting testing\n"
     ]
    },
    {
     "name": "stderr",
     "output_type": "stream",
     "text": [
      "\n"
     ]
    },
    {
     "name": "stdout",
     "output_type": "stream",
     "text": [
      "Correct: 8863, total: 10000, accuracy: 0.8862999678, average loss: 0.0027723216\n"
     ]
    },
    {
     "name": "stderr",
     "output_type": "stream",
     "text": [
      "391it [00:29, 13.09it/s]"
     ]
    },
    {
     "name": "stdout",
     "output_type": "stream",
     "text": [
      "Epoch 111 finished, average loss: 0.0015633531\n",
      "Starting testing\n"
     ]
    },
    {
     "name": "stderr",
     "output_type": "stream",
     "text": [
      "\n"
     ]
    },
    {
     "name": "stdout",
     "output_type": "stream",
     "text": [
      "Correct: 9027, total: 10000, accuracy: 0.9027000070, average loss: 0.0024035996\n"
     ]
    },
    {
     "name": "stderr",
     "output_type": "stream",
     "text": [
      "391it [00:29, 13.11it/s]"
     ]
    },
    {
     "name": "stdout",
     "output_type": "stream",
     "text": [
      "Epoch 112 finished, average loss: 0.0015409932\n",
      "Starting testing\n"
     ]
    },
    {
     "name": "stderr",
     "output_type": "stream",
     "text": [
      "\n"
     ]
    },
    {
     "name": "stdout",
     "output_type": "stream",
     "text": [
      "Correct: 9011, total: 10000, accuracy: 0.9010999799, average loss: 0.0023186152\n"
     ]
    },
    {
     "name": "stderr",
     "output_type": "stream",
     "text": [
      "391it [00:29, 13.11it/s]"
     ]
    },
    {
     "name": "stdout",
     "output_type": "stream",
     "text": [
      "Epoch 113 finished, average loss: 0.0015675780\n",
      "Starting testing\n"
     ]
    },
    {
     "name": "stderr",
     "output_type": "stream",
     "text": [
      "\n"
     ]
    },
    {
     "name": "stdout",
     "output_type": "stream",
     "text": [
      "Correct: 8884, total: 10000, accuracy: 0.8883999586, average loss: 0.0026202054\n"
     ]
    },
    {
     "name": "stderr",
     "output_type": "stream",
     "text": [
      "391it [00:29, 13.09it/s]"
     ]
    },
    {
     "name": "stdout",
     "output_type": "stream",
     "text": [
      "Epoch 114 finished, average loss: 0.0014988184\n",
      "Starting testing\n"
     ]
    },
    {
     "name": "stderr",
     "output_type": "stream",
     "text": [
      "\n"
     ]
    },
    {
     "name": "stdout",
     "output_type": "stream",
     "text": [
      "Correct: 8918, total: 10000, accuracy: 0.8917999864, average loss: 0.0027555885\n"
     ]
    },
    {
     "name": "stderr",
     "output_type": "stream",
     "text": [
      "391it [00:30, 13.00it/s]"
     ]
    },
    {
     "name": "stdout",
     "output_type": "stream",
     "text": [
      "Epoch 115 finished, average loss: 0.0015348858\n",
      "Starting testing\n"
     ]
    },
    {
     "name": "stderr",
     "output_type": "stream",
     "text": [
      "\n"
     ]
    },
    {
     "name": "stdout",
     "output_type": "stream",
     "text": [
      "Correct: 9015, total: 10000, accuracy: 0.9014999866, average loss: 0.0024319903\n"
     ]
    },
    {
     "name": "stderr",
     "output_type": "stream",
     "text": [
      "391it [00:29, 13.05it/s]"
     ]
    },
    {
     "name": "stdout",
     "output_type": "stream",
     "text": [
      "Epoch 116 finished, average loss: 0.0015198706\n",
      "Starting testing\n"
     ]
    },
    {
     "name": "stderr",
     "output_type": "stream",
     "text": [
      "\n"
     ]
    },
    {
     "name": "stdout",
     "output_type": "stream",
     "text": [
      "Correct: 8972, total: 10000, accuracy: 0.8971999884, average loss: 0.0024391278\n"
     ]
    },
    {
     "name": "stderr",
     "output_type": "stream",
     "text": [
      "391it [00:30, 12.94it/s]"
     ]
    },
    {
     "name": "stdout",
     "output_type": "stream",
     "text": [
      "Epoch 117 finished, average loss: 0.0015484612\n",
      "Starting testing\n"
     ]
    },
    {
     "name": "stderr",
     "output_type": "stream",
     "text": [
      "\n"
     ]
    },
    {
     "name": "stdout",
     "output_type": "stream",
     "text": [
      "Correct: 8991, total: 10000, accuracy: 0.8991000056, average loss: 0.0024216577\n"
     ]
    },
    {
     "name": "stderr",
     "output_type": "stream",
     "text": [
      "391it [00:28, 13.76it/s]"
     ]
    },
    {
     "name": "stdout",
     "output_type": "stream",
     "text": [
      "Epoch 118 finished, average loss: 0.0014336092\n",
      "Starting testing\n"
     ]
    },
    {
     "name": "stderr",
     "output_type": "stream",
     "text": [
      "\n"
     ]
    },
    {
     "name": "stdout",
     "output_type": "stream",
     "text": [
      "Correct: 8675, total: 10000, accuracy: 0.8675000072, average loss: 0.0033470448\n"
     ]
    },
    {
     "name": "stderr",
     "output_type": "stream",
     "text": [
      "391it [00:28, 13.89it/s]"
     ]
    },
    {
     "name": "stdout",
     "output_type": "stream",
     "text": [
      "Epoch 119 finished, average loss: 0.0015150014\n",
      "Starting testing\n"
     ]
    },
    {
     "name": "stderr",
     "output_type": "stream",
     "text": [
      "\n"
     ]
    },
    {
     "name": "stdout",
     "output_type": "stream",
     "text": [
      "Correct: 8552, total: 10000, accuracy: 0.8551999927, average loss: 0.0041070902\n"
     ]
    },
    {
     "name": "stderr",
     "output_type": "stream",
     "text": [
      "391it [00:28, 13.92it/s]"
     ]
    },
    {
     "name": "stdout",
     "output_type": "stream",
     "text": [
      "Epoch 120 finished, average loss: 0.0014910625\n",
      "Starting testing\n"
     ]
    },
    {
     "name": "stderr",
     "output_type": "stream",
     "text": [
      "\n"
     ]
    },
    {
     "name": "stdout",
     "output_type": "stream",
     "text": [
      "Correct: 8853, total: 10000, accuracy: 0.8852999806, average loss: 0.0027081229\n"
     ]
    },
    {
     "name": "stderr",
     "output_type": "stream",
     "text": [
      "391it [00:28, 13.66it/s]"
     ]
    },
    {
     "name": "stdout",
     "output_type": "stream",
     "text": [
      "Epoch 121 finished, average loss: 0.0015108391\n",
      "Starting testing\n"
     ]
    },
    {
     "name": "stderr",
     "output_type": "stream",
     "text": [
      "\n"
     ]
    },
    {
     "name": "stdout",
     "output_type": "stream",
     "text": [
      "Correct: 8940, total: 10000, accuracy: 0.8939999938, average loss: 0.0024715437\n"
     ]
    },
    {
     "name": "stderr",
     "output_type": "stream",
     "text": [
      "391it [00:28, 13.85it/s]"
     ]
    },
    {
     "name": "stdout",
     "output_type": "stream",
     "text": [
      "Epoch 122 finished, average loss: 0.0015212097\n",
      "Starting testing\n"
     ]
    },
    {
     "name": "stderr",
     "output_type": "stream",
     "text": [
      "\n"
     ]
    },
    {
     "name": "stdout",
     "output_type": "stream",
     "text": [
      "Correct: 8996, total: 10000, accuracy: 0.8995999694, average loss: 0.0024348148\n"
     ]
    },
    {
     "name": "stderr",
     "output_type": "stream",
     "text": [
      "391it [00:28, 13.51it/s]"
     ]
    },
    {
     "name": "stdout",
     "output_type": "stream",
     "text": [
      "Epoch 123 finished, average loss: 0.0014517023\n",
      "Starting testing\n"
     ]
    },
    {
     "name": "stderr",
     "output_type": "stream",
     "text": [
      "\n"
     ]
    },
    {
     "name": "stdout",
     "output_type": "stream",
     "text": [
      "Correct: 8921, total: 10000, accuracy: 0.8920999765, average loss: 0.0027007800\n"
     ]
    },
    {
     "name": "stderr",
     "output_type": "stream",
     "text": [
      "391it [00:28, 13.75it/s]"
     ]
    },
    {
     "name": "stdout",
     "output_type": "stream",
     "text": [
      "Epoch 124 finished, average loss: 0.0014846446\n",
      "Starting testing\n"
     ]
    },
    {
     "name": "stderr",
     "output_type": "stream",
     "text": [
      "\n"
     ]
    },
    {
     "name": "stdout",
     "output_type": "stream",
     "text": [
      "Correct: 8934, total: 10000, accuracy: 0.8933999538, average loss: 0.0026927825\n"
     ]
    },
    {
     "name": "stderr",
     "output_type": "stream",
     "text": [
      "391it [00:28, 13.94it/s]"
     ]
    },
    {
     "name": "stdout",
     "output_type": "stream",
     "text": [
      "Epoch 125 finished, average loss: 0.0015298380\n",
      "Starting testing\n"
     ]
    },
    {
     "name": "stderr",
     "output_type": "stream",
     "text": [
      "\n"
     ]
    },
    {
     "name": "stdout",
     "output_type": "stream",
     "text": [
      "Correct: 8980, total: 10000, accuracy: 0.8980000019, average loss: 0.0025880022\n"
     ]
    },
    {
     "name": "stderr",
     "output_type": "stream",
     "text": [
      "391it [00:28, 13.87it/s]"
     ]
    },
    {
     "name": "stdout",
     "output_type": "stream",
     "text": [
      "Epoch 126 finished, average loss: 0.0014903422\n",
      "Starting testing\n"
     ]
    },
    {
     "name": "stderr",
     "output_type": "stream",
     "text": [
      "\n"
     ]
    },
    {
     "name": "stdout",
     "output_type": "stream",
     "text": [
      "Correct: 8942, total: 10000, accuracy: 0.8941999674, average loss: 0.0026409694\n"
     ]
    },
    {
     "name": "stderr",
     "output_type": "stream",
     "text": [
      "391it [00:29, 13.34it/s]"
     ]
    },
    {
     "name": "stdout",
     "output_type": "stream",
     "text": [
      "Epoch 127 finished, average loss: 0.0014782170\n",
      "Starting testing\n"
     ]
    },
    {
     "name": "stderr",
     "output_type": "stream",
     "text": [
      "\n"
     ]
    },
    {
     "name": "stdout",
     "output_type": "stream",
     "text": [
      "Correct: 8903, total: 10000, accuracy: 0.8902999759, average loss: 0.0026832583\n"
     ]
    },
    {
     "name": "stderr",
     "output_type": "stream",
     "text": [
      "391it [00:29, 13.11it/s]\n"
     ]
    },
    {
     "name": "stdout",
     "output_type": "stream",
     "text": [
      "Epoch 128 finished, average loss: 0.0014743682\n",
      "Starting testing\n",
      "Correct: 8975, total: 10000, accuracy: 0.8974999785, average loss: 0.0025630855\n"
     ]
    },
    {
     "name": "stderr",
     "output_type": "stream",
     "text": [
      "391it [00:30, 12.99it/s]\n"
     ]
    },
    {
     "name": "stdout",
     "output_type": "stream",
     "text": [
      "Epoch 129 finished, average loss: 0.0014562184\n",
      "Starting testing\n",
      "Correct: 8870, total: 10000, accuracy: 0.8869999647, average loss: 0.0028553691\n"
     ]
    },
    {
     "name": "stderr",
     "output_type": "stream",
     "text": [
      "391it [00:28, 13.67it/s]"
     ]
    },
    {
     "name": "stdout",
     "output_type": "stream",
     "text": [
      "Epoch 130 finished, average loss: 0.0014542153\n",
      "Starting testing\n"
     ]
    },
    {
     "name": "stderr",
     "output_type": "stream",
     "text": [
      "\n"
     ]
    },
    {
     "name": "stdout",
     "output_type": "stream",
     "text": [
      "Correct: 8875, total: 10000, accuracy: 0.8874999881, average loss: 0.0027491476\n"
     ]
    },
    {
     "name": "stderr",
     "output_type": "stream",
     "text": [
      "391it [00:27, 14.17it/s]\n"
     ]
    },
    {
     "name": "stdout",
     "output_type": "stream",
     "text": [
      "Epoch 131 finished, average loss: 0.0015154808\n",
      "Starting testing\n",
      "Correct: 9037, total: 10000, accuracy: 0.9036999941, average loss: 0.0024317968\n"
     ]
    },
    {
     "name": "stderr",
     "output_type": "stream",
     "text": [
      "391it [00:27, 14.12it/s]\n"
     ]
    },
    {
     "name": "stdout",
     "output_type": "stream",
     "text": [
      "Epoch 132 finished, average loss: 0.0015112047\n",
      "Starting testing\n",
      "Correct: 9025, total: 10000, accuracy: 0.9024999738, average loss: 0.0024121496\n"
     ]
    },
    {
     "name": "stderr",
     "output_type": "stream",
     "text": [
      "391it [00:28, 13.79it/s]\n"
     ]
    },
    {
     "name": "stdout",
     "output_type": "stream",
     "text": [
      "Epoch 133 finished, average loss: 0.0014649292\n",
      "Starting testing\n",
      "Correct: 8960, total: 10000, accuracy: 0.8959999681, average loss: 0.0024133740\n"
     ]
    },
    {
     "name": "stderr",
     "output_type": "stream",
     "text": [
      "391it [00:29, 13.29it/s]"
     ]
    },
    {
     "name": "stdout",
     "output_type": "stream",
     "text": [
      "Epoch 134 finished, average loss: 0.0014735048\n",
      "Starting testing\n"
     ]
    },
    {
     "name": "stderr",
     "output_type": "stream",
     "text": [
      "\n"
     ]
    },
    {
     "name": "stdout",
     "output_type": "stream",
     "text": [
      "Correct: 8849, total: 10000, accuracy: 0.8848999739, average loss: 0.0027464539\n"
     ]
    },
    {
     "name": "stderr",
     "output_type": "stream",
     "text": [
      "391it [00:28, 13.57it/s]"
     ]
    },
    {
     "name": "stdout",
     "output_type": "stream",
     "text": [
      "Epoch 135 finished, average loss: 0.0014548579\n",
      "Starting testing\n"
     ]
    },
    {
     "name": "stderr",
     "output_type": "stream",
     "text": [
      "\n"
     ]
    },
    {
     "name": "stdout",
     "output_type": "stream",
     "text": [
      "Correct: 8972, total: 10000, accuracy: 0.8971999884, average loss: 0.0024304998\n"
     ]
    },
    {
     "name": "stderr",
     "output_type": "stream",
     "text": [
      "391it [00:29, 13.27it/s]"
     ]
    },
    {
     "name": "stdout",
     "output_type": "stream",
     "text": [
      "Epoch 136 finished, average loss: 0.0014584001\n",
      "Starting testing\n"
     ]
    },
    {
     "name": "stderr",
     "output_type": "stream",
     "text": [
      "\n"
     ]
    },
    {
     "name": "stdout",
     "output_type": "stream",
     "text": [
      "Correct: 8921, total: 10000, accuracy: 0.8920999765, average loss: 0.0026854682\n"
     ]
    },
    {
     "name": "stderr",
     "output_type": "stream",
     "text": [
      "391it [00:30, 12.99it/s]"
     ]
    },
    {
     "name": "stdout",
     "output_type": "stream",
     "text": [
      "Epoch 137 finished, average loss: 0.0014513560\n",
      "Starting testing\n"
     ]
    },
    {
     "name": "stderr",
     "output_type": "stream",
     "text": [
      "\n"
     ]
    },
    {
     "name": "stdout",
     "output_type": "stream",
     "text": [
      "Correct: 9029, total: 10000, accuracy: 0.9028999805, average loss: 0.0024674123\n"
     ]
    },
    {
     "name": "stderr",
     "output_type": "stream",
     "text": [
      "391it [00:30, 12.85it/s]"
     ]
    },
    {
     "name": "stdout",
     "output_type": "stream",
     "text": [
      "Epoch 138 finished, average loss: 0.0014305951\n",
      "Starting testing\n"
     ]
    },
    {
     "name": "stderr",
     "output_type": "stream",
     "text": [
      "\n"
     ]
    },
    {
     "name": "stdout",
     "output_type": "stream",
     "text": [
      "Correct: 8575, total: 10000, accuracy: 0.8574999571, average loss: 0.0039665527\n"
     ]
    },
    {
     "name": "stderr",
     "output_type": "stream",
     "text": [
      "391it [00:29, 13.09it/s]"
     ]
    },
    {
     "name": "stdout",
     "output_type": "stream",
     "text": [
      "Epoch 139 finished, average loss: 0.0014655493\n",
      "Starting testing\n"
     ]
    },
    {
     "name": "stderr",
     "output_type": "stream",
     "text": [
      "\n"
     ]
    },
    {
     "name": "stdout",
     "output_type": "stream",
     "text": [
      "Correct: 8759, total: 10000, accuracy: 0.8758999705, average loss: 0.0031296324\n"
     ]
    },
    {
     "name": "stderr",
     "output_type": "stream",
     "text": [
      "391it [00:30, 12.84it/s]"
     ]
    },
    {
     "name": "stdout",
     "output_type": "stream",
     "text": [
      "Epoch 140 finished, average loss: 0.0014538727\n",
      "Starting testing\n"
     ]
    },
    {
     "name": "stderr",
     "output_type": "stream",
     "text": [
      "\n"
     ]
    },
    {
     "name": "stdout",
     "output_type": "stream",
     "text": [
      "Correct: 8976, total: 10000, accuracy: 0.8975999951, average loss: 0.0025300282\n"
     ]
    },
    {
     "name": "stderr",
     "output_type": "stream",
     "text": [
      "391it [00:29, 13.30it/s]"
     ]
    },
    {
     "name": "stdout",
     "output_type": "stream",
     "text": [
      "Epoch 141 finished, average loss: 0.0014296768\n",
      "Starting testing\n"
     ]
    },
    {
     "name": "stderr",
     "output_type": "stream",
     "text": [
      "\n"
     ]
    },
    {
     "name": "stdout",
     "output_type": "stream",
     "text": [
      "Correct: 9071, total: 10000, accuracy: 0.9070999622, average loss: 0.0022766624\n"
     ]
    },
    {
     "name": "stderr",
     "output_type": "stream",
     "text": [
      "391it [00:29, 13.19it/s]"
     ]
    },
    {
     "name": "stdout",
     "output_type": "stream",
     "text": [
      "Epoch 142 finished, average loss: 0.0015276706\n",
      "Starting testing\n"
     ]
    },
    {
     "name": "stderr",
     "output_type": "stream",
     "text": [
      "\n"
     ]
    },
    {
     "name": "stdout",
     "output_type": "stream",
     "text": [
      "Correct: 8856, total: 10000, accuracy: 0.8855999708, average loss: 0.0027282195\n"
     ]
    },
    {
     "name": "stderr",
     "output_type": "stream",
     "text": [
      "391it [00:29, 13.28it/s]"
     ]
    },
    {
     "name": "stdout",
     "output_type": "stream",
     "text": [
      "Epoch 143 finished, average loss: 0.0014604434\n",
      "Starting testing\n"
     ]
    },
    {
     "name": "stderr",
     "output_type": "stream",
     "text": [
      "\n"
     ]
    },
    {
     "name": "stdout",
     "output_type": "stream",
     "text": [
      "Correct: 9018, total: 10000, accuracy: 0.9017999768, average loss: 0.0024060742\n"
     ]
    },
    {
     "name": "stderr",
     "output_type": "stream",
     "text": [
      "391it [00:29, 13.14it/s]"
     ]
    },
    {
     "name": "stdout",
     "output_type": "stream",
     "text": [
      "Epoch 144 finished, average loss: 0.0014800171\n",
      "Starting testing\n"
     ]
    },
    {
     "name": "stderr",
     "output_type": "stream",
     "text": [
      "\n"
     ]
    },
    {
     "name": "stdout",
     "output_type": "stream",
     "text": [
      "Correct: 8954, total: 10000, accuracy: 0.8953999877, average loss: 0.0025241137\n"
     ]
    },
    {
     "name": "stderr",
     "output_type": "stream",
     "text": [
      "391it [00:29, 13.16it/s]"
     ]
    },
    {
     "name": "stdout",
     "output_type": "stream",
     "text": [
      "Epoch 145 finished, average loss: 0.0014419571\n",
      "Starting testing\n"
     ]
    },
    {
     "name": "stderr",
     "output_type": "stream",
     "text": [
      "\n"
     ]
    },
    {
     "name": "stdout",
     "output_type": "stream",
     "text": [
      "Correct: 8953, total: 10000, accuracy: 0.8952999711, average loss: 0.0025341874\n"
     ]
    },
    {
     "name": "stderr",
     "output_type": "stream",
     "text": [
      "391it [00:29, 13.21it/s]"
     ]
    },
    {
     "name": "stdout",
     "output_type": "stream",
     "text": [
      "Epoch 146 finished, average loss: 0.0014452666\n",
      "Starting testing\n"
     ]
    },
    {
     "name": "stderr",
     "output_type": "stream",
     "text": [
      "\n"
     ]
    },
    {
     "name": "stdout",
     "output_type": "stream",
     "text": [
      "Correct: 8899, total: 10000, accuracy: 0.8898999691, average loss: 0.0028242059\n"
     ]
    },
    {
     "name": "stderr",
     "output_type": "stream",
     "text": [
      "391it [00:29, 13.32it/s]"
     ]
    },
    {
     "name": "stdout",
     "output_type": "stream",
     "text": [
      "Epoch 147 finished, average loss: 0.0014550420\n",
      "Starting testing\n"
     ]
    },
    {
     "name": "stderr",
     "output_type": "stream",
     "text": [
      "\n"
     ]
    },
    {
     "name": "stdout",
     "output_type": "stream",
     "text": [
      "Correct: 9059, total: 10000, accuracy: 0.9059000015, average loss: 0.0022500238\n"
     ]
    },
    {
     "name": "stderr",
     "output_type": "stream",
     "text": [
      "391it [00:31, 12.53it/s]"
     ]
    },
    {
     "name": "stdout",
     "output_type": "stream",
     "text": [
      "Epoch 148 finished, average loss: 0.0014166576\n",
      "Starting testing\n"
     ]
    },
    {
     "name": "stderr",
     "output_type": "stream",
     "text": [
      "\n"
     ]
    },
    {
     "name": "stdout",
     "output_type": "stream",
     "text": [
      "Correct: 8936, total: 10000, accuracy: 0.8935999870, average loss: 0.0025411989\n"
     ]
    },
    {
     "name": "stderr",
     "output_type": "stream",
     "text": [
      "391it [00:31, 12.47it/s]"
     ]
    },
    {
     "name": "stdout",
     "output_type": "stream",
     "text": [
      "Epoch 149 finished, average loss: 0.0014144442\n",
      "Starting testing\n"
     ]
    },
    {
     "name": "stderr",
     "output_type": "stream",
     "text": [
      "\n"
     ]
    },
    {
     "name": "stdout",
     "output_type": "stream",
     "text": [
      "Correct: 8953, total: 10000, accuracy: 0.8952999711, average loss: 0.0025458629\n"
     ]
    },
    {
     "name": "stderr",
     "output_type": "stream",
     "text": [
      "391it [00:28, 13.64it/s]"
     ]
    },
    {
     "name": "stdout",
     "output_type": "stream",
     "text": [
      "Epoch 150 finished, average loss: 0.0014404202\n",
      "Starting testing\n"
     ]
    },
    {
     "name": "stderr",
     "output_type": "stream",
     "text": [
      "\n"
     ]
    },
    {
     "name": "stdout",
     "output_type": "stream",
     "text": [
      "Correct: 8956, total: 10000, accuracy: 0.8955999613, average loss: 0.0025759688\n"
     ]
    },
    {
     "name": "stderr",
     "output_type": "stream",
     "text": [
      "391it [00:28, 13.80it/s]"
     ]
    },
    {
     "name": "stdout",
     "output_type": "stream",
     "text": [
      "Epoch 151 finished, average loss: 0.0013787734\n",
      "Starting testing\n"
     ]
    },
    {
     "name": "stderr",
     "output_type": "stream",
     "text": [
      "\n"
     ]
    },
    {
     "name": "stdout",
     "output_type": "stream",
     "text": [
      "Correct: 8940, total: 10000, accuracy: 0.8939999938, average loss: 0.0026216589\n"
     ]
    },
    {
     "name": "stderr",
     "output_type": "stream",
     "text": [
      "391it [00:27, 14.09it/s]\n"
     ]
    },
    {
     "name": "stdout",
     "output_type": "stream",
     "text": [
      "Epoch 152 finished, average loss: 0.0014516980\n",
      "Starting testing\n",
      "Correct: 8914, total: 10000, accuracy: 0.8913999796, average loss: 0.0027241821\n"
     ]
    },
    {
     "name": "stderr",
     "output_type": "stream",
     "text": [
      "391it [00:27, 14.21it/s]"
     ]
    },
    {
     "name": "stdout",
     "output_type": "stream",
     "text": [
      "Epoch 153 finished, average loss: 0.0014195558\n",
      "Starting testing\n"
     ]
    },
    {
     "name": "stderr",
     "output_type": "stream",
     "text": [
      "\n"
     ]
    },
    {
     "name": "stdout",
     "output_type": "stream",
     "text": [
      "Correct: 9030, total: 10000, accuracy: 0.9029999971, average loss: 0.0022466729\n"
     ]
    },
    {
     "name": "stderr",
     "output_type": "stream",
     "text": [
      "391it [00:29, 13.46it/s]"
     ]
    },
    {
     "name": "stdout",
     "output_type": "stream",
     "text": [
      "Epoch 154 finished, average loss: 0.0013811914\n",
      "Starting testing\n"
     ]
    },
    {
     "name": "stderr",
     "output_type": "stream",
     "text": [
      "\n"
     ]
    },
    {
     "name": "stdout",
     "output_type": "stream",
     "text": [
      "Correct: 9032, total: 10000, accuracy: 0.9031999707, average loss: 0.0023273416\n"
     ]
    },
    {
     "name": "stderr",
     "output_type": "stream",
     "text": [
      "391it [00:30, 12.78it/s]"
     ]
    },
    {
     "name": "stdout",
     "output_type": "stream",
     "text": [
      "Epoch 155 finished, average loss: 0.0014239538\n",
      "Starting testing\n"
     ]
    },
    {
     "name": "stderr",
     "output_type": "stream",
     "text": [
      "\n"
     ]
    },
    {
     "name": "stdout",
     "output_type": "stream",
     "text": [
      "Correct: 8842, total: 10000, accuracy: 0.8841999769, average loss: 0.0028997445\n"
     ]
    },
    {
     "name": "stderr",
     "output_type": "stream",
     "text": [
      "391it [00:30, 12.95it/s]"
     ]
    },
    {
     "name": "stdout",
     "output_type": "stream",
     "text": [
      "Epoch 156 finished, average loss: 0.0014150922\n",
      "Starting testing\n"
     ]
    },
    {
     "name": "stderr",
     "output_type": "stream",
     "text": [
      "\n"
     ]
    },
    {
     "name": "stdout",
     "output_type": "stream",
     "text": [
      "Correct: 8838, total: 10000, accuracy: 0.8837999701, average loss: 0.0029138570\n"
     ]
    },
    {
     "name": "stderr",
     "output_type": "stream",
     "text": [
      "391it [00:30, 12.68it/s]"
     ]
    },
    {
     "name": "stdout",
     "output_type": "stream",
     "text": [
      "Epoch 157 finished, average loss: 0.0014120405\n",
      "Starting testing\n"
     ]
    },
    {
     "name": "stderr",
     "output_type": "stream",
     "text": [
      "\n"
     ]
    },
    {
     "name": "stdout",
     "output_type": "stream",
     "text": [
      "Correct: 8947, total: 10000, accuracy: 0.8946999907, average loss: 0.0025052340\n"
     ]
    },
    {
     "name": "stderr",
     "output_type": "stream",
     "text": [
      "391it [00:30, 12.73it/s]"
     ]
    },
    {
     "name": "stdout",
     "output_type": "stream",
     "text": [
      "Epoch 158 finished, average loss: 0.0014187481\n",
      "Starting testing\n"
     ]
    },
    {
     "name": "stderr",
     "output_type": "stream",
     "text": [
      "\n"
     ]
    },
    {
     "name": "stdout",
     "output_type": "stream",
     "text": [
      "Correct: 8994, total: 10000, accuracy: 0.8993999958, average loss: 0.0025104667\n"
     ]
    },
    {
     "name": "stderr",
     "output_type": "stream",
     "text": [
      "391it [00:29, 13.20it/s]\n"
     ]
    },
    {
     "name": "stdout",
     "output_type": "stream",
     "text": [
      "Epoch 159 finished, average loss: 0.0014178922\n",
      "Starting testing\n",
      "Correct: 8999, total: 10000, accuracy: 0.8998999596, average loss: 0.0024158370\n"
     ]
    },
    {
     "name": "stderr",
     "output_type": "stream",
     "text": [
      "391it [00:29, 13.22it/s]"
     ]
    },
    {
     "name": "stdout",
     "output_type": "stream",
     "text": [
      "Epoch 160 finished, average loss: 0.0013941041\n",
      "Starting testing\n"
     ]
    },
    {
     "name": "stderr",
     "output_type": "stream",
     "text": [
      "\n"
     ]
    },
    {
     "name": "stdout",
     "output_type": "stream",
     "text": [
      "Correct: 9009, total: 10000, accuracy: 0.9009000063, average loss: 0.0024431139\n"
     ]
    },
    {
     "name": "stderr",
     "output_type": "stream",
     "text": [
      "391it [00:29, 13.21it/s]"
     ]
    },
    {
     "name": "stdout",
     "output_type": "stream",
     "text": [
      "Epoch 161 finished, average loss: 0.0014206866\n",
      "Starting testing\n"
     ]
    },
    {
     "name": "stderr",
     "output_type": "stream",
     "text": [
      "\n"
     ]
    },
    {
     "name": "stdout",
     "output_type": "stream",
     "text": [
      "Correct: 9070, total: 10000, accuracy: 0.9070000052, average loss: 0.0022483291\n"
     ]
    },
    {
     "name": "stderr",
     "output_type": "stream",
     "text": [
      "391it [00:29, 13.29it/s]"
     ]
    },
    {
     "name": "stdout",
     "output_type": "stream",
     "text": [
      "Epoch 162 finished, average loss: 0.0013806468\n",
      "Starting testing\n"
     ]
    },
    {
     "name": "stderr",
     "output_type": "stream",
     "text": [
      "\n"
     ]
    },
    {
     "name": "stdout",
     "output_type": "stream",
     "text": [
      "Correct: 9032, total: 10000, accuracy: 0.9031999707, average loss: 0.0024430735\n"
     ]
    },
    {
     "name": "stderr",
     "output_type": "stream",
     "text": [
      "391it [00:29, 13.20it/s]"
     ]
    },
    {
     "name": "stdout",
     "output_type": "stream",
     "text": [
      "Epoch 163 finished, average loss: 0.0014348069\n",
      "Starting testing\n"
     ]
    },
    {
     "name": "stderr",
     "output_type": "stream",
     "text": [
      "\n"
     ]
    },
    {
     "name": "stdout",
     "output_type": "stream",
     "text": [
      "Correct: 8883, total: 10000, accuracy: 0.8883000016, average loss: 0.0027456239\n"
     ]
    },
    {
     "name": "stderr",
     "output_type": "stream",
     "text": [
      "391it [00:28, 13.64it/s]"
     ]
    },
    {
     "name": "stdout",
     "output_type": "stream",
     "text": [
      "Epoch 164 finished, average loss: 0.0014099480\n",
      "Starting testing\n"
     ]
    },
    {
     "name": "stderr",
     "output_type": "stream",
     "text": [
      "\n"
     ]
    },
    {
     "name": "stdout",
     "output_type": "stream",
     "text": [
      "Correct: 8941, total: 10000, accuracy: 0.8940999508, average loss: 0.0024940064\n"
     ]
    },
    {
     "name": "stderr",
     "output_type": "stream",
     "text": [
      "391it [00:27, 14.08it/s]\n"
     ]
    },
    {
     "name": "stdout",
     "output_type": "stream",
     "text": [
      "Epoch 165 finished, average loss: 0.0014141720\n",
      "Starting testing\n",
      "Correct: 8943, total: 10000, accuracy: 0.8942999840, average loss: 0.0026007686\n"
     ]
    },
    {
     "name": "stderr",
     "output_type": "stream",
     "text": [
      "391it [00:27, 14.15it/s]"
     ]
    },
    {
     "name": "stdout",
     "output_type": "stream",
     "text": [
      "Epoch 166 finished, average loss: 0.0014135596\n",
      "Starting testing\n"
     ]
    },
    {
     "name": "stderr",
     "output_type": "stream",
     "text": [
      "\n"
     ]
    },
    {
     "name": "stdout",
     "output_type": "stream",
     "text": [
      "Correct: 8992, total: 10000, accuracy: 0.8991999626, average loss: 0.0023789588\n"
     ]
    },
    {
     "name": "stderr",
     "output_type": "stream",
     "text": [
      "391it [00:27, 14.22it/s]"
     ]
    },
    {
     "name": "stdout",
     "output_type": "stream",
     "text": [
      "Epoch 167 finished, average loss: 0.0014533681\n",
      "Starting testing\n"
     ]
    },
    {
     "name": "stderr",
     "output_type": "stream",
     "text": [
      "\n"
     ]
    },
    {
     "name": "stdout",
     "output_type": "stream",
     "text": [
      "Correct: 8840, total: 10000, accuracy: 0.8840000033, average loss: 0.0027917422\n"
     ]
    },
    {
     "name": "stderr",
     "output_type": "stream",
     "text": [
      "391it [00:27, 14.20it/s]"
     ]
    },
    {
     "name": "stdout",
     "output_type": "stream",
     "text": [
      "Epoch 168 finished, average loss: 0.0013909644\n",
      "Starting testing\n"
     ]
    },
    {
     "name": "stderr",
     "output_type": "stream",
     "text": [
      "\n"
     ]
    },
    {
     "name": "stdout",
     "output_type": "stream",
     "text": [
      "Correct: 9019, total: 10000, accuracy: 0.9018999934, average loss: 0.0024094484\n"
     ]
    },
    {
     "name": "stderr",
     "output_type": "stream",
     "text": [
      "391it [00:27, 14.13it/s]"
     ]
    },
    {
     "name": "stdout",
     "output_type": "stream",
     "text": [
      "Epoch 169 finished, average loss: 0.0014222261\n",
      "Starting testing\n"
     ]
    },
    {
     "name": "stderr",
     "output_type": "stream",
     "text": [
      "\n"
     ]
    },
    {
     "name": "stdout",
     "output_type": "stream",
     "text": [
      "Correct: 8789, total: 10000, accuracy: 0.8788999915, average loss: 0.0030382138\n"
     ]
    },
    {
     "name": "stderr",
     "output_type": "stream",
     "text": [
      "391it [00:27, 14.00it/s]\n"
     ]
    },
    {
     "name": "stdout",
     "output_type": "stream",
     "text": [
      "Epoch 170 finished, average loss: 0.0014274358\n",
      "Starting testing\n",
      "Correct: 9023, total: 10000, accuracy: 0.9023000002, average loss: 0.0023909656\n"
     ]
    },
    {
     "name": "stderr",
     "output_type": "stream",
     "text": [
      "391it [00:28, 13.77it/s]"
     ]
    },
    {
     "name": "stdout",
     "output_type": "stream",
     "text": [
      "Epoch 171 finished, average loss: 0.0013748758\n",
      "Starting testing\n"
     ]
    },
    {
     "name": "stderr",
     "output_type": "stream",
     "text": [
      "\n"
     ]
    },
    {
     "name": "stdout",
     "output_type": "stream",
     "text": [
      "Correct: 9002, total: 10000, accuracy: 0.9001999497, average loss: 0.0023597514\n"
     ]
    },
    {
     "name": "stderr",
     "output_type": "stream",
     "text": [
      "391it [00:30, 12.98it/s]"
     ]
    },
    {
     "name": "stdout",
     "output_type": "stream",
     "text": [
      "Epoch 172 finished, average loss: 0.0013770878\n",
      "Starting testing\n"
     ]
    },
    {
     "name": "stderr",
     "output_type": "stream",
     "text": [
      "\n"
     ]
    },
    {
     "name": "stdout",
     "output_type": "stream",
     "text": [
      "Correct: 8962, total: 10000, accuracy: 0.8962000012, average loss: 0.0024207490\n"
     ]
    },
    {
     "name": "stderr",
     "output_type": "stream",
     "text": [
      "391it [00:27, 14.09it/s]"
     ]
    },
    {
     "name": "stdout",
     "output_type": "stream",
     "text": [
      "Epoch 173 finished, average loss: 0.0013898007\n",
      "Starting testing\n"
     ]
    },
    {
     "name": "stderr",
     "output_type": "stream",
     "text": [
      "\n"
     ]
    },
    {
     "name": "stdout",
     "output_type": "stream",
     "text": [
      "Correct: 8899, total: 10000, accuracy: 0.8898999691, average loss: 0.0026847315\n"
     ]
    },
    {
     "name": "stderr",
     "output_type": "stream",
     "text": [
      "391it [00:27, 14.04it/s]"
     ]
    },
    {
     "name": "stdout",
     "output_type": "stream",
     "text": [
      "Epoch 174 finished, average loss: 0.0013700109\n",
      "Starting testing\n"
     ]
    },
    {
     "name": "stderr",
     "output_type": "stream",
     "text": [
      "\n"
     ]
    },
    {
     "name": "stdout",
     "output_type": "stream",
     "text": [
      "Correct: 9029, total: 10000, accuracy: 0.9028999805, average loss: 0.0022932437\n"
     ]
    },
    {
     "name": "stderr",
     "output_type": "stream",
     "text": [
      "391it [00:27, 14.06it/s]"
     ]
    },
    {
     "name": "stdout",
     "output_type": "stream",
     "text": [
      "Epoch 175 finished, average loss: 0.0014009191\n",
      "Starting testing\n"
     ]
    },
    {
     "name": "stderr",
     "output_type": "stream",
     "text": [
      "\n"
     ]
    },
    {
     "name": "stdout",
     "output_type": "stream",
     "text": [
      "Correct: 9029, total: 10000, accuracy: 0.9028999805, average loss: 0.0023857053\n"
     ]
    },
    {
     "name": "stderr",
     "output_type": "stream",
     "text": [
      "391it [00:27, 14.09it/s]"
     ]
    },
    {
     "name": "stdout",
     "output_type": "stream",
     "text": [
      "Epoch 176 finished, average loss: 0.0013794692\n",
      "Starting testing\n"
     ]
    },
    {
     "name": "stderr",
     "output_type": "stream",
     "text": [
      "\n"
     ]
    },
    {
     "name": "stdout",
     "output_type": "stream",
     "text": [
      "Correct: 8585, total: 10000, accuracy: 0.8585000038, average loss: 0.0034495088\n"
     ]
    },
    {
     "name": "stderr",
     "output_type": "stream",
     "text": [
      "391it [00:27, 14.02it/s]"
     ]
    },
    {
     "name": "stdout",
     "output_type": "stream",
     "text": [
      "Epoch 177 finished, average loss: 0.0013566496\n",
      "Starting testing\n"
     ]
    },
    {
     "name": "stderr",
     "output_type": "stream",
     "text": [
      "\n"
     ]
    },
    {
     "name": "stdout",
     "output_type": "stream",
     "text": [
      "Correct: 9090, total: 10000, accuracy: 0.9089999795, average loss: 0.0022225457\n"
     ]
    },
    {
     "name": "stderr",
     "output_type": "stream",
     "text": [
      "391it [00:27, 14.00it/s]"
     ]
    },
    {
     "name": "stdout",
     "output_type": "stream",
     "text": [
      "Epoch 178 finished, average loss: 0.0014046935\n",
      "Starting testing\n"
     ]
    },
    {
     "name": "stderr",
     "output_type": "stream",
     "text": [
      "\n"
     ]
    },
    {
     "name": "stdout",
     "output_type": "stream",
     "text": [
      "Correct: 8835, total: 10000, accuracy: 0.8834999800, average loss: 0.0028883926\n"
     ]
    },
    {
     "name": "stderr",
     "output_type": "stream",
     "text": [
      "391it [00:27, 14.08it/s]"
     ]
    },
    {
     "name": "stdout",
     "output_type": "stream",
     "text": [
      "Epoch 179 finished, average loss: 0.0014249496\n",
      "Starting testing\n"
     ]
    },
    {
     "name": "stderr",
     "output_type": "stream",
     "text": [
      "\n"
     ]
    },
    {
     "name": "stdout",
     "output_type": "stream",
     "text": [
      "Correct: 9044, total: 10000, accuracy: 0.9043999910, average loss: 0.0023001723\n"
     ]
    },
    {
     "name": "stderr",
     "output_type": "stream",
     "text": [
      "391it [00:27, 14.02it/s]"
     ]
    },
    {
     "name": "stdout",
     "output_type": "stream",
     "text": [
      "Epoch 180 finished, average loss: 0.0013529602\n",
      "Starting testing\n"
     ]
    },
    {
     "name": "stderr",
     "output_type": "stream",
     "text": [
      "\n"
     ]
    },
    {
     "name": "stdout",
     "output_type": "stream",
     "text": [
      "Correct: 8986, total: 10000, accuracy: 0.8985999823, average loss: 0.0025194327\n"
     ]
    },
    {
     "name": "stderr",
     "output_type": "stream",
     "text": [
      "391it [00:27, 13.98it/s]"
     ]
    },
    {
     "name": "stdout",
     "output_type": "stream",
     "text": [
      "Epoch 181 finished, average loss: 0.0014476703\n",
      "Starting testing\n"
     ]
    },
    {
     "name": "stderr",
     "output_type": "stream",
     "text": [
      "\n"
     ]
    },
    {
     "name": "stdout",
     "output_type": "stream",
     "text": [
      "Correct: 8953, total: 10000, accuracy: 0.8952999711, average loss: 0.0024600347\n"
     ]
    },
    {
     "name": "stderr",
     "output_type": "stream",
     "text": [
      "391it [00:27, 13.98it/s]"
     ]
    },
    {
     "name": "stdout",
     "output_type": "stream",
     "text": [
      "Epoch 182 finished, average loss: 0.0013804095\n",
      "Starting testing\n"
     ]
    },
    {
     "name": "stderr",
     "output_type": "stream",
     "text": [
      "\n"
     ]
    },
    {
     "name": "stdout",
     "output_type": "stream",
     "text": [
      "Correct: 8964, total: 10000, accuracy: 0.8963999748, average loss: 0.0025785895\n"
     ]
    },
    {
     "name": "stderr",
     "output_type": "stream",
     "text": [
      "391it [00:28, 13.96it/s]"
     ]
    },
    {
     "name": "stdout",
     "output_type": "stream",
     "text": [
      "Epoch 183 finished, average loss: 0.0013445295\n",
      "Starting testing\n"
     ]
    },
    {
     "name": "stderr",
     "output_type": "stream",
     "text": [
      "\n"
     ]
    },
    {
     "name": "stdout",
     "output_type": "stream",
     "text": [
      "Correct: 9020, total: 10000, accuracy: 0.9019999504, average loss: 0.0024366228\n"
     ]
    },
    {
     "name": "stderr",
     "output_type": "stream",
     "text": [
      "391it [00:27, 14.04it/s]"
     ]
    },
    {
     "name": "stdout",
     "output_type": "stream",
     "text": [
      "Epoch 184 finished, average loss: 0.0014035391\n",
      "Starting testing\n"
     ]
    },
    {
     "name": "stderr",
     "output_type": "stream",
     "text": [
      "\n"
     ]
    },
    {
     "name": "stdout",
     "output_type": "stream",
     "text": [
      "Correct: 9021, total: 10000, accuracy: 0.9020999670, average loss: 0.0023987035\n"
     ]
    },
    {
     "name": "stderr",
     "output_type": "stream",
     "text": [
      "391it [00:27, 14.01it/s]"
     ]
    },
    {
     "name": "stdout",
     "output_type": "stream",
     "text": [
      "Epoch 185 finished, average loss: 0.0014145738\n",
      "Starting testing\n"
     ]
    },
    {
     "name": "stderr",
     "output_type": "stream",
     "text": [
      "\n"
     ]
    },
    {
     "name": "stdout",
     "output_type": "stream",
     "text": [
      "Correct: 8770, total: 10000, accuracy: 0.8769999743, average loss: 0.0031135266\n"
     ]
    },
    {
     "name": "stderr",
     "output_type": "stream",
     "text": [
      "391it [00:27, 13.99it/s]"
     ]
    },
    {
     "name": "stdout",
     "output_type": "stream",
     "text": [
      "Epoch 186 finished, average loss: 0.0013535636\n",
      "Starting testing\n"
     ]
    },
    {
     "name": "stderr",
     "output_type": "stream",
     "text": [
      "\n"
     ]
    },
    {
     "name": "stdout",
     "output_type": "stream",
     "text": [
      "Correct: 8874, total: 10000, accuracy: 0.8873999715, average loss: 0.0029732087\n"
     ]
    },
    {
     "name": "stderr",
     "output_type": "stream",
     "text": [
      "391it [00:28, 13.96it/s]"
     ]
    },
    {
     "name": "stdout",
     "output_type": "stream",
     "text": [
      "Epoch 187 finished, average loss: 0.0013216077\n",
      "Starting testing\n"
     ]
    },
    {
     "name": "stderr",
     "output_type": "stream",
     "text": [
      "\n"
     ]
    },
    {
     "name": "stdout",
     "output_type": "stream",
     "text": [
      "Correct: 8912, total: 10000, accuracy: 0.8912000060, average loss: 0.0026817917\n"
     ]
    },
    {
     "name": "stderr",
     "output_type": "stream",
     "text": [
      "391it [00:27, 14.07it/s]"
     ]
    },
    {
     "name": "stdout",
     "output_type": "stream",
     "text": [
      "Epoch 188 finished, average loss: 0.0013635748\n",
      "Starting testing\n"
     ]
    },
    {
     "name": "stderr",
     "output_type": "stream",
     "text": [
      "\n"
     ]
    },
    {
     "name": "stdout",
     "output_type": "stream",
     "text": [
      "Correct: 8835, total: 10000, accuracy: 0.8834999800, average loss: 0.0031169037\n"
     ]
    },
    {
     "name": "stderr",
     "output_type": "stream",
     "text": [
      "391it [00:27, 13.99it/s]"
     ]
    },
    {
     "name": "stdout",
     "output_type": "stream",
     "text": [
      "Epoch 189 finished, average loss: 0.0013836730\n",
      "Starting testing\n"
     ]
    },
    {
     "name": "stderr",
     "output_type": "stream",
     "text": [
      "\n"
     ]
    },
    {
     "name": "stdout",
     "output_type": "stream",
     "text": [
      "Correct: 8992, total: 10000, accuracy: 0.8991999626, average loss: 0.0024568002\n"
     ]
    },
    {
     "name": "stderr",
     "output_type": "stream",
     "text": [
      "391it [00:27, 14.02it/s]"
     ]
    },
    {
     "name": "stdout",
     "output_type": "stream",
     "text": [
      "Epoch 190 finished, average loss: 0.0013971948\n",
      "Starting testing\n"
     ]
    },
    {
     "name": "stderr",
     "output_type": "stream",
     "text": [
      "\n"
     ]
    },
    {
     "name": "stdout",
     "output_type": "stream",
     "text": [
      "Correct: 9064, total: 10000, accuracy: 0.9063999653, average loss: 0.0021472023\n"
     ]
    },
    {
     "name": "stderr",
     "output_type": "stream",
     "text": [
      "391it [00:27, 13.99it/s]"
     ]
    },
    {
     "name": "stdout",
     "output_type": "stream",
     "text": [
      "Epoch 191 finished, average loss: 0.0013584071\n",
      "Starting testing\n"
     ]
    },
    {
     "name": "stderr",
     "output_type": "stream",
     "text": [
      "\n"
     ]
    },
    {
     "name": "stdout",
     "output_type": "stream",
     "text": [
      "Correct: 8957, total: 10000, accuracy: 0.8956999779, average loss: 0.0024965856\n"
     ]
    },
    {
     "name": "stderr",
     "output_type": "stream",
     "text": [
      "391it [00:27, 14.27it/s]"
     ]
    },
    {
     "name": "stdout",
     "output_type": "stream",
     "text": [
      "Epoch 192 finished, average loss: 0.0013688276\n",
      "Starting testing\n"
     ]
    },
    {
     "name": "stderr",
     "output_type": "stream",
     "text": [
      "\n"
     ]
    },
    {
     "name": "stdout",
     "output_type": "stream",
     "text": [
      "Correct: 9047, total: 10000, accuracy: 0.9046999812, average loss: 0.0023258224\n"
     ]
    },
    {
     "name": "stderr",
     "output_type": "stream",
     "text": [
      "391it [00:26, 14.71it/s]"
     ]
    },
    {
     "name": "stdout",
     "output_type": "stream",
     "text": [
      "Epoch 193 finished, average loss: 0.0013128209\n",
      "Starting testing\n"
     ]
    },
    {
     "name": "stderr",
     "output_type": "stream",
     "text": [
      "\n"
     ]
    },
    {
     "name": "stdout",
     "output_type": "stream",
     "text": [
      "Correct: 8993, total: 10000, accuracy: 0.8992999792, average loss: 0.0023361216\n"
     ]
    },
    {
     "name": "stderr",
     "output_type": "stream",
     "text": [
      "391it [00:26, 14.75it/s]"
     ]
    },
    {
     "name": "stdout",
     "output_type": "stream",
     "text": [
      "Epoch 194 finished, average loss: 0.0014277646\n",
      "Starting testing\n"
     ]
    },
    {
     "name": "stderr",
     "output_type": "stream",
     "text": [
      "\n"
     ]
    },
    {
     "name": "stdout",
     "output_type": "stream",
     "text": [
      "Correct: 9177, total: 10000, accuracy: 0.9176999927, average loss: 0.0020031370\n"
     ]
    },
    {
     "name": "stderr",
     "output_type": "stream",
     "text": [
      "391it [00:26, 14.73it/s]\n"
     ]
    },
    {
     "name": "stdout",
     "output_type": "stream",
     "text": [
      "Epoch 195 finished, average loss: 0.0013504428\n",
      "Starting testing\n",
      "Correct: 8804, total: 10000, accuracy: 0.8804000020, average loss: 0.0028925994\n"
     ]
    },
    {
     "name": "stderr",
     "output_type": "stream",
     "text": [
      "391it [00:26, 14.71it/s]"
     ]
    },
    {
     "name": "stdout",
     "output_type": "stream",
     "text": [
      "Epoch 196 finished, average loss: 0.0013803260\n",
      "Starting testing\n"
     ]
    },
    {
     "name": "stderr",
     "output_type": "stream",
     "text": [
      "\n"
     ]
    },
    {
     "name": "stdout",
     "output_type": "stream",
     "text": [
      "Correct: 9054, total: 10000, accuracy: 0.9053999782, average loss: 0.0022398143\n"
     ]
    },
    {
     "name": "stderr",
     "output_type": "stream",
     "text": [
      "391it [00:26, 14.78it/s]"
     ]
    },
    {
     "name": "stdout",
     "output_type": "stream",
     "text": [
      "Epoch 197 finished, average loss: 0.0013448911\n",
      "Starting testing\n"
     ]
    },
    {
     "name": "stderr",
     "output_type": "stream",
     "text": [
      "\n"
     ]
    },
    {
     "name": "stdout",
     "output_type": "stream",
     "text": [
      "Correct: 9066, total: 10000, accuracy: 0.9065999985, average loss: 0.0023431834\n"
     ]
    },
    {
     "name": "stderr",
     "output_type": "stream",
     "text": [
      "391it [00:26, 14.69it/s]"
     ]
    },
    {
     "name": "stdout",
     "output_type": "stream",
     "text": [
      "Epoch 198 finished, average loss: 0.0013374703\n",
      "Starting testing\n"
     ]
    },
    {
     "name": "stderr",
     "output_type": "stream",
     "text": [
      "\n"
     ]
    },
    {
     "name": "stdout",
     "output_type": "stream",
     "text": [
      "Correct: 9013, total: 10000, accuracy: 0.9012999535, average loss: 0.0024286001\n"
     ]
    },
    {
     "name": "stderr",
     "output_type": "stream",
     "text": [
      "391it [00:26, 14.68it/s]"
     ]
    },
    {
     "name": "stdout",
     "output_type": "stream",
     "text": [
      "Epoch 199 finished, average loss: 0.0014072715\n",
      "Starting testing\n"
     ]
    },
    {
     "name": "stderr",
     "output_type": "stream",
     "text": [
      "\n"
     ]
    },
    {
     "name": "stdout",
     "output_type": "stream",
     "text": [
      "Correct: 9032, total: 10000, accuracy: 0.9031999707, average loss: 0.0023453394\n"
     ]
    },
    {
     "name": "stderr",
     "output_type": "stream",
     "text": [
      "391it [00:26, 14.75it/s]"
     ]
    },
    {
     "name": "stdout",
     "output_type": "stream",
     "text": [
      "Epoch 200 finished, average loss: 0.0013189280\n",
      "Starting testing\n"
     ]
    },
    {
     "name": "stderr",
     "output_type": "stream",
     "text": [
      "\n"
     ]
    },
    {
     "name": "stdout",
     "output_type": "stream",
     "text": [
      "Correct: 9078, total: 10000, accuracy: 0.9077999592, average loss: 0.0022076694\n"
     ]
    },
    {
     "name": "stderr",
     "output_type": "stream",
     "text": [
      "391it [00:26, 14.69it/s]"
     ]
    },
    {
     "name": "stdout",
     "output_type": "stream",
     "text": [
      "Epoch 201 finished, average loss: 0.0013890307\n",
      "Starting testing\n"
     ]
    },
    {
     "name": "stderr",
     "output_type": "stream",
     "text": [
      "\n"
     ]
    },
    {
     "name": "stdout",
     "output_type": "stream",
     "text": [
      "Correct: 8994, total: 10000, accuracy: 0.8993999958, average loss: 0.0023812564\n"
     ]
    },
    {
     "name": "stderr",
     "output_type": "stream",
     "text": [
      "391it [00:26, 14.72it/s]"
     ]
    },
    {
     "name": "stdout",
     "output_type": "stream",
     "text": [
      "Epoch 202 finished, average loss: 0.0013623514\n",
      "Starting testing\n"
     ]
    },
    {
     "name": "stderr",
     "output_type": "stream",
     "text": [
      "\n"
     ]
    },
    {
     "name": "stdout",
     "output_type": "stream",
     "text": [
      "Correct: 8974, total: 10000, accuracy: 0.8973999619, average loss: 0.0024252948\n"
     ]
    },
    {
     "name": "stderr",
     "output_type": "stream",
     "text": [
      "391it [00:26, 14.64it/s]"
     ]
    },
    {
     "name": "stdout",
     "output_type": "stream",
     "text": [
      "Epoch 203 finished, average loss: 0.0013163243\n",
      "Starting testing\n"
     ]
    },
    {
     "name": "stderr",
     "output_type": "stream",
     "text": [
      "\n"
     ]
    },
    {
     "name": "stdout",
     "output_type": "stream",
     "text": [
      "Correct: 8973, total: 10000, accuracy: 0.8973000050, average loss: 0.0028223659\n"
     ]
    },
    {
     "name": "stderr",
     "output_type": "stream",
     "text": [
      "391it [00:28, 13.54it/s]"
     ]
    },
    {
     "name": "stdout",
     "output_type": "stream",
     "text": [
      "Epoch 204 finished, average loss: 0.0013237789\n",
      "Starting testing\n"
     ]
    },
    {
     "name": "stderr",
     "output_type": "stream",
     "text": [
      "\n"
     ]
    },
    {
     "name": "stdout",
     "output_type": "stream",
     "text": [
      "Correct: 8988, total: 10000, accuracy: 0.8987999558, average loss: 0.0025498048\n"
     ]
    },
    {
     "name": "stderr",
     "output_type": "stream",
     "text": [
      "391it [00:31, 12.57it/s]"
     ]
    },
    {
     "name": "stdout",
     "output_type": "stream",
     "text": [
      "Epoch 205 finished, average loss: 0.0013569233\n",
      "Starting testing\n"
     ]
    },
    {
     "name": "stderr",
     "output_type": "stream",
     "text": [
      "\n"
     ]
    },
    {
     "name": "stdout",
     "output_type": "stream",
     "text": [
      "Correct: 9004, total: 10000, accuracy: 0.9003999829, average loss: 0.0024788278\n"
     ]
    },
    {
     "name": "stderr",
     "output_type": "stream",
     "text": [
      "391it [00:30, 12.74it/s]"
     ]
    },
    {
     "name": "stdout",
     "output_type": "stream",
     "text": [
      "Epoch 206 finished, average loss: 0.0013427219\n",
      "Starting testing\n"
     ]
    },
    {
     "name": "stderr",
     "output_type": "stream",
     "text": [
      "\n"
     ]
    },
    {
     "name": "stdout",
     "output_type": "stream",
     "text": [
      "Correct: 9056, total: 10000, accuracy: 0.9055999517, average loss: 0.0024023560\n"
     ]
    },
    {
     "name": "stderr",
     "output_type": "stream",
     "text": [
      "391it [00:31, 12.45it/s]"
     ]
    },
    {
     "name": "stdout",
     "output_type": "stream",
     "text": [
      "Epoch 207 finished, average loss: 0.0013904575\n",
      "Starting testing\n"
     ]
    },
    {
     "name": "stderr",
     "output_type": "stream",
     "text": [
      "\n"
     ]
    },
    {
     "name": "stdout",
     "output_type": "stream",
     "text": [
      "Correct: 8949, total: 10000, accuracy: 0.8948999643, average loss: 0.0026572240\n"
     ]
    },
    {
     "name": "stderr",
     "output_type": "stream",
     "text": [
      "391it [00:31, 12.39it/s]"
     ]
    },
    {
     "name": "stdout",
     "output_type": "stream",
     "text": [
      "Epoch 208 finished, average loss: 0.0013867489\n",
      "Starting testing\n"
     ]
    },
    {
     "name": "stderr",
     "output_type": "stream",
     "text": [
      "\n"
     ]
    },
    {
     "name": "stdout",
     "output_type": "stream",
     "text": [
      "Correct: 9073, total: 10000, accuracy: 0.9072999954, average loss: 0.0022016827\n"
     ]
    },
    {
     "name": "stderr",
     "output_type": "stream",
     "text": [
      "391it [00:31, 12.47it/s]\n"
     ]
    },
    {
     "name": "stdout",
     "output_type": "stream",
     "text": [
      "Epoch 209 finished, average loss: 0.0013096073\n",
      "Starting testing\n",
      "Correct: 9064, total: 10000, accuracy: 0.9063999653, average loss: 0.0023074185\n"
     ]
    },
    {
     "name": "stderr",
     "output_type": "stream",
     "text": [
      "391it [00:31, 12.40it/s]"
     ]
    },
    {
     "name": "stdout",
     "output_type": "stream",
     "text": [
      "Epoch 210 finished, average loss: 0.0013340807\n",
      "Starting testing\n"
     ]
    },
    {
     "name": "stderr",
     "output_type": "stream",
     "text": [
      "\n"
     ]
    },
    {
     "name": "stdout",
     "output_type": "stream",
     "text": [
      "Correct: 9046, total: 10000, accuracy: 0.9045999646, average loss: 0.0024324965\n"
     ]
    },
    {
     "name": "stderr",
     "output_type": "stream",
     "text": [
      "391it [00:31, 12.26it/s]"
     ]
    },
    {
     "name": "stdout",
     "output_type": "stream",
     "text": [
      "Epoch 211 finished, average loss: 0.0014019946\n",
      "Starting testing\n"
     ]
    },
    {
     "name": "stderr",
     "output_type": "stream",
     "text": [
      "\n"
     ]
    },
    {
     "name": "stdout",
     "output_type": "stream",
     "text": [
      "Correct: 9029, total: 10000, accuracy: 0.9028999805, average loss: 0.0024066644\n"
     ]
    },
    {
     "name": "stderr",
     "output_type": "stream",
     "text": [
      "391it [00:30, 12.85it/s]"
     ]
    },
    {
     "name": "stdout",
     "output_type": "stream",
     "text": [
      "Epoch 212 finished, average loss: 0.0013560278\n",
      "Starting testing\n"
     ]
    },
    {
     "name": "stderr",
     "output_type": "stream",
     "text": [
      "\n"
     ]
    },
    {
     "name": "stdout",
     "output_type": "stream",
     "text": [
      "Correct: 9029, total: 10000, accuracy: 0.9028999805, average loss: 0.0024286484\n"
     ]
    },
    {
     "name": "stderr",
     "output_type": "stream",
     "text": [
      "391it [00:31, 12.53it/s]"
     ]
    },
    {
     "name": "stdout",
     "output_type": "stream",
     "text": [
      "Epoch 213 finished, average loss: 0.0012730784\n",
      "Starting testing\n"
     ]
    },
    {
     "name": "stderr",
     "output_type": "stream",
     "text": [
      "\n"
     ]
    },
    {
     "name": "stdout",
     "output_type": "stream",
     "text": [
      "Correct: 8958, total: 10000, accuracy: 0.8957999945, average loss: 0.0025071702\n"
     ]
    },
    {
     "name": "stderr",
     "output_type": "stream",
     "text": [
      "391it [00:31, 12.59it/s]"
     ]
    },
    {
     "name": "stdout",
     "output_type": "stream",
     "text": [
      "Epoch 214 finished, average loss: 0.0013292966\n",
      "Starting testing\n"
     ]
    },
    {
     "name": "stderr",
     "output_type": "stream",
     "text": [
      "\n"
     ]
    },
    {
     "name": "stdout",
     "output_type": "stream",
     "text": [
      "Correct: 9109, total: 10000, accuracy: 0.9108999968, average loss: 0.0021851996\n"
     ]
    },
    {
     "name": "stderr",
     "output_type": "stream",
     "text": [
      "391it [00:31, 12.31it/s]"
     ]
    },
    {
     "name": "stdout",
     "output_type": "stream",
     "text": [
      "Epoch 215 finished, average loss: 0.0013682224\n",
      "Starting testing\n"
     ]
    },
    {
     "name": "stderr",
     "output_type": "stream",
     "text": [
      "\n"
     ]
    },
    {
     "name": "stdout",
     "output_type": "stream",
     "text": [
      "Correct: 9119, total: 10000, accuracy: 0.9118999839, average loss: 0.0021973618\n"
     ]
    },
    {
     "name": "stderr",
     "output_type": "stream",
     "text": [
      "391it [00:31, 12.56it/s]"
     ]
    },
    {
     "name": "stdout",
     "output_type": "stream",
     "text": [
      "Epoch 216 finished, average loss: 0.0013227032\n",
      "Starting testing\n"
     ]
    },
    {
     "name": "stderr",
     "output_type": "stream",
     "text": [
      "\n"
     ]
    },
    {
     "name": "stdout",
     "output_type": "stream",
     "text": [
      "Correct: 8819, total: 10000, accuracy: 0.8818999529, average loss: 0.0032311995\n"
     ]
    },
    {
     "name": "stderr",
     "output_type": "stream",
     "text": [
      "391it [00:31, 12.55it/s]"
     ]
    },
    {
     "name": "stdout",
     "output_type": "stream",
     "text": [
      "Epoch 217 finished, average loss: 0.0013521331\n",
      "Starting testing\n"
     ]
    },
    {
     "name": "stderr",
     "output_type": "stream",
     "text": [
      "\n"
     ]
    },
    {
     "name": "stdout",
     "output_type": "stream",
     "text": [
      "Correct: 9074, total: 10000, accuracy: 0.9073999524, average loss: 0.0022571274\n"
     ]
    },
    {
     "name": "stderr",
     "output_type": "stream",
     "text": [
      "391it [00:31, 12.47it/s]"
     ]
    },
    {
     "name": "stdout",
     "output_type": "stream",
     "text": [
      "Epoch 218 finished, average loss: 0.0013430707\n",
      "Starting testing\n"
     ]
    },
    {
     "name": "stderr",
     "output_type": "stream",
     "text": [
      "\n"
     ]
    },
    {
     "name": "stdout",
     "output_type": "stream",
     "text": [
      "Correct: 8930, total: 10000, accuracy: 0.8930000067, average loss: 0.0025839797\n"
     ]
    },
    {
     "name": "stderr",
     "output_type": "stream",
     "text": [
      "391it [00:31, 12.37it/s]"
     ]
    },
    {
     "name": "stdout",
     "output_type": "stream",
     "text": [
      "Epoch 219 finished, average loss: 0.0013165309\n",
      "Starting testing\n"
     ]
    },
    {
     "name": "stderr",
     "output_type": "stream",
     "text": [
      "\n"
     ]
    },
    {
     "name": "stdout",
     "output_type": "stream",
     "text": [
      "Correct: 8832, total: 10000, accuracy: 0.8831999898, average loss: 0.0028258394\n"
     ]
    },
    {
     "name": "stderr",
     "output_type": "stream",
     "text": [
      "391it [00:31, 12.40it/s]"
     ]
    },
    {
     "name": "stdout",
     "output_type": "stream",
     "text": [
      "Epoch 220 finished, average loss: 0.0013811368\n",
      "Starting testing\n"
     ]
    },
    {
     "name": "stderr",
     "output_type": "stream",
     "text": [
      "\n"
     ]
    },
    {
     "name": "stdout",
     "output_type": "stream",
     "text": [
      "Correct: 8909, total: 10000, accuracy: 0.8908999562, average loss: 0.0027987950\n"
     ]
    },
    {
     "name": "stderr",
     "output_type": "stream",
     "text": [
      "391it [00:31, 12.36it/s]"
     ]
    },
    {
     "name": "stdout",
     "output_type": "stream",
     "text": [
      "Epoch 221 finished, average loss: 0.0013044552\n",
      "Starting testing\n"
     ]
    },
    {
     "name": "stderr",
     "output_type": "stream",
     "text": [
      "\n"
     ]
    },
    {
     "name": "stdout",
     "output_type": "stream",
     "text": [
      "Correct: 9043, total: 10000, accuracy: 0.9042999744, average loss: 0.0024810393\n"
     ]
    },
    {
     "name": "stderr",
     "output_type": "stream",
     "text": [
      "391it [00:31, 12.59it/s]"
     ]
    },
    {
     "name": "stdout",
     "output_type": "stream",
     "text": [
      "Epoch 222 finished, average loss: 0.0013392755\n",
      "Starting testing\n"
     ]
    },
    {
     "name": "stderr",
     "output_type": "stream",
     "text": [
      "\n"
     ]
    },
    {
     "name": "stdout",
     "output_type": "stream",
     "text": [
      "Correct: 8938, total: 10000, accuracy: 0.8937999606, average loss: 0.0026548927\n"
     ]
    },
    {
     "name": "stderr",
     "output_type": "stream",
     "text": [
      "391it [00:31, 12.34it/s]"
     ]
    },
    {
     "name": "stdout",
     "output_type": "stream",
     "text": [
      "Epoch 223 finished, average loss: 0.0013188347\n",
      "Starting testing\n"
     ]
    },
    {
     "name": "stderr",
     "output_type": "stream",
     "text": [
      "\n"
     ]
    },
    {
     "name": "stdout",
     "output_type": "stream",
     "text": [
      "Correct: 9006, total: 10000, accuracy: 0.9005999565, average loss: 0.0024617708\n"
     ]
    },
    {
     "name": "stderr",
     "output_type": "stream",
     "text": [
      "391it [00:31, 12.24it/s]"
     ]
    },
    {
     "name": "stdout",
     "output_type": "stream",
     "text": [
      "Epoch 224 finished, average loss: 0.0013527225\n",
      "Starting testing\n"
     ]
    },
    {
     "name": "stderr",
     "output_type": "stream",
     "text": [
      "\n"
     ]
    },
    {
     "name": "stdout",
     "output_type": "stream",
     "text": [
      "Correct: 9022, total: 10000, accuracy: 0.9021999836, average loss: 0.0023841701\n"
     ]
    },
    {
     "name": "stderr",
     "output_type": "stream",
     "text": [
      "391it [00:31, 12.35it/s]"
     ]
    },
    {
     "name": "stdout",
     "output_type": "stream",
     "text": [
      "Epoch 225 finished, average loss: 0.0013151870\n",
      "Starting testing\n"
     ]
    },
    {
     "name": "stderr",
     "output_type": "stream",
     "text": [
      "\n"
     ]
    },
    {
     "name": "stdout",
     "output_type": "stream",
     "text": [
      "Correct: 8843, total: 10000, accuracy: 0.8842999935, average loss: 0.0027836619\n"
     ]
    },
    {
     "name": "stderr",
     "output_type": "stream",
     "text": [
      "391it [00:31, 12.31it/s]"
     ]
    },
    {
     "name": "stdout",
     "output_type": "stream",
     "text": [
      "Epoch 226 finished, average loss: 0.0013512660\n",
      "Starting testing\n"
     ]
    },
    {
     "name": "stderr",
     "output_type": "stream",
     "text": [
      "\n"
     ]
    },
    {
     "name": "stdout",
     "output_type": "stream",
     "text": [
      "Correct: 8879, total: 10000, accuracy: 0.8878999949, average loss: 0.0028302759\n"
     ]
    },
    {
     "name": "stderr",
     "output_type": "stream",
     "text": [
      "391it [00:30, 12.66it/s]"
     ]
    },
    {
     "name": "stdout",
     "output_type": "stream",
     "text": [
      "Epoch 227 finished, average loss: 0.0013055485\n",
      "Starting testing\n"
     ]
    },
    {
     "name": "stderr",
     "output_type": "stream",
     "text": [
      "\n"
     ]
    },
    {
     "name": "stdout",
     "output_type": "stream",
     "text": [
      "Correct: 9103, total: 10000, accuracy: 0.9102999568, average loss: 0.0021076712\n"
     ]
    },
    {
     "name": "stderr",
     "output_type": "stream",
     "text": [
      "391it [00:31, 12.57it/s]"
     ]
    },
    {
     "name": "stdout",
     "output_type": "stream",
     "text": [
      "Epoch 228 finished, average loss: 0.0013321718\n",
      "Starting testing\n"
     ]
    },
    {
     "name": "stderr",
     "output_type": "stream",
     "text": [
      "\n"
     ]
    },
    {
     "name": "stdout",
     "output_type": "stream",
     "text": [
      "Correct: 9040, total: 10000, accuracy: 0.9039999843, average loss: 0.0024325619\n"
     ]
    },
    {
     "name": "stderr",
     "output_type": "stream",
     "text": [
      "391it [00:31, 12.54it/s]\n"
     ]
    },
    {
     "name": "stdout",
     "output_type": "stream",
     "text": [
      "Epoch 229 finished, average loss: 0.0013182427\n",
      "Starting testing\n",
      "Correct: 8950, total: 10000, accuracy: 0.8949999809, average loss: 0.0024710092\n"
     ]
    },
    {
     "name": "stderr",
     "output_type": "stream",
     "text": [
      "391it [00:31, 12.54it/s]"
     ]
    },
    {
     "name": "stdout",
     "output_type": "stream",
     "text": [
      "Epoch 230 finished, average loss: 0.0013042549\n",
      "Starting testing\n"
     ]
    },
    {
     "name": "stderr",
     "output_type": "stream",
     "text": [
      "\n"
     ]
    },
    {
     "name": "stdout",
     "output_type": "stream",
     "text": [
      "Correct: 9047, total: 10000, accuracy: 0.9046999812, average loss: 0.0024419619\n"
     ]
    },
    {
     "name": "stderr",
     "output_type": "stream",
     "text": [
      "391it [00:30, 12.75it/s]"
     ]
    },
    {
     "name": "stdout",
     "output_type": "stream",
     "text": [
      "Epoch 231 finished, average loss: 0.0013042718\n",
      "Starting testing\n"
     ]
    },
    {
     "name": "stderr",
     "output_type": "stream",
     "text": [
      "\n"
     ]
    },
    {
     "name": "stdout",
     "output_type": "stream",
     "text": [
      "Correct: 9039, total: 10000, accuracy: 0.9038999677, average loss: 0.0025498436\n"
     ]
    },
    {
     "name": "stderr",
     "output_type": "stream",
     "text": [
      "391it [00:28, 13.53it/s]"
     ]
    },
    {
     "name": "stdout",
     "output_type": "stream",
     "text": [
      "Epoch 232 finished, average loss: 0.0012909417\n",
      "Starting testing\n"
     ]
    },
    {
     "name": "stderr",
     "output_type": "stream",
     "text": [
      "\n"
     ]
    },
    {
     "name": "stdout",
     "output_type": "stream",
     "text": [
      "Correct: 9015, total: 10000, accuracy: 0.9014999866, average loss: 0.0025329985\n"
     ]
    },
    {
     "name": "stderr",
     "output_type": "stream",
     "text": [
      "391it [00:30, 12.92it/s]\n"
     ]
    },
    {
     "name": "stdout",
     "output_type": "stream",
     "text": [
      "Epoch 233 finished, average loss: 0.0013235930\n",
      "Starting testing\n",
      "Correct: 9010, total: 10000, accuracy: 0.9009999633, average loss: 0.0023954181\n"
     ]
    },
    {
     "name": "stderr",
     "output_type": "stream",
     "text": [
      "391it [00:30, 12.77it/s]"
     ]
    },
    {
     "name": "stdout",
     "output_type": "stream",
     "text": [
      "Epoch 234 finished, average loss: 0.0013031879\n",
      "Starting testing\n"
     ]
    },
    {
     "name": "stderr",
     "output_type": "stream",
     "text": [
      "\n"
     ]
    },
    {
     "name": "stdout",
     "output_type": "stream",
     "text": [
      "Correct: 9043, total: 10000, accuracy: 0.9042999744, average loss: 0.0023953773\n"
     ]
    },
    {
     "name": "stderr",
     "output_type": "stream",
     "text": [
      "391it [00:30, 12.84it/s]"
     ]
    },
    {
     "name": "stdout",
     "output_type": "stream",
     "text": [
      "Epoch 235 finished, average loss: 0.0013431552\n",
      "Starting testing\n"
     ]
    },
    {
     "name": "stderr",
     "output_type": "stream",
     "text": [
      "\n"
     ]
    },
    {
     "name": "stdout",
     "output_type": "stream",
     "text": [
      "Correct: 9006, total: 10000, accuracy: 0.9005999565, average loss: 0.0023803999\n"
     ]
    },
    {
     "name": "stderr",
     "output_type": "stream",
     "text": [
      "391it [00:30, 12.87it/s]\n"
     ]
    },
    {
     "name": "stdout",
     "output_type": "stream",
     "text": [
      "Epoch 236 finished, average loss: 0.0012911063\n",
      "Starting testing\n",
      "Correct: 8956, total: 10000, accuracy: 0.8955999613, average loss: 0.0025274972\n"
     ]
    },
    {
     "name": "stderr",
     "output_type": "stream",
     "text": [
      "391it [00:30, 12.68it/s]"
     ]
    },
    {
     "name": "stdout",
     "output_type": "stream",
     "text": [
      "Epoch 237 finished, average loss: 0.0013034933\n",
      "Starting testing\n"
     ]
    },
    {
     "name": "stderr",
     "output_type": "stream",
     "text": [
      "\n"
     ]
    },
    {
     "name": "stdout",
     "output_type": "stream",
     "text": [
      "Correct: 9039, total: 10000, accuracy: 0.9038999677, average loss: 0.0023459215\n"
     ]
    },
    {
     "name": "stderr",
     "output_type": "stream",
     "text": [
      "391it [00:32, 12.13it/s]"
     ]
    },
    {
     "name": "stdout",
     "output_type": "stream",
     "text": [
      "Epoch 238 finished, average loss: 0.0013631754\n",
      "Starting testing\n"
     ]
    },
    {
     "name": "stderr",
     "output_type": "stream",
     "text": [
      "\n"
     ]
    },
    {
     "name": "stdout",
     "output_type": "stream",
     "text": [
      "Correct: 8849, total: 10000, accuracy: 0.8848999739, average loss: 0.0028351161\n"
     ]
    },
    {
     "name": "stderr",
     "output_type": "stream",
     "text": [
      "391it [00:30, 12.68it/s]\n"
     ]
    },
    {
     "name": "stdout",
     "output_type": "stream",
     "text": [
      "Epoch 239 finished, average loss: 0.0013156411\n",
      "Starting testing\n",
      "Correct: 8993, total: 10000, accuracy: 0.8992999792, average loss: 0.0025002973\n"
     ]
    },
    {
     "name": "stderr",
     "output_type": "stream",
     "text": [
      "391it [00:30, 12.71it/s]"
     ]
    },
    {
     "name": "stdout",
     "output_type": "stream",
     "text": [
      "Epoch 240 finished, average loss: 0.0013051296\n",
      "Starting testing\n"
     ]
    },
    {
     "name": "stderr",
     "output_type": "stream",
     "text": [
      "\n"
     ]
    },
    {
     "name": "stdout",
     "output_type": "stream",
     "text": [
      "Correct: 9109, total: 10000, accuracy: 0.9108999968, average loss: 0.0021610703\n"
     ]
    },
    {
     "name": "stderr",
     "output_type": "stream",
     "text": [
      "391it [00:30, 12.81it/s]"
     ]
    },
    {
     "name": "stdout",
     "output_type": "stream",
     "text": [
      "Epoch 241 finished, average loss: 0.0012667993\n",
      "Starting testing\n"
     ]
    },
    {
     "name": "stderr",
     "output_type": "stream",
     "text": [
      "\n"
     ]
    },
    {
     "name": "stdout",
     "output_type": "stream",
     "text": [
      "Correct: 9038, total: 10000, accuracy: 0.9037999511, average loss: 0.0023661866\n"
     ]
    },
    {
     "name": "stderr",
     "output_type": "stream",
     "text": [
      "391it [00:30, 12.73it/s]\n"
     ]
    },
    {
     "name": "stdout",
     "output_type": "stream",
     "text": [
      "Epoch 242 finished, average loss: 0.0012705167\n",
      "Starting testing\n",
      "Correct: 9010, total: 10000, accuracy: 0.9009999633, average loss: 0.0025886384\n"
     ]
    },
    {
     "name": "stderr",
     "output_type": "stream",
     "text": [
      "391it [00:30, 12.90it/s]\n"
     ]
    },
    {
     "name": "stdout",
     "output_type": "stream",
     "text": [
      "Epoch 243 finished, average loss: 0.0013889677\n",
      "Starting testing\n",
      "Correct: 9001, total: 10000, accuracy: 0.9000999928, average loss: 0.0024175803\n"
     ]
    },
    {
     "name": "stderr",
     "output_type": "stream",
     "text": [
      "391it [00:30, 12.84it/s]"
     ]
    },
    {
     "name": "stdout",
     "output_type": "stream",
     "text": [
      "Epoch 244 finished, average loss: 0.0013011452\n",
      "Starting testing\n"
     ]
    },
    {
     "name": "stderr",
     "output_type": "stream",
     "text": [
      "\n"
     ]
    },
    {
     "name": "stdout",
     "output_type": "stream",
     "text": [
      "Correct: 9034, total: 10000, accuracy: 0.9034000039, average loss: 0.0024214870\n"
     ]
    },
    {
     "name": "stderr",
     "output_type": "stream",
     "text": [
      "391it [00:30, 12.85it/s]"
     ]
    },
    {
     "name": "stdout",
     "output_type": "stream",
     "text": [
      "Epoch 245 finished, average loss: 0.0012739614\n",
      "Starting testing\n"
     ]
    },
    {
     "name": "stderr",
     "output_type": "stream",
     "text": [
      "\n"
     ]
    },
    {
     "name": "stdout",
     "output_type": "stream",
     "text": [
      "Correct: 9105, total: 10000, accuracy: 0.9104999900, average loss: 0.0021943920\n"
     ]
    },
    {
     "name": "stderr",
     "output_type": "stream",
     "text": [
      "391it [00:30, 13.02it/s]"
     ]
    },
    {
     "name": "stdout",
     "output_type": "stream",
     "text": [
      "Epoch 246 finished, average loss: 0.0012907998\n",
      "Starting testing\n"
     ]
    },
    {
     "name": "stderr",
     "output_type": "stream",
     "text": [
      "\n"
     ]
    },
    {
     "name": "stdout",
     "output_type": "stream",
     "text": [
      "Correct: 8694, total: 10000, accuracy: 0.8693999648, average loss: 0.0033459516\n"
     ]
    },
    {
     "name": "stderr",
     "output_type": "stream",
     "text": [
      "391it [00:29, 13.43it/s]"
     ]
    },
    {
     "name": "stdout",
     "output_type": "stream",
     "text": [
      "Epoch 247 finished, average loss: 0.0013353718\n",
      "Starting testing\n"
     ]
    },
    {
     "name": "stderr",
     "output_type": "stream",
     "text": [
      "\n"
     ]
    },
    {
     "name": "stdout",
     "output_type": "stream",
     "text": [
      "Correct: 9049, total: 10000, accuracy: 0.9048999548, average loss: 0.0024287667\n"
     ]
    },
    {
     "name": "stderr",
     "output_type": "stream",
     "text": [
      "391it [00:29, 13.29it/s]"
     ]
    },
    {
     "name": "stdout",
     "output_type": "stream",
     "text": [
      "Epoch 248 finished, average loss: 0.0013360065\n",
      "Starting testing\n"
     ]
    },
    {
     "name": "stderr",
     "output_type": "stream",
     "text": [
      "\n"
     ]
    },
    {
     "name": "stdout",
     "output_type": "stream",
     "text": [
      "Correct: 9088, total: 10000, accuracy: 0.9088000059, average loss: 0.0021513680\n"
     ]
    },
    {
     "name": "stderr",
     "output_type": "stream",
     "text": [
      "391it [00:27, 14.13it/s]"
     ]
    },
    {
     "name": "stdout",
     "output_type": "stream",
     "text": [
      "Epoch 249 finished, average loss: 0.0012591966\n",
      "Starting testing\n"
     ]
    },
    {
     "name": "stderr",
     "output_type": "stream",
     "text": [
      "\n"
     ]
    },
    {
     "name": "stdout",
     "output_type": "stream",
     "text": [
      "Correct: 8948, total: 10000, accuracy: 0.8947999477, average loss: 0.0026803551\n"
     ]
    },
    {
     "name": "stderr",
     "output_type": "stream",
     "text": [
      "391it [00:27, 14.21it/s]"
     ]
    },
    {
     "name": "stdout",
     "output_type": "stream",
     "text": [
      "Epoch 250 finished, average loss: 0.0013130784\n",
      "Starting testing\n"
     ]
    },
    {
     "name": "stderr",
     "output_type": "stream",
     "text": [
      "\n"
     ]
    },
    {
     "name": "stdout",
     "output_type": "stream",
     "text": [
      "Correct: 9082, total: 10000, accuracy: 0.9081999660, average loss: 0.0023507045\n"
     ]
    },
    {
     "name": "stderr",
     "output_type": "stream",
     "text": [
      "391it [00:27, 14.11it/s]"
     ]
    },
    {
     "name": "stdout",
     "output_type": "stream",
     "text": [
      "Epoch 251 finished, average loss: 0.0007763750\n",
      "Starting testing\n"
     ]
    },
    {
     "name": "stderr",
     "output_type": "stream",
     "text": [
      "\n"
     ]
    },
    {
     "name": "stdout",
     "output_type": "stream",
     "text": [
      "Correct: 9341, total: 10000, accuracy: 0.9340999722, average loss: 0.0015575066\n"
     ]
    },
    {
     "name": "stderr",
     "output_type": "stream",
     "text": [
      "391it [00:28, 13.87it/s]"
     ]
    },
    {
     "name": "stdout",
     "output_type": "stream",
     "text": [
      "Epoch 252 finished, average loss: 0.0005574788\n",
      "Starting testing\n"
     ]
    },
    {
     "name": "stderr",
     "output_type": "stream",
     "text": [
      "\n"
     ]
    },
    {
     "name": "stdout",
     "output_type": "stream",
     "text": [
      "Correct: 9347, total: 10000, accuracy: 0.9346999526, average loss: 0.0015317756\n"
     ]
    },
    {
     "name": "stderr",
     "output_type": "stream",
     "text": [
      "391it [00:27, 14.05it/s]"
     ]
    },
    {
     "name": "stdout",
     "output_type": "stream",
     "text": [
      "Epoch 253 finished, average loss: 0.0004835758\n",
      "Starting testing\n"
     ]
    },
    {
     "name": "stderr",
     "output_type": "stream",
     "text": [
      "\n"
     ]
    },
    {
     "name": "stdout",
     "output_type": "stream",
     "text": [
      "Correct: 9376, total: 10000, accuracy: 0.9375999570, average loss: 0.0015419296\n"
     ]
    },
    {
     "name": "stderr",
     "output_type": "stream",
     "text": [
      "391it [00:28, 13.90it/s]\n"
     ]
    },
    {
     "name": "stdout",
     "output_type": "stream",
     "text": [
      "Epoch 254 finished, average loss: 0.0004560387\n",
      "Starting testing\n",
      "Correct: 9373, total: 10000, accuracy: 0.9372999668, average loss: 0.0015223555\n"
     ]
    },
    {
     "name": "stderr",
     "output_type": "stream",
     "text": [
      "391it [00:28, 13.87it/s]"
     ]
    },
    {
     "name": "stdout",
     "output_type": "stream",
     "text": [
      "Epoch 255 finished, average loss: 0.0003997752\n",
      "Starting testing\n"
     ]
    },
    {
     "name": "stderr",
     "output_type": "stream",
     "text": [
      "\n"
     ]
    },
    {
     "name": "stdout",
     "output_type": "stream",
     "text": [
      "Correct: 9389, total: 10000, accuracy: 0.9388999939, average loss: 0.0015488846\n"
     ]
    },
    {
     "name": "stderr",
     "output_type": "stream",
     "text": [
      "391it [00:27, 14.04it/s]\n"
     ]
    },
    {
     "name": "stdout",
     "output_type": "stream",
     "text": [
      "Epoch 256 finished, average loss: 0.0003831451\n",
      "Starting testing\n",
      "Correct: 9405, total: 10000, accuracy: 0.9404999614, average loss: 0.0014783020\n"
     ]
    },
    {
     "name": "stderr",
     "output_type": "stream",
     "text": [
      "391it [00:28, 13.79it/s]"
     ]
    },
    {
     "name": "stdout",
     "output_type": "stream",
     "text": [
      "Epoch 257 finished, average loss: 0.0003556264\n",
      "Starting testing\n"
     ]
    },
    {
     "name": "stderr",
     "output_type": "stream",
     "text": [
      "\n"
     ]
    },
    {
     "name": "stdout",
     "output_type": "stream",
     "text": [
      "Correct: 9399, total: 10000, accuracy: 0.9398999810, average loss: 0.0015641446\n"
     ]
    },
    {
     "name": "stderr",
     "output_type": "stream",
     "text": [
      "391it [00:30, 13.03it/s]"
     ]
    },
    {
     "name": "stdout",
     "output_type": "stream",
     "text": [
      "Epoch 258 finished, average loss: 0.0003405014\n",
      "Starting testing\n"
     ]
    },
    {
     "name": "stderr",
     "output_type": "stream",
     "text": [
      "\n"
     ]
    },
    {
     "name": "stdout",
     "output_type": "stream",
     "text": [
      "Correct: 9396, total: 10000, accuracy: 0.9395999908, average loss: 0.0015193073\n"
     ]
    },
    {
     "name": "stderr",
     "output_type": "stream",
     "text": [
      "391it [00:30, 12.91it/s]"
     ]
    },
    {
     "name": "stdout",
     "output_type": "stream",
     "text": [
      "Epoch 259 finished, average loss: 0.0003169080\n",
      "Starting testing\n"
     ]
    },
    {
     "name": "stderr",
     "output_type": "stream",
     "text": [
      "\n"
     ]
    },
    {
     "name": "stdout",
     "output_type": "stream",
     "text": [
      "Correct: 9402, total: 10000, accuracy: 0.9401999712, average loss: 0.0015238179\n"
     ]
    },
    {
     "name": "stderr",
     "output_type": "stream",
     "text": [
      "391it [00:30, 12.99it/s]"
     ]
    },
    {
     "name": "stdout",
     "output_type": "stream",
     "text": [
      "Epoch 260 finished, average loss: 0.0003094850\n",
      "Starting testing\n"
     ]
    },
    {
     "name": "stderr",
     "output_type": "stream",
     "text": [
      "\n"
     ]
    },
    {
     "name": "stdout",
     "output_type": "stream",
     "text": [
      "Correct: 9396, total: 10000, accuracy: 0.9395999908, average loss: 0.0016031859\n"
     ]
    },
    {
     "name": "stderr",
     "output_type": "stream",
     "text": [
      "391it [00:29, 13.04it/s]"
     ]
    },
    {
     "name": "stdout",
     "output_type": "stream",
     "text": [
      "Epoch 261 finished, average loss: 0.0002845062\n",
      "Starting testing\n"
     ]
    },
    {
     "name": "stderr",
     "output_type": "stream",
     "text": [
      "\n"
     ]
    },
    {
     "name": "stdout",
     "output_type": "stream",
     "text": [
      "Correct: 9419, total: 10000, accuracy: 0.9418999553, average loss: 0.0015815480\n"
     ]
    },
    {
     "name": "stderr",
     "output_type": "stream",
     "text": [
      "391it [00:29, 13.21it/s]"
     ]
    },
    {
     "name": "stdout",
     "output_type": "stream",
     "text": [
      "Epoch 262 finished, average loss: 0.0002840688\n",
      "Starting testing\n"
     ]
    },
    {
     "name": "stderr",
     "output_type": "stream",
     "text": [
      "\n"
     ]
    },
    {
     "name": "stdout",
     "output_type": "stream",
     "text": [
      "Correct: 9407, total: 10000, accuracy: 0.9406999946, average loss: 0.0015721698\n"
     ]
    },
    {
     "name": "stderr",
     "output_type": "stream",
     "text": [
      "391it [00:28, 13.82it/s]"
     ]
    },
    {
     "name": "stdout",
     "output_type": "stream",
     "text": [
      "Epoch 263 finished, average loss: 0.0002672176\n",
      "Starting testing\n"
     ]
    },
    {
     "name": "stderr",
     "output_type": "stream",
     "text": [
      "\n"
     ]
    },
    {
     "name": "stdout",
     "output_type": "stream",
     "text": [
      "Correct: 9406, total: 10000, accuracy: 0.9405999780, average loss: 0.0015949689\n"
     ]
    },
    {
     "name": "stderr",
     "output_type": "stream",
     "text": [
      "391it [00:27, 14.09it/s]\n"
     ]
    },
    {
     "name": "stdout",
     "output_type": "stream",
     "text": [
      "Epoch 264 finished, average loss: 0.0002666906\n",
      "Starting testing\n",
      "Correct: 9392, total: 10000, accuracy: 0.9391999841, average loss: 0.0017123320\n"
     ]
    },
    {
     "name": "stderr",
     "output_type": "stream",
     "text": [
      "391it [00:27, 14.06it/s]"
     ]
    },
    {
     "name": "stdout",
     "output_type": "stream",
     "text": [
      "Epoch 265 finished, average loss: 0.0002571348\n",
      "Starting testing\n"
     ]
    },
    {
     "name": "stderr",
     "output_type": "stream",
     "text": [
      "\n"
     ]
    },
    {
     "name": "stdout",
     "output_type": "stream",
     "text": [
      "Correct: 9397, total: 10000, accuracy: 0.9396999478, average loss: 0.0017003872\n"
     ]
    },
    {
     "name": "stderr",
     "output_type": "stream",
     "text": [
      "391it [00:30, 12.82it/s]"
     ]
    },
    {
     "name": "stdout",
     "output_type": "stream",
     "text": [
      "Epoch 266 finished, average loss: 0.0002595968\n",
      "Starting testing\n"
     ]
    },
    {
     "name": "stderr",
     "output_type": "stream",
     "text": [
      "\n"
     ]
    },
    {
     "name": "stdout",
     "output_type": "stream",
     "text": [
      "Correct: 9428, total: 10000, accuracy: 0.9427999854, average loss: 0.0015671925\n"
     ]
    },
    {
     "name": "stderr",
     "output_type": "stream",
     "text": [
      "391it [00:31, 12.46it/s]"
     ]
    },
    {
     "name": "stdout",
     "output_type": "stream",
     "text": [
      "Epoch 267 finished, average loss: 0.0002468315\n",
      "Starting testing\n"
     ]
    },
    {
     "name": "stderr",
     "output_type": "stream",
     "text": [
      "\n"
     ]
    },
    {
     "name": "stdout",
     "output_type": "stream",
     "text": [
      "Correct: 9425, total: 10000, accuracy: 0.9424999952, average loss: 0.0015900918\n"
     ]
    },
    {
     "name": "stderr",
     "output_type": "stream",
     "text": [
      "391it [00:30, 12.67it/s]"
     ]
    },
    {
     "name": "stdout",
     "output_type": "stream",
     "text": [
      "Epoch 268 finished, average loss: 0.0002316470\n",
      "Starting testing\n"
     ]
    },
    {
     "name": "stderr",
     "output_type": "stream",
     "text": [
      "\n"
     ]
    },
    {
     "name": "stdout",
     "output_type": "stream",
     "text": [
      "Correct: 9415, total: 10000, accuracy: 0.9414999485, average loss: 0.0016048246\n"
     ]
    },
    {
     "name": "stderr",
     "output_type": "stream",
     "text": [
      "391it [00:30, 12.85it/s]"
     ]
    },
    {
     "name": "stdout",
     "output_type": "stream",
     "text": [
      "Epoch 269 finished, average loss: 0.0002519072\n",
      "Starting testing\n"
     ]
    },
    {
     "name": "stderr",
     "output_type": "stream",
     "text": [
      "\n"
     ]
    },
    {
     "name": "stdout",
     "output_type": "stream",
     "text": [
      "Correct: 9397, total: 10000, accuracy: 0.9396999478, average loss: 0.0016616643\n"
     ]
    },
    {
     "name": "stderr",
     "output_type": "stream",
     "text": [
      "391it [00:29, 13.30it/s]"
     ]
    },
    {
     "name": "stdout",
     "output_type": "stream",
     "text": [
      "Epoch 270 finished, average loss: 0.0002303402\n",
      "Starting testing\n"
     ]
    },
    {
     "name": "stderr",
     "output_type": "stream",
     "text": [
      "\n"
     ]
    },
    {
     "name": "stdout",
     "output_type": "stream",
     "text": [
      "Correct: 9391, total: 10000, accuracy: 0.9390999675, average loss: 0.0016564603\n"
     ]
    },
    {
     "name": "stderr",
     "output_type": "stream",
     "text": [
      "391it [00:28, 13.61it/s]"
     ]
    },
    {
     "name": "stdout",
     "output_type": "stream",
     "text": [
      "Epoch 271 finished, average loss: 0.0002024836\n",
      "Starting testing\n"
     ]
    },
    {
     "name": "stderr",
     "output_type": "stream",
     "text": [
      "\n"
     ]
    },
    {
     "name": "stdout",
     "output_type": "stream",
     "text": [
      "Correct: 9420, total: 10000, accuracy: 0.9419999719, average loss: 0.0016459747\n"
     ]
    },
    {
     "name": "stderr",
     "output_type": "stream",
     "text": [
      "391it [00:28, 13.60it/s]"
     ]
    },
    {
     "name": "stdout",
     "output_type": "stream",
     "text": [
      "Epoch 272 finished, average loss: 0.0002097672\n",
      "Starting testing\n"
     ]
    },
    {
     "name": "stderr",
     "output_type": "stream",
     "text": [
      "\n"
     ]
    },
    {
     "name": "stdout",
     "output_type": "stream",
     "text": [
      "Correct: 9411, total: 10000, accuracy: 0.9411000013, average loss: 0.0016340877\n"
     ]
    },
    {
     "name": "stderr",
     "output_type": "stream",
     "text": [
      "391it [00:30, 13.03it/s]"
     ]
    },
    {
     "name": "stdout",
     "output_type": "stream",
     "text": [
      "Epoch 273 finished, average loss: 0.0001859202\n",
      "Starting testing\n"
     ]
    },
    {
     "name": "stderr",
     "output_type": "stream",
     "text": [
      "\n"
     ]
    },
    {
     "name": "stdout",
     "output_type": "stream",
     "text": [
      "Correct: 9423, total: 10000, accuracy: 0.9422999620, average loss: 0.0016296604\n"
     ]
    },
    {
     "name": "stderr",
     "output_type": "stream",
     "text": [
      "391it [00:31, 12.49it/s]"
     ]
    },
    {
     "name": "stdout",
     "output_type": "stream",
     "text": [
      "Epoch 274 finished, average loss: 0.0002169901\n",
      "Starting testing\n"
     ]
    },
    {
     "name": "stderr",
     "output_type": "stream",
     "text": [
      "\n"
     ]
    },
    {
     "name": "stdout",
     "output_type": "stream",
     "text": [
      "Correct: 9416, total: 10000, accuracy: 0.9415999651, average loss: 0.0017073441\n"
     ]
    },
    {
     "name": "stderr",
     "output_type": "stream",
     "text": [
      "391it [00:30, 12.95it/s]"
     ]
    },
    {
     "name": "stdout",
     "output_type": "stream",
     "text": [
      "Epoch 275 finished, average loss: 0.0001976667\n",
      "Starting testing\n"
     ]
    },
    {
     "name": "stderr",
     "output_type": "stream",
     "text": [
      "\n"
     ]
    },
    {
     "name": "stdout",
     "output_type": "stream",
     "text": [
      "Correct: 9400, total: 10000, accuracy: 0.9399999976, average loss: 0.0016241386\n"
     ]
    },
    {
     "name": "stderr",
     "output_type": "stream",
     "text": [
      "391it [00:30, 12.81it/s]"
     ]
    },
    {
     "name": "stdout",
     "output_type": "stream",
     "text": [
      "Epoch 276 finished, average loss: 0.0001942379\n",
      "Starting testing\n"
     ]
    },
    {
     "name": "stderr",
     "output_type": "stream",
     "text": [
      "\n"
     ]
    },
    {
     "name": "stdout",
     "output_type": "stream",
     "text": [
      "Correct: 9419, total: 10000, accuracy: 0.9418999553, average loss: 0.0016018855\n"
     ]
    },
    {
     "name": "stderr",
     "output_type": "stream",
     "text": [
      "391it [00:31, 12.47it/s]"
     ]
    },
    {
     "name": "stdout",
     "output_type": "stream",
     "text": [
      "Epoch 277 finished, average loss: 0.0001852669\n",
      "Starting testing\n"
     ]
    },
    {
     "name": "stderr",
     "output_type": "stream",
     "text": [
      "\n"
     ]
    },
    {
     "name": "stdout",
     "output_type": "stream",
     "text": [
      "Correct: 9436, total: 10000, accuracy: 0.9435999990, average loss: 0.0016032740\n"
     ]
    },
    {
     "name": "stderr",
     "output_type": "stream",
     "text": [
      "391it [00:32, 11.97it/s]"
     ]
    },
    {
     "name": "stdout",
     "output_type": "stream",
     "text": [
      "Epoch 278 finished, average loss: 0.0001679322\n",
      "Starting testing\n"
     ]
    },
    {
     "name": "stderr",
     "output_type": "stream",
     "text": [
      "\n"
     ]
    },
    {
     "name": "stdout",
     "output_type": "stream",
     "text": [
      "Correct: 9433, total: 10000, accuracy: 0.9432999492, average loss: 0.0016425370\n"
     ]
    },
    {
     "name": "stderr",
     "output_type": "stream",
     "text": [
      "391it [00:32, 11.94it/s]"
     ]
    },
    {
     "name": "stdout",
     "output_type": "stream",
     "text": [
      "Epoch 279 finished, average loss: 0.0001768257\n",
      "Starting testing\n"
     ]
    },
    {
     "name": "stderr",
     "output_type": "stream",
     "text": [
      "\n"
     ]
    },
    {
     "name": "stdout",
     "output_type": "stream",
     "text": [
      "Correct: 9412, total: 10000, accuracy: 0.9411999583, average loss: 0.0017174724\n"
     ]
    },
    {
     "name": "stderr",
     "output_type": "stream",
     "text": [
      "391it [00:32, 12.07it/s]"
     ]
    },
    {
     "name": "stdout",
     "output_type": "stream",
     "text": [
      "Epoch 280 finished, average loss: 0.0001916090\n",
      "Starting testing\n"
     ]
    },
    {
     "name": "stderr",
     "output_type": "stream",
     "text": [
      "\n"
     ]
    },
    {
     "name": "stdout",
     "output_type": "stream",
     "text": [
      "Correct: 9447, total: 10000, accuracy: 0.9447000027, average loss: 0.0016641286\n"
     ]
    },
    {
     "name": "stderr",
     "output_type": "stream",
     "text": [
      "391it [00:33, 11.83it/s]"
     ]
    },
    {
     "name": "stdout",
     "output_type": "stream",
     "text": [
      "Epoch 281 finished, average loss: 0.0001799012\n",
      "Starting testing\n"
     ]
    },
    {
     "name": "stderr",
     "output_type": "stream",
     "text": [
      "\n"
     ]
    },
    {
     "name": "stdout",
     "output_type": "stream",
     "text": [
      "Correct: 9426, total: 10000, accuracy: 0.9425999522, average loss: 0.0016584859\n"
     ]
    },
    {
     "name": "stderr",
     "output_type": "stream",
     "text": [
      "391it [00:33, 11.84it/s]"
     ]
    },
    {
     "name": "stdout",
     "output_type": "stream",
     "text": [
      "Epoch 282 finished, average loss: 0.0001675868\n",
      "Starting testing\n"
     ]
    },
    {
     "name": "stderr",
     "output_type": "stream",
     "text": [
      "\n"
     ]
    },
    {
     "name": "stdout",
     "output_type": "stream",
     "text": [
      "Correct: 9415, total: 10000, accuracy: 0.9414999485, average loss: 0.0016769345\n"
     ]
    },
    {
     "name": "stderr",
     "output_type": "stream",
     "text": [
      "391it [00:31, 12.52it/s]"
     ]
    },
    {
     "name": "stdout",
     "output_type": "stream",
     "text": [
      "Epoch 283 finished, average loss: 0.0001656436\n",
      "Starting testing\n"
     ]
    },
    {
     "name": "stderr",
     "output_type": "stream",
     "text": [
      "\n"
     ]
    },
    {
     "name": "stdout",
     "output_type": "stream",
     "text": [
      "Correct: 9414, total: 10000, accuracy: 0.9413999915, average loss: 0.0018034756\n"
     ]
    },
    {
     "name": "stderr",
     "output_type": "stream",
     "text": [
      "391it [00:31, 12.36it/s]"
     ]
    },
    {
     "name": "stdout",
     "output_type": "stream",
     "text": [
      "Epoch 284 finished, average loss: 0.0001489761\n",
      "Starting testing\n"
     ]
    },
    {
     "name": "stderr",
     "output_type": "stream",
     "text": [
      "\n"
     ]
    },
    {
     "name": "stdout",
     "output_type": "stream",
     "text": [
      "Correct: 9425, total: 10000, accuracy: 0.9424999952, average loss: 0.0016799329\n"
     ]
    },
    {
     "name": "stderr",
     "output_type": "stream",
     "text": [
      "391it [00:31, 12.52it/s]"
     ]
    },
    {
     "name": "stdout",
     "output_type": "stream",
     "text": [
      "Epoch 285 finished, average loss: 0.0001549300\n",
      "Starting testing\n"
     ]
    },
    {
     "name": "stderr",
     "output_type": "stream",
     "text": [
      "\n"
     ]
    },
    {
     "name": "stdout",
     "output_type": "stream",
     "text": [
      "Correct: 9391, total: 10000, accuracy: 0.9390999675, average loss: 0.0017861441\n"
     ]
    },
    {
     "name": "stderr",
     "output_type": "stream",
     "text": [
      "391it [00:30, 12.75it/s]"
     ]
    },
    {
     "name": "stdout",
     "output_type": "stream",
     "text": [
      "Epoch 286 finished, average loss: 0.0001626032\n",
      "Starting testing\n"
     ]
    },
    {
     "name": "stderr",
     "output_type": "stream",
     "text": [
      "\n"
     ]
    },
    {
     "name": "stdout",
     "output_type": "stream",
     "text": [
      "Correct: 9406, total: 10000, accuracy: 0.9405999780, average loss: 0.0016889257\n"
     ]
    },
    {
     "name": "stderr",
     "output_type": "stream",
     "text": [
      "391it [00:30, 12.79it/s]\n"
     ]
    },
    {
     "name": "stdout",
     "output_type": "stream",
     "text": [
      "Epoch 287 finished, average loss: 0.0001635817\n",
      "Starting testing\n",
      "Correct: 9407, total: 10000, accuracy: 0.9406999946, average loss: 0.0017631135\n"
     ]
    },
    {
     "name": "stderr",
     "output_type": "stream",
     "text": [
      "391it [00:31, 12.53it/s]"
     ]
    },
    {
     "name": "stdout",
     "output_type": "stream",
     "text": [
      "Epoch 288 finished, average loss: 0.0001525469\n",
      "Starting testing\n"
     ]
    },
    {
     "name": "stderr",
     "output_type": "stream",
     "text": [
      "\n"
     ]
    },
    {
     "name": "stdout",
     "output_type": "stream",
     "text": [
      "Correct: 9404, total: 10000, accuracy: 0.9404000044, average loss: 0.0017063570\n"
     ]
    },
    {
     "name": "stderr",
     "output_type": "stream",
     "text": [
      "391it [00:30, 12.66it/s]"
     ]
    },
    {
     "name": "stdout",
     "output_type": "stream",
     "text": [
      "Epoch 289 finished, average loss: 0.0001394864\n",
      "Starting testing\n"
     ]
    },
    {
     "name": "stderr",
     "output_type": "stream",
     "text": [
      "\n"
     ]
    },
    {
     "name": "stdout",
     "output_type": "stream",
     "text": [
      "Correct: 9412, total: 10000, accuracy: 0.9411999583, average loss: 0.0017555962\n"
     ]
    },
    {
     "name": "stderr",
     "output_type": "stream",
     "text": [
      "391it [00:31, 12.50it/s]"
     ]
    },
    {
     "name": "stdout",
     "output_type": "stream",
     "text": [
      "Epoch 290 finished, average loss: 0.0001467588\n",
      "Starting testing\n"
     ]
    },
    {
     "name": "stderr",
     "output_type": "stream",
     "text": [
      "\n"
     ]
    },
    {
     "name": "stdout",
     "output_type": "stream",
     "text": [
      "Correct: 9447, total: 10000, accuracy: 0.9447000027, average loss: 0.0016252081\n"
     ]
    },
    {
     "name": "stderr",
     "output_type": "stream",
     "text": [
      "391it [00:31, 12.47it/s]"
     ]
    },
    {
     "name": "stdout",
     "output_type": "stream",
     "text": [
      "Epoch 291 finished, average loss: 0.0001343883\n",
      "Starting testing\n"
     ]
    },
    {
     "name": "stderr",
     "output_type": "stream",
     "text": [
      "\n"
     ]
    },
    {
     "name": "stdout",
     "output_type": "stream",
     "text": [
      "Correct: 9423, total: 10000, accuracy: 0.9422999620, average loss: 0.0016701674\n"
     ]
    },
    {
     "name": "stderr",
     "output_type": "stream",
     "text": [
      "391it [00:30, 12.68it/s]"
     ]
    },
    {
     "name": "stdout",
     "output_type": "stream",
     "text": [
      "Epoch 292 finished, average loss: 0.0001448770\n",
      "Starting testing\n"
     ]
    },
    {
     "name": "stderr",
     "output_type": "stream",
     "text": [
      "\n"
     ]
    },
    {
     "name": "stdout",
     "output_type": "stream",
     "text": [
      "Correct: 9431, total: 10000, accuracy: 0.9430999756, average loss: 0.0016663151\n"
     ]
    },
    {
     "name": "stderr",
     "output_type": "stream",
     "text": [
      "391it [00:31, 12.55it/s]"
     ]
    },
    {
     "name": "stdout",
     "output_type": "stream",
     "text": [
      "Epoch 293 finished, average loss: 0.0001483462\n",
      "Starting testing\n"
     ]
    },
    {
     "name": "stderr",
     "output_type": "stream",
     "text": [
      "\n"
     ]
    },
    {
     "name": "stdout",
     "output_type": "stream",
     "text": [
      "Correct: 9417, total: 10000, accuracy: 0.9416999817, average loss: 0.0016849337\n"
     ]
    },
    {
     "name": "stderr",
     "output_type": "stream",
     "text": [
      "391it [00:31, 12.38it/s]"
     ]
    },
    {
     "name": "stdout",
     "output_type": "stream",
     "text": [
      "Epoch 294 finished, average loss: 0.0001632193\n",
      "Starting testing\n"
     ]
    },
    {
     "name": "stderr",
     "output_type": "stream",
     "text": [
      "\n"
     ]
    },
    {
     "name": "stdout",
     "output_type": "stream",
     "text": [
      "Correct: 9408, total: 10000, accuracy: 0.9407999516, average loss: 0.0017887983\n"
     ]
    },
    {
     "name": "stderr",
     "output_type": "stream",
     "text": [
      "391it [00:31, 12.58it/s]"
     ]
    },
    {
     "name": "stdout",
     "output_type": "stream",
     "text": [
      "Epoch 295 finished, average loss: 0.0001410138\n",
      "Starting testing\n"
     ]
    },
    {
     "name": "stderr",
     "output_type": "stream",
     "text": [
      "\n"
     ]
    },
    {
     "name": "stdout",
     "output_type": "stream",
     "text": [
      "Correct: 9418, total: 10000, accuracy: 0.9417999983, average loss: 0.0017650080\n"
     ]
    },
    {
     "name": "stderr",
     "output_type": "stream",
     "text": [
      "391it [00:31, 12.50it/s]"
     ]
    },
    {
     "name": "stdout",
     "output_type": "stream",
     "text": [
      "Epoch 296 finished, average loss: 0.0001637220\n",
      "Starting testing\n"
     ]
    },
    {
     "name": "stderr",
     "output_type": "stream",
     "text": [
      "\n"
     ]
    },
    {
     "name": "stdout",
     "output_type": "stream",
     "text": [
      "Correct: 9434, total: 10000, accuracy: 0.9433999658, average loss: 0.0017625002\n"
     ]
    },
    {
     "name": "stderr",
     "output_type": "stream",
     "text": [
      "391it [00:31, 12.34it/s]"
     ]
    },
    {
     "name": "stdout",
     "output_type": "stream",
     "text": [
      "Epoch 297 finished, average loss: 0.0001432255\n",
      "Starting testing\n"
     ]
    },
    {
     "name": "stderr",
     "output_type": "stream",
     "text": [
      "\n"
     ]
    },
    {
     "name": "stdout",
     "output_type": "stream",
     "text": [
      "Correct: 9427, total: 10000, accuracy: 0.9426999688, average loss: 0.0017913494\n"
     ]
    },
    {
     "name": "stderr",
     "output_type": "stream",
     "text": [
      "391it [00:30, 12.65it/s]"
     ]
    },
    {
     "name": "stdout",
     "output_type": "stream",
     "text": [
      "Epoch 298 finished, average loss: 0.0001364025\n",
      "Starting testing\n"
     ]
    },
    {
     "name": "stderr",
     "output_type": "stream",
     "text": [
      "\n"
     ]
    },
    {
     "name": "stdout",
     "output_type": "stream",
     "text": [
      "Correct: 9400, total: 10000, accuracy: 0.9399999976, average loss: 0.0017370535\n"
     ]
    },
    {
     "name": "stderr",
     "output_type": "stream",
     "text": [
      "391it [00:31, 12.57it/s]"
     ]
    },
    {
     "name": "stdout",
     "output_type": "stream",
     "text": [
      "Epoch 299 finished, average loss: 0.0001370340\n",
      "Starting testing\n"
     ]
    },
    {
     "name": "stderr",
     "output_type": "stream",
     "text": [
      "\n"
     ]
    },
    {
     "name": "stdout",
     "output_type": "stream",
     "text": [
      "Correct: 9409, total: 10000, accuracy: 0.9408999681, average loss: 0.0018124392\n"
     ]
    },
    {
     "name": "stderr",
     "output_type": "stream",
     "text": [
      "391it [00:32, 12.19it/s]"
     ]
    },
    {
     "name": "stdout",
     "output_type": "stream",
     "text": [
      "Epoch 300 finished, average loss: 0.0001492060\n",
      "Starting testing\n"
     ]
    },
    {
     "name": "stderr",
     "output_type": "stream",
     "text": [
      "\n"
     ]
    },
    {
     "name": "stdout",
     "output_type": "stream",
     "text": [
      "Correct: 9424, total: 10000, accuracy: 0.9423999786, average loss: 0.0017954597\n"
     ]
    },
    {
     "name": "stderr",
     "output_type": "stream",
     "text": [
      "391it [00:31, 12.58it/s]"
     ]
    },
    {
     "name": "stdout",
     "output_type": "stream",
     "text": [
      "Epoch 301 finished, average loss: 0.0001355244\n",
      "Starting testing\n"
     ]
    },
    {
     "name": "stderr",
     "output_type": "stream",
     "text": [
      "\n"
     ]
    },
    {
     "name": "stdout",
     "output_type": "stream",
     "text": [
      "Correct: 9403, total: 10000, accuracy: 0.9402999878, average loss: 0.0017779742\n"
     ]
    },
    {
     "name": "stderr",
     "output_type": "stream",
     "text": [
      "391it [00:30, 12.77it/s]"
     ]
    },
    {
     "name": "stdout",
     "output_type": "stream",
     "text": [
      "Epoch 302 finished, average loss: 0.0001378874\n",
      "Starting testing\n"
     ]
    },
    {
     "name": "stderr",
     "output_type": "stream",
     "text": [
      "\n"
     ]
    },
    {
     "name": "stdout",
     "output_type": "stream",
     "text": [
      "Correct: 9402, total: 10000, accuracy: 0.9401999712, average loss: 0.0016997378\n"
     ]
    },
    {
     "name": "stderr",
     "output_type": "stream",
     "text": [
      "391it [00:30, 12.74it/s]"
     ]
    },
    {
     "name": "stdout",
     "output_type": "stream",
     "text": [
      "Epoch 303 finished, average loss: 0.0001461659\n",
      "Starting testing\n"
     ]
    },
    {
     "name": "stderr",
     "output_type": "stream",
     "text": [
      "\n"
     ]
    },
    {
     "name": "stdout",
     "output_type": "stream",
     "text": [
      "Correct: 9375, total: 10000, accuracy: 0.9375000000, average loss: 0.0019120863\n"
     ]
    },
    {
     "name": "stderr",
     "output_type": "stream",
     "text": [
      "391it [00:30, 12.68it/s]"
     ]
    },
    {
     "name": "stdout",
     "output_type": "stream",
     "text": [
      "Epoch 304 finished, average loss: 0.0001425432\n",
      "Starting testing\n"
     ]
    },
    {
     "name": "stderr",
     "output_type": "stream",
     "text": [
      "\n"
     ]
    },
    {
     "name": "stdout",
     "output_type": "stream",
     "text": [
      "Correct: 9416, total: 10000, accuracy: 0.9415999651, average loss: 0.0017896483\n"
     ]
    },
    {
     "name": "stderr",
     "output_type": "stream",
     "text": [
      "391it [00:30, 12.75it/s]"
     ]
    },
    {
     "name": "stdout",
     "output_type": "stream",
     "text": [
      "Epoch 305 finished, average loss: 0.0001244020\n",
      "Starting testing\n"
     ]
    },
    {
     "name": "stderr",
     "output_type": "stream",
     "text": [
      "\n"
     ]
    },
    {
     "name": "stdout",
     "output_type": "stream",
     "text": [
      "Correct: 9423, total: 10000, accuracy: 0.9422999620, average loss: 0.0017638445\n"
     ]
    },
    {
     "name": "stderr",
     "output_type": "stream",
     "text": [
      "391it [00:30, 12.65it/s]"
     ]
    },
    {
     "name": "stdout",
     "output_type": "stream",
     "text": [
      "Epoch 306 finished, average loss: 0.0001370561\n",
      "Starting testing\n"
     ]
    },
    {
     "name": "stderr",
     "output_type": "stream",
     "text": [
      "\n"
     ]
    },
    {
     "name": "stdout",
     "output_type": "stream",
     "text": [
      "Correct: 9414, total: 10000, accuracy: 0.9413999915, average loss: 0.0017748327\n"
     ]
    },
    {
     "name": "stderr",
     "output_type": "stream",
     "text": [
      "391it [00:30, 12.90it/s]"
     ]
    },
    {
     "name": "stdout",
     "output_type": "stream",
     "text": [
      "Epoch 307 finished, average loss: 0.0001243964\n",
      "Starting testing\n"
     ]
    },
    {
     "name": "stderr",
     "output_type": "stream",
     "text": [
      "\n"
     ]
    },
    {
     "name": "stdout",
     "output_type": "stream",
     "text": [
      "Correct: 9420, total: 10000, accuracy: 0.9419999719, average loss: 0.0017111333\n"
     ]
    },
    {
     "name": "stderr",
     "output_type": "stream",
     "text": [
      "391it [00:30, 12.93it/s]"
     ]
    },
    {
     "name": "stdout",
     "output_type": "stream",
     "text": [
      "Epoch 308 finished, average loss: 0.0001368223\n",
      "Starting testing\n"
     ]
    },
    {
     "name": "stderr",
     "output_type": "stream",
     "text": [
      "\n"
     ]
    },
    {
     "name": "stdout",
     "output_type": "stream",
     "text": [
      "Correct: 9426, total: 10000, accuracy: 0.9425999522, average loss: 0.0017342657\n"
     ]
    },
    {
     "name": "stderr",
     "output_type": "stream",
     "text": [
      "391it [00:30, 12.73it/s]"
     ]
    },
    {
     "name": "stdout",
     "output_type": "stream",
     "text": [
      "Epoch 309 finished, average loss: 0.0001329956\n",
      "Starting testing\n"
     ]
    },
    {
     "name": "stderr",
     "output_type": "stream",
     "text": [
      "\n"
     ]
    },
    {
     "name": "stdout",
     "output_type": "stream",
     "text": [
      "Correct: 9422, total: 10000, accuracy: 0.9422000051, average loss: 0.0017375139\n"
     ]
    },
    {
     "name": "stderr",
     "output_type": "stream",
     "text": [
      "391it [00:31, 12.50it/s]"
     ]
    },
    {
     "name": "stdout",
     "output_type": "stream",
     "text": [
      "Epoch 310 finished, average loss: 0.0001362387\n",
      "Starting testing\n"
     ]
    },
    {
     "name": "stderr",
     "output_type": "stream",
     "text": [
      "\n"
     ]
    },
    {
     "name": "stdout",
     "output_type": "stream",
     "text": [
      "Correct: 9432, total: 10000, accuracy: 0.9431999922, average loss: 0.0017741370\n"
     ]
    },
    {
     "name": "stderr",
     "output_type": "stream",
     "text": [
      "391it [00:27, 14.19it/s]"
     ]
    },
    {
     "name": "stdout",
     "output_type": "stream",
     "text": [
      "Epoch 311 finished, average loss: 0.0001384076\n",
      "Starting testing\n"
     ]
    },
    {
     "name": "stderr",
     "output_type": "stream",
     "text": [
      "\n"
     ]
    },
    {
     "name": "stdout",
     "output_type": "stream",
     "text": [
      "Correct: 9416, total: 10000, accuracy: 0.9415999651, average loss: 0.0017144042\n"
     ]
    },
    {
     "name": "stderr",
     "output_type": "stream",
     "text": [
      "391it [00:28, 13.60it/s]"
     ]
    },
    {
     "name": "stdout",
     "output_type": "stream",
     "text": [
      "Epoch 312 finished, average loss: 0.0001191360\n",
      "Starting testing\n"
     ]
    },
    {
     "name": "stderr",
     "output_type": "stream",
     "text": [
      "\n"
     ]
    },
    {
     "name": "stdout",
     "output_type": "stream",
     "text": [
      "Correct: 9440, total: 10000, accuracy: 0.9440000057, average loss: 0.0017356617\n"
     ]
    },
    {
     "name": "stderr",
     "output_type": "stream",
     "text": [
      "391it [00:28, 13.69it/s]"
     ]
    },
    {
     "name": "stdout",
     "output_type": "stream",
     "text": [
      "Epoch 313 finished, average loss: 0.0001417966\n",
      "Starting testing\n"
     ]
    },
    {
     "name": "stderr",
     "output_type": "stream",
     "text": [
      "\n"
     ]
    },
    {
     "name": "stdout",
     "output_type": "stream",
     "text": [
      "Correct: 9404, total: 10000, accuracy: 0.9404000044, average loss: 0.0018241751\n"
     ]
    },
    {
     "name": "stderr",
     "output_type": "stream",
     "text": [
      "391it [00:28, 13.82it/s]"
     ]
    },
    {
     "name": "stdout",
     "output_type": "stream",
     "text": [
      "Epoch 314 finished, average loss: 0.0001181037\n",
      "Starting testing\n"
     ]
    },
    {
     "name": "stderr",
     "output_type": "stream",
     "text": [
      "\n"
     ]
    },
    {
     "name": "stdout",
     "output_type": "stream",
     "text": [
      "Correct: 9412, total: 10000, accuracy: 0.9411999583, average loss: 0.0017506715\n"
     ]
    },
    {
     "name": "stderr",
     "output_type": "stream",
     "text": [
      "391it [00:28, 13.84it/s]"
     ]
    },
    {
     "name": "stdout",
     "output_type": "stream",
     "text": [
      "Epoch 315 finished, average loss: 0.0001103414\n",
      "Starting testing\n"
     ]
    },
    {
     "name": "stderr",
     "output_type": "stream",
     "text": [
      "\n"
     ]
    },
    {
     "name": "stdout",
     "output_type": "stream",
     "text": [
      "Correct: 9403, total: 10000, accuracy: 0.9402999878, average loss: 0.0018248729\n"
     ]
    },
    {
     "name": "stderr",
     "output_type": "stream",
     "text": [
      "391it [00:28, 13.56it/s]"
     ]
    },
    {
     "name": "stdout",
     "output_type": "stream",
     "text": [
      "Epoch 316 finished, average loss: 0.0001252152\n",
      "Starting testing\n"
     ]
    },
    {
     "name": "stderr",
     "output_type": "stream",
     "text": [
      "\n"
     ]
    },
    {
     "name": "stdout",
     "output_type": "stream",
     "text": [
      "Correct: 9416, total: 10000, accuracy: 0.9415999651, average loss: 0.0017757427\n"
     ]
    },
    {
     "name": "stderr",
     "output_type": "stream",
     "text": [
      "391it [00:27, 14.04it/s]"
     ]
    },
    {
     "name": "stdout",
     "output_type": "stream",
     "text": [
      "Epoch 317 finished, average loss: 0.0001017054\n",
      "Starting testing\n"
     ]
    },
    {
     "name": "stderr",
     "output_type": "stream",
     "text": [
      "\n"
     ]
    },
    {
     "name": "stdout",
     "output_type": "stream",
     "text": [
      "Correct: 9404, total: 10000, accuracy: 0.9404000044, average loss: 0.0019336982\n"
     ]
    },
    {
     "name": "stderr",
     "output_type": "stream",
     "text": [
      "391it [00:27, 14.00it/s]"
     ]
    },
    {
     "name": "stdout",
     "output_type": "stream",
     "text": [
      "Epoch 318 finished, average loss: 0.0001109526\n",
      "Starting testing\n"
     ]
    },
    {
     "name": "stderr",
     "output_type": "stream",
     "text": [
      "\n"
     ]
    },
    {
     "name": "stdout",
     "output_type": "stream",
     "text": [
      "Correct: 9403, total: 10000, accuracy: 0.9402999878, average loss: 0.0018164030\n"
     ]
    },
    {
     "name": "stderr",
     "output_type": "stream",
     "text": [
      "391it [00:28, 13.89it/s]"
     ]
    },
    {
     "name": "stdout",
     "output_type": "stream",
     "text": [
      "Epoch 319 finished, average loss: 0.0001215694\n",
      "Starting testing\n"
     ]
    },
    {
     "name": "stderr",
     "output_type": "stream",
     "text": [
      "\n"
     ]
    },
    {
     "name": "stdout",
     "output_type": "stream",
     "text": [
      "Correct: 9401, total: 10000, accuracy: 0.9400999546, average loss: 0.0018598093\n"
     ]
    },
    {
     "name": "stderr",
     "output_type": "stream",
     "text": [
      "391it [00:27, 13.97it/s]"
     ]
    },
    {
     "name": "stdout",
     "output_type": "stream",
     "text": [
      "Epoch 320 finished, average loss: 0.0001324418\n",
      "Starting testing\n"
     ]
    },
    {
     "name": "stderr",
     "output_type": "stream",
     "text": [
      "\n"
     ]
    },
    {
     "name": "stdout",
     "output_type": "stream",
     "text": [
      "Correct: 9408, total: 10000, accuracy: 0.9407999516, average loss: 0.0017944052\n"
     ]
    },
    {
     "name": "stderr",
     "output_type": "stream",
     "text": [
      "391it [00:28, 13.94it/s]"
     ]
    },
    {
     "name": "stdout",
     "output_type": "stream",
     "text": [
      "Epoch 321 finished, average loss: 0.0001117606\n",
      "Starting testing\n"
     ]
    },
    {
     "name": "stderr",
     "output_type": "stream",
     "text": [
      "\n"
     ]
    },
    {
     "name": "stdout",
     "output_type": "stream",
     "text": [
      "Correct: 9396, total: 10000, accuracy: 0.9395999908, average loss: 0.0017568425\n"
     ]
    },
    {
     "name": "stderr",
     "output_type": "stream",
     "text": [
      "391it [00:28, 13.96it/s]\n"
     ]
    },
    {
     "name": "stdout",
     "output_type": "stream",
     "text": [
      "Epoch 322 finished, average loss: 0.0001450148\n",
      "Starting testing\n",
      "Correct: 9403, total: 10000, accuracy: 0.9402999878, average loss: 0.0018988203\n"
     ]
    },
    {
     "name": "stderr",
     "output_type": "stream",
     "text": [
      "391it [00:28, 13.92it/s]"
     ]
    },
    {
     "name": "stdout",
     "output_type": "stream",
     "text": [
      "Epoch 323 finished, average loss: 0.0001191270\n",
      "Starting testing\n"
     ]
    },
    {
     "name": "stderr",
     "output_type": "stream",
     "text": [
      "\n"
     ]
    },
    {
     "name": "stdout",
     "output_type": "stream",
     "text": [
      "Correct: 9411, total: 10000, accuracy: 0.9411000013, average loss: 0.0018394186\n"
     ]
    },
    {
     "name": "stderr",
     "output_type": "stream",
     "text": [
      "391it [00:28, 13.87it/s]"
     ]
    },
    {
     "name": "stdout",
     "output_type": "stream",
     "text": [
      "Epoch 324 finished, average loss: 0.0001213716\n",
      "Starting testing\n"
     ]
    },
    {
     "name": "stderr",
     "output_type": "stream",
     "text": [
      "\n"
     ]
    },
    {
     "name": "stdout",
     "output_type": "stream",
     "text": [
      "Correct: 9429, total: 10000, accuracy: 0.9429000020, average loss: 0.0018552548\n"
     ]
    },
    {
     "name": "stderr",
     "output_type": "stream",
     "text": [
      "391it [00:28, 13.96it/s]"
     ]
    },
    {
     "name": "stdout",
     "output_type": "stream",
     "text": [
      "Epoch 325 finished, average loss: 0.0001322235\n",
      "Starting testing\n"
     ]
    },
    {
     "name": "stderr",
     "output_type": "stream",
     "text": [
      "\n"
     ]
    },
    {
     "name": "stdout",
     "output_type": "stream",
     "text": [
      "Correct: 9393, total: 10000, accuracy: 0.9393000007, average loss: 0.0018004187\n"
     ]
    },
    {
     "name": "stderr",
     "output_type": "stream",
     "text": [
      "391it [00:28, 13.93it/s]"
     ]
    },
    {
     "name": "stdout",
     "output_type": "stream",
     "text": [
      "Epoch 326 finished, average loss: 0.0001149903\n",
      "Starting testing\n"
     ]
    },
    {
     "name": "stderr",
     "output_type": "stream",
     "text": [
      "\n"
     ]
    },
    {
     "name": "stdout",
     "output_type": "stream",
     "text": [
      "Correct: 9416, total: 10000, accuracy: 0.9415999651, average loss: 0.0018403116\n"
     ]
    },
    {
     "name": "stderr",
     "output_type": "stream",
     "text": [
      "391it [00:28, 13.91it/s]"
     ]
    },
    {
     "name": "stdout",
     "output_type": "stream",
     "text": [
      "Epoch 327 finished, average loss: 0.0001490122\n",
      "Starting testing\n"
     ]
    },
    {
     "name": "stderr",
     "output_type": "stream",
     "text": [
      "\n"
     ]
    },
    {
     "name": "stdout",
     "output_type": "stream",
     "text": [
      "Correct: 9421, total: 10000, accuracy: 0.9420999885, average loss: 0.0018988046\n"
     ]
    },
    {
     "name": "stderr",
     "output_type": "stream",
     "text": [
      "391it [00:28, 13.89it/s]"
     ]
    },
    {
     "name": "stdout",
     "output_type": "stream",
     "text": [
      "Epoch 328 finished, average loss: 0.0001313623\n",
      "Starting testing\n"
     ]
    },
    {
     "name": "stderr",
     "output_type": "stream",
     "text": [
      "\n"
     ]
    },
    {
     "name": "stdout",
     "output_type": "stream",
     "text": [
      "Correct: 9436, total: 10000, accuracy: 0.9435999990, average loss: 0.0017822610\n"
     ]
    },
    {
     "name": "stderr",
     "output_type": "stream",
     "text": [
      "391it [00:28, 13.79it/s]"
     ]
    },
    {
     "name": "stdout",
     "output_type": "stream",
     "text": [
      "Epoch 329 finished, average loss: 0.0001214356\n",
      "Starting testing\n"
     ]
    },
    {
     "name": "stderr",
     "output_type": "stream",
     "text": [
      "\n"
     ]
    },
    {
     "name": "stdout",
     "output_type": "stream",
     "text": [
      "Correct: 9401, total: 10000, accuracy: 0.9400999546, average loss: 0.0019208795\n"
     ]
    },
    {
     "name": "stderr",
     "output_type": "stream",
     "text": [
      "391it [00:28, 13.89it/s]"
     ]
    },
    {
     "name": "stdout",
     "output_type": "stream",
     "text": [
      "Epoch 330 finished, average loss: 0.0001224842\n",
      "Starting testing\n"
     ]
    },
    {
     "name": "stderr",
     "output_type": "stream",
     "text": [
      "\n"
     ]
    },
    {
     "name": "stdout",
     "output_type": "stream",
     "text": [
      "Correct: 9418, total: 10000, accuracy: 0.9417999983, average loss: 0.0018326851\n"
     ]
    },
    {
     "name": "stderr",
     "output_type": "stream",
     "text": [
      "391it [00:28, 13.91it/s]"
     ]
    },
    {
     "name": "stdout",
     "output_type": "stream",
     "text": [
      "Epoch 331 finished, average loss: 0.0001225546\n",
      "Starting testing\n"
     ]
    },
    {
     "name": "stderr",
     "output_type": "stream",
     "text": [
      "\n"
     ]
    },
    {
     "name": "stdout",
     "output_type": "stream",
     "text": [
      "Correct: 9420, total: 10000, accuracy: 0.9419999719, average loss: 0.0018644107\n"
     ]
    },
    {
     "name": "stderr",
     "output_type": "stream",
     "text": [
      "391it [00:28, 13.91it/s]"
     ]
    },
    {
     "name": "stdout",
     "output_type": "stream",
     "text": [
      "Epoch 332 finished, average loss: 0.0001358216\n",
      "Starting testing\n"
     ]
    },
    {
     "name": "stderr",
     "output_type": "stream",
     "text": [
      "\n"
     ]
    },
    {
     "name": "stdout",
     "output_type": "stream",
     "text": [
      "Correct: 9424, total: 10000, accuracy: 0.9423999786, average loss: 0.0018087094\n"
     ]
    },
    {
     "name": "stderr",
     "output_type": "stream",
     "text": [
      "391it [00:28, 13.86it/s]"
     ]
    },
    {
     "name": "stdout",
     "output_type": "stream",
     "text": [
      "Epoch 333 finished, average loss: 0.0001105197\n",
      "Starting testing\n"
     ]
    },
    {
     "name": "stderr",
     "output_type": "stream",
     "text": [
      "\n"
     ]
    },
    {
     "name": "stdout",
     "output_type": "stream",
     "text": [
      "Correct: 9405, total: 10000, accuracy: 0.9404999614, average loss: 0.0019046968\n"
     ]
    },
    {
     "name": "stderr",
     "output_type": "stream",
     "text": [
      "391it [00:28, 13.95it/s]"
     ]
    },
    {
     "name": "stdout",
     "output_type": "stream",
     "text": [
      "Epoch 334 finished, average loss: 0.0001144847\n",
      "Starting testing\n"
     ]
    },
    {
     "name": "stderr",
     "output_type": "stream",
     "text": [
      "\n"
     ]
    },
    {
     "name": "stdout",
     "output_type": "stream",
     "text": [
      "Correct: 9436, total: 10000, accuracy: 0.9435999990, average loss: 0.0018128518\n"
     ]
    },
    {
     "name": "stderr",
     "output_type": "stream",
     "text": [
      "391it [00:28, 13.95it/s]"
     ]
    },
    {
     "name": "stdout",
     "output_type": "stream",
     "text": [
      "Epoch 335 finished, average loss: 0.0001270949\n",
      "Starting testing\n"
     ]
    },
    {
     "name": "stderr",
     "output_type": "stream",
     "text": [
      "\n"
     ]
    },
    {
     "name": "stdout",
     "output_type": "stream",
     "text": [
      "Correct: 9399, total: 10000, accuracy: 0.9398999810, average loss: 0.0019166349\n"
     ]
    },
    {
     "name": "stderr",
     "output_type": "stream",
     "text": [
      "391it [00:28, 13.91it/s]"
     ]
    },
    {
     "name": "stdout",
     "output_type": "stream",
     "text": [
      "Epoch 336 finished, average loss: 0.0001093698\n",
      "Starting testing\n"
     ]
    },
    {
     "name": "stderr",
     "output_type": "stream",
     "text": [
      "\n"
     ]
    },
    {
     "name": "stdout",
     "output_type": "stream",
     "text": [
      "Correct: 9421, total: 10000, accuracy: 0.9420999885, average loss: 0.0019617682\n"
     ]
    },
    {
     "name": "stderr",
     "output_type": "stream",
     "text": [
      "391it [00:28, 13.72it/s]"
     ]
    },
    {
     "name": "stdout",
     "output_type": "stream",
     "text": [
      "Epoch 337 finished, average loss: 0.0001331118\n",
      "Starting testing\n"
     ]
    },
    {
     "name": "stderr",
     "output_type": "stream",
     "text": [
      "\n"
     ]
    },
    {
     "name": "stdout",
     "output_type": "stream",
     "text": [
      "Correct: 9403, total: 10000, accuracy: 0.9402999878, average loss: 0.0018943175\n"
     ]
    },
    {
     "name": "stderr",
     "output_type": "stream",
     "text": [
      "391it [00:29, 13.43it/s]"
     ]
    },
    {
     "name": "stdout",
     "output_type": "stream",
     "text": [
      "Epoch 338 finished, average loss: 0.0001163276\n",
      "Starting testing\n"
     ]
    },
    {
     "name": "stderr",
     "output_type": "stream",
     "text": [
      "\n"
     ]
    },
    {
     "name": "stdout",
     "output_type": "stream",
     "text": [
      "Correct: 9431, total: 10000, accuracy: 0.9430999756, average loss: 0.0018174543\n"
     ]
    },
    {
     "name": "stderr",
     "output_type": "stream",
     "text": [
      "391it [00:28, 13.76it/s]"
     ]
    },
    {
     "name": "stdout",
     "output_type": "stream",
     "text": [
      "Epoch 339 finished, average loss: 0.0001266465\n",
      "Starting testing\n"
     ]
    },
    {
     "name": "stderr",
     "output_type": "stream",
     "text": [
      "\n"
     ]
    },
    {
     "name": "stdout",
     "output_type": "stream",
     "text": [
      "Correct: 9405, total: 10000, accuracy: 0.9404999614, average loss: 0.0018738898\n"
     ]
    },
    {
     "name": "stderr",
     "output_type": "stream",
     "text": [
      "391it [00:28, 13.83it/s]"
     ]
    },
    {
     "name": "stdout",
     "output_type": "stream",
     "text": [
      "Epoch 340 finished, average loss: 0.0001222701\n",
      "Starting testing\n"
     ]
    },
    {
     "name": "stderr",
     "output_type": "stream",
     "text": [
      "\n"
     ]
    },
    {
     "name": "stdout",
     "output_type": "stream",
     "text": [
      "Correct: 9409, total: 10000, accuracy: 0.9408999681, average loss: 0.0017930956\n"
     ]
    },
    {
     "name": "stderr",
     "output_type": "stream",
     "text": [
      "391it [00:28, 13.85it/s]"
     ]
    },
    {
     "name": "stdout",
     "output_type": "stream",
     "text": [
      "Epoch 341 finished, average loss: 0.0001237586\n",
      "Starting testing\n"
     ]
    },
    {
     "name": "stderr",
     "output_type": "stream",
     "text": [
      "\n"
     ]
    },
    {
     "name": "stdout",
     "output_type": "stream",
     "text": [
      "Correct: 9396, total: 10000, accuracy: 0.9395999908, average loss: 0.0018791877\n"
     ]
    },
    {
     "name": "stderr",
     "output_type": "stream",
     "text": [
      "391it [00:28, 13.89it/s]"
     ]
    },
    {
     "name": "stdout",
     "output_type": "stream",
     "text": [
      "Epoch 342 finished, average loss: 0.0001084049\n",
      "Starting testing\n"
     ]
    },
    {
     "name": "stderr",
     "output_type": "stream",
     "text": [
      "\n"
     ]
    },
    {
     "name": "stdout",
     "output_type": "stream",
     "text": [
      "Correct: 9428, total: 10000, accuracy: 0.9427999854, average loss: 0.0017975384\n"
     ]
    },
    {
     "name": "stderr",
     "output_type": "stream",
     "text": [
      "391it [00:28, 13.91it/s]"
     ]
    },
    {
     "name": "stdout",
     "output_type": "stream",
     "text": [
      "Epoch 343 finished, average loss: 0.0001174772\n",
      "Starting testing\n"
     ]
    },
    {
     "name": "stderr",
     "output_type": "stream",
     "text": [
      "\n"
     ]
    },
    {
     "name": "stdout",
     "output_type": "stream",
     "text": [
      "Correct: 9409, total: 10000, accuracy: 0.9408999681, average loss: 0.0018743810\n"
     ]
    },
    {
     "name": "stderr",
     "output_type": "stream",
     "text": [
      "391it [00:28, 13.90it/s]"
     ]
    },
    {
     "name": "stdout",
     "output_type": "stream",
     "text": [
      "Epoch 344 finished, average loss: 0.0001108325\n",
      "Starting testing\n"
     ]
    },
    {
     "name": "stderr",
     "output_type": "stream",
     "text": [
      "\n"
     ]
    },
    {
     "name": "stdout",
     "output_type": "stream",
     "text": [
      "Correct: 9404, total: 10000, accuracy: 0.9404000044, average loss: 0.0018512047\n"
     ]
    },
    {
     "name": "stderr",
     "output_type": "stream",
     "text": [
      "391it [00:28, 13.89it/s]"
     ]
    },
    {
     "name": "stdout",
     "output_type": "stream",
     "text": [
      "Epoch 345 finished, average loss: 0.0001279532\n",
      "Starting testing\n"
     ]
    },
    {
     "name": "stderr",
     "output_type": "stream",
     "text": [
      "\n"
     ]
    },
    {
     "name": "stdout",
     "output_type": "stream",
     "text": [
      "Correct: 9376, total: 10000, accuracy: 0.9375999570, average loss: 0.0019454794\n"
     ]
    },
    {
     "name": "stderr",
     "output_type": "stream",
     "text": [
      "391it [00:28, 13.95it/s]"
     ]
    },
    {
     "name": "stdout",
     "output_type": "stream",
     "text": [
      "Epoch 346 finished, average loss: 0.0001457463\n",
      "Starting testing\n"
     ]
    },
    {
     "name": "stderr",
     "output_type": "stream",
     "text": [
      "\n"
     ]
    },
    {
     "name": "stdout",
     "output_type": "stream",
     "text": [
      "Correct: 9404, total: 10000, accuracy: 0.9404000044, average loss: 0.0018075530\n"
     ]
    },
    {
     "name": "stderr",
     "output_type": "stream",
     "text": [
      "391it [00:28, 13.85it/s]"
     ]
    },
    {
     "name": "stdout",
     "output_type": "stream",
     "text": [
      "Epoch 347 finished, average loss: 0.0001110369\n",
      "Starting testing\n"
     ]
    },
    {
     "name": "stderr",
     "output_type": "stream",
     "text": [
      "\n"
     ]
    },
    {
     "name": "stdout",
     "output_type": "stream",
     "text": [
      "Correct: 9411, total: 10000, accuracy: 0.9411000013, average loss: 0.0018606853\n"
     ]
    },
    {
     "name": "stderr",
     "output_type": "stream",
     "text": [
      "391it [00:28, 13.88it/s]"
     ]
    },
    {
     "name": "stdout",
     "output_type": "stream",
     "text": [
      "Epoch 348 finished, average loss: 0.0001243553\n",
      "Starting testing\n"
     ]
    },
    {
     "name": "stderr",
     "output_type": "stream",
     "text": [
      "\n"
     ]
    },
    {
     "name": "stdout",
     "output_type": "stream",
     "text": [
      "Correct: 9379, total: 10000, accuracy: 0.9378999472, average loss: 0.0019907056\n"
     ]
    },
    {
     "name": "stderr",
     "output_type": "stream",
     "text": [
      "391it [00:28, 13.94it/s]"
     ]
    },
    {
     "name": "stdout",
     "output_type": "stream",
     "text": [
      "Epoch 349 finished, average loss: 0.0001140655\n",
      "Starting testing\n"
     ]
    },
    {
     "name": "stderr",
     "output_type": "stream",
     "text": [
      "\n"
     ]
    },
    {
     "name": "stdout",
     "output_type": "stream",
     "text": [
      "Correct: 9412, total: 10000, accuracy: 0.9411999583, average loss: 0.0019555690\n"
     ]
    },
    {
     "name": "stderr",
     "output_type": "stream",
     "text": [
      "391it [00:28, 13.94it/s]"
     ]
    },
    {
     "name": "stdout",
     "output_type": "stream",
     "text": [
      "Epoch 350 finished, average loss: 0.0001152673\n",
      "Starting testing\n"
     ]
    },
    {
     "name": "stderr",
     "output_type": "stream",
     "text": [
      "\n"
     ]
    },
    {
     "name": "stdout",
     "output_type": "stream",
     "text": [
      "Correct: 9410, total: 10000, accuracy: 0.9409999847, average loss: 0.0019509063\n"
     ]
    },
    {
     "name": "stderr",
     "output_type": "stream",
     "text": [
      "391it [00:28, 13.89it/s]"
     ]
    },
    {
     "name": "stdout",
     "output_type": "stream",
     "text": [
      "Epoch 351 finished, average loss: 0.0001167191\n",
      "Starting testing\n"
     ]
    },
    {
     "name": "stderr",
     "output_type": "stream",
     "text": [
      "\n"
     ]
    },
    {
     "name": "stdout",
     "output_type": "stream",
     "text": [
      "Correct: 9403, total: 10000, accuracy: 0.9402999878, average loss: 0.0018803773\n"
     ]
    },
    {
     "name": "stderr",
     "output_type": "stream",
     "text": [
      "391it [00:27, 13.97it/s]"
     ]
    },
    {
     "name": "stdout",
     "output_type": "stream",
     "text": [
      "Epoch 352 finished, average loss: 0.0001430868\n",
      "Starting testing\n"
     ]
    },
    {
     "name": "stderr",
     "output_type": "stream",
     "text": [
      "\n"
     ]
    },
    {
     "name": "stdout",
     "output_type": "stream",
     "text": [
      "Correct: 9381, total: 10000, accuracy: 0.9380999804, average loss: 0.0019678766\n"
     ]
    },
    {
     "name": "stderr",
     "output_type": "stream",
     "text": [
      "391it [00:28, 13.90it/s]"
     ]
    },
    {
     "name": "stdout",
     "output_type": "stream",
     "text": [
      "Epoch 353 finished, average loss: 0.0001281127\n",
      "Starting testing\n"
     ]
    },
    {
     "name": "stderr",
     "output_type": "stream",
     "text": [
      "\n"
     ]
    },
    {
     "name": "stdout",
     "output_type": "stream",
     "text": [
      "Correct: 9389, total: 10000, accuracy: 0.9388999939, average loss: 0.0019500298\n"
     ]
    },
    {
     "name": "stderr",
     "output_type": "stream",
     "text": [
      "391it [00:27, 14.00it/s]"
     ]
    },
    {
     "name": "stdout",
     "output_type": "stream",
     "text": [
      "Epoch 354 finished, average loss: 0.0001310743\n",
      "Starting testing\n"
     ]
    },
    {
     "name": "stderr",
     "output_type": "stream",
     "text": [
      "\n"
     ]
    },
    {
     "name": "stdout",
     "output_type": "stream",
     "text": [
      "Correct: 9404, total: 10000, accuracy: 0.9404000044, average loss: 0.0018952085\n"
     ]
    },
    {
     "name": "stderr",
     "output_type": "stream",
     "text": [
      "391it [00:27, 13.98it/s]"
     ]
    },
    {
     "name": "stdout",
     "output_type": "stream",
     "text": [
      "Epoch 355 finished, average loss: 0.0001311928\n",
      "Starting testing\n"
     ]
    },
    {
     "name": "stderr",
     "output_type": "stream",
     "text": [
      "\n"
     ]
    },
    {
     "name": "stdout",
     "output_type": "stream",
     "text": [
      "Correct: 9409, total: 10000, accuracy: 0.9408999681, average loss: 0.0018736881\n"
     ]
    },
    {
     "name": "stderr",
     "output_type": "stream",
     "text": [
      "391it [00:28, 13.93it/s]"
     ]
    },
    {
     "name": "stdout",
     "output_type": "stream",
     "text": [
      "Epoch 356 finished, average loss: 0.0001554647\n",
      "Starting testing\n"
     ]
    },
    {
     "name": "stderr",
     "output_type": "stream",
     "text": [
      "\n"
     ]
    },
    {
     "name": "stdout",
     "output_type": "stream",
     "text": [
      "Correct: 9410, total: 10000, accuracy: 0.9409999847, average loss: 0.0020065723\n"
     ]
    },
    {
     "name": "stderr",
     "output_type": "stream",
     "text": [
      "391it [00:28, 13.87it/s]"
     ]
    },
    {
     "name": "stdout",
     "output_type": "stream",
     "text": [
      "Epoch 357 finished, average loss: 0.0001305633\n",
      "Starting testing\n"
     ]
    },
    {
     "name": "stderr",
     "output_type": "stream",
     "text": [
      "\n"
     ]
    },
    {
     "name": "stdout",
     "output_type": "stream",
     "text": [
      "Correct: 9390, total: 10000, accuracy: 0.9389999509, average loss: 0.0018557307\n"
     ]
    },
    {
     "name": "stderr",
     "output_type": "stream",
     "text": [
      "391it [00:28, 13.90it/s]"
     ]
    },
    {
     "name": "stdout",
     "output_type": "stream",
     "text": [
      "Epoch 358 finished, average loss: 0.0001249885\n",
      "Starting testing\n"
     ]
    },
    {
     "name": "stderr",
     "output_type": "stream",
     "text": [
      "\n"
     ]
    },
    {
     "name": "stdout",
     "output_type": "stream",
     "text": [
      "Correct: 9381, total: 10000, accuracy: 0.9380999804, average loss: 0.0020386444\n"
     ]
    },
    {
     "name": "stderr",
     "output_type": "stream",
     "text": [
      "391it [00:28, 13.93it/s]"
     ]
    },
    {
     "name": "stdout",
     "output_type": "stream",
     "text": [
      "Epoch 359 finished, average loss: 0.0001219013\n",
      "Starting testing\n"
     ]
    },
    {
     "name": "stderr",
     "output_type": "stream",
     "text": [
      "\n"
     ]
    },
    {
     "name": "stdout",
     "output_type": "stream",
     "text": [
      "Correct: 9381, total: 10000, accuracy: 0.9380999804, average loss: 0.0020403348\n"
     ]
    },
    {
     "name": "stderr",
     "output_type": "stream",
     "text": [
      "391it [00:28, 13.81it/s]\n"
     ]
    },
    {
     "name": "stdout",
     "output_type": "stream",
     "text": [
      "Epoch 360 finished, average loss: 0.0001162137\n",
      "Starting testing\n",
      "Correct: 9383, total: 10000, accuracy: 0.9382999539, average loss: 0.0019591522\n"
     ]
    },
    {
     "name": "stderr",
     "output_type": "stream",
     "text": [
      "391it [00:28, 13.93it/s]\n"
     ]
    },
    {
     "name": "stdout",
     "output_type": "stream",
     "text": [
      "Epoch 361 finished, average loss: 0.0001204210\n",
      "Starting testing\n",
      "Correct: 9416, total: 10000, accuracy: 0.9415999651, average loss: 0.0018733669\n"
     ]
    },
    {
     "name": "stderr",
     "output_type": "stream",
     "text": [
      "391it [00:28, 13.95it/s]"
     ]
    },
    {
     "name": "stdout",
     "output_type": "stream",
     "text": [
      "Epoch 362 finished, average loss: 0.0001319608\n",
      "Starting testing\n"
     ]
    },
    {
     "name": "stderr",
     "output_type": "stream",
     "text": [
      "\n"
     ]
    },
    {
     "name": "stdout",
     "output_type": "stream",
     "text": [
      "Correct: 9412, total: 10000, accuracy: 0.9411999583, average loss: 0.0018024092\n"
     ]
    },
    {
     "name": "stderr",
     "output_type": "stream",
     "text": [
      "391it [00:28, 13.93it/s]"
     ]
    },
    {
     "name": "stdout",
     "output_type": "stream",
     "text": [
      "Epoch 363 finished, average loss: 0.0001202840\n",
      "Starting testing\n"
     ]
    },
    {
     "name": "stderr",
     "output_type": "stream",
     "text": [
      "\n"
     ]
    },
    {
     "name": "stdout",
     "output_type": "stream",
     "text": [
      "Correct: 9398, total: 10000, accuracy: 0.9397999644, average loss: 0.0019263710\n"
     ]
    },
    {
     "name": "stderr",
     "output_type": "stream",
     "text": [
      "391it [00:27, 13.99it/s]"
     ]
    },
    {
     "name": "stdout",
     "output_type": "stream",
     "text": [
      "Epoch 364 finished, average loss: 0.0001252539\n",
      "Starting testing\n"
     ]
    },
    {
     "name": "stderr",
     "output_type": "stream",
     "text": [
      "\n"
     ]
    },
    {
     "name": "stdout",
     "output_type": "stream",
     "text": [
      "Correct: 9390, total: 10000, accuracy: 0.9389999509, average loss: 0.0019745909\n"
     ]
    },
    {
     "name": "stderr",
     "output_type": "stream",
     "text": [
      "391it [00:28, 13.94it/s]"
     ]
    },
    {
     "name": "stdout",
     "output_type": "stream",
     "text": [
      "Epoch 365 finished, average loss: 0.0001334964\n",
      "Starting testing\n"
     ]
    },
    {
     "name": "stderr",
     "output_type": "stream",
     "text": [
      "\n"
     ]
    },
    {
     "name": "stdout",
     "output_type": "stream",
     "text": [
      "Correct: 9361, total: 10000, accuracy: 0.9361000061, average loss: 0.0019850182\n"
     ]
    },
    {
     "name": "stderr",
     "output_type": "stream",
     "text": [
      "391it [00:28, 13.91it/s]"
     ]
    },
    {
     "name": "stdout",
     "output_type": "stream",
     "text": [
      "Epoch 366 finished, average loss: 0.0001469656\n",
      "Starting testing\n"
     ]
    },
    {
     "name": "stderr",
     "output_type": "stream",
     "text": [
      "\n"
     ]
    },
    {
     "name": "stdout",
     "output_type": "stream",
     "text": [
      "Correct: 9352, total: 10000, accuracy: 0.9351999760, average loss: 0.0020226863\n"
     ]
    },
    {
     "name": "stderr",
     "output_type": "stream",
     "text": [
      "391it [00:28, 13.89it/s]"
     ]
    },
    {
     "name": "stdout",
     "output_type": "stream",
     "text": [
      "Epoch 367 finished, average loss: 0.0001229172\n",
      "Starting testing\n"
     ]
    },
    {
     "name": "stderr",
     "output_type": "stream",
     "text": [
      "\n"
     ]
    },
    {
     "name": "stdout",
     "output_type": "stream",
     "text": [
      "Correct: 9355, total: 10000, accuracy: 0.9354999661, average loss: 0.0020896742\n"
     ]
    },
    {
     "name": "stderr",
     "output_type": "stream",
     "text": [
      "391it [00:28, 13.93it/s]"
     ]
    },
    {
     "name": "stdout",
     "output_type": "stream",
     "text": [
      "Epoch 368 finished, average loss: 0.0001142105\n",
      "Starting testing\n"
     ]
    },
    {
     "name": "stderr",
     "output_type": "stream",
     "text": [
      "\n"
     ]
    },
    {
     "name": "stdout",
     "output_type": "stream",
     "text": [
      "Correct: 9422, total: 10000, accuracy: 0.9422000051, average loss: 0.0018343317\n"
     ]
    },
    {
     "name": "stderr",
     "output_type": "stream",
     "text": [
      "391it [00:28, 13.90it/s]"
     ]
    },
    {
     "name": "stdout",
     "output_type": "stream",
     "text": [
      "Epoch 369 finished, average loss: 0.0001308428\n",
      "Starting testing\n"
     ]
    },
    {
     "name": "stderr",
     "output_type": "stream",
     "text": [
      "\n"
     ]
    },
    {
     "name": "stdout",
     "output_type": "stream",
     "text": [
      "Correct: 9399, total: 10000, accuracy: 0.9398999810, average loss: 0.0020700314\n"
     ]
    },
    {
     "name": "stderr",
     "output_type": "stream",
     "text": [
      "391it [00:28, 13.91it/s]"
     ]
    },
    {
     "name": "stdout",
     "output_type": "stream",
     "text": [
      "Epoch 370 finished, average loss: 0.0001211737\n",
      "Starting testing\n"
     ]
    },
    {
     "name": "stderr",
     "output_type": "stream",
     "text": [
      "\n"
     ]
    },
    {
     "name": "stdout",
     "output_type": "stream",
     "text": [
      "Correct: 9423, total: 10000, accuracy: 0.9422999620, average loss: 0.0018988747\n"
     ]
    },
    {
     "name": "stderr",
     "output_type": "stream",
     "text": [
      "391it [00:28, 13.94it/s]"
     ]
    },
    {
     "name": "stdout",
     "output_type": "stream",
     "text": [
      "Epoch 371 finished, average loss: 0.0001401785\n",
      "Starting testing\n"
     ]
    },
    {
     "name": "stderr",
     "output_type": "stream",
     "text": [
      "\n"
     ]
    },
    {
     "name": "stdout",
     "output_type": "stream",
     "text": [
      "Correct: 9396, total: 10000, accuracy: 0.9395999908, average loss: 0.0019893358\n"
     ]
    },
    {
     "name": "stderr",
     "output_type": "stream",
     "text": [
      "391it [00:28, 13.82it/s]"
     ]
    },
    {
     "name": "stdout",
     "output_type": "stream",
     "text": [
      "Epoch 372 finished, average loss: 0.0001350546\n",
      "Starting testing\n"
     ]
    },
    {
     "name": "stderr",
     "output_type": "stream",
     "text": [
      "\n"
     ]
    },
    {
     "name": "stdout",
     "output_type": "stream",
     "text": [
      "Correct: 9395, total: 10000, accuracy: 0.9394999743, average loss: 0.0018791730\n"
     ]
    },
    {
     "name": "stderr",
     "output_type": "stream",
     "text": [
      "391it [00:28, 13.91it/s]"
     ]
    },
    {
     "name": "stdout",
     "output_type": "stream",
     "text": [
      "Epoch 373 finished, average loss: 0.0001335708\n",
      "Starting testing\n"
     ]
    },
    {
     "name": "stderr",
     "output_type": "stream",
     "text": [
      "\n"
     ]
    },
    {
     "name": "stdout",
     "output_type": "stream",
     "text": [
      "Correct: 9412, total: 10000, accuracy: 0.9411999583, average loss: 0.0019376601\n"
     ]
    },
    {
     "name": "stderr",
     "output_type": "stream",
     "text": [
      "391it [00:28, 13.94it/s]"
     ]
    },
    {
     "name": "stdout",
     "output_type": "stream",
     "text": [
      "Epoch 374 finished, average loss: 0.0001482774\n",
      "Starting testing\n"
     ]
    },
    {
     "name": "stderr",
     "output_type": "stream",
     "text": [
      "\n"
     ]
    },
    {
     "name": "stdout",
     "output_type": "stream",
     "text": [
      "Correct: 9384, total: 10000, accuracy: 0.9383999705, average loss: 0.0019124939\n"
     ]
    },
    {
     "name": "stderr",
     "output_type": "stream",
     "text": [
      "391it [00:27, 13.98it/s]"
     ]
    },
    {
     "name": "stdout",
     "output_type": "stream",
     "text": [
      "Epoch 375 finished, average loss: 0.0001503614\n",
      "Starting testing\n"
     ]
    },
    {
     "name": "stderr",
     "output_type": "stream",
     "text": [
      "\n"
     ]
    },
    {
     "name": "stdout",
     "output_type": "stream",
     "text": [
      "Correct: 9387, total: 10000, accuracy: 0.9386999607, average loss: 0.0020032028\n"
     ]
    },
    {
     "name": "stderr",
     "output_type": "stream",
     "text": [
      "391it [00:28, 13.91it/s]"
     ]
    },
    {
     "name": "stdout",
     "output_type": "stream",
     "text": [
      "Epoch 376 finished, average loss: 0.0001146409\n",
      "Starting testing\n"
     ]
    },
    {
     "name": "stderr",
     "output_type": "stream",
     "text": [
      "\n"
     ]
    },
    {
     "name": "stdout",
     "output_type": "stream",
     "text": [
      "Correct: 9406, total: 10000, accuracy: 0.9405999780, average loss: 0.0018491496\n"
     ]
    },
    {
     "name": "stderr",
     "output_type": "stream",
     "text": [
      "391it [00:28, 13.94it/s]"
     ]
    },
    {
     "name": "stdout",
     "output_type": "stream",
     "text": [
      "Epoch 377 finished, average loss: 0.0001121023\n",
      "Starting testing\n"
     ]
    },
    {
     "name": "stderr",
     "output_type": "stream",
     "text": [
      "\n"
     ]
    },
    {
     "name": "stdout",
     "output_type": "stream",
     "text": [
      "Correct: 9408, total: 10000, accuracy: 0.9407999516, average loss: 0.0018567808\n"
     ]
    },
    {
     "name": "stderr",
     "output_type": "stream",
     "text": [
      "391it [00:27, 13.98it/s]"
     ]
    },
    {
     "name": "stdout",
     "output_type": "stream",
     "text": [
      "Epoch 378 finished, average loss: 0.0001023741\n",
      "Starting testing\n"
     ]
    },
    {
     "name": "stderr",
     "output_type": "stream",
     "text": [
      "\n"
     ]
    },
    {
     "name": "stdout",
     "output_type": "stream",
     "text": [
      "Correct: 9426, total: 10000, accuracy: 0.9425999522, average loss: 0.0018028368\n"
     ]
    },
    {
     "name": "stderr",
     "output_type": "stream",
     "text": [
      "391it [00:27, 13.99it/s]"
     ]
    },
    {
     "name": "stdout",
     "output_type": "stream",
     "text": [
      "Epoch 379 finished, average loss: 0.0000806555\n",
      "Starting testing\n"
     ]
    },
    {
     "name": "stderr",
     "output_type": "stream",
     "text": [
      "\n"
     ]
    },
    {
     "name": "stdout",
     "output_type": "stream",
     "text": [
      "Correct: 9436, total: 10000, accuracy: 0.9435999990, average loss: 0.0018245875\n"
     ]
    },
    {
     "name": "stderr",
     "output_type": "stream",
     "text": [
      "391it [00:28, 13.95it/s]"
     ]
    },
    {
     "name": "stdout",
     "output_type": "stream",
     "text": [
      "Epoch 380 finished, average loss: 0.0000929689\n",
      "Starting testing\n"
     ]
    },
    {
     "name": "stderr",
     "output_type": "stream",
     "text": [
      "\n"
     ]
    },
    {
     "name": "stdout",
     "output_type": "stream",
     "text": [
      "Correct: 9434, total: 10000, accuracy: 0.9433999658, average loss: 0.0018028319\n"
     ]
    },
    {
     "name": "stderr",
     "output_type": "stream",
     "text": [
      "391it [00:28, 13.90it/s]"
     ]
    },
    {
     "name": "stdout",
     "output_type": "stream",
     "text": [
      "Epoch 381 finished, average loss: 0.0000776833\n",
      "Starting testing\n"
     ]
    },
    {
     "name": "stderr",
     "output_type": "stream",
     "text": [
      "\n"
     ]
    },
    {
     "name": "stdout",
     "output_type": "stream",
     "text": [
      "Correct: 9449, total: 10000, accuracy: 0.9448999763, average loss: 0.0017357107\n"
     ]
    },
    {
     "name": "stderr",
     "output_type": "stream",
     "text": [
      "391it [00:27, 13.99it/s]"
     ]
    },
    {
     "name": "stdout",
     "output_type": "stream",
     "text": [
      "Epoch 382 finished, average loss: 0.0000790234\n",
      "Starting testing\n"
     ]
    },
    {
     "name": "stderr",
     "output_type": "stream",
     "text": [
      "\n"
     ]
    },
    {
     "name": "stdout",
     "output_type": "stream",
     "text": [
      "Correct: 9433, total: 10000, accuracy: 0.9432999492, average loss: 0.0018568254\n"
     ]
    },
    {
     "name": "stderr",
     "output_type": "stream",
     "text": [
      "391it [00:28, 13.92it/s]"
     ]
    },
    {
     "name": "stdout",
     "output_type": "stream",
     "text": [
      "Epoch 383 finished, average loss: 0.0000748054\n",
      "Starting testing\n"
     ]
    },
    {
     "name": "stderr",
     "output_type": "stream",
     "text": [
      "\n"
     ]
    },
    {
     "name": "stdout",
     "output_type": "stream",
     "text": [
      "Correct: 9428, total: 10000, accuracy: 0.9427999854, average loss: 0.0019641254\n"
     ]
    },
    {
     "name": "stderr",
     "output_type": "stream",
     "text": [
      "391it [00:28, 13.94it/s]"
     ]
    },
    {
     "name": "stdout",
     "output_type": "stream",
     "text": [
      "Epoch 384 finished, average loss: 0.0000727285\n",
      "Starting testing\n"
     ]
    },
    {
     "name": "stderr",
     "output_type": "stream",
     "text": [
      "\n"
     ]
    },
    {
     "name": "stdout",
     "output_type": "stream",
     "text": [
      "Correct: 9433, total: 10000, accuracy: 0.9432999492, average loss: 0.0017770349\n"
     ]
    },
    {
     "name": "stderr",
     "output_type": "stream",
     "text": [
      "391it [00:28, 13.87it/s]"
     ]
    },
    {
     "name": "stdout",
     "output_type": "stream",
     "text": [
      "Epoch 385 finished, average loss: 0.0000649665\n",
      "Starting testing\n"
     ]
    },
    {
     "name": "stderr",
     "output_type": "stream",
     "text": [
      "\n"
     ]
    },
    {
     "name": "stdout",
     "output_type": "stream",
     "text": [
      "Correct: 9441, total: 10000, accuracy: 0.9440999627, average loss: 0.0017912583\n"
     ]
    },
    {
     "name": "stderr",
     "output_type": "stream",
     "text": [
      "391it [00:28, 13.90it/s]"
     ]
    },
    {
     "name": "stdout",
     "output_type": "stream",
     "text": [
      "Epoch 386 finished, average loss: 0.0000675300\n",
      "Starting testing\n"
     ]
    },
    {
     "name": "stderr",
     "output_type": "stream",
     "text": [
      "\n"
     ]
    },
    {
     "name": "stdout",
     "output_type": "stream",
     "text": [
      "Correct: 9439, total: 10000, accuracy: 0.9438999891, average loss: 0.0017757721\n"
     ]
    },
    {
     "name": "stderr",
     "output_type": "stream",
     "text": [
      "391it [00:28, 13.95it/s]"
     ]
    },
    {
     "name": "stdout",
     "output_type": "stream",
     "text": [
      "Epoch 387 finished, average loss: 0.0000737567\n",
      "Starting testing\n"
     ]
    },
    {
     "name": "stderr",
     "output_type": "stream",
     "text": [
      "\n"
     ]
    },
    {
     "name": "stdout",
     "output_type": "stream",
     "text": [
      "Correct: 9441, total: 10000, accuracy: 0.9440999627, average loss: 0.0017885022\n"
     ]
    },
    {
     "name": "stderr",
     "output_type": "stream",
     "text": [
      "391it [00:28, 13.96it/s]"
     ]
    },
    {
     "name": "stdout",
     "output_type": "stream",
     "text": [
      "Epoch 388 finished, average loss: 0.0000620492\n",
      "Starting testing\n"
     ]
    },
    {
     "name": "stderr",
     "output_type": "stream",
     "text": [
      "\n"
     ]
    },
    {
     "name": "stdout",
     "output_type": "stream",
     "text": [
      "Correct: 9438, total: 10000, accuracy: 0.9437999725, average loss: 0.0017926790\n"
     ]
    },
    {
     "name": "stderr",
     "output_type": "stream",
     "text": [
      "391it [00:28, 13.96it/s]\n"
     ]
    },
    {
     "name": "stdout",
     "output_type": "stream",
     "text": [
      "Epoch 389 finished, average loss: 0.0000636818\n",
      "Starting testing\n",
      "Correct: 9440, total: 10000, accuracy: 0.9440000057, average loss: 0.0019371989\n"
     ]
    },
    {
     "name": "stderr",
     "output_type": "stream",
     "text": [
      "391it [00:28, 13.91it/s]"
     ]
    },
    {
     "name": "stdout",
     "output_type": "stream",
     "text": [
      "Epoch 390 finished, average loss: 0.0000661016\n",
      "Starting testing\n"
     ]
    },
    {
     "name": "stderr",
     "output_type": "stream",
     "text": [
      "\n"
     ]
    },
    {
     "name": "stdout",
     "output_type": "stream",
     "text": [
      "Correct: 9436, total: 10000, accuracy: 0.9435999990, average loss: 0.0018736903\n"
     ]
    },
    {
     "name": "stderr",
     "output_type": "stream",
     "text": [
      "391it [00:28, 13.91it/s]"
     ]
    },
    {
     "name": "stdout",
     "output_type": "stream",
     "text": [
      "Epoch 391 finished, average loss: 0.0000660548\n",
      "Starting testing\n"
     ]
    },
    {
     "name": "stderr",
     "output_type": "stream",
     "text": [
      "\n"
     ]
    },
    {
     "name": "stdout",
     "output_type": "stream",
     "text": [
      "Correct: 9421, total: 10000, accuracy: 0.9420999885, average loss: 0.0019933853\n"
     ]
    },
    {
     "name": "stderr",
     "output_type": "stream",
     "text": [
      "391it [00:28, 13.87it/s]"
     ]
    },
    {
     "name": "stdout",
     "output_type": "stream",
     "text": [
      "Epoch 392 finished, average loss: 0.0000559760\n",
      "Starting testing\n"
     ]
    },
    {
     "name": "stderr",
     "output_type": "stream",
     "text": [
      "\n"
     ]
    },
    {
     "name": "stdout",
     "output_type": "stream",
     "text": [
      "Correct: 9442, total: 10000, accuracy: 0.9441999793, average loss: 0.0018759756\n"
     ]
    },
    {
     "name": "stderr",
     "output_type": "stream",
     "text": [
      "391it [00:28, 13.93it/s]"
     ]
    },
    {
     "name": "stdout",
     "output_type": "stream",
     "text": [
      "Epoch 393 finished, average loss: 0.0000713703\n",
      "Starting testing\n"
     ]
    },
    {
     "name": "stderr",
     "output_type": "stream",
     "text": [
      "\n"
     ]
    },
    {
     "name": "stdout",
     "output_type": "stream",
     "text": [
      "Correct: 9440, total: 10000, accuracy: 0.9440000057, average loss: 0.0017613812\n"
     ]
    },
    {
     "name": "stderr",
     "output_type": "stream",
     "text": [
      "391it [00:27, 13.97it/s]"
     ]
    },
    {
     "name": "stdout",
     "output_type": "stream",
     "text": [
      "Epoch 394 finished, average loss: 0.0000601263\n",
      "Starting testing\n"
     ]
    },
    {
     "name": "stderr",
     "output_type": "stream",
     "text": [
      "\n"
     ]
    },
    {
     "name": "stdout",
     "output_type": "stream",
     "text": [
      "Correct: 9429, total: 10000, accuracy: 0.9429000020, average loss: 0.0018917186\n"
     ]
    },
    {
     "name": "stderr",
     "output_type": "stream",
     "text": [
      "391it [00:28, 13.88it/s]"
     ]
    },
    {
     "name": "stdout",
     "output_type": "stream",
     "text": [
      "Epoch 395 finished, average loss: 0.0000589931\n",
      "Starting testing\n"
     ]
    },
    {
     "name": "stderr",
     "output_type": "stream",
     "text": [
      "\n"
     ]
    },
    {
     "name": "stdout",
     "output_type": "stream",
     "text": [
      "Correct: 9460, total: 10000, accuracy: 0.9459999800, average loss: 0.0018459168\n"
     ]
    },
    {
     "name": "stderr",
     "output_type": "stream",
     "text": [
      "391it [00:28, 13.89it/s]"
     ]
    },
    {
     "name": "stdout",
     "output_type": "stream",
     "text": [
      "Epoch 396 finished, average loss: 0.0000625887\n",
      "Starting testing\n"
     ]
    },
    {
     "name": "stderr",
     "output_type": "stream",
     "text": [
      "\n"
     ]
    },
    {
     "name": "stdout",
     "output_type": "stream",
     "text": [
      "Correct: 9452, total: 10000, accuracy: 0.9451999664, average loss: 0.0018183661\n"
     ]
    },
    {
     "name": "stderr",
     "output_type": "stream",
     "text": [
      "391it [00:28, 13.95it/s]"
     ]
    },
    {
     "name": "stdout",
     "output_type": "stream",
     "text": [
      "Epoch 397 finished, average loss: 0.0000547054\n",
      "Starting testing\n"
     ]
    },
    {
     "name": "stderr",
     "output_type": "stream",
     "text": [
      "\n"
     ]
    },
    {
     "name": "stdout",
     "output_type": "stream",
     "text": [
      "Correct: 9441, total: 10000, accuracy: 0.9440999627, average loss: 0.0018179209\n"
     ]
    },
    {
     "name": "stderr",
     "output_type": "stream",
     "text": [
      "391it [00:28, 13.95it/s]"
     ]
    },
    {
     "name": "stdout",
     "output_type": "stream",
     "text": [
      "Epoch 398 finished, average loss: 0.0000607875\n",
      "Starting testing\n"
     ]
    },
    {
     "name": "stderr",
     "output_type": "stream",
     "text": [
      "\n"
     ]
    },
    {
     "name": "stdout",
     "output_type": "stream",
     "text": [
      "Correct: 9445, total: 10000, accuracy: 0.9444999695, average loss: 0.0018304269\n"
     ]
    },
    {
     "name": "stderr",
     "output_type": "stream",
     "text": [
      "391it [00:27, 14.00it/s]"
     ]
    },
    {
     "name": "stdout",
     "output_type": "stream",
     "text": [
      "Epoch 399 finished, average loss: 0.0000625701\n",
      "Starting testing\n"
     ]
    },
    {
     "name": "stderr",
     "output_type": "stream",
     "text": [
      "\n"
     ]
    },
    {
     "name": "stdout",
     "output_type": "stream",
     "text": [
      "Correct: 9441, total: 10000, accuracy: 0.9440999627, average loss: 0.0017722395\n"
     ]
    },
    {
     "name": "stderr",
     "output_type": "stream",
     "text": [
      "391it [00:27, 13.97it/s]"
     ]
    },
    {
     "name": "stdout",
     "output_type": "stream",
     "text": [
      "Epoch 400 finished, average loss: 0.0000600216\n",
      "Starting testing\n"
     ]
    },
    {
     "name": "stderr",
     "output_type": "stream",
     "text": [
      "\n"
     ]
    },
    {
     "name": "stdout",
     "output_type": "stream",
     "text": [
      "Correct: 9450, total: 10000, accuracy: 0.9449999928, average loss: 0.0018521384\n"
     ]
    },
    {
     "name": "stderr",
     "output_type": "stream",
     "text": [
      "391it [00:28, 13.89it/s]"
     ]
    },
    {
     "name": "stdout",
     "output_type": "stream",
     "text": [
      "Epoch 401 finished, average loss: 0.0000538964\n",
      "Starting testing\n"
     ]
    },
    {
     "name": "stderr",
     "output_type": "stream",
     "text": [
      "\n"
     ]
    },
    {
     "name": "stdout",
     "output_type": "stream",
     "text": [
      "Correct: 9435, total: 10000, accuracy: 0.9434999824, average loss: 0.0018774709\n"
     ]
    },
    {
     "name": "stderr",
     "output_type": "stream",
     "text": [
      "391it [00:28, 13.89it/s]\n"
     ]
    },
    {
     "name": "stdout",
     "output_type": "stream",
     "text": [
      "Epoch 402 finished, average loss: 0.0000490115\n",
      "Starting testing\n",
      "Correct: 9437, total: 10000, accuracy: 0.9436999559, average loss: 0.0018550734\n"
     ]
    },
    {
     "name": "stderr",
     "output_type": "stream",
     "text": [
      "391it [00:28, 13.87it/s]"
     ]
    },
    {
     "name": "stdout",
     "output_type": "stream",
     "text": [
      "Epoch 403 finished, average loss: 0.0000500561\n",
      "Starting testing\n"
     ]
    },
    {
     "name": "stderr",
     "output_type": "stream",
     "text": [
      "\n"
     ]
    },
    {
     "name": "stdout",
     "output_type": "stream",
     "text": [
      "Correct: 9453, total: 10000, accuracy: 0.9452999830, average loss: 0.0017393501\n"
     ]
    },
    {
     "name": "stderr",
     "output_type": "stream",
     "text": [
      "391it [00:27, 13.98it/s]"
     ]
    },
    {
     "name": "stdout",
     "output_type": "stream",
     "text": [
      "Epoch 404 finished, average loss: 0.0000592943\n",
      "Starting testing\n"
     ]
    },
    {
     "name": "stderr",
     "output_type": "stream",
     "text": [
      "\n"
     ]
    },
    {
     "name": "stdout",
     "output_type": "stream",
     "text": [
      "Correct: 9451, total: 10000, accuracy: 0.9450999498, average loss: 0.0019128635\n"
     ]
    },
    {
     "name": "stderr",
     "output_type": "stream",
     "text": [
      "391it [00:28, 13.93it/s]"
     ]
    },
    {
     "name": "stdout",
     "output_type": "stream",
     "text": [
      "Epoch 405 finished, average loss: 0.0000509072\n",
      "Starting testing\n"
     ]
    },
    {
     "name": "stderr",
     "output_type": "stream",
     "text": [
      "\n"
     ]
    },
    {
     "name": "stdout",
     "output_type": "stream",
     "text": [
      "Correct: 9437, total: 10000, accuracy: 0.9436999559, average loss: 0.0017271763\n"
     ]
    },
    {
     "name": "stderr",
     "output_type": "stream",
     "text": [
      "391it [00:28, 13.93it/s]"
     ]
    },
    {
     "name": "stdout",
     "output_type": "stream",
     "text": [
      "Epoch 406 finished, average loss: 0.0000489365\n",
      "Starting testing\n"
     ]
    },
    {
     "name": "stderr",
     "output_type": "stream",
     "text": [
      "\n"
     ]
    },
    {
     "name": "stdout",
     "output_type": "stream",
     "text": [
      "Correct: 9449, total: 10000, accuracy: 0.9448999763, average loss: 0.0019500695\n"
     ]
    },
    {
     "name": "stderr",
     "output_type": "stream",
     "text": [
      "391it [00:28, 13.90it/s]"
     ]
    },
    {
     "name": "stdout",
     "output_type": "stream",
     "text": [
      "Epoch 407 finished, average loss: 0.0000623111\n",
      "Starting testing\n"
     ]
    },
    {
     "name": "stderr",
     "output_type": "stream",
     "text": [
      "\n"
     ]
    },
    {
     "name": "stdout",
     "output_type": "stream",
     "text": [
      "Correct: 9460, total: 10000, accuracy: 0.9459999800, average loss: 0.0018175179\n"
     ]
    },
    {
     "name": "stderr",
     "output_type": "stream",
     "text": [
      "391it [00:28, 13.92it/s]"
     ]
    },
    {
     "name": "stdout",
     "output_type": "stream",
     "text": [
      "Epoch 408 finished, average loss: 0.0000626085\n",
      "Starting testing\n"
     ]
    },
    {
     "name": "stderr",
     "output_type": "stream",
     "text": [
      "\n"
     ]
    },
    {
     "name": "stdout",
     "output_type": "stream",
     "text": [
      "Correct: 9437, total: 10000, accuracy: 0.9436999559, average loss: 0.0017788232\n"
     ]
    },
    {
     "name": "stderr",
     "output_type": "stream",
     "text": [
      "391it [00:28, 13.93it/s]"
     ]
    },
    {
     "name": "stdout",
     "output_type": "stream",
     "text": [
      "Epoch 409 finished, average loss: 0.0000616465\n",
      "Starting testing\n"
     ]
    },
    {
     "name": "stderr",
     "output_type": "stream",
     "text": [
      "\n"
     ]
    },
    {
     "name": "stdout",
     "output_type": "stream",
     "text": [
      "Correct: 9440, total: 10000, accuracy: 0.9440000057, average loss: 0.0019007638\n"
     ]
    },
    {
     "name": "stderr",
     "output_type": "stream",
     "text": [
      "391it [00:28, 13.92it/s]"
     ]
    },
    {
     "name": "stdout",
     "output_type": "stream",
     "text": [
      "Epoch 410 finished, average loss: 0.0000559290\n",
      "Starting testing\n"
     ]
    },
    {
     "name": "stderr",
     "output_type": "stream",
     "text": [
      "\n"
     ]
    },
    {
     "name": "stdout",
     "output_type": "stream",
     "text": [
      "Correct: 9436, total: 10000, accuracy: 0.9435999990, average loss: 0.0018392230\n"
     ]
    },
    {
     "name": "stderr",
     "output_type": "stream",
     "text": [
      "391it [00:28, 13.92it/s]"
     ]
    },
    {
     "name": "stdout",
     "output_type": "stream",
     "text": [
      "Epoch 411 finished, average loss: 0.0000560607\n",
      "Starting testing\n"
     ]
    },
    {
     "name": "stderr",
     "output_type": "stream",
     "text": [
      "\n"
     ]
    },
    {
     "name": "stdout",
     "output_type": "stream",
     "text": [
      "Correct: 9453, total: 10000, accuracy: 0.9452999830, average loss: 0.0017905567\n"
     ]
    },
    {
     "name": "stderr",
     "output_type": "stream",
     "text": [
      "391it [00:28, 13.87it/s]"
     ]
    },
    {
     "name": "stdout",
     "output_type": "stream",
     "text": [
      "Epoch 412 finished, average loss: 0.0000504939\n",
      "Starting testing\n"
     ]
    },
    {
     "name": "stderr",
     "output_type": "stream",
     "text": [
      "\n"
     ]
    },
    {
     "name": "stdout",
     "output_type": "stream",
     "text": [
      "Correct: 9451, total: 10000, accuracy: 0.9450999498, average loss: 0.0018305687\n"
     ]
    },
    {
     "name": "stderr",
     "output_type": "stream",
     "text": [
      "391it [00:28, 13.94it/s]"
     ]
    },
    {
     "name": "stdout",
     "output_type": "stream",
     "text": [
      "Epoch 413 finished, average loss: 0.0000640131\n",
      "Starting testing\n"
     ]
    },
    {
     "name": "stderr",
     "output_type": "stream",
     "text": [
      "\n"
     ]
    },
    {
     "name": "stdout",
     "output_type": "stream",
     "text": [
      "Correct: 9455, total: 10000, accuracy: 0.9454999566, average loss: 0.0018578040\n"
     ]
    },
    {
     "name": "stderr",
     "output_type": "stream",
     "text": [
      "391it [00:28, 13.92it/s]"
     ]
    },
    {
     "name": "stdout",
     "output_type": "stream",
     "text": [
      "Epoch 414 finished, average loss: 0.0000485762\n",
      "Starting testing\n"
     ]
    },
    {
     "name": "stderr",
     "output_type": "stream",
     "text": [
      "\n"
     ]
    },
    {
     "name": "stdout",
     "output_type": "stream",
     "text": [
      "Correct: 9451, total: 10000, accuracy: 0.9450999498, average loss: 0.0017998262\n"
     ]
    },
    {
     "name": "stderr",
     "output_type": "stream",
     "text": [
      "391it [00:28, 13.93it/s]"
     ]
    },
    {
     "name": "stdout",
     "output_type": "stream",
     "text": [
      "Epoch 415 finished, average loss: 0.0000554281\n",
      "Starting testing\n"
     ]
    },
    {
     "name": "stderr",
     "output_type": "stream",
     "text": [
      "\n"
     ]
    },
    {
     "name": "stdout",
     "output_type": "stream",
     "text": [
      "Correct: 9445, total: 10000, accuracy: 0.9444999695, average loss: 0.0018781083\n"
     ]
    },
    {
     "name": "stderr",
     "output_type": "stream",
     "text": [
      "391it [00:28, 13.91it/s]"
     ]
    },
    {
     "name": "stdout",
     "output_type": "stream",
     "text": [
      "Epoch 416 finished, average loss: 0.0000502953\n",
      "Starting testing\n"
     ]
    },
    {
     "name": "stderr",
     "output_type": "stream",
     "text": [
      "\n"
     ]
    },
    {
     "name": "stdout",
     "output_type": "stream",
     "text": [
      "Correct: 9444, total: 10000, accuracy: 0.9443999529, average loss: 0.0017606774\n"
     ]
    },
    {
     "name": "stderr",
     "output_type": "stream",
     "text": [
      "391it [00:28, 13.91it/s]"
     ]
    },
    {
     "name": "stdout",
     "output_type": "stream",
     "text": [
      "Epoch 417 finished, average loss: 0.0000667023\n",
      "Starting testing\n"
     ]
    },
    {
     "name": "stderr",
     "output_type": "stream",
     "text": [
      "\n"
     ]
    },
    {
     "name": "stdout",
     "output_type": "stream",
     "text": [
      "Correct: 9454, total: 10000, accuracy: 0.9453999996, average loss: 0.0017604472\n"
     ]
    },
    {
     "name": "stderr",
     "output_type": "stream",
     "text": [
      "391it [00:28, 13.93it/s]"
     ]
    },
    {
     "name": "stdout",
     "output_type": "stream",
     "text": [
      "Epoch 418 finished, average loss: 0.0000495726\n",
      "Starting testing\n"
     ]
    },
    {
     "name": "stderr",
     "output_type": "stream",
     "text": [
      "\n"
     ]
    },
    {
     "name": "stdout",
     "output_type": "stream",
     "text": [
      "Correct: 9455, total: 10000, accuracy: 0.9454999566, average loss: 0.0018141845\n"
     ]
    },
    {
     "name": "stderr",
     "output_type": "stream",
     "text": [
      "391it [00:28, 13.95it/s]"
     ]
    },
    {
     "name": "stdout",
     "output_type": "stream",
     "text": [
      "Epoch 419 finished, average loss: 0.0000493573\n",
      "Starting testing\n"
     ]
    },
    {
     "name": "stderr",
     "output_type": "stream",
     "text": [
      "\n"
     ]
    },
    {
     "name": "stdout",
     "output_type": "stream",
     "text": [
      "Correct: 9451, total: 10000, accuracy: 0.9450999498, average loss: 0.0019168943\n"
     ]
    },
    {
     "name": "stderr",
     "output_type": "stream",
     "text": [
      "391it [00:28, 13.90it/s]"
     ]
    },
    {
     "name": "stdout",
     "output_type": "stream",
     "text": [
      "Epoch 420 finished, average loss: 0.0000612297\n",
      "Starting testing\n"
     ]
    },
    {
     "name": "stderr",
     "output_type": "stream",
     "text": [
      "\n"
     ]
    },
    {
     "name": "stdout",
     "output_type": "stream",
     "text": [
      "Correct: 9459, total: 10000, accuracy: 0.9458999634, average loss: 0.0018968783\n"
     ]
    },
    {
     "name": "stderr",
     "output_type": "stream",
     "text": [
      "391it [00:28, 13.95it/s]"
     ]
    },
    {
     "name": "stdout",
     "output_type": "stream",
     "text": [
      "Epoch 421 finished, average loss: 0.0000508795\n",
      "Starting testing\n"
     ]
    },
    {
     "name": "stderr",
     "output_type": "stream",
     "text": [
      "\n"
     ]
    },
    {
     "name": "stdout",
     "output_type": "stream",
     "text": [
      "Correct: 9452, total: 10000, accuracy: 0.9451999664, average loss: 0.0018718202\n"
     ]
    },
    {
     "name": "stderr",
     "output_type": "stream",
     "text": [
      "391it [00:28, 13.85it/s]"
     ]
    },
    {
     "name": "stdout",
     "output_type": "stream",
     "text": [
      "Epoch 422 finished, average loss: 0.0000485791\n",
      "Starting testing\n"
     ]
    },
    {
     "name": "stderr",
     "output_type": "stream",
     "text": [
      "\n"
     ]
    },
    {
     "name": "stdout",
     "output_type": "stream",
     "text": [
      "Correct: 9421, total: 10000, accuracy: 0.9420999885, average loss: 0.0019340464\n"
     ]
    },
    {
     "name": "stderr",
     "output_type": "stream",
     "text": [
      "391it [00:27, 13.97it/s]"
     ]
    },
    {
     "name": "stdout",
     "output_type": "stream",
     "text": [
      "Epoch 423 finished, average loss: 0.0000449650\n",
      "Starting testing\n"
     ]
    },
    {
     "name": "stderr",
     "output_type": "stream",
     "text": [
      "\n"
     ]
    },
    {
     "name": "stdout",
     "output_type": "stream",
     "text": [
      "Correct: 9449, total: 10000, accuracy: 0.9448999763, average loss: 0.0018460936\n"
     ]
    },
    {
     "name": "stderr",
     "output_type": "stream",
     "text": [
      "391it [00:28, 13.95it/s]"
     ]
    },
    {
     "name": "stdout",
     "output_type": "stream",
     "text": [
      "Epoch 424 finished, average loss: 0.0000585791\n",
      "Starting testing\n"
     ]
    },
    {
     "name": "stderr",
     "output_type": "stream",
     "text": [
      "\n"
     ]
    },
    {
     "name": "stdout",
     "output_type": "stream",
     "text": [
      "Correct: 9459, total: 10000, accuracy: 0.9458999634, average loss: 0.0018714827\n"
     ]
    },
    {
     "name": "stderr",
     "output_type": "stream",
     "text": [
      "391it [00:28, 13.96it/s]"
     ]
    },
    {
     "name": "stdout",
     "output_type": "stream",
     "text": [
      "Epoch 425 finished, average loss: 0.0000434140\n",
      "Starting testing\n"
     ]
    },
    {
     "name": "stderr",
     "output_type": "stream",
     "text": [
      "\n"
     ]
    },
    {
     "name": "stdout",
     "output_type": "stream",
     "text": [
      "Correct: 9456, total: 10000, accuracy: 0.9455999732, average loss: 0.0018736507\n"
     ]
    },
    {
     "name": "stderr",
     "output_type": "stream",
     "text": [
      "391it [00:28, 13.89it/s]\n"
     ]
    },
    {
     "name": "stdout",
     "output_type": "stream",
     "text": [
      "Epoch 426 finished, average loss: 0.0000427663\n",
      "Starting testing\n",
      "Correct: 9462, total: 10000, accuracy: 0.9461999536, average loss: 0.0018323353\n"
     ]
    },
    {
     "name": "stderr",
     "output_type": "stream",
     "text": [
      "391it [00:28, 13.94it/s]"
     ]
    },
    {
     "name": "stdout",
     "output_type": "stream",
     "text": [
      "Epoch 427 finished, average loss: 0.0000501293\n",
      "Starting testing\n"
     ]
    },
    {
     "name": "stderr",
     "output_type": "stream",
     "text": [
      "\n"
     ]
    },
    {
     "name": "stdout",
     "output_type": "stream",
     "text": [
      "Correct: 9459, total: 10000, accuracy: 0.9458999634, average loss: 0.0018140950\n"
     ]
    },
    {
     "name": "stderr",
     "output_type": "stream",
     "text": [
      "391it [00:28, 13.88it/s]"
     ]
    },
    {
     "name": "stdout",
     "output_type": "stream",
     "text": [
      "Epoch 428 finished, average loss: 0.0000489519\n",
      "Starting testing\n"
     ]
    },
    {
     "name": "stderr",
     "output_type": "stream",
     "text": [
      "\n"
     ]
    },
    {
     "name": "stdout",
     "output_type": "stream",
     "text": [
      "Correct: 9458, total: 10000, accuracy: 0.9457999468, average loss: 0.0017838509\n"
     ]
    },
    {
     "name": "stderr",
     "output_type": "stream",
     "text": [
      "391it [00:28, 13.91it/s]"
     ]
    },
    {
     "name": "stdout",
     "output_type": "stream",
     "text": [
      "Epoch 429 finished, average loss: 0.0000433200\n",
      "Starting testing\n"
     ]
    },
    {
     "name": "stderr",
     "output_type": "stream",
     "text": [
      "\n"
     ]
    },
    {
     "name": "stdout",
     "output_type": "stream",
     "text": [
      "Correct: 9437, total: 10000, accuracy: 0.9436999559, average loss: 0.0018437578\n"
     ]
    },
    {
     "name": "stderr",
     "output_type": "stream",
     "text": [
      "391it [00:28, 13.92it/s]\n"
     ]
    },
    {
     "name": "stdout",
     "output_type": "stream",
     "text": [
      "Epoch 430 finished, average loss: 0.0000434520\n",
      "Starting testing\n",
      "Correct: 9458, total: 10000, accuracy: 0.9457999468, average loss: 0.0018017481\n"
     ]
    },
    {
     "name": "stderr",
     "output_type": "stream",
     "text": [
      "391it [00:28, 13.96it/s]"
     ]
    },
    {
     "name": "stdout",
     "output_type": "stream",
     "text": [
      "Epoch 431 finished, average loss: 0.0000417573\n",
      "Starting testing\n"
     ]
    },
    {
     "name": "stderr",
     "output_type": "stream",
     "text": [
      "\n"
     ]
    },
    {
     "name": "stdout",
     "output_type": "stream",
     "text": [
      "Correct: 9456, total: 10000, accuracy: 0.9455999732, average loss: 0.0018051769\n"
     ]
    },
    {
     "name": "stderr",
     "output_type": "stream",
     "text": [
      "391it [00:28, 13.95it/s]"
     ]
    },
    {
     "name": "stdout",
     "output_type": "stream",
     "text": [
      "Epoch 432 finished, average loss: 0.0000509876\n",
      "Starting testing\n"
     ]
    },
    {
     "name": "stderr",
     "output_type": "stream",
     "text": [
      "\n"
     ]
    },
    {
     "name": "stdout",
     "output_type": "stream",
     "text": [
      "Correct: 9473, total: 10000, accuracy: 0.9472999573, average loss: 0.0018993347\n"
     ]
    },
    {
     "name": "stderr",
     "output_type": "stream",
     "text": [
      "391it [00:28, 13.96it/s]\n"
     ]
    },
    {
     "name": "stdout",
     "output_type": "stream",
     "text": [
      "Epoch 433 finished, average loss: 0.0000452556\n",
      "Starting testing\n",
      "Correct: 9449, total: 10000, accuracy: 0.9448999763, average loss: 0.0018448913\n"
     ]
    },
    {
     "name": "stderr",
     "output_type": "stream",
     "text": [
      "391it [00:27, 13.96it/s]"
     ]
    },
    {
     "name": "stdout",
     "output_type": "stream",
     "text": [
      "Epoch 434 finished, average loss: 0.0000724708\n",
      "Starting testing\n"
     ]
    },
    {
     "name": "stderr",
     "output_type": "stream",
     "text": [
      "\n"
     ]
    },
    {
     "name": "stdout",
     "output_type": "stream",
     "text": [
      "Correct: 9447, total: 10000, accuracy: 0.9447000027, average loss: 0.0017892946\n"
     ]
    },
    {
     "name": "stderr",
     "output_type": "stream",
     "text": [
      "391it [00:28, 13.95it/s]"
     ]
    },
    {
     "name": "stdout",
     "output_type": "stream",
     "text": [
      "Epoch 435 finished, average loss: 0.0000494062\n",
      "Starting testing\n"
     ]
    },
    {
     "name": "stderr",
     "output_type": "stream",
     "text": [
      "\n"
     ]
    },
    {
     "name": "stdout",
     "output_type": "stream",
     "text": [
      "Correct: 9467, total: 10000, accuracy: 0.9466999769, average loss: 0.0018801808\n"
     ]
    },
    {
     "name": "stderr",
     "output_type": "stream",
     "text": [
      "391it [00:28, 13.96it/s]"
     ]
    },
    {
     "name": "stdout",
     "output_type": "stream",
     "text": [
      "Epoch 436 finished, average loss: 0.0000463982\n",
      "Starting testing\n"
     ]
    },
    {
     "name": "stderr",
     "output_type": "stream",
     "text": [
      "\n"
     ]
    },
    {
     "name": "stdout",
     "output_type": "stream",
     "text": [
      "Correct: 9438, total: 10000, accuracy: 0.9437999725, average loss: 0.0018927638\n"
     ]
    },
    {
     "name": "stderr",
     "output_type": "stream",
     "text": [
      "391it [00:28, 13.88it/s]"
     ]
    },
    {
     "name": "stdout",
     "output_type": "stream",
     "text": [
      "Epoch 437 finished, average loss: 0.0000437205\n",
      "Starting testing\n"
     ]
    },
    {
     "name": "stderr",
     "output_type": "stream",
     "text": [
      "\n"
     ]
    },
    {
     "name": "stdout",
     "output_type": "stream",
     "text": [
      "Correct: 9451, total: 10000, accuracy: 0.9450999498, average loss: 0.0018403016\n"
     ]
    },
    {
     "name": "stderr",
     "output_type": "stream",
     "text": [
      "391it [00:28, 13.95it/s]"
     ]
    },
    {
     "name": "stdout",
     "output_type": "stream",
     "text": [
      "Epoch 438 finished, average loss: 0.0000483691\n",
      "Starting testing\n"
     ]
    },
    {
     "name": "stderr",
     "output_type": "stream",
     "text": [
      "\n"
     ]
    },
    {
     "name": "stdout",
     "output_type": "stream",
     "text": [
      "Correct: 9461, total: 10000, accuracy: 0.9460999966, average loss: 0.0019700367\n"
     ]
    },
    {
     "name": "stderr",
     "output_type": "stream",
     "text": [
      "391it [00:28, 13.94it/s]"
     ]
    },
    {
     "name": "stdout",
     "output_type": "stream",
     "text": [
      "Epoch 439 finished, average loss: 0.0000491641\n",
      "Starting testing\n"
     ]
    },
    {
     "name": "stderr",
     "output_type": "stream",
     "text": [
      "\n"
     ]
    },
    {
     "name": "stdout",
     "output_type": "stream",
     "text": [
      "Correct: 9448, total: 10000, accuracy: 0.9447999597, average loss: 0.0018438257\n"
     ]
    },
    {
     "name": "stderr",
     "output_type": "stream",
     "text": [
      "391it [00:28, 13.84it/s]"
     ]
    },
    {
     "name": "stdout",
     "output_type": "stream",
     "text": [
      "Epoch 440 finished, average loss: 0.0000431173\n",
      "Starting testing\n"
     ]
    },
    {
     "name": "stderr",
     "output_type": "stream",
     "text": [
      "\n"
     ]
    },
    {
     "name": "stdout",
     "output_type": "stream",
     "text": [
      "Correct: 9461, total: 10000, accuracy: 0.9460999966, average loss: 0.0017673034\n"
     ]
    },
    {
     "name": "stderr",
     "output_type": "stream",
     "text": [
      "391it [00:28, 13.94it/s]"
     ]
    },
    {
     "name": "stdout",
     "output_type": "stream",
     "text": [
      "Epoch 441 finished, average loss: 0.0000445874\n",
      "Starting testing\n"
     ]
    },
    {
     "name": "stderr",
     "output_type": "stream",
     "text": [
      "\n"
     ]
    },
    {
     "name": "stdout",
     "output_type": "stream",
     "text": [
      "Correct: 9454, total: 10000, accuracy: 0.9453999996, average loss: 0.0018646527\n"
     ]
    },
    {
     "name": "stderr",
     "output_type": "stream",
     "text": [
      "391it [00:28, 13.95it/s]\n"
     ]
    },
    {
     "name": "stdout",
     "output_type": "stream",
     "text": [
      "Epoch 442 finished, average loss: 0.0000584524\n",
      "Starting testing\n",
      "Correct: 9462, total: 10000, accuracy: 0.9461999536, average loss: 0.0019236307\n"
     ]
    },
    {
     "name": "stderr",
     "output_type": "stream",
     "text": [
      "391it [00:28, 13.83it/s]"
     ]
    },
    {
     "name": "stdout",
     "output_type": "stream",
     "text": [
      "Epoch 443 finished, average loss: 0.0000396778\n",
      "Starting testing\n"
     ]
    },
    {
     "name": "stderr",
     "output_type": "stream",
     "text": [
      "\n"
     ]
    },
    {
     "name": "stdout",
     "output_type": "stream",
     "text": [
      "Correct: 9450, total: 10000, accuracy: 0.9449999928, average loss: 0.0019153161\n"
     ]
    },
    {
     "name": "stderr",
     "output_type": "stream",
     "text": [
      "391it [00:27, 13.99it/s]"
     ]
    },
    {
     "name": "stdout",
     "output_type": "stream",
     "text": [
      "Epoch 444 finished, average loss: 0.0000584347\n",
      "Starting testing\n"
     ]
    },
    {
     "name": "stderr",
     "output_type": "stream",
     "text": [
      "\n"
     ]
    },
    {
     "name": "stdout",
     "output_type": "stream",
     "text": [
      "Correct: 9453, total: 10000, accuracy: 0.9452999830, average loss: 0.0018718983\n"
     ]
    },
    {
     "name": "stderr",
     "output_type": "stream",
     "text": [
      "391it [00:28, 13.91it/s]"
     ]
    },
    {
     "name": "stdout",
     "output_type": "stream",
     "text": [
      "Epoch 445 finished, average loss: 0.0000413934\n",
      "Starting testing\n"
     ]
    },
    {
     "name": "stderr",
     "output_type": "stream",
     "text": [
      "\n"
     ]
    },
    {
     "name": "stdout",
     "output_type": "stream",
     "text": [
      "Correct: 9462, total: 10000, accuracy: 0.9461999536, average loss: 0.0018120284\n"
     ]
    },
    {
     "name": "stderr",
     "output_type": "stream",
     "text": [
      "391it [00:27, 13.97it/s]"
     ]
    },
    {
     "name": "stdout",
     "output_type": "stream",
     "text": [
      "Epoch 446 finished, average loss: 0.0000456000\n",
      "Starting testing\n"
     ]
    },
    {
     "name": "stderr",
     "output_type": "stream",
     "text": [
      "\n"
     ]
    },
    {
     "name": "stdout",
     "output_type": "stream",
     "text": [
      "Correct: 9459, total: 10000, accuracy: 0.9458999634, average loss: 0.0018629839\n"
     ]
    },
    {
     "name": "stderr",
     "output_type": "stream",
     "text": [
      "391it [00:28, 13.95it/s]"
     ]
    },
    {
     "name": "stdout",
     "output_type": "stream",
     "text": [
      "Epoch 447 finished, average loss: 0.0000480945\n",
      "Starting testing\n"
     ]
    },
    {
     "name": "stderr",
     "output_type": "stream",
     "text": [
      "\n"
     ]
    },
    {
     "name": "stdout",
     "output_type": "stream",
     "text": [
      "Correct: 9462, total: 10000, accuracy: 0.9461999536, average loss: 0.0018091407\n"
     ]
    },
    {
     "name": "stderr",
     "output_type": "stream",
     "text": [
      "391it [00:27, 13.99it/s]"
     ]
    },
    {
     "name": "stdout",
     "output_type": "stream",
     "text": [
      "Epoch 448 finished, average loss: 0.0000724267\n",
      "Starting testing\n"
     ]
    },
    {
     "name": "stderr",
     "output_type": "stream",
     "text": [
      "\n"
     ]
    },
    {
     "name": "stdout",
     "output_type": "stream",
     "text": [
      "Correct: 9441, total: 10000, accuracy: 0.9440999627, average loss: 0.0018593572\n"
     ]
    },
    {
     "name": "stderr",
     "output_type": "stream",
     "text": [
      "391it [00:27, 13.97it/s]"
     ]
    },
    {
     "name": "stdout",
     "output_type": "stream",
     "text": [
      "Epoch 449 finished, average loss: 0.0000490563\n",
      "Starting testing\n"
     ]
    },
    {
     "name": "stderr",
     "output_type": "stream",
     "text": [
      "\n"
     ]
    },
    {
     "name": "stdout",
     "output_type": "stream",
     "text": [
      "Correct: 9439, total: 10000, accuracy: 0.9438999891, average loss: 0.0018627484\n"
     ]
    },
    {
     "name": "stderr",
     "output_type": "stream",
     "text": [
      "391it [00:28, 13.93it/s]"
     ]
    },
    {
     "name": "stdout",
     "output_type": "stream",
     "text": [
      "Epoch 450 finished, average loss: 0.0000494275\n",
      "Starting testing\n"
     ]
    },
    {
     "name": "stderr",
     "output_type": "stream",
     "text": [
      "\n"
     ]
    },
    {
     "name": "stdout",
     "output_type": "stream",
     "text": [
      "Correct: 9470, total: 10000, accuracy: 0.9469999671, average loss: 0.0017955524\n"
     ]
    },
    {
     "name": "stderr",
     "output_type": "stream",
     "text": [
      "391it [00:28, 13.92it/s]"
     ]
    },
    {
     "name": "stdout",
     "output_type": "stream",
     "text": [
      "Epoch 451 finished, average loss: 0.0000385309\n",
      "Starting testing\n"
     ]
    },
    {
     "name": "stderr",
     "output_type": "stream",
     "text": [
      "\n"
     ]
    },
    {
     "name": "stdout",
     "output_type": "stream",
     "text": [
      "Correct: 9467, total: 10000, accuracy: 0.9466999769, average loss: 0.0017948313\n"
     ]
    },
    {
     "name": "stderr",
     "output_type": "stream",
     "text": [
      "391it [00:27, 14.02it/s]"
     ]
    },
    {
     "name": "stdout",
     "output_type": "stream",
     "text": [
      "Epoch 452 finished, average loss: 0.0000477356\n",
      "Starting testing\n"
     ]
    },
    {
     "name": "stderr",
     "output_type": "stream",
     "text": [
      "\n"
     ]
    },
    {
     "name": "stdout",
     "output_type": "stream",
     "text": [
      "Correct: 9443, total: 10000, accuracy: 0.9442999959, average loss: 0.0019124799\n"
     ]
    },
    {
     "name": "stderr",
     "output_type": "stream",
     "text": [
      "391it [00:28, 13.91it/s]\n"
     ]
    },
    {
     "name": "stdout",
     "output_type": "stream",
     "text": [
      "Epoch 453 finished, average loss: 0.0000728923\n",
      "Starting testing\n",
      "Correct: 9456, total: 10000, accuracy: 0.9455999732, average loss: 0.0019166704\n"
     ]
    },
    {
     "name": "stderr",
     "output_type": "stream",
     "text": [
      "391it [00:28, 13.95it/s]"
     ]
    },
    {
     "name": "stdout",
     "output_type": "stream",
     "text": [
      "Epoch 454 finished, average loss: 0.0000611876\n",
      "Starting testing\n"
     ]
    },
    {
     "name": "stderr",
     "output_type": "stream",
     "text": [
      "\n"
     ]
    },
    {
     "name": "stdout",
     "output_type": "stream",
     "text": [
      "Correct: 9472, total: 10000, accuracy: 0.9472000003, average loss: 0.0018033488\n"
     ]
    },
    {
     "name": "stderr",
     "output_type": "stream",
     "text": [
      "391it [00:28, 13.82it/s]"
     ]
    },
    {
     "name": "stdout",
     "output_type": "stream",
     "text": [
      "Epoch 455 finished, average loss: 0.0000432863\n",
      "Starting testing\n"
     ]
    },
    {
     "name": "stderr",
     "output_type": "stream",
     "text": [
      "\n"
     ]
    },
    {
     "name": "stdout",
     "output_type": "stream",
     "text": [
      "Correct: 9459, total: 10000, accuracy: 0.9458999634, average loss: 0.0018114501\n"
     ]
    },
    {
     "name": "stderr",
     "output_type": "stream",
     "text": [
      "391it [00:28, 13.89it/s]"
     ]
    },
    {
     "name": "stdout",
     "output_type": "stream",
     "text": [
      "Epoch 456 finished, average loss: 0.0000465246\n",
      "Starting testing\n"
     ]
    },
    {
     "name": "stderr",
     "output_type": "stream",
     "text": [
      "\n"
     ]
    },
    {
     "name": "stdout",
     "output_type": "stream",
     "text": [
      "Correct: 9457, total: 10000, accuracy: 0.9456999898, average loss: 0.0018989665\n"
     ]
    },
    {
     "name": "stderr",
     "output_type": "stream",
     "text": [
      "391it [00:28, 13.87it/s]"
     ]
    },
    {
     "name": "stdout",
     "output_type": "stream",
     "text": [
      "Epoch 457 finished, average loss: 0.0000427690\n",
      "Starting testing\n"
     ]
    },
    {
     "name": "stderr",
     "output_type": "stream",
     "text": [
      "\n"
     ]
    },
    {
     "name": "stdout",
     "output_type": "stream",
     "text": [
      "Correct: 9460, total: 10000, accuracy: 0.9459999800, average loss: 0.0018798336\n"
     ]
    },
    {
     "name": "stderr",
     "output_type": "stream",
     "text": [
      "391it [00:28, 13.95it/s]"
     ]
    },
    {
     "name": "stdout",
     "output_type": "stream",
     "text": [
      "Epoch 458 finished, average loss: 0.0000542207\n",
      "Starting testing\n"
     ]
    },
    {
     "name": "stderr",
     "output_type": "stream",
     "text": [
      "\n"
     ]
    },
    {
     "name": "stdout",
     "output_type": "stream",
     "text": [
      "Correct: 9465, total: 10000, accuracy: 0.9465000033, average loss: 0.0018575121\n"
     ]
    },
    {
     "name": "stderr",
     "output_type": "stream",
     "text": [
      "391it [00:27, 14.01it/s]"
     ]
    },
    {
     "name": "stdout",
     "output_type": "stream",
     "text": [
      "Epoch 459 finished, average loss: 0.0000478442\n",
      "Starting testing\n"
     ]
    },
    {
     "name": "stderr",
     "output_type": "stream",
     "text": [
      "\n"
     ]
    },
    {
     "name": "stdout",
     "output_type": "stream",
     "text": [
      "Correct: 9465, total: 10000, accuracy: 0.9465000033, average loss: 0.0019120919\n"
     ]
    },
    {
     "name": "stderr",
     "output_type": "stream",
     "text": [
      "391it [00:28, 13.89it/s]"
     ]
    },
    {
     "name": "stdout",
     "output_type": "stream",
     "text": [
      "Epoch 460 finished, average loss: 0.0000405880\n",
      "Starting testing\n"
     ]
    },
    {
     "name": "stderr",
     "output_type": "stream",
     "text": [
      "\n"
     ]
    },
    {
     "name": "stdout",
     "output_type": "stream",
     "text": [
      "Correct: 9451, total: 10000, accuracy: 0.9450999498, average loss: 0.0019998024\n"
     ]
    },
    {
     "name": "stderr",
     "output_type": "stream",
     "text": [
      "391it [00:28, 13.96it/s]"
     ]
    },
    {
     "name": "stdout",
     "output_type": "stream",
     "text": [
      "Epoch 461 finished, average loss: 0.0000546599\n",
      "Starting testing\n"
     ]
    },
    {
     "name": "stderr",
     "output_type": "stream",
     "text": [
      "\n"
     ]
    },
    {
     "name": "stdout",
     "output_type": "stream",
     "text": [
      "Correct: 9450, total: 10000, accuracy: 0.9449999928, average loss: 0.0018818129\n"
     ]
    },
    {
     "name": "stderr",
     "output_type": "stream",
     "text": [
      "391it [00:28, 13.95it/s]"
     ]
    },
    {
     "name": "stdout",
     "output_type": "stream",
     "text": [
      "Epoch 462 finished, average loss: 0.0000390789\n",
      "Starting testing\n"
     ]
    },
    {
     "name": "stderr",
     "output_type": "stream",
     "text": [
      "\n"
     ]
    },
    {
     "name": "stdout",
     "output_type": "stream",
     "text": [
      "Correct: 9449, total: 10000, accuracy: 0.9448999763, average loss: 0.0019948818\n"
     ]
    },
    {
     "name": "stderr",
     "output_type": "stream",
     "text": [
      "391it [00:28, 13.88it/s]"
     ]
    },
    {
     "name": "stdout",
     "output_type": "stream",
     "text": [
      "Epoch 463 finished, average loss: 0.0000439820\n",
      "Starting testing\n"
     ]
    },
    {
     "name": "stderr",
     "output_type": "stream",
     "text": [
      "\n"
     ]
    },
    {
     "name": "stdout",
     "output_type": "stream",
     "text": [
      "Correct: 9457, total: 10000, accuracy: 0.9456999898, average loss: 0.0018076498\n"
     ]
    },
    {
     "name": "stderr",
     "output_type": "stream",
     "text": [
      "391it [00:28, 13.92it/s]"
     ]
    },
    {
     "name": "stdout",
     "output_type": "stream",
     "text": [
      "Epoch 464 finished, average loss: 0.0000499803\n",
      "Starting testing\n"
     ]
    },
    {
     "name": "stderr",
     "output_type": "stream",
     "text": [
      "\n"
     ]
    },
    {
     "name": "stdout",
     "output_type": "stream",
     "text": [
      "Correct: 9458, total: 10000, accuracy: 0.9457999468, average loss: 0.0018375771\n"
     ]
    },
    {
     "name": "stderr",
     "output_type": "stream",
     "text": [
      "391it [00:28, 13.94it/s]"
     ]
    },
    {
     "name": "stdout",
     "output_type": "stream",
     "text": [
      "Epoch 465 finished, average loss: 0.0000543931\n",
      "Starting testing\n"
     ]
    },
    {
     "name": "stderr",
     "output_type": "stream",
     "text": [
      "\n"
     ]
    },
    {
     "name": "stdout",
     "output_type": "stream",
     "text": [
      "Correct: 9441, total: 10000, accuracy: 0.9440999627, average loss: 0.0019261444\n"
     ]
    },
    {
     "name": "stderr",
     "output_type": "stream",
     "text": [
      "391it [00:28, 13.92it/s]"
     ]
    },
    {
     "name": "stdout",
     "output_type": "stream",
     "text": [
      "Epoch 466 finished, average loss: 0.0000421390\n",
      "Starting testing\n"
     ]
    },
    {
     "name": "stderr",
     "output_type": "stream",
     "text": [
      "\n"
     ]
    },
    {
     "name": "stdout",
     "output_type": "stream",
     "text": [
      "Correct: 9454, total: 10000, accuracy: 0.9453999996, average loss: 0.0018373630\n"
     ]
    },
    {
     "name": "stderr",
     "output_type": "stream",
     "text": [
      "391it [00:28, 13.86it/s]\n"
     ]
    },
    {
     "name": "stdout",
     "output_type": "stream",
     "text": [
      "Epoch 467 finished, average loss: 0.0000432299\n",
      "Starting testing\n",
      "Correct: 9454, total: 10000, accuracy: 0.9453999996, average loss: 0.0018760024\n"
     ]
    },
    {
     "name": "stderr",
     "output_type": "stream",
     "text": [
      "391it [00:28, 13.95it/s]"
     ]
    },
    {
     "name": "stdout",
     "output_type": "stream",
     "text": [
      "Epoch 468 finished, average loss: 0.0000495224\n",
      "Starting testing\n"
     ]
    },
    {
     "name": "stderr",
     "output_type": "stream",
     "text": [
      "\n"
     ]
    },
    {
     "name": "stdout",
     "output_type": "stream",
     "text": [
      "Correct: 9450, total: 10000, accuracy: 0.9449999928, average loss: 0.0018239659\n"
     ]
    },
    {
     "name": "stderr",
     "output_type": "stream",
     "text": [
      "391it [00:28, 13.85it/s]"
     ]
    },
    {
     "name": "stdout",
     "output_type": "stream",
     "text": [
      "Epoch 469 finished, average loss: 0.0000367088\n",
      "Starting testing\n"
     ]
    },
    {
     "name": "stderr",
     "output_type": "stream",
     "text": [
      "\n"
     ]
    },
    {
     "name": "stdout",
     "output_type": "stream",
     "text": [
      "Correct: 9451, total: 10000, accuracy: 0.9450999498, average loss: 0.0018825786\n"
     ]
    },
    {
     "name": "stderr",
     "output_type": "stream",
     "text": [
      "391it [00:27, 13.99it/s]"
     ]
    },
    {
     "name": "stdout",
     "output_type": "stream",
     "text": [
      "Epoch 470 finished, average loss: 0.0000433019\n",
      "Starting testing\n"
     ]
    },
    {
     "name": "stderr",
     "output_type": "stream",
     "text": [
      "\n"
     ]
    },
    {
     "name": "stdout",
     "output_type": "stream",
     "text": [
      "Correct: 9453, total: 10000, accuracy: 0.9452999830, average loss: 0.0018826705\n"
     ]
    },
    {
     "name": "stderr",
     "output_type": "stream",
     "text": [
      "391it [00:28, 13.92it/s]"
     ]
    },
    {
     "name": "stdout",
     "output_type": "stream",
     "text": [
      "Epoch 471 finished, average loss: 0.0000448539\n",
      "Starting testing\n"
     ]
    },
    {
     "name": "stderr",
     "output_type": "stream",
     "text": [
      "\n"
     ]
    },
    {
     "name": "stdout",
     "output_type": "stream",
     "text": [
      "Correct: 9459, total: 10000, accuracy: 0.9458999634, average loss: 0.0018487061\n"
     ]
    },
    {
     "name": "stderr",
     "output_type": "stream",
     "text": [
      "391it [00:28, 13.94it/s]"
     ]
    },
    {
     "name": "stdout",
     "output_type": "stream",
     "text": [
      "Epoch 472 finished, average loss: 0.0000363722\n",
      "Starting testing\n"
     ]
    },
    {
     "name": "stderr",
     "output_type": "stream",
     "text": [
      "\n"
     ]
    },
    {
     "name": "stdout",
     "output_type": "stream",
     "text": [
      "Correct: 9451, total: 10000, accuracy: 0.9450999498, average loss: 0.0018078290\n"
     ]
    },
    {
     "name": "stderr",
     "output_type": "stream",
     "text": [
      "391it [00:28, 13.82it/s]"
     ]
    },
    {
     "name": "stdout",
     "output_type": "stream",
     "text": [
      "Epoch 473 finished, average loss: 0.0000407402\n",
      "Starting testing\n"
     ]
    },
    {
     "name": "stderr",
     "output_type": "stream",
     "text": [
      "\n"
     ]
    },
    {
     "name": "stdout",
     "output_type": "stream",
     "text": [
      "Correct: 9451, total: 10000, accuracy: 0.9450999498, average loss: 0.0018741595\n"
     ]
    },
    {
     "name": "stderr",
     "output_type": "stream",
     "text": [
      "391it [00:27, 13.99it/s]"
     ]
    },
    {
     "name": "stdout",
     "output_type": "stream",
     "text": [
      "Epoch 474 finished, average loss: 0.0000436227\n",
      "Starting testing\n"
     ]
    },
    {
     "name": "stderr",
     "output_type": "stream",
     "text": [
      "\n"
     ]
    },
    {
     "name": "stdout",
     "output_type": "stream",
     "text": [
      "Correct: 9429, total: 10000, accuracy: 0.9429000020, average loss: 0.0018865474\n"
     ]
    },
    {
     "name": "stderr",
     "output_type": "stream",
     "text": [
      "391it [00:28, 13.92it/s]"
     ]
    },
    {
     "name": "stdout",
     "output_type": "stream",
     "text": [
      "Epoch 475 finished, average loss: 0.0000430524\n",
      "Starting testing\n"
     ]
    },
    {
     "name": "stderr",
     "output_type": "stream",
     "text": [
      "\n"
     ]
    },
    {
     "name": "stdout",
     "output_type": "stream",
     "text": [
      "Correct: 9455, total: 10000, accuracy: 0.9454999566, average loss: 0.0019034284\n"
     ]
    },
    {
     "name": "stderr",
     "output_type": "stream",
     "text": [
      "391it [00:28, 13.87it/s]"
     ]
    },
    {
     "name": "stdout",
     "output_type": "stream",
     "text": [
      "Epoch 476 finished, average loss: 0.0000507329\n",
      "Starting testing\n"
     ]
    },
    {
     "name": "stderr",
     "output_type": "stream",
     "text": [
      "\n"
     ]
    },
    {
     "name": "stdout",
     "output_type": "stream",
     "text": [
      "Correct: 9449, total: 10000, accuracy: 0.9448999763, average loss: 0.0018947904\n"
     ]
    },
    {
     "name": "stderr",
     "output_type": "stream",
     "text": [
      "391it [00:28, 13.95it/s]"
     ]
    },
    {
     "name": "stdout",
     "output_type": "stream",
     "text": [
      "Epoch 477 finished, average loss: 0.0000361603\n",
      "Starting testing\n"
     ]
    },
    {
     "name": "stderr",
     "output_type": "stream",
     "text": [
      "\n"
     ]
    },
    {
     "name": "stdout",
     "output_type": "stream",
     "text": [
      "Correct: 9455, total: 10000, accuracy: 0.9454999566, average loss: 0.0018851987\n"
     ]
    },
    {
     "name": "stderr",
     "output_type": "stream",
     "text": [
      "391it [00:27, 14.06it/s]"
     ]
    },
    {
     "name": "stdout",
     "output_type": "stream",
     "text": [
      "Epoch 478 finished, average loss: 0.0000453911\n",
      "Starting testing\n"
     ]
    },
    {
     "name": "stderr",
     "output_type": "stream",
     "text": [
      "\n"
     ]
    },
    {
     "name": "stdout",
     "output_type": "stream",
     "text": [
      "Correct: 9459, total: 10000, accuracy: 0.9458999634, average loss: 0.0019264883\n"
     ]
    },
    {
     "name": "stderr",
     "output_type": "stream",
     "text": [
      "391it [00:28, 13.90it/s]"
     ]
    },
    {
     "name": "stdout",
     "output_type": "stream",
     "text": [
      "Epoch 479 finished, average loss: 0.0000449085\n",
      "Starting testing\n"
     ]
    },
    {
     "name": "stderr",
     "output_type": "stream",
     "text": [
      "\n"
     ]
    },
    {
     "name": "stdout",
     "output_type": "stream",
     "text": [
      "Correct: 9460, total: 10000, accuracy: 0.9459999800, average loss: 0.0018769319\n"
     ]
    },
    {
     "name": "stderr",
     "output_type": "stream",
     "text": [
      "391it [00:28, 13.94it/s]"
     ]
    },
    {
     "name": "stdout",
     "output_type": "stream",
     "text": [
      "Epoch 480 finished, average loss: 0.0000521360\n",
      "Starting testing\n"
     ]
    },
    {
     "name": "stderr",
     "output_type": "stream",
     "text": [
      "\n"
     ]
    },
    {
     "name": "stdout",
     "output_type": "stream",
     "text": [
      "Correct: 9452, total: 10000, accuracy: 0.9451999664, average loss: 0.0019317008\n"
     ]
    },
    {
     "name": "stderr",
     "output_type": "stream",
     "text": [
      "391it [00:28, 13.87it/s]"
     ]
    },
    {
     "name": "stdout",
     "output_type": "stream",
     "text": [
      "Epoch 481 finished, average loss: 0.0000503117\n",
      "Starting testing\n"
     ]
    },
    {
     "name": "stderr",
     "output_type": "stream",
     "text": [
      "\n"
     ]
    },
    {
     "name": "stdout",
     "output_type": "stream",
     "text": [
      "Correct: 9456, total: 10000, accuracy: 0.9455999732, average loss: 0.0018448465\n"
     ]
    },
    {
     "name": "stderr",
     "output_type": "stream",
     "text": [
      "391it [00:28, 13.93it/s]"
     ]
    },
    {
     "name": "stdout",
     "output_type": "stream",
     "text": [
      "Epoch 482 finished, average loss: 0.0000496551\n",
      "Starting testing\n"
     ]
    },
    {
     "name": "stderr",
     "output_type": "stream",
     "text": [
      "\n"
     ]
    },
    {
     "name": "stdout",
     "output_type": "stream",
     "text": [
      "Correct: 9462, total: 10000, accuracy: 0.9461999536, average loss: 0.0019072049\n"
     ]
    },
    {
     "name": "stderr",
     "output_type": "stream",
     "text": [
      "391it [00:28, 13.93it/s]"
     ]
    },
    {
     "name": "stdout",
     "output_type": "stream",
     "text": [
      "Epoch 483 finished, average loss: 0.0000362592\n",
      "Starting testing\n"
     ]
    },
    {
     "name": "stderr",
     "output_type": "stream",
     "text": [
      "\n"
     ]
    },
    {
     "name": "stdout",
     "output_type": "stream",
     "text": [
      "Correct: 9459, total: 10000, accuracy: 0.9458999634, average loss: 0.0018740441\n"
     ]
    },
    {
     "name": "stderr",
     "output_type": "stream",
     "text": [
      "391it [00:28, 13.94it/s]"
     ]
    },
    {
     "name": "stdout",
     "output_type": "stream",
     "text": [
      "Epoch 484 finished, average loss: 0.0000445064\n",
      "Starting testing\n"
     ]
    },
    {
     "name": "stderr",
     "output_type": "stream",
     "text": [
      "\n"
     ]
    },
    {
     "name": "stdout",
     "output_type": "stream",
     "text": [
      "Correct: 9430, total: 10000, accuracy: 0.9429999590, average loss: 0.0019007781\n"
     ]
    },
    {
     "name": "stderr",
     "output_type": "stream",
     "text": [
      "391it [00:28, 13.86it/s]"
     ]
    },
    {
     "name": "stdout",
     "output_type": "stream",
     "text": [
      "Epoch 485 finished, average loss: 0.0000411336\n",
      "Starting testing\n"
     ]
    },
    {
     "name": "stderr",
     "output_type": "stream",
     "text": [
      "\n"
     ]
    },
    {
     "name": "stdout",
     "output_type": "stream",
     "text": [
      "Correct: 9454, total: 10000, accuracy: 0.9453999996, average loss: 0.0018586739\n"
     ]
    },
    {
     "name": "stderr",
     "output_type": "stream",
     "text": [
      "391it [00:28, 13.91it/s]"
     ]
    },
    {
     "name": "stdout",
     "output_type": "stream",
     "text": [
      "Epoch 486 finished, average loss: 0.0000483514\n",
      "Starting testing\n"
     ]
    },
    {
     "name": "stderr",
     "output_type": "stream",
     "text": [
      "\n"
     ]
    },
    {
     "name": "stdout",
     "output_type": "stream",
     "text": [
      "Correct: 9455, total: 10000, accuracy: 0.9454999566, average loss: 0.0019160905\n"
     ]
    },
    {
     "name": "stderr",
     "output_type": "stream",
     "text": [
      "391it [00:27, 13.96it/s]"
     ]
    },
    {
     "name": "stdout",
     "output_type": "stream",
     "text": [
      "Epoch 487 finished, average loss: 0.0000482697\n",
      "Starting testing\n"
     ]
    },
    {
     "name": "stderr",
     "output_type": "stream",
     "text": [
      "\n"
     ]
    },
    {
     "name": "stdout",
     "output_type": "stream",
     "text": [
      "Correct: 9459, total: 10000, accuracy: 0.9458999634, average loss: 0.0018131058\n"
     ]
    },
    {
     "name": "stderr",
     "output_type": "stream",
     "text": [
      "391it [00:28, 13.90it/s]"
     ]
    },
    {
     "name": "stdout",
     "output_type": "stream",
     "text": [
      "Epoch 488 finished, average loss: 0.0000384654\n",
      "Starting testing\n"
     ]
    },
    {
     "name": "stderr",
     "output_type": "stream",
     "text": [
      "\n"
     ]
    },
    {
     "name": "stdout",
     "output_type": "stream",
     "text": [
      "Correct: 9453, total: 10000, accuracy: 0.9452999830, average loss: 0.0019123695\n"
     ]
    },
    {
     "name": "stderr",
     "output_type": "stream",
     "text": [
      "391it [00:28, 13.94it/s]"
     ]
    },
    {
     "name": "stdout",
     "output_type": "stream",
     "text": [
      "Epoch 489 finished, average loss: 0.0000418255\n",
      "Starting testing\n"
     ]
    },
    {
     "name": "stderr",
     "output_type": "stream",
     "text": [
      "\n"
     ]
    },
    {
     "name": "stdout",
     "output_type": "stream",
     "text": [
      "Correct: 9444, total: 10000, accuracy: 0.9443999529, average loss: 0.0019105294\n"
     ]
    },
    {
     "name": "stderr",
     "output_type": "stream",
     "text": [
      "391it [00:28, 13.92it/s]"
     ]
    },
    {
     "name": "stdout",
     "output_type": "stream",
     "text": [
      "Epoch 490 finished, average loss: 0.0000343362\n",
      "Starting testing\n"
     ]
    },
    {
     "name": "stderr",
     "output_type": "stream",
     "text": [
      "\n"
     ]
    },
    {
     "name": "stdout",
     "output_type": "stream",
     "text": [
      "Correct: 9436, total: 10000, accuracy: 0.9435999990, average loss: 0.0018974358\n"
     ]
    },
    {
     "name": "stderr",
     "output_type": "stream",
     "text": [
      "391it [00:28, 13.93it/s]"
     ]
    },
    {
     "name": "stdout",
     "output_type": "stream",
     "text": [
      "Epoch 491 finished, average loss: 0.0000437081\n",
      "Starting testing\n"
     ]
    },
    {
     "name": "stderr",
     "output_type": "stream",
     "text": [
      "\n"
     ]
    },
    {
     "name": "stdout",
     "output_type": "stream",
     "text": [
      "Correct: 9467, total: 10000, accuracy: 0.9466999769, average loss: 0.0018086950\n"
     ]
    },
    {
     "name": "stderr",
     "output_type": "stream",
     "text": [
      "391it [00:28, 13.95it/s]"
     ]
    },
    {
     "name": "stdout",
     "output_type": "stream",
     "text": [
      "Epoch 492 finished, average loss: 0.0000455444\n",
      "Starting testing\n"
     ]
    },
    {
     "name": "stderr",
     "output_type": "stream",
     "text": [
      "\n"
     ]
    },
    {
     "name": "stdout",
     "output_type": "stream",
     "text": [
      "Correct: 9447, total: 10000, accuracy: 0.9447000027, average loss: 0.0018744692\n"
     ]
    },
    {
     "name": "stderr",
     "output_type": "stream",
     "text": [
      "391it [00:28, 13.91it/s]\n"
     ]
    },
    {
     "name": "stdout",
     "output_type": "stream",
     "text": [
      "Epoch 493 finished, average loss: 0.0000377589\n",
      "Starting testing\n",
      "Correct: 9456, total: 10000, accuracy: 0.9455999732, average loss: 0.0020009478\n"
     ]
    },
    {
     "name": "stderr",
     "output_type": "stream",
     "text": [
      "391it [00:27, 13.98it/s]"
     ]
    },
    {
     "name": "stdout",
     "output_type": "stream",
     "text": [
      "Epoch 494 finished, average loss: 0.0000442255\n",
      "Starting testing\n"
     ]
    },
    {
     "name": "stderr",
     "output_type": "stream",
     "text": [
      "\n"
     ]
    },
    {
     "name": "stdout",
     "output_type": "stream",
     "text": [
      "Correct: 9463, total: 10000, accuracy: 0.9462999701, average loss: 0.0018767652\n"
     ]
    },
    {
     "name": "stderr",
     "output_type": "stream",
     "text": [
      "391it [00:27, 13.98it/s]"
     ]
    },
    {
     "name": "stdout",
     "output_type": "stream",
     "text": [
      "Epoch 495 finished, average loss: 0.0000415509\n",
      "Starting testing\n"
     ]
    },
    {
     "name": "stderr",
     "output_type": "stream",
     "text": [
      "\n"
     ]
    },
    {
     "name": "stdout",
     "output_type": "stream",
     "text": [
      "Correct: 9457, total: 10000, accuracy: 0.9456999898, average loss: 0.0019190037\n"
     ]
    },
    {
     "name": "stderr",
     "output_type": "stream",
     "text": [
      "391it [00:28, 13.83it/s]"
     ]
    },
    {
     "name": "stdout",
     "output_type": "stream",
     "text": [
      "Epoch 496 finished, average loss: 0.0000394889\n",
      "Starting testing\n"
     ]
    },
    {
     "name": "stderr",
     "output_type": "stream",
     "text": [
      "\n"
     ]
    },
    {
     "name": "stdout",
     "output_type": "stream",
     "text": [
      "Correct: 9435, total: 10000, accuracy: 0.9434999824, average loss: 0.0019274896\n"
     ]
    },
    {
     "name": "stderr",
     "output_type": "stream",
     "text": [
      "391it [00:28, 13.89it/s]"
     ]
    },
    {
     "name": "stdout",
     "output_type": "stream",
     "text": [
      "Epoch 497 finished, average loss: 0.0000389538\n",
      "Starting testing\n"
     ]
    },
    {
     "name": "stderr",
     "output_type": "stream",
     "text": [
      "\n"
     ]
    },
    {
     "name": "stdout",
     "output_type": "stream",
     "text": [
      "Correct: 9434, total: 10000, accuracy: 0.9433999658, average loss: 0.0019873285\n"
     ]
    },
    {
     "name": "stderr",
     "output_type": "stream",
     "text": [
      "391it [00:28, 13.91it/s]"
     ]
    },
    {
     "name": "stdout",
     "output_type": "stream",
     "text": [
      "Epoch 498 finished, average loss: 0.0000384129\n",
      "Starting testing\n"
     ]
    },
    {
     "name": "stderr",
     "output_type": "stream",
     "text": [
      "\n"
     ]
    },
    {
     "name": "stdout",
     "output_type": "stream",
     "text": [
      "Correct: 9445, total: 10000, accuracy: 0.9444999695, average loss: 0.0019597046\n"
     ]
    },
    {
     "name": "stderr",
     "output_type": "stream",
     "text": [
      "391it [00:28, 13.83it/s]\n"
     ]
    },
    {
     "name": "stdout",
     "output_type": "stream",
     "text": [
      "Epoch 499 finished, average loss: 0.0000407880\n",
      "Starting testing\n",
      "Correct: 9458, total: 10000, accuracy: 0.9457999468, average loss: 0.0020130425\n"
     ]
    },
    {
     "name": "stderr",
     "output_type": "stream",
     "text": [
      "391it [00:28, 13.94it/s]"
     ]
    },
    {
     "name": "stdout",
     "output_type": "stream",
     "text": [
      "Epoch 500 finished, average loss: 0.0000481789\n",
      "Starting testing\n"
     ]
    },
    {
     "name": "stderr",
     "output_type": "stream",
     "text": [
      "\n"
     ]
    },
    {
     "name": "stdout",
     "output_type": "stream",
     "text": [
      "Correct: 9440, total: 10000, accuracy: 0.9440000057, average loss: 0.0019083797\n",
      "CPU times: user 4h 4min 37s, sys: 11min 27s, total: 4h 16min 5s\n",
      "Wall time: 4h 20min 17s\n"
     ]
    }
   ],
   "source": [
    "%%time\n",
    "sgd_para = {\"lr\": 0.1, \"weight_decay\": 0.0001, \"momentum\": 0.9}\n",
    "lr_dict = {250: 0.1, 375: 0.01, 500: 0.001}\n",
    "\n",
    "# Trainer = NN_SGDTrainer(net,sgd_para, trainloader, testloader, {200:1e-3}, model_name + '.txt')\n",
    "Trainer = NN_SGDTrainer(\n",
    "    net,\n",
    "    sgd_para,\n",
    "    trainloader,\n",
    "    testloader,\n",
    "    lr_dict,\n",
    "    model_name + \".txt\",\n",
    ")\n",
    "\n",
    "for i in range(500):  # 100\n",
    "    Trainer.train()"
   ]
  },
  {
   "cell_type": "code",
   "execution_count": 7,
   "metadata": {},
   "outputs": [
    {
     "data": {
      "image/png": "[encoded data removed]",
      "text/plain": [
       "<Figure size 640x480 with 1 Axes>"
      ]
     },
     "metadata": {},
     "output_type": "display_data"
    },
    {
     "data": {
      "image/png": "[encoded data removed]",
      "text/plain": [
       "<Figure size 640x480 with 1 Axes>"
      ]
     },
     "metadata": {},
     "output_type": "display_data"
    }
   ],
   "source": [
    "with open(p) as f:\n",
    "    lines = f.read()\n",
    "\n",
    "data = re.findall(\n",
    "    r\"Epoch (\\d+) finished, average loss: (\\d+\\.\\d+)\\n[\\d\\- :\\.]*\\nStarting testing\\n[\\d\\- :\\.]*\\nCorrect: \\d+, total: \\d+, accuracy: (\\d+\\.\\d+), average loss: (\\d+\\.\\d+)\",\n",
    "    lines,\n",
    "    re.MULTILINE,\n",
    ")\n",
    "# print(len(data))\n",
    "# print(data)\n",
    "epochs = [int(x[0]) for x in data]\n",
    "losses = [float(x[1]) for x in data]\n",
    "accuracies = [float(x[2]) for x in data]\n",
    "test_losses = [float(x[3]) for x in data]\n",
    "\n",
    "results_mresnet164 = dict(epochs=epochs, losses=losses, accuracies=accuracies, test_losses=test_losses)\n",
    "\n",
    "fix, ax = plt.subplots()\n",
    "ax.plot(accuracies)\n",
    "ax.set_ylim(0, 1)\n",
    "plt.title(f\"{model_name} - Test accuracy {accuracies[-1]:.4f}\")\n",
    "plt.ylabel(\"Test Accuracy\")\n",
    "plt.xlabel(\"Epoch\")\n",
    "# ax.yaxis.set_major_locator(MultipleLocator(0.05))\n",
    "cmap = plt.get_cmap(\"Pastel1\")\n",
    "\n",
    "for color, (epoch, value) in zip([\"xkcd:purple\", \"xkcd:red\", \"xkcd:orange\"], lr_dict.items()):\n",
    "    plt.axvline(x=epoch, label=f\"lr: {value}\", linestyle=\":\", linewidth=1, c=color)\n",
    "    \n",
    "plt.legend()\n",
    "plt.show()\n",
    "\n",
    "fix, ax = plt.subplots()\n",
    "train_loss, = ax.plot(epochs, losses, label=\"Train loss\")\n",
    "test_loss, = ax.plot(epochs, test_losses, label=\"Test loss\")\n",
    "plt.title(f\"{model_name} - Loss\")\n",
    "plt.ylabel(\"Avg. loss\")\n",
    "plt.xlabel(\"Epoch\")\n",
    "first_legend = plt.legend(handles=[train_loss, test_loss])\n",
    "\n",
    "ax = plt.gca().add_artist(first_legend)\n",
    "\n",
    "lrhs = []\n",
    "for color, (epoch, value) in zip([\"xkcd:purple\", \"xkcd:red\", \"xkcd:orange\"], lr_dict.items()):\n",
    "    lr_h = plt.axvline(x=epoch, label=f\"lr: {value}\", linestyle=\":\", linewidth=1, c=color)\n",
    "    lrhs.append(lr_h)\n",
    "\n",
    "plt.legend(handles=lrhs)\n",
    "plt.show()"
   ]
  },
  {
   "cell_type": "code",
   "execution_count": 8,
   "metadata": {},
   "outputs": [],
   "source": [
    "with open(f\"{model_name}_ks.txt\", \"w\") as f:\n",
    "    for i, x in enumerate(net.ks, start=1):\n",
    "        f.write(f\"{i},{x.item()}\\n\") "
   ]
  },
  {
   "cell_type": "code",
   "execution_count": null,
   "metadata": {},
   "outputs": [],
   "source": []
  }
 ],
 "metadata": {
  "kernelspec": {
   "display_name": "Python 3 (ipykernel)",
   "language": "python",
   "name": "python3"
  },
  "language_info": {
   "codemirror_mode": {
    "name": "ipython",
    "version": 3
   },
   "file_extension": ".py",
   "mimetype": "text/x-python",
   "name": "python",
   "nbconvert_exporter": "python",
   "pygments_lexer": "ipython3",
   "version": "3.10.12"
  }
 },
 "nbformat": 4,
 "nbformat_minor": 4
}
