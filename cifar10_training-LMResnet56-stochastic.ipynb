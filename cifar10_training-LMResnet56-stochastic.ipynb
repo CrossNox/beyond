{
 "cells": [
  {
   "cell_type": "code",
   "execution_count": 1,
   "metadata": {},
   "outputs": [
    {
     "name": "stderr",
     "output_type": "stream",
     "text": [
      "/home/nox/repos/beyond/venv/lib/python3.10/site-packages/tqdm/auto.py:21: TqdmWarning: IProgress not found. Please update jupyter and ipywidgets. See https://ipywidgets.readthedocs.io/en/stable/user_install.html\n",
      "  from .autonotebook import tqdm as notebook_tqdm\n"
     ]
    },
    {
     "data": {
      "text/plain": [
       "'\\nCode For \\nYiping Lu, Aoxiao Zhong, Quanzheng Li, Bin Dong. \"Beyond Finite Layer Neural Network:Bridging Deep Architects and Numerical Differential Equations\" \\nThirty-fifth International Conference on Machine Learning (ICML), 2018\\n\\n@2prime @Aoxiao Zhong\\n\\nAcknowledgement:\\n@pppppass(Zhihan Li)\\n'"
      ]
     },
     "execution_count": 1,
     "metadata": {},
     "output_type": "execute_result"
    }
   ],
   "source": [
    "import os\n",
    "\n",
    "import torch\n",
    "\n",
    "from MResNet import *\n",
    "from MResNetC import *\n",
    "from train import *\n",
    "\n",
    "import seaborn as sns\n",
    "\n",
    "sns.set()\n",
    "\n",
    "\n",
    "\"\"\"\n",
    "Code For \n",
    "Yiping Lu, Aoxiao Zhong, Quanzheng Li, Bin Dong. \"Beyond Finite Layer Neural Network:Bridging Deep Architects and Numerical Differential Equations\" \n",
    "Thirty-fifth International Conference on Machine Learning (ICML), 2018\n",
    "\n",
    "@2prime @Aoxiao Zhong\n",
    "\n",
    "Acknowledgement:\n",
    "@pppppass(Zhihan Li)\n",
    "\"\"\"\n",
    "# %load_ext autoreload\n",
    "# %autoreload 2\n",
    "# os.environ[\"CUDA_VISIBLE_DEVICES\"] = \"0\""
   ]
  },
  {
   "cell_type": "code",
   "execution_count": 2,
   "metadata": {},
   "outputs": [
    {
     "data": {
      "image/png": "[encoded data removed]",
      "text/plain": [
       "<Figure size 640x480 with 1 Axes>"
      ]
     },
     "metadata": {},
     "output_type": "display_data"
    }
   ],
   "source": [
    "xs = [*range(1,500)]\n",
    "ys = [lr_control({250: 0.1, 375: 0.01, 500: 0.001},x) for x in xs]\n",
    "\n",
    "plt.figure()\n",
    "plt.plot(xs, ys)\n",
    "plt.title(\"Curva de learning rate\")\n",
    "plt.ylabel(\"lr\")\n",
    "plt.xlabel(\"Epoch\")\n",
    "plt.show()"
   ]
  },
  {
   "cell_type": "markdown",
   "metadata": {},
   "source": [
    "# Experiments"
   ]
  },
  {
   "cell_type": "markdown",
   "metadata": {},
   "source": [
    "## LMResNet-56"
   ]
  },
  {
   "cell_type": "code",
   "execution_count": 3,
   "metadata": {},
   "outputs": [
    {
     "name": "stdout",
     "output_type": "stream",
     "text": [
      "Files already downloaded and verified\n",
      "Files already downloaded and verified\n"
     ]
    }
   ],
   "source": [
    "batch_size = 128\n",
    "trainloader, testloader = get_cifar10(batch_size)"
   ]
  },
  {
   "cell_type": "code",
   "execution_count": 4,
   "metadata": {
    "scrolled": true
   },
   "outputs": [],
   "source": [
    "from torchinfo import summary\n",
    "from blocks import BasicBlock, Bottleneck, BasicBlockWithDeathRate\n",
    "from MResNet import MResNet"
   ]
  },
  {
   "cell_type": "code",
   "execution_count": 5,
   "metadata": {
    "scrolled": true
   },
   "outputs": [
    {
     "name": "stdout",
     "output_type": "stream",
     "text": [
      "[0.0, 0.007692307692307691, 0.015384615384615382, 0.023076923076923075, 0.030769230769230764, 0.03846153846153846, 0.04615384615384615, 0.05384615384615383, 0.06153846153846153, 0.0692307692307692, 0.07692307692307691, 0.08461538461538459, 0.0923076923076923, 0.09999999999999998, 0.10769230769230766, 0.11538461538461535, 0.12307692307692306, 0.13076923076923075, 0.1384615384615384, 0.1461538461538461, 0.15384615384615383, 0.16153846153846152, 0.16923076923076918, 0.17692307692307688, 0.1846153846153846, 0.19230769230769226, 0.19999999999999996]\n"
     ]
    },
    {
     "data": {
      "text/plain": [
       "=====================================================================================================================================================================\n",
       "Layer (type:depth-idx)                   Input Shape               Output Shape              Param #                   Kernel Shape              Mult-Adds\n",
       "=====================================================================================================================================================================\n",
       "MResNet                                  [128, 3, 32, 32]          [128, 10]                 1,115                     --                        --\n",
       "├─Conv2d: 1-1                            [128, 3, 32, 32]          [128, 16, 32, 32]         432                       [3, 3]                    56,623,104\n",
       "├─ModuleList: 1-6                        --                        --                        (recursive)               --                        --\n",
       "│    └─BasicBlockWithDeathRate: 2-1      [128, 16, 32, 32]         [128, 16, 32, 32]         --                        --                        --\n",
       "│    │    └─BatchNorm2d: 3-1             [128, 16, 32, 32]         [128, 16, 32, 32]         32                        --                        4,096\n",
       "│    │    └─ReLU: 3-2                    [128, 16, 32, 32]         [128, 16, 32, 32]         --                        --                        --\n",
       "│    │    └─Conv2d: 3-3                  [128, 16, 32, 32]         [128, 16, 32, 32]         2,304                     [3, 3]                    301,989,888\n",
       "│    │    └─BatchNorm2d: 3-4             [128, 16, 32, 32]         [128, 16, 32, 32]         32                        --                        4,096\n",
       "│    │    └─ReLU: 3-5                    [128, 16, 32, 32]         [128, 16, 32, 32]         --                        --                        --\n",
       "│    │    └─Conv2d: 3-6                  [128, 16, 32, 32]         [128, 16, 32, 32]         2,304                     [3, 3]                    301,989,888\n",
       "│    └─BasicBlockWithDeathRate: 2-2      [128, 16, 32, 32]         [128, 16, 32, 32]         --                        --                        --\n",
       "│    │    └─BatchNorm2d: 3-7             [128, 16, 32, 32]         [128, 16, 32, 32]         32                        --                        4,096\n",
       "│    │    └─ReLU: 3-8                    [128, 16, 32, 32]         [128, 16, 32, 32]         --                        --                        --\n",
       "│    │    └─Conv2d: 3-9                  [128, 16, 32, 32]         [128, 16, 32, 32]         2,304                     [3, 3]                    301,989,888\n",
       "│    │    └─BatchNorm2d: 3-10            [128, 16, 32, 32]         [128, 16, 32, 32]         32                        --                        4,096\n",
       "│    │    └─ReLU: 3-11                   [128, 16, 32, 32]         [128, 16, 32, 32]         --                        --                        --\n",
       "│    │    └─Conv2d: 3-12                 [128, 16, 32, 32]         [128, 16, 32, 32]         2,304                     [3, 3]                    301,989,888\n",
       "│    └─BasicBlockWithDeathRate: 2-3      [128, 16, 32, 32]         [128, 16, 32, 32]         --                        --                        --\n",
       "│    │    └─BatchNorm2d: 3-13            [128, 16, 32, 32]         [128, 16, 32, 32]         32                        --                        4,096\n",
       "│    │    └─ReLU: 3-14                   [128, 16, 32, 32]         [128, 16, 32, 32]         --                        --                        --\n",
       "│    │    └─Conv2d: 3-15                 [128, 16, 32, 32]         [128, 16, 32, 32]         2,304                     [3, 3]                    301,989,888\n",
       "│    │    └─BatchNorm2d: 3-16            [128, 16, 32, 32]         [128, 16, 32, 32]         32                        --                        4,096\n",
       "│    │    └─ReLU: 3-17                   [128, 16, 32, 32]         [128, 16, 32, 32]         --                        --                        --\n",
       "│    │    └─Conv2d: 3-18                 [128, 16, 32, 32]         [128, 16, 32, 32]         2,304                     [3, 3]                    301,989,888\n",
       "│    └─BasicBlockWithDeathRate: 2-4      [128, 16, 32, 32]         [128, 16, 32, 32]         --                        --                        --\n",
       "│    │    └─BatchNorm2d: 3-19            [128, 16, 32, 32]         [128, 16, 32, 32]         32                        --                        4,096\n",
       "│    │    └─ReLU: 3-20                   [128, 16, 32, 32]         [128, 16, 32, 32]         --                        --                        --\n",
       "│    │    └─Conv2d: 3-21                 [128, 16, 32, 32]         [128, 16, 32, 32]         2,304                     [3, 3]                    301,989,888\n",
       "│    │    └─BatchNorm2d: 3-22            [128, 16, 32, 32]         [128, 16, 32, 32]         32                        --                        4,096\n",
       "│    │    └─ReLU: 3-23                   [128, 16, 32, 32]         [128, 16, 32, 32]         --                        --                        --\n",
       "│    │    └─Conv2d: 3-24                 [128, 16, 32, 32]         [128, 16, 32, 32]         2,304                     [3, 3]                    301,989,888\n",
       "│    └─BasicBlockWithDeathRate: 2-5      [128, 16, 32, 32]         [128, 16, 32, 32]         --                        --                        --\n",
       "│    │    └─BatchNorm2d: 3-25            [128, 16, 32, 32]         [128, 16, 32, 32]         32                        --                        4,096\n",
       "│    │    └─ReLU: 3-26                   [128, 16, 32, 32]         [128, 16, 32, 32]         --                        --                        --\n",
       "│    │    └─Conv2d: 3-27                 [128, 16, 32, 32]         [128, 16, 32, 32]         2,304                     [3, 3]                    301,989,888\n",
       "│    │    └─BatchNorm2d: 3-28            [128, 16, 32, 32]         [128, 16, 32, 32]         32                        --                        4,096\n",
       "│    │    └─ReLU: 3-29                   [128, 16, 32, 32]         [128, 16, 32, 32]         --                        --                        --\n",
       "│    │    └─Conv2d: 3-30                 [128, 16, 32, 32]         [128, 16, 32, 32]         2,304                     [3, 3]                    301,989,888\n",
       "│    └─BasicBlockWithDeathRate: 2-6      [128, 16, 32, 32]         [128, 16, 32, 32]         --                        --                        --\n",
       "│    │    └─BatchNorm2d: 3-31            [128, 16, 32, 32]         [128, 16, 32, 32]         32                        --                        4,096\n",
       "│    │    └─ReLU: 3-32                   [128, 16, 32, 32]         [128, 16, 32, 32]         --                        --                        --\n",
       "│    │    └─Conv2d: 3-33                 [128, 16, 32, 32]         [128, 16, 32, 32]         2,304                     [3, 3]                    301,989,888\n",
       "│    │    └─BatchNorm2d: 3-34            [128, 16, 32, 32]         [128, 16, 32, 32]         32                        --                        4,096\n",
       "│    │    └─ReLU: 3-35                   [128, 16, 32, 32]         [128, 16, 32, 32]         --                        --                        --\n",
       "│    │    └─Conv2d: 3-36                 [128, 16, 32, 32]         [128, 16, 32, 32]         2,304                     [3, 3]                    301,989,888\n",
       "│    └─BasicBlockWithDeathRate: 2-7      [128, 16, 32, 32]         [128, 16, 32, 32]         --                        --                        --\n",
       "│    │    └─BatchNorm2d: 3-37            [128, 16, 32, 32]         [128, 16, 32, 32]         32                        --                        4,096\n",
       "│    │    └─ReLU: 3-38                   [128, 16, 32, 32]         [128, 16, 32, 32]         --                        --                        --\n",
       "│    │    └─Conv2d: 3-39                 [128, 16, 32, 32]         [128, 16, 32, 32]         2,304                     [3, 3]                    301,989,888\n",
       "│    │    └─BatchNorm2d: 3-40            [128, 16, 32, 32]         [128, 16, 32, 32]         32                        --                        4,096\n",
       "│    │    └─ReLU: 3-41                   [128, 16, 32, 32]         [128, 16, 32, 32]         --                        --                        --\n",
       "│    │    └─Conv2d: 3-42                 [128, 16, 32, 32]         [128, 16, 32, 32]         2,304                     [3, 3]                    301,989,888\n",
       "│    └─BasicBlockWithDeathRate: 2-8      [128, 16, 32, 32]         [128, 16, 32, 32]         --                        --                        --\n",
       "│    │    └─BatchNorm2d: 3-43            [128, 16, 32, 32]         [128, 16, 32, 32]         32                        --                        4,096\n",
       "│    │    └─ReLU: 3-44                   [128, 16, 32, 32]         [128, 16, 32, 32]         --                        --                        --\n",
       "│    │    └─Conv2d: 3-45                 [128, 16, 32, 32]         [128, 16, 32, 32]         2,304                     [3, 3]                    301,989,888\n",
       "│    │    └─BatchNorm2d: 3-46            [128, 16, 32, 32]         [128, 16, 32, 32]         32                        --                        4,096\n",
       "│    │    └─ReLU: 3-47                   [128, 16, 32, 32]         [128, 16, 32, 32]         --                        --                        --\n",
       "│    │    └─Conv2d: 3-48                 [128, 16, 32, 32]         [128, 16, 32, 32]         2,304                     [3, 3]                    301,989,888\n",
       "│    └─BasicBlockWithDeathRate: 2-9      [128, 16, 32, 32]         [128, 16, 32, 32]         --                        --                        --\n",
       "│    │    └─BatchNorm2d: 3-49            [128, 16, 32, 32]         [128, 16, 32, 32]         32                        --                        4,096\n",
       "│    │    └─ReLU: 3-50                   [128, 16, 32, 32]         [128, 16, 32, 32]         --                        --                        --\n",
       "│    │    └─Conv2d: 3-51                 [128, 16, 32, 32]         [128, 16, 32, 32]         2,304                     [3, 3]                    301,989,888\n",
       "│    │    └─BatchNorm2d: 3-52            [128, 16, 32, 32]         [128, 16, 32, 32]         32                        --                        4,096\n",
       "│    │    └─ReLU: 3-53                   [128, 16, 32, 32]         [128, 16, 32, 32]         --                        --                        --\n",
       "│    │    └─Conv2d: 3-54                 [128, 16, 32, 32]         [128, 16, 32, 32]         2,304                     [3, 3]                    301,989,888\n",
       "├─Downsample: 1-3                        [128, 16, 32, 32]         [128, 32, 16, 16]         --                        --                        --\n",
       "│    └─Sequential: 2-10                  [128, 16, 32, 32]         [128, 32, 16, 16]         --                        --                        --\n",
       "│    │    └─BatchNorm2d: 3-55            [128, 16, 32, 32]         [128, 16, 32, 32]         32                        --                        4,096\n",
       "│    │    └─ReLU: 3-56                   [128, 16, 32, 32]         [128, 16, 32, 32]         --                        --                        --\n",
       "│    │    └─Conv2d: 3-57                 [128, 16, 32, 32]         [128, 32, 16, 16]         512                       [1, 1]                    16,777,216\n",
       "├─ModuleList: 1-6                        --                        --                        (recursive)               --                        --\n",
       "│    └─BasicBlockWithDeathRate: 2-11     [128, 16, 32, 32]         [128, 32, 16, 16]         --                        --                        --\n",
       "│    │    └─BatchNorm2d: 3-58            [128, 16, 32, 32]         [128, 16, 32, 32]         32                        --                        4,096\n",
       "│    │    └─ReLU: 3-59                   [128, 16, 32, 32]         [128, 16, 32, 32]         --                        --                        --\n",
       "│    │    └─Conv2d: 3-60                 [128, 16, 32, 32]         [128, 32, 16, 16]         4,608                     [3, 3]                    150,994,944\n",
       "│    │    └─BatchNorm2d: 3-61            [128, 32, 16, 16]         [128, 32, 16, 16]         64                        --                        8,192\n",
       "│    │    └─ReLU: 3-62                   [128, 32, 16, 16]         [128, 32, 16, 16]         --                        --                        --\n",
       "│    │    └─Conv2d: 3-63                 [128, 32, 16, 16]         [128, 32, 16, 16]         9,216                     [3, 3]                    301,989,888\n",
       "│    └─BasicBlockWithDeathRate: 2-12     [128, 32, 16, 16]         [128, 32, 16, 16]         --                        --                        --\n",
       "│    │    └─BatchNorm2d: 3-64            [128, 32, 16, 16]         [128, 32, 16, 16]         64                        --                        8,192\n",
       "│    │    └─ReLU: 3-65                   [128, 32, 16, 16]         [128, 32, 16, 16]         --                        --                        --\n",
       "│    │    └─Conv2d: 3-66                 [128, 32, 16, 16]         [128, 32, 16, 16]         9,216                     [3, 3]                    301,989,888\n",
       "│    │    └─BatchNorm2d: 3-67            [128, 32, 16, 16]         [128, 32, 16, 16]         64                        --                        8,192\n",
       "│    │    └─ReLU: 3-68                   [128, 32, 16, 16]         [128, 32, 16, 16]         --                        --                        --\n",
       "│    │    └─Conv2d: 3-69                 [128, 32, 16, 16]         [128, 32, 16, 16]         9,216                     [3, 3]                    301,989,888\n",
       "│    └─BasicBlockWithDeathRate: 2-13     [128, 32, 16, 16]         [128, 32, 16, 16]         --                        --                        --\n",
       "│    │    └─BatchNorm2d: 3-70            [128, 32, 16, 16]         [128, 32, 16, 16]         64                        --                        8,192\n",
       "│    │    └─ReLU: 3-71                   [128, 32, 16, 16]         [128, 32, 16, 16]         --                        --                        --\n",
       "│    │    └─Conv2d: 3-72                 [128, 32, 16, 16]         [128, 32, 16, 16]         9,216                     [3, 3]                    301,989,888\n",
       "│    │    └─BatchNorm2d: 3-73            [128, 32, 16, 16]         [128, 32, 16, 16]         64                        --                        8,192\n",
       "│    │    └─ReLU: 3-74                   [128, 32, 16, 16]         [128, 32, 16, 16]         --                        --                        --\n",
       "│    │    └─Conv2d: 3-75                 [128, 32, 16, 16]         [128, 32, 16, 16]         9,216                     [3, 3]                    301,989,888\n",
       "│    └─BasicBlockWithDeathRate: 2-14     [128, 32, 16, 16]         [128, 32, 16, 16]         --                        --                        --\n",
       "│    │    └─BatchNorm2d: 3-76            [128, 32, 16, 16]         [128, 32, 16, 16]         64                        --                        8,192\n",
       "│    │    └─ReLU: 3-77                   [128, 32, 16, 16]         [128, 32, 16, 16]         --                        --                        --\n",
       "│    │    └─Conv2d: 3-78                 [128, 32, 16, 16]         [128, 32, 16, 16]         9,216                     [3, 3]                    301,989,888\n",
       "│    │    └─BatchNorm2d: 3-79            [128, 32, 16, 16]         [128, 32, 16, 16]         64                        --                        8,192\n",
       "│    │    └─ReLU: 3-80                   [128, 32, 16, 16]         [128, 32, 16, 16]         --                        --                        --\n",
       "│    │    └─Conv2d: 3-81                 [128, 32, 16, 16]         [128, 32, 16, 16]         9,216                     [3, 3]                    301,989,888\n",
       "│    └─BasicBlockWithDeathRate: 2-15     [128, 32, 16, 16]         [128, 32, 16, 16]         --                        --                        --\n",
       "│    │    └─BatchNorm2d: 3-82            [128, 32, 16, 16]         [128, 32, 16, 16]         64                        --                        8,192\n",
       "│    │    └─ReLU: 3-83                   [128, 32, 16, 16]         [128, 32, 16, 16]         --                        --                        --\n",
       "│    │    └─Conv2d: 3-84                 [128, 32, 16, 16]         [128, 32, 16, 16]         9,216                     [3, 3]                    301,989,888\n",
       "│    │    └─BatchNorm2d: 3-85            [128, 32, 16, 16]         [128, 32, 16, 16]         64                        --                        8,192\n",
       "│    │    └─ReLU: 3-86                   [128, 32, 16, 16]         [128, 32, 16, 16]         --                        --                        --\n",
       "│    │    └─Conv2d: 3-87                 [128, 32, 16, 16]         [128, 32, 16, 16]         9,216                     [3, 3]                    301,989,888\n",
       "│    └─BasicBlockWithDeathRate: 2-16     [128, 32, 16, 16]         [128, 32, 16, 16]         --                        --                        --\n",
       "│    │    └─BatchNorm2d: 3-88            [128, 32, 16, 16]         [128, 32, 16, 16]         64                        --                        8,192\n",
       "│    │    └─ReLU: 3-89                   [128, 32, 16, 16]         [128, 32, 16, 16]         --                        --                        --\n",
       "│    │    └─Conv2d: 3-90                 [128, 32, 16, 16]         [128, 32, 16, 16]         9,216                     [3, 3]                    301,989,888\n",
       "│    │    └─BatchNorm2d: 3-91            [128, 32, 16, 16]         [128, 32, 16, 16]         64                        --                        8,192\n",
       "│    │    └─ReLU: 3-92                   [128, 32, 16, 16]         [128, 32, 16, 16]         --                        --                        --\n",
       "│    │    └─Conv2d: 3-93                 [128, 32, 16, 16]         [128, 32, 16, 16]         9,216                     [3, 3]                    301,989,888\n",
       "│    └─BasicBlockWithDeathRate: 2-17     [128, 32, 16, 16]         [128, 32, 16, 16]         --                        --                        --\n",
       "│    │    └─BatchNorm2d: 3-94            [128, 32, 16, 16]         [128, 32, 16, 16]         64                        --                        8,192\n",
       "│    │    └─ReLU: 3-95                   [128, 32, 16, 16]         [128, 32, 16, 16]         --                        --                        --\n",
       "│    │    └─Conv2d: 3-96                 [128, 32, 16, 16]         [128, 32, 16, 16]         9,216                     [3, 3]                    301,989,888\n",
       "│    │    └─BatchNorm2d: 3-97            [128, 32, 16, 16]         [128, 32, 16, 16]         64                        --                        8,192\n",
       "│    │    └─ReLU: 3-98                   [128, 32, 16, 16]         [128, 32, 16, 16]         --                        --                        --\n",
       "│    │    └─Conv2d: 3-99                 [128, 32, 16, 16]         [128, 32, 16, 16]         9,216                     [3, 3]                    301,989,888\n",
       "│    └─BasicBlockWithDeathRate: 2-18     [128, 32, 16, 16]         [128, 32, 16, 16]         --                        --                        --\n",
       "│    │    └─BatchNorm2d: 3-100           [128, 32, 16, 16]         [128, 32, 16, 16]         64                        --                        8,192\n",
       "│    │    └─ReLU: 3-101                  [128, 32, 16, 16]         [128, 32, 16, 16]         --                        --                        --\n",
       "│    │    └─Conv2d: 3-102                [128, 32, 16, 16]         [128, 32, 16, 16]         9,216                     [3, 3]                    301,989,888\n",
       "│    │    └─BatchNorm2d: 3-103           [128, 32, 16, 16]         [128, 32, 16, 16]         64                        --                        8,192\n",
       "│    │    └─ReLU: 3-104                  [128, 32, 16, 16]         [128, 32, 16, 16]         --                        --                        --\n",
       "│    │    └─Conv2d: 3-105                [128, 32, 16, 16]         [128, 32, 16, 16]         9,216                     [3, 3]                    301,989,888\n",
       "│    └─BasicBlockWithDeathRate: 2-19     [128, 32, 16, 16]         [128, 32, 16, 16]         --                        --                        --\n",
       "│    │    └─BatchNorm2d: 3-106           [128, 32, 16, 16]         [128, 32, 16, 16]         64                        --                        8,192\n",
       "│    │    └─ReLU: 3-107                  [128, 32, 16, 16]         [128, 32, 16, 16]         --                        --                        --\n",
       "│    │    └─Conv2d: 3-108                [128, 32, 16, 16]         [128, 32, 16, 16]         9,216                     [3, 3]                    301,989,888\n",
       "│    │    └─BatchNorm2d: 3-109           [128, 32, 16, 16]         [128, 32, 16, 16]         64                        --                        8,192\n",
       "│    │    └─ReLU: 3-110                  [128, 32, 16, 16]         [128, 32, 16, 16]         --                        --                        --\n",
       "│    │    └─Conv2d: 3-111                [128, 32, 16, 16]         [128, 32, 16, 16]         9,216                     [3, 3]                    301,989,888\n",
       "├─Downsample: 1-5                        [128, 32, 16, 16]         [128, 64, 8, 8]           --                        --                        --\n",
       "│    └─Sequential: 2-20                  [128, 32, 16, 16]         [128, 64, 8, 8]           --                        --                        --\n",
       "│    │    └─BatchNorm2d: 3-112           [128, 32, 16, 16]         [128, 32, 16, 16]         64                        --                        8,192\n",
       "│    │    └─ReLU: 3-113                  [128, 32, 16, 16]         [128, 32, 16, 16]         --                        --                        --\n",
       "│    │    └─Conv2d: 3-114                [128, 32, 16, 16]         [128, 64, 8, 8]           2,048                     [1, 1]                    16,777,216\n",
       "├─ModuleList: 1-6                        --                        --                        (recursive)               --                        --\n",
       "│    └─BasicBlockWithDeathRate: 2-21     [128, 32, 16, 16]         [128, 64, 8, 8]           --                        --                        --\n",
       "│    │    └─BatchNorm2d: 3-115           [128, 32, 16, 16]         [128, 32, 16, 16]         64                        --                        8,192\n",
       "│    │    └─ReLU: 3-116                  [128, 32, 16, 16]         [128, 32, 16, 16]         --                        --                        --\n",
       "│    │    └─Conv2d: 3-117                [128, 32, 16, 16]         [128, 64, 8, 8]           18,432                    [3, 3]                    150,994,944\n",
       "│    │    └─BatchNorm2d: 3-118           [128, 64, 8, 8]           [128, 64, 8, 8]           128                       --                        16,384\n",
       "│    │    └─ReLU: 3-119                  [128, 64, 8, 8]           [128, 64, 8, 8]           --                        --                        --\n",
       "│    │    └─Conv2d: 3-120                [128, 64, 8, 8]           [128, 64, 8, 8]           36,864                    [3, 3]                    301,989,888\n",
       "│    └─BasicBlockWithDeathRate: 2-22     [128, 64, 8, 8]           [128, 64, 8, 8]           --                        --                        --\n",
       "│    │    └─BatchNorm2d: 3-121           [128, 64, 8, 8]           [128, 64, 8, 8]           128                       --                        16,384\n",
       "│    │    └─ReLU: 3-122                  [128, 64, 8, 8]           [128, 64, 8, 8]           --                        --                        --\n",
       "│    │    └─Conv2d: 3-123                [128, 64, 8, 8]           [128, 64, 8, 8]           36,864                    [3, 3]                    301,989,888\n",
       "│    │    └─BatchNorm2d: 3-124           [128, 64, 8, 8]           [128, 64, 8, 8]           128                       --                        16,384\n",
       "│    │    └─ReLU: 3-125                  [128, 64, 8, 8]           [128, 64, 8, 8]           --                        --                        --\n",
       "│    │    └─Conv2d: 3-126                [128, 64, 8, 8]           [128, 64, 8, 8]           36,864                    [3, 3]                    301,989,888\n",
       "│    └─BasicBlockWithDeathRate: 2-23     [128, 64, 8, 8]           [128, 64, 8, 8]           --                        --                        --\n",
       "│    │    └─BatchNorm2d: 3-127           [128, 64, 8, 8]           [128, 64, 8, 8]           128                       --                        16,384\n",
       "│    │    └─ReLU: 3-128                  [128, 64, 8, 8]           [128, 64, 8, 8]           --                        --                        --\n",
       "│    │    └─Conv2d: 3-129                [128, 64, 8, 8]           [128, 64, 8, 8]           36,864                    [3, 3]                    301,989,888\n",
       "│    │    └─BatchNorm2d: 3-130           [128, 64, 8, 8]           [128, 64, 8, 8]           128                       --                        16,384\n",
       "│    │    └─ReLU: 3-131                  [128, 64, 8, 8]           [128, 64, 8, 8]           --                        --                        --\n",
       "│    │    └─Conv2d: 3-132                [128, 64, 8, 8]           [128, 64, 8, 8]           36,864                    [3, 3]                    301,989,888\n",
       "│    └─BasicBlockWithDeathRate: 2-24     [128, 64, 8, 8]           [128, 64, 8, 8]           --                        --                        --\n",
       "│    │    └─BatchNorm2d: 3-133           [128, 64, 8, 8]           [128, 64, 8, 8]           128                       --                        16,384\n",
       "│    │    └─ReLU: 3-134                  [128, 64, 8, 8]           [128, 64, 8, 8]           --                        --                        --\n",
       "│    │    └─Conv2d: 3-135                [128, 64, 8, 8]           [128, 64, 8, 8]           36,864                    [3, 3]                    301,989,888\n",
       "│    │    └─BatchNorm2d: 3-136           [128, 64, 8, 8]           [128, 64, 8, 8]           128                       --                        16,384\n",
       "│    │    └─ReLU: 3-137                  [128, 64, 8, 8]           [128, 64, 8, 8]           --                        --                        --\n",
       "│    │    └─Conv2d: 3-138                [128, 64, 8, 8]           [128, 64, 8, 8]           36,864                    [3, 3]                    301,989,888\n",
       "│    └─BasicBlockWithDeathRate: 2-25     [128, 64, 8, 8]           [128, 64, 8, 8]           --                        --                        --\n",
       "│    │    └─BatchNorm2d: 3-139           [128, 64, 8, 8]           [128, 64, 8, 8]           128                       --                        16,384\n",
       "│    │    └─ReLU: 3-140                  [128, 64, 8, 8]           [128, 64, 8, 8]           --                        --                        --\n",
       "│    │    └─Conv2d: 3-141                [128, 64, 8, 8]           [128, 64, 8, 8]           36,864                    [3, 3]                    301,989,888\n",
       "│    │    └─BatchNorm2d: 3-142           [128, 64, 8, 8]           [128, 64, 8, 8]           128                       --                        16,384\n",
       "│    │    └─ReLU: 3-143                  [128, 64, 8, 8]           [128, 64, 8, 8]           --                        --                        --\n",
       "│    │    └─Conv2d: 3-144                [128, 64, 8, 8]           [128, 64, 8, 8]           36,864                    [3, 3]                    301,989,888\n",
       "│    └─BasicBlockWithDeathRate: 2-26     [128, 64, 8, 8]           [128, 64, 8, 8]           --                        --                        --\n",
       "│    │    └─BatchNorm2d: 3-145           [128, 64, 8, 8]           [128, 64, 8, 8]           128                       --                        16,384\n",
       "│    │    └─ReLU: 3-146                  [128, 64, 8, 8]           [128, 64, 8, 8]           --                        --                        --\n",
       "│    │    └─Conv2d: 3-147                [128, 64, 8, 8]           [128, 64, 8, 8]           36,864                    [3, 3]                    301,989,888\n",
       "│    │    └─BatchNorm2d: 3-148           [128, 64, 8, 8]           [128, 64, 8, 8]           128                       --                        16,384\n",
       "│    │    └─ReLU: 3-149                  [128, 64, 8, 8]           [128, 64, 8, 8]           --                        --                        --\n",
       "│    │    └─Conv2d: 3-150                [128, 64, 8, 8]           [128, 64, 8, 8]           36,864                    [3, 3]                    301,989,888\n",
       "│    └─BasicBlockWithDeathRate: 2-27     [128, 64, 8, 8]           [128, 64, 8, 8]           --                        --                        --\n",
       "│    │    └─BatchNorm2d: 3-151           [128, 64, 8, 8]           [128, 64, 8, 8]           128                       --                        16,384\n",
       "│    │    └─ReLU: 3-152                  [128, 64, 8, 8]           [128, 64, 8, 8]           --                        --                        --\n",
       "│    │    └─Conv2d: 3-153                [128, 64, 8, 8]           [128, 64, 8, 8]           36,864                    [3, 3]                    301,989,888\n",
       "│    │    └─BatchNorm2d: 3-154           [128, 64, 8, 8]           [128, 64, 8, 8]           128                       --                        16,384\n",
       "│    │    └─ReLU: 3-155                  [128, 64, 8, 8]           [128, 64, 8, 8]           --                        --                        --\n",
       "│    │    └─Conv2d: 3-156                [128, 64, 8, 8]           [128, 64, 8, 8]           36,864                    [3, 3]                    301,989,888\n",
       "│    └─BasicBlockWithDeathRate: 2-28     [128, 64, 8, 8]           [128, 64, 8, 8]           --                        --                        --\n",
       "│    │    └─BatchNorm2d: 3-157           [128, 64, 8, 8]           [128, 64, 8, 8]           128                       --                        16,384\n",
       "│    │    └─ReLU: 3-158                  [128, 64, 8, 8]           [128, 64, 8, 8]           --                        --                        --\n",
       "│    │    └─Conv2d: 3-159                [128, 64, 8, 8]           [128, 64, 8, 8]           36,864                    [3, 3]                    301,989,888\n",
       "│    │    └─BatchNorm2d: 3-160           [128, 64, 8, 8]           [128, 64, 8, 8]           128                       --                        16,384\n",
       "│    │    └─ReLU: 3-161                  [128, 64, 8, 8]           [128, 64, 8, 8]           --                        --                        --\n",
       "│    │    └─Conv2d: 3-162                [128, 64, 8, 8]           [128, 64, 8, 8]           36,864                    [3, 3]                    301,989,888\n",
       "│    └─BasicBlockWithDeathRate: 2-29     [128, 64, 8, 8]           [128, 64, 8, 8]           --                        --                        --\n",
       "│    │    └─BatchNorm2d: 3-163           [128, 64, 8, 8]           [128, 64, 8, 8]           128                       --                        16,384\n",
       "│    │    └─ReLU: 3-164                  [128, 64, 8, 8]           [128, 64, 8, 8]           --                        --                        --\n",
       "│    │    └─Conv2d: 3-165                [128, 64, 8, 8]           [128, 64, 8, 8]           36,864                    [3, 3]                    301,989,888\n",
       "│    │    └─BatchNorm2d: 3-166           [128, 64, 8, 8]           [128, 64, 8, 8]           128                       --                        16,384\n",
       "│    │    └─ReLU: 3-167                  [128, 64, 8, 8]           [128, 64, 8, 8]           --                        --                        --\n",
       "│    │    └─Conv2d: 3-168                [128, 64, 8, 8]           [128, 64, 8, 8]           36,864                    [3, 3]                    301,989,888\n",
       "├─BatchNorm2d: 1-7                       [128, 64, 8, 8]           [128, 64, 8, 8]           128                       --                        16,384\n",
       "├─ReLU: 1-8                              [128, 64, 8, 8]           [128, 64, 8, 8]           --                        --                        --\n",
       "├─AvgPool2d: 1-9                         [128, 64, 8, 8]           [128, 64, 1, 1]           --                        8                         --\n",
       "├─Linear: 1-10                           [128, 64]                 [128, 10]                 650                       --                        83,200\n",
       "=====================================================================================================================================================================\n",
       "Total params: 856,789\n",
       "Trainable params: 856,789\n",
       "Non-trainable params: 0\n",
       "Total mult-adds (G): 16.10\n",
       "=====================================================================================================================================================================\n",
       "Input size (MB): 1.57\n",
       "Forward/backward pass size (MB): 1128.28\n",
       "Params size (MB): 3.42\n",
       "Estimated Total Size (MB): 1133.27\n",
       "====================================================================================================================================================================="
      ]
     },
     "execution_count": 5,
     "metadata": {},
     "output_type": "execute_result"
    }
   ],
   "source": [
    "net = MResNet(BasicBlockWithDeathRate, [9,9,9], num_classes=10, stochastic_depth=True, PL=0.8)\n",
    "net.cuda()\n",
    "model_name = \"MResNet56-SD\"\n",
    "\n",
    "from pathlib import Path\n",
    "\n",
    "p = Path(f\"{model_name}.txt\")\n",
    "if p.exists():\n",
    "    p.unlink()\n",
    "\n",
    "summary(\n",
    "    net,\n",
    "    input_size=(batch_size, 3, 32, 32),\n",
    "    depth=5,\n",
    "    col_names=[\n",
    "        \"input_size\",\n",
    "        \"output_size\",\n",
    "        \"num_params\",\n",
    "        \"kernel_size\",\n",
    "        \"mult_adds\",\n",
    "    ],\n",
    ")"
   ]
  },
  {
   "cell_type": "code",
   "execution_count": 6,
   "metadata": {},
   "outputs": [
    {
     "name": "stderr",
     "output_type": "stream",
     "text": [
      "391it [00:23, 16.34it/s]"
     ]
    },
    {
     "name": "stdout",
     "output_type": "stream",
     "text": [
      "Epoch 1 finished, average loss: 0.0126473719\n",
      "Starting testing\n"
     ]
    },
    {
     "name": "stderr",
     "output_type": "stream",
     "text": [
      "\n"
     ]
    },
    {
     "name": "stdout",
     "output_type": "stream",
     "text": [
      "Correct: 5280, total: 10000, accuracy: 0.5279999971, average loss: 0.0101750449\n"
     ]
    },
    {
     "name": "stderr",
     "output_type": "stream",
     "text": [
      "391it [00:23, 16.36it/s]"
     ]
    },
    {
     "name": "stdout",
     "output_type": "stream",
     "text": [
      "Epoch 2 finished, average loss: 0.0088979615\n",
      "Starting testing\n"
     ]
    },
    {
     "name": "stderr",
     "output_type": "stream",
     "text": [
      "\n"
     ]
    },
    {
     "name": "stdout",
     "output_type": "stream",
     "text": [
      "Correct: 5671, total: 10000, accuracy: 0.5670999885, average loss: 0.0099735667\n"
     ]
    },
    {
     "name": "stderr",
     "output_type": "stream",
     "text": [
      "391it [00:23, 16.68it/s]"
     ]
    },
    {
     "name": "stdout",
     "output_type": "stream",
     "text": [
      "Epoch 3 finished, average loss: 0.0074370549\n",
      "Starting testing\n"
     ]
    },
    {
     "name": "stderr",
     "output_type": "stream",
     "text": [
      "\n"
     ]
    },
    {
     "name": "stdout",
     "output_type": "stream",
     "text": [
      "Correct: 5938, total: 10000, accuracy: 0.5938000083, average loss: 0.0095845920\n"
     ]
    },
    {
     "name": "stderr",
     "output_type": "stream",
     "text": [
      "391it [00:23, 16.45it/s]"
     ]
    },
    {
     "name": "stdout",
     "output_type": "stream",
     "text": [
      "Epoch 4 finished, average loss: 0.0064194742\n",
      "Starting testing\n"
     ]
    },
    {
     "name": "stderr",
     "output_type": "stream",
     "text": [
      "\n"
     ]
    },
    {
     "name": "stdout",
     "output_type": "stream",
     "text": [
      "Correct: 7052, total: 10000, accuracy: 0.7051999569, average loss: 0.0065425979\n"
     ]
    },
    {
     "name": "stderr",
     "output_type": "stream",
     "text": [
      "391it [00:23, 16.61it/s]"
     ]
    },
    {
     "name": "stdout",
     "output_type": "stream",
     "text": [
      "Epoch 5 finished, average loss: 0.0057775646\n",
      "Starting testing\n"
     ]
    },
    {
     "name": "stderr",
     "output_type": "stream",
     "text": [
      "\n"
     ]
    },
    {
     "name": "stdout",
     "output_type": "stream",
     "text": [
      "Correct: 7130, total: 10000, accuracy: 0.7129999995, average loss: 0.0063458877\n"
     ]
    },
    {
     "name": "stderr",
     "output_type": "stream",
     "text": [
      "391it [00:23, 16.65it/s]"
     ]
    },
    {
     "name": "stdout",
     "output_type": "stream",
     "text": [
      "Epoch 6 finished, average loss: 0.0052766830\n",
      "Starting testing\n"
     ]
    },
    {
     "name": "stderr",
     "output_type": "stream",
     "text": [
      "\n"
     ]
    },
    {
     "name": "stdout",
     "output_type": "stream",
     "text": [
      "Correct: 7339, total: 10000, accuracy: 0.7339000106, average loss: 0.0064432575\n"
     ]
    },
    {
     "name": "stderr",
     "output_type": "stream",
     "text": [
      "391it [00:23, 16.55it/s]"
     ]
    },
    {
     "name": "stdout",
     "output_type": "stream",
     "text": [
      "Epoch 7 finished, average loss: 0.0048428385\n",
      "Starting testing\n"
     ]
    },
    {
     "name": "stderr",
     "output_type": "stream",
     "text": [
      "\n"
     ]
    },
    {
     "name": "stdout",
     "output_type": "stream",
     "text": [
      "Correct: 7602, total: 10000, accuracy: 0.7601999640, average loss: 0.0056792686\n"
     ]
    },
    {
     "name": "stderr",
     "output_type": "stream",
     "text": [
      "391it [00:23, 16.60it/s]"
     ]
    },
    {
     "name": "stdout",
     "output_type": "stream",
     "text": [
      "Epoch 8 finished, average loss: 0.0045478220\n",
      "Starting testing\n"
     ]
    },
    {
     "name": "stderr",
     "output_type": "stream",
     "text": [
      "\n"
     ]
    },
    {
     "name": "stdout",
     "output_type": "stream",
     "text": [
      "Correct: 7989, total: 10000, accuracy: 0.7989000082, average loss: 0.0046448905\n"
     ]
    },
    {
     "name": "stderr",
     "output_type": "stream",
     "text": [
      "391it [00:23, 16.53it/s]"
     ]
    },
    {
     "name": "stdout",
     "output_type": "stream",
     "text": [
      "Epoch 9 finished, average loss: 0.0042860807\n",
      "Starting testing\n"
     ]
    },
    {
     "name": "stderr",
     "output_type": "stream",
     "text": [
      "\n"
     ]
    },
    {
     "name": "stdout",
     "output_type": "stream",
     "text": [
      "Correct: 7943, total: 10000, accuracy: 0.7942999601, average loss: 0.0048650380\n"
     ]
    },
    {
     "name": "stderr",
     "output_type": "stream",
     "text": [
      "391it [00:23, 16.63it/s]"
     ]
    },
    {
     "name": "stdout",
     "output_type": "stream",
     "text": [
      "Epoch 10 finished, average loss: 0.0040804775\n",
      "Starting testing\n"
     ]
    },
    {
     "name": "stderr",
     "output_type": "stream",
     "text": [
      "\n"
     ]
    },
    {
     "name": "stdout",
     "output_type": "stream",
     "text": [
      "Correct: 8091, total: 10000, accuracy: 0.8090999722, average loss: 0.0045230752\n"
     ]
    },
    {
     "name": "stderr",
     "output_type": "stream",
     "text": [
      "391it [00:23, 16.49it/s]"
     ]
    },
    {
     "name": "stdout",
     "output_type": "stream",
     "text": [
      "Epoch 11 finished, average loss: 0.0038754636\n",
      "Starting testing\n"
     ]
    },
    {
     "name": "stderr",
     "output_type": "stream",
     "text": [
      "\n"
     ]
    },
    {
     "name": "stdout",
     "output_type": "stream",
     "text": [
      "Correct: 8181, total: 10000, accuracy: 0.8180999756, average loss: 0.0041934123\n"
     ]
    },
    {
     "name": "stderr",
     "output_type": "stream",
     "text": [
      "391it [00:23, 16.61it/s]"
     ]
    },
    {
     "name": "stdout",
     "output_type": "stream",
     "text": [
      "Epoch 12 finished, average loss: 0.0037700047\n",
      "Starting testing\n"
     ]
    },
    {
     "name": "stderr",
     "output_type": "stream",
     "text": [
      "\n"
     ]
    },
    {
     "name": "stdout",
     "output_type": "stream",
     "text": [
      "Correct: 8312, total: 10000, accuracy: 0.8312000036, average loss: 0.0039070632\n"
     ]
    },
    {
     "name": "stderr",
     "output_type": "stream",
     "text": [
      "391it [00:23, 16.54it/s]"
     ]
    },
    {
     "name": "stdout",
     "output_type": "stream",
     "text": [
      "Epoch 13 finished, average loss: 0.0035533640\n",
      "Starting testing\n"
     ]
    },
    {
     "name": "stderr",
     "output_type": "stream",
     "text": [
      "\n"
     ]
    },
    {
     "name": "stdout",
     "output_type": "stream",
     "text": [
      "Correct: 8353, total: 10000, accuracy: 0.8352999687, average loss: 0.0038086456\n"
     ]
    },
    {
     "name": "stderr",
     "output_type": "stream",
     "text": [
      "391it [00:23, 16.62it/s]"
     ]
    },
    {
     "name": "stdout",
     "output_type": "stream",
     "text": [
      "Epoch 14 finished, average loss: 0.0034929885\n",
      "Starting testing\n"
     ]
    },
    {
     "name": "stderr",
     "output_type": "stream",
     "text": [
      "\n"
     ]
    },
    {
     "name": "stdout",
     "output_type": "stream",
     "text": [
      "Correct: 8348, total: 10000, accuracy: 0.8348000050, average loss: 0.0039478173\n"
     ]
    },
    {
     "name": "stderr",
     "output_type": "stream",
     "text": [
      "391it [00:23, 16.48it/s]"
     ]
    },
    {
     "name": "stdout",
     "output_type": "stream",
     "text": [
      "Epoch 15 finished, average loss: 0.0033250038\n",
      "Starting testing\n"
     ]
    },
    {
     "name": "stderr",
     "output_type": "stream",
     "text": [
      "\n"
     ]
    },
    {
     "name": "stdout",
     "output_type": "stream",
     "text": [
      "Correct: 8427, total: 10000, accuracy: 0.8427000046, average loss: 0.0037279229\n"
     ]
    },
    {
     "name": "stderr",
     "output_type": "stream",
     "text": [
      "391it [00:23, 16.61it/s]"
     ]
    },
    {
     "name": "stdout",
     "output_type": "stream",
     "text": [
      "Epoch 16 finished, average loss: 0.0032508135\n",
      "Starting testing\n"
     ]
    },
    {
     "name": "stderr",
     "output_type": "stream",
     "text": [
      "\n"
     ]
    },
    {
     "name": "stdout",
     "output_type": "stream",
     "text": [
      "Correct: 8400, total: 10000, accuracy: 0.8399999738, average loss: 0.0036773020\n"
     ]
    },
    {
     "name": "stderr",
     "output_type": "stream",
     "text": [
      "391it [00:23, 16.69it/s]"
     ]
    },
    {
     "name": "stdout",
     "output_type": "stream",
     "text": [
      "Epoch 17 finished, average loss: 0.0031610381\n",
      "Starting testing\n"
     ]
    },
    {
     "name": "stderr",
     "output_type": "stream",
     "text": [
      "\n"
     ]
    },
    {
     "name": "stdout",
     "output_type": "stream",
     "text": [
      "Correct: 8351, total: 10000, accuracy: 0.8350999951, average loss: 0.0039232088\n"
     ]
    },
    {
     "name": "stderr",
     "output_type": "stream",
     "text": [
      "391it [00:23, 16.55it/s]"
     ]
    },
    {
     "name": "stdout",
     "output_type": "stream",
     "text": [
      "Epoch 18 finished, average loss: 0.0030975468\n",
      "Starting testing\n"
     ]
    },
    {
     "name": "stderr",
     "output_type": "stream",
     "text": [
      "\n"
     ]
    },
    {
     "name": "stdout",
     "output_type": "stream",
     "text": [
      "Correct: 8383, total: 10000, accuracy: 0.8382999897, average loss: 0.0037453719\n"
     ]
    },
    {
     "name": "stderr",
     "output_type": "stream",
     "text": [
      "391it [00:23, 16.52it/s]"
     ]
    },
    {
     "name": "stdout",
     "output_type": "stream",
     "text": [
      "Epoch 19 finished, average loss: 0.0030009195\n",
      "Starting testing\n"
     ]
    },
    {
     "name": "stderr",
     "output_type": "stream",
     "text": [
      "\n"
     ]
    },
    {
     "name": "stdout",
     "output_type": "stream",
     "text": [
      "Correct: 8470, total: 10000, accuracy: 0.8470000029, average loss: 0.0037283657\n"
     ]
    },
    {
     "name": "stderr",
     "output_type": "stream",
     "text": [
      "391it [00:23, 16.55it/s]"
     ]
    },
    {
     "name": "stdout",
     "output_type": "stream",
     "text": [
      "Epoch 20 finished, average loss: 0.0029538222\n",
      "Starting testing\n"
     ]
    },
    {
     "name": "stderr",
     "output_type": "stream",
     "text": [
      "\n"
     ]
    },
    {
     "name": "stdout",
     "output_type": "stream",
     "text": [
      "Correct: 8557, total: 10000, accuracy: 0.8556999564, average loss: 0.0033907784\n"
     ]
    },
    {
     "name": "stderr",
     "output_type": "stream",
     "text": [
      "391it [00:23, 16.59it/s]"
     ]
    },
    {
     "name": "stdout",
     "output_type": "stream",
     "text": [
      "Epoch 21 finished, average loss: 0.0029368101\n",
      "Starting testing\n"
     ]
    },
    {
     "name": "stderr",
     "output_type": "stream",
     "text": [
      "\n"
     ]
    },
    {
     "name": "stdout",
     "output_type": "stream",
     "text": [
      "Correct: 8351, total: 10000, accuracy: 0.8350999951, average loss: 0.0037872392\n"
     ]
    },
    {
     "name": "stderr",
     "output_type": "stream",
     "text": [
      "391it [00:23, 16.54it/s]"
     ]
    },
    {
     "name": "stdout",
     "output_type": "stream",
     "text": [
      "Epoch 22 finished, average loss: 0.0028269282\n",
      "Starting testing\n"
     ]
    },
    {
     "name": "stderr",
     "output_type": "stream",
     "text": [
      "\n"
     ]
    },
    {
     "name": "stdout",
     "output_type": "stream",
     "text": [
      "Correct: 8575, total: 10000, accuracy: 0.8574999571, average loss: 0.0033304557\n"
     ]
    },
    {
     "name": "stderr",
     "output_type": "stream",
     "text": [
      "391it [00:23, 16.57it/s]"
     ]
    },
    {
     "name": "stdout",
     "output_type": "stream",
     "text": [
      "Epoch 23 finished, average loss: 0.0027449896\n",
      "Starting testing\n"
     ]
    },
    {
     "name": "stderr",
     "output_type": "stream",
     "text": [
      "\n"
     ]
    },
    {
     "name": "stdout",
     "output_type": "stream",
     "text": [
      "Correct: 8225, total: 10000, accuracy: 0.8224999905, average loss: 0.0044265093\n"
     ]
    },
    {
     "name": "stderr",
     "output_type": "stream",
     "text": [
      "391it [00:23, 16.59it/s]"
     ]
    },
    {
     "name": "stdout",
     "output_type": "stream",
     "text": [
      "Epoch 24 finished, average loss: 0.0026993710\n",
      "Starting testing\n"
     ]
    },
    {
     "name": "stderr",
     "output_type": "stream",
     "text": [
      "\n"
     ]
    },
    {
     "name": "stdout",
     "output_type": "stream",
     "text": [
      "Correct: 8466, total: 10000, accuracy: 0.8465999961, average loss: 0.0036702176\n"
     ]
    },
    {
     "name": "stderr",
     "output_type": "stream",
     "text": [
      "391it [00:23, 16.54it/s]"
     ]
    },
    {
     "name": "stdout",
     "output_type": "stream",
     "text": [
      "Epoch 25 finished, average loss: 0.0025975567\n",
      "Starting testing\n"
     ]
    },
    {
     "name": "stderr",
     "output_type": "stream",
     "text": [
      "\n"
     ]
    },
    {
     "name": "stdout",
     "output_type": "stream",
     "text": [
      "Correct: 8617, total: 10000, accuracy: 0.8616999984, average loss: 0.0032482178\n"
     ]
    },
    {
     "name": "stderr",
     "output_type": "stream",
     "text": [
      "391it [00:23, 16.60it/s]"
     ]
    },
    {
     "name": "stdout",
     "output_type": "stream",
     "text": [
      "Epoch 26 finished, average loss: 0.0025935693\n",
      "Starting testing\n"
     ]
    },
    {
     "name": "stderr",
     "output_type": "stream",
     "text": [
      "\n"
     ]
    },
    {
     "name": "stdout",
     "output_type": "stream",
     "text": [
      "Correct: 8625, total: 10000, accuracy: 0.8624999523, average loss: 0.0032699486\n"
     ]
    },
    {
     "name": "stderr",
     "output_type": "stream",
     "text": [
      "391it [00:23, 16.66it/s]"
     ]
    },
    {
     "name": "stdout",
     "output_type": "stream",
     "text": [
      "Epoch 27 finished, average loss: 0.0025755389\n",
      "Starting testing\n"
     ]
    },
    {
     "name": "stderr",
     "output_type": "stream",
     "text": [
      "\n"
     ]
    },
    {
     "name": "stdout",
     "output_type": "stream",
     "text": [
      "Correct: 8668, total: 10000, accuracy: 0.8667999506, average loss: 0.0030753602\n"
     ]
    },
    {
     "name": "stderr",
     "output_type": "stream",
     "text": [
      "391it [00:23, 16.53it/s]"
     ]
    },
    {
     "name": "stdout",
     "output_type": "stream",
     "text": [
      "Epoch 28 finished, average loss: 0.0025530699\n",
      "Starting testing\n"
     ]
    },
    {
     "name": "stderr",
     "output_type": "stream",
     "text": [
      "\n"
     ]
    },
    {
     "name": "stdout",
     "output_type": "stream",
     "text": [
      "Correct: 8476, total: 10000, accuracy: 0.8475999832, average loss: 0.0036385389\n"
     ]
    },
    {
     "name": "stderr",
     "output_type": "stream",
     "text": [
      "391it [00:23, 16.71it/s]"
     ]
    },
    {
     "name": "stdout",
     "output_type": "stream",
     "text": [
      "Epoch 29 finished, average loss: 0.0024607697\n",
      "Starting testing\n"
     ]
    },
    {
     "name": "stderr",
     "output_type": "stream",
     "text": [
      "\n"
     ]
    },
    {
     "name": "stdout",
     "output_type": "stream",
     "text": [
      "Correct: 8576, total: 10000, accuracy: 0.8575999737, average loss: 0.0035418044\n"
     ]
    },
    {
     "name": "stderr",
     "output_type": "stream",
     "text": [
      "391it [00:23, 16.66it/s]"
     ]
    },
    {
     "name": "stdout",
     "output_type": "stream",
     "text": [
      "Epoch 30 finished, average loss: 0.0024647350\n",
      "Starting testing\n"
     ]
    },
    {
     "name": "stderr",
     "output_type": "stream",
     "text": [
      "\n"
     ]
    },
    {
     "name": "stdout",
     "output_type": "stream",
     "text": [
      "Correct: 8576, total: 10000, accuracy: 0.8575999737, average loss: 0.0034342518\n"
     ]
    },
    {
     "name": "stderr",
     "output_type": "stream",
     "text": [
      "391it [00:23, 16.72it/s]"
     ]
    },
    {
     "name": "stdout",
     "output_type": "stream",
     "text": [
      "Epoch 31 finished, average loss: 0.0024366978\n",
      "Starting testing\n"
     ]
    },
    {
     "name": "stderr",
     "output_type": "stream",
     "text": [
      "\n"
     ]
    },
    {
     "name": "stdout",
     "output_type": "stream",
     "text": [
      "Correct: 8708, total: 10000, accuracy: 0.8707999587, average loss: 0.0030659269\n"
     ]
    },
    {
     "name": "stderr",
     "output_type": "stream",
     "text": [
      "391it [00:23, 16.66it/s]"
     ]
    },
    {
     "name": "stdout",
     "output_type": "stream",
     "text": [
      "Epoch 32 finished, average loss: 0.0023696902\n",
      "Starting testing\n"
     ]
    },
    {
     "name": "stderr",
     "output_type": "stream",
     "text": [
      "\n"
     ]
    },
    {
     "name": "stdout",
     "output_type": "stream",
     "text": [
      "Correct: 8716, total: 10000, accuracy: 0.8715999722, average loss: 0.0030823919\n"
     ]
    },
    {
     "name": "stderr",
     "output_type": "stream",
     "text": [
      "391it [00:23, 16.69it/s]"
     ]
    },
    {
     "name": "stdout",
     "output_type": "stream",
     "text": [
      "Epoch 33 finished, average loss: 0.0023665762\n",
      "Starting testing\n"
     ]
    },
    {
     "name": "stderr",
     "output_type": "stream",
     "text": [
      "\n"
     ]
    },
    {
     "name": "stdout",
     "output_type": "stream",
     "text": [
      "Correct: 8818, total: 10000, accuracy: 0.8817999959, average loss: 0.0028161523\n"
     ]
    },
    {
     "name": "stderr",
     "output_type": "stream",
     "text": [
      "391it [00:23, 16.70it/s]"
     ]
    },
    {
     "name": "stdout",
     "output_type": "stream",
     "text": [
      "Epoch 34 finished, average loss: 0.0023454505\n",
      "Starting testing\n"
     ]
    },
    {
     "name": "stderr",
     "output_type": "stream",
     "text": [
      "\n"
     ]
    },
    {
     "name": "stdout",
     "output_type": "stream",
     "text": [
      "Correct: 8729, total: 10000, accuracy: 0.8728999496, average loss: 0.0030978334\n"
     ]
    },
    {
     "name": "stderr",
     "output_type": "stream",
     "text": [
      "391it [00:23, 16.70it/s]"
     ]
    },
    {
     "name": "stdout",
     "output_type": "stream",
     "text": [
      "Epoch 35 finished, average loss: 0.0022881661\n",
      "Starting testing\n"
     ]
    },
    {
     "name": "stderr",
     "output_type": "stream",
     "text": [
      "\n"
     ]
    },
    {
     "name": "stdout",
     "output_type": "stream",
     "text": [
      "Correct: 8551, total: 10000, accuracy: 0.8550999761, average loss: 0.0034987167\n"
     ]
    },
    {
     "name": "stderr",
     "output_type": "stream",
     "text": [
      "391it [00:23, 16.64it/s]"
     ]
    },
    {
     "name": "stdout",
     "output_type": "stream",
     "text": [
      "Epoch 36 finished, average loss: 0.0022268102\n",
      "Starting testing\n"
     ]
    },
    {
     "name": "stderr",
     "output_type": "stream",
     "text": [
      "\n"
     ]
    },
    {
     "name": "stdout",
     "output_type": "stream",
     "text": [
      "Correct: 8699, total: 10000, accuracy: 0.8698999882, average loss: 0.0031064312\n"
     ]
    },
    {
     "name": "stderr",
     "output_type": "stream",
     "text": [
      "391it [00:23, 16.66it/s]"
     ]
    },
    {
     "name": "stdout",
     "output_type": "stream",
     "text": [
      "Epoch 37 finished, average loss: 0.0022164070\n",
      "Starting testing\n"
     ]
    },
    {
     "name": "stderr",
     "output_type": "stream",
     "text": [
      "\n"
     ]
    },
    {
     "name": "stdout",
     "output_type": "stream",
     "text": [
      "Correct: 8756, total: 10000, accuracy: 0.8755999804, average loss: 0.0029593233\n"
     ]
    },
    {
     "name": "stderr",
     "output_type": "stream",
     "text": [
      "391it [00:23, 16.64it/s]"
     ]
    },
    {
     "name": "stdout",
     "output_type": "stream",
     "text": [
      "Epoch 38 finished, average loss: 0.0021989318\n",
      "Starting testing\n"
     ]
    },
    {
     "name": "stderr",
     "output_type": "stream",
     "text": [
      "\n"
     ]
    },
    {
     "name": "stdout",
     "output_type": "stream",
     "text": [
      "Correct: 8862, total: 10000, accuracy: 0.8861999512, average loss: 0.0026537549\n"
     ]
    },
    {
     "name": "stderr",
     "output_type": "stream",
     "text": [
      "391it [00:23, 16.69it/s]"
     ]
    },
    {
     "name": "stdout",
     "output_type": "stream",
     "text": [
      "Epoch 39 finished, average loss: 0.0022071313\n",
      "Starting testing\n"
     ]
    },
    {
     "name": "stderr",
     "output_type": "stream",
     "text": [
      "\n"
     ]
    },
    {
     "name": "stdout",
     "output_type": "stream",
     "text": [
      "Correct: 8761, total: 10000, accuracy: 0.8761000037, average loss: 0.0030861494\n"
     ]
    },
    {
     "name": "stderr",
     "output_type": "stream",
     "text": [
      "391it [00:23, 16.67it/s]"
     ]
    },
    {
     "name": "stdout",
     "output_type": "stream",
     "text": [
      "Epoch 40 finished, average loss: 0.0021749881\n",
      "Starting testing\n"
     ]
    },
    {
     "name": "stderr",
     "output_type": "stream",
     "text": [
      "\n"
     ]
    },
    {
     "name": "stdout",
     "output_type": "stream",
     "text": [
      "Correct: 8750, total: 10000, accuracy: 0.8750000000, average loss: 0.0028885912\n"
     ]
    },
    {
     "name": "stderr",
     "output_type": "stream",
     "text": [
      "391it [00:23, 16.70it/s]"
     ]
    },
    {
     "name": "stdout",
     "output_type": "stream",
     "text": [
      "Epoch 41 finished, average loss: 0.0021824226\n",
      "Starting testing\n"
     ]
    },
    {
     "name": "stderr",
     "output_type": "stream",
     "text": [
      "\n"
     ]
    },
    {
     "name": "stdout",
     "output_type": "stream",
     "text": [
      "Correct: 8648, total: 10000, accuracy: 0.8647999763, average loss: 0.0033542497\n"
     ]
    },
    {
     "name": "stderr",
     "output_type": "stream",
     "text": [
      "391it [00:23, 16.68it/s]"
     ]
    },
    {
     "name": "stdout",
     "output_type": "stream",
     "text": [
      "Epoch 42 finished, average loss: 0.0021405809\n",
      "Starting testing\n"
     ]
    },
    {
     "name": "stderr",
     "output_type": "stream",
     "text": [
      "\n"
     ]
    },
    {
     "name": "stdout",
     "output_type": "stream",
     "text": [
      "Correct: 8740, total: 10000, accuracy: 0.8739999533, average loss: 0.0029663206\n"
     ]
    },
    {
     "name": "stderr",
     "output_type": "stream",
     "text": [
      "391it [00:23, 16.71it/s]"
     ]
    },
    {
     "name": "stdout",
     "output_type": "stream",
     "text": [
      "Epoch 43 finished, average loss: 0.0020824362\n",
      "Starting testing\n"
     ]
    },
    {
     "name": "stderr",
     "output_type": "stream",
     "text": [
      "\n"
     ]
    },
    {
     "name": "stdout",
     "output_type": "stream",
     "text": [
      "Correct: 8780, total: 10000, accuracy: 0.8779999614, average loss: 0.0031759862\n"
     ]
    },
    {
     "name": "stderr",
     "output_type": "stream",
     "text": [
      "391it [00:23, 16.66it/s]"
     ]
    },
    {
     "name": "stdout",
     "output_type": "stream",
     "text": [
      "Epoch 44 finished, average loss: 0.0020972006\n",
      "Starting testing\n"
     ]
    },
    {
     "name": "stderr",
     "output_type": "stream",
     "text": [
      "\n"
     ]
    },
    {
     "name": "stdout",
     "output_type": "stream",
     "text": [
      "Correct: 8599, total: 10000, accuracy: 0.8598999977, average loss: 0.0034294593\n"
     ]
    },
    {
     "name": "stderr",
     "output_type": "stream",
     "text": [
      "391it [00:23, 16.64it/s]"
     ]
    },
    {
     "name": "stdout",
     "output_type": "stream",
     "text": [
      "Epoch 45 finished, average loss: 0.0020654715\n",
      "Starting testing\n"
     ]
    },
    {
     "name": "stderr",
     "output_type": "stream",
     "text": [
      "\n"
     ]
    },
    {
     "name": "stdout",
     "output_type": "stream",
     "text": [
      "Correct: 8794, total: 10000, accuracy: 0.8793999553, average loss: 0.0029344137\n"
     ]
    },
    {
     "name": "stderr",
     "output_type": "stream",
     "text": [
      "391it [00:23, 16.66it/s]"
     ]
    },
    {
     "name": "stdout",
     "output_type": "stream",
     "text": [
      "Epoch 46 finished, average loss: 0.0020878361\n",
      "Starting testing\n"
     ]
    },
    {
     "name": "stderr",
     "output_type": "stream",
     "text": [
      "\n"
     ]
    },
    {
     "name": "stdout",
     "output_type": "stream",
     "text": [
      "Correct: 8731, total: 10000, accuracy: 0.8730999827, average loss: 0.0029967844\n"
     ]
    },
    {
     "name": "stderr",
     "output_type": "stream",
     "text": [
      "391it [00:23, 16.63it/s]"
     ]
    },
    {
     "name": "stdout",
     "output_type": "stream",
     "text": [
      "Epoch 47 finished, average loss: 0.0020286860\n",
      "Starting testing\n"
     ]
    },
    {
     "name": "stderr",
     "output_type": "stream",
     "text": [
      "\n"
     ]
    },
    {
     "name": "stdout",
     "output_type": "stream",
     "text": [
      "Correct: 8878, total: 10000, accuracy: 0.8877999783, average loss: 0.0025626487\n"
     ]
    },
    {
     "name": "stderr",
     "output_type": "stream",
     "text": [
      "391it [00:23, 16.58it/s]"
     ]
    },
    {
     "name": "stdout",
     "output_type": "stream",
     "text": [
      "Epoch 48 finished, average loss: 0.0020517030\n",
      "Starting testing\n"
     ]
    },
    {
     "name": "stderr",
     "output_type": "stream",
     "text": [
      "\n"
     ]
    },
    {
     "name": "stdout",
     "output_type": "stream",
     "text": [
      "Correct: 8876, total: 10000, accuracy: 0.8876000047, average loss: 0.0026347018\n"
     ]
    },
    {
     "name": "stderr",
     "output_type": "stream",
     "text": [
      "391it [00:23, 16.62it/s]\n"
     ]
    },
    {
     "name": "stdout",
     "output_type": "stream",
     "text": [
      "Epoch 49 finished, average loss: 0.0019923810\n",
      "Starting testing\n",
      "Correct: 8739, total: 10000, accuracy: 0.8738999963, average loss: 0.0031091922\n"
     ]
    },
    {
     "name": "stderr",
     "output_type": "stream",
     "text": [
      "391it [00:23, 16.65it/s]"
     ]
    },
    {
     "name": "stdout",
     "output_type": "stream",
     "text": [
      "Epoch 50 finished, average loss: 0.0019673908\n",
      "Starting testing\n"
     ]
    },
    {
     "name": "stderr",
     "output_type": "stream",
     "text": [
      "\n"
     ]
    },
    {
     "name": "stdout",
     "output_type": "stream",
     "text": [
      "Correct: 8765, total: 10000, accuracy: 0.8764999509, average loss: 0.0028884201\n"
     ]
    },
    {
     "name": "stderr",
     "output_type": "stream",
     "text": [
      "391it [00:23, 16.63it/s]"
     ]
    },
    {
     "name": "stdout",
     "output_type": "stream",
     "text": [
      "Epoch 51 finished, average loss: 0.0019615069\n",
      "Starting testing\n"
     ]
    },
    {
     "name": "stderr",
     "output_type": "stream",
     "text": [
      "\n"
     ]
    },
    {
     "name": "stdout",
     "output_type": "stream",
     "text": [
      "Correct: 8773, total: 10000, accuracy: 0.8772999644, average loss: 0.0029743963\n"
     ]
    },
    {
     "name": "stderr",
     "output_type": "stream",
     "text": [
      "391it [00:23, 16.72it/s]"
     ]
    },
    {
     "name": "stdout",
     "output_type": "stream",
     "text": [
      "Epoch 52 finished, average loss: 0.0019634583\n",
      "Starting testing\n"
     ]
    },
    {
     "name": "stderr",
     "output_type": "stream",
     "text": [
      "\n"
     ]
    },
    {
     "name": "stdout",
     "output_type": "stream",
     "text": [
      "Correct: 8714, total: 10000, accuracy: 0.8713999987, average loss: 0.0031816457\n"
     ]
    },
    {
     "name": "stderr",
     "output_type": "stream",
     "text": [
      "391it [00:23, 16.63it/s]"
     ]
    },
    {
     "name": "stdout",
     "output_type": "stream",
     "text": [
      "Epoch 53 finished, average loss: 0.0019321913\n",
      "Starting testing\n"
     ]
    },
    {
     "name": "stderr",
     "output_type": "stream",
     "text": [
      "\n"
     ]
    },
    {
     "name": "stdout",
     "output_type": "stream",
     "text": [
      "Correct: 8833, total: 10000, accuracy: 0.8833000064, average loss: 0.0028205005\n"
     ]
    },
    {
     "name": "stderr",
     "output_type": "stream",
     "text": [
      "391it [00:23, 16.61it/s]"
     ]
    },
    {
     "name": "stdout",
     "output_type": "stream",
     "text": [
      "Epoch 54 finished, average loss: 0.0018911068\n",
      "Starting testing\n"
     ]
    },
    {
     "name": "stderr",
     "output_type": "stream",
     "text": [
      "\n"
     ]
    },
    {
     "name": "stdout",
     "output_type": "stream",
     "text": [
      "Correct: 8967, total: 10000, accuracy: 0.8966999650, average loss: 0.0023882358\n"
     ]
    },
    {
     "name": "stderr",
     "output_type": "stream",
     "text": [
      "391it [00:23, 16.66it/s]\n"
     ]
    },
    {
     "name": "stdout",
     "output_type": "stream",
     "text": [
      "Epoch 55 finished, average loss: 0.0019321833\n",
      "Starting testing\n",
      "Correct: 8928, total: 10000, accuracy: 0.8927999735, average loss: 0.0025696916\n"
     ]
    },
    {
     "name": "stderr",
     "output_type": "stream",
     "text": [
      "391it [00:23, 16.65it/s]"
     ]
    },
    {
     "name": "stdout",
     "output_type": "stream",
     "text": [
      "Epoch 56 finished, average loss: 0.0019163068\n",
      "Starting testing\n"
     ]
    },
    {
     "name": "stderr",
     "output_type": "stream",
     "text": [
      "\n"
     ]
    },
    {
     "name": "stdout",
     "output_type": "stream",
     "text": [
      "Correct: 8949, total: 10000, accuracy: 0.8948999643, average loss: 0.0025055376\n"
     ]
    },
    {
     "name": "stderr",
     "output_type": "stream",
     "text": [
      "391it [00:23, 16.64it/s]"
     ]
    },
    {
     "name": "stdout",
     "output_type": "stream",
     "text": [
      "Epoch 57 finished, average loss: 0.0019141553\n",
      "Starting testing\n"
     ]
    },
    {
     "name": "stderr",
     "output_type": "stream",
     "text": [
      "\n"
     ]
    },
    {
     "name": "stdout",
     "output_type": "stream",
     "text": [
      "Correct: 8854, total: 10000, accuracy: 0.8853999972, average loss: 0.0026496869\n"
     ]
    },
    {
     "name": "stderr",
     "output_type": "stream",
     "text": [
      "391it [00:23, 16.65it/s]"
     ]
    },
    {
     "name": "stdout",
     "output_type": "stream",
     "text": [
      "Epoch 58 finished, average loss: 0.0018811470\n",
      "Starting testing\n"
     ]
    },
    {
     "name": "stderr",
     "output_type": "stream",
     "text": [
      "\n"
     ]
    },
    {
     "name": "stdout",
     "output_type": "stream",
     "text": [
      "Correct: 8811, total: 10000, accuracy: 0.8810999990, average loss: 0.0027361289\n"
     ]
    },
    {
     "name": "stderr",
     "output_type": "stream",
     "text": [
      "391it [00:23, 16.70it/s]"
     ]
    },
    {
     "name": "stdout",
     "output_type": "stream",
     "text": [
      "Epoch 59 finished, average loss: 0.0019052108\n",
      "Starting testing\n"
     ]
    },
    {
     "name": "stderr",
     "output_type": "stream",
     "text": [
      "\n"
     ]
    },
    {
     "name": "stdout",
     "output_type": "stream",
     "text": [
      "Correct: 8972, total: 10000, accuracy: 0.8971999884, average loss: 0.0023954749\n"
     ]
    },
    {
     "name": "stderr",
     "output_type": "stream",
     "text": [
      "391it [00:23, 16.67it/s]"
     ]
    },
    {
     "name": "stdout",
     "output_type": "stream",
     "text": [
      "Epoch 60 finished, average loss: 0.0018784128\n",
      "Starting testing\n"
     ]
    },
    {
     "name": "stderr",
     "output_type": "stream",
     "text": [
      "\n"
     ]
    },
    {
     "name": "stdout",
     "output_type": "stream",
     "text": [
      "Correct: 8770, total: 10000, accuracy: 0.8769999743, average loss: 0.0029589181\n"
     ]
    },
    {
     "name": "stderr",
     "output_type": "stream",
     "text": [
      "391it [00:23, 16.68it/s]"
     ]
    },
    {
     "name": "stdout",
     "output_type": "stream",
     "text": [
      "Epoch 61 finished, average loss: 0.0018964489\n",
      "Starting testing\n"
     ]
    },
    {
     "name": "stderr",
     "output_type": "stream",
     "text": [
      "\n"
     ]
    },
    {
     "name": "stdout",
     "output_type": "stream",
     "text": [
      "Correct: 8844, total: 10000, accuracy: 0.8843999505, average loss: 0.0027335311\n"
     ]
    },
    {
     "name": "stderr",
     "output_type": "stream",
     "text": [
      "391it [00:23, 16.62it/s]"
     ]
    },
    {
     "name": "stdout",
     "output_type": "stream",
     "text": [
      "Epoch 62 finished, average loss: 0.0018513359\n",
      "Starting testing\n"
     ]
    },
    {
     "name": "stderr",
     "output_type": "stream",
     "text": [
      "\n"
     ]
    },
    {
     "name": "stdout",
     "output_type": "stream",
     "text": [
      "Correct: 8774, total: 10000, accuracy: 0.8773999810, average loss: 0.0028525105\n"
     ]
    },
    {
     "name": "stderr",
     "output_type": "stream",
     "text": [
      "391it [00:23, 16.80it/s]"
     ]
    },
    {
     "name": "stdout",
     "output_type": "stream",
     "text": [
      "Epoch 63 finished, average loss: 0.0018387019\n",
      "Starting testing\n"
     ]
    },
    {
     "name": "stderr",
     "output_type": "stream",
     "text": [
      "\n"
     ]
    },
    {
     "name": "stdout",
     "output_type": "stream",
     "text": [
      "Correct: 8930, total: 10000, accuracy: 0.8930000067, average loss: 0.0025088399\n"
     ]
    },
    {
     "name": "stderr",
     "output_type": "stream",
     "text": [
      "391it [00:23, 16.59it/s]"
     ]
    },
    {
     "name": "stdout",
     "output_type": "stream",
     "text": [
      "Epoch 64 finished, average loss: 0.0018087788\n",
      "Starting testing\n"
     ]
    },
    {
     "name": "stderr",
     "output_type": "stream",
     "text": [
      "\n"
     ]
    },
    {
     "name": "stdout",
     "output_type": "stream",
     "text": [
      "Correct: 8982, total: 10000, accuracy: 0.8981999755, average loss: 0.0024837733\n"
     ]
    },
    {
     "name": "stderr",
     "output_type": "stream",
     "text": [
      "391it [00:23, 16.70it/s]"
     ]
    },
    {
     "name": "stdout",
     "output_type": "stream",
     "text": [
      "Epoch 65 finished, average loss: 0.0018268042\n",
      "Starting testing\n"
     ]
    },
    {
     "name": "stderr",
     "output_type": "stream",
     "text": [
      "\n"
     ]
    },
    {
     "name": "stdout",
     "output_type": "stream",
     "text": [
      "Correct: 8933, total: 10000, accuracy: 0.8932999969, average loss: 0.0025221632\n"
     ]
    },
    {
     "name": "stderr",
     "output_type": "stream",
     "text": [
      "391it [00:23, 16.62it/s]"
     ]
    },
    {
     "name": "stdout",
     "output_type": "stream",
     "text": [
      "Epoch 66 finished, average loss: 0.0018395823\n",
      "Starting testing\n"
     ]
    },
    {
     "name": "stderr",
     "output_type": "stream",
     "text": [
      "\n"
     ]
    },
    {
     "name": "stdout",
     "output_type": "stream",
     "text": [
      "Correct: 8785, total: 10000, accuracy: 0.8784999847, average loss: 0.0030680159\n"
     ]
    },
    {
     "name": "stderr",
     "output_type": "stream",
     "text": [
      "391it [00:23, 16.65it/s]"
     ]
    },
    {
     "name": "stdout",
     "output_type": "stream",
     "text": [
      "Epoch 67 finished, average loss: 0.0017994527\n",
      "Starting testing\n"
     ]
    },
    {
     "name": "stderr",
     "output_type": "stream",
     "text": [
      "\n"
     ]
    },
    {
     "name": "stdout",
     "output_type": "stream",
     "text": [
      "Correct: 8952, total: 10000, accuracy: 0.8951999545, average loss: 0.0024844018\n"
     ]
    },
    {
     "name": "stderr",
     "output_type": "stream",
     "text": [
      "391it [00:23, 16.74it/s]"
     ]
    },
    {
     "name": "stdout",
     "output_type": "stream",
     "text": [
      "Epoch 68 finished, average loss: 0.0018171123\n",
      "Starting testing\n"
     ]
    },
    {
     "name": "stderr",
     "output_type": "stream",
     "text": [
      "\n"
     ]
    },
    {
     "name": "stdout",
     "output_type": "stream",
     "text": [
      "Correct: 8815, total: 10000, accuracy: 0.8815000057, average loss: 0.0029078570\n"
     ]
    },
    {
     "name": "stderr",
     "output_type": "stream",
     "text": [
      "391it [00:23, 16.73it/s]"
     ]
    },
    {
     "name": "stdout",
     "output_type": "stream",
     "text": [
      "Epoch 69 finished, average loss: 0.0017900762\n",
      "Starting testing\n"
     ]
    },
    {
     "name": "stderr",
     "output_type": "stream",
     "text": [
      "\n"
     ]
    },
    {
     "name": "stdout",
     "output_type": "stream",
     "text": [
      "Correct: 8942, total: 10000, accuracy: 0.8941999674, average loss: 0.0025637311\n"
     ]
    },
    {
     "name": "stderr",
     "output_type": "stream",
     "text": [
      "391it [00:23, 16.62it/s]"
     ]
    },
    {
     "name": "stdout",
     "output_type": "stream",
     "text": [
      "Epoch 70 finished, average loss: 0.0017764948\n",
      "Starting testing\n"
     ]
    },
    {
     "name": "stderr",
     "output_type": "stream",
     "text": [
      "\n"
     ]
    },
    {
     "name": "stdout",
     "output_type": "stream",
     "text": [
      "Correct: 8830, total: 10000, accuracy: 0.8829999566, average loss: 0.0029108993\n"
     ]
    },
    {
     "name": "stderr",
     "output_type": "stream",
     "text": [
      "391it [00:23, 16.65it/s]"
     ]
    },
    {
     "name": "stdout",
     "output_type": "stream",
     "text": [
      "Epoch 71 finished, average loss: 0.0017603078\n",
      "Starting testing\n"
     ]
    },
    {
     "name": "stderr",
     "output_type": "stream",
     "text": [
      "\n"
     ]
    },
    {
     "name": "stdout",
     "output_type": "stream",
     "text": [
      "Correct: 8634, total: 10000, accuracy: 0.8633999825, average loss: 0.0031975933\n"
     ]
    },
    {
     "name": "stderr",
     "output_type": "stream",
     "text": [
      "391it [00:23, 16.66it/s]"
     ]
    },
    {
     "name": "stdout",
     "output_type": "stream",
     "text": [
      "Epoch 72 finished, average loss: 0.0017328066\n",
      "Starting testing\n"
     ]
    },
    {
     "name": "stderr",
     "output_type": "stream",
     "text": [
      "\n"
     ]
    },
    {
     "name": "stdout",
     "output_type": "stream",
     "text": [
      "Correct: 8951, total: 10000, accuracy: 0.8950999975, average loss: 0.0024454193\n"
     ]
    },
    {
     "name": "stderr",
     "output_type": "stream",
     "text": [
      "391it [00:23, 16.71it/s]"
     ]
    },
    {
     "name": "stdout",
     "output_type": "stream",
     "text": [
      "Epoch 73 finished, average loss: 0.0017891282\n",
      "Starting testing\n"
     ]
    },
    {
     "name": "stderr",
     "output_type": "stream",
     "text": [
      "\n"
     ]
    },
    {
     "name": "stdout",
     "output_type": "stream",
     "text": [
      "Correct: 8710, total: 10000, accuracy: 0.8709999919, average loss: 0.0030425411\n"
     ]
    },
    {
     "name": "stderr",
     "output_type": "stream",
     "text": [
      "391it [00:23, 16.54it/s]"
     ]
    },
    {
     "name": "stdout",
     "output_type": "stream",
     "text": [
      "Epoch 74 finished, average loss: 0.0017704798\n",
      "Starting testing\n"
     ]
    },
    {
     "name": "stderr",
     "output_type": "stream",
     "text": [
      "\n"
     ]
    },
    {
     "name": "stdout",
     "output_type": "stream",
     "text": [
      "Correct: 8867, total: 10000, accuracy: 0.8866999745, average loss: 0.0027703429\n"
     ]
    },
    {
     "name": "stderr",
     "output_type": "stream",
     "text": [
      "391it [00:23, 16.65it/s]"
     ]
    },
    {
     "name": "stdout",
     "output_type": "stream",
     "text": [
      "Epoch 75 finished, average loss: 0.0017313349\n",
      "Starting testing\n"
     ]
    },
    {
     "name": "stderr",
     "output_type": "stream",
     "text": [
      "\n"
     ]
    },
    {
     "name": "stdout",
     "output_type": "stream",
     "text": [
      "Correct: 8541, total: 10000, accuracy: 0.8540999889, average loss: 0.0035666211\n"
     ]
    },
    {
     "name": "stderr",
     "output_type": "stream",
     "text": [
      "391it [00:23, 16.71it/s]"
     ]
    },
    {
     "name": "stdout",
     "output_type": "stream",
     "text": [
      "Epoch 76 finished, average loss: 0.0017264443\n",
      "Starting testing\n"
     ]
    },
    {
     "name": "stderr",
     "output_type": "stream",
     "text": [
      "\n"
     ]
    },
    {
     "name": "stdout",
     "output_type": "stream",
     "text": [
      "Correct: 8964, total: 10000, accuracy: 0.8963999748, average loss: 0.0024346657\n"
     ]
    },
    {
     "name": "stderr",
     "output_type": "stream",
     "text": [
      "391it [00:23, 16.55it/s]"
     ]
    },
    {
     "name": "stdout",
     "output_type": "stream",
     "text": [
      "Epoch 77 finished, average loss: 0.0016829140\n",
      "Starting testing\n"
     ]
    },
    {
     "name": "stderr",
     "output_type": "stream",
     "text": [
      "\n"
     ]
    },
    {
     "name": "stdout",
     "output_type": "stream",
     "text": [
      "Correct: 8845, total: 10000, accuracy: 0.8844999671, average loss: 0.0027682781\n"
     ]
    },
    {
     "name": "stderr",
     "output_type": "stream",
     "text": [
      "391it [00:23, 16.66it/s]"
     ]
    },
    {
     "name": "stdout",
     "output_type": "stream",
     "text": [
      "Epoch 78 finished, average loss: 0.0017156652\n",
      "Starting testing\n"
     ]
    },
    {
     "name": "stderr",
     "output_type": "stream",
     "text": [
      "\n"
     ]
    },
    {
     "name": "stdout",
     "output_type": "stream",
     "text": [
      "Correct: 8944, total: 10000, accuracy: 0.8944000006, average loss: 0.0024583877\n"
     ]
    },
    {
     "name": "stderr",
     "output_type": "stream",
     "text": [
      "391it [00:23, 16.67it/s]"
     ]
    },
    {
     "name": "stdout",
     "output_type": "stream",
     "text": [
      "Epoch 79 finished, average loss: 0.0017255583\n",
      "Starting testing\n"
     ]
    },
    {
     "name": "stderr",
     "output_type": "stream",
     "text": [
      "\n"
     ]
    },
    {
     "name": "stdout",
     "output_type": "stream",
     "text": [
      "Correct: 8842, total: 10000, accuracy: 0.8841999769, average loss: 0.0027966337\n"
     ]
    },
    {
     "name": "stderr",
     "output_type": "stream",
     "text": [
      "391it [00:23, 16.63it/s]"
     ]
    },
    {
     "name": "stdout",
     "output_type": "stream",
     "text": [
      "Epoch 80 finished, average loss: 0.0016543537\n",
      "Starting testing\n"
     ]
    },
    {
     "name": "stderr",
     "output_type": "stream",
     "text": [
      "\n"
     ]
    },
    {
     "name": "stdout",
     "output_type": "stream",
     "text": [
      "Correct: 8997, total: 10000, accuracy: 0.8996999860, average loss: 0.0024284064\n"
     ]
    },
    {
     "name": "stderr",
     "output_type": "stream",
     "text": [
      "391it [00:23, 16.66it/s]"
     ]
    },
    {
     "name": "stdout",
     "output_type": "stream",
     "text": [
      "Epoch 81 finished, average loss: 0.0016996835\n",
      "Starting testing\n"
     ]
    },
    {
     "name": "stderr",
     "output_type": "stream",
     "text": [
      "\n"
     ]
    },
    {
     "name": "stdout",
     "output_type": "stream",
     "text": [
      "Correct: 8941, total: 10000, accuracy: 0.8940999508, average loss: 0.0025237900\n"
     ]
    },
    {
     "name": "stderr",
     "output_type": "stream",
     "text": [
      "391it [00:23, 16.64it/s]"
     ]
    },
    {
     "name": "stdout",
     "output_type": "stream",
     "text": [
      "Epoch 82 finished, average loss: 0.0016832595\n",
      "Starting testing\n"
     ]
    },
    {
     "name": "stderr",
     "output_type": "stream",
     "text": [
      "\n"
     ]
    },
    {
     "name": "stdout",
     "output_type": "stream",
     "text": [
      "Correct: 8915, total: 10000, accuracy: 0.8914999962, average loss: 0.0026054144\n"
     ]
    },
    {
     "name": "stderr",
     "output_type": "stream",
     "text": [
      "391it [00:23, 16.67it/s]"
     ]
    },
    {
     "name": "stdout",
     "output_type": "stream",
     "text": [
      "Epoch 83 finished, average loss: 0.0016709206\n",
      "Starting testing\n"
     ]
    },
    {
     "name": "stderr",
     "output_type": "stream",
     "text": [
      "\n"
     ]
    },
    {
     "name": "stdout",
     "output_type": "stream",
     "text": [
      "Correct: 8975, total: 10000, accuracy: 0.8974999785, average loss: 0.0025392929\n"
     ]
    },
    {
     "name": "stderr",
     "output_type": "stream",
     "text": [
      "391it [00:23, 16.69it/s]"
     ]
    },
    {
     "name": "stdout",
     "output_type": "stream",
     "text": [
      "Epoch 84 finished, average loss: 0.0016330589\n",
      "Starting testing\n"
     ]
    },
    {
     "name": "stderr",
     "output_type": "stream",
     "text": [
      "\n"
     ]
    },
    {
     "name": "stdout",
     "output_type": "stream",
     "text": [
      "Correct: 8917, total: 10000, accuracy: 0.8916999698, average loss: 0.0024551460\n"
     ]
    },
    {
     "name": "stderr",
     "output_type": "stream",
     "text": [
      "391it [00:23, 16.71it/s]"
     ]
    },
    {
     "name": "stdout",
     "output_type": "stream",
     "text": [
      "Epoch 85 finished, average loss: 0.0017189530\n",
      "Starting testing\n"
     ]
    },
    {
     "name": "stderr",
     "output_type": "stream",
     "text": [
      "\n"
     ]
    },
    {
     "name": "stdout",
     "output_type": "stream",
     "text": [
      "Correct: 8979, total: 10000, accuracy: 0.8978999853, average loss: 0.0024535391\n"
     ]
    },
    {
     "name": "stderr",
     "output_type": "stream",
     "text": [
      "391it [00:23, 16.68it/s]"
     ]
    },
    {
     "name": "stdout",
     "output_type": "stream",
     "text": [
      "Epoch 86 finished, average loss: 0.0017006684\n",
      "Starting testing\n"
     ]
    },
    {
     "name": "stderr",
     "output_type": "stream",
     "text": [
      "\n"
     ]
    },
    {
     "name": "stdout",
     "output_type": "stream",
     "text": [
      "Correct: 8780, total: 10000, accuracy: 0.8779999614, average loss: 0.0030891610\n"
     ]
    },
    {
     "name": "stderr",
     "output_type": "stream",
     "text": [
      "391it [00:23, 16.66it/s]"
     ]
    },
    {
     "name": "stdout",
     "output_type": "stream",
     "text": [
      "Epoch 87 finished, average loss: 0.0016146919\n",
      "Starting testing\n"
     ]
    },
    {
     "name": "stderr",
     "output_type": "stream",
     "text": [
      "\n"
     ]
    },
    {
     "name": "stdout",
     "output_type": "stream",
     "text": [
      "Correct: 8766, total: 10000, accuracy: 0.8765999675, average loss: 0.0029786257\n"
     ]
    },
    {
     "name": "stderr",
     "output_type": "stream",
     "text": [
      "391it [00:23, 16.66it/s]"
     ]
    },
    {
     "name": "stdout",
     "output_type": "stream",
     "text": [
      "Epoch 88 finished, average loss: 0.0016883602\n",
      "Starting testing\n"
     ]
    },
    {
     "name": "stderr",
     "output_type": "stream",
     "text": [
      "\n"
     ]
    },
    {
     "name": "stdout",
     "output_type": "stream",
     "text": [
      "Correct: 8936, total: 10000, accuracy: 0.8935999870, average loss: 0.0026088114\n"
     ]
    },
    {
     "name": "stderr",
     "output_type": "stream",
     "text": [
      "391it [00:23, 16.73it/s]"
     ]
    },
    {
     "name": "stdout",
     "output_type": "stream",
     "text": [
      "Epoch 89 finished, average loss: 0.0016538607\n",
      "Starting testing\n"
     ]
    },
    {
     "name": "stderr",
     "output_type": "stream",
     "text": [
      "\n"
     ]
    },
    {
     "name": "stdout",
     "output_type": "stream",
     "text": [
      "Correct: 8893, total: 10000, accuracy: 0.8892999887, average loss: 0.0026734013\n"
     ]
    },
    {
     "name": "stderr",
     "output_type": "stream",
     "text": [
      "391it [00:23, 16.72it/s]"
     ]
    },
    {
     "name": "stdout",
     "output_type": "stream",
     "text": [
      "Epoch 90 finished, average loss: 0.0016689827\n",
      "Starting testing\n"
     ]
    },
    {
     "name": "stderr",
     "output_type": "stream",
     "text": [
      "\n"
     ]
    },
    {
     "name": "stdout",
     "output_type": "stream",
     "text": [
      "Correct: 8915, total: 10000, accuracy: 0.8914999962, average loss: 0.0025479325\n"
     ]
    },
    {
     "name": "stderr",
     "output_type": "stream",
     "text": [
      "391it [00:23, 16.62it/s]"
     ]
    },
    {
     "name": "stdout",
     "output_type": "stream",
     "text": [
      "Epoch 91 finished, average loss: 0.0016106140\n",
      "Starting testing\n"
     ]
    },
    {
     "name": "stderr",
     "output_type": "stream",
     "text": [
      "\n"
     ]
    },
    {
     "name": "stdout",
     "output_type": "stream",
     "text": [
      "Correct: 8869, total: 10000, accuracy: 0.8868999481, average loss: 0.0027109355\n"
     ]
    },
    {
     "name": "stderr",
     "output_type": "stream",
     "text": [
      "391it [00:23, 16.77it/s]"
     ]
    },
    {
     "name": "stdout",
     "output_type": "stream",
     "text": [
      "Epoch 92 finished, average loss: 0.0016212157\n",
      "Starting testing\n"
     ]
    },
    {
     "name": "stderr",
     "output_type": "stream",
     "text": [
      "\n"
     ]
    },
    {
     "name": "stdout",
     "output_type": "stream",
     "text": [
      "Correct: 9013, total: 10000, accuracy: 0.9012999535, average loss: 0.0023718202\n"
     ]
    },
    {
     "name": "stderr",
     "output_type": "stream",
     "text": [
      "391it [00:23, 16.72it/s]"
     ]
    },
    {
     "name": "stdout",
     "output_type": "stream",
     "text": [
      "Epoch 93 finished, average loss: 0.0016400763\n",
      "Starting testing\n"
     ]
    },
    {
     "name": "stderr",
     "output_type": "stream",
     "text": [
      "\n"
     ]
    },
    {
     "name": "stdout",
     "output_type": "stream",
     "text": [
      "Correct: 8962, total: 10000, accuracy: 0.8962000012, average loss: 0.0024944294\n"
     ]
    },
    {
     "name": "stderr",
     "output_type": "stream",
     "text": [
      "391it [00:23, 16.59it/s]"
     ]
    },
    {
     "name": "stdout",
     "output_type": "stream",
     "text": [
      "Epoch 94 finished, average loss: 0.0016194732\n",
      "Starting testing\n"
     ]
    },
    {
     "name": "stderr",
     "output_type": "stream",
     "text": [
      "\n"
     ]
    },
    {
     "name": "stdout",
     "output_type": "stream",
     "text": [
      "Correct: 8704, total: 10000, accuracy: 0.8703999519, average loss: 0.0032641489\n"
     ]
    },
    {
     "name": "stderr",
     "output_type": "stream",
     "text": [
      "391it [00:23, 16.71it/s]"
     ]
    },
    {
     "name": "stdout",
     "output_type": "stream",
     "text": [
      "Epoch 95 finished, average loss: 0.0016365558\n",
      "Starting testing\n"
     ]
    },
    {
     "name": "stderr",
     "output_type": "stream",
     "text": [
      "\n"
     ]
    },
    {
     "name": "stdout",
     "output_type": "stream",
     "text": [
      "Correct: 8859, total: 10000, accuracy: 0.8858999610, average loss: 0.0027174591\n"
     ]
    },
    {
     "name": "stderr",
     "output_type": "stream",
     "text": [
      "391it [00:23, 16.72it/s]"
     ]
    },
    {
     "name": "stdout",
     "output_type": "stream",
     "text": [
      "Epoch 96 finished, average loss: 0.0016011017\n",
      "Starting testing\n"
     ]
    },
    {
     "name": "stderr",
     "output_type": "stream",
     "text": [
      "\n"
     ]
    },
    {
     "name": "stdout",
     "output_type": "stream",
     "text": [
      "Correct: 8909, total: 10000, accuracy: 0.8908999562, average loss: 0.0026863033\n"
     ]
    },
    {
     "name": "stderr",
     "output_type": "stream",
     "text": [
      "391it [00:23, 16.67it/s]"
     ]
    },
    {
     "name": "stdout",
     "output_type": "stream",
     "text": [
      "Epoch 97 finished, average loss: 0.0016602511\n",
      "Starting testing\n"
     ]
    },
    {
     "name": "stderr",
     "output_type": "stream",
     "text": [
      "\n"
     ]
    },
    {
     "name": "stdout",
     "output_type": "stream",
     "text": [
      "Correct: 8909, total: 10000, accuracy: 0.8908999562, average loss: 0.0026862201\n"
     ]
    },
    {
     "name": "stderr",
     "output_type": "stream",
     "text": [
      "391it [00:23, 16.59it/s]"
     ]
    },
    {
     "name": "stdout",
     "output_type": "stream",
     "text": [
      "Epoch 98 finished, average loss: 0.0016159742\n",
      "Starting testing\n"
     ]
    },
    {
     "name": "stderr",
     "output_type": "stream",
     "text": [
      "\n"
     ]
    },
    {
     "name": "stdout",
     "output_type": "stream",
     "text": [
      "Correct: 8749, total: 10000, accuracy: 0.8748999834, average loss: 0.0031170064\n"
     ]
    },
    {
     "name": "stderr",
     "output_type": "stream",
     "text": [
      "391it [00:23, 16.66it/s]"
     ]
    },
    {
     "name": "stdout",
     "output_type": "stream",
     "text": [
      "Epoch 99 finished, average loss: 0.0016191502\n",
      "Starting testing\n"
     ]
    },
    {
     "name": "stderr",
     "output_type": "stream",
     "text": [
      "\n"
     ]
    },
    {
     "name": "stdout",
     "output_type": "stream",
     "text": [
      "Correct: 8892, total: 10000, accuracy: 0.8891999722, average loss: 0.0026405179\n"
     ]
    },
    {
     "name": "stderr",
     "output_type": "stream",
     "text": [
      "391it [00:23, 16.68it/s]"
     ]
    },
    {
     "name": "stdout",
     "output_type": "stream",
     "text": [
      "Epoch 100 finished, average loss: 0.0015919105\n",
      "Starting testing\n"
     ]
    },
    {
     "name": "stderr",
     "output_type": "stream",
     "text": [
      "\n"
     ]
    },
    {
     "name": "stdout",
     "output_type": "stream",
     "text": [
      "Correct: 8967, total: 10000, accuracy: 0.8966999650, average loss: 0.0024831078\n"
     ]
    },
    {
     "name": "stderr",
     "output_type": "stream",
     "text": [
      "391it [00:23, 16.69it/s]"
     ]
    },
    {
     "name": "stdout",
     "output_type": "stream",
     "text": [
      "Epoch 101 finished, average loss: 0.0015621912\n",
      "Starting testing\n"
     ]
    },
    {
     "name": "stderr",
     "output_type": "stream",
     "text": [
      "\n"
     ]
    },
    {
     "name": "stdout",
     "output_type": "stream",
     "text": [
      "Correct: 8680, total: 10000, accuracy: 0.8679999709, average loss: 0.0033844311\n"
     ]
    },
    {
     "name": "stderr",
     "output_type": "stream",
     "text": [
      "391it [00:23, 16.69it/s]"
     ]
    },
    {
     "name": "stdout",
     "output_type": "stream",
     "text": [
      "Epoch 102 finished, average loss: 0.0016246371\n",
      "Starting testing\n"
     ]
    },
    {
     "name": "stderr",
     "output_type": "stream",
     "text": [
      "\n"
     ]
    },
    {
     "name": "stdout",
     "output_type": "stream",
     "text": [
      "Correct: 8778, total: 10000, accuracy: 0.8777999878, average loss: 0.0029765540\n"
     ]
    },
    {
     "name": "stderr",
     "output_type": "stream",
     "text": [
      "391it [00:23, 16.68it/s]"
     ]
    },
    {
     "name": "stdout",
     "output_type": "stream",
     "text": [
      "Epoch 103 finished, average loss: 0.0015757583\n",
      "Starting testing\n"
     ]
    },
    {
     "name": "stderr",
     "output_type": "stream",
     "text": [
      "\n"
     ]
    },
    {
     "name": "stdout",
     "output_type": "stream",
     "text": [
      "Correct: 8759, total: 10000, accuracy: 0.8758999705, average loss: 0.0030679181\n"
     ]
    },
    {
     "name": "stderr",
     "output_type": "stream",
     "text": [
      "391it [00:23, 16.65it/s]"
     ]
    },
    {
     "name": "stdout",
     "output_type": "stream",
     "text": [
      "Epoch 104 finished, average loss: 0.0015925432\n",
      "Starting testing\n"
     ]
    },
    {
     "name": "stderr",
     "output_type": "stream",
     "text": [
      "\n"
     ]
    },
    {
     "name": "stdout",
     "output_type": "stream",
     "text": [
      "Correct: 8990, total: 10000, accuracy: 0.8989999890, average loss: 0.0024546819\n"
     ]
    },
    {
     "name": "stderr",
     "output_type": "stream",
     "text": [
      "391it [00:23, 16.62it/s]"
     ]
    },
    {
     "name": "stdout",
     "output_type": "stream",
     "text": [
      "Epoch 105 finished, average loss: 0.0015180856\n",
      "Starting testing\n"
     ]
    },
    {
     "name": "stderr",
     "output_type": "stream",
     "text": [
      "\n"
     ]
    },
    {
     "name": "stdout",
     "output_type": "stream",
     "text": [
      "Correct: 8879, total: 10000, accuracy: 0.8878999949, average loss: 0.0027689820\n"
     ]
    },
    {
     "name": "stderr",
     "output_type": "stream",
     "text": [
      "391it [00:23, 16.66it/s]"
     ]
    },
    {
     "name": "stdout",
     "output_type": "stream",
     "text": [
      "Epoch 106 finished, average loss: 0.0016615224\n",
      "Starting testing\n"
     ]
    },
    {
     "name": "stderr",
     "output_type": "stream",
     "text": [
      "\n"
     ]
    },
    {
     "name": "stdout",
     "output_type": "stream",
     "text": [
      "Correct: 8832, total: 10000, accuracy: 0.8831999898, average loss: 0.0029066223\n"
     ]
    },
    {
     "name": "stderr",
     "output_type": "stream",
     "text": [
      "391it [00:23, 16.62it/s]"
     ]
    },
    {
     "name": "stdout",
     "output_type": "stream",
     "text": [
      "Epoch 107 finished, average loss: 0.0015537980\n",
      "Starting testing\n"
     ]
    },
    {
     "name": "stderr",
     "output_type": "stream",
     "text": [
      "\n"
     ]
    },
    {
     "name": "stdout",
     "output_type": "stream",
     "text": [
      "Correct: 8959, total: 10000, accuracy: 0.8958999515, average loss: 0.0024620371\n"
     ]
    },
    {
     "name": "stderr",
     "output_type": "stream",
     "text": [
      "391it [00:23, 16.61it/s]"
     ]
    },
    {
     "name": "stdout",
     "output_type": "stream",
     "text": [
      "Epoch 108 finished, average loss: 0.0015562358\n",
      "Starting testing\n"
     ]
    },
    {
     "name": "stderr",
     "output_type": "stream",
     "text": [
      "\n"
     ]
    },
    {
     "name": "stdout",
     "output_type": "stream",
     "text": [
      "Correct: 8812, total: 10000, accuracy: 0.8811999559, average loss: 0.0028023690\n"
     ]
    },
    {
     "name": "stderr",
     "output_type": "stream",
     "text": [
      "391it [00:23, 16.66it/s]"
     ]
    },
    {
     "name": "stdout",
     "output_type": "stream",
     "text": [
      "Epoch 109 finished, average loss: 0.0015730013\n",
      "Starting testing\n"
     ]
    },
    {
     "name": "stderr",
     "output_type": "stream",
     "text": [
      "\n"
     ]
    },
    {
     "name": "stdout",
     "output_type": "stream",
     "text": [
      "Correct: 9012, total: 10000, accuracy: 0.9011999965, average loss: 0.0023639597\n"
     ]
    },
    {
     "name": "stderr",
     "output_type": "stream",
     "text": [
      "391it [00:23, 16.66it/s]"
     ]
    },
    {
     "name": "stdout",
     "output_type": "stream",
     "text": [
      "Epoch 110 finished, average loss: 0.0015568259\n",
      "Starting testing\n"
     ]
    },
    {
     "name": "stderr",
     "output_type": "stream",
     "text": [
      "\n"
     ]
    },
    {
     "name": "stdout",
     "output_type": "stream",
     "text": [
      "Correct: 8820, total: 10000, accuracy: 0.8819999695, average loss: 0.0028998777\n"
     ]
    },
    {
     "name": "stderr",
     "output_type": "stream",
     "text": [
      "391it [00:23, 16.59it/s]"
     ]
    },
    {
     "name": "stdout",
     "output_type": "stream",
     "text": [
      "Epoch 111 finished, average loss: 0.0015376208\n",
      "Starting testing\n"
     ]
    },
    {
     "name": "stderr",
     "output_type": "stream",
     "text": [
      "\n"
     ]
    },
    {
     "name": "stdout",
     "output_type": "stream",
     "text": [
      "Correct: 8894, total: 10000, accuracy: 0.8894000053, average loss: 0.0028217357\n"
     ]
    },
    {
     "name": "stderr",
     "output_type": "stream",
     "text": [
      "391it [00:23, 16.75it/s]"
     ]
    },
    {
     "name": "stdout",
     "output_type": "stream",
     "text": [
      "Epoch 112 finished, average loss: 0.0015935778\n",
      "Starting testing\n"
     ]
    },
    {
     "name": "stderr",
     "output_type": "stream",
     "text": [
      "\n"
     ]
    },
    {
     "name": "stdout",
     "output_type": "stream",
     "text": [
      "Correct: 8875, total: 10000, accuracy: 0.8874999881, average loss: 0.0027418023\n"
     ]
    },
    {
     "name": "stderr",
     "output_type": "stream",
     "text": [
      "391it [00:23, 16.64it/s]"
     ]
    },
    {
     "name": "stdout",
     "output_type": "stream",
     "text": [
      "Epoch 113 finished, average loss: 0.0015701182\n",
      "Starting testing\n"
     ]
    },
    {
     "name": "stderr",
     "output_type": "stream",
     "text": [
      "\n"
     ]
    },
    {
     "name": "stdout",
     "output_type": "stream",
     "text": [
      "Correct: 8975, total: 10000, accuracy: 0.8974999785, average loss: 0.0024949093\n"
     ]
    },
    {
     "name": "stderr",
     "output_type": "stream",
     "text": [
      "391it [00:23, 16.66it/s]"
     ]
    },
    {
     "name": "stdout",
     "output_type": "stream",
     "text": [
      "Epoch 114 finished, average loss: 0.0015334302\n",
      "Starting testing\n"
     ]
    },
    {
     "name": "stderr",
     "output_type": "stream",
     "text": [
      "\n"
     ]
    },
    {
     "name": "stdout",
     "output_type": "stream",
     "text": [
      "Correct: 9020, total: 10000, accuracy: 0.9019999504, average loss: 0.0023385387\n"
     ]
    },
    {
     "name": "stderr",
     "output_type": "stream",
     "text": [
      "391it [00:23, 16.71it/s]"
     ]
    },
    {
     "name": "stdout",
     "output_type": "stream",
     "text": [
      "Epoch 115 finished, average loss: 0.0015177144\n",
      "Starting testing\n"
     ]
    },
    {
     "name": "stderr",
     "output_type": "stream",
     "text": [
      "\n"
     ]
    },
    {
     "name": "stdout",
     "output_type": "stream",
     "text": [
      "Correct: 8824, total: 10000, accuracy: 0.8823999763, average loss: 0.0029777164\n"
     ]
    },
    {
     "name": "stderr",
     "output_type": "stream",
     "text": [
      "391it [00:23, 16.70it/s]"
     ]
    },
    {
     "name": "stdout",
     "output_type": "stream",
     "text": [
      "Epoch 116 finished, average loss: 0.0015993118\n",
      "Starting testing\n"
     ]
    },
    {
     "name": "stderr",
     "output_type": "stream",
     "text": [
      "\n"
     ]
    },
    {
     "name": "stdout",
     "output_type": "stream",
     "text": [
      "Correct: 8963, total: 10000, accuracy: 0.8962999582, average loss: 0.0025349105\n"
     ]
    },
    {
     "name": "stderr",
     "output_type": "stream",
     "text": [
      "391it [00:23, 16.65it/s]"
     ]
    },
    {
     "name": "stdout",
     "output_type": "stream",
     "text": [
      "Epoch 117 finished, average loss: 0.0014935330\n",
      "Starting testing\n"
     ]
    },
    {
     "name": "stderr",
     "output_type": "stream",
     "text": [
      "\n"
     ]
    },
    {
     "name": "stdout",
     "output_type": "stream",
     "text": [
      "Correct: 8936, total: 10000, accuracy: 0.8935999870, average loss: 0.0024257361\n"
     ]
    },
    {
     "name": "stderr",
     "output_type": "stream",
     "text": [
      "391it [00:23, 16.66it/s]"
     ]
    },
    {
     "name": "stdout",
     "output_type": "stream",
     "text": [
      "Epoch 118 finished, average loss: 0.0015256049\n",
      "Starting testing\n"
     ]
    },
    {
     "name": "stderr",
     "output_type": "stream",
     "text": [
      "\n"
     ]
    },
    {
     "name": "stdout",
     "output_type": "stream",
     "text": [
      "Correct: 9004, total: 10000, accuracy: 0.9003999829, average loss: 0.0024009034\n"
     ]
    },
    {
     "name": "stderr",
     "output_type": "stream",
     "text": [
      "391it [00:23, 16.74it/s]"
     ]
    },
    {
     "name": "stdout",
     "output_type": "stream",
     "text": [
      "Epoch 119 finished, average loss: 0.0015222237\n",
      "Starting testing\n"
     ]
    },
    {
     "name": "stderr",
     "output_type": "stream",
     "text": [
      "\n"
     ]
    },
    {
     "name": "stdout",
     "output_type": "stream",
     "text": [
      "Correct: 8971, total: 10000, accuracy: 0.8970999718, average loss: 0.0025256706\n"
     ]
    },
    {
     "name": "stderr",
     "output_type": "stream",
     "text": [
      "391it [00:23, 16.68it/s]"
     ]
    },
    {
     "name": "stdout",
     "output_type": "stream",
     "text": [
      "Epoch 120 finished, average loss: 0.0015620777\n",
      "Starting testing\n"
     ]
    },
    {
     "name": "stderr",
     "output_type": "stream",
     "text": [
      "\n"
     ]
    },
    {
     "name": "stdout",
     "output_type": "stream",
     "text": [
      "Correct: 9000, total: 10000, accuracy: 0.8999999762, average loss: 0.0024135436\n"
     ]
    },
    {
     "name": "stderr",
     "output_type": "stream",
     "text": [
      "391it [00:23, 16.53it/s]"
     ]
    },
    {
     "name": "stdout",
     "output_type": "stream",
     "text": [
      "Epoch 121 finished, average loss: 0.0014995861\n",
      "Starting testing\n"
     ]
    },
    {
     "name": "stderr",
     "output_type": "stream",
     "text": [
      "\n"
     ]
    },
    {
     "name": "stdout",
     "output_type": "stream",
     "text": [
      "Correct: 9017, total: 10000, accuracy: 0.9016999602, average loss: 0.0023394893\n"
     ]
    },
    {
     "name": "stderr",
     "output_type": "stream",
     "text": [
      "391it [00:23, 16.58it/s]"
     ]
    },
    {
     "name": "stdout",
     "output_type": "stream",
     "text": [
      "Epoch 122 finished, average loss: 0.0014651746\n",
      "Starting testing\n"
     ]
    },
    {
     "name": "stderr",
     "output_type": "stream",
     "text": [
      "\n"
     ]
    },
    {
     "name": "stdout",
     "output_type": "stream",
     "text": [
      "Correct: 8898, total: 10000, accuracy: 0.8897999525, average loss: 0.0026663511\n"
     ]
    },
    {
     "name": "stderr",
     "output_type": "stream",
     "text": [
      "391it [00:23, 16.70it/s]"
     ]
    },
    {
     "name": "stdout",
     "output_type": "stream",
     "text": [
      "Epoch 123 finished, average loss: 0.0015316098\n",
      "Starting testing\n"
     ]
    },
    {
     "name": "stderr",
     "output_type": "stream",
     "text": [
      "\n"
     ]
    },
    {
     "name": "stdout",
     "output_type": "stream",
     "text": [
      "Correct: 8907, total: 10000, accuracy: 0.8906999826, average loss: 0.0026604419\n"
     ]
    },
    {
     "name": "stderr",
     "output_type": "stream",
     "text": [
      "391it [00:23, 16.66it/s]"
     ]
    },
    {
     "name": "stdout",
     "output_type": "stream",
     "text": [
      "Epoch 124 finished, average loss: 0.0015163499\n",
      "Starting testing\n"
     ]
    },
    {
     "name": "stderr",
     "output_type": "stream",
     "text": [
      "\n"
     ]
    },
    {
     "name": "stdout",
     "output_type": "stream",
     "text": [
      "Correct: 8937, total: 10000, accuracy: 0.8937000036, average loss: 0.0026355144\n"
     ]
    },
    {
     "name": "stderr",
     "output_type": "stream",
     "text": [
      "391it [00:23, 16.71it/s]"
     ]
    },
    {
     "name": "stdout",
     "output_type": "stream",
     "text": [
      "Epoch 125 finished, average loss: 0.0014858532\n",
      "Starting testing\n"
     ]
    },
    {
     "name": "stderr",
     "output_type": "stream",
     "text": [
      "\n"
     ]
    },
    {
     "name": "stdout",
     "output_type": "stream",
     "text": [
      "Correct: 9097, total: 10000, accuracy: 0.9096999764, average loss: 0.0022361460\n"
     ]
    },
    {
     "name": "stderr",
     "output_type": "stream",
     "text": [
      "391it [00:23, 16.73it/s]"
     ]
    },
    {
     "name": "stdout",
     "output_type": "stream",
     "text": [
      "Epoch 126 finished, average loss: 0.0015370175\n",
      "Starting testing\n"
     ]
    },
    {
     "name": "stderr",
     "output_type": "stream",
     "text": [
      "\n"
     ]
    },
    {
     "name": "stdout",
     "output_type": "stream",
     "text": [
      "Correct: 8968, total: 10000, accuracy: 0.8967999816, average loss: 0.0024086764\n"
     ]
    },
    {
     "name": "stderr",
     "output_type": "stream",
     "text": [
      "391it [00:23, 16.63it/s]"
     ]
    },
    {
     "name": "stdout",
     "output_type": "stream",
     "text": [
      "Epoch 127 finished, average loss: 0.0015231678\n",
      "Starting testing\n"
     ]
    },
    {
     "name": "stderr",
     "output_type": "stream",
     "text": [
      "\n"
     ]
    },
    {
     "name": "stdout",
     "output_type": "stream",
     "text": [
      "Correct: 8939, total: 10000, accuracy: 0.8938999772, average loss: 0.0025878100\n"
     ]
    },
    {
     "name": "stderr",
     "output_type": "stream",
     "text": [
      "391it [00:23, 16.59it/s]"
     ]
    },
    {
     "name": "stdout",
     "output_type": "stream",
     "text": [
      "Epoch 128 finished, average loss: 0.0014594255\n",
      "Starting testing\n"
     ]
    },
    {
     "name": "stderr",
     "output_type": "stream",
     "text": [
      "\n"
     ]
    },
    {
     "name": "stdout",
     "output_type": "stream",
     "text": [
      "Correct: 9011, total: 10000, accuracy: 0.9010999799, average loss: 0.0023033683\n"
     ]
    },
    {
     "name": "stderr",
     "output_type": "stream",
     "text": [
      "391it [00:23, 16.59it/s]"
     ]
    },
    {
     "name": "stdout",
     "output_type": "stream",
     "text": [
      "Epoch 129 finished, average loss: 0.0014694274\n",
      "Starting testing\n"
     ]
    },
    {
     "name": "stderr",
     "output_type": "stream",
     "text": [
      "\n"
     ]
    },
    {
     "name": "stdout",
     "output_type": "stream",
     "text": [
      "Correct: 8782, total: 10000, accuracy: 0.8781999946, average loss: 0.0029053180\n"
     ]
    },
    {
     "name": "stderr",
     "output_type": "stream",
     "text": [
      "391it [00:23, 16.61it/s]"
     ]
    },
    {
     "name": "stdout",
     "output_type": "stream",
     "text": [
      "Epoch 130 finished, average loss: 0.0014926896\n",
      "Starting testing\n"
     ]
    },
    {
     "name": "stderr",
     "output_type": "stream",
     "text": [
      "\n"
     ]
    },
    {
     "name": "stdout",
     "output_type": "stream",
     "text": [
      "Correct: 8900, total: 10000, accuracy: 0.8899999857, average loss: 0.0027505382\n"
     ]
    },
    {
     "name": "stderr",
     "output_type": "stream",
     "text": [
      "391it [00:23, 16.63it/s]"
     ]
    },
    {
     "name": "stdout",
     "output_type": "stream",
     "text": [
      "Epoch 131 finished, average loss: 0.0014855320\n",
      "Starting testing\n"
     ]
    },
    {
     "name": "stderr",
     "output_type": "stream",
     "text": [
      "\n"
     ]
    },
    {
     "name": "stdout",
     "output_type": "stream",
     "text": [
      "Correct: 9053, total: 10000, accuracy: 0.9052999616, average loss: 0.0023120901\n"
     ]
    },
    {
     "name": "stderr",
     "output_type": "stream",
     "text": [
      "391it [00:23, 16.68it/s]"
     ]
    },
    {
     "name": "stdout",
     "output_type": "stream",
     "text": [
      "Epoch 132 finished, average loss: 0.0014966620\n",
      "Starting testing\n"
     ]
    },
    {
     "name": "stderr",
     "output_type": "stream",
     "text": [
      "\n"
     ]
    },
    {
     "name": "stdout",
     "output_type": "stream",
     "text": [
      "Correct: 8964, total: 10000, accuracy: 0.8963999748, average loss: 0.0024922243\n"
     ]
    },
    {
     "name": "stderr",
     "output_type": "stream",
     "text": [
      "391it [00:23, 16.68it/s]"
     ]
    },
    {
     "name": "stdout",
     "output_type": "stream",
     "text": [
      "Epoch 133 finished, average loss: 0.0014815080\n",
      "Starting testing\n"
     ]
    },
    {
     "name": "stderr",
     "output_type": "stream",
     "text": [
      "\n"
     ]
    },
    {
     "name": "stdout",
     "output_type": "stream",
     "text": [
      "Correct: 8774, total: 10000, accuracy: 0.8773999810, average loss: 0.0031310195\n"
     ]
    },
    {
     "name": "stderr",
     "output_type": "stream",
     "text": [
      "391it [00:23, 16.66it/s]"
     ]
    },
    {
     "name": "stdout",
     "output_type": "stream",
     "text": [
      "Epoch 134 finished, average loss: 0.0014681251\n",
      "Starting testing\n"
     ]
    },
    {
     "name": "stderr",
     "output_type": "stream",
     "text": [
      "\n"
     ]
    },
    {
     "name": "stdout",
     "output_type": "stream",
     "text": [
      "Correct: 8850, total: 10000, accuracy: 0.8849999905, average loss: 0.0029311780\n"
     ]
    },
    {
     "name": "stderr",
     "output_type": "stream",
     "text": [
      "391it [00:23, 16.62it/s]"
     ]
    },
    {
     "name": "stdout",
     "output_type": "stream",
     "text": [
      "Epoch 135 finished, average loss: 0.0014910730\n",
      "Starting testing\n"
     ]
    },
    {
     "name": "stderr",
     "output_type": "stream",
     "text": [
      "\n"
     ]
    },
    {
     "name": "stdout",
     "output_type": "stream",
     "text": [
      "Correct: 8774, total: 10000, accuracy: 0.8773999810, average loss: 0.0030625009\n"
     ]
    },
    {
     "name": "stderr",
     "output_type": "stream",
     "text": [
      "391it [00:23, 16.62it/s]"
     ]
    },
    {
     "name": "stdout",
     "output_type": "stream",
     "text": [
      "Epoch 136 finished, average loss: 0.0014692454\n",
      "Starting testing\n"
     ]
    },
    {
     "name": "stderr",
     "output_type": "stream",
     "text": [
      "\n"
     ]
    },
    {
     "name": "stdout",
     "output_type": "stream",
     "text": [
      "Correct: 8960, total: 10000, accuracy: 0.8959999681, average loss: 0.0026570597\n"
     ]
    },
    {
     "name": "stderr",
     "output_type": "stream",
     "text": [
      "391it [00:23, 16.69it/s]"
     ]
    },
    {
     "name": "stdout",
     "output_type": "stream",
     "text": [
      "Epoch 137 finished, average loss: 0.0014686163\n",
      "Starting testing\n"
     ]
    },
    {
     "name": "stderr",
     "output_type": "stream",
     "text": [
      "\n"
     ]
    },
    {
     "name": "stdout",
     "output_type": "stream",
     "text": [
      "Correct: 9006, total: 10000, accuracy: 0.9005999565, average loss: 0.0023762339\n"
     ]
    },
    {
     "name": "stderr",
     "output_type": "stream",
     "text": [
      "391it [00:23, 16.59it/s]\n"
     ]
    },
    {
     "name": "stdout",
     "output_type": "stream",
     "text": [
      "Epoch 138 finished, average loss: 0.0014189965\n",
      "Starting testing\n",
      "Correct: 8961, total: 10000, accuracy: 0.8960999846, average loss: 0.0026140539\n"
     ]
    },
    {
     "name": "stderr",
     "output_type": "stream",
     "text": [
      "391it [00:23, 16.70it/s]"
     ]
    },
    {
     "name": "stdout",
     "output_type": "stream",
     "text": [
      "Epoch 139 finished, average loss: 0.0014715387\n",
      "Starting testing\n"
     ]
    },
    {
     "name": "stderr",
     "output_type": "stream",
     "text": [
      "\n"
     ]
    },
    {
     "name": "stdout",
     "output_type": "stream",
     "text": [
      "Correct: 8982, total: 10000, accuracy: 0.8981999755, average loss: 0.0025298972\n"
     ]
    },
    {
     "name": "stderr",
     "output_type": "stream",
     "text": [
      "391it [00:23, 16.75it/s]"
     ]
    },
    {
     "name": "stdout",
     "output_type": "stream",
     "text": [
      "Epoch 140 finished, average loss: 0.0014783228\n",
      "Starting testing\n"
     ]
    },
    {
     "name": "stderr",
     "output_type": "stream",
     "text": [
      "\n"
     ]
    },
    {
     "name": "stdout",
     "output_type": "stream",
     "text": [
      "Correct: 8783, total: 10000, accuracy: 0.8782999516, average loss: 0.0029716337\n"
     ]
    },
    {
     "name": "stderr",
     "output_type": "stream",
     "text": [
      "391it [00:23, 16.70it/s]"
     ]
    },
    {
     "name": "stdout",
     "output_type": "stream",
     "text": [
      "Epoch 141 finished, average loss: 0.0015468899\n",
      "Starting testing\n"
     ]
    },
    {
     "name": "stderr",
     "output_type": "stream",
     "text": [
      "\n"
     ]
    },
    {
     "name": "stdout",
     "output_type": "stream",
     "text": [
      "Correct: 9033, total: 10000, accuracy: 0.9032999873, average loss: 0.0023239905\n"
     ]
    },
    {
     "name": "stderr",
     "output_type": "stream",
     "text": [
      "391it [00:23, 16.62it/s]"
     ]
    },
    {
     "name": "stdout",
     "output_type": "stream",
     "text": [
      "Epoch 142 finished, average loss: 0.0014772649\n",
      "Starting testing\n"
     ]
    },
    {
     "name": "stderr",
     "output_type": "stream",
     "text": [
      "\n"
     ]
    },
    {
     "name": "stdout",
     "output_type": "stream",
     "text": [
      "Correct: 8854, total: 10000, accuracy: 0.8853999972, average loss: 0.0028429926\n"
     ]
    },
    {
     "name": "stderr",
     "output_type": "stream",
     "text": [
      "391it [00:23, 16.65it/s]"
     ]
    },
    {
     "name": "stdout",
     "output_type": "stream",
     "text": [
      "Epoch 143 finished, average loss: 0.0014305893\n",
      "Starting testing\n"
     ]
    },
    {
     "name": "stderr",
     "output_type": "stream",
     "text": [
      "\n"
     ]
    },
    {
     "name": "stdout",
     "output_type": "stream",
     "text": [
      "Correct: 8846, total: 10000, accuracy: 0.8845999837, average loss: 0.0028989955\n"
     ]
    },
    {
     "name": "stderr",
     "output_type": "stream",
     "text": [
      "391it [00:23, 16.75it/s]"
     ]
    },
    {
     "name": "stdout",
     "output_type": "stream",
     "text": [
      "Epoch 144 finished, average loss: 0.0014945215\n",
      "Starting testing\n"
     ]
    },
    {
     "name": "stderr",
     "output_type": "stream",
     "text": [
      "\n"
     ]
    },
    {
     "name": "stdout",
     "output_type": "stream",
     "text": [
      "Correct: 9018, total: 10000, accuracy: 0.9017999768, average loss: 0.0024463296\n"
     ]
    },
    {
     "name": "stderr",
     "output_type": "stream",
     "text": [
      "391it [00:23, 16.63it/s]\n"
     ]
    },
    {
     "name": "stdout",
     "output_type": "stream",
     "text": [
      "Epoch 145 finished, average loss: 0.0014664743\n",
      "Starting testing\n",
      "Correct: 8974, total: 10000, accuracy: 0.8973999619, average loss: 0.0026065187\n"
     ]
    },
    {
     "name": "stderr",
     "output_type": "stream",
     "text": [
      "391it [00:23, 16.65it/s]"
     ]
    },
    {
     "name": "stdout",
     "output_type": "stream",
     "text": [
      "Epoch 146 finished, average loss: 0.0014808726\n",
      "Starting testing\n"
     ]
    },
    {
     "name": "stderr",
     "output_type": "stream",
     "text": [
      "\n"
     ]
    },
    {
     "name": "stdout",
     "output_type": "stream",
     "text": [
      "Correct: 9078, total: 10000, accuracy: 0.9077999592, average loss: 0.0021858717\n"
     ]
    },
    {
     "name": "stderr",
     "output_type": "stream",
     "text": [
      "391it [00:23, 16.68it/s]"
     ]
    },
    {
     "name": "stdout",
     "output_type": "stream",
     "text": [
      "Epoch 147 finished, average loss: 0.0014272339\n",
      "Starting testing\n"
     ]
    },
    {
     "name": "stderr",
     "output_type": "stream",
     "text": [
      "\n"
     ]
    },
    {
     "name": "stdout",
     "output_type": "stream",
     "text": [
      "Correct: 8919, total: 10000, accuracy: 0.8919000030, average loss: 0.0026188036\n"
     ]
    },
    {
     "name": "stderr",
     "output_type": "stream",
     "text": [
      "391it [00:23, 16.73it/s]"
     ]
    },
    {
     "name": "stdout",
     "output_type": "stream",
     "text": [
      "Epoch 148 finished, average loss: 0.0014265493\n",
      "Starting testing\n"
     ]
    },
    {
     "name": "stderr",
     "output_type": "stream",
     "text": [
      "\n"
     ]
    },
    {
     "name": "stdout",
     "output_type": "stream",
     "text": [
      "Correct: 8903, total: 10000, accuracy: 0.8902999759, average loss: 0.0027164155\n"
     ]
    },
    {
     "name": "stderr",
     "output_type": "stream",
     "text": [
      "391it [00:23, 16.62it/s]"
     ]
    },
    {
     "name": "stdout",
     "output_type": "stream",
     "text": [
      "Epoch 149 finished, average loss: 0.0013843684\n",
      "Starting testing\n"
     ]
    },
    {
     "name": "stderr",
     "output_type": "stream",
     "text": [
      "\n"
     ]
    },
    {
     "name": "stdout",
     "output_type": "stream",
     "text": [
      "Correct: 9089, total: 10000, accuracy: 0.9088999629, average loss: 0.0022798158\n"
     ]
    },
    {
     "name": "stderr",
     "output_type": "stream",
     "text": [
      "391it [00:23, 16.64it/s]"
     ]
    },
    {
     "name": "stdout",
     "output_type": "stream",
     "text": [
      "Epoch 150 finished, average loss: 0.0014341478\n",
      "Starting testing\n"
     ]
    },
    {
     "name": "stderr",
     "output_type": "stream",
     "text": [
      "\n"
     ]
    },
    {
     "name": "stdout",
     "output_type": "stream",
     "text": [
      "Correct: 9141, total: 10000, accuracy: 0.9140999913, average loss: 0.0020906911\n"
     ]
    },
    {
     "name": "stderr",
     "output_type": "stream",
     "text": [
      "391it [00:23, 16.69it/s]"
     ]
    },
    {
     "name": "stdout",
     "output_type": "stream",
     "text": [
      "Epoch 151 finished, average loss: 0.0013973780\n",
      "Starting testing\n"
     ]
    },
    {
     "name": "stderr",
     "output_type": "stream",
     "text": [
      "\n"
     ]
    },
    {
     "name": "stdout",
     "output_type": "stream",
     "text": [
      "Correct: 9053, total: 10000, accuracy: 0.9052999616, average loss: 0.0023285083\n"
     ]
    },
    {
     "name": "stderr",
     "output_type": "stream",
     "text": [
      "391it [00:23, 16.73it/s]"
     ]
    },
    {
     "name": "stdout",
     "output_type": "stream",
     "text": [
      "Epoch 152 finished, average loss: 0.0014517270\n",
      "Starting testing\n"
     ]
    },
    {
     "name": "stderr",
     "output_type": "stream",
     "text": [
      "\n"
     ]
    },
    {
     "name": "stdout",
     "output_type": "stream",
     "text": [
      "Correct: 9000, total: 10000, accuracy: 0.8999999762, average loss: 0.0024401302\n"
     ]
    },
    {
     "name": "stderr",
     "output_type": "stream",
     "text": [
      "391it [00:23, 16.67it/s]"
     ]
    },
    {
     "name": "stdout",
     "output_type": "stream",
     "text": [
      "Epoch 153 finished, average loss: 0.0014621633\n",
      "Starting testing\n"
     ]
    },
    {
     "name": "stderr",
     "output_type": "stream",
     "text": [
      "\n"
     ]
    },
    {
     "name": "stdout",
     "output_type": "stream",
     "text": [
      "Correct: 8977, total: 10000, accuracy: 0.8976999521, average loss: 0.0025144753\n"
     ]
    },
    {
     "name": "stderr",
     "output_type": "stream",
     "text": [
      "391it [00:23, 16.72it/s]"
     ]
    },
    {
     "name": "stdout",
     "output_type": "stream",
     "text": [
      "Epoch 154 finished, average loss: 0.0014367669\n",
      "Starting testing\n"
     ]
    },
    {
     "name": "stderr",
     "output_type": "stream",
     "text": [
      "\n"
     ]
    },
    {
     "name": "stdout",
     "output_type": "stream",
     "text": [
      "Correct: 9002, total: 10000, accuracy: 0.9001999497, average loss: 0.0024141479\n"
     ]
    },
    {
     "name": "stderr",
     "output_type": "stream",
     "text": [
      "391it [00:23, 16.65it/s]"
     ]
    },
    {
     "name": "stdout",
     "output_type": "stream",
     "text": [
      "Epoch 155 finished, average loss: 0.0014517804\n",
      "Starting testing\n"
     ]
    },
    {
     "name": "stderr",
     "output_type": "stream",
     "text": [
      "\n"
     ]
    },
    {
     "name": "stdout",
     "output_type": "stream",
     "text": [
      "Correct: 9012, total: 10000, accuracy: 0.9011999965, average loss: 0.0024614986\n"
     ]
    },
    {
     "name": "stderr",
     "output_type": "stream",
     "text": [
      "391it [00:23, 16.69it/s]"
     ]
    },
    {
     "name": "stdout",
     "output_type": "stream",
     "text": [
      "Epoch 156 finished, average loss: 0.0013909707\n",
      "Starting testing\n"
     ]
    },
    {
     "name": "stderr",
     "output_type": "stream",
     "text": [
      "\n"
     ]
    },
    {
     "name": "stdout",
     "output_type": "stream",
     "text": [
      "Correct: 8807, total: 10000, accuracy: 0.8806999922, average loss: 0.0030671954\n"
     ]
    },
    {
     "name": "stderr",
     "output_type": "stream",
     "text": [
      "391it [00:23, 16.70it/s]"
     ]
    },
    {
     "name": "stdout",
     "output_type": "stream",
     "text": [
      "Epoch 157 finished, average loss: 0.0014356295\n",
      "Starting testing\n"
     ]
    },
    {
     "name": "stderr",
     "output_type": "stream",
     "text": [
      "\n"
     ]
    },
    {
     "name": "stdout",
     "output_type": "stream",
     "text": [
      "Correct: 9047, total: 10000, accuracy: 0.9046999812, average loss: 0.0023164306\n"
     ]
    },
    {
     "name": "stderr",
     "output_type": "stream",
     "text": [
      "391it [00:23, 16.68it/s]"
     ]
    },
    {
     "name": "stdout",
     "output_type": "stream",
     "text": [
      "Epoch 158 finished, average loss: 0.0013978363\n",
      "Starting testing\n"
     ]
    },
    {
     "name": "stderr",
     "output_type": "stream",
     "text": [
      "\n"
     ]
    },
    {
     "name": "stdout",
     "output_type": "stream",
     "text": [
      "Correct: 8676, total: 10000, accuracy: 0.8675999641, average loss: 0.0037022883\n"
     ]
    },
    {
     "name": "stderr",
     "output_type": "stream",
     "text": [
      "391it [00:23, 16.69it/s]"
     ]
    },
    {
     "name": "stdout",
     "output_type": "stream",
     "text": [
      "Epoch 159 finished, average loss: 0.0014983872\n",
      "Starting testing\n"
     ]
    },
    {
     "name": "stderr",
     "output_type": "stream",
     "text": [
      "\n"
     ]
    },
    {
     "name": "stdout",
     "output_type": "stream",
     "text": [
      "Correct: 9104, total: 10000, accuracy: 0.9103999734, average loss: 0.0021932954\n"
     ]
    },
    {
     "name": "stderr",
     "output_type": "stream",
     "text": [
      "391it [00:23, 16.65it/s]"
     ]
    },
    {
     "name": "stdout",
     "output_type": "stream",
     "text": [
      "Epoch 160 finished, average loss: 0.0013872214\n",
      "Starting testing\n"
     ]
    },
    {
     "name": "stderr",
     "output_type": "stream",
     "text": [
      "\n"
     ]
    },
    {
     "name": "stdout",
     "output_type": "stream",
     "text": [
      "Correct: 9044, total: 10000, accuracy: 0.9043999910, average loss: 0.0022663106\n"
     ]
    },
    {
     "name": "stderr",
     "output_type": "stream",
     "text": [
      "391it [00:23, 16.64it/s]"
     ]
    },
    {
     "name": "stdout",
     "output_type": "stream",
     "text": [
      "Epoch 161 finished, average loss: 0.0013455515\n",
      "Starting testing\n"
     ]
    },
    {
     "name": "stderr",
     "output_type": "stream",
     "text": [
      "\n"
     ]
    },
    {
     "name": "stdout",
     "output_type": "stream",
     "text": [
      "Correct: 8889, total: 10000, accuracy: 0.8888999820, average loss: 0.0028124271\n"
     ]
    },
    {
     "name": "stderr",
     "output_type": "stream",
     "text": [
      "391it [00:23, 16.59it/s]"
     ]
    },
    {
     "name": "stdout",
     "output_type": "stream",
     "text": [
      "Epoch 162 finished, average loss: 0.0013710912\n",
      "Starting testing\n"
     ]
    },
    {
     "name": "stderr",
     "output_type": "stream",
     "text": [
      "\n"
     ]
    },
    {
     "name": "stdout",
     "output_type": "stream",
     "text": [
      "Correct: 9016, total: 10000, accuracy: 0.9016000032, average loss: 0.0024608472\n"
     ]
    },
    {
     "name": "stderr",
     "output_type": "stream",
     "text": [
      "391it [00:23, 16.68it/s]"
     ]
    },
    {
     "name": "stdout",
     "output_type": "stream",
     "text": [
      "Epoch 163 finished, average loss: 0.0014150443\n",
      "Starting testing\n"
     ]
    },
    {
     "name": "stderr",
     "output_type": "stream",
     "text": [
      "\n"
     ]
    },
    {
     "name": "stdout",
     "output_type": "stream",
     "text": [
      "Correct: 8959, total: 10000, accuracy: 0.8958999515, average loss: 0.0024420129\n"
     ]
    },
    {
     "name": "stderr",
     "output_type": "stream",
     "text": [
      "391it [00:23, 16.71it/s]"
     ]
    },
    {
     "name": "stdout",
     "output_type": "stream",
     "text": [
      "Epoch 164 finished, average loss: 0.0014449904\n",
      "Starting testing\n"
     ]
    },
    {
     "name": "stderr",
     "output_type": "stream",
     "text": [
      "\n"
     ]
    },
    {
     "name": "stdout",
     "output_type": "stream",
     "text": [
      "Correct: 8985, total: 10000, accuracy: 0.8984999657, average loss: 0.0026199132\n"
     ]
    },
    {
     "name": "stderr",
     "output_type": "stream",
     "text": [
      "391it [00:23, 16.66it/s]"
     ]
    },
    {
     "name": "stdout",
     "output_type": "stream",
     "text": [
      "Epoch 165 finished, average loss: 0.0014563050\n",
      "Starting testing\n"
     ]
    },
    {
     "name": "stderr",
     "output_type": "stream",
     "text": [
      "\n"
     ]
    },
    {
     "name": "stdout",
     "output_type": "stream",
     "text": [
      "Correct: 9014, total: 10000, accuracy: 0.9013999701, average loss: 0.0024076593\n"
     ]
    },
    {
     "name": "stderr",
     "output_type": "stream",
     "text": [
      "391it [00:23, 16.68it/s]"
     ]
    },
    {
     "name": "stdout",
     "output_type": "stream",
     "text": [
      "Epoch 166 finished, average loss: 0.0014126287\n",
      "Starting testing\n"
     ]
    },
    {
     "name": "stderr",
     "output_type": "stream",
     "text": [
      "\n"
     ]
    },
    {
     "name": "stdout",
     "output_type": "stream",
     "text": [
      "Correct: 9070, total: 10000, accuracy: 0.9070000052, average loss: 0.0022240444\n"
     ]
    },
    {
     "name": "stderr",
     "output_type": "stream",
     "text": [
      "391it [00:23, 16.66it/s]"
     ]
    },
    {
     "name": "stdout",
     "output_type": "stream",
     "text": [
      "Epoch 167 finished, average loss: 0.0014219461\n",
      "Starting testing\n"
     ]
    },
    {
     "name": "stderr",
     "output_type": "stream",
     "text": [
      "\n"
     ]
    },
    {
     "name": "stdout",
     "output_type": "stream",
     "text": [
      "Correct: 9062, total: 10000, accuracy: 0.9061999917, average loss: 0.0022907027\n"
     ]
    },
    {
     "name": "stderr",
     "output_type": "stream",
     "text": [
      "391it [00:23, 16.62it/s]"
     ]
    },
    {
     "name": "stdout",
     "output_type": "stream",
     "text": [
      "Epoch 168 finished, average loss: 0.0014082721\n",
      "Starting testing\n"
     ]
    },
    {
     "name": "stderr",
     "output_type": "stream",
     "text": [
      "\n"
     ]
    },
    {
     "name": "stdout",
     "output_type": "stream",
     "text": [
      "Correct: 8922, total: 10000, accuracy: 0.8921999931, average loss: 0.0025845787\n"
     ]
    },
    {
     "name": "stderr",
     "output_type": "stream",
     "text": [
      "391it [00:23, 16.66it/s]"
     ]
    },
    {
     "name": "stdout",
     "output_type": "stream",
     "text": [
      "Epoch 169 finished, average loss: 0.0014171521\n",
      "Starting testing\n"
     ]
    },
    {
     "name": "stderr",
     "output_type": "stream",
     "text": [
      "\n"
     ]
    },
    {
     "name": "stdout",
     "output_type": "stream",
     "text": [
      "Correct: 8980, total: 10000, accuracy: 0.8980000019, average loss: 0.0024801724\n"
     ]
    },
    {
     "name": "stderr",
     "output_type": "stream",
     "text": [
      "391it [00:23, 16.71it/s]"
     ]
    },
    {
     "name": "stdout",
     "output_type": "stream",
     "text": [
      "Epoch 170 finished, average loss: 0.0014087579\n",
      "Starting testing\n"
     ]
    },
    {
     "name": "stderr",
     "output_type": "stream",
     "text": [
      "\n"
     ]
    },
    {
     "name": "stdout",
     "output_type": "stream",
     "text": [
      "Correct: 9103, total: 10000, accuracy: 0.9102999568, average loss: 0.0022405890\n"
     ]
    },
    {
     "name": "stderr",
     "output_type": "stream",
     "text": [
      "391it [00:23, 16.65it/s]"
     ]
    },
    {
     "name": "stdout",
     "output_type": "stream",
     "text": [
      "Epoch 171 finished, average loss: 0.0013980335\n",
      "Starting testing\n"
     ]
    },
    {
     "name": "stderr",
     "output_type": "stream",
     "text": [
      "\n"
     ]
    },
    {
     "name": "stdout",
     "output_type": "stream",
     "text": [
      "Correct: 9109, total: 10000, accuracy: 0.9108999968, average loss: 0.0021405339\n"
     ]
    },
    {
     "name": "stderr",
     "output_type": "stream",
     "text": [
      "391it [00:23, 16.61it/s]"
     ]
    },
    {
     "name": "stdout",
     "output_type": "stream",
     "text": [
      "Epoch 172 finished, average loss: 0.0014035732\n",
      "Starting testing\n"
     ]
    },
    {
     "name": "stderr",
     "output_type": "stream",
     "text": [
      "\n"
     ]
    },
    {
     "name": "stdout",
     "output_type": "stream",
     "text": [
      "Correct: 8872, total: 10000, accuracy: 0.8871999979, average loss: 0.0027561583\n"
     ]
    },
    {
     "name": "stderr",
     "output_type": "stream",
     "text": [
      "391it [00:23, 16.66it/s]"
     ]
    },
    {
     "name": "stdout",
     "output_type": "stream",
     "text": [
      "Epoch 173 finished, average loss: 0.0013559720\n",
      "Starting testing\n"
     ]
    },
    {
     "name": "stderr",
     "output_type": "stream",
     "text": [
      "\n"
     ]
    },
    {
     "name": "stdout",
     "output_type": "stream",
     "text": [
      "Correct: 8935, total: 10000, accuracy: 0.8934999704, average loss: 0.0026532525\n"
     ]
    },
    {
     "name": "stderr",
     "output_type": "stream",
     "text": [
      "391it [00:23, 16.59it/s]"
     ]
    },
    {
     "name": "stdout",
     "output_type": "stream",
     "text": [
      "Epoch 174 finished, average loss: 0.0014107061\n",
      "Starting testing\n"
     ]
    },
    {
     "name": "stderr",
     "output_type": "stream",
     "text": [
      "\n"
     ]
    },
    {
     "name": "stdout",
     "output_type": "stream",
     "text": [
      "Correct: 9082, total: 10000, accuracy: 0.9081999660, average loss: 0.0022384029\n"
     ]
    },
    {
     "name": "stderr",
     "output_type": "stream",
     "text": [
      "391it [00:23, 16.66it/s]"
     ]
    },
    {
     "name": "stdout",
     "output_type": "stream",
     "text": [
      "Epoch 175 finished, average loss: 0.0014570925\n",
      "Starting testing\n"
     ]
    },
    {
     "name": "stderr",
     "output_type": "stream",
     "text": [
      "\n"
     ]
    },
    {
     "name": "stdout",
     "output_type": "stream",
     "text": [
      "Correct: 8977, total: 10000, accuracy: 0.8976999521, average loss: 0.0025377194\n"
     ]
    },
    {
     "name": "stderr",
     "output_type": "stream",
     "text": [
      "391it [00:23, 16.67it/s]"
     ]
    },
    {
     "name": "stdout",
     "output_type": "stream",
     "text": [
      "Epoch 176 finished, average loss: 0.0013363161\n",
      "Starting testing\n"
     ]
    },
    {
     "name": "stderr",
     "output_type": "stream",
     "text": [
      "\n"
     ]
    },
    {
     "name": "stdout",
     "output_type": "stream",
     "text": [
      "Correct: 8847, total: 10000, accuracy: 0.8847000003, average loss: 0.0028357380\n"
     ]
    },
    {
     "name": "stderr",
     "output_type": "stream",
     "text": [
      "391it [00:23, 16.65it/s]"
     ]
    },
    {
     "name": "stdout",
     "output_type": "stream",
     "text": [
      "Epoch 177 finished, average loss: 0.0013823111\n",
      "Starting testing\n"
     ]
    },
    {
     "name": "stderr",
     "output_type": "stream",
     "text": [
      "\n"
     ]
    },
    {
     "name": "stdout",
     "output_type": "stream",
     "text": [
      "Correct: 8946, total: 10000, accuracy: 0.8945999742, average loss: 0.0025240534\n"
     ]
    },
    {
     "name": "stderr",
     "output_type": "stream",
     "text": [
      "391it [00:23, 16.69it/s]"
     ]
    },
    {
     "name": "stdout",
     "output_type": "stream",
     "text": [
      "Epoch 178 finished, average loss: 0.0013856594\n",
      "Starting testing\n"
     ]
    },
    {
     "name": "stderr",
     "output_type": "stream",
     "text": [
      "\n"
     ]
    },
    {
     "name": "stdout",
     "output_type": "stream",
     "text": [
      "Correct: 9071, total: 10000, accuracy: 0.9070999622, average loss: 0.0023382219\n"
     ]
    },
    {
     "name": "stderr",
     "output_type": "stream",
     "text": [
      "391it [00:23, 16.68it/s]"
     ]
    },
    {
     "name": "stdout",
     "output_type": "stream",
     "text": [
      "Epoch 179 finished, average loss: 0.0013465191\n",
      "Starting testing\n"
     ]
    },
    {
     "name": "stderr",
     "output_type": "stream",
     "text": [
      "\n"
     ]
    },
    {
     "name": "stdout",
     "output_type": "stream",
     "text": [
      "Correct: 8882, total: 10000, accuracy: 0.8881999850, average loss: 0.0027735375\n"
     ]
    },
    {
     "name": "stderr",
     "output_type": "stream",
     "text": [
      "391it [00:23, 16.58it/s]"
     ]
    },
    {
     "name": "stdout",
     "output_type": "stream",
     "text": [
      "Epoch 180 finished, average loss: 0.0013778187\n",
      "Starting testing\n"
     ]
    },
    {
     "name": "stderr",
     "output_type": "stream",
     "text": [
      "\n"
     ]
    },
    {
     "name": "stdout",
     "output_type": "stream",
     "text": [
      "Correct: 9102, total: 10000, accuracy: 0.9101999998, average loss: 0.0022759102\n"
     ]
    },
    {
     "name": "stderr",
     "output_type": "stream",
     "text": [
      "391it [00:23, 16.67it/s]"
     ]
    },
    {
     "name": "stdout",
     "output_type": "stream",
     "text": [
      "Epoch 181 finished, average loss: 0.0013643248\n",
      "Starting testing\n"
     ]
    },
    {
     "name": "stderr",
     "output_type": "stream",
     "text": [
      "\n"
     ]
    },
    {
     "name": "stdout",
     "output_type": "stream",
     "text": [
      "Correct: 8792, total: 10000, accuracy: 0.8791999817, average loss: 0.0031139349\n"
     ]
    },
    {
     "name": "stderr",
     "output_type": "stream",
     "text": [
      "391it [00:23, 16.79it/s]"
     ]
    },
    {
     "name": "stdout",
     "output_type": "stream",
     "text": [
      "Epoch 182 finished, average loss: 0.0014175010\n",
      "Starting testing\n"
     ]
    },
    {
     "name": "stderr",
     "output_type": "stream",
     "text": [
      "\n"
     ]
    },
    {
     "name": "stdout",
     "output_type": "stream",
     "text": [
      "Correct: 9057, total: 10000, accuracy: 0.9056999683, average loss: 0.0023426373\n"
     ]
    },
    {
     "name": "stderr",
     "output_type": "stream",
     "text": [
      "391it [00:23, 16.69it/s]"
     ]
    },
    {
     "name": "stdout",
     "output_type": "stream",
     "text": [
      "Epoch 183 finished, average loss: 0.0013970382\n",
      "Starting testing\n"
     ]
    },
    {
     "name": "stderr",
     "output_type": "stream",
     "text": [
      "\n"
     ]
    },
    {
     "name": "stdout",
     "output_type": "stream",
     "text": [
      "Correct: 9015, total: 10000, accuracy: 0.9014999866, average loss: 0.0024670539\n"
     ]
    },
    {
     "name": "stderr",
     "output_type": "stream",
     "text": [
      "391it [00:23, 16.67it/s]"
     ]
    },
    {
     "name": "stdout",
     "output_type": "stream",
     "text": [
      "Epoch 184 finished, average loss: 0.0013669233\n",
      "Starting testing\n"
     ]
    },
    {
     "name": "stderr",
     "output_type": "stream",
     "text": [
      "\n"
     ]
    },
    {
     "name": "stdout",
     "output_type": "stream",
     "text": [
      "Correct: 9049, total: 10000, accuracy: 0.9048999548, average loss: 0.0022355413\n"
     ]
    },
    {
     "name": "stderr",
     "output_type": "stream",
     "text": [
      "391it [00:23, 16.63it/s]"
     ]
    },
    {
     "name": "stdout",
     "output_type": "stream",
     "text": [
      "Epoch 185 finished, average loss: 0.0013682848\n",
      "Starting testing\n"
     ]
    },
    {
     "name": "stderr",
     "output_type": "stream",
     "text": [
      "\n"
     ]
    },
    {
     "name": "stdout",
     "output_type": "stream",
     "text": [
      "Correct: 9111, total: 10000, accuracy: 0.9110999703, average loss: 0.0022558203\n"
     ]
    },
    {
     "name": "stderr",
     "output_type": "stream",
     "text": [
      "391it [00:23, 16.64it/s]"
     ]
    },
    {
     "name": "stdout",
     "output_type": "stream",
     "text": [
      "Epoch 186 finished, average loss: 0.0014089234\n",
      "Starting testing\n"
     ]
    },
    {
     "name": "stderr",
     "output_type": "stream",
     "text": [
      "\n"
     ]
    },
    {
     "name": "stdout",
     "output_type": "stream",
     "text": [
      "Correct: 8878, total: 10000, accuracy: 0.8877999783, average loss: 0.0028186686\n"
     ]
    },
    {
     "name": "stderr",
     "output_type": "stream",
     "text": [
      "391it [00:23, 16.66it/s]"
     ]
    },
    {
     "name": "stdout",
     "output_type": "stream",
     "text": [
      "Epoch 187 finished, average loss: 0.0013727226\n",
      "Starting testing\n"
     ]
    },
    {
     "name": "stderr",
     "output_type": "stream",
     "text": [
      "\n"
     ]
    },
    {
     "name": "stdout",
     "output_type": "stream",
     "text": [
      "Correct: 9056, total: 10000, accuracy: 0.9055999517, average loss: 0.0022434839\n"
     ]
    },
    {
     "name": "stderr",
     "output_type": "stream",
     "text": [
      "391it [00:23, 16.62it/s]"
     ]
    },
    {
     "name": "stdout",
     "output_type": "stream",
     "text": [
      "Epoch 188 finished, average loss: 0.0013711856\n",
      "Starting testing\n"
     ]
    },
    {
     "name": "stderr",
     "output_type": "stream",
     "text": [
      "\n"
     ]
    },
    {
     "name": "stdout",
     "output_type": "stream",
     "text": [
      "Correct: 9075, total: 10000, accuracy: 0.9074999690, average loss: 0.0022361433\n"
     ]
    },
    {
     "name": "stderr",
     "output_type": "stream",
     "text": [
      "391it [00:23, 16.64it/s]"
     ]
    },
    {
     "name": "stdout",
     "output_type": "stream",
     "text": [
      "Epoch 189 finished, average loss: 0.0013916225\n",
      "Starting testing\n"
     ]
    },
    {
     "name": "stderr",
     "output_type": "stream",
     "text": [
      "\n"
     ]
    },
    {
     "name": "stdout",
     "output_type": "stream",
     "text": [
      "Correct: 8994, total: 10000, accuracy: 0.8993999958, average loss: 0.0025079045\n"
     ]
    },
    {
     "name": "stderr",
     "output_type": "stream",
     "text": [
      "391it [00:23, 16.64it/s]"
     ]
    },
    {
     "name": "stdout",
     "output_type": "stream",
     "text": [
      "Epoch 190 finished, average loss: 0.0013414144\n",
      "Starting testing\n"
     ]
    },
    {
     "name": "stderr",
     "output_type": "stream",
     "text": [
      "\n"
     ]
    },
    {
     "name": "stdout",
     "output_type": "stream",
     "text": [
      "Correct: 8908, total: 10000, accuracy: 0.8907999992, average loss: 0.0028286087\n"
     ]
    },
    {
     "name": "stderr",
     "output_type": "stream",
     "text": [
      "391it [00:23, 16.65it/s]"
     ]
    },
    {
     "name": "stdout",
     "output_type": "stream",
     "text": [
      "Epoch 191 finished, average loss: 0.0013942354\n",
      "Starting testing\n"
     ]
    },
    {
     "name": "stderr",
     "output_type": "stream",
     "text": [
      "\n"
     ]
    },
    {
     "name": "stdout",
     "output_type": "stream",
     "text": [
      "Correct: 8957, total: 10000, accuracy: 0.8956999779, average loss: 0.0027751170\n"
     ]
    },
    {
     "name": "stderr",
     "output_type": "stream",
     "text": [
      "391it [00:23, 16.71it/s]"
     ]
    },
    {
     "name": "stdout",
     "output_type": "stream",
     "text": [
      "Epoch 192 finished, average loss: 0.0014500960\n",
      "Starting testing\n"
     ]
    },
    {
     "name": "stderr",
     "output_type": "stream",
     "text": [
      "\n"
     ]
    },
    {
     "name": "stdout",
     "output_type": "stream",
     "text": [
      "Correct: 8977, total: 10000, accuracy: 0.8976999521, average loss: 0.0025682625\n"
     ]
    },
    {
     "name": "stderr",
     "output_type": "stream",
     "text": [
      "391it [00:23, 16.63it/s]"
     ]
    },
    {
     "name": "stdout",
     "output_type": "stream",
     "text": [
      "Epoch 193 finished, average loss: 0.0013874319\n",
      "Starting testing\n"
     ]
    },
    {
     "name": "stderr",
     "output_type": "stream",
     "text": [
      "\n"
     ]
    },
    {
     "name": "stdout",
     "output_type": "stream",
     "text": [
      "Correct: 9000, total: 10000, accuracy: 0.8999999762, average loss: 0.0023872647\n"
     ]
    },
    {
     "name": "stderr",
     "output_type": "stream",
     "text": [
      "391it [00:23, 16.65it/s]"
     ]
    },
    {
     "name": "stdout",
     "output_type": "stream",
     "text": [
      "Epoch 194 finished, average loss: 0.0013899532\n",
      "Starting testing\n"
     ]
    },
    {
     "name": "stderr",
     "output_type": "stream",
     "text": [
      "\n"
     ]
    },
    {
     "name": "stdout",
     "output_type": "stream",
     "text": [
      "Correct: 8948, total: 10000, accuracy: 0.8947999477, average loss: 0.0025923376\n"
     ]
    },
    {
     "name": "stderr",
     "output_type": "stream",
     "text": [
      "391it [00:23, 16.65it/s]"
     ]
    },
    {
     "name": "stdout",
     "output_type": "stream",
     "text": [
      "Epoch 195 finished, average loss: 0.0013621057\n",
      "Starting testing\n"
     ]
    },
    {
     "name": "stderr",
     "output_type": "stream",
     "text": [
      "\n"
     ]
    },
    {
     "name": "stdout",
     "output_type": "stream",
     "text": [
      "Correct: 9044, total: 10000, accuracy: 0.9043999910, average loss: 0.0023726549\n"
     ]
    },
    {
     "name": "stderr",
     "output_type": "stream",
     "text": [
      "391it [00:23, 16.65it/s]"
     ]
    },
    {
     "name": "stdout",
     "output_type": "stream",
     "text": [
      "Epoch 196 finished, average loss: 0.0013658875\n",
      "Starting testing\n"
     ]
    },
    {
     "name": "stderr",
     "output_type": "stream",
     "text": [
      "\n"
     ]
    },
    {
     "name": "stdout",
     "output_type": "stream",
     "text": [
      "Correct: 8878, total: 10000, accuracy: 0.8877999783, average loss: 0.0027972213\n"
     ]
    },
    {
     "name": "stderr",
     "output_type": "stream",
     "text": [
      "391it [00:23, 16.61it/s]"
     ]
    },
    {
     "name": "stdout",
     "output_type": "stream",
     "text": [
      "Epoch 197 finished, average loss: 0.0013665586\n",
      "Starting testing\n"
     ]
    },
    {
     "name": "stderr",
     "output_type": "stream",
     "text": [
      "\n"
     ]
    },
    {
     "name": "stdout",
     "output_type": "stream",
     "text": [
      "Correct: 8946, total: 10000, accuracy: 0.8945999742, average loss: 0.0026286384\n"
     ]
    },
    {
     "name": "stderr",
     "output_type": "stream",
     "text": [
      "391it [00:23, 16.71it/s]"
     ]
    },
    {
     "name": "stdout",
     "output_type": "stream",
     "text": [
      "Epoch 198 finished, average loss: 0.0013554994\n",
      "Starting testing\n"
     ]
    },
    {
     "name": "stderr",
     "output_type": "stream",
     "text": [
      "\n"
     ]
    },
    {
     "name": "stdout",
     "output_type": "stream",
     "text": [
      "Correct: 9023, total: 10000, accuracy: 0.9023000002, average loss: 0.0023399578\n"
     ]
    },
    {
     "name": "stderr",
     "output_type": "stream",
     "text": [
      "391it [00:23, 16.63it/s]"
     ]
    },
    {
     "name": "stdout",
     "output_type": "stream",
     "text": [
      "Epoch 199 finished, average loss: 0.0013764589\n",
      "Starting testing\n"
     ]
    },
    {
     "name": "stderr",
     "output_type": "stream",
     "text": [
      "\n"
     ]
    },
    {
     "name": "stdout",
     "output_type": "stream",
     "text": [
      "Correct: 9043, total: 10000, accuracy: 0.9042999744, average loss: 0.0022920035\n"
     ]
    },
    {
     "name": "stderr",
     "output_type": "stream",
     "text": [
      "391it [00:23, 16.70it/s]"
     ]
    },
    {
     "name": "stdout",
     "output_type": "stream",
     "text": [
      "Epoch 200 finished, average loss: 0.0014140691\n",
      "Starting testing\n"
     ]
    },
    {
     "name": "stderr",
     "output_type": "stream",
     "text": [
      "\n"
     ]
    },
    {
     "name": "stdout",
     "output_type": "stream",
     "text": [
      "Correct: 9069, total: 10000, accuracy: 0.9068999887, average loss: 0.0023332230\n"
     ]
    },
    {
     "name": "stderr",
     "output_type": "stream",
     "text": [
      "391it [00:23, 16.64it/s]"
     ]
    },
    {
     "name": "stdout",
     "output_type": "stream",
     "text": [
      "Epoch 201 finished, average loss: 0.0013351461\n",
      "Starting testing\n"
     ]
    },
    {
     "name": "stderr",
     "output_type": "stream",
     "text": [
      "\n"
     ]
    },
    {
     "name": "stdout",
     "output_type": "stream",
     "text": [
      "Correct: 8903, total: 10000, accuracy: 0.8902999759, average loss: 0.0027393374\n"
     ]
    },
    {
     "name": "stderr",
     "output_type": "stream",
     "text": [
      "391it [00:23, 16.71it/s]"
     ]
    },
    {
     "name": "stdout",
     "output_type": "stream",
     "text": [
      "Epoch 202 finished, average loss: 0.0013018896\n",
      "Starting testing\n"
     ]
    },
    {
     "name": "stderr",
     "output_type": "stream",
     "text": [
      "\n"
     ]
    },
    {
     "name": "stdout",
     "output_type": "stream",
     "text": [
      "Correct: 9066, total: 10000, accuracy: 0.9065999985, average loss: 0.0023865924\n"
     ]
    },
    {
     "name": "stderr",
     "output_type": "stream",
     "text": [
      "391it [00:23, 16.67it/s]"
     ]
    },
    {
     "name": "stdout",
     "output_type": "stream",
     "text": [
      "Epoch 203 finished, average loss: 0.0013847105\n",
      "Starting testing\n"
     ]
    },
    {
     "name": "stderr",
     "output_type": "stream",
     "text": [
      "\n"
     ]
    },
    {
     "name": "stdout",
     "output_type": "stream",
     "text": [
      "Correct: 9085, total: 10000, accuracy: 0.9084999561, average loss: 0.0021939830\n"
     ]
    },
    {
     "name": "stderr",
     "output_type": "stream",
     "text": [
      "391it [00:23, 16.67it/s]"
     ]
    },
    {
     "name": "stdout",
     "output_type": "stream",
     "text": [
      "Epoch 204 finished, average loss: 0.0013574788\n",
      "Starting testing\n"
     ]
    },
    {
     "name": "stderr",
     "output_type": "stream",
     "text": [
      "\n"
     ]
    },
    {
     "name": "stdout",
     "output_type": "stream",
     "text": [
      "Correct: 8964, total: 10000, accuracy: 0.8963999748, average loss: 0.0023897378\n"
     ]
    },
    {
     "name": "stderr",
     "output_type": "stream",
     "text": [
      "391it [00:23, 16.68it/s]"
     ]
    },
    {
     "name": "stdout",
     "output_type": "stream",
     "text": [
      "Epoch 205 finished, average loss: 0.0013687422\n",
      "Starting testing\n"
     ]
    },
    {
     "name": "stderr",
     "output_type": "stream",
     "text": [
      "\n"
     ]
    },
    {
     "name": "stdout",
     "output_type": "stream",
     "text": [
      "Correct: 9086, total: 10000, accuracy: 0.9085999727, average loss: 0.0021798000\n"
     ]
    },
    {
     "name": "stderr",
     "output_type": "stream",
     "text": [
      "391it [00:23, 16.69it/s]"
     ]
    },
    {
     "name": "stdout",
     "output_type": "stream",
     "text": [
      "Epoch 206 finished, average loss: 0.0013716043\n",
      "Starting testing\n"
     ]
    },
    {
     "name": "stderr",
     "output_type": "stream",
     "text": [
      "\n"
     ]
    },
    {
     "name": "stdout",
     "output_type": "stream",
     "text": [
      "Correct: 9045, total: 10000, accuracy: 0.9044999480, average loss: 0.0023932744\n"
     ]
    },
    {
     "name": "stderr",
     "output_type": "stream",
     "text": [
      "391it [00:23, 16.71it/s]"
     ]
    },
    {
     "name": "stdout",
     "output_type": "stream",
     "text": [
      "Epoch 207 finished, average loss: 0.0013532075\n",
      "Starting testing\n"
     ]
    },
    {
     "name": "stderr",
     "output_type": "stream",
     "text": [
      "\n"
     ]
    },
    {
     "name": "stdout",
     "output_type": "stream",
     "text": [
      "Correct: 8990, total: 10000, accuracy: 0.8989999890, average loss: 0.0024845622\n"
     ]
    },
    {
     "name": "stderr",
     "output_type": "stream",
     "text": [
      "391it [00:23, 16.65it/s]"
     ]
    },
    {
     "name": "stdout",
     "output_type": "stream",
     "text": [
      "Epoch 208 finished, average loss: 0.0013783265\n",
      "Starting testing\n"
     ]
    },
    {
     "name": "stderr",
     "output_type": "stream",
     "text": [
      "\n"
     ]
    },
    {
     "name": "stdout",
     "output_type": "stream",
     "text": [
      "Correct: 9070, total: 10000, accuracy: 0.9070000052, average loss: 0.0022284982\n"
     ]
    },
    {
     "name": "stderr",
     "output_type": "stream",
     "text": [
      "391it [00:23, 16.64it/s]"
     ]
    },
    {
     "name": "stdout",
     "output_type": "stream",
     "text": [
      "Epoch 209 finished, average loss: 0.0013356837\n",
      "Starting testing\n"
     ]
    },
    {
     "name": "stderr",
     "output_type": "stream",
     "text": [
      "\n"
     ]
    },
    {
     "name": "stdout",
     "output_type": "stream",
     "text": [
      "Correct: 8998, total: 10000, accuracy: 0.8998000026, average loss: 0.0024393454\n"
     ]
    },
    {
     "name": "stderr",
     "output_type": "stream",
     "text": [
      "391it [00:23, 16.66it/s]"
     ]
    },
    {
     "name": "stdout",
     "output_type": "stream",
     "text": [
      "Epoch 210 finished, average loss: 0.0013794351\n",
      "Starting testing\n"
     ]
    },
    {
     "name": "stderr",
     "output_type": "stream",
     "text": [
      "\n"
     ]
    },
    {
     "name": "stdout",
     "output_type": "stream",
     "text": [
      "Correct: 8970, total: 10000, accuracy: 0.8969999552, average loss: 0.0025878744\n"
     ]
    },
    {
     "name": "stderr",
     "output_type": "stream",
     "text": [
      "391it [00:23, 16.74it/s]"
     ]
    },
    {
     "name": "stdout",
     "output_type": "stream",
     "text": [
      "Epoch 211 finished, average loss: 0.0013563738\n",
      "Starting testing\n"
     ]
    },
    {
     "name": "stderr",
     "output_type": "stream",
     "text": [
      "\n"
     ]
    },
    {
     "name": "stdout",
     "output_type": "stream",
     "text": [
      "Correct: 9015, total: 10000, accuracy: 0.9014999866, average loss: 0.0023298764\n"
     ]
    },
    {
     "name": "stderr",
     "output_type": "stream",
     "text": [
      "391it [00:23, 16.58it/s]"
     ]
    },
    {
     "name": "stdout",
     "output_type": "stream",
     "text": [
      "Epoch 212 finished, average loss: 0.0013337573\n",
      "Starting testing\n"
     ]
    },
    {
     "name": "stderr",
     "output_type": "stream",
     "text": [
      "\n"
     ]
    },
    {
     "name": "stdout",
     "output_type": "stream",
     "text": [
      "Correct: 8970, total: 10000, accuracy: 0.8969999552, average loss: 0.0026045300\n"
     ]
    },
    {
     "name": "stderr",
     "output_type": "stream",
     "text": [
      "391it [00:23, 16.74it/s]"
     ]
    },
    {
     "name": "stdout",
     "output_type": "stream",
     "text": [
      "Epoch 213 finished, average loss: 0.0013402113\n",
      "Starting testing\n"
     ]
    },
    {
     "name": "stderr",
     "output_type": "stream",
     "text": [
      "\n"
     ]
    },
    {
     "name": "stdout",
     "output_type": "stream",
     "text": [
      "Correct: 8978, total: 10000, accuracy: 0.8977999687, average loss: 0.0026509264\n"
     ]
    },
    {
     "name": "stderr",
     "output_type": "stream",
     "text": [
      "391it [00:23, 16.64it/s]"
     ]
    },
    {
     "name": "stdout",
     "output_type": "stream",
     "text": [
      "Epoch 214 finished, average loss: 0.0013579809\n",
      "Starting testing\n"
     ]
    },
    {
     "name": "stderr",
     "output_type": "stream",
     "text": [
      "\n"
     ]
    },
    {
     "name": "stdout",
     "output_type": "stream",
     "text": [
      "Correct: 8905, total: 10000, accuracy: 0.8904999495, average loss: 0.0029364422\n"
     ]
    },
    {
     "name": "stderr",
     "output_type": "stream",
     "text": [
      "391it [00:23, 16.71it/s]"
     ]
    },
    {
     "name": "stdout",
     "output_type": "stream",
     "text": [
      "Epoch 215 finished, average loss: 0.0013104908\n",
      "Starting testing\n"
     ]
    },
    {
     "name": "stderr",
     "output_type": "stream",
     "text": [
      "\n"
     ]
    },
    {
     "name": "stdout",
     "output_type": "stream",
     "text": [
      "Correct: 9015, total: 10000, accuracy: 0.9014999866, average loss: 0.0024603766\n"
     ]
    },
    {
     "name": "stderr",
     "output_type": "stream",
     "text": [
      "391it [00:23, 16.72it/s]"
     ]
    },
    {
     "name": "stdout",
     "output_type": "stream",
     "text": [
      "Epoch 216 finished, average loss: 0.0013530697\n",
      "Starting testing\n"
     ]
    },
    {
     "name": "stderr",
     "output_type": "stream",
     "text": [
      "\n"
     ]
    },
    {
     "name": "stdout",
     "output_type": "stream",
     "text": [
      "Correct: 9076, total: 10000, accuracy: 0.9075999856, average loss: 0.0023432178\n"
     ]
    },
    {
     "name": "stderr",
     "output_type": "stream",
     "text": [
      "391it [00:23, 16.70it/s]"
     ]
    },
    {
     "name": "stdout",
     "output_type": "stream",
     "text": [
      "Epoch 217 finished, average loss: 0.0013570815\n",
      "Starting testing\n"
     ]
    },
    {
     "name": "stderr",
     "output_type": "stream",
     "text": [
      "\n"
     ]
    },
    {
     "name": "stdout",
     "output_type": "stream",
     "text": [
      "Correct: 8924, total: 10000, accuracy: 0.8923999667, average loss: 0.0026735580\n"
     ]
    },
    {
     "name": "stderr",
     "output_type": "stream",
     "text": [
      "391it [00:23, 16.64it/s]"
     ]
    },
    {
     "name": "stdout",
     "output_type": "stream",
     "text": [
      "Epoch 218 finished, average loss: 0.0013771620\n",
      "Starting testing\n"
     ]
    },
    {
     "name": "stderr",
     "output_type": "stream",
     "text": [
      "\n"
     ]
    },
    {
     "name": "stdout",
     "output_type": "stream",
     "text": [
      "Correct: 9122, total: 10000, accuracy: 0.9121999741, average loss: 0.0021564447\n"
     ]
    },
    {
     "name": "stderr",
     "output_type": "stream",
     "text": [
      "391it [00:23, 16.73it/s]"
     ]
    },
    {
     "name": "stdout",
     "output_type": "stream",
     "text": [
      "Epoch 219 finished, average loss: 0.0013604683\n",
      "Starting testing\n"
     ]
    },
    {
     "name": "stderr",
     "output_type": "stream",
     "text": [
      "\n"
     ]
    },
    {
     "name": "stdout",
     "output_type": "stream",
     "text": [
      "Correct: 8756, total: 10000, accuracy: 0.8755999804, average loss: 0.0033462091\n"
     ]
    },
    {
     "name": "stderr",
     "output_type": "stream",
     "text": [
      "391it [00:23, 16.66it/s]"
     ]
    },
    {
     "name": "stdout",
     "output_type": "stream",
     "text": [
      "Epoch 220 finished, average loss: 0.0012899657\n",
      "Starting testing\n"
     ]
    },
    {
     "name": "stderr",
     "output_type": "stream",
     "text": [
      "\n"
     ]
    },
    {
     "name": "stdout",
     "output_type": "stream",
     "text": [
      "Correct: 9133, total: 10000, accuracy: 0.9132999778, average loss: 0.0021391560\n"
     ]
    },
    {
     "name": "stderr",
     "output_type": "stream",
     "text": [
      "391it [00:23, 16.66it/s]"
     ]
    },
    {
     "name": "stdout",
     "output_type": "stream",
     "text": [
      "Epoch 221 finished, average loss: 0.0013473035\n",
      "Starting testing\n"
     ]
    },
    {
     "name": "stderr",
     "output_type": "stream",
     "text": [
      "\n"
     ]
    },
    {
     "name": "stdout",
     "output_type": "stream",
     "text": [
      "Correct: 9022, total: 10000, accuracy: 0.9021999836, average loss: 0.0024403365\n"
     ]
    },
    {
     "name": "stderr",
     "output_type": "stream",
     "text": [
      "391it [00:23, 16.67it/s]"
     ]
    },
    {
     "name": "stdout",
     "output_type": "stream",
     "text": [
      "Epoch 222 finished, average loss: 0.0013415449\n",
      "Starting testing\n"
     ]
    },
    {
     "name": "stderr",
     "output_type": "stream",
     "text": [
      "\n"
     ]
    },
    {
     "name": "stdout",
     "output_type": "stream",
     "text": [
      "Correct: 9060, total: 10000, accuracy: 0.9059999585, average loss: 0.0023828333\n"
     ]
    },
    {
     "name": "stderr",
     "output_type": "stream",
     "text": [
      "391it [00:23, 16.72it/s]"
     ]
    },
    {
     "name": "stdout",
     "output_type": "stream",
     "text": [
      "Epoch 223 finished, average loss: 0.0013443822\n",
      "Starting testing\n"
     ]
    },
    {
     "name": "stderr",
     "output_type": "stream",
     "text": [
      "\n"
     ]
    },
    {
     "name": "stdout",
     "output_type": "stream",
     "text": [
      "Correct: 9016, total: 10000, accuracy: 0.9016000032, average loss: 0.0024506616\n"
     ]
    },
    {
     "name": "stderr",
     "output_type": "stream",
     "text": [
      "391it [00:23, 16.67it/s]"
     ]
    },
    {
     "name": "stdout",
     "output_type": "stream",
     "text": [
      "Epoch 224 finished, average loss: 0.0013674248\n",
      "Starting testing\n"
     ]
    },
    {
     "name": "stderr",
     "output_type": "stream",
     "text": [
      "\n"
     ]
    },
    {
     "name": "stdout",
     "output_type": "stream",
     "text": [
      "Correct: 9020, total: 10000, accuracy: 0.9019999504, average loss: 0.0023253586\n"
     ]
    },
    {
     "name": "stderr",
     "output_type": "stream",
     "text": [
      "391it [00:23, 16.70it/s]"
     ]
    },
    {
     "name": "stdout",
     "output_type": "stream",
     "text": [
      "Epoch 225 finished, average loss: 0.0013111379\n",
      "Starting testing\n"
     ]
    },
    {
     "name": "stderr",
     "output_type": "stream",
     "text": [
      "\n"
     ]
    },
    {
     "name": "stdout",
     "output_type": "stream",
     "text": [
      "Correct: 9028, total: 10000, accuracy: 0.9027999640, average loss: 0.0024747229\n"
     ]
    },
    {
     "name": "stderr",
     "output_type": "stream",
     "text": [
      "391it [00:23, 16.57it/s]"
     ]
    },
    {
     "name": "stdout",
     "output_type": "stream",
     "text": [
      "Epoch 226 finished, average loss: 0.0013398086\n",
      "Starting testing\n"
     ]
    },
    {
     "name": "stderr",
     "output_type": "stream",
     "text": [
      "\n"
     ]
    },
    {
     "name": "stdout",
     "output_type": "stream",
     "text": [
      "Correct: 9146, total: 10000, accuracy: 0.9145999551, average loss: 0.0020681071\n"
     ]
    },
    {
     "name": "stderr",
     "output_type": "stream",
     "text": [
      "391it [00:23, 16.63it/s]"
     ]
    },
    {
     "name": "stdout",
     "output_type": "stream",
     "text": [
      "Epoch 227 finished, average loss: 0.0012935132\n",
      "Starting testing\n"
     ]
    },
    {
     "name": "stderr",
     "output_type": "stream",
     "text": [
      "\n"
     ]
    },
    {
     "name": "stdout",
     "output_type": "stream",
     "text": [
      "Correct: 9046, total: 10000, accuracy: 0.9045999646, average loss: 0.0022078349\n"
     ]
    },
    {
     "name": "stderr",
     "output_type": "stream",
     "text": [
      "391it [00:23, 16.69it/s]"
     ]
    },
    {
     "name": "stdout",
     "output_type": "stream",
     "text": [
      "Epoch 228 finished, average loss: 0.0013304965\n",
      "Starting testing\n"
     ]
    },
    {
     "name": "stderr",
     "output_type": "stream",
     "text": [
      "\n"
     ]
    },
    {
     "name": "stdout",
     "output_type": "stream",
     "text": [
      "Correct: 9024, total: 10000, accuracy: 0.9023999572, average loss: 0.0024023412\n"
     ]
    },
    {
     "name": "stderr",
     "output_type": "stream",
     "text": [
      "391it [00:23, 16.72it/s]"
     ]
    },
    {
     "name": "stdout",
     "output_type": "stream",
     "text": [
      "Epoch 229 finished, average loss: 0.0013690571\n",
      "Starting testing\n"
     ]
    },
    {
     "name": "stderr",
     "output_type": "stream",
     "text": [
      "\n"
     ]
    },
    {
     "name": "stdout",
     "output_type": "stream",
     "text": [
      "Correct: 9004, total: 10000, accuracy: 0.9003999829, average loss: 0.0026036470\n"
     ]
    },
    {
     "name": "stderr",
     "output_type": "stream",
     "text": [
      "391it [00:23, 16.68it/s]"
     ]
    },
    {
     "name": "stdout",
     "output_type": "stream",
     "text": [
      "Epoch 230 finished, average loss: 0.0013533012\n",
      "Starting testing\n"
     ]
    },
    {
     "name": "stderr",
     "output_type": "stream",
     "text": [
      "\n"
     ]
    },
    {
     "name": "stdout",
     "output_type": "stream",
     "text": [
      "Correct: 9111, total: 10000, accuracy: 0.9110999703, average loss: 0.0021781652\n"
     ]
    },
    {
     "name": "stderr",
     "output_type": "stream",
     "text": [
      "391it [00:23, 16.61it/s]"
     ]
    },
    {
     "name": "stdout",
     "output_type": "stream",
     "text": [
      "Epoch 231 finished, average loss: 0.0012925989\n",
      "Starting testing\n"
     ]
    },
    {
     "name": "stderr",
     "output_type": "stream",
     "text": [
      "\n"
     ]
    },
    {
     "name": "stdout",
     "output_type": "stream",
     "text": [
      "Correct: 8957, total: 10000, accuracy: 0.8956999779, average loss: 0.0025104292\n"
     ]
    },
    {
     "name": "stderr",
     "output_type": "stream",
     "text": [
      "391it [00:23, 16.56it/s]"
     ]
    },
    {
     "name": "stdout",
     "output_type": "stream",
     "text": [
      "Epoch 232 finished, average loss: 0.0012996123\n",
      "Starting testing\n"
     ]
    },
    {
     "name": "stderr",
     "output_type": "stream",
     "text": [
      "\n"
     ]
    },
    {
     "name": "stdout",
     "output_type": "stream",
     "text": [
      "Correct: 9054, total: 10000, accuracy: 0.9053999782, average loss: 0.0023428722\n"
     ]
    },
    {
     "name": "stderr",
     "output_type": "stream",
     "text": [
      "391it [00:23, 16.74it/s]"
     ]
    },
    {
     "name": "stdout",
     "output_type": "stream",
     "text": [
      "Epoch 233 finished, average loss: 0.0013300680\n",
      "Starting testing\n"
     ]
    },
    {
     "name": "stderr",
     "output_type": "stream",
     "text": [
      "\n"
     ]
    },
    {
     "name": "stdout",
     "output_type": "stream",
     "text": [
      "Correct: 8940, total: 10000, accuracy: 0.8939999938, average loss: 0.0026458269\n"
     ]
    },
    {
     "name": "stderr",
     "output_type": "stream",
     "text": [
      "391it [00:23, 16.67it/s]"
     ]
    },
    {
     "name": "stdout",
     "output_type": "stream",
     "text": [
      "Epoch 234 finished, average loss: 0.0013599267\n",
      "Starting testing\n"
     ]
    },
    {
     "name": "stderr",
     "output_type": "stream",
     "text": [
      "\n"
     ]
    },
    {
     "name": "stdout",
     "output_type": "stream",
     "text": [
      "Correct: 9017, total: 10000, accuracy: 0.9016999602, average loss: 0.0024612886\n"
     ]
    },
    {
     "name": "stderr",
     "output_type": "stream",
     "text": [
      "391it [00:23, 16.59it/s]"
     ]
    },
    {
     "name": "stdout",
     "output_type": "stream",
     "text": [
      "Epoch 235 finished, average loss: 0.0013362723\n",
      "Starting testing\n"
     ]
    },
    {
     "name": "stderr",
     "output_type": "stream",
     "text": [
      "\n"
     ]
    },
    {
     "name": "stdout",
     "output_type": "stream",
     "text": [
      "Correct: 8853, total: 10000, accuracy: 0.8852999806, average loss: 0.0029157075\n"
     ]
    },
    {
     "name": "stderr",
     "output_type": "stream",
     "text": [
      "391it [00:23, 16.71it/s]"
     ]
    },
    {
     "name": "stdout",
     "output_type": "stream",
     "text": [
      "Epoch 236 finished, average loss: 0.0013354046\n",
      "Starting testing\n"
     ]
    },
    {
     "name": "stderr",
     "output_type": "stream",
     "text": [
      "\n"
     ]
    },
    {
     "name": "stdout",
     "output_type": "stream",
     "text": [
      "Correct: 8927, total: 10000, accuracy: 0.8926999569, average loss: 0.0026454983\n"
     ]
    },
    {
     "name": "stderr",
     "output_type": "stream",
     "text": [
      "391it [00:23, 16.63it/s]"
     ]
    },
    {
     "name": "stdout",
     "output_type": "stream",
     "text": [
      "Epoch 237 finished, average loss: 0.0013205390\n",
      "Starting testing\n"
     ]
    },
    {
     "name": "stderr",
     "output_type": "stream",
     "text": [
      "\n"
     ]
    },
    {
     "name": "stdout",
     "output_type": "stream",
     "text": [
      "Correct: 8888, total: 10000, accuracy: 0.8887999654, average loss: 0.0030021331\n"
     ]
    },
    {
     "name": "stderr",
     "output_type": "stream",
     "text": [
      "391it [00:23, 16.68it/s]"
     ]
    },
    {
     "name": "stdout",
     "output_type": "stream",
     "text": [
      "Epoch 238 finished, average loss: 0.0013698721\n",
      "Starting testing\n"
     ]
    },
    {
     "name": "stderr",
     "output_type": "stream",
     "text": [
      "\n"
     ]
    },
    {
     "name": "stdout",
     "output_type": "stream",
     "text": [
      "Correct: 8950, total: 10000, accuracy: 0.8949999809, average loss: 0.0026694504\n"
     ]
    },
    {
     "name": "stderr",
     "output_type": "stream",
     "text": [
      "391it [00:23, 16.67it/s]"
     ]
    },
    {
     "name": "stdout",
     "output_type": "stream",
     "text": [
      "Epoch 239 finished, average loss: 0.0012865598\n",
      "Starting testing\n"
     ]
    },
    {
     "name": "stderr",
     "output_type": "stream",
     "text": [
      "\n"
     ]
    },
    {
     "name": "stdout",
     "output_type": "stream",
     "text": [
      "Correct: 9132, total: 10000, accuracy: 0.9131999612, average loss: 0.0022541098\n"
     ]
    },
    {
     "name": "stderr",
     "output_type": "stream",
     "text": [
      "391it [00:23, 16.64it/s]\n"
     ]
    },
    {
     "name": "stdout",
     "output_type": "stream",
     "text": [
      "Epoch 240 finished, average loss: 0.0013204083\n",
      "Starting testing\n",
      "Correct: 9081, total: 10000, accuracy: 0.9080999494, average loss: 0.0022684626\n"
     ]
    },
    {
     "name": "stderr",
     "output_type": "stream",
     "text": [
      "391it [00:23, 16.64it/s]"
     ]
    },
    {
     "name": "stdout",
     "output_type": "stream",
     "text": [
      "Epoch 241 finished, average loss: 0.0012810471\n",
      "Starting testing\n"
     ]
    },
    {
     "name": "stderr",
     "output_type": "stream",
     "text": [
      "\n"
     ]
    },
    {
     "name": "stdout",
     "output_type": "stream",
     "text": [
      "Correct: 9033, total: 10000, accuracy: 0.9032999873, average loss: 0.0024170062\n"
     ]
    },
    {
     "name": "stderr",
     "output_type": "stream",
     "text": [
      "391it [00:23, 16.76it/s]"
     ]
    },
    {
     "name": "stdout",
     "output_type": "stream",
     "text": [
      "Epoch 242 finished, average loss: 0.0013341018\n",
      "Starting testing\n"
     ]
    },
    {
     "name": "stderr",
     "output_type": "stream",
     "text": [
      "\n"
     ]
    },
    {
     "name": "stdout",
     "output_type": "stream",
     "text": [
      "Correct: 9084, total: 10000, accuracy: 0.9083999991, average loss: 0.0022020074\n"
     ]
    },
    {
     "name": "stderr",
     "output_type": "stream",
     "text": [
      "391it [00:23, 16.64it/s]"
     ]
    },
    {
     "name": "stdout",
     "output_type": "stream",
     "text": [
      "Epoch 243 finished, average loss: 0.0012720195\n",
      "Starting testing\n"
     ]
    },
    {
     "name": "stderr",
     "output_type": "stream",
     "text": [
      "\n"
     ]
    },
    {
     "name": "stdout",
     "output_type": "stream",
     "text": [
      "Correct: 9055, total: 10000, accuracy: 0.9054999948, average loss: 0.0022724451\n"
     ]
    },
    {
     "name": "stderr",
     "output_type": "stream",
     "text": [
      "391it [00:23, 16.64it/s]"
     ]
    },
    {
     "name": "stdout",
     "output_type": "stream",
     "text": [
      "Epoch 244 finished, average loss: 0.0013124918\n",
      "Starting testing\n"
     ]
    },
    {
     "name": "stderr",
     "output_type": "stream",
     "text": [
      "\n"
     ]
    },
    {
     "name": "stdout",
     "output_type": "stream",
     "text": [
      "Correct: 9082, total: 10000, accuracy: 0.9081999660, average loss: 0.0022470354\n"
     ]
    },
    {
     "name": "stderr",
     "output_type": "stream",
     "text": [
      "391it [00:23, 16.64it/s]"
     ]
    },
    {
     "name": "stdout",
     "output_type": "stream",
     "text": [
      "Epoch 245 finished, average loss: 0.0013132222\n",
      "Starting testing\n"
     ]
    },
    {
     "name": "stderr",
     "output_type": "stream",
     "text": [
      "\n"
     ]
    },
    {
     "name": "stdout",
     "output_type": "stream",
     "text": [
      "Correct: 9067, total: 10000, accuracy: 0.9066999555, average loss: 0.0022098378\n"
     ]
    },
    {
     "name": "stderr",
     "output_type": "stream",
     "text": [
      "391it [00:23, 16.67it/s]"
     ]
    },
    {
     "name": "stdout",
     "output_type": "stream",
     "text": [
      "Epoch 246 finished, average loss: 0.0013149702\n",
      "Starting testing\n"
     ]
    },
    {
     "name": "stderr",
     "output_type": "stream",
     "text": [
      "\n"
     ]
    },
    {
     "name": "stdout",
     "output_type": "stream",
     "text": [
      "Correct: 9108, total: 10000, accuracy: 0.9107999802, average loss: 0.0021601559\n"
     ]
    },
    {
     "name": "stderr",
     "output_type": "stream",
     "text": [
      "391it [00:23, 16.60it/s]"
     ]
    },
    {
     "name": "stdout",
     "output_type": "stream",
     "text": [
      "Epoch 247 finished, average loss: 0.0013258599\n",
      "Starting testing\n"
     ]
    },
    {
     "name": "stderr",
     "output_type": "stream",
     "text": [
      "\n"
     ]
    },
    {
     "name": "stdout",
     "output_type": "stream",
     "text": [
      "Correct: 8961, total: 10000, accuracy: 0.8960999846, average loss: 0.0025678713\n"
     ]
    },
    {
     "name": "stderr",
     "output_type": "stream",
     "text": [
      "391it [00:24, 15.71it/s]"
     ]
    },
    {
     "name": "stdout",
     "output_type": "stream",
     "text": [
      "Epoch 248 finished, average loss: 0.0012969305\n",
      "Starting testing\n"
     ]
    },
    {
     "name": "stderr",
     "output_type": "stream",
     "text": [
      "\n"
     ]
    },
    {
     "name": "stdout",
     "output_type": "stream",
     "text": [
      "Correct: 9096, total: 10000, accuracy: 0.9095999599, average loss: 0.0021141881\n"
     ]
    },
    {
     "name": "stderr",
     "output_type": "stream",
     "text": [
      "391it [00:24, 15.71it/s]"
     ]
    },
    {
     "name": "stdout",
     "output_type": "stream",
     "text": [
      "Epoch 249 finished, average loss: 0.0013086239\n",
      "Starting testing\n"
     ]
    },
    {
     "name": "stderr",
     "output_type": "stream",
     "text": [
      "\n"
     ]
    },
    {
     "name": "stdout",
     "output_type": "stream",
     "text": [
      "Correct: 8839, total: 10000, accuracy: 0.8838999867, average loss: 0.0029902880\n"
     ]
    },
    {
     "name": "stderr",
     "output_type": "stream",
     "text": [
      "391it [00:24, 15.77it/s]"
     ]
    },
    {
     "name": "stdout",
     "output_type": "stream",
     "text": [
      "Epoch 250 finished, average loss: 0.0013615121\n",
      "Starting testing\n"
     ]
    },
    {
     "name": "stderr",
     "output_type": "stream",
     "text": [
      "\n"
     ]
    },
    {
     "name": "stdout",
     "output_type": "stream",
     "text": [
      "Correct: 8923, total: 10000, accuracy: 0.8922999501, average loss: 0.0028492581\n"
     ]
    },
    {
     "name": "stderr",
     "output_type": "stream",
     "text": [
      "391it [00:24, 15.81it/s]"
     ]
    },
    {
     "name": "stdout",
     "output_type": "stream",
     "text": [
      "Epoch 251 finished, average loss: 0.0008072575\n",
      "Starting testing\n"
     ]
    },
    {
     "name": "stderr",
     "output_type": "stream",
     "text": [
      "\n"
     ]
    },
    {
     "name": "stdout",
     "output_type": "stream",
     "text": [
      "Correct: 9364, total: 10000, accuracy: 0.9363999963, average loss: 0.0015621853\n"
     ]
    },
    {
     "name": "stderr",
     "output_type": "stream",
     "text": [
      "391it [00:24, 15.76it/s]"
     ]
    },
    {
     "name": "stdout",
     "output_type": "stream",
     "text": [
      "Epoch 252 finished, average loss: 0.0005880363\n",
      "Starting testing\n"
     ]
    },
    {
     "name": "stderr",
     "output_type": "stream",
     "text": [
      "\n"
     ]
    },
    {
     "name": "stdout",
     "output_type": "stream",
     "text": [
      "Correct: 9366, total: 10000, accuracy: 0.9365999699, average loss: 0.0015095404\n"
     ]
    },
    {
     "name": "stderr",
     "output_type": "stream",
     "text": [
      "391it [00:24, 15.65it/s]"
     ]
    },
    {
     "name": "stdout",
     "output_type": "stream",
     "text": [
      "Epoch 253 finished, average loss: 0.0005073004\n",
      "Starting testing\n"
     ]
    },
    {
     "name": "stderr",
     "output_type": "stream",
     "text": [
      "\n"
     ]
    },
    {
     "name": "stdout",
     "output_type": "stream",
     "text": [
      "Correct: 9368, total: 10000, accuracy: 0.9368000031, average loss: 0.0015302051\n"
     ]
    },
    {
     "name": "stderr",
     "output_type": "stream",
     "text": [
      "391it [00:24, 15.69it/s]"
     ]
    },
    {
     "name": "stdout",
     "output_type": "stream",
     "text": [
      "Epoch 254 finished, average loss: 0.0004521937\n",
      "Starting testing\n"
     ]
    },
    {
     "name": "stderr",
     "output_type": "stream",
     "text": [
      "\n"
     ]
    },
    {
     "name": "stdout",
     "output_type": "stream",
     "text": [
      "Correct: 9377, total: 10000, accuracy: 0.9376999736, average loss: 0.0015351490\n"
     ]
    },
    {
     "name": "stderr",
     "output_type": "stream",
     "text": [
      "391it [00:24, 15.71it/s]"
     ]
    },
    {
     "name": "stdout",
     "output_type": "stream",
     "text": [
      "Epoch 255 finished, average loss: 0.0004504639\n",
      "Starting testing\n"
     ]
    },
    {
     "name": "stderr",
     "output_type": "stream",
     "text": [
      "\n"
     ]
    },
    {
     "name": "stdout",
     "output_type": "stream",
     "text": [
      "Correct: 9409, total: 10000, accuracy: 0.9408999681, average loss: 0.0014535375\n"
     ]
    },
    {
     "name": "stderr",
     "output_type": "stream",
     "text": [
      "391it [00:25, 15.57it/s]"
     ]
    },
    {
     "name": "stdout",
     "output_type": "stream",
     "text": [
      "Epoch 256 finished, average loss: 0.0004040770\n",
      "Starting testing\n"
     ]
    },
    {
     "name": "stderr",
     "output_type": "stream",
     "text": [
      "\n"
     ]
    },
    {
     "name": "stdout",
     "output_type": "stream",
     "text": [
      "Correct: 9403, total: 10000, accuracy: 0.9402999878, average loss: 0.0015088630\n"
     ]
    },
    {
     "name": "stderr",
     "output_type": "stream",
     "text": [
      "391it [00:25, 15.63it/s]"
     ]
    },
    {
     "name": "stdout",
     "output_type": "stream",
     "text": [
      "Epoch 257 finished, average loss: 0.0003636086\n",
      "Starting testing\n"
     ]
    },
    {
     "name": "stderr",
     "output_type": "stream",
     "text": [
      "\n"
     ]
    },
    {
     "name": "stdout",
     "output_type": "stream",
     "text": [
      "Correct: 9417, total: 10000, accuracy: 0.9416999817, average loss: 0.0015013445\n"
     ]
    },
    {
     "name": "stderr",
     "output_type": "stream",
     "text": [
      "391it [00:24, 15.79it/s]"
     ]
    },
    {
     "name": "stdout",
     "output_type": "stream",
     "text": [
      "Epoch 258 finished, average loss: 0.0003505052\n",
      "Starting testing\n"
     ]
    },
    {
     "name": "stderr",
     "output_type": "stream",
     "text": [
      "\n"
     ]
    },
    {
     "name": "stdout",
     "output_type": "stream",
     "text": [
      "Correct: 9423, total: 10000, accuracy: 0.9422999620, average loss: 0.0014854190\n"
     ]
    },
    {
     "name": "stderr",
     "output_type": "stream",
     "text": [
      "391it [00:24, 15.76it/s]"
     ]
    },
    {
     "name": "stdout",
     "output_type": "stream",
     "text": [
      "Epoch 259 finished, average loss: 0.0003305464\n",
      "Starting testing\n"
     ]
    },
    {
     "name": "stderr",
     "output_type": "stream",
     "text": [
      "\n"
     ]
    },
    {
     "name": "stdout",
     "output_type": "stream",
     "text": [
      "Correct: 9429, total: 10000, accuracy: 0.9429000020, average loss: 0.0015599739\n"
     ]
    },
    {
     "name": "stderr",
     "output_type": "stream",
     "text": [
      "391it [00:25, 15.63it/s]"
     ]
    },
    {
     "name": "stdout",
     "output_type": "stream",
     "text": [
      "Epoch 260 finished, average loss: 0.0003102685\n",
      "Starting testing\n"
     ]
    },
    {
     "name": "stderr",
     "output_type": "stream",
     "text": [
      "\n"
     ]
    },
    {
     "name": "stdout",
     "output_type": "stream",
     "text": [
      "Correct: 9419, total: 10000, accuracy: 0.9418999553, average loss: 0.0015241125\n"
     ]
    },
    {
     "name": "stderr",
     "output_type": "stream",
     "text": [
      "391it [00:24, 15.78it/s]"
     ]
    },
    {
     "name": "stdout",
     "output_type": "stream",
     "text": [
      "Epoch 261 finished, average loss: 0.0003082789\n",
      "Starting testing\n"
     ]
    },
    {
     "name": "stderr",
     "output_type": "stream",
     "text": [
      "\n"
     ]
    },
    {
     "name": "stdout",
     "output_type": "stream",
     "text": [
      "Correct: 9421, total: 10000, accuracy: 0.9420999885, average loss: 0.0015159158\n"
     ]
    },
    {
     "name": "stderr",
     "output_type": "stream",
     "text": [
      "391it [00:24, 15.72it/s]"
     ]
    },
    {
     "name": "stdout",
     "output_type": "stream",
     "text": [
      "Epoch 262 finished, average loss: 0.0002997299\n",
      "Starting testing\n"
     ]
    },
    {
     "name": "stderr",
     "output_type": "stream",
     "text": [
      "\n"
     ]
    },
    {
     "name": "stdout",
     "output_type": "stream",
     "text": [
      "Correct: 9385, total: 10000, accuracy: 0.9384999871, average loss: 0.0016198012\n"
     ]
    },
    {
     "name": "stderr",
     "output_type": "stream",
     "text": [
      "391it [00:24, 15.78it/s]"
     ]
    },
    {
     "name": "stdout",
     "output_type": "stream",
     "text": [
      "Epoch 263 finished, average loss: 0.0002883287\n",
      "Starting testing\n"
     ]
    },
    {
     "name": "stderr",
     "output_type": "stream",
     "text": [
      "\n"
     ]
    },
    {
     "name": "stdout",
     "output_type": "stream",
     "text": [
      "Correct: 9415, total: 10000, accuracy: 0.9414999485, average loss: 0.0016368495\n"
     ]
    },
    {
     "name": "stderr",
     "output_type": "stream",
     "text": [
      "391it [00:24, 15.66it/s]"
     ]
    },
    {
     "name": "stdout",
     "output_type": "stream",
     "text": [
      "Epoch 264 finished, average loss: 0.0002833371\n",
      "Starting testing\n"
     ]
    },
    {
     "name": "stderr",
     "output_type": "stream",
     "text": [
      "\n"
     ]
    },
    {
     "name": "stdout",
     "output_type": "stream",
     "text": [
      "Correct: 9419, total: 10000, accuracy: 0.9418999553, average loss: 0.0015979971\n"
     ]
    },
    {
     "name": "stderr",
     "output_type": "stream",
     "text": [
      "391it [00:24, 15.73it/s]"
     ]
    },
    {
     "name": "stdout",
     "output_type": "stream",
     "text": [
      "Epoch 265 finished, average loss: 0.0002748972\n",
      "Starting testing\n"
     ]
    },
    {
     "name": "stderr",
     "output_type": "stream",
     "text": [
      "\n"
     ]
    },
    {
     "name": "stdout",
     "output_type": "stream",
     "text": [
      "Correct: 9418, total: 10000, accuracy: 0.9417999983, average loss: 0.0015856076\n"
     ]
    },
    {
     "name": "stderr",
     "output_type": "stream",
     "text": [
      "391it [00:24, 15.70it/s]"
     ]
    },
    {
     "name": "stdout",
     "output_type": "stream",
     "text": [
      "Epoch 266 finished, average loss: 0.0002606918\n",
      "Starting testing\n"
     ]
    },
    {
     "name": "stderr",
     "output_type": "stream",
     "text": [
      "\n"
     ]
    },
    {
     "name": "stdout",
     "output_type": "stream",
     "text": [
      "Correct: 9415, total: 10000, accuracy: 0.9414999485, average loss: 0.0016673604\n"
     ]
    },
    {
     "name": "stderr",
     "output_type": "stream",
     "text": [
      "391it [00:24, 15.76it/s]"
     ]
    },
    {
     "name": "stdout",
     "output_type": "stream",
     "text": [
      "Epoch 267 finished, average loss: 0.0002585588\n",
      "Starting testing\n"
     ]
    },
    {
     "name": "stderr",
     "output_type": "stream",
     "text": [
      "\n"
     ]
    },
    {
     "name": "stdout",
     "output_type": "stream",
     "text": [
      "Correct: 9425, total: 10000, accuracy: 0.9424999952, average loss: 0.0016047867\n"
     ]
    },
    {
     "name": "stderr",
     "output_type": "stream",
     "text": [
      "391it [00:24, 15.76it/s]"
     ]
    },
    {
     "name": "stdout",
     "output_type": "stream",
     "text": [
      "Epoch 268 finished, average loss: 0.0002585084\n",
      "Starting testing\n"
     ]
    },
    {
     "name": "stderr",
     "output_type": "stream",
     "text": [
      "\n"
     ]
    },
    {
     "name": "stdout",
     "output_type": "stream",
     "text": [
      "Correct: 9438, total: 10000, accuracy: 0.9437999725, average loss: 0.0015912926\n"
     ]
    },
    {
     "name": "stderr",
     "output_type": "stream",
     "text": [
      "391it [00:24, 15.80it/s]"
     ]
    },
    {
     "name": "stdout",
     "output_type": "stream",
     "text": [
      "Epoch 269 finished, average loss: 0.0002326315\n",
      "Starting testing\n"
     ]
    },
    {
     "name": "stderr",
     "output_type": "stream",
     "text": [
      "\n"
     ]
    },
    {
     "name": "stdout",
     "output_type": "stream",
     "text": [
      "Correct: 9431, total: 10000, accuracy: 0.9430999756, average loss: 0.0016947330\n"
     ]
    },
    {
     "name": "stderr",
     "output_type": "stream",
     "text": [
      "391it [00:24, 15.74it/s]"
     ]
    },
    {
     "name": "stdout",
     "output_type": "stream",
     "text": [
      "Epoch 270 finished, average loss: 0.0002288635\n",
      "Starting testing\n"
     ]
    },
    {
     "name": "stderr",
     "output_type": "stream",
     "text": [
      "\n"
     ]
    },
    {
     "name": "stdout",
     "output_type": "stream",
     "text": [
      "Correct: 9441, total: 10000, accuracy: 0.9440999627, average loss: 0.0015919660\n"
     ]
    },
    {
     "name": "stderr",
     "output_type": "stream",
     "text": [
      "391it [00:24, 15.72it/s]"
     ]
    },
    {
     "name": "stdout",
     "output_type": "stream",
     "text": [
      "Epoch 271 finished, average loss: 0.0002348351\n",
      "Starting testing\n"
     ]
    },
    {
     "name": "stderr",
     "output_type": "stream",
     "text": [
      "\n"
     ]
    },
    {
     "name": "stdout",
     "output_type": "stream",
     "text": [
      "Correct: 9433, total: 10000, accuracy: 0.9432999492, average loss: 0.0015986511\n"
     ]
    },
    {
     "name": "stderr",
     "output_type": "stream",
     "text": [
      "391it [00:24, 15.72it/s]"
     ]
    },
    {
     "name": "stdout",
     "output_type": "stream",
     "text": [
      "Epoch 272 finished, average loss: 0.0002050768\n",
      "Starting testing\n"
     ]
    },
    {
     "name": "stderr",
     "output_type": "stream",
     "text": [
      "\n"
     ]
    },
    {
     "name": "stdout",
     "output_type": "stream",
     "text": [
      "Correct: 9418, total: 10000, accuracy: 0.9417999983, average loss: 0.0016826129\n"
     ]
    },
    {
     "name": "stderr",
     "output_type": "stream",
     "text": [
      "391it [00:24, 15.73it/s]"
     ]
    },
    {
     "name": "stdout",
     "output_type": "stream",
     "text": [
      "Epoch 273 finished, average loss: 0.0002006689\n",
      "Starting testing\n"
     ]
    },
    {
     "name": "stderr",
     "output_type": "stream",
     "text": [
      "\n"
     ]
    },
    {
     "name": "stdout",
     "output_type": "stream",
     "text": [
      "Correct: 9440, total: 10000, accuracy: 0.9440000057, average loss: 0.0016523983\n"
     ]
    },
    {
     "name": "stderr",
     "output_type": "stream",
     "text": [
      "391it [00:24, 15.66it/s]"
     ]
    },
    {
     "name": "stdout",
     "output_type": "stream",
     "text": [
      "Epoch 274 finished, average loss: 0.0002160921\n",
      "Starting testing\n"
     ]
    },
    {
     "name": "stderr",
     "output_type": "stream",
     "text": [
      "\n"
     ]
    },
    {
     "name": "stdout",
     "output_type": "stream",
     "text": [
      "Correct: 9420, total: 10000, accuracy: 0.9419999719, average loss: 0.0017612994\n"
     ]
    },
    {
     "name": "stderr",
     "output_type": "stream",
     "text": [
      "391it [00:25, 15.62it/s]"
     ]
    },
    {
     "name": "stdout",
     "output_type": "stream",
     "text": [
      "Epoch 275 finished, average loss: 0.0001941700\n",
      "Starting testing\n"
     ]
    },
    {
     "name": "stderr",
     "output_type": "stream",
     "text": [
      "\n"
     ]
    },
    {
     "name": "stdout",
     "output_type": "stream",
     "text": [
      "Correct: 9438, total: 10000, accuracy: 0.9437999725, average loss: 0.0016139661\n"
     ]
    },
    {
     "name": "stderr",
     "output_type": "stream",
     "text": [
      "391it [00:24, 15.76it/s]"
     ]
    },
    {
     "name": "stdout",
     "output_type": "stream",
     "text": [
      "Epoch 276 finished, average loss: 0.0001963403\n",
      "Starting testing\n"
     ]
    },
    {
     "name": "stderr",
     "output_type": "stream",
     "text": [
      "\n"
     ]
    },
    {
     "name": "stdout",
     "output_type": "stream",
     "text": [
      "Correct: 9441, total: 10000, accuracy: 0.9440999627, average loss: 0.0016534828\n"
     ]
    },
    {
     "name": "stderr",
     "output_type": "stream",
     "text": [
      "391it [00:24, 15.74it/s]"
     ]
    },
    {
     "name": "stdout",
     "output_type": "stream",
     "text": [
      "Epoch 277 finished, average loss: 0.0001838188\n",
      "Starting testing\n"
     ]
    },
    {
     "name": "stderr",
     "output_type": "stream",
     "text": [
      "\n"
     ]
    },
    {
     "name": "stdout",
     "output_type": "stream",
     "text": [
      "Correct: 9437, total: 10000, accuracy: 0.9436999559, average loss: 0.0017182217\n"
     ]
    },
    {
     "name": "stderr",
     "output_type": "stream",
     "text": [
      "391it [00:24, 15.72it/s]"
     ]
    },
    {
     "name": "stdout",
     "output_type": "stream",
     "text": [
      "Epoch 278 finished, average loss: 0.0001834805\n",
      "Starting testing\n"
     ]
    },
    {
     "name": "stderr",
     "output_type": "stream",
     "text": [
      "\n"
     ]
    },
    {
     "name": "stdout",
     "output_type": "stream",
     "text": [
      "Correct: 9435, total: 10000, accuracy: 0.9434999824, average loss: 0.0016947313\n"
     ]
    },
    {
     "name": "stderr",
     "output_type": "stream",
     "text": [
      "391it [00:24, 15.67it/s]"
     ]
    },
    {
     "name": "stdout",
     "output_type": "stream",
     "text": [
      "Epoch 279 finished, average loss: 0.0001901524\n",
      "Starting testing\n"
     ]
    },
    {
     "name": "stderr",
     "output_type": "stream",
     "text": [
      "\n"
     ]
    },
    {
     "name": "stdout",
     "output_type": "stream",
     "text": [
      "Correct: 9424, total: 10000, accuracy: 0.9423999786, average loss: 0.0017344601\n"
     ]
    },
    {
     "name": "stderr",
     "output_type": "stream",
     "text": [
      "391it [00:24, 15.77it/s]"
     ]
    },
    {
     "name": "stdout",
     "output_type": "stream",
     "text": [
      "Epoch 280 finished, average loss: 0.0001703372\n",
      "Starting testing\n"
     ]
    },
    {
     "name": "stderr",
     "output_type": "stream",
     "text": [
      "\n"
     ]
    },
    {
     "name": "stdout",
     "output_type": "stream",
     "text": [
      "Correct: 9429, total: 10000, accuracy: 0.9429000020, average loss: 0.0017887964\n"
     ]
    },
    {
     "name": "stderr",
     "output_type": "stream",
     "text": [
      "391it [00:24, 15.81it/s]"
     ]
    },
    {
     "name": "stdout",
     "output_type": "stream",
     "text": [
      "Epoch 281 finished, average loss: 0.0001961316\n",
      "Starting testing\n"
     ]
    },
    {
     "name": "stderr",
     "output_type": "stream",
     "text": [
      "\n"
     ]
    },
    {
     "name": "stdout",
     "output_type": "stream",
     "text": [
      "Correct: 9434, total: 10000, accuracy: 0.9433999658, average loss: 0.0016383231\n"
     ]
    },
    {
     "name": "stderr",
     "output_type": "stream",
     "text": [
      "391it [00:24, 15.82it/s]"
     ]
    },
    {
     "name": "stdout",
     "output_type": "stream",
     "text": [
      "Epoch 282 finished, average loss: 0.0001820851\n",
      "Starting testing\n"
     ]
    },
    {
     "name": "stderr",
     "output_type": "stream",
     "text": [
      "\n"
     ]
    },
    {
     "name": "stdout",
     "output_type": "stream",
     "text": [
      "Correct: 9433, total: 10000, accuracy: 0.9432999492, average loss: 0.0016993845\n"
     ]
    },
    {
     "name": "stderr",
     "output_type": "stream",
     "text": [
      "391it [00:24, 15.78it/s]"
     ]
    },
    {
     "name": "stdout",
     "output_type": "stream",
     "text": [
      "Epoch 283 finished, average loss: 0.0001874246\n",
      "Starting testing\n"
     ]
    },
    {
     "name": "stderr",
     "output_type": "stream",
     "text": [
      "\n"
     ]
    },
    {
     "name": "stdout",
     "output_type": "stream",
     "text": [
      "Correct: 9452, total: 10000, accuracy: 0.9451999664, average loss: 0.0016249401\n"
     ]
    },
    {
     "name": "stderr",
     "output_type": "stream",
     "text": [
      "391it [00:24, 15.77it/s]"
     ]
    },
    {
     "name": "stdout",
     "output_type": "stream",
     "text": [
      "Epoch 284 finished, average loss: 0.0001793973\n",
      "Starting testing\n"
     ]
    },
    {
     "name": "stderr",
     "output_type": "stream",
     "text": [
      "\n"
     ]
    },
    {
     "name": "stdout",
     "output_type": "stream",
     "text": [
      "Correct: 9454, total: 10000, accuracy: 0.9453999996, average loss: 0.0016881690\n"
     ]
    },
    {
     "name": "stderr",
     "output_type": "stream",
     "text": [
      "391it [00:25, 15.60it/s]"
     ]
    },
    {
     "name": "stdout",
     "output_type": "stream",
     "text": [
      "Epoch 285 finished, average loss: 0.0001744852\n",
      "Starting testing\n"
     ]
    },
    {
     "name": "stderr",
     "output_type": "stream",
     "text": [
      "\n"
     ]
    },
    {
     "name": "stdout",
     "output_type": "stream",
     "text": [
      "Correct: 9440, total: 10000, accuracy: 0.9440000057, average loss: 0.0016898937\n"
     ]
    },
    {
     "name": "stderr",
     "output_type": "stream",
     "text": [
      "391it [00:24, 15.66it/s]"
     ]
    },
    {
     "name": "stdout",
     "output_type": "stream",
     "text": [
      "Epoch 286 finished, average loss: 0.0001679808\n",
      "Starting testing\n"
     ]
    },
    {
     "name": "stderr",
     "output_type": "stream",
     "text": [
      "\n"
     ]
    },
    {
     "name": "stdout",
     "output_type": "stream",
     "text": [
      "Correct: 9436, total: 10000, accuracy: 0.9435999990, average loss: 0.0017297949\n"
     ]
    },
    {
     "name": "stderr",
     "output_type": "stream",
     "text": [
      "391it [00:24, 15.78it/s]"
     ]
    },
    {
     "name": "stdout",
     "output_type": "stream",
     "text": [
      "Epoch 287 finished, average loss: 0.0001709393\n",
      "Starting testing\n"
     ]
    },
    {
     "name": "stderr",
     "output_type": "stream",
     "text": [
      "\n"
     ]
    },
    {
     "name": "stdout",
     "output_type": "stream",
     "text": [
      "Correct: 9433, total: 10000, accuracy: 0.9432999492, average loss: 0.0016997223\n"
     ]
    },
    {
     "name": "stderr",
     "output_type": "stream",
     "text": [
      "391it [00:24, 15.80it/s]"
     ]
    },
    {
     "name": "stdout",
     "output_type": "stream",
     "text": [
      "Epoch 288 finished, average loss: 0.0001863106\n",
      "Starting testing\n"
     ]
    },
    {
     "name": "stderr",
     "output_type": "stream",
     "text": [
      "\n"
     ]
    },
    {
     "name": "stdout",
     "output_type": "stream",
     "text": [
      "Correct: 9431, total: 10000, accuracy: 0.9430999756, average loss: 0.0017181039\n"
     ]
    },
    {
     "name": "stderr",
     "output_type": "stream",
     "text": [
      "391it [00:24, 15.81it/s]"
     ]
    },
    {
     "name": "stdout",
     "output_type": "stream",
     "text": [
      "Epoch 289 finished, average loss: 0.0001646248\n",
      "Starting testing\n"
     ]
    },
    {
     "name": "stderr",
     "output_type": "stream",
     "text": [
      "\n"
     ]
    },
    {
     "name": "stdout",
     "output_type": "stream",
     "text": [
      "Correct: 9422, total: 10000, accuracy: 0.9422000051, average loss: 0.0017656316\n"
     ]
    },
    {
     "name": "stderr",
     "output_type": "stream",
     "text": [
      "391it [00:24, 15.76it/s]"
     ]
    },
    {
     "name": "stdout",
     "output_type": "stream",
     "text": [
      "Epoch 290 finished, average loss: 0.0001940963\n",
      "Starting testing\n"
     ]
    },
    {
     "name": "stderr",
     "output_type": "stream",
     "text": [
      "\n"
     ]
    },
    {
     "name": "stdout",
     "output_type": "stream",
     "text": [
      "Correct: 9437, total: 10000, accuracy: 0.9436999559, average loss: 0.0017346435\n"
     ]
    },
    {
     "name": "stderr",
     "output_type": "stream",
     "text": [
      "391it [00:24, 15.72it/s]"
     ]
    },
    {
     "name": "stdout",
     "output_type": "stream",
     "text": [
      "Epoch 291 finished, average loss: 0.0001569067\n",
      "Starting testing\n"
     ]
    },
    {
     "name": "stderr",
     "output_type": "stream",
     "text": [
      "\n"
     ]
    },
    {
     "name": "stdout",
     "output_type": "stream",
     "text": [
      "Correct: 9427, total: 10000, accuracy: 0.9426999688, average loss: 0.0016545732\n"
     ]
    },
    {
     "name": "stderr",
     "output_type": "stream",
     "text": [
      "391it [00:24, 15.73it/s]"
     ]
    },
    {
     "name": "stdout",
     "output_type": "stream",
     "text": [
      "Epoch 292 finished, average loss: 0.0001799233\n",
      "Starting testing\n"
     ]
    },
    {
     "name": "stderr",
     "output_type": "stream",
     "text": [
      "\n"
     ]
    },
    {
     "name": "stdout",
     "output_type": "stream",
     "text": [
      "Correct: 9426, total: 10000, accuracy: 0.9425999522, average loss: 0.0017130082\n"
     ]
    },
    {
     "name": "stderr",
     "output_type": "stream",
     "text": [
      "391it [00:24, 15.74it/s]"
     ]
    },
    {
     "name": "stdout",
     "output_type": "stream",
     "text": [
      "Epoch 293 finished, average loss: 0.0001633322\n",
      "Starting testing\n"
     ]
    },
    {
     "name": "stderr",
     "output_type": "stream",
     "text": [
      "\n"
     ]
    },
    {
     "name": "stdout",
     "output_type": "stream",
     "text": [
      "Correct: 9446, total: 10000, accuracy: 0.9445999861, average loss: 0.0017213300\n"
     ]
    },
    {
     "name": "stderr",
     "output_type": "stream",
     "text": [
      "391it [00:24, 15.69it/s]"
     ]
    },
    {
     "name": "stdout",
     "output_type": "stream",
     "text": [
      "Epoch 294 finished, average loss: 0.0001600857\n",
      "Starting testing\n"
     ]
    },
    {
     "name": "stderr",
     "output_type": "stream",
     "text": [
      "\n"
     ]
    },
    {
     "name": "stdout",
     "output_type": "stream",
     "text": [
      "Correct: 9431, total: 10000, accuracy: 0.9430999756, average loss: 0.0017288819\n"
     ]
    },
    {
     "name": "stderr",
     "output_type": "stream",
     "text": [
      "391it [00:24, 15.67it/s]"
     ]
    },
    {
     "name": "stdout",
     "output_type": "stream",
     "text": [
      "Epoch 295 finished, average loss: 0.0001434126\n",
      "Starting testing\n"
     ]
    },
    {
     "name": "stderr",
     "output_type": "stream",
     "text": [
      "\n"
     ]
    },
    {
     "name": "stdout",
     "output_type": "stream",
     "text": [
      "Correct: 9433, total: 10000, accuracy: 0.9432999492, average loss: 0.0018901706\n"
     ]
    },
    {
     "name": "stderr",
     "output_type": "stream",
     "text": [
      "391it [00:24, 15.76it/s]"
     ]
    },
    {
     "name": "stdout",
     "output_type": "stream",
     "text": [
      "Epoch 296 finished, average loss: 0.0001591455\n",
      "Starting testing\n"
     ]
    },
    {
     "name": "stderr",
     "output_type": "stream",
     "text": [
      "\n"
     ]
    },
    {
     "name": "stdout",
     "output_type": "stream",
     "text": [
      "Correct: 9442, total: 10000, accuracy: 0.9441999793, average loss: 0.0017693524\n"
     ]
    },
    {
     "name": "stderr",
     "output_type": "stream",
     "text": [
      "391it [00:24, 15.69it/s]\n"
     ]
    },
    {
     "name": "stdout",
     "output_type": "stream",
     "text": [
      "Epoch 297 finished, average loss: 0.0001543159\n",
      "Starting testing\n",
      "Correct: 9432, total: 10000, accuracy: 0.9431999922, average loss: 0.0016596012\n"
     ]
    },
    {
     "name": "stderr",
     "output_type": "stream",
     "text": [
      "391it [00:24, 15.81it/s]"
     ]
    },
    {
     "name": "stdout",
     "output_type": "stream",
     "text": [
      "Epoch 298 finished, average loss: 0.0001580964\n",
      "Starting testing\n"
     ]
    },
    {
     "name": "stderr",
     "output_type": "stream",
     "text": [
      "\n"
     ]
    },
    {
     "name": "stdout",
     "output_type": "stream",
     "text": [
      "Correct: 9431, total: 10000, accuracy: 0.9430999756, average loss: 0.0017049556\n"
     ]
    },
    {
     "name": "stderr",
     "output_type": "stream",
     "text": [
      "391it [00:24, 15.74it/s]"
     ]
    },
    {
     "name": "stdout",
     "output_type": "stream",
     "text": [
      "Epoch 299 finished, average loss: 0.0001622411\n",
      "Starting testing\n"
     ]
    },
    {
     "name": "stderr",
     "output_type": "stream",
     "text": [
      "\n"
     ]
    },
    {
     "name": "stdout",
     "output_type": "stream",
     "text": [
      "Correct: 9421, total: 10000, accuracy: 0.9420999885, average loss: 0.0017213430\n"
     ]
    },
    {
     "name": "stderr",
     "output_type": "stream",
     "text": [
      "391it [00:24, 15.84it/s]"
     ]
    },
    {
     "name": "stdout",
     "output_type": "stream",
     "text": [
      "Epoch 300 finished, average loss: 0.0001438209\n",
      "Starting testing\n"
     ]
    },
    {
     "name": "stderr",
     "output_type": "stream",
     "text": [
      "\n"
     ]
    },
    {
     "name": "stdout",
     "output_type": "stream",
     "text": [
      "Correct: 9447, total: 10000, accuracy: 0.9447000027, average loss: 0.0017359885\n"
     ]
    },
    {
     "name": "stderr",
     "output_type": "stream",
     "text": [
      "391it [00:25, 15.63it/s]"
     ]
    },
    {
     "name": "stdout",
     "output_type": "stream",
     "text": [
      "Epoch 301 finished, average loss: 0.0001365262\n",
      "Starting testing\n"
     ]
    },
    {
     "name": "stderr",
     "output_type": "stream",
     "text": [
      "\n"
     ]
    },
    {
     "name": "stdout",
     "output_type": "stream",
     "text": [
      "Correct: 9422, total: 10000, accuracy: 0.9422000051, average loss: 0.0017721685\n"
     ]
    },
    {
     "name": "stderr",
     "output_type": "stream",
     "text": [
      "391it [00:25, 15.62it/s]"
     ]
    },
    {
     "name": "stdout",
     "output_type": "stream",
     "text": [
      "Epoch 302 finished, average loss: 0.0001420655\n",
      "Starting testing\n"
     ]
    },
    {
     "name": "stderr",
     "output_type": "stream",
     "text": [
      "\n"
     ]
    },
    {
     "name": "stdout",
     "output_type": "stream",
     "text": [
      "Correct: 9437, total: 10000, accuracy: 0.9436999559, average loss: 0.0018021522\n"
     ]
    },
    {
     "name": "stderr",
     "output_type": "stream",
     "text": [
      "391it [00:24, 15.70it/s]"
     ]
    },
    {
     "name": "stdout",
     "output_type": "stream",
     "text": [
      "Epoch 303 finished, average loss: 0.0001560617\n",
      "Starting testing\n"
     ]
    },
    {
     "name": "stderr",
     "output_type": "stream",
     "text": [
      "\n"
     ]
    },
    {
     "name": "stdout",
     "output_type": "stream",
     "text": [
      "Correct: 9445, total: 10000, accuracy: 0.9444999695, average loss: 0.0017097312\n"
     ]
    },
    {
     "name": "stderr",
     "output_type": "stream",
     "text": [
      "391it [00:24, 15.68it/s]"
     ]
    },
    {
     "name": "stdout",
     "output_type": "stream",
     "text": [
      "Epoch 304 finished, average loss: 0.0001368145\n",
      "Starting testing\n"
     ]
    },
    {
     "name": "stderr",
     "output_type": "stream",
     "text": [
      "\n"
     ]
    },
    {
     "name": "stdout",
     "output_type": "stream",
     "text": [
      "Correct: 9437, total: 10000, accuracy: 0.9436999559, average loss: 0.0017834140\n"
     ]
    },
    {
     "name": "stderr",
     "output_type": "stream",
     "text": [
      "391it [00:24, 15.72it/s]"
     ]
    },
    {
     "name": "stdout",
     "output_type": "stream",
     "text": [
      "Epoch 305 finished, average loss: 0.0001300614\n",
      "Starting testing\n"
     ]
    },
    {
     "name": "stderr",
     "output_type": "stream",
     "text": [
      "\n"
     ]
    },
    {
     "name": "stdout",
     "output_type": "stream",
     "text": [
      "Correct: 9411, total: 10000, accuracy: 0.9411000013, average loss: 0.0017564903\n"
     ]
    },
    {
     "name": "stderr",
     "output_type": "stream",
     "text": [
      "391it [00:24, 15.71it/s]"
     ]
    },
    {
     "name": "stdout",
     "output_type": "stream",
     "text": [
      "Epoch 306 finished, average loss: 0.0001369464\n",
      "Starting testing\n"
     ]
    },
    {
     "name": "stderr",
     "output_type": "stream",
     "text": [
      "\n"
     ]
    },
    {
     "name": "stdout",
     "output_type": "stream",
     "text": [
      "Correct: 9453, total: 10000, accuracy: 0.9452999830, average loss: 0.0017151159\n"
     ]
    },
    {
     "name": "stderr",
     "output_type": "stream",
     "text": [
      "391it [00:24, 15.75it/s]"
     ]
    },
    {
     "name": "stdout",
     "output_type": "stream",
     "text": [
      "Epoch 307 finished, average loss: 0.0001431174\n",
      "Starting testing\n"
     ]
    },
    {
     "name": "stderr",
     "output_type": "stream",
     "text": [
      "\n"
     ]
    },
    {
     "name": "stdout",
     "output_type": "stream",
     "text": [
      "Correct: 9425, total: 10000, accuracy: 0.9424999952, average loss: 0.0018474121\n"
     ]
    },
    {
     "name": "stderr",
     "output_type": "stream",
     "text": [
      "391it [00:24, 15.68it/s]"
     ]
    },
    {
     "name": "stdout",
     "output_type": "stream",
     "text": [
      "Epoch 308 finished, average loss: 0.0001555924\n",
      "Starting testing\n"
     ]
    },
    {
     "name": "stderr",
     "output_type": "stream",
     "text": [
      "\n"
     ]
    },
    {
     "name": "stdout",
     "output_type": "stream",
     "text": [
      "Correct: 9431, total: 10000, accuracy: 0.9430999756, average loss: 0.0018078158\n"
     ]
    },
    {
     "name": "stderr",
     "output_type": "stream",
     "text": [
      "391it [00:24, 15.76it/s]"
     ]
    },
    {
     "name": "stdout",
     "output_type": "stream",
     "text": [
      "Epoch 309 finished, average loss: 0.0001308146\n",
      "Starting testing\n"
     ]
    },
    {
     "name": "stderr",
     "output_type": "stream",
     "text": [
      "\n"
     ]
    },
    {
     "name": "stdout",
     "output_type": "stream",
     "text": [
      "Correct: 9424, total: 10000, accuracy: 0.9423999786, average loss: 0.0017608464\n"
     ]
    },
    {
     "name": "stderr",
     "output_type": "stream",
     "text": [
      "391it [00:24, 15.69it/s]"
     ]
    },
    {
     "name": "stdout",
     "output_type": "stream",
     "text": [
      "Epoch 310 finished, average loss: 0.0001480718\n",
      "Starting testing\n"
     ]
    },
    {
     "name": "stderr",
     "output_type": "stream",
     "text": [
      "\n"
     ]
    },
    {
     "name": "stdout",
     "output_type": "stream",
     "text": [
      "Correct: 9426, total: 10000, accuracy: 0.9425999522, average loss: 0.0017570784\n"
     ]
    },
    {
     "name": "stderr",
     "output_type": "stream",
     "text": [
      "391it [00:24, 15.75it/s]"
     ]
    },
    {
     "name": "stdout",
     "output_type": "stream",
     "text": [
      "Epoch 311 finished, average loss: 0.0001653204\n",
      "Starting testing\n"
     ]
    },
    {
     "name": "stderr",
     "output_type": "stream",
     "text": [
      "\n"
     ]
    },
    {
     "name": "stdout",
     "output_type": "stream",
     "text": [
      "Correct: 9433, total: 10000, accuracy: 0.9432999492, average loss: 0.0018295324\n"
     ]
    },
    {
     "name": "stderr",
     "output_type": "stream",
     "text": [
      "391it [00:24, 15.75it/s]"
     ]
    },
    {
     "name": "stdout",
     "output_type": "stream",
     "text": [
      "Epoch 312 finished, average loss: 0.0001250061\n",
      "Starting testing\n"
     ]
    },
    {
     "name": "stderr",
     "output_type": "stream",
     "text": [
      "\n"
     ]
    },
    {
     "name": "stdout",
     "output_type": "stream",
     "text": [
      "Correct: 9433, total: 10000, accuracy: 0.9432999492, average loss: 0.0017736116\n"
     ]
    },
    {
     "name": "stderr",
     "output_type": "stream",
     "text": [
      "391it [00:24, 15.75it/s]"
     ]
    },
    {
     "name": "stdout",
     "output_type": "stream",
     "text": [
      "Epoch 313 finished, average loss: 0.0001440905\n",
      "Starting testing\n"
     ]
    },
    {
     "name": "stderr",
     "output_type": "stream",
     "text": [
      "\n"
     ]
    },
    {
     "name": "stdout",
     "output_type": "stream",
     "text": [
      "Correct: 9434, total: 10000, accuracy: 0.9433999658, average loss: 0.0017234630\n"
     ]
    },
    {
     "name": "stderr",
     "output_type": "stream",
     "text": [
      "391it [00:24, 15.74it/s]"
     ]
    },
    {
     "name": "stdout",
     "output_type": "stream",
     "text": [
      "Epoch 314 finished, average loss: 0.0001162768\n",
      "Starting testing\n"
     ]
    },
    {
     "name": "stderr",
     "output_type": "stream",
     "text": [
      "\n"
     ]
    },
    {
     "name": "stdout",
     "output_type": "stream",
     "text": [
      "Correct: 9430, total: 10000, accuracy: 0.9429999590, average loss: 0.0017653782\n"
     ]
    },
    {
     "name": "stderr",
     "output_type": "stream",
     "text": [
      "391it [00:24, 15.68it/s]"
     ]
    },
    {
     "name": "stdout",
     "output_type": "stream",
     "text": [
      "Epoch 315 finished, average loss: 0.0001374700\n",
      "Starting testing\n"
     ]
    },
    {
     "name": "stderr",
     "output_type": "stream",
     "text": [
      "\n"
     ]
    },
    {
     "name": "stdout",
     "output_type": "stream",
     "text": [
      "Correct: 9444, total: 10000, accuracy: 0.9443999529, average loss: 0.0018310626\n"
     ]
    },
    {
     "name": "stderr",
     "output_type": "stream",
     "text": [
      "391it [00:24, 15.75it/s]"
     ]
    },
    {
     "name": "stdout",
     "output_type": "stream",
     "text": [
      "Epoch 316 finished, average loss: 0.0001326763\n",
      "Starting testing\n"
     ]
    },
    {
     "name": "stderr",
     "output_type": "stream",
     "text": [
      "\n"
     ]
    },
    {
     "name": "stdout",
     "output_type": "stream",
     "text": [
      "Correct: 9428, total: 10000, accuracy: 0.9427999854, average loss: 0.0019024420\n"
     ]
    },
    {
     "name": "stderr",
     "output_type": "stream",
     "text": [
      "391it [00:24, 15.73it/s]"
     ]
    },
    {
     "name": "stdout",
     "output_type": "stream",
     "text": [
      "Epoch 317 finished, average loss: 0.0001268592\n",
      "Starting testing\n"
     ]
    },
    {
     "name": "stderr",
     "output_type": "stream",
     "text": [
      "\n"
     ]
    },
    {
     "name": "stdout",
     "output_type": "stream",
     "text": [
      "Correct: 9435, total: 10000, accuracy: 0.9434999824, average loss: 0.0018221864\n"
     ]
    },
    {
     "name": "stderr",
     "output_type": "stream",
     "text": [
      "391it [00:24, 15.78it/s]"
     ]
    },
    {
     "name": "stdout",
     "output_type": "stream",
     "text": [
      "Epoch 318 finished, average loss: 0.0001338909\n",
      "Starting testing\n"
     ]
    },
    {
     "name": "stderr",
     "output_type": "stream",
     "text": [
      "\n"
     ]
    },
    {
     "name": "stdout",
     "output_type": "stream",
     "text": [
      "Correct: 9446, total: 10000, accuracy: 0.9445999861, average loss: 0.0017064948\n"
     ]
    },
    {
     "name": "stderr",
     "output_type": "stream",
     "text": [
      "391it [00:25, 15.62it/s]"
     ]
    },
    {
     "name": "stdout",
     "output_type": "stream",
     "text": [
      "Epoch 319 finished, average loss: 0.0001319534\n",
      "Starting testing\n"
     ]
    },
    {
     "name": "stderr",
     "output_type": "stream",
     "text": [
      "\n"
     ]
    },
    {
     "name": "stdout",
     "output_type": "stream",
     "text": [
      "Correct: 9448, total: 10000, accuracy: 0.9447999597, average loss: 0.0017177399\n"
     ]
    },
    {
     "name": "stderr",
     "output_type": "stream",
     "text": [
      "391it [00:24, 15.73it/s]\n"
     ]
    },
    {
     "name": "stdout",
     "output_type": "stream",
     "text": [
      "Epoch 320 finished, average loss: 0.0001327531\n",
      "Starting testing\n",
      "Correct: 9439, total: 10000, accuracy: 0.9438999891, average loss: 0.0018083248\n"
     ]
    },
    {
     "name": "stderr",
     "output_type": "stream",
     "text": [
      "391it [00:24, 15.66it/s]"
     ]
    },
    {
     "name": "stdout",
     "output_type": "stream",
     "text": [
      "Epoch 321 finished, average loss: 0.0001396566\n",
      "Starting testing\n"
     ]
    },
    {
     "name": "stderr",
     "output_type": "stream",
     "text": [
      "\n"
     ]
    },
    {
     "name": "stdout",
     "output_type": "stream",
     "text": [
      "Correct: 9420, total: 10000, accuracy: 0.9419999719, average loss: 0.0019400805\n"
     ]
    },
    {
     "name": "stderr",
     "output_type": "stream",
     "text": [
      "391it [00:24, 15.71it/s]"
     ]
    },
    {
     "name": "stdout",
     "output_type": "stream",
     "text": [
      "Epoch 322 finished, average loss: 0.0001252621\n",
      "Starting testing\n"
     ]
    },
    {
     "name": "stderr",
     "output_type": "stream",
     "text": [
      "\n"
     ]
    },
    {
     "name": "stdout",
     "output_type": "stream",
     "text": [
      "Correct: 9440, total: 10000, accuracy: 0.9440000057, average loss: 0.0017744066\n"
     ]
    },
    {
     "name": "stderr",
     "output_type": "stream",
     "text": [
      "391it [00:24, 15.75it/s]"
     ]
    },
    {
     "name": "stdout",
     "output_type": "stream",
     "text": [
      "Epoch 323 finished, average loss: 0.0001319026\n",
      "Starting testing\n"
     ]
    },
    {
     "name": "stderr",
     "output_type": "stream",
     "text": [
      "\n"
     ]
    },
    {
     "name": "stdout",
     "output_type": "stream",
     "text": [
      "Correct: 9408, total: 10000, accuracy: 0.9407999516, average loss: 0.0018324299\n"
     ]
    },
    {
     "name": "stderr",
     "output_type": "stream",
     "text": [
      "391it [00:24, 15.74it/s]"
     ]
    },
    {
     "name": "stdout",
     "output_type": "stream",
     "text": [
      "Epoch 324 finished, average loss: 0.0001198528\n",
      "Starting testing\n"
     ]
    },
    {
     "name": "stderr",
     "output_type": "stream",
     "text": [
      "\n"
     ]
    },
    {
     "name": "stdout",
     "output_type": "stream",
     "text": [
      "Correct: 9431, total: 10000, accuracy: 0.9430999756, average loss: 0.0018575289\n"
     ]
    },
    {
     "name": "stderr",
     "output_type": "stream",
     "text": [
      "391it [00:24, 15.70it/s]\n"
     ]
    },
    {
     "name": "stdout",
     "output_type": "stream",
     "text": [
      "Epoch 325 finished, average loss: 0.0001385504\n",
      "Starting testing\n",
      "Correct: 9377, total: 10000, accuracy: 0.9376999736, average loss: 0.0020139958\n"
     ]
    },
    {
     "name": "stderr",
     "output_type": "stream",
     "text": [
      "391it [00:24, 15.67it/s]"
     ]
    },
    {
     "name": "stdout",
     "output_type": "stream",
     "text": [
      "Epoch 326 finished, average loss: 0.0001112969\n",
      "Starting testing\n"
     ]
    },
    {
     "name": "stderr",
     "output_type": "stream",
     "text": [
      "\n"
     ]
    },
    {
     "name": "stdout",
     "output_type": "stream",
     "text": [
      "Correct: 9468, total: 10000, accuracy: 0.9467999935, average loss: 0.0017862748\n"
     ]
    },
    {
     "name": "stderr",
     "output_type": "stream",
     "text": [
      "391it [00:24, 15.73it/s]\n"
     ]
    },
    {
     "name": "stdout",
     "output_type": "stream",
     "text": [
      "Epoch 327 finished, average loss: 0.0001232085\n",
      "Starting testing\n",
      "Correct: 9411, total: 10000, accuracy: 0.9411000013, average loss: 0.0018502185\n"
     ]
    },
    {
     "name": "stderr",
     "output_type": "stream",
     "text": [
      "391it [00:24, 15.66it/s]"
     ]
    },
    {
     "name": "stdout",
     "output_type": "stream",
     "text": [
      "Epoch 328 finished, average loss: 0.0001282057\n",
      "Starting testing\n"
     ]
    },
    {
     "name": "stderr",
     "output_type": "stream",
     "text": [
      "\n"
     ]
    },
    {
     "name": "stdout",
     "output_type": "stream",
     "text": [
      "Correct: 9409, total: 10000, accuracy: 0.9408999681, average loss: 0.0018942238\n"
     ]
    },
    {
     "name": "stderr",
     "output_type": "stream",
     "text": [
      "391it [00:24, 15.69it/s]"
     ]
    },
    {
     "name": "stdout",
     "output_type": "stream",
     "text": [
      "Epoch 329 finished, average loss: 0.0001195979\n",
      "Starting testing\n"
     ]
    },
    {
     "name": "stderr",
     "output_type": "stream",
     "text": [
      "\n"
     ]
    },
    {
     "name": "stdout",
     "output_type": "stream",
     "text": [
      "Correct: 9434, total: 10000, accuracy: 0.9433999658, average loss: 0.0017272172\n"
     ]
    },
    {
     "name": "stderr",
     "output_type": "stream",
     "text": [
      "391it [00:24, 15.75it/s]"
     ]
    },
    {
     "name": "stdout",
     "output_type": "stream",
     "text": [
      "Epoch 330 finished, average loss: 0.0001385681\n",
      "Starting testing\n"
     ]
    },
    {
     "name": "stderr",
     "output_type": "stream",
     "text": [
      "\n"
     ]
    },
    {
     "name": "stdout",
     "output_type": "stream",
     "text": [
      "Correct: 9402, total: 10000, accuracy: 0.9401999712, average loss: 0.0020030712\n"
     ]
    },
    {
     "name": "stderr",
     "output_type": "stream",
     "text": [
      "391it [00:24, 15.69it/s]"
     ]
    },
    {
     "name": "stdout",
     "output_type": "stream",
     "text": [
      "Epoch 331 finished, average loss: 0.0001128489\n",
      "Starting testing\n"
     ]
    },
    {
     "name": "stderr",
     "output_type": "stream",
     "text": [
      "\n"
     ]
    },
    {
     "name": "stdout",
     "output_type": "stream",
     "text": [
      "Correct: 9419, total: 10000, accuracy: 0.9418999553, average loss: 0.0019216325\n"
     ]
    },
    {
     "name": "stderr",
     "output_type": "stream",
     "text": [
      "391it [00:24, 15.71it/s]"
     ]
    },
    {
     "name": "stdout",
     "output_type": "stream",
     "text": [
      "Epoch 332 finished, average loss: 0.0001320729\n",
      "Starting testing\n"
     ]
    },
    {
     "name": "stderr",
     "output_type": "stream",
     "text": [
      "\n"
     ]
    },
    {
     "name": "stdout",
     "output_type": "stream",
     "text": [
      "Correct: 9443, total: 10000, accuracy: 0.9442999959, average loss: 0.0018198770\n"
     ]
    },
    {
     "name": "stderr",
     "output_type": "stream",
     "text": [
      "391it [00:24, 15.77it/s]"
     ]
    },
    {
     "name": "stdout",
     "output_type": "stream",
     "text": [
      "Epoch 333 finished, average loss: 0.0001126278\n",
      "Starting testing\n"
     ]
    },
    {
     "name": "stderr",
     "output_type": "stream",
     "text": [
      "\n"
     ]
    },
    {
     "name": "stdout",
     "output_type": "stream",
     "text": [
      "Correct: 9431, total: 10000, accuracy: 0.9430999756, average loss: 0.0018921047\n"
     ]
    },
    {
     "name": "stderr",
     "output_type": "stream",
     "text": [
      "391it [00:24, 15.78it/s]"
     ]
    },
    {
     "name": "stdout",
     "output_type": "stream",
     "text": [
      "Epoch 334 finished, average loss: 0.0001197130\n",
      "Starting testing\n"
     ]
    },
    {
     "name": "stderr",
     "output_type": "stream",
     "text": [
      "\n"
     ]
    },
    {
     "name": "stdout",
     "output_type": "stream",
     "text": [
      "Correct: 9426, total: 10000, accuracy: 0.9425999522, average loss: 0.0019526075\n"
     ]
    },
    {
     "name": "stderr",
     "output_type": "stream",
     "text": [
      "391it [00:24, 15.77it/s]"
     ]
    },
    {
     "name": "stdout",
     "output_type": "stream",
     "text": [
      "Epoch 335 finished, average loss: 0.0001185850\n",
      "Starting testing\n"
     ]
    },
    {
     "name": "stderr",
     "output_type": "stream",
     "text": [
      "\n"
     ]
    },
    {
     "name": "stdout",
     "output_type": "stream",
     "text": [
      "Correct: 9425, total: 10000, accuracy: 0.9424999952, average loss: 0.0017840984\n"
     ]
    },
    {
     "name": "stderr",
     "output_type": "stream",
     "text": [
      "391it [00:24, 15.80it/s]"
     ]
    },
    {
     "name": "stdout",
     "output_type": "stream",
     "text": [
      "Epoch 336 finished, average loss: 0.0001282329\n",
      "Starting testing\n"
     ]
    },
    {
     "name": "stderr",
     "output_type": "stream",
     "text": [
      "\n"
     ]
    },
    {
     "name": "stdout",
     "output_type": "stream",
     "text": [
      "Correct: 9425, total: 10000, accuracy: 0.9424999952, average loss: 0.0018836875\n"
     ]
    },
    {
     "name": "stderr",
     "output_type": "stream",
     "text": [
      "391it [00:24, 15.78it/s]"
     ]
    },
    {
     "name": "stdout",
     "output_type": "stream",
     "text": [
      "Epoch 337 finished, average loss: 0.0001357987\n",
      "Starting testing\n"
     ]
    },
    {
     "name": "stderr",
     "output_type": "stream",
     "text": [
      "\n"
     ]
    },
    {
     "name": "stdout",
     "output_type": "stream",
     "text": [
      "Correct: 9391, total: 10000, accuracy: 0.9390999675, average loss: 0.0019065078\n"
     ]
    },
    {
     "name": "stderr",
     "output_type": "stream",
     "text": [
      "391it [00:24, 15.77it/s]"
     ]
    },
    {
     "name": "stdout",
     "output_type": "stream",
     "text": [
      "Epoch 338 finished, average loss: 0.0001166026\n",
      "Starting testing\n"
     ]
    },
    {
     "name": "stderr",
     "output_type": "stream",
     "text": [
      "\n"
     ]
    },
    {
     "name": "stdout",
     "output_type": "stream",
     "text": [
      "Correct: 9433, total: 10000, accuracy: 0.9432999492, average loss: 0.0017971144\n"
     ]
    },
    {
     "name": "stderr",
     "output_type": "stream",
     "text": [
      "391it [00:24, 15.68it/s]"
     ]
    },
    {
     "name": "stdout",
     "output_type": "stream",
     "text": [
      "Epoch 339 finished, average loss: 0.0001337654\n",
      "Starting testing\n"
     ]
    },
    {
     "name": "stderr",
     "output_type": "stream",
     "text": [
      "\n"
     ]
    },
    {
     "name": "stdout",
     "output_type": "stream",
     "text": [
      "Correct: 9418, total: 10000, accuracy: 0.9417999983, average loss: 0.0018929348\n"
     ]
    },
    {
     "name": "stderr",
     "output_type": "stream",
     "text": [
      "391it [00:24, 15.72it/s]"
     ]
    },
    {
     "name": "stdout",
     "output_type": "stream",
     "text": [
      "Epoch 340 finished, average loss: 0.0001360629\n",
      "Starting testing\n"
     ]
    },
    {
     "name": "stderr",
     "output_type": "stream",
     "text": [
      "\n"
     ]
    },
    {
     "name": "stdout",
     "output_type": "stream",
     "text": [
      "Correct: 9439, total: 10000, accuracy: 0.9438999891, average loss: 0.0018553974\n"
     ]
    },
    {
     "name": "stderr",
     "output_type": "stream",
     "text": [
      "391it [00:25, 15.57it/s]"
     ]
    },
    {
     "name": "stdout",
     "output_type": "stream",
     "text": [
      "Epoch 341 finished, average loss: 0.0001237107\n",
      "Starting testing\n"
     ]
    },
    {
     "name": "stderr",
     "output_type": "stream",
     "text": [
      "\n"
     ]
    },
    {
     "name": "stdout",
     "output_type": "stream",
     "text": [
      "Correct: 9423, total: 10000, accuracy: 0.9422999620, average loss: 0.0017981193\n"
     ]
    },
    {
     "name": "stderr",
     "output_type": "stream",
     "text": [
      "391it [00:24, 15.70it/s]"
     ]
    },
    {
     "name": "stdout",
     "output_type": "stream",
     "text": [
      "Epoch 342 finished, average loss: 0.0001275892\n",
      "Starting testing\n"
     ]
    },
    {
     "name": "stderr",
     "output_type": "stream",
     "text": [
      "\n"
     ]
    },
    {
     "name": "stdout",
     "output_type": "stream",
     "text": [
      "Correct: 9430, total: 10000, accuracy: 0.9429999590, average loss: 0.0018752892\n"
     ]
    },
    {
     "name": "stderr",
     "output_type": "stream",
     "text": [
      "391it [00:24, 15.75it/s]"
     ]
    },
    {
     "name": "stdout",
     "output_type": "stream",
     "text": [
      "Epoch 343 finished, average loss: 0.0001196549\n",
      "Starting testing\n"
     ]
    },
    {
     "name": "stderr",
     "output_type": "stream",
     "text": [
      "\n"
     ]
    },
    {
     "name": "stdout",
     "output_type": "stream",
     "text": [
      "Correct: 9448, total: 10000, accuracy: 0.9447999597, average loss: 0.0017507022\n"
     ]
    },
    {
     "name": "stderr",
     "output_type": "stream",
     "text": [
      "391it [00:24, 15.70it/s]"
     ]
    },
    {
     "name": "stdout",
     "output_type": "stream",
     "text": [
      "Epoch 344 finished, average loss: 0.0000991361\n",
      "Starting testing\n"
     ]
    },
    {
     "name": "stderr",
     "output_type": "stream",
     "text": [
      "\n"
     ]
    },
    {
     "name": "stdout",
     "output_type": "stream",
     "text": [
      "Correct: 9432, total: 10000, accuracy: 0.9431999922, average loss: 0.0018645714\n"
     ]
    },
    {
     "name": "stderr",
     "output_type": "stream",
     "text": [
      "391it [00:24, 15.71it/s]"
     ]
    },
    {
     "name": "stdout",
     "output_type": "stream",
     "text": [
      "Epoch 345 finished, average loss: 0.0001121034\n",
      "Starting testing\n"
     ]
    },
    {
     "name": "stderr",
     "output_type": "stream",
     "text": [
      "\n"
     ]
    },
    {
     "name": "stdout",
     "output_type": "stream",
     "text": [
      "Correct: 9424, total: 10000, accuracy: 0.9423999786, average loss: 0.0019384624\n"
     ]
    },
    {
     "name": "stderr",
     "output_type": "stream",
     "text": [
      "391it [00:24, 15.77it/s]"
     ]
    },
    {
     "name": "stdout",
     "output_type": "stream",
     "text": [
      "Epoch 346 finished, average loss: 0.0001426373\n",
      "Starting testing\n"
     ]
    },
    {
     "name": "stderr",
     "output_type": "stream",
     "text": [
      "\n"
     ]
    },
    {
     "name": "stdout",
     "output_type": "stream",
     "text": [
      "Correct: 9415, total: 10000, accuracy: 0.9414999485, average loss: 0.0019037833\n"
     ]
    },
    {
     "name": "stderr",
     "output_type": "stream",
     "text": [
      "391it [00:24, 15.74it/s]"
     ]
    },
    {
     "name": "stdout",
     "output_type": "stream",
     "text": [
      "Epoch 347 finished, average loss: 0.0001387175\n",
      "Starting testing\n"
     ]
    },
    {
     "name": "stderr",
     "output_type": "stream",
     "text": [
      "\n"
     ]
    },
    {
     "name": "stdout",
     "output_type": "stream",
     "text": [
      "Correct: 9426, total: 10000, accuracy: 0.9425999522, average loss: 0.0019123812\n"
     ]
    },
    {
     "name": "stderr",
     "output_type": "stream",
     "text": [
      "391it [00:24, 15.72it/s]"
     ]
    },
    {
     "name": "stdout",
     "output_type": "stream",
     "text": [
      "Epoch 348 finished, average loss: 0.0001250619\n",
      "Starting testing\n"
     ]
    },
    {
     "name": "stderr",
     "output_type": "stream",
     "text": [
      "\n"
     ]
    },
    {
     "name": "stdout",
     "output_type": "stream",
     "text": [
      "Correct: 9443, total: 10000, accuracy: 0.9442999959, average loss: 0.0018154720\n"
     ]
    },
    {
     "name": "stderr",
     "output_type": "stream",
     "text": [
      "391it [00:24, 15.70it/s]"
     ]
    },
    {
     "name": "stdout",
     "output_type": "stream",
     "text": [
      "Epoch 349 finished, average loss: 0.0001281198\n",
      "Starting testing\n"
     ]
    },
    {
     "name": "stderr",
     "output_type": "stream",
     "text": [
      "\n"
     ]
    },
    {
     "name": "stdout",
     "output_type": "stream",
     "text": [
      "Correct: 9425, total: 10000, accuracy: 0.9424999952, average loss: 0.0019712977\n"
     ]
    },
    {
     "name": "stderr",
     "output_type": "stream",
     "text": [
      "391it [00:24, 15.69it/s]"
     ]
    },
    {
     "name": "stdout",
     "output_type": "stream",
     "text": [
      "Epoch 350 finished, average loss: 0.0001418876\n",
      "Starting testing\n"
     ]
    },
    {
     "name": "stderr",
     "output_type": "stream",
     "text": [
      "\n"
     ]
    },
    {
     "name": "stdout",
     "output_type": "stream",
     "text": [
      "Correct: 9421, total: 10000, accuracy: 0.9420999885, average loss: 0.0019054785\n"
     ]
    },
    {
     "name": "stderr",
     "output_type": "stream",
     "text": [
      "391it [00:24, 15.77it/s]"
     ]
    },
    {
     "name": "stdout",
     "output_type": "stream",
     "text": [
      "Epoch 351 finished, average loss: 0.0001406745\n",
      "Starting testing\n"
     ]
    },
    {
     "name": "stderr",
     "output_type": "stream",
     "text": [
      "\n"
     ]
    },
    {
     "name": "stdout",
     "output_type": "stream",
     "text": [
      "Correct: 9408, total: 10000, accuracy: 0.9407999516, average loss: 0.0018845958\n"
     ]
    },
    {
     "name": "stderr",
     "output_type": "stream",
     "text": [
      "391it [00:24, 15.71it/s]"
     ]
    },
    {
     "name": "stdout",
     "output_type": "stream",
     "text": [
      "Epoch 352 finished, average loss: 0.0001287635\n",
      "Starting testing\n"
     ]
    },
    {
     "name": "stderr",
     "output_type": "stream",
     "text": [
      "\n"
     ]
    },
    {
     "name": "stdout",
     "output_type": "stream",
     "text": [
      "Correct: 9409, total: 10000, accuracy: 0.9408999681, average loss: 0.0020796149\n"
     ]
    },
    {
     "name": "stderr",
     "output_type": "stream",
     "text": [
      "391it [00:24, 15.68it/s]"
     ]
    },
    {
     "name": "stdout",
     "output_type": "stream",
     "text": [
      "Epoch 353 finished, average loss: 0.0001506922\n",
      "Starting testing\n"
     ]
    },
    {
     "name": "stderr",
     "output_type": "stream",
     "text": [
      "\n"
     ]
    },
    {
     "name": "stdout",
     "output_type": "stream",
     "text": [
      "Correct: 9424, total: 10000, accuracy: 0.9423999786, average loss: 0.0018726182\n"
     ]
    },
    {
     "name": "stderr",
     "output_type": "stream",
     "text": [
      "391it [00:24, 15.80it/s]"
     ]
    },
    {
     "name": "stdout",
     "output_type": "stream",
     "text": [
      "Epoch 354 finished, average loss: 0.0001239235\n",
      "Starting testing\n"
     ]
    },
    {
     "name": "stderr",
     "output_type": "stream",
     "text": [
      "\n"
     ]
    },
    {
     "name": "stdout",
     "output_type": "stream",
     "text": [
      "Correct: 9425, total: 10000, accuracy: 0.9424999952, average loss: 0.0020167871\n"
     ]
    },
    {
     "name": "stderr",
     "output_type": "stream",
     "text": [
      "391it [00:25, 15.59it/s]"
     ]
    },
    {
     "name": "stdout",
     "output_type": "stream",
     "text": [
      "Epoch 355 finished, average loss: 0.0001116580\n",
      "Starting testing\n"
     ]
    },
    {
     "name": "stderr",
     "output_type": "stream",
     "text": [
      "\n"
     ]
    },
    {
     "name": "stdout",
     "output_type": "stream",
     "text": [
      "Correct: 9426, total: 10000, accuracy: 0.9425999522, average loss: 0.0018738577\n"
     ]
    },
    {
     "name": "stderr",
     "output_type": "stream",
     "text": [
      "391it [00:24, 15.69it/s]"
     ]
    },
    {
     "name": "stdout",
     "output_type": "stream",
     "text": [
      "Epoch 356 finished, average loss: 0.0001257167\n",
      "Starting testing\n"
     ]
    },
    {
     "name": "stderr",
     "output_type": "stream",
     "text": [
      "\n"
     ]
    },
    {
     "name": "stdout",
     "output_type": "stream",
     "text": [
      "Correct: 9430, total: 10000, accuracy: 0.9429999590, average loss: 0.0018425420\n"
     ]
    },
    {
     "name": "stderr",
     "output_type": "stream",
     "text": [
      "391it [00:24, 15.77it/s]"
     ]
    },
    {
     "name": "stdout",
     "output_type": "stream",
     "text": [
      "Epoch 357 finished, average loss: 0.0001202153\n",
      "Starting testing\n"
     ]
    },
    {
     "name": "stderr",
     "output_type": "stream",
     "text": [
      "\n"
     ]
    },
    {
     "name": "stdout",
     "output_type": "stream",
     "text": [
      "Correct: 9451, total: 10000, accuracy: 0.9450999498, average loss: 0.0018119719\n"
     ]
    },
    {
     "name": "stderr",
     "output_type": "stream",
     "text": [
      "391it [00:24, 15.73it/s]"
     ]
    },
    {
     "name": "stdout",
     "output_type": "stream",
     "text": [
      "Epoch 358 finished, average loss: 0.0001405059\n",
      "Starting testing\n"
     ]
    },
    {
     "name": "stderr",
     "output_type": "stream",
     "text": [
      "\n"
     ]
    },
    {
     "name": "stdout",
     "output_type": "stream",
     "text": [
      "Correct: 9442, total: 10000, accuracy: 0.9441999793, average loss: 0.0018061131\n"
     ]
    },
    {
     "name": "stderr",
     "output_type": "stream",
     "text": [
      "391it [00:24, 15.74it/s]"
     ]
    },
    {
     "name": "stdout",
     "output_type": "stream",
     "text": [
      "Epoch 359 finished, average loss: 0.0001288660\n",
      "Starting testing\n"
     ]
    },
    {
     "name": "stderr",
     "output_type": "stream",
     "text": [
      "\n"
     ]
    },
    {
     "name": "stdout",
     "output_type": "stream",
     "text": [
      "Correct: 9415, total: 10000, accuracy: 0.9414999485, average loss: 0.0019018508\n"
     ]
    },
    {
     "name": "stderr",
     "output_type": "stream",
     "text": [
      "391it [00:24, 15.69it/s]"
     ]
    },
    {
     "name": "stdout",
     "output_type": "stream",
     "text": [
      "Epoch 360 finished, average loss: 0.0001314362\n",
      "Starting testing\n"
     ]
    },
    {
     "name": "stderr",
     "output_type": "stream",
     "text": [
      "\n"
     ]
    },
    {
     "name": "stdout",
     "output_type": "stream",
     "text": [
      "Correct: 9412, total: 10000, accuracy: 0.9411999583, average loss: 0.0019499880\n"
     ]
    },
    {
     "name": "stderr",
     "output_type": "stream",
     "text": [
      "391it [00:24, 15.73it/s]"
     ]
    },
    {
     "name": "stdout",
     "output_type": "stream",
     "text": [
      "Epoch 361 finished, average loss: 0.0001323190\n",
      "Starting testing\n"
     ]
    },
    {
     "name": "stderr",
     "output_type": "stream",
     "text": [
      "\n"
     ]
    },
    {
     "name": "stdout",
     "output_type": "stream",
     "text": [
      "Correct: 9429, total: 10000, accuracy: 0.9429000020, average loss: 0.0018078680\n"
     ]
    },
    {
     "name": "stderr",
     "output_type": "stream",
     "text": [
      "391it [00:24, 15.75it/s]"
     ]
    },
    {
     "name": "stdout",
     "output_type": "stream",
     "text": [
      "Epoch 362 finished, average loss: 0.0001379434\n",
      "Starting testing\n"
     ]
    },
    {
     "name": "stderr",
     "output_type": "stream",
     "text": [
      "\n"
     ]
    },
    {
     "name": "stdout",
     "output_type": "stream",
     "text": [
      "Correct: 9417, total: 10000, accuracy: 0.9416999817, average loss: 0.0017659119\n"
     ]
    },
    {
     "name": "stderr",
     "output_type": "stream",
     "text": [
      "391it [00:24, 15.72it/s]"
     ]
    },
    {
     "name": "stdout",
     "output_type": "stream",
     "text": [
      "Epoch 363 finished, average loss: 0.0001357864\n",
      "Starting testing\n"
     ]
    },
    {
     "name": "stderr",
     "output_type": "stream",
     "text": [
      "\n"
     ]
    },
    {
     "name": "stdout",
     "output_type": "stream",
     "text": [
      "Correct: 9426, total: 10000, accuracy: 0.9425999522, average loss: 0.0018636613\n"
     ]
    },
    {
     "name": "stderr",
     "output_type": "stream",
     "text": [
      "391it [00:24, 15.80it/s]"
     ]
    },
    {
     "name": "stdout",
     "output_type": "stream",
     "text": [
      "Epoch 364 finished, average loss: 0.0001378903\n",
      "Starting testing\n"
     ]
    },
    {
     "name": "stderr",
     "output_type": "stream",
     "text": [
      "\n"
     ]
    },
    {
     "name": "stdout",
     "output_type": "stream",
     "text": [
      "Correct: 9425, total: 10000, accuracy: 0.9424999952, average loss: 0.0019025409\n"
     ]
    },
    {
     "name": "stderr",
     "output_type": "stream",
     "text": [
      "391it [00:24, 16.24it/s]"
     ]
    },
    {
     "name": "stdout",
     "output_type": "stream",
     "text": [
      "Epoch 365 finished, average loss: 0.0001277625\n",
      "Starting testing\n"
     ]
    },
    {
     "name": "stderr",
     "output_type": "stream",
     "text": [
      "\n"
     ]
    },
    {
     "name": "stdout",
     "output_type": "stream",
     "text": [
      "Correct: 9420, total: 10000, accuracy: 0.9419999719, average loss: 0.0019151171\n"
     ]
    },
    {
     "name": "stderr",
     "output_type": "stream",
     "text": [
      "391it [00:23, 16.72it/s]"
     ]
    },
    {
     "name": "stdout",
     "output_type": "stream",
     "text": [
      "Epoch 366 finished, average loss: 0.0001466661\n",
      "Starting testing\n"
     ]
    },
    {
     "name": "stderr",
     "output_type": "stream",
     "text": [
      "\n"
     ]
    },
    {
     "name": "stdout",
     "output_type": "stream",
     "text": [
      "Correct: 9404, total: 10000, accuracy: 0.9404000044, average loss: 0.0019561537\n"
     ]
    },
    {
     "name": "stderr",
     "output_type": "stream",
     "text": [
      "391it [00:23, 16.67it/s]"
     ]
    },
    {
     "name": "stdout",
     "output_type": "stream",
     "text": [
      "Epoch 367 finished, average loss: 0.0001313872\n",
      "Starting testing\n"
     ]
    },
    {
     "name": "stderr",
     "output_type": "stream",
     "text": [
      "\n"
     ]
    },
    {
     "name": "stdout",
     "output_type": "stream",
     "text": [
      "Correct: 9406, total: 10000, accuracy: 0.9405999780, average loss: 0.0019882609\n"
     ]
    },
    {
     "name": "stderr",
     "output_type": "stream",
     "text": [
      "391it [00:23, 16.68it/s]"
     ]
    },
    {
     "name": "stdout",
     "output_type": "stream",
     "text": [
      "Epoch 368 finished, average loss: 0.0001366276\n",
      "Starting testing\n"
     ]
    },
    {
     "name": "stderr",
     "output_type": "stream",
     "text": [
      "\n"
     ]
    },
    {
     "name": "stdout",
     "output_type": "stream",
     "text": [
      "Correct: 9418, total: 10000, accuracy: 0.9417999983, average loss: 0.0018836264\n"
     ]
    },
    {
     "name": "stderr",
     "output_type": "stream",
     "text": [
      "391it [00:23, 16.65it/s]"
     ]
    },
    {
     "name": "stdout",
     "output_type": "stream",
     "text": [
      "Epoch 369 finished, average loss: 0.0001419913\n",
      "Starting testing\n"
     ]
    },
    {
     "name": "stderr",
     "output_type": "stream",
     "text": [
      "\n"
     ]
    },
    {
     "name": "stdout",
     "output_type": "stream",
     "text": [
      "Correct: 9362, total: 10000, accuracy: 0.9361999631, average loss: 0.0020888015\n"
     ]
    },
    {
     "name": "stderr",
     "output_type": "stream",
     "text": [
      "391it [00:23, 16.58it/s]"
     ]
    },
    {
     "name": "stdout",
     "output_type": "stream",
     "text": [
      "Epoch 370 finished, average loss: 0.0001471150\n",
      "Starting testing\n"
     ]
    },
    {
     "name": "stderr",
     "output_type": "stream",
     "text": [
      "\n"
     ]
    },
    {
     "name": "stdout",
     "output_type": "stream",
     "text": [
      "Correct: 9425, total: 10000, accuracy: 0.9424999952, average loss: 0.0019739799\n"
     ]
    },
    {
     "name": "stderr",
     "output_type": "stream",
     "text": [
      "391it [00:23, 16.68it/s]"
     ]
    },
    {
     "name": "stdout",
     "output_type": "stream",
     "text": [
      "Epoch 371 finished, average loss: 0.0001365752\n",
      "Starting testing\n"
     ]
    },
    {
     "name": "stderr",
     "output_type": "stream",
     "text": [
      "\n"
     ]
    },
    {
     "name": "stdout",
     "output_type": "stream",
     "text": [
      "Correct: 9399, total: 10000, accuracy: 0.9398999810, average loss: 0.0019582177\n"
     ]
    },
    {
     "name": "stderr",
     "output_type": "stream",
     "text": [
      "391it [00:23, 16.63it/s]"
     ]
    },
    {
     "name": "stdout",
     "output_type": "stream",
     "text": [
      "Epoch 372 finished, average loss: 0.0001490079\n",
      "Starting testing\n"
     ]
    },
    {
     "name": "stderr",
     "output_type": "stream",
     "text": [
      "\n"
     ]
    },
    {
     "name": "stdout",
     "output_type": "stream",
     "text": [
      "Correct: 9430, total: 10000, accuracy: 0.9429999590, average loss: 0.0019025412\n"
     ]
    },
    {
     "name": "stderr",
     "output_type": "stream",
     "text": [
      "391it [00:23, 16.66it/s]"
     ]
    },
    {
     "name": "stdout",
     "output_type": "stream",
     "text": [
      "Epoch 373 finished, average loss: 0.0001405379\n",
      "Starting testing\n"
     ]
    },
    {
     "name": "stderr",
     "output_type": "stream",
     "text": [
      "\n"
     ]
    },
    {
     "name": "stdout",
     "output_type": "stream",
     "text": [
      "Correct: 9437, total: 10000, accuracy: 0.9436999559, average loss: 0.0018028768\n"
     ]
    },
    {
     "name": "stderr",
     "output_type": "stream",
     "text": [
      "391it [00:23, 16.54it/s]"
     ]
    },
    {
     "name": "stdout",
     "output_type": "stream",
     "text": [
      "Epoch 374 finished, average loss: 0.0001369760\n",
      "Starting testing\n"
     ]
    },
    {
     "name": "stderr",
     "output_type": "stream",
     "text": [
      "\n"
     ]
    },
    {
     "name": "stdout",
     "output_type": "stream",
     "text": [
      "Correct: 9424, total: 10000, accuracy: 0.9423999786, average loss: 0.0018704333\n"
     ]
    },
    {
     "name": "stderr",
     "output_type": "stream",
     "text": [
      "391it [00:23, 16.41it/s]"
     ]
    },
    {
     "name": "stdout",
     "output_type": "stream",
     "text": [
      "Epoch 375 finished, average loss: 0.0001459084\n",
      "Starting testing\n"
     ]
    },
    {
     "name": "stderr",
     "output_type": "stream",
     "text": [
      "\n"
     ]
    },
    {
     "name": "stdout",
     "output_type": "stream",
     "text": [
      "Correct: 9426, total: 10000, accuracy: 0.9425999522, average loss: 0.0018598033\n"
     ]
    },
    {
     "name": "stderr",
     "output_type": "stream",
     "text": [
      "391it [00:23, 16.48it/s]"
     ]
    },
    {
     "name": "stdout",
     "output_type": "stream",
     "text": [
      "Epoch 376 finished, average loss: 0.0001109225\n",
      "Starting testing\n"
     ]
    },
    {
     "name": "stderr",
     "output_type": "stream",
     "text": [
      "\n"
     ]
    },
    {
     "name": "stdout",
     "output_type": "stream",
     "text": [
      "Correct: 9439, total: 10000, accuracy: 0.9438999891, average loss: 0.0017828828\n"
     ]
    },
    {
     "name": "stderr",
     "output_type": "stream",
     "text": [
      "391it [00:23, 16.44it/s]"
     ]
    },
    {
     "name": "stdout",
     "output_type": "stream",
     "text": [
      "Epoch 377 finished, average loss: 0.0001034797\n",
      "Starting testing\n"
     ]
    },
    {
     "name": "stderr",
     "output_type": "stream",
     "text": [
      "\n"
     ]
    },
    {
     "name": "stdout",
     "output_type": "stream",
     "text": [
      "Correct: 9442, total: 10000, accuracy: 0.9441999793, average loss: 0.0018613416\n"
     ]
    },
    {
     "name": "stderr",
     "output_type": "stream",
     "text": [
      "391it [00:23, 16.44it/s]"
     ]
    },
    {
     "name": "stdout",
     "output_type": "stream",
     "text": [
      "Epoch 378 finished, average loss: 0.0000896624\n",
      "Starting testing\n"
     ]
    },
    {
     "name": "stderr",
     "output_type": "stream",
     "text": [
      "\n"
     ]
    },
    {
     "name": "stdout",
     "output_type": "stream",
     "text": [
      "Correct: 9458, total: 10000, accuracy: 0.9457999468, average loss: 0.0017342045\n"
     ]
    },
    {
     "name": "stderr",
     "output_type": "stream",
     "text": [
      "391it [00:23, 16.61it/s]"
     ]
    },
    {
     "name": "stdout",
     "output_type": "stream",
     "text": [
      "Epoch 379 finished, average loss: 0.0000773450\n",
      "Starting testing\n"
     ]
    },
    {
     "name": "stderr",
     "output_type": "stream",
     "text": [
      "\n"
     ]
    },
    {
     "name": "stdout",
     "output_type": "stream",
     "text": [
      "Correct: 9463, total: 10000, accuracy: 0.9462999701, average loss: 0.0018099447\n"
     ]
    },
    {
     "name": "stderr",
     "output_type": "stream",
     "text": [
      "391it [00:23, 16.54it/s]"
     ]
    },
    {
     "name": "stdout",
     "output_type": "stream",
     "text": [
      "Epoch 380 finished, average loss: 0.0000751817\n",
      "Starting testing\n"
     ]
    },
    {
     "name": "stderr",
     "output_type": "stream",
     "text": [
      "\n"
     ]
    },
    {
     "name": "stdout",
     "output_type": "stream",
     "text": [
      "Correct: 9469, total: 10000, accuracy: 0.9468999505, average loss: 0.0016830891\n"
     ]
    },
    {
     "name": "stderr",
     "output_type": "stream",
     "text": [
      "391it [00:23, 16.49it/s]"
     ]
    },
    {
     "name": "stdout",
     "output_type": "stream",
     "text": [
      "Epoch 381 finished, average loss: 0.0000813133\n",
      "Starting testing\n"
     ]
    },
    {
     "name": "stderr",
     "output_type": "stream",
     "text": [
      "\n"
     ]
    },
    {
     "name": "stdout",
     "output_type": "stream",
     "text": [
      "Correct: 9470, total: 10000, accuracy: 0.9469999671, average loss: 0.0017478859\n"
     ]
    },
    {
     "name": "stderr",
     "output_type": "stream",
     "text": [
      "391it [00:23, 16.49it/s]"
     ]
    },
    {
     "name": "stdout",
     "output_type": "stream",
     "text": [
      "Epoch 382 finished, average loss: 0.0000726793\n",
      "Starting testing\n"
     ]
    },
    {
     "name": "stderr",
     "output_type": "stream",
     "text": [
      "\n"
     ]
    },
    {
     "name": "stdout",
     "output_type": "stream",
     "text": [
      "Correct: 9476, total: 10000, accuracy: 0.9475999475, average loss: 0.0017224313\n"
     ]
    },
    {
     "name": "stderr",
     "output_type": "stream",
     "text": [
      "391it [00:23, 16.54it/s]"
     ]
    },
    {
     "name": "stdout",
     "output_type": "stream",
     "text": [
      "Epoch 383 finished, average loss: 0.0000769960\n",
      "Starting testing\n"
     ]
    },
    {
     "name": "stderr",
     "output_type": "stream",
     "text": [
      "\n"
     ]
    },
    {
     "name": "stdout",
     "output_type": "stream",
     "text": [
      "Correct: 9461, total: 10000, accuracy: 0.9460999966, average loss: 0.0017399455\n"
     ]
    },
    {
     "name": "stderr",
     "output_type": "stream",
     "text": [
      "391it [00:23, 16.65it/s]"
     ]
    },
    {
     "name": "stdout",
     "output_type": "stream",
     "text": [
      "Epoch 384 finished, average loss: 0.0000783512\n",
      "Starting testing\n"
     ]
    },
    {
     "name": "stderr",
     "output_type": "stream",
     "text": [
      "\n"
     ]
    },
    {
     "name": "stdout",
     "output_type": "stream",
     "text": [
      "Correct: 9478, total: 10000, accuracy: 0.9477999806, average loss: 0.0017796923\n"
     ]
    },
    {
     "name": "stderr",
     "output_type": "stream",
     "text": [
      "391it [00:23, 16.60it/s]"
     ]
    },
    {
     "name": "stdout",
     "output_type": "stream",
     "text": [
      "Epoch 385 finished, average loss: 0.0000661194\n",
      "Starting testing\n"
     ]
    },
    {
     "name": "stderr",
     "output_type": "stream",
     "text": [
      "\n"
     ]
    },
    {
     "name": "stdout",
     "output_type": "stream",
     "text": [
      "Correct: 9494, total: 10000, accuracy: 0.9493999481, average loss: 0.0017396392\n"
     ]
    },
    {
     "name": "stderr",
     "output_type": "stream",
     "text": [
      "391it [00:23, 16.64it/s]"
     ]
    },
    {
     "name": "stdout",
     "output_type": "stream",
     "text": [
      "Epoch 386 finished, average loss: 0.0000675599\n",
      "Starting testing\n"
     ]
    },
    {
     "name": "stderr",
     "output_type": "stream",
     "text": [
      "\n"
     ]
    },
    {
     "name": "stdout",
     "output_type": "stream",
     "text": [
      "Correct: 9473, total: 10000, accuracy: 0.9472999573, average loss: 0.0018202206\n"
     ]
    },
    {
     "name": "stderr",
     "output_type": "stream",
     "text": [
      "391it [00:23, 16.61it/s]"
     ]
    },
    {
     "name": "stdout",
     "output_type": "stream",
     "text": [
      "Epoch 387 finished, average loss: 0.0000655335\n",
      "Starting testing\n"
     ]
    },
    {
     "name": "stderr",
     "output_type": "stream",
     "text": [
      "\n"
     ]
    },
    {
     "name": "stdout",
     "output_type": "stream",
     "text": [
      "Correct: 9476, total: 10000, accuracy: 0.9475999475, average loss: 0.0019344906\n"
     ]
    },
    {
     "name": "stderr",
     "output_type": "stream",
     "text": [
      "391it [00:23, 16.59it/s]"
     ]
    },
    {
     "name": "stdout",
     "output_type": "stream",
     "text": [
      "Epoch 388 finished, average loss: 0.0000634491\n",
      "Starting testing\n"
     ]
    },
    {
     "name": "stderr",
     "output_type": "stream",
     "text": [
      "\n"
     ]
    },
    {
     "name": "stdout",
     "output_type": "stream",
     "text": [
      "Correct: 9475, total: 10000, accuracy: 0.9474999905, average loss: 0.0018607713\n"
     ]
    },
    {
     "name": "stderr",
     "output_type": "stream",
     "text": [
      "391it [00:23, 16.55it/s]"
     ]
    },
    {
     "name": "stdout",
     "output_type": "stream",
     "text": [
      "Epoch 389 finished, average loss: 0.0000636307\n",
      "Starting testing\n"
     ]
    },
    {
     "name": "stderr",
     "output_type": "stream",
     "text": [
      "\n"
     ]
    },
    {
     "name": "stdout",
     "output_type": "stream",
     "text": [
      "Correct: 9485, total: 10000, accuracy: 0.9484999776, average loss: 0.0017555081\n"
     ]
    },
    {
     "name": "stderr",
     "output_type": "stream",
     "text": [
      "391it [00:23, 16.52it/s]"
     ]
    },
    {
     "name": "stdout",
     "output_type": "stream",
     "text": [
      "Epoch 390 finished, average loss: 0.0000636683\n",
      "Starting testing\n"
     ]
    },
    {
     "name": "stderr",
     "output_type": "stream",
     "text": [
      "\n"
     ]
    },
    {
     "name": "stdout",
     "output_type": "stream",
     "text": [
      "Correct: 9483, total: 10000, accuracy: 0.9483000040, average loss: 0.0017757427\n"
     ]
    },
    {
     "name": "stderr",
     "output_type": "stream",
     "text": [
      "391it [00:23, 16.61it/s]"
     ]
    },
    {
     "name": "stdout",
     "output_type": "stream",
     "text": [
      "Epoch 391 finished, average loss: 0.0000637383\n",
      "Starting testing\n"
     ]
    },
    {
     "name": "stderr",
     "output_type": "stream",
     "text": [
      "\n"
     ]
    },
    {
     "name": "stdout",
     "output_type": "stream",
     "text": [
      "Correct: 9474, total: 10000, accuracy: 0.9473999739, average loss: 0.0017659188\n"
     ]
    },
    {
     "name": "stderr",
     "output_type": "stream",
     "text": [
      "391it [00:23, 16.62it/s]"
     ]
    },
    {
     "name": "stdout",
     "output_type": "stream",
     "text": [
      "Epoch 392 finished, average loss: 0.0000690185\n",
      "Starting testing\n"
     ]
    },
    {
     "name": "stderr",
     "output_type": "stream",
     "text": [
      "\n"
     ]
    },
    {
     "name": "stdout",
     "output_type": "stream",
     "text": [
      "Correct: 9464, total: 10000, accuracy: 0.9463999867, average loss: 0.0017852999\n"
     ]
    },
    {
     "name": "stderr",
     "output_type": "stream",
     "text": [
      "391it [00:23, 16.53it/s]"
     ]
    },
    {
     "name": "stdout",
     "output_type": "stream",
     "text": [
      "Epoch 393 finished, average loss: 0.0000702292\n",
      "Starting testing\n"
     ]
    },
    {
     "name": "stderr",
     "output_type": "stream",
     "text": [
      "\n"
     ]
    },
    {
     "name": "stdout",
     "output_type": "stream",
     "text": [
      "Correct: 9461, total: 10000, accuracy: 0.9460999966, average loss: 0.0018743164\n"
     ]
    },
    {
     "name": "stderr",
     "output_type": "stream",
     "text": [
      "391it [00:23, 16.59it/s]"
     ]
    },
    {
     "name": "stdout",
     "output_type": "stream",
     "text": [
      "Epoch 394 finished, average loss: 0.0000621571\n",
      "Starting testing\n"
     ]
    },
    {
     "name": "stderr",
     "output_type": "stream",
     "text": [
      "\n"
     ]
    },
    {
     "name": "stdout",
     "output_type": "stream",
     "text": [
      "Correct: 9480, total: 10000, accuracy: 0.9479999542, average loss: 0.0017481065\n"
     ]
    },
    {
     "name": "stderr",
     "output_type": "stream",
     "text": [
      "391it [00:23, 16.52it/s]"
     ]
    },
    {
     "name": "stdout",
     "output_type": "stream",
     "text": [
      "Epoch 395 finished, average loss: 0.0000551910\n",
      "Starting testing\n"
     ]
    },
    {
     "name": "stderr",
     "output_type": "stream",
     "text": [
      "\n"
     ]
    },
    {
     "name": "stdout",
     "output_type": "stream",
     "text": [
      "Correct: 9471, total: 10000, accuracy: 0.9470999837, average loss: 0.0017913530\n"
     ]
    },
    {
     "name": "stderr",
     "output_type": "stream",
     "text": [
      "391it [00:23, 16.63it/s]"
     ]
    },
    {
     "name": "stdout",
     "output_type": "stream",
     "text": [
      "Epoch 396 finished, average loss: 0.0000572525\n",
      "Starting testing\n"
     ]
    },
    {
     "name": "stderr",
     "output_type": "stream",
     "text": [
      "\n"
     ]
    },
    {
     "name": "stdout",
     "output_type": "stream",
     "text": [
      "Correct: 9459, total: 10000, accuracy: 0.9458999634, average loss: 0.0018716967\n"
     ]
    },
    {
     "name": "stderr",
     "output_type": "stream",
     "text": [
      "391it [00:23, 16.54it/s]"
     ]
    },
    {
     "name": "stdout",
     "output_type": "stream",
     "text": [
      "Epoch 397 finished, average loss: 0.0000850613\n",
      "Starting testing\n"
     ]
    },
    {
     "name": "stderr",
     "output_type": "stream",
     "text": [
      "\n"
     ]
    },
    {
     "name": "stdout",
     "output_type": "stream",
     "text": [
      "Correct: 9476, total: 10000, accuracy: 0.9475999475, average loss: 0.0017604573\n"
     ]
    },
    {
     "name": "stderr",
     "output_type": "stream",
     "text": [
      "391it [00:23, 16.51it/s]"
     ]
    },
    {
     "name": "stdout",
     "output_type": "stream",
     "text": [
      "Epoch 398 finished, average loss: 0.0000761378\n",
      "Starting testing\n"
     ]
    },
    {
     "name": "stderr",
     "output_type": "stream",
     "text": [
      "\n"
     ]
    },
    {
     "name": "stdout",
     "output_type": "stream",
     "text": [
      "Correct: 9473, total: 10000, accuracy: 0.9472999573, average loss: 0.0017481265\n"
     ]
    },
    {
     "name": "stderr",
     "output_type": "stream",
     "text": [
      "391it [00:23, 16.52it/s]"
     ]
    },
    {
     "name": "stdout",
     "output_type": "stream",
     "text": [
      "Epoch 399 finished, average loss: 0.0000609749\n",
      "Starting testing\n"
     ]
    },
    {
     "name": "stderr",
     "output_type": "stream",
     "text": [
      "\n"
     ]
    },
    {
     "name": "stdout",
     "output_type": "stream",
     "text": [
      "Correct: 9481, total: 10000, accuracy: 0.9480999708, average loss: 0.0017557809\n"
     ]
    },
    {
     "name": "stderr",
     "output_type": "stream",
     "text": [
      "391it [00:23, 16.54it/s]"
     ]
    },
    {
     "name": "stdout",
     "output_type": "stream",
     "text": [
      "Epoch 400 finished, average loss: 0.0000494113\n",
      "Starting testing\n"
     ]
    },
    {
     "name": "stderr",
     "output_type": "stream",
     "text": [
      "\n"
     ]
    },
    {
     "name": "stdout",
     "output_type": "stream",
     "text": [
      "Correct: 9472, total: 10000, accuracy: 0.9472000003, average loss: 0.0018134305\n"
     ]
    },
    {
     "name": "stderr",
     "output_type": "stream",
     "text": [
      "391it [00:23, 16.54it/s]"
     ]
    },
    {
     "name": "stdout",
     "output_type": "stream",
     "text": [
      "Epoch 401 finished, average loss: 0.0000583781\n",
      "Starting testing\n"
     ]
    },
    {
     "name": "stderr",
     "output_type": "stream",
     "text": [
      "\n"
     ]
    },
    {
     "name": "stdout",
     "output_type": "stream",
     "text": [
      "Correct: 9477, total: 10000, accuracy: 0.9476999640, average loss: 0.0019382122\n"
     ]
    },
    {
     "name": "stderr",
     "output_type": "stream",
     "text": [
      "391it [00:23, 16.58it/s]"
     ]
    },
    {
     "name": "stdout",
     "output_type": "stream",
     "text": [
      "Epoch 402 finished, average loss: 0.0000565375\n",
      "Starting testing\n"
     ]
    },
    {
     "name": "stderr",
     "output_type": "stream",
     "text": [
      "\n"
     ]
    },
    {
     "name": "stdout",
     "output_type": "stream",
     "text": [
      "Correct: 9473, total: 10000, accuracy: 0.9472999573, average loss: 0.0017724955\n"
     ]
    },
    {
     "name": "stderr",
     "output_type": "stream",
     "text": [
      "391it [00:23, 16.51it/s]"
     ]
    },
    {
     "name": "stdout",
     "output_type": "stream",
     "text": [
      "Epoch 403 finished, average loss: 0.0000635264\n",
      "Starting testing\n"
     ]
    },
    {
     "name": "stderr",
     "output_type": "stream",
     "text": [
      "\n"
     ]
    },
    {
     "name": "stdout",
     "output_type": "stream",
     "text": [
      "Correct: 9479, total: 10000, accuracy: 0.9478999972, average loss: 0.0017842642\n"
     ]
    },
    {
     "name": "stderr",
     "output_type": "stream",
     "text": [
      "391it [00:23, 16.60it/s]"
     ]
    },
    {
     "name": "stdout",
     "output_type": "stream",
     "text": [
      "Epoch 404 finished, average loss: 0.0000580836\n",
      "Starting testing\n"
     ]
    },
    {
     "name": "stderr",
     "output_type": "stream",
     "text": [
      "\n"
     ]
    },
    {
     "name": "stdout",
     "output_type": "stream",
     "text": [
      "Correct: 9482, total: 10000, accuracy: 0.9481999874, average loss: 0.0018372731\n"
     ]
    },
    {
     "name": "stderr",
     "output_type": "stream",
     "text": [
      "391it [00:23, 16.55it/s]"
     ]
    },
    {
     "name": "stdout",
     "output_type": "stream",
     "text": [
      "Epoch 405 finished, average loss: 0.0000531813\n",
      "Starting testing\n"
     ]
    },
    {
     "name": "stderr",
     "output_type": "stream",
     "text": [
      "\n"
     ]
    },
    {
     "name": "stdout",
     "output_type": "stream",
     "text": [
      "Correct: 9471, total: 10000, accuracy: 0.9470999837, average loss: 0.0019266833\n"
     ]
    },
    {
     "name": "stderr",
     "output_type": "stream",
     "text": [
      "391it [00:23, 16.53it/s]"
     ]
    },
    {
     "name": "stdout",
     "output_type": "stream",
     "text": [
      "Epoch 406 finished, average loss: 0.0000528147\n",
      "Starting testing\n"
     ]
    },
    {
     "name": "stderr",
     "output_type": "stream",
     "text": [
      "\n"
     ]
    },
    {
     "name": "stdout",
     "output_type": "stream",
     "text": [
      "Correct: 9483, total: 10000, accuracy: 0.9483000040, average loss: 0.0017774496\n"
     ]
    },
    {
     "name": "stderr",
     "output_type": "stream",
     "text": [
      "391it [00:23, 16.59it/s]"
     ]
    },
    {
     "name": "stdout",
     "output_type": "stream",
     "text": [
      "Epoch 407 finished, average loss: 0.0000628167\n",
      "Starting testing\n"
     ]
    },
    {
     "name": "stderr",
     "output_type": "stream",
     "text": [
      "\n"
     ]
    },
    {
     "name": "stdout",
     "output_type": "stream",
     "text": [
      "Correct: 9489, total: 10000, accuracy: 0.9488999844, average loss: 0.0017984399\n"
     ]
    },
    {
     "name": "stderr",
     "output_type": "stream",
     "text": [
      "391it [00:23, 16.53it/s]"
     ]
    },
    {
     "name": "stdout",
     "output_type": "stream",
     "text": [
      "Epoch 408 finished, average loss: 0.0000526284\n",
      "Starting testing\n"
     ]
    },
    {
     "name": "stderr",
     "output_type": "stream",
     "text": [
      "\n"
     ]
    },
    {
     "name": "stdout",
     "output_type": "stream",
     "text": [
      "Correct: 9494, total: 10000, accuracy: 0.9493999481, average loss: 0.0017254436\n"
     ]
    },
    {
     "name": "stderr",
     "output_type": "stream",
     "text": [
      "391it [00:23, 16.51it/s]"
     ]
    },
    {
     "name": "stdout",
     "output_type": "stream",
     "text": [
      "Epoch 409 finished, average loss: 0.0000537011\n",
      "Starting testing\n"
     ]
    },
    {
     "name": "stderr",
     "output_type": "stream",
     "text": [
      "\n"
     ]
    },
    {
     "name": "stdout",
     "output_type": "stream",
     "text": [
      "Correct: 9482, total: 10000, accuracy: 0.9481999874, average loss: 0.0018067606\n"
     ]
    },
    {
     "name": "stderr",
     "output_type": "stream",
     "text": [
      "391it [00:23, 16.60it/s]"
     ]
    },
    {
     "name": "stdout",
     "output_type": "stream",
     "text": [
      "Epoch 410 finished, average loss: 0.0000575102\n",
      "Starting testing\n"
     ]
    },
    {
     "name": "stderr",
     "output_type": "stream",
     "text": [
      "\n"
     ]
    },
    {
     "name": "stdout",
     "output_type": "stream",
     "text": [
      "Correct: 9493, total: 10000, accuracy: 0.9492999911, average loss: 0.0017954558\n"
     ]
    },
    {
     "name": "stderr",
     "output_type": "stream",
     "text": [
      "391it [00:23, 16.54it/s]"
     ]
    },
    {
     "name": "stdout",
     "output_type": "stream",
     "text": [
      "Epoch 411 finished, average loss: 0.0000514763\n",
      "Starting testing\n"
     ]
    },
    {
     "name": "stderr",
     "output_type": "stream",
     "text": [
      "\n"
     ]
    },
    {
     "name": "stdout",
     "output_type": "stream",
     "text": [
      "Correct: 9490, total: 10000, accuracy: 0.9490000010, average loss: 0.0018651027\n"
     ]
    },
    {
     "name": "stderr",
     "output_type": "stream",
     "text": [
      "391it [00:23, 16.69it/s]"
     ]
    },
    {
     "name": "stdout",
     "output_type": "stream",
     "text": [
      "Epoch 412 finished, average loss: 0.0000515962\n",
      "Starting testing\n"
     ]
    },
    {
     "name": "stderr",
     "output_type": "stream",
     "text": [
      "\n"
     ]
    },
    {
     "name": "stdout",
     "output_type": "stream",
     "text": [
      "Correct: 9483, total: 10000, accuracy: 0.9483000040, average loss: 0.0018193265\n"
     ]
    },
    {
     "name": "stderr",
     "output_type": "stream",
     "text": [
      "391it [00:23, 16.62it/s]"
     ]
    },
    {
     "name": "stdout",
     "output_type": "stream",
     "text": [
      "Epoch 413 finished, average loss: 0.0000579725\n",
      "Starting testing\n"
     ]
    },
    {
     "name": "stderr",
     "output_type": "stream",
     "text": [
      "\n"
     ]
    },
    {
     "name": "stdout",
     "output_type": "stream",
     "text": [
      "Correct: 9483, total: 10000, accuracy: 0.9483000040, average loss: 0.0017720462\n"
     ]
    },
    {
     "name": "stderr",
     "output_type": "stream",
     "text": [
      "391it [00:23, 16.73it/s]"
     ]
    },
    {
     "name": "stdout",
     "output_type": "stream",
     "text": [
      "Epoch 414 finished, average loss: 0.0000621856\n",
      "Starting testing\n"
     ]
    },
    {
     "name": "stderr",
     "output_type": "stream",
     "text": [
      "\n"
     ]
    },
    {
     "name": "stdout",
     "output_type": "stream",
     "text": [
      "Correct: 9486, total: 10000, accuracy: 0.9485999942, average loss: 0.0018050872\n"
     ]
    },
    {
     "name": "stderr",
     "output_type": "stream",
     "text": [
      "391it [00:23, 16.60it/s]"
     ]
    },
    {
     "name": "stdout",
     "output_type": "stream",
     "text": [
      "Epoch 415 finished, average loss: 0.0000508399\n",
      "Starting testing\n"
     ]
    },
    {
     "name": "stderr",
     "output_type": "stream",
     "text": [
      "\n"
     ]
    },
    {
     "name": "stdout",
     "output_type": "stream",
     "text": [
      "Correct: 9465, total: 10000, accuracy: 0.9465000033, average loss: 0.0019506035\n"
     ]
    },
    {
     "name": "stderr",
     "output_type": "stream",
     "text": [
      "391it [00:23, 16.66it/s]"
     ]
    },
    {
     "name": "stdout",
     "output_type": "stream",
     "text": [
      "Epoch 416 finished, average loss: 0.0000548777\n",
      "Starting testing\n"
     ]
    },
    {
     "name": "stderr",
     "output_type": "stream",
     "text": [
      "\n"
     ]
    },
    {
     "name": "stdout",
     "output_type": "stream",
     "text": [
      "Correct: 9466, total: 10000, accuracy: 0.9465999603, average loss: 0.0018498172\n"
     ]
    },
    {
     "name": "stderr",
     "output_type": "stream",
     "text": [
      "391it [00:23, 16.62it/s]"
     ]
    },
    {
     "name": "stdout",
     "output_type": "stream",
     "text": [
      "Epoch 417 finished, average loss: 0.0000548182\n",
      "Starting testing\n"
     ]
    },
    {
     "name": "stderr",
     "output_type": "stream",
     "text": [
      "\n"
     ]
    },
    {
     "name": "stdout",
     "output_type": "stream",
     "text": [
      "Correct: 9472, total: 10000, accuracy: 0.9472000003, average loss: 0.0018086319\n"
     ]
    },
    {
     "name": "stderr",
     "output_type": "stream",
     "text": [
      "391it [00:23, 16.61it/s]"
     ]
    },
    {
     "name": "stdout",
     "output_type": "stream",
     "text": [
      "Epoch 418 finished, average loss: 0.0000517418\n",
      "Starting testing\n"
     ]
    },
    {
     "name": "stderr",
     "output_type": "stream",
     "text": [
      "\n"
     ]
    },
    {
     "name": "stdout",
     "output_type": "stream",
     "text": [
      "Correct: 9490, total: 10000, accuracy: 0.9490000010, average loss: 0.0018076021\n"
     ]
    },
    {
     "name": "stderr",
     "output_type": "stream",
     "text": [
      "391it [00:23, 16.68it/s]"
     ]
    },
    {
     "name": "stdout",
     "output_type": "stream",
     "text": [
      "Epoch 419 finished, average loss: 0.0000545641\n",
      "Starting testing\n"
     ]
    },
    {
     "name": "stderr",
     "output_type": "stream",
     "text": [
      "\n"
     ]
    },
    {
     "name": "stdout",
     "output_type": "stream",
     "text": [
      "Correct: 9476, total: 10000, accuracy: 0.9475999475, average loss: 0.0018986369\n"
     ]
    },
    {
     "name": "stderr",
     "output_type": "stream",
     "text": [
      "391it [00:23, 16.66it/s]"
     ]
    },
    {
     "name": "stdout",
     "output_type": "stream",
     "text": [
      "Epoch 420 finished, average loss: 0.0000543632\n",
      "Starting testing\n"
     ]
    },
    {
     "name": "stderr",
     "output_type": "stream",
     "text": [
      "\n"
     ]
    },
    {
     "name": "stdout",
     "output_type": "stream",
     "text": [
      "Correct: 9487, total: 10000, accuracy: 0.9486999512, average loss: 0.0018235213\n"
     ]
    },
    {
     "name": "stderr",
     "output_type": "stream",
     "text": [
      "391it [00:23, 16.65it/s]"
     ]
    },
    {
     "name": "stdout",
     "output_type": "stream",
     "text": [
      "Epoch 421 finished, average loss: 0.0000576637\n",
      "Starting testing\n"
     ]
    },
    {
     "name": "stderr",
     "output_type": "stream",
     "text": [
      "\n"
     ]
    },
    {
     "name": "stdout",
     "output_type": "stream",
     "text": [
      "Correct: 9487, total: 10000, accuracy: 0.9486999512, average loss: 0.0018304304\n"
     ]
    },
    {
     "name": "stderr",
     "output_type": "stream",
     "text": [
      "391it [00:23, 16.58it/s]"
     ]
    },
    {
     "name": "stdout",
     "output_type": "stream",
     "text": [
      "Epoch 422 finished, average loss: 0.0000498685\n",
      "Starting testing\n"
     ]
    },
    {
     "name": "stderr",
     "output_type": "stream",
     "text": [
      "\n"
     ]
    },
    {
     "name": "stdout",
     "output_type": "stream",
     "text": [
      "Correct: 9475, total: 10000, accuracy: 0.9474999905, average loss: 0.0018500714\n"
     ]
    },
    {
     "name": "stderr",
     "output_type": "stream",
     "text": [
      "391it [00:23, 16.66it/s]"
     ]
    },
    {
     "name": "stdout",
     "output_type": "stream",
     "text": [
      "Epoch 423 finished, average loss: 0.0000476373\n",
      "Starting testing\n"
     ]
    },
    {
     "name": "stderr",
     "output_type": "stream",
     "text": [
      "\n"
     ]
    },
    {
     "name": "stdout",
     "output_type": "stream",
     "text": [
      "Correct: 9472, total: 10000, accuracy: 0.9472000003, average loss: 0.0018760167\n"
     ]
    },
    {
     "name": "stderr",
     "output_type": "stream",
     "text": [
      "391it [00:23, 16.62it/s]"
     ]
    },
    {
     "name": "stdout",
     "output_type": "stream",
     "text": [
      "Epoch 424 finished, average loss: 0.0000545350\n",
      "Starting testing\n"
     ]
    },
    {
     "name": "stderr",
     "output_type": "stream",
     "text": [
      "\n"
     ]
    },
    {
     "name": "stdout",
     "output_type": "stream",
     "text": [
      "Correct: 9481, total: 10000, accuracy: 0.9480999708, average loss: 0.0018329853\n"
     ]
    },
    {
     "name": "stderr",
     "output_type": "stream",
     "text": [
      "391it [00:23, 16.61it/s]"
     ]
    },
    {
     "name": "stdout",
     "output_type": "stream",
     "text": [
      "Epoch 425 finished, average loss: 0.0000423584\n",
      "Starting testing\n"
     ]
    },
    {
     "name": "stderr",
     "output_type": "stream",
     "text": [
      "\n"
     ]
    },
    {
     "name": "stdout",
     "output_type": "stream",
     "text": [
      "Correct: 9464, total: 10000, accuracy: 0.9463999867, average loss: 0.0020092518\n"
     ]
    },
    {
     "name": "stderr",
     "output_type": "stream",
     "text": [
      "391it [00:23, 16.64it/s]"
     ]
    },
    {
     "name": "stdout",
     "output_type": "stream",
     "text": [
      "Epoch 426 finished, average loss: 0.0000521191\n",
      "Starting testing\n"
     ]
    },
    {
     "name": "stderr",
     "output_type": "stream",
     "text": [
      "\n"
     ]
    },
    {
     "name": "stdout",
     "output_type": "stream",
     "text": [
      "Correct: 9476, total: 10000, accuracy: 0.9475999475, average loss: 0.0018091895\n"
     ]
    },
    {
     "name": "stderr",
     "output_type": "stream",
     "text": [
      "391it [00:23, 16.62it/s]"
     ]
    },
    {
     "name": "stdout",
     "output_type": "stream",
     "text": [
      "Epoch 427 finished, average loss: 0.0000528515\n",
      "Starting testing\n"
     ]
    },
    {
     "name": "stderr",
     "output_type": "stream",
     "text": [
      "\n"
     ]
    },
    {
     "name": "stdout",
     "output_type": "stream",
     "text": [
      "Correct: 9482, total: 10000, accuracy: 0.9481999874, average loss: 0.0018229739\n"
     ]
    },
    {
     "name": "stderr",
     "output_type": "stream",
     "text": [
      "391it [00:23, 16.70it/s]"
     ]
    },
    {
     "name": "stdout",
     "output_type": "stream",
     "text": [
      "Epoch 428 finished, average loss: 0.0000520534\n",
      "Starting testing\n"
     ]
    },
    {
     "name": "stderr",
     "output_type": "stream",
     "text": [
      "\n"
     ]
    },
    {
     "name": "stdout",
     "output_type": "stream",
     "text": [
      "Correct: 9486, total: 10000, accuracy: 0.9485999942, average loss: 0.0018297281\n"
     ]
    },
    {
     "name": "stderr",
     "output_type": "stream",
     "text": [
      "391it [00:23, 16.64it/s]"
     ]
    },
    {
     "name": "stdout",
     "output_type": "stream",
     "text": [
      "Epoch 429 finished, average loss: 0.0000554110\n",
      "Starting testing\n"
     ]
    },
    {
     "name": "stderr",
     "output_type": "stream",
     "text": [
      "\n"
     ]
    },
    {
     "name": "stdout",
     "output_type": "stream",
     "text": [
      "Correct: 9487, total: 10000, accuracy: 0.9486999512, average loss: 0.0018025356\n"
     ]
    },
    {
     "name": "stderr",
     "output_type": "stream",
     "text": [
      "391it [00:23, 16.70it/s]"
     ]
    },
    {
     "name": "stdout",
     "output_type": "stream",
     "text": [
      "Epoch 430 finished, average loss: 0.0000600086\n",
      "Starting testing\n"
     ]
    },
    {
     "name": "stderr",
     "output_type": "stream",
     "text": [
      "\n"
     ]
    },
    {
     "name": "stdout",
     "output_type": "stream",
     "text": [
      "Correct: 9491, total: 10000, accuracy: 0.9490999579, average loss: 0.0018686616\n"
     ]
    },
    {
     "name": "stderr",
     "output_type": "stream",
     "text": [
      "391it [00:23, 16.63it/s]"
     ]
    },
    {
     "name": "stdout",
     "output_type": "stream",
     "text": [
      "Epoch 431 finished, average loss: 0.0000524646\n",
      "Starting testing\n"
     ]
    },
    {
     "name": "stderr",
     "output_type": "stream",
     "text": [
      "\n"
     ]
    },
    {
     "name": "stdout",
     "output_type": "stream",
     "text": [
      "Correct: 9483, total: 10000, accuracy: 0.9483000040, average loss: 0.0018066862\n"
     ]
    },
    {
     "name": "stderr",
     "output_type": "stream",
     "text": [
      "391it [00:23, 16.68it/s]"
     ]
    },
    {
     "name": "stdout",
     "output_type": "stream",
     "text": [
      "Epoch 432 finished, average loss: 0.0000500684\n",
      "Starting testing\n"
     ]
    },
    {
     "name": "stderr",
     "output_type": "stream",
     "text": [
      "\n"
     ]
    },
    {
     "name": "stdout",
     "output_type": "stream",
     "text": [
      "Correct: 9479, total: 10000, accuracy: 0.9478999972, average loss: 0.0018671989\n"
     ]
    },
    {
     "name": "stderr",
     "output_type": "stream",
     "text": [
      "391it [00:23, 16.59it/s]"
     ]
    },
    {
     "name": "stdout",
     "output_type": "stream",
     "text": [
      "Epoch 433 finished, average loss: 0.0000545565\n",
      "Starting testing\n"
     ]
    },
    {
     "name": "stderr",
     "output_type": "stream",
     "text": [
      "\n"
     ]
    },
    {
     "name": "stdout",
     "output_type": "stream",
     "text": [
      "Correct: 9477, total: 10000, accuracy: 0.9476999640, average loss: 0.0017991049\n"
     ]
    },
    {
     "name": "stderr",
     "output_type": "stream",
     "text": [
      "391it [00:23, 16.62it/s]"
     ]
    },
    {
     "name": "stdout",
     "output_type": "stream",
     "text": [
      "Epoch 434 finished, average loss: 0.0000444233\n",
      "Starting testing\n"
     ]
    },
    {
     "name": "stderr",
     "output_type": "stream",
     "text": [
      "\n"
     ]
    },
    {
     "name": "stdout",
     "output_type": "stream",
     "text": [
      "Correct: 9478, total: 10000, accuracy: 0.9477999806, average loss: 0.0017744966\n"
     ]
    },
    {
     "name": "stderr",
     "output_type": "stream",
     "text": [
      "391it [00:23, 16.61it/s]"
     ]
    },
    {
     "name": "stdout",
     "output_type": "stream",
     "text": [
      "Epoch 435 finished, average loss: 0.0000420026\n",
      "Starting testing\n"
     ]
    },
    {
     "name": "stderr",
     "output_type": "stream",
     "text": [
      "\n"
     ]
    },
    {
     "name": "stdout",
     "output_type": "stream",
     "text": [
      "Correct: 9489, total: 10000, accuracy: 0.9488999844, average loss: 0.0017601683\n"
     ]
    },
    {
     "name": "stderr",
     "output_type": "stream",
     "text": [
      "391it [00:23, 16.58it/s]"
     ]
    },
    {
     "name": "stdout",
     "output_type": "stream",
     "text": [
      "Epoch 436 finished, average loss: 0.0000559085\n",
      "Starting testing\n"
     ]
    },
    {
     "name": "stderr",
     "output_type": "stream",
     "text": [
      "\n"
     ]
    },
    {
     "name": "stdout",
     "output_type": "stream",
     "text": [
      "Correct: 9484, total: 10000, accuracy: 0.9483999610, average loss: 0.0018693620\n"
     ]
    },
    {
     "name": "stderr",
     "output_type": "stream",
     "text": [
      "391it [00:23, 16.67it/s]"
     ]
    },
    {
     "name": "stdout",
     "output_type": "stream",
     "text": [
      "Epoch 437 finished, average loss: 0.0000512716\n",
      "Starting testing\n"
     ]
    },
    {
     "name": "stderr",
     "output_type": "stream",
     "text": [
      "\n"
     ]
    },
    {
     "name": "stdout",
     "output_type": "stream",
     "text": [
      "Correct: 9478, total: 10000, accuracy: 0.9477999806, average loss: 0.0018332968\n"
     ]
    },
    {
     "name": "stderr",
     "output_type": "stream",
     "text": [
      "391it [00:23, 16.55it/s]"
     ]
    },
    {
     "name": "stdout",
     "output_type": "stream",
     "text": [
      "Epoch 438 finished, average loss: 0.0000471622\n",
      "Starting testing\n"
     ]
    },
    {
     "name": "stderr",
     "output_type": "stream",
     "text": [
      "\n"
     ]
    },
    {
     "name": "stdout",
     "output_type": "stream",
     "text": [
      "Correct: 9478, total: 10000, accuracy: 0.9477999806, average loss: 0.0019938285\n"
     ]
    },
    {
     "name": "stderr",
     "output_type": "stream",
     "text": [
      "391it [00:23, 16.61it/s]"
     ]
    },
    {
     "name": "stdout",
     "output_type": "stream",
     "text": [
      "Epoch 439 finished, average loss: 0.0000546188\n",
      "Starting testing\n"
     ]
    },
    {
     "name": "stderr",
     "output_type": "stream",
     "text": [
      "\n"
     ]
    },
    {
     "name": "stdout",
     "output_type": "stream",
     "text": [
      "Correct: 9482, total: 10000, accuracy: 0.9481999874, average loss: 0.0017349790\n"
     ]
    },
    {
     "name": "stderr",
     "output_type": "stream",
     "text": [
      "391it [00:23, 16.56it/s]"
     ]
    },
    {
     "name": "stdout",
     "output_type": "stream",
     "text": [
      "Epoch 440 finished, average loss: 0.0000508086\n",
      "Starting testing\n"
     ]
    },
    {
     "name": "stderr",
     "output_type": "stream",
     "text": [
      "\n"
     ]
    },
    {
     "name": "stdout",
     "output_type": "stream",
     "text": [
      "Correct: 9497, total: 10000, accuracy: 0.9496999979, average loss: 0.0017827260\n"
     ]
    },
    {
     "name": "stderr",
     "output_type": "stream",
     "text": [
      "391it [00:23, 16.64it/s]"
     ]
    },
    {
     "name": "stdout",
     "output_type": "stream",
     "text": [
      "Epoch 441 finished, average loss: 0.0000530889\n",
      "Starting testing\n"
     ]
    },
    {
     "name": "stderr",
     "output_type": "stream",
     "text": [
      "\n"
     ]
    },
    {
     "name": "stdout",
     "output_type": "stream",
     "text": [
      "Correct: 9476, total: 10000, accuracy: 0.9475999475, average loss: 0.0018191868\n"
     ]
    },
    {
     "name": "stderr",
     "output_type": "stream",
     "text": [
      "391it [00:23, 16.62it/s]"
     ]
    },
    {
     "name": "stdout",
     "output_type": "stream",
     "text": [
      "Epoch 442 finished, average loss: 0.0000572590\n",
      "Starting testing\n"
     ]
    },
    {
     "name": "stderr",
     "output_type": "stream",
     "text": [
      "\n"
     ]
    },
    {
     "name": "stdout",
     "output_type": "stream",
     "text": [
      "Correct: 9485, total: 10000, accuracy: 0.9484999776, average loss: 0.0018130790\n"
     ]
    },
    {
     "name": "stderr",
     "output_type": "stream",
     "text": [
      "391it [00:23, 16.60it/s]"
     ]
    },
    {
     "name": "stdout",
     "output_type": "stream",
     "text": [
      "Epoch 443 finished, average loss: 0.0000511051\n",
      "Starting testing\n"
     ]
    },
    {
     "name": "stderr",
     "output_type": "stream",
     "text": [
      "\n"
     ]
    },
    {
     "name": "stdout",
     "output_type": "stream",
     "text": [
      "Correct: 9489, total: 10000, accuracy: 0.9488999844, average loss: 0.0018206400\n"
     ]
    },
    {
     "name": "stderr",
     "output_type": "stream",
     "text": [
      "391it [00:23, 16.71it/s]"
     ]
    },
    {
     "name": "stdout",
     "output_type": "stream",
     "text": [
      "Epoch 444 finished, average loss: 0.0000502199\n",
      "Starting testing\n"
     ]
    },
    {
     "name": "stderr",
     "output_type": "stream",
     "text": [
      "\n"
     ]
    },
    {
     "name": "stdout",
     "output_type": "stream",
     "text": [
      "Correct: 9492, total: 10000, accuracy: 0.9491999745, average loss: 0.0017706575\n"
     ]
    },
    {
     "name": "stderr",
     "output_type": "stream",
     "text": [
      "391it [00:23, 16.64it/s]\n"
     ]
    },
    {
     "name": "stdout",
     "output_type": "stream",
     "text": [
      "Epoch 445 finished, average loss: 0.0000413217\n",
      "Starting testing\n",
      "Correct: 9488, total: 10000, accuracy: 0.9487999678, average loss: 0.0017952512\n"
     ]
    },
    {
     "name": "stderr",
     "output_type": "stream",
     "text": [
      "391it [00:23, 16.67it/s]"
     ]
    },
    {
     "name": "stdout",
     "output_type": "stream",
     "text": [
      "Epoch 446 finished, average loss: 0.0000433594\n",
      "Starting testing\n"
     ]
    },
    {
     "name": "stderr",
     "output_type": "stream",
     "text": [
      "\n"
     ]
    },
    {
     "name": "stdout",
     "output_type": "stream",
     "text": [
      "Correct: 9479, total: 10000, accuracy: 0.9478999972, average loss: 0.0018537792\n"
     ]
    },
    {
     "name": "stderr",
     "output_type": "stream",
     "text": [
      "391it [00:23, 16.64it/s]"
     ]
    },
    {
     "name": "stdout",
     "output_type": "stream",
     "text": [
      "Epoch 447 finished, average loss: 0.0000448709\n",
      "Starting testing\n"
     ]
    },
    {
     "name": "stderr",
     "output_type": "stream",
     "text": [
      "\n"
     ]
    },
    {
     "name": "stdout",
     "output_type": "stream",
     "text": [
      "Correct: 9482, total: 10000, accuracy: 0.9481999874, average loss: 0.0018020975\n"
     ]
    },
    {
     "name": "stderr",
     "output_type": "stream",
     "text": [
      "391it [00:23, 16.66it/s]"
     ]
    },
    {
     "name": "stdout",
     "output_type": "stream",
     "text": [
      "Epoch 448 finished, average loss: 0.0000517556\n",
      "Starting testing\n"
     ]
    },
    {
     "name": "stderr",
     "output_type": "stream",
     "text": [
      "\n"
     ]
    },
    {
     "name": "stdout",
     "output_type": "stream",
     "text": [
      "Correct: 9474, total: 10000, accuracy: 0.9473999739, average loss: 0.0019195433\n"
     ]
    },
    {
     "name": "stderr",
     "output_type": "stream",
     "text": [
      "391it [00:23, 16.68it/s]"
     ]
    },
    {
     "name": "stdout",
     "output_type": "stream",
     "text": [
      "Epoch 449 finished, average loss: 0.0000463726\n",
      "Starting testing\n"
     ]
    },
    {
     "name": "stderr",
     "output_type": "stream",
     "text": [
      "\n"
     ]
    },
    {
     "name": "stdout",
     "output_type": "stream",
     "text": [
      "Correct: 9488, total: 10000, accuracy: 0.9487999678, average loss: 0.0018213783\n"
     ]
    },
    {
     "name": "stderr",
     "output_type": "stream",
     "text": [
      "391it [00:23, 16.69it/s]"
     ]
    },
    {
     "name": "stdout",
     "output_type": "stream",
     "text": [
      "Epoch 450 finished, average loss: 0.0000596003\n",
      "Starting testing\n"
     ]
    },
    {
     "name": "stderr",
     "output_type": "stream",
     "text": [
      "\n"
     ]
    },
    {
     "name": "stdout",
     "output_type": "stream",
     "text": [
      "Correct: 9473, total: 10000, accuracy: 0.9472999573, average loss: 0.0018815717\n"
     ]
    },
    {
     "name": "stderr",
     "output_type": "stream",
     "text": [
      "391it [00:23, 16.68it/s]"
     ]
    },
    {
     "name": "stdout",
     "output_type": "stream",
     "text": [
      "Epoch 451 finished, average loss: 0.0000433592\n",
      "Starting testing\n"
     ]
    },
    {
     "name": "stderr",
     "output_type": "stream",
     "text": [
      "\n"
     ]
    },
    {
     "name": "stdout",
     "output_type": "stream",
     "text": [
      "Correct: 9480, total: 10000, accuracy: 0.9479999542, average loss: 0.0019895890\n"
     ]
    },
    {
     "name": "stderr",
     "output_type": "stream",
     "text": [
      "391it [00:23, 16.62it/s]"
     ]
    },
    {
     "name": "stdout",
     "output_type": "stream",
     "text": [
      "Epoch 452 finished, average loss: 0.0000420927\n",
      "Starting testing\n"
     ]
    },
    {
     "name": "stderr",
     "output_type": "stream",
     "text": [
      "\n"
     ]
    },
    {
     "name": "stdout",
     "output_type": "stream",
     "text": [
      "Correct: 9484, total: 10000, accuracy: 0.9483999610, average loss: 0.0018207833\n"
     ]
    },
    {
     "name": "stderr",
     "output_type": "stream",
     "text": [
      "391it [00:23, 16.57it/s]"
     ]
    },
    {
     "name": "stdout",
     "output_type": "stream",
     "text": [
      "Epoch 453 finished, average loss: 0.0000450051\n",
      "Starting testing\n"
     ]
    },
    {
     "name": "stderr",
     "output_type": "stream",
     "text": [
      "\n"
     ]
    },
    {
     "name": "stdout",
     "output_type": "stream",
     "text": [
      "Correct: 9487, total: 10000, accuracy: 0.9486999512, average loss: 0.0017653559\n"
     ]
    },
    {
     "name": "stderr",
     "output_type": "stream",
     "text": [
      "391it [00:23, 16.52it/s]"
     ]
    },
    {
     "name": "stdout",
     "output_type": "stream",
     "text": [
      "Epoch 454 finished, average loss: 0.0000446230\n",
      "Starting testing\n"
     ]
    },
    {
     "name": "stderr",
     "output_type": "stream",
     "text": [
      "\n"
     ]
    },
    {
     "name": "stdout",
     "output_type": "stream",
     "text": [
      "Correct: 9476, total: 10000, accuracy: 0.9475999475, average loss: 0.0018555903\n"
     ]
    },
    {
     "name": "stderr",
     "output_type": "stream",
     "text": [
      "391it [00:23, 16.57it/s]"
     ]
    },
    {
     "name": "stdout",
     "output_type": "stream",
     "text": [
      "Epoch 455 finished, average loss: 0.0000403222\n",
      "Starting testing\n"
     ]
    },
    {
     "name": "stderr",
     "output_type": "stream",
     "text": [
      "\n"
     ]
    },
    {
     "name": "stdout",
     "output_type": "stream",
     "text": [
      "Correct: 9480, total: 10000, accuracy: 0.9479999542, average loss: 0.0018553010\n"
     ]
    },
    {
     "name": "stderr",
     "output_type": "stream",
     "text": [
      "391it [00:23, 16.62it/s]"
     ]
    },
    {
     "name": "stdout",
     "output_type": "stream",
     "text": [
      "Epoch 456 finished, average loss: 0.0000502506\n",
      "Starting testing\n"
     ]
    },
    {
     "name": "stderr",
     "output_type": "stream",
     "text": [
      "\n"
     ]
    },
    {
     "name": "stdout",
     "output_type": "stream",
     "text": [
      "Correct: 9478, total: 10000, accuracy: 0.9477999806, average loss: 0.0019031835\n"
     ]
    },
    {
     "name": "stderr",
     "output_type": "stream",
     "text": [
      "391it [00:23, 16.62it/s]"
     ]
    },
    {
     "name": "stdout",
     "output_type": "stream",
     "text": [
      "Epoch 457 finished, average loss: 0.0000458710\n",
      "Starting testing\n"
     ]
    },
    {
     "name": "stderr",
     "output_type": "stream",
     "text": [
      "\n"
     ]
    },
    {
     "name": "stdout",
     "output_type": "stream",
     "text": [
      "Correct: 9477, total: 10000, accuracy: 0.9476999640, average loss: 0.0018591558\n"
     ]
    },
    {
     "name": "stderr",
     "output_type": "stream",
     "text": [
      "391it [00:23, 16.65it/s]"
     ]
    },
    {
     "name": "stdout",
     "output_type": "stream",
     "text": [
      "Epoch 458 finished, average loss: 0.0000516480\n",
      "Starting testing\n"
     ]
    },
    {
     "name": "stderr",
     "output_type": "stream",
     "text": [
      "\n"
     ]
    },
    {
     "name": "stdout",
     "output_type": "stream",
     "text": [
      "Correct: 9495, total: 10000, accuracy: 0.9494999647, average loss: 0.0017795845\n"
     ]
    },
    {
     "name": "stderr",
     "output_type": "stream",
     "text": [
      "391it [00:23, 16.66it/s]"
     ]
    },
    {
     "name": "stdout",
     "output_type": "stream",
     "text": [
      "Epoch 459 finished, average loss: 0.0000506002\n",
      "Starting testing\n"
     ]
    },
    {
     "name": "stderr",
     "output_type": "stream",
     "text": [
      "\n"
     ]
    },
    {
     "name": "stdout",
     "output_type": "stream",
     "text": [
      "Correct: 9469, total: 10000, accuracy: 0.9468999505, average loss: 0.0017887882\n"
     ]
    },
    {
     "name": "stderr",
     "output_type": "stream",
     "text": [
      "391it [00:23, 16.64it/s]"
     ]
    },
    {
     "name": "stdout",
     "output_type": "stream",
     "text": [
      "Epoch 460 finished, average loss: 0.0000489027\n",
      "Starting testing\n"
     ]
    },
    {
     "name": "stderr",
     "output_type": "stream",
     "text": [
      "\n"
     ]
    },
    {
     "name": "stdout",
     "output_type": "stream",
     "text": [
      "Correct: 9479, total: 10000, accuracy: 0.9478999972, average loss: 0.0018783918\n"
     ]
    },
    {
     "name": "stderr",
     "output_type": "stream",
     "text": [
      "391it [00:23, 16.65it/s]"
     ]
    },
    {
     "name": "stdout",
     "output_type": "stream",
     "text": [
      "Epoch 461 finished, average loss: 0.0000403571\n",
      "Starting testing\n"
     ]
    },
    {
     "name": "stderr",
     "output_type": "stream",
     "text": [
      "\n"
     ]
    },
    {
     "name": "stdout",
     "output_type": "stream",
     "text": [
      "Correct: 9480, total: 10000, accuracy: 0.9479999542, average loss: 0.0018500653\n"
     ]
    },
    {
     "name": "stderr",
     "output_type": "stream",
     "text": [
      "391it [00:23, 16.64it/s]"
     ]
    },
    {
     "name": "stdout",
     "output_type": "stream",
     "text": [
      "Epoch 462 finished, average loss: 0.0000469934\n",
      "Starting testing\n"
     ]
    },
    {
     "name": "stderr",
     "output_type": "stream",
     "text": [
      "\n"
     ]
    },
    {
     "name": "stdout",
     "output_type": "stream",
     "text": [
      "Correct: 9474, total: 10000, accuracy: 0.9473999739, average loss: 0.0019414005\n"
     ]
    },
    {
     "name": "stderr",
     "output_type": "stream",
     "text": [
      "391it [00:23, 16.65it/s]"
     ]
    },
    {
     "name": "stdout",
     "output_type": "stream",
     "text": [
      "Epoch 463 finished, average loss: 0.0000419925\n",
      "Starting testing\n"
     ]
    },
    {
     "name": "stderr",
     "output_type": "stream",
     "text": [
      "\n"
     ]
    },
    {
     "name": "stdout",
     "output_type": "stream",
     "text": [
      "Correct: 9471, total: 10000, accuracy: 0.9470999837, average loss: 0.0018542124\n"
     ]
    },
    {
     "name": "stderr",
     "output_type": "stream",
     "text": [
      "391it [00:23, 16.61it/s]"
     ]
    },
    {
     "name": "stdout",
     "output_type": "stream",
     "text": [
      "Epoch 464 finished, average loss: 0.0000431719\n",
      "Starting testing\n"
     ]
    },
    {
     "name": "stderr",
     "output_type": "stream",
     "text": [
      "\n"
     ]
    },
    {
     "name": "stdout",
     "output_type": "stream",
     "text": [
      "Correct: 9484, total: 10000, accuracy: 0.9483999610, average loss: 0.0017979886\n"
     ]
    },
    {
     "name": "stderr",
     "output_type": "stream",
     "text": [
      "391it [00:23, 16.65it/s]"
     ]
    },
    {
     "name": "stdout",
     "output_type": "stream",
     "text": [
      "Epoch 465 finished, average loss: 0.0000433435\n",
      "Starting testing\n"
     ]
    },
    {
     "name": "stderr",
     "output_type": "stream",
     "text": [
      "\n"
     ]
    },
    {
     "name": "stdout",
     "output_type": "stream",
     "text": [
      "Correct: 9491, total: 10000, accuracy: 0.9490999579, average loss: 0.0018973125\n"
     ]
    },
    {
     "name": "stderr",
     "output_type": "stream",
     "text": [
      "391it [00:23, 16.60it/s]"
     ]
    },
    {
     "name": "stdout",
     "output_type": "stream",
     "text": [
      "Epoch 466 finished, average loss: 0.0000411847\n",
      "Starting testing\n"
     ]
    },
    {
     "name": "stderr",
     "output_type": "stream",
     "text": [
      "\n"
     ]
    },
    {
     "name": "stdout",
     "output_type": "stream",
     "text": [
      "Correct: 9470, total: 10000, accuracy: 0.9469999671, average loss: 0.0018607829\n"
     ]
    },
    {
     "name": "stderr",
     "output_type": "stream",
     "text": [
      "391it [00:23, 16.62it/s]"
     ]
    },
    {
     "name": "stdout",
     "output_type": "stream",
     "text": [
      "Epoch 467 finished, average loss: 0.0000440241\n",
      "Starting testing\n"
     ]
    },
    {
     "name": "stderr",
     "output_type": "stream",
     "text": [
      "\n"
     ]
    },
    {
     "name": "stdout",
     "output_type": "stream",
     "text": [
      "Correct: 9485, total: 10000, accuracy: 0.9484999776, average loss: 0.0019725251\n"
     ]
    },
    {
     "name": "stderr",
     "output_type": "stream",
     "text": [
      "391it [00:23, 16.68it/s]"
     ]
    },
    {
     "name": "stdout",
     "output_type": "stream",
     "text": [
      "Epoch 468 finished, average loss: 0.0000469098\n",
      "Starting testing\n"
     ]
    },
    {
     "name": "stderr",
     "output_type": "stream",
     "text": [
      "\n"
     ]
    },
    {
     "name": "stdout",
     "output_type": "stream",
     "text": [
      "Correct: 9484, total: 10000, accuracy: 0.9483999610, average loss: 0.0019483360\n"
     ]
    },
    {
     "name": "stderr",
     "output_type": "stream",
     "text": [
      "391it [00:23, 16.65it/s]"
     ]
    },
    {
     "name": "stdout",
     "output_type": "stream",
     "text": [
      "Epoch 469 finished, average loss: 0.0000508902\n",
      "Starting testing\n"
     ]
    },
    {
     "name": "stderr",
     "output_type": "stream",
     "text": [
      "\n"
     ]
    },
    {
     "name": "stdout",
     "output_type": "stream",
     "text": [
      "Correct: 9476, total: 10000, accuracy: 0.9475999475, average loss: 0.0020083115\n"
     ]
    },
    {
     "name": "stderr",
     "output_type": "stream",
     "text": [
      "391it [00:23, 16.63it/s]"
     ]
    },
    {
     "name": "stdout",
     "output_type": "stream",
     "text": [
      "Epoch 470 finished, average loss: 0.0000533222\n",
      "Starting testing\n"
     ]
    },
    {
     "name": "stderr",
     "output_type": "stream",
     "text": [
      "\n"
     ]
    },
    {
     "name": "stdout",
     "output_type": "stream",
     "text": [
      "Correct: 9485, total: 10000, accuracy: 0.9484999776, average loss: 0.0019459679\n"
     ]
    },
    {
     "name": "stderr",
     "output_type": "stream",
     "text": [
      "391it [00:23, 16.61it/s]"
     ]
    },
    {
     "name": "stdout",
     "output_type": "stream",
     "text": [
      "Epoch 471 finished, average loss: 0.0000423842\n",
      "Starting testing\n"
     ]
    },
    {
     "name": "stderr",
     "output_type": "stream",
     "text": [
      "\n"
     ]
    },
    {
     "name": "stdout",
     "output_type": "stream",
     "text": [
      "Correct: 9459, total: 10000, accuracy: 0.9458999634, average loss: 0.0018858254\n"
     ]
    },
    {
     "name": "stderr",
     "output_type": "stream",
     "text": [
      "391it [00:23, 16.65it/s]"
     ]
    },
    {
     "name": "stdout",
     "output_type": "stream",
     "text": [
      "Epoch 472 finished, average loss: 0.0000437897\n",
      "Starting testing\n"
     ]
    },
    {
     "name": "stderr",
     "output_type": "stream",
     "text": [
      "\n"
     ]
    },
    {
     "name": "stdout",
     "output_type": "stream",
     "text": [
      "Correct: 9475, total: 10000, accuracy: 0.9474999905, average loss: 0.0019465097\n"
     ]
    },
    {
     "name": "stderr",
     "output_type": "stream",
     "text": [
      "391it [00:23, 16.64it/s]"
     ]
    },
    {
     "name": "stdout",
     "output_type": "stream",
     "text": [
      "Epoch 473 finished, average loss: 0.0000412911\n",
      "Starting testing\n"
     ]
    },
    {
     "name": "stderr",
     "output_type": "stream",
     "text": [
      "\n"
     ]
    },
    {
     "name": "stdout",
     "output_type": "stream",
     "text": [
      "Correct: 9477, total: 10000, accuracy: 0.9476999640, average loss: 0.0018483485\n"
     ]
    },
    {
     "name": "stderr",
     "output_type": "stream",
     "text": [
      "391it [00:23, 16.64it/s]"
     ]
    },
    {
     "name": "stdout",
     "output_type": "stream",
     "text": [
      "Epoch 474 finished, average loss: 0.0000504548\n",
      "Starting testing\n"
     ]
    },
    {
     "name": "stderr",
     "output_type": "stream",
     "text": [
      "\n"
     ]
    },
    {
     "name": "stdout",
     "output_type": "stream",
     "text": [
      "Correct: 9486, total: 10000, accuracy: 0.9485999942, average loss: 0.0019602394\n"
     ]
    },
    {
     "name": "stderr",
     "output_type": "stream",
     "text": [
      "391it [00:23, 16.68it/s]"
     ]
    },
    {
     "name": "stdout",
     "output_type": "stream",
     "text": [
      "Epoch 475 finished, average loss: 0.0000432837\n",
      "Starting testing\n"
     ]
    },
    {
     "name": "stderr",
     "output_type": "stream",
     "text": [
      "\n"
     ]
    },
    {
     "name": "stdout",
     "output_type": "stream",
     "text": [
      "Correct: 9481, total: 10000, accuracy: 0.9480999708, average loss: 0.0019413406\n"
     ]
    },
    {
     "name": "stderr",
     "output_type": "stream",
     "text": [
      "391it [00:23, 16.70it/s]"
     ]
    },
    {
     "name": "stdout",
     "output_type": "stream",
     "text": [
      "Epoch 476 finished, average loss: 0.0000382816\n",
      "Starting testing\n"
     ]
    },
    {
     "name": "stderr",
     "output_type": "stream",
     "text": [
      "\n"
     ]
    },
    {
     "name": "stdout",
     "output_type": "stream",
     "text": [
      "Correct: 9472, total: 10000, accuracy: 0.9472000003, average loss: 0.0018886758\n"
     ]
    },
    {
     "name": "stderr",
     "output_type": "stream",
     "text": [
      "391it [00:23, 16.57it/s]"
     ]
    },
    {
     "name": "stdout",
     "output_type": "stream",
     "text": [
      "Epoch 477 finished, average loss: 0.0000347472\n",
      "Starting testing\n"
     ]
    },
    {
     "name": "stderr",
     "output_type": "stream",
     "text": [
      "\n"
     ]
    },
    {
     "name": "stdout",
     "output_type": "stream",
     "text": [
      "Correct: 9477, total: 10000, accuracy: 0.9476999640, average loss: 0.0019330178\n"
     ]
    },
    {
     "name": "stderr",
     "output_type": "stream",
     "text": [
      "391it [00:23, 16.62it/s]"
     ]
    },
    {
     "name": "stdout",
     "output_type": "stream",
     "text": [
      "Epoch 478 finished, average loss: 0.0000451764\n",
      "Starting testing\n"
     ]
    },
    {
     "name": "stderr",
     "output_type": "stream",
     "text": [
      "\n"
     ]
    },
    {
     "name": "stdout",
     "output_type": "stream",
     "text": [
      "Correct: 9469, total: 10000, accuracy: 0.9468999505, average loss: 0.0018008406\n"
     ]
    },
    {
     "name": "stderr",
     "output_type": "stream",
     "text": [
      "391it [00:23, 16.64it/s]"
     ]
    },
    {
     "name": "stdout",
     "output_type": "stream",
     "text": [
      "Epoch 479 finished, average loss: 0.0000436760\n",
      "Starting testing\n"
     ]
    },
    {
     "name": "stderr",
     "output_type": "stream",
     "text": [
      "\n"
     ]
    },
    {
     "name": "stdout",
     "output_type": "stream",
     "text": [
      "Correct: 9488, total: 10000, accuracy: 0.9487999678, average loss: 0.0020108691\n"
     ]
    },
    {
     "name": "stderr",
     "output_type": "stream",
     "text": [
      "391it [00:23, 16.59it/s]"
     ]
    },
    {
     "name": "stdout",
     "output_type": "stream",
     "text": [
      "Epoch 480 finished, average loss: 0.0000467760\n",
      "Starting testing\n"
     ]
    },
    {
     "name": "stderr",
     "output_type": "stream",
     "text": [
      "\n"
     ]
    },
    {
     "name": "stdout",
     "output_type": "stream",
     "text": [
      "Correct: 9490, total: 10000, accuracy: 0.9490000010, average loss: 0.0018915895\n"
     ]
    },
    {
     "name": "stderr",
     "output_type": "stream",
     "text": [
      "391it [00:23, 16.72it/s]"
     ]
    },
    {
     "name": "stdout",
     "output_type": "stream",
     "text": [
      "Epoch 481 finished, average loss: 0.0000392227\n",
      "Starting testing\n"
     ]
    },
    {
     "name": "stderr",
     "output_type": "stream",
     "text": [
      "\n"
     ]
    },
    {
     "name": "stdout",
     "output_type": "stream",
     "text": [
      "Correct: 9460, total: 10000, accuracy: 0.9459999800, average loss: 0.0019041835\n"
     ]
    },
    {
     "name": "stderr",
     "output_type": "stream",
     "text": [
      "391it [00:23, 16.68it/s]"
     ]
    },
    {
     "name": "stdout",
     "output_type": "stream",
     "text": [
      "Epoch 482 finished, average loss: 0.0000362361\n",
      "Starting testing\n"
     ]
    },
    {
     "name": "stderr",
     "output_type": "stream",
     "text": [
      "\n"
     ]
    },
    {
     "name": "stdout",
     "output_type": "stream",
     "text": [
      "Correct: 9458, total: 10000, accuracy: 0.9457999468, average loss: 0.0019956017\n"
     ]
    },
    {
     "name": "stderr",
     "output_type": "stream",
     "text": [
      "391it [00:23, 16.61it/s]"
     ]
    },
    {
     "name": "stdout",
     "output_type": "stream",
     "text": [
      "Epoch 483 finished, average loss: 0.0000521718\n",
      "Starting testing\n"
     ]
    },
    {
     "name": "stderr",
     "output_type": "stream",
     "text": [
      "\n"
     ]
    },
    {
     "name": "stdout",
     "output_type": "stream",
     "text": [
      "Correct: 9493, total: 10000, accuracy: 0.9492999911, average loss: 0.0019282803\n"
     ]
    },
    {
     "name": "stderr",
     "output_type": "stream",
     "text": [
      "391it [00:23, 16.57it/s]"
     ]
    },
    {
     "name": "stdout",
     "output_type": "stream",
     "text": [
      "Epoch 484 finished, average loss: 0.0000417963\n",
      "Starting testing\n"
     ]
    },
    {
     "name": "stderr",
     "output_type": "stream",
     "text": [
      "\n"
     ]
    },
    {
     "name": "stdout",
     "output_type": "stream",
     "text": [
      "Correct: 9475, total: 10000, accuracy: 0.9474999905, average loss: 0.0018632601\n"
     ]
    },
    {
     "name": "stderr",
     "output_type": "stream",
     "text": [
      "391it [00:23, 16.61it/s]"
     ]
    },
    {
     "name": "stdout",
     "output_type": "stream",
     "text": [
      "Epoch 485 finished, average loss: 0.0000436561\n",
      "Starting testing\n"
     ]
    },
    {
     "name": "stderr",
     "output_type": "stream",
     "text": [
      "\n"
     ]
    },
    {
     "name": "stdout",
     "output_type": "stream",
     "text": [
      "Correct: 9493, total: 10000, accuracy: 0.9492999911, average loss: 0.0018847250\n"
     ]
    },
    {
     "name": "stderr",
     "output_type": "stream",
     "text": [
      "391it [00:23, 16.66it/s]"
     ]
    },
    {
     "name": "stdout",
     "output_type": "stream",
     "text": [
      "Epoch 486 finished, average loss: 0.0000418399\n",
      "Starting testing\n"
     ]
    },
    {
     "name": "stderr",
     "output_type": "stream",
     "text": [
      "\n"
     ]
    },
    {
     "name": "stdout",
     "output_type": "stream",
     "text": [
      "Correct: 9477, total: 10000, accuracy: 0.9476999640, average loss: 0.0019088442\n"
     ]
    },
    {
     "name": "stderr",
     "output_type": "stream",
     "text": [
      "391it [00:23, 16.64it/s]"
     ]
    },
    {
     "name": "stdout",
     "output_type": "stream",
     "text": [
      "Epoch 487 finished, average loss: 0.0000382248\n",
      "Starting testing\n"
     ]
    },
    {
     "name": "stderr",
     "output_type": "stream",
     "text": [
      "\n"
     ]
    },
    {
     "name": "stdout",
     "output_type": "stream",
     "text": [
      "Correct: 9489, total: 10000, accuracy: 0.9488999844, average loss: 0.0018401108\n"
     ]
    },
    {
     "name": "stderr",
     "output_type": "stream",
     "text": [
      "391it [00:23, 16.56it/s]"
     ]
    },
    {
     "name": "stdout",
     "output_type": "stream",
     "text": [
      "Epoch 488 finished, average loss: 0.0000403242\n",
      "Starting testing\n"
     ]
    },
    {
     "name": "stderr",
     "output_type": "stream",
     "text": [
      "\n"
     ]
    },
    {
     "name": "stdout",
     "output_type": "stream",
     "text": [
      "Correct: 9479, total: 10000, accuracy: 0.9478999972, average loss: 0.0018982460\n"
     ]
    },
    {
     "name": "stderr",
     "output_type": "stream",
     "text": [
      "391it [00:23, 16.69it/s]"
     ]
    },
    {
     "name": "stdout",
     "output_type": "stream",
     "text": [
      "Epoch 489 finished, average loss: 0.0000387050\n",
      "Starting testing\n"
     ]
    },
    {
     "name": "stderr",
     "output_type": "stream",
     "text": [
      "\n"
     ]
    },
    {
     "name": "stdout",
     "output_type": "stream",
     "text": [
      "Correct: 9488, total: 10000, accuracy: 0.9487999678, average loss: 0.0018712866\n"
     ]
    },
    {
     "name": "stderr",
     "output_type": "stream",
     "text": [
      "391it [00:23, 16.68it/s]"
     ]
    },
    {
     "name": "stdout",
     "output_type": "stream",
     "text": [
      "Epoch 490 finished, average loss: 0.0000375268\n",
      "Starting testing\n"
     ]
    },
    {
     "name": "stderr",
     "output_type": "stream",
     "text": [
      "\n"
     ]
    },
    {
     "name": "stdout",
     "output_type": "stream",
     "text": [
      "Correct: 9485, total: 10000, accuracy: 0.9484999776, average loss: 0.0018947728\n"
     ]
    },
    {
     "name": "stderr",
     "output_type": "stream",
     "text": [
      "391it [00:23, 16.61it/s]"
     ]
    },
    {
     "name": "stdout",
     "output_type": "stream",
     "text": [
      "Epoch 491 finished, average loss: 0.0000430695\n",
      "Starting testing\n"
     ]
    },
    {
     "name": "stderr",
     "output_type": "stream",
     "text": [
      "\n"
     ]
    },
    {
     "name": "stdout",
     "output_type": "stream",
     "text": [
      "Correct: 9481, total: 10000, accuracy: 0.9480999708, average loss: 0.0018399486\n"
     ]
    },
    {
     "name": "stderr",
     "output_type": "stream",
     "text": [
      "391it [00:23, 16.60it/s]"
     ]
    },
    {
     "name": "stdout",
     "output_type": "stream",
     "text": [
      "Epoch 492 finished, average loss: 0.0000400013\n",
      "Starting testing\n"
     ]
    },
    {
     "name": "stderr",
     "output_type": "stream",
     "text": [
      "\n"
     ]
    },
    {
     "name": "stdout",
     "output_type": "stream",
     "text": [
      "Correct: 9479, total: 10000, accuracy: 0.9478999972, average loss: 0.0018955666\n"
     ]
    },
    {
     "name": "stderr",
     "output_type": "stream",
     "text": [
      "391it [00:23, 16.62it/s]"
     ]
    },
    {
     "name": "stdout",
     "output_type": "stream",
     "text": [
      "Epoch 493 finished, average loss: 0.0000412242\n",
      "Starting testing\n"
     ]
    },
    {
     "name": "stderr",
     "output_type": "stream",
     "text": [
      "\n"
     ]
    },
    {
     "name": "stdout",
     "output_type": "stream",
     "text": [
      "Correct: 9483, total: 10000, accuracy: 0.9483000040, average loss: 0.0018785657\n"
     ]
    },
    {
     "name": "stderr",
     "output_type": "stream",
     "text": [
      "391it [00:23, 16.63it/s]"
     ]
    },
    {
     "name": "stdout",
     "output_type": "stream",
     "text": [
      "Epoch 494 finished, average loss: 0.0000476670\n",
      "Starting testing\n"
     ]
    },
    {
     "name": "stderr",
     "output_type": "stream",
     "text": [
      "\n"
     ]
    },
    {
     "name": "stdout",
     "output_type": "stream",
     "text": [
      "Correct: 9468, total: 10000, accuracy: 0.9467999935, average loss: 0.0018859627\n"
     ]
    },
    {
     "name": "stderr",
     "output_type": "stream",
     "text": [
      "391it [00:23, 16.63it/s]"
     ]
    },
    {
     "name": "stdout",
     "output_type": "stream",
     "text": [
      "Epoch 495 finished, average loss: 0.0000394854\n",
      "Starting testing\n"
     ]
    },
    {
     "name": "stderr",
     "output_type": "stream",
     "text": [
      "\n"
     ]
    },
    {
     "name": "stdout",
     "output_type": "stream",
     "text": [
      "Correct: 9482, total: 10000, accuracy: 0.9481999874, average loss: 0.0019198692\n"
     ]
    },
    {
     "name": "stderr",
     "output_type": "stream",
     "text": [
      "391it [00:23, 16.61it/s]"
     ]
    },
    {
     "name": "stdout",
     "output_type": "stream",
     "text": [
      "Epoch 496 finished, average loss: 0.0000462760\n",
      "Starting testing\n"
     ]
    },
    {
     "name": "stderr",
     "output_type": "stream",
     "text": [
      "\n"
     ]
    },
    {
     "name": "stdout",
     "output_type": "stream",
     "text": [
      "Correct: 9485, total: 10000, accuracy: 0.9484999776, average loss: 0.0019147780\n"
     ]
    },
    {
     "name": "stderr",
     "output_type": "stream",
     "text": [
      "391it [00:23, 16.62it/s]"
     ]
    },
    {
     "name": "stdout",
     "output_type": "stream",
     "text": [
      "Epoch 497 finished, average loss: 0.0000385411\n",
      "Starting testing\n"
     ]
    },
    {
     "name": "stderr",
     "output_type": "stream",
     "text": [
      "\n"
     ]
    },
    {
     "name": "stdout",
     "output_type": "stream",
     "text": [
      "Correct: 9494, total: 10000, accuracy: 0.9493999481, average loss: 0.0018684693\n"
     ]
    },
    {
     "name": "stderr",
     "output_type": "stream",
     "text": [
      "391it [00:23, 16.62it/s]"
     ]
    },
    {
     "name": "stdout",
     "output_type": "stream",
     "text": [
      "Epoch 498 finished, average loss: 0.0000334665\n",
      "Starting testing\n"
     ]
    },
    {
     "name": "stderr",
     "output_type": "stream",
     "text": [
      "\n"
     ]
    },
    {
     "name": "stdout",
     "output_type": "stream",
     "text": [
      "Correct: 9478, total: 10000, accuracy: 0.9477999806, average loss: 0.0019312440\n"
     ]
    },
    {
     "name": "stderr",
     "output_type": "stream",
     "text": [
      "391it [00:23, 16.66it/s]"
     ]
    },
    {
     "name": "stdout",
     "output_type": "stream",
     "text": [
      "Epoch 499 finished, average loss: 0.0000608936\n",
      "Starting testing\n"
     ]
    },
    {
     "name": "stderr",
     "output_type": "stream",
     "text": [
      "\n"
     ]
    },
    {
     "name": "stdout",
     "output_type": "stream",
     "text": [
      "Correct: 9488, total: 10000, accuracy: 0.9487999678, average loss: 0.0019291129\n"
     ]
    },
    {
     "name": "stderr",
     "output_type": "stream",
     "text": [
      "391it [00:23, 16.65it/s]"
     ]
    },
    {
     "name": "stdout",
     "output_type": "stream",
     "text": [
      "Epoch 500 finished, average loss: 0.0000439086\n",
      "Starting testing\n"
     ]
    },
    {
     "name": "stderr",
     "output_type": "stream",
     "text": [
      "\n"
     ]
    },
    {
     "name": "stdout",
     "output_type": "stream",
     "text": [
      "Correct: 9484, total: 10000, accuracy: 0.9483999610, average loss: 0.0018595051\n",
      "CPU times: user 3h 25min 29s, sys: 4min 57s, total: 3h 30min 27s\n",
      "Wall time: 3h 34min 10s\n"
     ]
    }
   ],
   "source": [
    "%%time\n",
    "sgd_para = {\"lr\": 0.1, \"weight_decay\": 0.0001, \"momentum\": 0.9}\n",
    "lr_dict = {250: 0.1, 375: 0.01, 500: 0.001}\n",
    "\n",
    "# Trainer = NN_SGDTrainer(net,sgd_para, trainloader, testloader, {200:1e-3}, model_name + '.txt')\n",
    "Trainer = NN_SGDTrainer(\n",
    "    net,\n",
    "    sgd_para,\n",
    "    trainloader,\n",
    "    testloader,\n",
    "    lr_dict,\n",
    "    model_name + \".txt\",\n",
    ")\n",
    "\n",
    "for i in range(500):  # 100\n",
    "    Trainer.train()"
   ]
  },
  {
   "cell_type": "code",
   "execution_count": 7,
   "metadata": {},
   "outputs": [
    {
     "data": {
      "image/png": "[encoded data removed]",
      "text/plain": [
       "<Figure size 640x480 with 1 Axes>"
      ]
     },
     "metadata": {},
     "output_type": "display_data"
    },
    {
     "data": {
      "image/png": "[encoded data removed]",
      "text/plain": [
       "<Figure size 640x480 with 1 Axes>"
      ]
     },
     "metadata": {},
     "output_type": "display_data"
    }
   ],
   "source": [
    "with open(p) as f:\n",
    "    lines = f.read()\n",
    "\n",
    "data = re.findall(\n",
    "    r\"Epoch (\\d+) finished, average loss: (\\d+\\.\\d+)\\n[\\d\\- :\\.]*\\nStarting testing\\n[\\d\\- :\\.]*\\nCorrect: \\d+, total: \\d+, accuracy: (\\d+\\.\\d+), average loss: (\\d+\\.\\d+)\",\n",
    "    lines,\n",
    "    re.MULTILINE,\n",
    ")\n",
    "# print(len(data))\n",
    "# print(data)\n",
    "epochs = [int(x[0]) for x in data]\n",
    "losses = [float(x[1]) for x in data]\n",
    "accuracies = [float(x[2]) for x in data]\n",
    "test_losses = [float(x[3]) for x in data]\n",
    "\n",
    "results_mresnet164 = dict(epochs=epochs, losses=losses, accuracies=accuracies, test_losses=test_losses)\n",
    "\n",
    "fix, ax = plt.subplots()\n",
    "ax.plot(accuracies)\n",
    "ax.set_ylim(0, 1)\n",
    "plt.title(f\"{model_name} - Test accuracy {accuracies[-1]:.4f}\")\n",
    "plt.ylabel(\"Test Accuracy\")\n",
    "plt.xlabel(\"Epoch\")\n",
    "# ax.yaxis.set_major_locator(MultipleLocator(0.05))\n",
    "cmap = plt.get_cmap(\"Pastel1\")\n",
    "\n",
    "for color, (epoch, value) in zip([\"xkcd:purple\", \"xkcd:red\", \"xkcd:orange\"], lr_dict.items()):\n",
    "    plt.axvline(x=epoch, label=f\"lr: {value}\", linestyle=\":\", linewidth=1, c=color)\n",
    "    \n",
    "plt.legend()\n",
    "plt.show()\n",
    "\n",
    "fix, ax = plt.subplots()\n",
    "train_loss, = ax.plot(epochs, losses, label=\"Train loss\")\n",
    "test_loss, = ax.plot(epochs, test_losses, label=\"Test loss\")\n",
    "plt.title(f\"{model_name} - Loss\")\n",
    "plt.ylabel(\"Avg. loss\")\n",
    "plt.xlabel(\"Epoch\")\n",
    "first_legend = plt.legend(handles=[train_loss, test_loss])\n",
    "\n",
    "ax = plt.gca().add_artist(first_legend)\n",
    "\n",
    "lrhs = []\n",
    "for color, (epoch, value) in zip([\"xkcd:purple\", \"xkcd:red\", \"xkcd:orange\"], lr_dict.items()):\n",
    "    lr_h = plt.axvline(x=epoch, label=f\"lr: {value}\", linestyle=\":\", linewidth=1, c=color)\n",
    "    lrhs.append(lr_h)\n",
    "\n",
    "plt.legend(handles=lrhs)\n",
    "plt.show()"
   ]
  },
  {
   "cell_type": "code",
   "execution_count": 8,
   "metadata": {},
   "outputs": [],
   "source": [
    "with open(f\"{model_name}_ks.txt\", \"w\") as f:\n",
    "    for i, x in enumerate(net.ks, start=1):\n",
    "        f.write(f\"{i},{x.item()}\\n\") "
   ]
  },
  {
   "cell_type": "code",
   "execution_count": null,
   "metadata": {},
   "outputs": [],
   "source": []
  }
 ],
 "metadata": {
  "kernelspec": {
   "display_name": "Python 3 (ipykernel)",
   "language": "python",
   "name": "python3"
  },
  "language_info": {
   "codemirror_mode": {
    "name": "ipython",
    "version": 3
   },
   "file_extension": ".py",
   "mimetype": "text/x-python",
   "name": "python",
   "nbconvert_exporter": "python",
   "pygments_lexer": "ipython3",
   "version": "3.10.12"
  }
 },
 "nbformat": 4,
 "nbformat_minor": 4
}
